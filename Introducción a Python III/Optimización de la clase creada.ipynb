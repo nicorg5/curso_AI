{
 "cells": [
  {
   "cell_type": "markdown",
   "id": "ddafde4f",
   "metadata": {},
   "source": [
    "Ejercicio: Hay que coger las clases hechas de POO (archivo 'Ejercicio creación de una clase) y meter:\n",
    "- Datetime\n",
    "- Uso de un iterador usando next\n",
    "- Hacer una especie base de datos. Es decir, cada vez que se cree un objeto de la clase, se guarde \n",
    "dicho archivo (en un .csv o .json por ejemplo)\n",
    "- Recuperar los diferentes objetos creados del fichero (cada club creado). Usar lectura de archivos"
   ]
  },
  {
   "cell_type": "markdown",
   "id": "7fe08c1a",
   "metadata": {
    "tags": []
   },
   "source": [
    "# Definición de la clase padre e hijo"
   ]
  },
  {
   "cell_type": "code",
   "execution_count": 11,
   "id": "3a24d6ef",
   "metadata": {
    "tags": []
   },
   "outputs": [],
   "source": [
    "from abc import ABC, abstractmethod\n",
    "\n",
    "# Definición clase padre. Es un deporte de equipo\n",
    "class Deporte_equipo(ABC):\n",
    "    def __init__(self, deporte, descripcion):\n",
    "        self._deporte = deporte\n",
    "        self._descripcion = descripcion\n",
    "        \n",
    "    @abstractmethod\n",
    "    def fichar(self):\n",
    "        pass\n",
    "    \n",
    "    @abstractmethod\n",
    "    def vender(self):\n",
    "        pass"
   ]
  },
  {
   "cell_type": "code",
   "execution_count": 12,
   "id": "ce499c7a",
   "metadata": {
    "tags": []
   },
   "outputs": [],
   "source": [
    "# Definición de una clsae hija de Deporte_equipo\n",
    "class Club(Deporte_equipo):\n",
    "    def __init__(self, deporte, descripcion, nombre_equipo, ciudad, fecha_creacion_club, presidente, plantilla):\n",
    "        super().__init__(deporte, descripcion)\n",
    "        self.nombre_equipo = nombre_equipo\n",
    "        self.ciudad = ciudad\n",
    "        self.fecha_creacion_club = fecha_creacion_club\n",
    "        self.presidente = presidente\n",
    "        self.plantilla = plantilla\n",
    "        \n",
    "    def fichar(self, jugador):\n",
    "        if jugador not in self.plantilla:\n",
    "            self.plantilla.append(jugador)\n",
    "            return print(\"Fichando jugadores...\")\n",
    "        else:\n",
    "            return print(f\"{jugador} ya está en la plantilla\")\n",
    "    \n",
    "    def vender(self, jugador):\n",
    "        if jugador in self.plantilla:\n",
    "            self.plantilla.remove(jugador)\n",
    "            return print(\"Vendiendo jugadores...\")\n",
    "        else: \n",
    "            return print(f\"{jugador} no se encuentra en la plantilla\")  \n",
    "    \n",
    "    # método para crear un diccionario con la información del club\n",
    "    def informacion_general(self):\n",
    "        info = {\n",
    "        \"Deporte\": self._deporte,\n",
    "        \"Descripcion\": self._descripcion,\n",
    "        \"Club\": self.nombre_equipo,\n",
    "        \"Ciudad\": self.ciudad,\n",
    "        \"Fecha de creación del club\": self.fecha_creacion_club,\n",
    "        \"Presidente\": self.presidente,\n",
    "        \"Plantilla\": self.plantilla\n",
    "        }\n",
    "        return info\n",
    "    \n",
    "    # método para mostrar la información general del club\n",
    "    def muestra_informacion_general(self):\n",
    "        print(f\"Deporte: {self._deporte}\")\n",
    "        print(f\"Descripcion: {self._descripcion}\")\n",
    "        print(f\"Club: {self.nombre_equipo}\")\n",
    "        print(f\"Ciudad: {self.ciudad}\")\n",
    "        print(f\"Fecha de creación del club: {self.fecha_creacion_club}\")\n",
    "        print(f\"Presidente: {self.presidente}\")\n",
    "        print(\"Plantilla:\")\n",
    "        # Uso de un iterador para mostrar los jugadores de la plantilla\n",
    "        iterador_plantilla = iter(self.plantilla)\n",
    "        for i in range (len(self.plantilla)):\n",
    "            print(next(iterador_plantilla))"
   ]
  },
  {
   "cell_type": "markdown",
   "id": "608e9799",
   "metadata": {},
   "source": [
    "# Uso de la clase padre e hijo"
   ]
  },
  {
   "cell_type": "code",
   "execution_count": 13,
   "id": "4fc0e71a",
   "metadata": {
    "tags": []
   },
   "outputs": [
    {
     "name": "stdout",
     "output_type": "stream",
     "text": [
      "Fichando jugadores...\n",
      "Fichando jugadores...\n",
      "Deporte: Fútbol\n",
      "Descripcion: Deporte 11 vs 11 en el que hay que meter el balón en la portería contraria\n",
      "Club: Real Madrid\n",
      "Ciudad: Madrid\n",
      "Fecha de creación del club: 1902-03-06 00:00:00\n",
      "Presidente: Florentino Pérez\n",
      "Plantilla:\n",
      "Kepa\n",
      "Carvajal\n",
      "Vinicius\n",
      "Iago Aspas\n",
      "Mbappe\n"
     ]
    },
    {
     "data": {
      "text/plain": [
       "{'Deporte': 'Fútbol',\n",
       " 'Descripcion': 'Deporte 11 vs 11 en el que hay que meter el balón en la portería contraria',\n",
       " 'Club': 'Real Madrid',\n",
       " 'Ciudad': 'Madrid',\n",
       " 'Fecha de creación del club': datetime.datetime(1902, 3, 6, 0, 0),\n",
       " 'Presidente': 'Florentino Pérez',\n",
       " 'Plantilla': ['Kepa', 'Carvajal', 'Vinicius', 'Iago Aspas', 'Mbappe']}"
      ]
     },
     "execution_count": 13,
     "metadata": {},
     "output_type": "execute_result"
    }
   ],
   "source": [
    "# Ejemplo de uso\n",
    "from datetime import datetime\n",
    "\n",
    "fecha_creacion_madrid = datetime(1902, 3, 6)\n",
    "real_madrid = Club(\"Fútbol\", \"Deporte 11 vs 11 en el que hay que meter el balón en la portería contraria\", \"Real Madrid\", \"Madrid\", fecha_creacion_madrid ,\"Florentino Pérez\", [\"Kepa\", \"Carvajal\", \"Vinicius\"])\n",
    "\n",
    "# Fichar jugadores\n",
    "real_madrid.fichar(\"Iago Aspas\")\n",
    "real_madrid.fichar(\"Mbappe\")\n",
    "\n",
    "# Mostrar la información general del Real Madrid\n",
    "real_madrid.muestra_informacion_general()\n",
    "\n",
    "# Mostrar el diccionario creado con la información del Real Madrid\n",
    "real_madrid.informacion_general()"
   ]
  },
  {
   "cell_type": "code",
   "execution_count": 14,
   "id": "a733fb27",
   "metadata": {
    "tags": []
   },
   "outputs": [
    {
     "name": "stdout",
     "output_type": "stream",
     "text": [
      "Fichando jugadores...\n",
      "Vendiendo jugadores...\n",
      "Deporte: Baloncesto\n",
      "Descripcion: Deporte 5 vs 5 que consiste en introducir un balón, que dará punto, en un aro ubicado a 3 metros de altura.\n",
      "Club: Bilbao Basket\n",
      "Ciudad: Bilbao\n",
      "Fecha de creación del club: 2000-04-07 00:00:00\n",
      "Presidente: Jon Uriarte\n",
      "Plantilla:\n",
      "Adam Smith\n",
      "Tomeu Rigo\n",
      "Alex Reyes\n",
      "Xabi Rabaseda\n"
     ]
    },
    {
     "data": {
      "text/plain": [
       "{'Deporte': 'Baloncesto',\n",
       " 'Descripcion': 'Deporte 5 vs 5 que consiste en introducir un balón, que dará punto, en un aro ubicado a 3 metros de altura.',\n",
       " 'Club': 'Bilbao Basket',\n",
       " 'Ciudad': 'Bilbao',\n",
       " 'Fecha de creación del club': datetime.datetime(2000, 4, 7, 0, 0),\n",
       " 'Presidente': 'Jon Uriarte',\n",
       " 'Plantilla': ['Adam Smith', 'Tomeu Rigo', 'Alex Reyes', 'Xabi Rabaseda']}"
      ]
     },
     "execution_count": 14,
     "metadata": {},
     "output_type": "execute_result"
    }
   ],
   "source": [
    "# Otro ejemplo de uso\n",
    "\n",
    "fecha_creacion_bilbao_basket = datetime(2000, 4, 7)\n",
    "\n",
    "bilbao_basket = Club(\"Baloncesto\", \"Deporte 5 vs 5 que consiste en introducir un balón, que dará punto, en un aro ubicado a 3 metros de altura.\", \"Bilbao Basket\", \"Bilbao\", fecha_creacion_bilbao_basket ,\"Jon Uriarte\", [\"Adam Smith\", \"Tomeu Rigo\", \"Alex Reyes\", \"Sergio Llull\"])\n",
    "\n",
    "# Fichar jugadores\n",
    "bilbao_basket.fichar(\"Xabi Rabaseda\")\n",
    "bilbao_basket.vender(\"Sergio Llull\")\n",
    "\n",
    "# Mostrar la información general del Bilbao Basket\n",
    "bilbao_basket.muestra_informacion_general()\n",
    "\n",
    "# Mostrar el diccionario creado con la información del Bilbao Basket\n",
    "bilbao_basket.informacion_general()"
   ]
  },
  {
   "cell_type": "markdown",
   "id": "79c60ff8",
   "metadata": {},
   "source": [
    "# Creación y guardado de los objetos en un archivo .csv"
   ]
  },
  {
   "cell_type": "code",
   "execution_count": 15,
   "id": "b52da840",
   "metadata": {
    "tags": []
   },
   "outputs": [],
   "source": [
    "# Función para guardar el objeto en un archivo .csv\n",
    "import csv\n",
    "def guardar_en_csv(objeto, nombre_archivo):\n",
    "    with open(nombre_archivo, 'a',  encoding='utf-8') as archivo_csv:\n",
    "        campos = list(objeto.informacion_general().keys())\n",
    "        writer = csv.DictWriter(archivo_csv, fieldnames=campos)\n",
    "        \n",
    "        # Verificar si el archivo está vacío y escribir encabezados si es necesario:\n",
    "        if archivo_csv.tell() == 0:\n",
    "            writer.writeheader()\n",
    "            \n",
    "        writer.writerow(objeto.informacion_general())\n",
    "        \n",
    "    return \"Objeto guardado exitosamente en el archivo CSV.\""
   ]
  },
  {
   "cell_type": "code",
   "execution_count": 16,
   "id": "84c87a6c",
   "metadata": {
    "tags": []
   },
   "outputs": [
    {
     "name": "stdout",
     "output_type": "stream",
     "text": [
      "Objeto guardado exitosamente en el archivo CSV.\n"
     ]
    }
   ],
   "source": [
    "# Ejemplo de uso de la función guardar_en_csv para guardar el club Real Madrid:\n",
    "\n",
    "print(guardar_en_csv(real_madrid, \"base_datos_clubs.csv\"))"
   ]
  },
  {
   "cell_type": "code",
   "execution_count": 17,
   "id": "529cb00f",
   "metadata": {
    "tags": []
   },
   "outputs": [
    {
     "data": {
      "text/plain": [
       "'Objeto guardado exitosamente en el archivo CSV.'"
      ]
     },
     "execution_count": 17,
     "metadata": {},
     "output_type": "execute_result"
    }
   ],
   "source": [
    "# Ejemplo de uso de la función guardar_en_csv para guardar el club Bilbao Basket:\n",
    "\n",
    "guardar_en_csv(bilbao_basket, \"base_datos_clubs.csv\")"
   ]
  },
  {
   "cell_type": "code",
   "execution_count": 18,
   "id": "a04a0a41",
   "metadata": {
    "tags": []
   },
   "outputs": [],
   "source": [
    "# Función para leer los datos del .csv y guardarlos en una lista\n",
    "\n",
    "def leer_csv(nombre_archivo):\n",
    "    datos = []\n",
    "    with open(nombre_archivo, 'r', encoding='utf-8') as archivo_csv:\n",
    "        reader = csv.DictReader(archivo_csv)\n",
    "        for row in reader:\n",
    "            datos.append(row)\n",
    "    return datos"
   ]
  },
  {
   "cell_type": "code",
   "execution_count": 19,
   "id": "d13cf555",
   "metadata": {
    "tags": []
   },
   "outputs": [
    {
     "name": "stdout",
     "output_type": "stream",
     "text": [
      "[{'Deporte': 'Fútbol', 'Descripcion': 'Deporte 11 vs 11 en el que hay que meter el balón en la portería contraria', 'Club': 'Real Madrid', 'Ciudad': 'Madrid', 'Fecha de creación del club': '1902-03-06 00:00:00', 'Presidente': 'Florentino Pérez', 'Plantilla': \"['Kepa', 'Carvajal', 'Vinicius', 'Iago Aspas', 'Mbappe']\"}, {'Deporte': 'Baloncesto', 'Descripcion': 'Deporte 5 vs 5 que consiste en introducir un balón, que dará punto, en un aro ubicado a 3 metros de altura.', 'Club': 'Bilbao Basket', 'Ciudad': 'Bilbao', 'Fecha de creación del club': '2000-04-07 00:00:00', 'Presidente': 'Jon Uriarte', 'Plantilla': \"['Adam Smith', 'Tomeu Rigo', 'Alex Reyes', 'Xabi Rabaseda']\"}]\n"
     ]
    }
   ],
   "source": [
    "# Ejemplo de uso de la función leer_csv\n",
    "\n",
    "nombre_archivo = \"base_datos_clubs.csv\"\n",
    "datos_leidos = leer_csv(nombre_archivo)\n",
    "print(datos_leidos)"
   ]
  },
  {
   "cell_type": "code",
   "execution_count": 20,
   "id": "74cc4220",
   "metadata": {
    "tags": []
   },
   "outputs": [
    {
     "data": {
      "text/html": [
       "<div>\n",
       "<style scoped>\n",
       "    .dataframe tbody tr th:only-of-type {\n",
       "        vertical-align: middle;\n",
       "    }\n",
       "\n",
       "    .dataframe tbody tr th {\n",
       "        vertical-align: top;\n",
       "    }\n",
       "\n",
       "    .dataframe thead th {\n",
       "        text-align: right;\n",
       "    }\n",
       "</style>\n",
       "<table border=\"1\" class=\"dataframe\">\n",
       "  <thead>\n",
       "    <tr style=\"text-align: right;\">\n",
       "      <th></th>\n",
       "      <th>Deporte</th>\n",
       "      <th>Descripcion</th>\n",
       "      <th>Club</th>\n",
       "      <th>Ciudad</th>\n",
       "      <th>Fecha de creación del club</th>\n",
       "      <th>Presidente</th>\n",
       "      <th>Plantilla</th>\n",
       "    </tr>\n",
       "  </thead>\n",
       "  <tbody>\n",
       "    <tr>\n",
       "      <th>0</th>\n",
       "      <td>Fútbol</td>\n",
       "      <td>Deporte 11 vs 11 en el que hay que meter el ba...</td>\n",
       "      <td>Real Madrid</td>\n",
       "      <td>Madrid</td>\n",
       "      <td>1902-03-06 00:00:00</td>\n",
       "      <td>Florentino Pérez</td>\n",
       "      <td>['Kepa', 'Carvajal', 'Vinicius', 'Iago Aspas',...</td>\n",
       "    </tr>\n",
       "    <tr>\n",
       "      <th>1</th>\n",
       "      <td>Baloncesto</td>\n",
       "      <td>Deporte 5 vs 5 que consiste en introducir un b...</td>\n",
       "      <td>Bilbao Basket</td>\n",
       "      <td>Bilbao</td>\n",
       "      <td>2000-04-07 00:00:00</td>\n",
       "      <td>Jon Uriarte</td>\n",
       "      <td>['Adam Smith', 'Tomeu Rigo', 'Alex Reyes', 'Xa...</td>\n",
       "    </tr>\n",
       "  </tbody>\n",
       "</table>\n",
       "</div>"
      ],
      "text/plain": [
       "      Deporte                                        Descripcion  \\\n",
       "0      Fútbol  Deporte 11 vs 11 en el que hay que meter el ba...   \n",
       "1  Baloncesto  Deporte 5 vs 5 que consiste en introducir un b...   \n",
       "\n",
       "            Club  Ciudad Fecha de creación del club        Presidente  \\\n",
       "0    Real Madrid  Madrid        1902-03-06 00:00:00  Florentino Pérez   \n",
       "1  Bilbao Basket  Bilbao        2000-04-07 00:00:00       Jon Uriarte   \n",
       "\n",
       "                                           Plantilla  \n",
       "0  ['Kepa', 'Carvajal', 'Vinicius', 'Iago Aspas',...  \n",
       "1  ['Adam Smith', 'Tomeu Rigo', 'Alex Reyes', 'Xa...  "
      ]
     },
     "execution_count": 20,
     "metadata": {},
     "output_type": "execute_result"
    }
   ],
   "source": [
    "# Uso de pandas para mostrar los datos del .csv en un DataFrame\n",
    "import pandas as pd\n",
    "\n",
    "base_datos_clubs = pd.read_csv(\"base_datos_clubs.csv\")\n",
    "base_datos_clubs"
   ]
  }
 ],
 "metadata": {
  "kernelspec": {
   "display_name": "Python 3 (ipykernel)",
   "language": "python",
   "name": "python3"
  },
  "language_info": {
   "codemirror_mode": {
    "name": "ipython",
    "version": 3
   },
   "file_extension": ".py",
   "mimetype": "text/x-python",
   "name": "python",
   "nbconvert_exporter": "python",
   "pygments_lexer": "ipython3",
   "version": "3.11.5"
  }
 },
 "nbformat": 4,
 "nbformat_minor": 5
}
