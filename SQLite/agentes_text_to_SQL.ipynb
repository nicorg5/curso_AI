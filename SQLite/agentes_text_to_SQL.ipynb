{
 "cells": [
  {
   "cell_type": "code",
   "execution_count": 6,
   "id": "7d7ab4dc-9b53-4af3-8a15-356d91963095",
   "metadata": {
    "scrolled": true
   },
   "outputs": [
    {
     "name": "stdout",
     "output_type": "stream",
     "text": [
      "Collecting langchainhub\n",
      "  Downloading langchainhub-0.1.14-py3-none-any.whl.metadata (478 bytes)\n",
      "Requirement already satisfied: requests<3,>=2 in /Users/n.c.rodriguez/anaconda3/envs/nico/lib/python3.10/site-packages (from langchainhub) (2.31.0)\n",
      "Collecting types-requests<3.0.0.0,>=2.31.0.2 (from langchainhub)\n",
      "  Downloading types_requests-2.31.0.20240125-py3-none-any.whl.metadata (1.8 kB)\n",
      "Requirement already satisfied: charset-normalizer<4,>=2 in /Users/n.c.rodriguez/anaconda3/envs/nico/lib/python3.10/site-packages (from requests<3,>=2->langchainhub) (2.0.4)\n",
      "Requirement already satisfied: idna<4,>=2.5 in /Users/n.c.rodriguez/anaconda3/envs/nico/lib/python3.10/site-packages (from requests<3,>=2->langchainhub) (3.4)\n",
      "Requirement already satisfied: urllib3<3,>=1.21.1 in /Users/n.c.rodriguez/anaconda3/envs/nico/lib/python3.10/site-packages (from requests<3,>=2->langchainhub) (2.1.0)\n",
      "Requirement already satisfied: certifi>=2017.4.17 in /Users/n.c.rodriguez/anaconda3/envs/nico/lib/python3.10/site-packages (from requests<3,>=2->langchainhub) (2023.11.17)\n",
      "Downloading langchainhub-0.1.14-py3-none-any.whl (3.4 kB)\n",
      "Downloading types_requests-2.31.0.20240125-py3-none-any.whl (14 kB)\n",
      "Installing collected packages: types-requests, langchainhub\n",
      "Successfully installed langchainhub-0.1.14 types-requests-2.31.0.20240125\n"
     ]
    }
   ],
   "source": [
    "!pip install langchainhub"
   ]
  },
  {
   "cell_type": "code",
   "execution_count": 4,
   "id": "2260d146-e6c9-4d36-b42a-201b8c2fff0b",
   "metadata": {},
   "outputs": [],
   "source": [
    "from langchain.utilities import SQLDatabase\n",
    "from langchain_openai import ChatOpenAI\n",
    "from langchain.schema.output_parser import StrOutputParser\n",
    "from langchain import hub\n",
    "\n",
    "import os\n",
    "from dotenv import load_dotenv"
   ]
  },
  {
   "cell_type": "code",
   "execution_count": 5,
   "id": "dc38b85f-bdef-4397-9149-3ab4b126b204",
   "metadata": {},
   "outputs": [
    {
     "name": "stderr",
     "output_type": "stream",
     "text": [
      "Python-dotenv could not parse statement starting at line 10\n",
      "Python-dotenv could not parse statement starting at line 13\n",
      "Python-dotenv could not parse statement starting at line 14\n",
      "Python-dotenv could not parse statement starting at line 15\n",
      "Python-dotenv could not parse statement starting at line 17\n"
     ]
    }
   ],
   "source": [
    "# Cargar variables de entorno\n",
    "load_dotenv()\n",
    "\n",
    "# Configurar el motor de OpenAI\n",
    "model = ChatOpenAI(openai_api_key=os.getenv(\"OPENAI_API_KEY\"))"
   ]
  },
  {
   "cell_type": "code",
   "execution_count": 2,
   "id": "3f2ead91-b555-44ab-bea0-d8cba10ad0f3",
   "metadata": {},
   "outputs": [],
   "source": [
    "# Inicializamos db\n",
    "db = SQLDatabase.from_uri(\"sqlite:///chinook.db\")"
   ]
  },
  {
   "cell_type": "code",
   "execution_count": 7,
   "id": "01defe95-ab31-4cc0-9264-bd3efa0b91bf",
   "metadata": {},
   "outputs": [],
   "source": [
    "# Pull down prompt\n",
    "prompt = hub.pull(\"rlm/text-to-sql\")"
   ]
  },
  {
   "cell_type": "code",
   "execution_count": 8,
   "id": "edb035c2-9bc1-4998-aa28-f8760f5e670b",
   "metadata": {},
   "outputs": [
    {
     "data": {
      "text/plain": [
       "'SQLQuery: \"SELECT country, SUM(total) as total_sales FROM invoices JOIN customers ON invoices.customer_id = customers.customer_id GROUP BY country ORDER BY total_sales DESC LIMIT 1\"'"
      ]
     },
     "execution_count": 8,
     "metadata": {},
     "output_type": "execute_result"
    }
   ],
   "source": [
    "# Crear chain con LangChain Expression Language\n",
    "inputs = {\n",
    "    \"table_info\": lambda x: db.get_table_info(),\n",
    "    \"input\": lambda x: x[\"question\"],\n",
    "    \"few_shot_examples\": lambda x: \"\",\n",
    "    \"dialect\": lambda x: db.dialect,\n",
    "}\n",
    "sql_response = (\n",
    "    inputs\n",
    "    | prompt\n",
    "    | model.bind(stop=[\"\\nSQLResult:\"])\n",
    "    | StrOutputParser()\n",
    ")\n",
    "\n",
    "# Call with a given question\n",
    "sql_response.invoke({\"question\": \"Enumera las ventas totales por país. ¿Los clientes de qué país gastaron más?\"})"
   ]
  },
  {
   "cell_type": "code",
   "execution_count": 9,
   "id": "166e4c54-ed68-401f-b8c7-b654fcbad60f",
   "metadata": {},
   "outputs": [
    {
     "data": {
      "text/plain": [
       "'SQLQuery: SELECT pais, COUNT(*) AS num_artistas FROM artistas GROUP BY pais ORDER BY num_artistas DESC LIMIT 1;'"
      ]
     },
     "execution_count": 9,
     "metadata": {},
     "output_type": "execute_result"
    }
   ],
   "source": [
    "# Call with a given question\n",
    "sql_response.invoke({\"question\": \"¿De qué país hay más artistas?\"})"
   ]
  },
  {
   "cell_type": "code",
   "execution_count": null,
   "id": "d2652ab7-a428-4cf4-a60c-a9fa308e01b6",
   "metadata": {},
   "outputs": [],
   "source": []
  }
 ],
 "metadata": {
  "kernelspec": {
   "display_name": "Python 3 (ipykernel)",
   "language": "python",
   "name": "python3"
  },
  "language_info": {
   "codemirror_mode": {
    "name": "ipython",
    "version": 3
   },
   "file_extension": ".py",
   "mimetype": "text/x-python",
   "name": "python",
   "nbconvert_exporter": "python",
   "pygments_lexer": "ipython3",
   "version": "3.10.9"
  }
 },
 "nbformat": 4,
 "nbformat_minor": 5
}
