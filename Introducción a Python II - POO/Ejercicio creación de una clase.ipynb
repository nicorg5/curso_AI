{
 "cells": [
  {
   "cell_type": "markdown",
   "id": "458d377f",
   "metadata": {},
   "source": [
    "# Ejercicio: \n",
    "Crear una clase padre sobre un tema a elegir. Debe tener al menos un método abstracto y que tenga propiedades privadas y públicas"
   ]
  },
  {
   "cell_type": "markdown",
   "id": "b654b63c",
   "metadata": {},
   "source": [
    "- Clase padre: deporte_equipo\n",
    "    - Atributos: deporte, descripción, siglo_creacion (privada)\n",
    "    - Métodos abstractos: fichar, vender\n",
    "- Clase hija: club\n",
    "    - Atributos: deporte, descripción, siglo_creacion, nombre_equipo, ciudad, presidente, plantilla\n",
    "    - Método: fichar, vender e informacion_general"
   ]
  },
  {
   "cell_type": "code",
   "execution_count": 71,
   "id": "c72b36a0",
   "metadata": {},
   "outputs": [],
   "source": [
    "from abc import ABC, abstractmethod\n",
    "\n",
    "class Deporte_equipo(ABC):\n",
    "    def __init__(self, deporte, descripcion):\n",
    "        self._deporte = deporte\n",
    "        self._descripcion = descripcion\n",
    "        self._siglo_creacion = 'XX'\n",
    "        \n",
    "    @abstractmethod\n",
    "    def fichar(self):\n",
    "        pass\n",
    "    \n",
    "    @abstractmethod\n",
    "    def vender(self):\n",
    "        pass"
   ]
  },
  {
   "cell_type": "code",
   "execution_count": 72,
   "id": "fc9bb4c7",
   "metadata": {},
   "outputs": [],
   "source": [
    "class Club(Deporte_equipo):\n",
    "    def __init__(self, deporte, descripcion, siglo_creacion, nombre_equipo, ciudad, presidente, plantilla):\n",
    "        super().__init__(deporte, descripcion)\n",
    "        self.nombre_equipo = nombre_equipo\n",
    "        self.ciudad = ciudad\n",
    "        self.presidente = presidente\n",
    "        self.plantilla = plantilla\n",
    "        \n",
    "    def fichar(self, jugador):\n",
    "        if jugador not in self.plantilla:\n",
    "            self.plantilla.append(jugador)\n",
    "            return print(\"Fichando jugadores...\")\n",
    "        else:\n",
    "            return print(f\"{jugador} ya está en la plantilla\")\n",
    "    \n",
    "    def vender(self, jugador):\n",
    "        if jugador in self.plantilla:\n",
    "            self.plantilla.remove(jugador)\n",
    "            return print(\"Vendiendo jugadores...\")\n",
    "        else: \n",
    "            return print(f\"{jugador} no se encuentra en la plantilla\")\n",
    "        \n",
    "    def informacion_general(self):\n",
    "        print(f\"Deporte: {self._deporte}\")\n",
    "        print(f\"Descripcion: {self._descripcion}\")\n",
    "        print(f\"Siglo de creación del deporte: {self._siglo_creacion}\")\n",
    "        print(f\"Club: {self.nombre_equipo}\")\n",
    "        print(f\"Ciudad: {self.ciudad}\")\n",
    "        print(f\"Presidente: {self.presidente}\")\n",
    "        print(\"Plantilla:\")\n",
    "        for jugador in self.plantilla:\n",
    "            print(f\"- {jugador}\")"
   ]
  },
  {
   "cell_type": "code",
   "execution_count": 73,
   "id": "9a31d17e",
   "metadata": {},
   "outputs": [
    {
     "name": "stdout",
     "output_type": "stream",
     "text": [
      "Fichando jugadores...\n",
      "Fichando jugadores...\n",
      "Deporte: Fútbol\n",
      "Descripcion: Deporte 11 vs 11 en el que hay que meter el balón en la portería contraria\n",
      "Siglo de creación del deporte: XX\n",
      "Club: Real Madrid\n",
      "Ciudad: Madrid\n",
      "Presidente: Florentino Pérez\n",
      "Plantilla:\n",
      "- Kepa\n",
      "- Carvajal\n",
      "- Vinicius\n",
      "- Iago Aspas\n",
      "- Mbappe\n"
     ]
    }
   ],
   "source": [
    "# Ejemplo de uso\n",
    "real_madrid = Club(\"Fútbol\", \"Deporte 11 vs 11 en el que hay que meter el balón en la portería contraria\", \"XX\", \"Real Madrid\", \"Madrid\", \"Florentino Pérez\", [\"Kepa\", \"Carvajal\", \"Vinicius\"])\n",
    "\n",
    "# Fichar jugadores\n",
    "real_madrid.fichar(\"Iago Aspas\")\n",
    "real_madrid.fichar(\"Mbappe\")\n",
    "\n",
    "# Mostrar información general del club\n",
    "real_madrid.informacion_general()"
   ]
  }
 ],
 "metadata": {
  "kernelspec": {
   "display_name": "Python 3 (ipykernel)",
   "language": "python",
   "name": "python3"
  },
  "language_info": {
   "codemirror_mode": {
    "name": "ipython",
    "version": 3
   },
   "file_extension": ".py",
   "mimetype": "text/x-python",
   "name": "python",
   "nbconvert_exporter": "python",
   "pygments_lexer": "ipython3",
   "version": "3.11.5"
  }
 },
 "nbformat": 4,
 "nbformat_minor": 5
}
