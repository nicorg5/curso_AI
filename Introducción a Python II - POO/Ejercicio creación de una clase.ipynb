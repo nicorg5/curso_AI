{
 "cells": [
  {
   "cell_type": "markdown",
   "id": "56fbb58b",
   "metadata": {},
   "source": [
    "# Ejercicio: \n",
    "Crear una clase padre sobre un tema a elegir. Debe tener al menos un método abstracto y que tenga propiedades privadas y públicas"
   ]
  },
  {
   "cell_type": "markdown",
   "id": "a36fac5b",
   "metadata": {},
   "source": [
    "- Clase padre: deporte_equipo\n",
    "    - Atributos: nombre, descripción, siglo_creacion (privada)\n",
    "    - Métodos abstractos: fichar, vender\n",
    "- Clase hija: club\n",
    "    - Atributos: nombre, ciudad, presidente, plantilla\n",
    "    - Método: fichar, vender"
   ]
  },
  {
   "cell_type": "code",
   "execution_count": 47,
   "id": "c4a87142",
   "metadata": {},
   "outputs": [],
   "source": [
    "from abc import ABC, abstractmethod\n",
    "\n",
    "class Deporte_equipo(ABC):\n",
    "    def __init__(self, nombre):\n",
    "        self._nombre = nombre\n",
    "        self.descripcion = descripcion\n",
    "        self._siglo_creacion = 'XX'\n",
    "        \n",
    "    @abstractmethod\n",
    "    def fichar(self):\n",
    "        pass\n",
    "    \n",
    "    @abstractmethod\n",
    "    def vender(self):\n",
    "        pass"
   ]
  },
  {
   "cell_type": "code",
   "execution_count": 48,
   "id": "ba890865",
   "metadata": {},
   "outputs": [],
   "source": [
    "class Club(Deporte_equipo):\n",
    "    def __init__(self, nombre_equipo, ciudad, presidente, plantilla):\n",
    "        self.nombre_equipo = nombre_equipo\n",
    "        self.ciudad = ciudad\n",
    "        self.presidente = presidente\n",
    "        self.plantilla = plantilla\n",
    "        \n",
    "    def fichar(self, jugador):\n",
    "        if jugador not in self.plantilla:\n",
    "            self.plantilla.append(jugador)\n",
    "            return print(\"Fichando jugadores...\")\n",
    "        else:\n",
    "            return print(f\"{jugador} ya está en la plantilla\")\n",
    "    \n",
    "    def vender(self, jugador):\n",
    "        if jugador in self.plantilla:\n",
    "            self.plantilla.remove(jugador)\n",
    "            return print(\"Vendiendo jugadores...\")\n",
    "        else: \n",
    "            return print(f\"{jugador} no se encuentra en la plantilla\")\n",
    "        \n",
    "    def informacion_general(self):\n",
    "        print(f\"Club: {self.nombre_equipo}\")\n",
    "        print(f\"Ciudad: {self.ciudad}\")\n",
    "        print(f\"Presidente: {self.presidente}\")\n",
    "        print(\"Plantilla:\")\n",
    "        for jugador in self.plantilla:\n",
    "            print(f\"- {jugador}\")"
   ]
  },
  {
   "cell_type": "code",
   "execution_count": 49,
   "id": "ed7ecea3",
   "metadata": {},
   "outputs": [
    {
     "name": "stdout",
     "output_type": "stream",
     "text": [
      "Fichando jugadores...\n",
      "Fichando jugadores...\n",
      "Club: Real Madrid\n",
      "Ciudad: Madrid\n",
      "Presidente: Florentino Pérez\n",
      "Plantilla:\n",
      "- Kepa\n",
      "- Carvajal\n",
      "- Vinicius\n",
      "- Iago Aspas\n",
      "- Mbappe\n"
     ]
    }
   ],
   "source": [
    "# Ejemplo de uso\n",
    "real_madrid = Club(\"Real Madrid\", \"Madrid\", \"Florentino Pérez\", [\"Kepa\", \"Carvajal\", \"Vinicius\"])\n",
    "\n",
    "# Fichar jugadores\n",
    "real_madrid.fichar(\"Iago Aspas\")\n",
    "real_madrid.fichar(\"Mbappe\")\n",
    "\n",
    "# Mostrar información general del club\n",
    "real_madrid.informacion_general()"
   ]
  }
 ],
 "metadata": {
  "kernelspec": {
   "display_name": "Python 3 (ipykernel)",
   "language": "python",
   "name": "python3"
  },
  "language_info": {
   "codemirror_mode": {
    "name": "ipython",
    "version": 3
   },
   "file_extension": ".py",
   "mimetype": "text/x-python",
   "name": "python",
   "nbconvert_exporter": "python",
   "pygments_lexer": "ipython3",
   "version": "3.11.5"
  }
 },
 "nbformat": 4,
 "nbformat_minor": 5
}
