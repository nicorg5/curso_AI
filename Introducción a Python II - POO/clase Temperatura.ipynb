{
 "cells": [
  {
   "cell_type": "code",
   "execution_count": 8,
   "id": "0ad9df95",
   "metadata": {},
   "outputs": [],
   "source": [
    "class Termometro:\n",
    "    \"\"\"\n",
    "    Clase Termometro para representar y convertir temperaturas entre las escalas Fahrenheit, Celsius y Kelvin.\n",
    "    Métodos:\n",
    "    celsius: Obtiene o establece la temperatura en grados Celsius.\n",
    "    fahrenheit: Obtiene o establece la temperatura en grados Fahrenheit.\n",
    "    kelvin: Obtiene o establece la temperatura en Kelvin.\n",
    "    \"\"\"\n",
    "\n",
    "    def __init__(self, temperatura=0, escala='celsius'):\n",
    "        \"\"\"\n",
    "        Inicializa el Termometro con una temperatura en la escala dada.\n",
    "        La escala por defecto es Celsius.\n",
    "        Args:\n",
    "        temperatura (float): Valor inicial de la temperatura.\n",
    "        escala (str): Escala de la temperatura inicial ('celsius', 'fahrenheit', 'kelvin').\n",
    "        \"\"\"\n",
    "        self._temperatura = {'celsius': None, 'fahrenheit': None, 'kelvin': None} \n",
    "        setattr(self, escala, temperatura)\n",
    "    \n",
    "    @property\n",
    "    def celsius(self):\n",
    "        \"\"\"Obtiene la temperatura en grados Celsius.\"\"\" \n",
    "        return self._temperatura['celsius']\n",
    "\n",
    "    @celsius.setter\n",
    "    def celsius(self, value):\n",
    "        \"\"\"Establece la temperatura en grados Celsius y actualiza las demás escalas.\"\"\" \n",
    "        self._temperatura['celsius'] = value\n",
    "        self._temperatura['fahrenheit'] = (value * 9/5) + 32\n",
    "        self._temperatura['kelvin'] = value + 273.15\n",
    "\n",
    "    @property\n",
    "    def fahrenheit(self):\n",
    "        \"\"\"Obtiene la temperatura en grados Fahrenheit.\"\"\"\n",
    "        return self._temperatura['fahrenheit']\n",
    "\n",
    "    @fahrenheit.setter\n",
    "    def fahrenheit(self, value):\n",
    "        \"\"\"Establece la temperatura en grados Fahrenheit y actualiza las demás escalas.\"\"\" \n",
    "        self._temperatura['fahrenheit'] = value\n",
    "        self._temperatura['celsius'] = (value - 32) * 5/9\n",
    "        self._temperatura['kelvin'] = (value + 459.67) * 5/9\n",
    "\n",
    "    @property\n",
    "    def kelvin(self):\n",
    "        \"\"\"Obtiene la temperatura en Kelvin.\"\"\"\n",
    "        return self._temperatura['kelvin']\n",
    "\n",
    "    @kelvin.setter\n",
    "    def kelvin(self, value):\n",
    "        \"\"\"Establece la temperatura en Kelvin y actualiza las demás escalas.\"\"\" \n",
    "        self._temperatura['kelvin'] = value\n",
    "        self._temperatura['celsius'] = value - 273.15 \n",
    "        self._temperatura['fahrenheit'] = (value * 9/5) - 459.67"
   ]
  },
  {
   "cell_type": "code",
   "execution_count": 10,
   "id": "38ea4c77",
   "metadata": {},
   "outputs": [
    {
     "name": "stdout",
     "output_type": "stream",
     "text": [
      "Temperatura en Celsius: 25 °C\n",
      "Temperatura en Fahrenheit: 77.0 °F\n",
      "Temperatura en Kelvin: 298.15 K\n",
      "Temperatura actualizada en Celsius: 25.0 °C\n",
      "Temperatura actualizada en Kelvin: 298.15000000000003 K\n"
     ]
    }
   ],
   "source": [
    "# Ejemplo de uso:\n",
    "# Crear una instancia de Termometro con temperatura inicial \n",
    "termometro = Termometro(25, 'celsius')\n",
    "# Obtener la temperatura en diferentes escalas\n",
    "print(f\"Temperatura en Celsius: {termometro.celsius} °C\") \n",
    "print(f\"Temperatura en Fahrenheit: {termometro.fahrenheit} °F\") \n",
    "print(f\"Temperatura en Kelvin: {termometro.kelvin} K\")\n",
    "# Establecer la temperatura en Fahrenheit\n",
    "termometro.fahrenheit = 77\n",
    "# Mostrar la temperatura actualizada en Celsius y Kelvin \n",
    "print(f\"Temperatura actualizada en Celsius: {termometro.celsius} °C\") \n",
    "print(f\"Temperatura actualizada en Kelvin: {termometro.kelvin} K\")"
   ]
  },
  {
   "cell_type": "code",
   "execution_count": null,
   "id": "1afbd57e",
   "metadata": {},
   "outputs": [],
   "source": []
  }
 ],
 "metadata": {
  "kernelspec": {
   "display_name": "Python 3 (ipykernel)",
   "language": "python",
   "name": "python3"
  },
  "language_info": {
   "codemirror_mode": {
    "name": "ipython",
    "version": 3
   },
   "file_extension": ".py",
   "mimetype": "text/x-python",
   "name": "python",
   "nbconvert_exporter": "python",
   "pygments_lexer": "ipython3",
   "version": "3.11.5"
  }
 },
 "nbformat": 4,
 "nbformat_minor": 5
}
