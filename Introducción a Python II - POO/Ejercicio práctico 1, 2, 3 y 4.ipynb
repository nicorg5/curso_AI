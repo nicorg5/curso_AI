{
 "cells": [
  {
   "cell_type": "markdown",
   "id": "2a6bd935",
   "metadata": {},
   "source": [
    "# Ejercicio 1"
   ]
  },
  {
   "cell_type": "markdown",
   "id": "a844abdf",
   "metadata": {},
   "source": [
    "**Gestión lista de Películas**\n",
    "\n",
    "*Objetivo Crear un programa que permita al usuario gestionar una lista de películas. El programa debe permitir añadir películas, eliminar películas, ver todas las películas de la lista y buscar películas por nombre.*\n",
    "\n",
    "*Funcionalidades*\n",
    "1. Añadir Películas: El usuario puede añadir nombres de películas a la lista.\n",
    "2. Eliminar Películas: El usuario puede eliminar películas de la lista por nombre.\n",
    "3. Mostrar Lista de Películas: El usuario puede ver todas las películas actualmente en la lista.\n",
    "4. Buscar Películas: El usuario puede buscar si una película específica está en la lista.\n",
    "\n",
    "*Desarrollo del Ejercicio*\n",
    "- Inicia con una lista vacía de películas.\n",
    "- Presenta un menú al usuario con opciones para añadir, eliminar, mostrar o buscar películas.\n",
    "- Implementa cada funcionalidad:\n",
    "    - Añadir: Asegúrate de que la película no esté ya en la lista antes de añadirla.\n",
    "    - Eliminar: Comprueba si la película está en la lista antes de intentar eliminarla. Informa al usuario si la película no existe.\n",
    "    - Mostrar: Recorre la lista y muestra cada película.\n",
    "    - Buscar: Pregunta al usuario por el nombre de la película y verifica si está en la lista.\n",
    "    \n",
    "*Consideraciones Adicionales*\n",
    "- Maneja posibles errores, como intentar eliminar una película que no está en la lista.\n",
    "- Considera permitir al usuario salir del programa con una opción de menú.\n",
    "- Después de cada acción, vuelve a mostrar el menú para que el usuario pueda realizar otra acción hasta que decida salir"
   ]
  },
  {
   "cell_type": "code",
   "execution_count": 1,
   "id": "2159f77f",
   "metadata": {},
   "outputs": [],
   "source": [
    "import os"
   ]
  },
  {
   "cell_type": "code",
   "execution_count": 3,
   "id": "139f5705",
   "metadata": {},
   "outputs": [],
   "source": [
    "# Ejemplo de códigos ANSI para diferentes colores\n",
    "COLOR_ROJO = \"\\033[91m\"\n",
    "COLOR_VERDE = \"\\033[92m\"\n",
    "COLOR_AZUL = \"\\033[94m\"\n",
    "COLOR_AMARILLO = \"\\033[93m\"\n",
    "COLOR_NARANJA = \"\\033[38;5;208m\"  # Código ANSI para naranja\n",
    "COLOR_MORADO = \"\\033[95m\"         # Código ANSI para morado claro\n",
    "RESET_COLOR = \"\\033[0m\"  # Para resetear el color a su valor por defecto"
   ]
  },
  {
   "cell_type": "code",
   "execution_count": 7,
   "id": "39969080",
   "metadata": {},
   "outputs": [],
   "source": [
    "def limpiar_terminal():\n",
    "    '''\n",
    "    Función para limpiar la terminal según el sistema operativo\n",
    "    '''\n",
    "    sistema_operativo = os.name\n",
    "    if sistema_operativo == 'posix': #MacOS o Linux\n",
    "        os.system('clear')\n",
    "    elif sistema_operativo == 'nt': #Windows\n",
    "        os.system('cls')"
   ]
  },
  {
   "cell_type": "code",
   "execution_count": 4,
   "id": "60fbfcc7",
   "metadata": {},
   "outputs": [],
   "source": [
    "def mostrar_menu_1():\n",
    "    '''\n",
    "    Función para mostrar el menú\n",
    "    '''\n",
    "    print(COLOR_ROJO + 'Gestión de Lista de Películas' + RESET_COLOR)\n",
    "    print(COLOR_VERDE + '1. Añadir película' + RESET_COLOR)\n",
    "    print(COLOR_AZUL + '2. Eliminar película' + RESET_COLOR)\n",
    "    print(COLOR_AMARILLO +'3. Mostrar película' + RESET_COLOR)\n",
    "    print(COLOR_NARANJA +'4. Buscar película'+ RESET_COLOR)\n",
    "    print(COLOR_MORADO +'5. Salir'+ RESET_COLOR)"
   ]
  },
  {
   "cell_type": "code",
   "execution_count": 9,
   "id": "fbb971ac",
   "metadata": {},
   "outputs": [],
   "source": [
    "def añadir_pelicula(lista_peliculas, pelicula):\n",
    "    '''\n",
    "    Función para añadir una película a la lista si no existe\n",
    "    '''\n",
    "    if pelicula not in lista_peliculas:\n",
    "        lista_peliculas.append(pelicula)\n",
    "        print(f'{pelicula} ha sido añadida a la lista)\n",
    "    else:\n",
    "        print(f'Error: {pelicula} ya está en la lista')"
   ]
  },
  {
   "cell_type": "code",
   "execution_count": 11,
   "id": "46a9560d",
   "metadata": {},
   "outputs": [],
   "source": [
    "def eliminar_pelicula(lista_peliculas, pelicula):\n",
    "    '''\n",
    "    Función para eliminar una película de la lista si existe\n",
    "    '''\n",
    "    if pelicula in lista_peliculas:\n",
    "        lista_peliculas.remove(pelicula)\n",
    "    else:\n",
    "        print(f'Error: {pelicula} no está en la lista')"
   ]
  },
  {
   "cell_type": "code",
   "execution_count": 12,
   "id": "f8eb5593",
   "metadata": {},
   "outputs": [],
   "source": [
    "def mostrar_lista(lista_peliculas):\n",
    "    '''\n",
    "    Función para mostrar todas las películas de la lista\n",
    "    '''\n",
    "    if lista_peliculas:\n",
    "        print('Lista de películas: ')\n",
    "        for pelicula in lista_peliculas:\n",
    "            print(pelicula)\n",
    "    else:\n",
    "        print('La lista de películas está vacía')"
   ]
  },
  {
   "cell_type": "code",
   "execution_count": 13,
   "id": "80580ea6",
   "metadata": {},
   "outputs": [],
   "source": [
    "def buscar_pelicula(lista_peliculas, pelicula):\n",
    "    '''\n",
    "    Función para buscar una película en la lista\n",
    "    '''\n",
    "    if pelicula in lista_peliculas:\n",
    "        print(f'{pelicula} está en la lista')\n",
    "    else:\n",
    "        print(f'{pelicula} no está en la lista')"
   ]
  },
  {
   "cell_type": "code",
   "execution_count": 14,
   "id": "f51a4db0",
   "metadata": {},
   "outputs": [],
   "source": [
    "lista_peliculas = []"
   ]
  },
  {
   "cell_type": "code",
   "execution_count": 58,
   "id": "48b3d974",
   "metadata": {},
   "outputs": [],
   "source": [
    "def main():\n",
    "\n",
    "    # Menú principal\n",
    "\n",
    "    while True:\n",
    "        # Primero se limpia la terminal y se muestra el menú\n",
    "        limpiar_terminal()\n",
    "        mostrar_menu_1()\n",
    "\n",
    "        # Se le pide al usuario que escoja una opción\n",
    "        opcion = input('Selecciona una opción: ')\n",
    "\n",
    "        if opcion == '1':\n",
    "            pelicula_nueva = input('Ingrese el nombre de la película a añadir: ')\n",
    "            añadir_pelicula(lista_peliculas, pelicula_nueva)\n",
    "\n",
    "        elif opcion == '2':\n",
    "            pelicula_eliminar = input('Ingrese el nombre de la película a eliminar: ')\n",
    "            eliminar_pelicula(lista_peliculas, pelicula_eliminar)\n",
    "\n",
    "        elif opcion == '3':\n",
    "            mostrar_lista(lista_peliculas)\n",
    "\n",
    "        elif opcion == '4':\n",
    "            pelicula_buscar = input('Ingrese el nombre de la película a buscar: ')\n",
    "            buscar_pelicula(lista_peliculas, pelicula_buscar)\n",
    "\n",
    "        elif opcion == '5':\n",
    "            print('Saliendo del programa...')\n",
    "            break\n",
    "\n",
    "        else:\n",
    "            print('Debes seleccionar una opción entre la 1 y la 5')"
   ]
  },
  {
   "cell_type": "code",
   "execution_count": 59,
   "id": "c7019977",
   "metadata": {},
   "outputs": [
    {
     "name": "stdout",
     "output_type": "stream",
     "text": [
      "\u001b[91mGestión de Lista de Películas\u001b[0m\n",
      "\u001b[92m1. Añadir película\u001b[0m\n",
      "\u001b[94m2. Eliminar película\u001b[0m\n",
      "\u001b[93m3. Mostrar película\u001b[0m\n",
      "\u001b[38;5;208m4. Modificar película\u001b[0m\n",
      "\u001b[95m5. Buscar película\u001b[0m\n",
      "6. Modificar presupuesto\u001b[0m\n",
      "7. Salir\u001b[0m\n",
      "Selecciona una opción: 7\n",
      "Debes seleccionar una opción entre la 1 y la 5\n",
      "\u001b[91mGestión de Lista de Películas\u001b[0m\n",
      "\u001b[92m1. Añadir película\u001b[0m\n",
      "\u001b[94m2. Eliminar película\u001b[0m\n",
      "\u001b[93m3. Mostrar película\u001b[0m\n",
      "\u001b[38;5;208m4. Modificar película\u001b[0m\n",
      "\u001b[95m5. Buscar película\u001b[0m\n",
      "6. Modificar presupuesto\u001b[0m\n",
      "7. Salir\u001b[0m\n",
      "Selecciona una opción: 5\n",
      "Saliendo del programa...\n"
     ]
    }
   ],
   "source": [
    "if __name__ == \"__main__\":\n",
    "    main()"
   ]
  },
  {
   "cell_type": "markdown",
   "id": "0fd58d3a",
   "metadata": {},
   "source": [
    "# Ejercicio 2"
   ]
  },
  {
   "cell_type": "markdown",
   "id": "4058e78a",
   "metadata": {},
   "source": [
    "**Gestión lista de Películas con diccionario**\n",
    "\n",
    "- Objetivo Modificar el programa del ejercicio 1 para que admita un diccionario asociado a cada película que contenga el director, año y presupuesto. \n",
    "Ejemplo:\n",
    "peliculas = {\n",
    "\"Nombre de la Película\": {\n",
    "\"director\": \"Nombre del Director\",\n",
    "\"año\": Año de Lanzamiento,\n",
    "\"presupuesto\": Presupuesto en Millones\n",
    "},\n",
    "\n",
    "\n",
    "- Inicia con un diccionario vacío de películas.\n",
    "- Presenta un menú al usuario con opciones para añadir, eliminar, mostrar o buscar películas. Modifica las  funciones para que se adapten a la nueva estructura.\n",
    "- Implementa cada funcionalidad:\n",
    "    - Añadir: Asegúrate de que la película no esté ya en la lista antes de añadirla.\n",
    "    - Eliminar: Comprueba si la película está en la lista antes de intentar eliminarla. Informa al usuario si la película no existe.\n",
    "    - Mostrar: Recorre la lista y muestra cada película.\n",
    "    - Modificar: Permite modificar los metadatos de la película (director, año, presupuesto)\n",
    "    - Buscar: Pregunta al usuario por el nombre de la película y verifica si está en la lista."
   ]
  },
  {
   "cell_type": "code",
   "execution_count": 22,
   "id": "e325dd7a",
   "metadata": {},
   "outputs": [],
   "source": [
    "def mostrar_menu_2():\n",
    "    '''\n",
    "    Función para mostrar el menú\n",
    "    '''\n",
    "    print(COLOR_ROJO + 'Gestión de Lista de Películas' + RESET_COLOR)\n",
    "    print(COLOR_VERDE + '1. Añadir película' + RESET_COLOR)\n",
    "    print(COLOR_AZUL + '2. Eliminar película' + RESET_COLOR)\n",
    "    print(COLOR_AMARILLO +'3. Mostrar película' + RESET_COLOR)\n",
    "    print(COLOR_NARANJA +'4. Modificar película'+ RESET_COLOR)\n",
    "    print(COLOR_MORADO +'5. Buscar película'+ RESET_COLOR)\n",
    "    print('6. Salir'+ RESET_COLOR)"
   ]
  },
  {
   "cell_type": "code",
   "execution_count": 28,
   "id": "c4796db4",
   "metadata": {},
   "outputs": [],
   "source": [
    "def añadir_pelicula(diccionario_peliculas, nombre, director, año, presupuesto):\n",
    "    '''\n",
    "    Función para añadir una película al diccionario si no existe\n",
    "    '''\n",
    "    if nombre not in diccionario_peliculas:\n",
    "        diccionario_peliculas[nombre] = {\n",
    "            'director': director,\n",
    "            'año': año,\n",
    "            'presupuesto': presupuesto\n",
    "        }\n",
    "    else:\n",
    "        print(f'Error: {pelicula} ya está en en el diccionario')"
   ]
  },
  {
   "cell_type": "code",
   "execution_count": 29,
   "id": "c09fa99d",
   "metadata": {},
   "outputs": [],
   "source": [
    "def eliminar_pelicula(diccionario_peliculas, nombre):\n",
    "    '''\n",
    "    Función para eliminar una película del diccionario si existe\n",
    "    '''\n",
    "    if nombre in diccionario_peliculas:\n",
    "        del diccionario_peliculas[nombre]\n",
    "    else:\n",
    "        print(f'Error: \"{nombre}\" no está en el diccionario')"
   ]
  },
  {
   "cell_type": "code",
   "execution_count": 18,
   "id": "17c3b83a",
   "metadata": {},
   "outputs": [],
   "source": [
    "def mostrar_diccionario(diccionario_peliculas):\n",
    "    '''\n",
    "    Función para mostrar todas las películas del diccionario\n",
    "    '''\n",
    "    if diccionario_peliculas:\n",
    "        print(\"Diccionario de películas:\")\n",
    "        for nombre, detalles in diccionario_peliculas.items():\n",
    "            print(f'- {nombre}: Director - {detalles[\"director\"]}, Año - {detalles[\"año\"]}, Presupuesto - {detalles[\"presupuesto\"]} millones')\n",
    "    else:\n",
    "        print(\"El diccioanrio de películas está vacía\")"
   ]
  },
  {
   "cell_type": "code",
   "execution_count": 69,
   "id": "3de04b47",
   "metadata": {},
   "outputs": [],
   "source": [
    "def modificar_pelicula(diccionario_peliculas, nombre):\n",
    "    '''\n",
    "    Función para modificar los datos de una película si existe\n",
    "    '''\n",
    "    if nombre in diccionario_peliculas:\n",
    "        nuevo_director = input(f\"Ingrese el nuevo director para {nombre}: \") or diccionario_peliculas[nombre]['director']\n",
    "        nuevo_año = int(input(f\"Ingrese el nuevo año para {nombre}: \"))\n",
    "        nuevo_presupuesto = float(input(f\"Ingrese el nuevo presupuesto para {nombre} en millones: \")) or diccionario_peliculas[nombre]['presupuesto']\n",
    "        print(f\"Los datos de la película {nombre} han sido actualizados\")\n",
    "    else:\n",
    "        print(f'Error: \"{nombre}\" no está en el diccionario')"
   ]
  },
  {
   "cell_type": "code",
   "execution_count": 20,
   "id": "44c292d4",
   "metadata": {},
   "outputs": [],
   "source": [
    "def buscar_pelicula(diccionario_peliculas, nombre):\n",
    "    '''\n",
    "    Función para buscar una película en el diccionario\n",
    "    '''\n",
    "    if nombre in diccionario_peliculas:\n",
    "        detalles = diccionario_peliculas[nombre]\n",
    "        print(f'\"{nombre}\" está en la lista. Detalles: Director - {detalles[\"director\"]}, Año - {detalles[\"año\"]}, Presupuesto - {detalles[\"presupuesto\"]} millones')\n",
    "    else:\n",
    "        print(f'\"{nombre}\" no está en el diccionario')"
   ]
  },
  {
   "cell_type": "code",
   "execution_count": 21,
   "id": "358978ac",
   "metadata": {},
   "outputs": [],
   "source": [
    "peliculas = {}"
   ]
  },
  {
   "cell_type": "code",
   "execution_count": 70,
   "id": "85465b75",
   "metadata": {},
   "outputs": [],
   "source": [
    "def main():\n",
    "    '''\n",
    "    Función principal que ejecuta el programa\n",
    "    '''\n",
    "    # Menú principal\n",
    "\n",
    "    while True:\n",
    "        limpiar_terminal()\n",
    "        mostrar_menu_2()\n",
    "\n",
    "        opcion = input(\"Seleccione una opción (1-6): \")\n",
    "\n",
    "        if opcion == \"1\":\n",
    "            nombre_nueva = input(\"Ingrese el nombre de la película a añadir: \")\n",
    "            director_nuevo = input(\"Ingrese el director de la película: \")\n",
    "            año_nuevo = int(input(\"Ingrese el año de lanzamiento: \"))\n",
    "            presupuesto_nuevo = float(input(\"Ingrese el presupuesto en millones: \"))\n",
    "            añadir_pelicula(peliculas, nombre_nueva, director_nuevo, año_nuevo, presupuesto_nuevo)\n",
    "\n",
    "        elif opcion == \"2\":\n",
    "            nombre_eliminar = input(\"Ingrese el nombre de la película a eliminar: \")\n",
    "            eliminar_pelicula(peliculas, nombre_eliminar)\n",
    "\n",
    "        elif opcion == \"3\":\n",
    "            mostrar_diccionario(peliculas)\n",
    "\n",
    "        elif opcion == \"4\":\n",
    "            nombre_modificar = input(\"Ingrese el nombre de la película a modificar: \")\n",
    "            modificar_pelicula(peliculas, nombre_modificar)\n",
    "\n",
    "        elif opcion == \"5\":\n",
    "            nombre_buscar = input(\"Ingrese el nombre de la película a buscar: \")\n",
    "            buscar_pelicula(peliculas, nombre_buscar)\n",
    "\n",
    "        elif opcion == \"6\":\n",
    "            print(\"Saliendo del programa. ¡Hasta luego!\")\n",
    "            break\n",
    "        else:\n",
    "            print('Debes seleccionar una opción entre la 1 y la 6')\n"
   ]
  },
  {
   "cell_type": "code",
   "execution_count": 71,
   "id": "cf9beb17",
   "metadata": {},
   "outputs": [
    {
     "name": "stdout",
     "output_type": "stream",
     "text": [
      "\u001b[91mGestión de Lista de Películas\u001b[0m\n",
      "\u001b[92m1. Añadir película\u001b[0m\n",
      "\u001b[94m2. Eliminar película\u001b[0m\n",
      "\u001b[93m3. Mostrar película\u001b[0m\n",
      "\u001b[38;5;208m4. Modificar película\u001b[0m\n",
      "\u001b[95m5. Buscar película\u001b[0m\n",
      "6. Modificar presupuesto\u001b[0m\n",
      "7. Salir\u001b[0m\n",
      "Seleccione una opción (1-6): 1\n",
      "Ingrese el nombre de la película a añadir: Harry Potter 1\n",
      "Ingrese el director de la película: nico\n",
      "Ingrese el año de lanzamiento: 2010\n",
      "Ingrese el presupuesto en millones: 100\n",
      "\u001b[91mGestión de Lista de Películas\u001b[0m\n",
      "\u001b[92m1. Añadir película\u001b[0m\n",
      "\u001b[94m2. Eliminar película\u001b[0m\n",
      "\u001b[93m3. Mostrar película\u001b[0m\n",
      "\u001b[38;5;208m4. Modificar película\u001b[0m\n",
      "\u001b[95m5. Buscar película\u001b[0m\n",
      "6. Modificar presupuesto\u001b[0m\n",
      "7. Salir\u001b[0m\n",
      "Seleccione una opción (1-6): 4\n",
      "Ingrese el nombre de la película a modificar: Harry Potter 1\n",
      "Ingrese el nuevo director para Harry Potter 1: nico\n",
      "Ingrese el nuevo año para Harry Potter 1: 2010\n",
      "Ingrese el nuevo presupuesto para Harry Potter 1 en millones: 100\n",
      "Los datos de la película Harry Potter 1 han sido actualizados\n",
      "\u001b[91mGestión de Lista de Películas\u001b[0m\n",
      "\u001b[92m1. Añadir película\u001b[0m\n",
      "\u001b[94m2. Eliminar película\u001b[0m\n",
      "\u001b[93m3. Mostrar película\u001b[0m\n",
      "\u001b[38;5;208m4. Modificar película\u001b[0m\n",
      "\u001b[95m5. Buscar película\u001b[0m\n",
      "6. Modificar presupuesto\u001b[0m\n",
      "7. Salir\u001b[0m\n",
      "Seleccione una opción (1-6): 3\n",
      "Diccionario de películas:\n",
      "- Avatar: Director - nolam, Año - 2012, Presupuesto - 1.05 millones\n",
      "- Harry Potter 1: Director - nico, Año - 2010, Presupuesto - 100.0 millones\n",
      "\u001b[91mGestión de Lista de Películas\u001b[0m\n",
      "\u001b[92m1. Añadir película\u001b[0m\n",
      "\u001b[94m2. Eliminar película\u001b[0m\n",
      "\u001b[93m3. Mostrar película\u001b[0m\n",
      "\u001b[38;5;208m4. Modificar película\u001b[0m\n",
      "\u001b[95m5. Buscar película\u001b[0m\n",
      "6. Modificar presupuesto\u001b[0m\n",
      "7. Salir\u001b[0m\n",
      "Seleccione una opción (1-6): 7\n",
      "Debes seleccionar una opción entre la 1 y la 6\n",
      "\u001b[91mGestión de Lista de Películas\u001b[0m\n",
      "\u001b[92m1. Añadir película\u001b[0m\n",
      "\u001b[94m2. Eliminar película\u001b[0m\n",
      "\u001b[93m3. Mostrar película\u001b[0m\n",
      "\u001b[38;5;208m4. Modificar película\u001b[0m\n",
      "\u001b[95m5. Buscar película\u001b[0m\n",
      "6. Modificar presupuesto\u001b[0m\n",
      "7. Salir\u001b[0m\n",
      "Seleccione una opción (1-6): 6\n",
      "Saliendo del programa. ¡Hasta luego!\n"
     ]
    }
   ],
   "source": [
    "if __name__ == \"__main__\":\n",
    "    main()"
   ]
  },
  {
   "cell_type": "markdown",
   "id": "b73e8970",
   "metadata": {},
   "source": [
    "# Ejercicio 3"
   ]
  },
  {
   "cell_type": "markdown",
   "id": "92845174",
   "metadata": {},
   "source": [
    "**Gestión lista de Películas con diccionario**\n",
    "\n",
    "Objetivo: Crear una función que permita modificar los presupuestos de las películas. Por ejemplo, supongamos que quieres incrementar el presupuesto de todas las películas en un 10%. Utiliza un comprehension para hacerlo.\n",
    "\n",
    "Ejemplo:\n",
    "\n",
    "nuevo_presupuesto = float(detalles[\"presupuesto\"]) * (1 + porcentaje / 100)\n",
    "\n",
    "- Usa el mismo programa del ejecicio anterior para ñadir esta funcionalidad.\n",
    "- Modifica las  funciones necesarias (menú, etc) para que se adapten a la nueva estructura.\n",
    "- Implementa la funcionalidad:\n",
    "    - Al modficar los prespuestos, ninguno debería de reducirse a 0.\n",
    "    - No se debe admitir ningún valor que está fuera del rango o tipo esperado para un porcentaje"
   ]
  },
  {
   "cell_type": "code",
   "execution_count": 63,
   "id": "c6ab841f",
   "metadata": {},
   "outputs": [],
   "source": [
    "def mostrar_menu_3():\n",
    "    '''\n",
    "    Función para mostrar el menú\n",
    "    '''\n",
    "    print(COLOR_ROJO + 'Gestión de Lista de Películas' + RESET_COLOR)\n",
    "    print(COLOR_VERDE + '1. Añadir película' + RESET_COLOR)\n",
    "    print(COLOR_AZUL + '2. Eliminar película' + RESET_COLOR)\n",
    "    print(COLOR_AMARILLO +'3. Mostrar película' + RESET_COLOR)\n",
    "    print(COLOR_NARANJA +'4. Modificar película'+ RESET_COLOR)\n",
    "    print(COLOR_MORADO +'5. Buscar película'+ RESET_COLOR)\n",
    "    print('6. Modificar presupuesto'+ RESET_COLOR)\n",
    "    print('7. Salir'+ RESET_COLOR)"
   ]
  },
  {
   "cell_type": "code",
   "execution_count": 38,
   "id": "105b1469",
   "metadata": {},
   "outputs": [],
   "source": [
    "def modificar_presupuesto(diccionario_peliculas, porcentaje):\n",
    "    '''\n",
    "    Función para modificar el presupuesto de todas las películas\n",
    "    '''\n",
    "    for nombre, detalles in diccionario_peliculas.items():\n",
    "        nuevo_presupuesto = detalles[\"presupuesto\"] * (1 + porcentaje / 100)\n",
    "        diccionario_peliculas[nombre][\"presupuesto\"] = nuevo_presupuesto"
   ]
  },
  {
   "cell_type": "code",
   "execution_count": 66,
   "id": "6a29e022",
   "metadata": {},
   "outputs": [],
   "source": [
    "def main():\n",
    "\n",
    "    # Menú principal\n",
    "\n",
    "    while True:\n",
    "        limpiar_terminal()\n",
    "        mostrar_menu_3()\n",
    "\n",
    "        opcion = input(\"Seleccione una opción (1-7): \")\n",
    "\n",
    "        if opcion == \"1\":\n",
    "            nombre_nueva = input(\"Ingrese el nombre de la película a añadir: \")\n",
    "            director_nuevo = input(\"Ingrese el director de la película: \")\n",
    "            año_nuevo = int(input(\"Ingrese el año de lanzamiento: \"))\n",
    "            presupuesto_nuevo = float(input(\"Ingrese el presupuesto en millones: \"))\n",
    "            añadir_pelicula(peliculas, nombre_nueva, director_nuevo, año_nuevo, presupuesto_nuevo)\n",
    "\n",
    "        elif opcion == \"2\":\n",
    "            nombre_eliminar = input(\"Ingrese el nombre de la película a eliminar: \")\n",
    "            eliminar_pelicula(peliculas, nombre_eliminar)\n",
    "\n",
    "        elif opcion == \"3\":\n",
    "            mostrar_diccionario(peliculas)\n",
    "\n",
    "        elif opcion == \"4\":\n",
    "            nombre_modificar = input(\"Ingrese el nombre de la película a modificar: \")\n",
    "            modificar_pelicula(peliculas, nombre_modificar)\n",
    "\n",
    "        elif opcion == \"5\":\n",
    "            nombre_buscar = input(\"Ingrese el nombre de la película a buscar: \")\n",
    "            buscar_pelicula(peliculas, nombre_buscar)\n",
    "\n",
    "        elif opcion == \"6\":\n",
    "            porcentaje = float(input(\"Ingrese el porcentaje de modificación para los presupuestos: \"))\n",
    "            if -100 <= porcentaje <= 100:\n",
    "                # Se modifican los presupuestos\n",
    "                modificar_presupuesto(peliculas, porcentaje)\n",
    "                # Asegurarse que ninguno de los presupuestos se reduzca a 0:\n",
    "                for nombre, detalles in peliculas.items():\n",
    "                    detalles[\"presupuesto\"] = max(1, detalles[\"presupuesto\"])\n",
    "\n",
    "                print(f'Presupuestos modificados en un {porcentaje}%')\n",
    "\n",
    "        elif opcion == \"7\":\n",
    "            print(\"Saliendo del programa. ¡Hasta luego!\")\n",
    "            break\n",
    "        else:\n",
    "            print('Debes seleccionar una opción entre la 1 y la 7')"
   ]
  },
  {
   "cell_type": "code",
   "execution_count": 67,
   "id": "33a32911",
   "metadata": {},
   "outputs": [
    {
     "name": "stdout",
     "output_type": "stream",
     "text": [
      "\u001b[91mGestión de Lista de Películas\u001b[0m\n",
      "\u001b[92m1. Añadir película\u001b[0m\n",
      "\u001b[94m2. Eliminar película\u001b[0m\n",
      "\u001b[93m3. Mostrar película\u001b[0m\n",
      "\u001b[38;5;208m4. Modificar película\u001b[0m\n",
      "\u001b[95m5. Buscar película\u001b[0m\n",
      "6. Modificar presupuesto\u001b[0m\n",
      "7. Salir\u001b[0m\n",
      "Seleccione una opción (1-7): 7\n",
      "Saliendo del programa. ¡Hasta luego!\n"
     ]
    }
   ],
   "source": [
    "if __name__ == \"__main__\":\n",
    "    main()"
   ]
  },
  {
   "cell_type": "markdown",
   "id": "643140d5",
   "metadata": {},
   "source": [
    "# Ejercicio 4"
   ]
  },
  {
   "cell_type": "markdown",
   "id": "1220aabc",
   "metadata": {},
   "source": [
    "**Gestión lista de Canciones**\n",
    "\n",
    "Escenario Tenemos dos listas de canciones con sus duraciones en minutos:\n",
    "\n",
    "canciones = [\"Bohemian Rhapsody\", \"Stairway to Heaven\", \"Hotel California\", \"Imagine\", \"Smells Like Teen Spirit\"] \n",
    "duraciones = [5.55, 8.02, 6.30, 3.03, 5.01]  # Duraciones en minutos\n",
    "\n",
    "Objetivo: Primero, combinaremos la dos listas en un diccionario. Después, seleccionaremos las 3 canciones más largas en un diccionario y finalmente crearemos otro diccionario con una selección aleatoria de canciones. \n",
    "\n",
    "Tip: Usaremos zip, dict, sorted, Y slices de iterables. \n",
    "\n",
    "Por ejemplo para combinar con zip, para convertir a diccinario con dict, para ordenar con sorted, para recuperar las 3 de mayor duración con un slice[:3]. Para seleccionar aleatoriamente podemos usar radom que necesitaremos importar con \"import random\""
   ]
  },
  {
   "cell_type": "code",
   "execution_count": 40,
   "id": "8f101975",
   "metadata": {},
   "outputs": [],
   "source": [
    "import random"
   ]
  },
  {
   "cell_type": "code",
   "execution_count": 41,
   "id": "4f9ff41f",
   "metadata": {},
   "outputs": [],
   "source": [
    "# Listas de canciones y duraciones\n",
    "canciones = [\"Bohemian Rhapsody\", \"Stairway to Heaven\", \"Hotel California\", \"Imagine\", \"Smells Like Teen Spirit\"]\n",
    "duraciones = [5.55, 8.02, 6.30, 3.03, 5.01]  # Duraciones en minuto"
   ]
  },
  {
   "cell_type": "code",
   "execution_count": 42,
   "id": "1691d425",
   "metadata": {},
   "outputs": [
    {
     "data": {
      "text/plain": [
       "{'Bohemian Rhapsody': 5.55,\n",
       " 'Stairway to Heaven': 8.02,\n",
       " 'Hotel California': 6.3,\n",
       " 'Imagine': 3.03,\n",
       " 'Smells Like Teen Spirit': 5.01}"
      ]
     },
     "execution_count": 42,
     "metadata": {},
     "output_type": "execute_result"
    }
   ],
   "source": [
    "# Combinar las dos listas en un diccionario\n",
    "diccionario_canciones = dict(zip(canciones, duraciones))\n",
    "diccionario_canciones"
   ]
  },
  {
   "cell_type": "code",
   "execution_count": 47,
   "id": "caa9e9d2",
   "metadata": {},
   "outputs": [
    {
     "data": {
      "text/plain": [
       "{'Bohemian Rhapsody': 8.02,\n",
       " 'Stairway to Heaven': 6.3,\n",
       " 'Hotel California': 5.55}"
      ]
     },
     "execution_count": 47,
     "metadata": {},
     "output_type": "execute_result"
    }
   ],
   "source": [
    "# Seleccionar las 3 canciones más largas\n",
    "canciones_largas = dict(zip(canciones, sorted(duraciones, reverse=True)[:3]))\n",
    "canciones_largas"
   ]
  },
  {
   "cell_type": "code",
   "execution_count": 73,
   "id": "faea6cc0",
   "metadata": {},
   "outputs": [
    {
     "data": {
      "text/plain": [
       "['Stairway to Heaven', 'Hotel California', 'Bohemian Rhapsody']"
      ]
     },
     "execution_count": 73,
     "metadata": {},
     "output_type": "execute_result"
    }
   ],
   "source": [
    "# Seleccionar las 3 canciones más largas con lambda\n",
    "# key es para indicar que queiro ordenar. reverse=True es para que ordene de mayor a menor\n",
    "tres_mas_largas = sorted(diccionario_canciones, key=lambda k: diccionario_canciones[k], reverse=True)[:3] \n",
    "tres_mas_largas"
   ]
  },
  {
   "cell_type": "code",
   "execution_count": 50,
   "id": "07aa60a5",
   "metadata": {},
   "outputs": [
    {
     "data": {
      "text/plain": [
       "{'Smells Like Teen Spirit': 5.01, 'Bohemian Rhapsody': 5.55}"
      ]
     },
     "execution_count": 50,
     "metadata": {},
     "output_type": "execute_result"
    }
   ],
   "source": [
    "# Seleccionar aleatoriamente 2 canciones\n",
    "canciones_aleatorias = dict(random.sample(list(diccionario_canciones.items()), 2))\n",
    "canciones_aleatorias"
   ]
  }
 ],
 "metadata": {
  "kernelspec": {
   "display_name": "Python 3 (ipykernel)",
   "language": "python",
   "name": "python3"
  },
  "language_info": {
   "codemirror_mode": {
    "name": "ipython",
    "version": 3
   },
   "file_extension": ".py",
   "mimetype": "text/x-python",
   "name": "python",
   "nbconvert_exporter": "python",
   "pygments_lexer": "ipython3",
   "version": "3.11.5"
  }
 },
 "nbformat": 4,
 "nbformat_minor": 5
}
