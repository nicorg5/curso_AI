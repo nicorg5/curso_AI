{
 "cells": [
  {
   "cell_type": "code",
   "execution_count": 1,
   "id": "036621d0",
   "metadata": {},
   "outputs": [],
   "source": [
    "from mensajes import messageFormatter"
   ]
  },
  {
   "cell_type": "code",
   "execution_count": 2,
   "id": "847d377a",
   "metadata": {},
   "outputs": [
    {
     "name": "stdout",
     "output_type": "stream",
     "text": [
      "\u001b[41m Error: Este mensaje es de error \u001b[0m\n",
      "\n",
      "\u001b[42m Éxito: Este mensaje es de éxito \u001b[0m\n",
      "\n",
      "\u001b[43m\u001b[31m Advertencia: Este mensaje es una advertencia \u001b[0m\n",
      "\n",
      "\u001b[44m Información: Este mensaje es informativo \u001b[0m\n"
     ]
    }
   ],
   "source": [
    "print(messageFormatter(\"Error: Este mensaje es de error\", \"error\"))\n",
    "print()\n",
    "print(messageFormatter(\"Éxito: Este mensaje es de éxito\", \"success\"))\n",
    "print()\n",
    "print(messageFormatter(\"Advertencia: Este mensaje es una advertencia\", \"warning\"))\n",
    "print()\n",
    "print(messageFormatter(\"Información: Este mensaje es informativo\", \"info\"))"
   ]
  },
  {
   "cell_type": "code",
   "execution_count": 3,
   "id": "c3a162d6",
   "metadata": {},
   "outputs": [
    {
     "name": "stdout",
     "output_type": "stream",
     "text": [
      "['__builtins__', '__cached__', '__doc__', '__file__', '__loader__', '__name__', '__package__', '__spec__', 'messageFormatter']\n"
     ]
    }
   ],
   "source": [
    "#Para ver las funciones disponibles que tiene el archivo mensajes.py\n",
    "import mensajes\n",
    "print(dir(mensajes))"
   ]
  },
  {
   "cell_type": "code",
   "execution_count": 6,
   "id": "5134aa46",
   "metadata": {},
   "outputs": [
    {
     "name": "stdout",
     "output_type": "stream",
     "text": [
      "['C:\\\\Users\\\\Admin\\\\ProyectosPython\\\\Introducción a Python II - POO', 'C:\\\\Users\\\\Admin\\\\anaconda3\\\\python311.zip', 'C:\\\\Users\\\\Admin\\\\anaconda3\\\\DLLs', 'C:\\\\Users\\\\Admin\\\\anaconda3\\\\Lib', 'C:\\\\Users\\\\Admin\\\\anaconda3', '', 'C:\\\\Users\\\\Admin\\\\anaconda3\\\\Lib\\\\site-packages', 'C:\\\\Users\\\\Admin\\\\anaconda3\\\\Lib\\\\site-packages\\\\win32', 'C:\\\\Users\\\\Admin\\\\anaconda3\\\\Lib\\\\site-packages\\\\win32\\\\lib', 'C:\\\\Users\\\\Admin\\\\anaconda3\\\\Lib\\\\site-packages\\\\Pythonwin']\n",
      "['C:\\\\Users\\\\Admin\\\\ProyectosPython\\\\Introducción a Python II - POO', 'C:\\\\Users\\\\Admin\\\\anaconda3\\\\python311.zip', 'C:\\\\Users\\\\Admin\\\\anaconda3\\\\DLLs', 'C:\\\\Users\\\\Admin\\\\anaconda3\\\\Lib', 'C:\\\\Users\\\\Admin\\\\anaconda3', '', 'C:\\\\Users\\\\Admin\\\\anaconda3\\\\Lib\\\\site-packages', 'C:\\\\Users\\\\Admin\\\\anaconda3\\\\Lib\\\\site-packages\\\\win32', 'C:\\\\Users\\\\Admin\\\\anaconda3\\\\Lib\\\\site-packages\\\\win32\\\\lib', 'C:\\\\Users\\\\Admin\\\\anaconda3\\\\Lib\\\\site-packages\\\\Pythonwin', '/home/ubuntu/workspace/curso/Clases']\n"
     ]
    }
   ],
   "source": [
    "import sys\n",
    "print(sys.path)\n",
    "# Devolverá las rutas por defecto\n",
    "sys.path.append('/home/ubuntu/workspace/curso/Clases')\n",
    "print(sys.path)"
   ]
  },
  {
   "cell_type": "code",
   "execution_count": null,
   "id": "8a74334f",
   "metadata": {},
   "outputs": [],
   "source": []
  }
 ],
 "metadata": {
  "kernelspec": {
   "display_name": "Python 3 (ipykernel)",
   "language": "python",
   "name": "python3"
  },
  "language_info": {
   "codemirror_mode": {
    "name": "ipython",
    "version": 3
   },
   "file_extension": ".py",
   "mimetype": "text/x-python",
   "name": "python",
   "nbconvert_exporter": "python",
   "pygments_lexer": "ipython3",
   "version": "3.11.5"
  }
 },
 "nbformat": 4,
 "nbformat_minor": 5
}
