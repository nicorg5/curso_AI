{
 "cells": [
  {
   "cell_type": "code",
   "execution_count": 1,
   "id": "50ad0ccb-5976-4a1f-beac-18abcd29810d",
   "metadata": {},
   "outputs": [],
   "source": [
    "from keras.models import Sequential\n",
    "from keras.layers import Conv2D, MaxPooling2D, Flatten, Dense\n",
    "from PIL import Image\n",
    "from utils import cargar_y_preprocesar_imagen, predecir_imagen\n",
    "import os\n",
    "import numpy as np\n",
    "from sklearn.model_selection import train_test_split"
   ]
  },
  {
   "cell_type": "markdown",
   "id": "482eacd6-bccb-472d-b662-249b29e7c85c",
   "metadata": {},
   "source": [
    "# Ejercicio\n",
    "\n",
    "Se va a crear un modelo con redes neuronales convolucionales para clasificar imágenes en perros y gatos"
   ]
  },
  {
   "cell_type": "markdown",
   "id": "18113140-c342-425a-af1a-ae61d11f6df6",
   "metadata": {},
   "source": [
    "Necesitamos estandarizar las imágenes para evitar errores y desvíos durante el entrenamiento del modelo.\n",
    "\n",
    "Vamos convertirlas a RGB y a 64 x 64. También normalizamos todas las imágenes a 255 pixeles. Los píxeles de una imagen en color, en el formato estándar, tienen valores que van de 0 a 255 para cada canal de color (rojo, verde y azul). Esto se debe a que cada canal se representa con un byte, que puede tomar 256 valores diferentes.\n",
    "\n",
    "Al dividir cada píxel por 255 escala estos valores al rango [0, 1]. Esto significa que después de la normalización, todos los valores de los píxeles estarán entre 0 y 1.\n",
    "\n",
    "Creamos un archivo utils.py que contenga esta función para que podamos llamarla al entrenar y predecir."
   ]
  },
  {
   "cell_type": "markdown",
   "id": "4d7fe63a-c23e-4720-9c34-fd72084b1b29",
   "metadata": {},
   "source": [
    "## Cargado de archivos"
   ]
  },
  {
   "cell_type": "code",
   "execution_count": 2,
   "id": "fb1c2a84-12af-41a5-8fc4-02b2d0e3b4df",
   "metadata": {},
   "outputs": [
    {
     "name": "stdout",
     "output_type": "stream",
     "text": [
      "Directorio actual de trabajo: /Users/n.c.rodriguez/nico/curso_AI/Redes Neuronales/dogs_vs_cats\n",
      "Contenido del directorio actual: ['.DS_Store', '__pycache__', 'kagglecatsanddogs_3367a', 'predict', 'utils.py', 'modelo_cats_vs_dogs.keras', '.ipynb_checkpoints', 'Clasificador_Imagenes_dogs_vs_cats.ipynb']\n"
     ]
    }
   ],
   "source": [
    "directorio_actual = os.getcwd()\n",
    "print(\"Directorio actual de trabajo:\", directorio_actual)\n",
    "print(\"Contenido del directorio actual:\", os.listdir(directorio_actual))"
   ]
  },
  {
   "cell_type": "code",
   "execution_count": 3,
   "id": "ed29aaaf-9eea-4995-a826-757f9514c958",
   "metadata": {},
   "outputs": [],
   "source": [
    "# Se define la ruta de las carpetas de perros y gatos\n",
    "\n",
    "carpeta_gatos = \"kagglecatsanddogs_3367a/PetImages/Cat\"\n",
    "carpeta_perros = \"kagglecatsanddogs_3367a/PetImages/Dog\"\n",
    "\n",
    "ruta_gatos = os.path.join(directorio_actual, carpeta_gatos)\n",
    "ruta_perros = os.path.join(directorio_actual, carpeta_perros)"
   ]
  },
  {
   "cell_type": "code",
   "execution_count": 4,
   "id": "1e5163e5-fff5-4d98-a48f-fd8635b27e9e",
   "metadata": {},
   "outputs": [],
   "source": [
    "# Cargar y procesar imágenes\n",
    "imagenes = []\n",
    "etiquetas = []"
   ]
  },
  {
   "cell_type": "code",
   "execution_count": 5,
   "id": "872e47c9-f7b7-40ac-a4f4-8b645cc397c2",
   "metadata": {},
   "outputs": [],
   "source": [
    "# Cargar gatos\n",
    "for archivo in os.listdir(ruta_gatos):\n",
    "    ruta_completa = os.path.join(ruta_gatos, archivo)\n",
    "    #lista de extensiones permitidas\n",
    "    extensiones_permitidas = ['.jpg', '.jpeg', '.png', '.bmp']\n",
    "\n",
    "    _, extension = os.path.splitext(archivo)\n",
    "\n",
    "    #comprobar que la extensión es una de las permitidas\n",
    "    if (extension.lower() in extensiones_permitidas):\n",
    "        try:\n",
    "            img = cargar_y_preprocesar_imagen(ruta_completa)\n",
    "            imagenes.append(img)\n",
    "            etiquetas.append(0) # 0 para gatos\n",
    "        except Exception as e:\n",
    "            print(f\"No se pudo cargar la imagen {archivo}: {str(e)}\")\n",
    "            continue\n",
    "    else:\n",
    "        continue"
   ]
  },
  {
   "cell_type": "code",
   "execution_count": 6,
   "id": "22e6c3c5-a6c8-441e-9537-3bcd2f3bb122",
   "metadata": {},
   "outputs": [
    {
     "name": "stderr",
     "output_type": "stream",
     "text": [
      "/Users/n.c.rodriguez/anaconda3/lib/python3.11/site-packages/PIL/TiffImagePlugin.py:866: UserWarning: Truncated File Read\n",
      "  warnings.warn(str(msg))\n"
     ]
    }
   ],
   "source": [
    "# Cargar perros\n",
    "for archivo in os.listdir(ruta_perros):\n",
    "    ruta_completa = os.path.join(ruta_perros, archivo)\n",
    "    #lista de extensiones permitidas\n",
    "    extensiones_permitidas = ['.jpg', '.jpeg', '.png', '.bmp']\n",
    "\n",
    "    _, extension = os.path.splitext(archivo)\n",
    "\n",
    "    #comprobar que la extensión es una de las permitidas\n",
    "    if (extension.lower() in extensiones_permitidas):\n",
    "        try:\n",
    "            img = cargar_y_preprocesar_imagen(ruta_completa)\n",
    "            imagenes.append(img)\n",
    "            etiquetas.append(1) # 1 para perros\n",
    "        except Exception as e:\n",
    "            print(f\"No se pudo cargar la imagen {archivo}: {str(e)}\")\n",
    "            continue\n",
    "    else:\n",
    "        continue"
   ]
  },
  {
   "cell_type": "markdown",
   "id": "7980be92-83a2-47a9-b434-81a82fc60eb7",
   "metadata": {},
   "source": [
    "## Construcción del modelo"
   ]
  },
  {
   "cell_type": "code",
   "execution_count": 7,
   "id": "633ded09-df27-44fc-abe4-ec96cdd7906b",
   "metadata": {},
   "outputs": [],
   "source": [
    "# Convertir las listas imagenes y etiquetas a arrays de numpy\n",
    "imagenes = np.array(imagenes)\n",
    "etiquetas = np.array(etiquetas)"
   ]
  },
  {
   "cell_type": "code",
   "execution_count": 8,
   "id": "c961922f-6094-4a76-8cb0-49f0b76b5b9c",
   "metadata": {},
   "outputs": [],
   "source": [
    "# Se divide la muestra en train y test\n",
    "X_train, X_test, y_train, y_test = train_test_split(imagenes, etiquetas,test_size=0.2, random_state=42)"
   ]
  },
  {
   "cell_type": "code",
   "execution_count": 9,
   "id": "5a1e7db8-5914-409c-bec6-94adeffa5583",
   "metadata": {},
   "outputs": [],
   "source": [
    "# Construcción del modelo\n",
    "modelo = Sequential([\n",
    "    Conv2D(32, (3, 3), activation='relu', input_shape=(64, 64, 3)),\n",
    "    MaxPooling2D(2, 2),\n",
    "    Conv2D(64, (3, 3), activation='relu'),\n",
    "    MaxPooling2D(2, 2),\n",
    "    Flatten(),\n",
    "    Dense(128, activation='relu'),\n",
    "    Dense(1, activation='sigmoid')\n",
    "])"
   ]
  },
  {
   "cell_type": "code",
   "execution_count": 10,
   "id": "637a8f1f-3c19-42f8-ab33-506a0462e706",
   "metadata": {},
   "outputs": [],
   "source": [
    "# Compilación del modelo\n",
    "modelo.compile(optimizer='adam', loss='binary_crossentropy', metrics=['accuracy'])"
   ]
  },
  {
   "cell_type": "code",
   "execution_count": 11,
   "id": "acbcc69b-105a-4906-8285-f707f649c946",
   "metadata": {},
   "outputs": [
    {
     "name": "stdout",
     "output_type": "stream",
     "text": [
      "Epoch 1/10\n",
      "624/624 [==============================] - 13s 21ms/step - loss: 0.6136 - accuracy: 0.6598 - val_loss: 0.5293 - val_accuracy: 0.7388\n",
      "Epoch 2/10\n",
      "624/624 [==============================] - 13s 21ms/step - loss: 0.4989 - accuracy: 0.7601 - val_loss: 0.4665 - val_accuracy: 0.7776\n",
      "Epoch 3/10\n",
      "624/624 [==============================] - 15s 23ms/step - loss: 0.4463 - accuracy: 0.7923 - val_loss: 0.4770 - val_accuracy: 0.7710\n",
      "Epoch 4/10\n",
      "624/624 [==============================] - 14s 23ms/step - loss: 0.3984 - accuracy: 0.8187 - val_loss: 0.4248 - val_accuracy: 0.8033\n",
      "Epoch 5/10\n",
      "624/624 [==============================] - 14s 23ms/step - loss: 0.3582 - accuracy: 0.8390 - val_loss: 0.4211 - val_accuracy: 0.8077\n",
      "Epoch 6/10\n",
      "624/624 [==============================] - 14s 23ms/step - loss: 0.3079 - accuracy: 0.8663 - val_loss: 0.4197 - val_accuracy: 0.8185\n",
      "Epoch 7/10\n",
      "624/624 [==============================] - 14s 22ms/step - loss: 0.2592 - accuracy: 0.8914 - val_loss: 0.4669 - val_accuracy: 0.7929\n",
      "Epoch 8/10\n",
      "624/624 [==============================] - 14s 22ms/step - loss: 0.2097 - accuracy: 0.9148 - val_loss: 0.4628 - val_accuracy: 0.8129\n",
      "Epoch 9/10\n",
      "624/624 [==============================] - 14s 22ms/step - loss: 0.1571 - accuracy: 0.9388 - val_loss: 0.5491 - val_accuracy: 0.8065\n",
      "Epoch 10/10\n",
      "624/624 [==============================] - 14s 23ms/step - loss: 0.1090 - accuracy: 0.9603 - val_loss: 0.5958 - val_accuracy: 0.8119\n"
     ]
    },
    {
     "data": {
      "text/plain": [
       "<keras.src.callbacks.History at 0x2a0dcfc90>"
      ]
     },
     "execution_count": 11,
     "metadata": {},
     "output_type": "execute_result"
    }
   ],
   "source": [
    "# Entrenamiento del modelo\n",
    "modelo.fit(X_train, y_train, epochs=10, validation_data=(X_test, y_test))"
   ]
  },
  {
   "cell_type": "code",
   "execution_count": 12,
   "id": "ea1589dd-787e-4682-b8d0-7a81c6dcf762",
   "metadata": {},
   "outputs": [
    {
     "name": "stdout",
     "output_type": "stream",
     "text": [
      "156/156 [==============================] - 1s 6ms/step - loss: 0.5958 - accuracy: 0.8119\n",
      "Test Accuracy: 81.18990659713745%\n"
     ]
    }
   ],
   "source": [
    "# Evaluar el modelo\n",
    "evaluacion = modelo.evaluate(X_test, y_test)\n",
    "print(f\"Test Accuracy: {evaluacion[1] * 100}%\")"
   ]
  },
  {
   "cell_type": "markdown",
   "id": "c3df739d-9520-430a-ae08-8788bcb27401",
   "metadata": {},
   "source": [
    "El 80.37% de las imágenes en el conjunto de prueba fueron clasificadas correctamente por el modelo"
   ]
  },
  {
   "cell_type": "code",
   "execution_count": 13,
   "id": "b0b05a7a-c0ae-4f0c-a306-bc1a160740d0",
   "metadata": {},
   "outputs": [],
   "source": [
    "modelo.save('modelo_cats_vs_dogs.keras') # Guarda el modelo en un archivo .keras"
   ]
  },
  {
   "cell_type": "markdown",
   "id": "f98029cf-18f0-4416-94d3-9b677f63add7",
   "metadata": {},
   "source": [
    "## Predicción usando el modelo"
   ]
  },
  {
   "cell_type": "code",
   "execution_count": 14,
   "id": "95567c3d-41d3-467b-8f97-6dc4f22e6db8",
   "metadata": {},
   "outputs": [],
   "source": [
    "from keras.models import load_model"
   ]
  },
  {
   "cell_type": "code",
   "execution_count": 15,
   "id": "cb28d218-938e-4ee1-9262-db4ab4394274",
   "metadata": {},
   "outputs": [],
   "source": [
    "modelo = load_model('modelo_cats_vs_dogs.keras')"
   ]
  },
  {
   "cell_type": "code",
   "execution_count": 17,
   "id": "7fe07c77-e4c2-4a51-b6cb-8c50d0aba4c3",
   "metadata": {},
   "outputs": [
    {
     "name": "stdout",
     "output_type": "stream",
     "text": [
      "1/1 [==============================] - 0s 60ms/step\n",
      "Es un perro\n",
      "1/1 [==============================] - 0s 25ms/step\n",
      "Es un gato\n",
      "1/1 [==============================] - 0s 19ms/step\n",
      "Es un perro\n",
      "1/1 [==============================] - 0s 17ms/step\n",
      "Es un perro\n",
      "WARNING:tensorflow:5 out of the last 5 calls to <function Model.make_predict_function.<locals>.predict_function at 0x2a240bba0> triggered tf.function retracing. Tracing is expensive and the excessive number of tracings could be due to (1) creating @tf.function repeatedly in a loop, (2) passing tensors with different shapes, (3) passing Python objects instead of tensors. For (1), please define your @tf.function outside of the loop. For (2), @tf.function has reduce_retracing=True option that can avoid unnecessary retracing. For (3), please refer to https://www.tensorflow.org/guide/function#controlling_retracing and https://www.tensorflow.org/api_docs/python/tf/function for  more details.\n",
      "1/1 [==============================] - 0s 20ms/step\n",
      "Es un gato\n",
      "WARNING:tensorflow:6 out of the last 6 calls to <function Model.make_predict_function.<locals>.predict_function at 0x2a240bd80> triggered tf.function retracing. Tracing is expensive and the excessive number of tracings could be due to (1) creating @tf.function repeatedly in a loop, (2) passing tensors with different shapes, (3) passing Python objects instead of tensors. For (1), please define your @tf.function outside of the loop. For (2), @tf.function has reduce_retracing=True option that can avoid unnecessary retracing. For (3), please refer to https://www.tensorflow.org/guide/function#controlling_retracing and https://www.tensorflow.org/api_docs/python/tf/function for  more details.\n",
      "1/1 [==============================] - 0s 19ms/step\n",
      "Es un perro\n"
     ]
    }
   ],
   "source": [
    "predecir_imagen('predict/perro1.jpg')\n",
    "predecir_imagen('predict/perro2.jpg')\n",
    "predecir_imagen('predict/perro3.jpg')\n",
    "predecir_imagen('predict/gato.jpg')\n",
    "predecir_imagen('predict/gato2.jpg')\n",
    "predecir_imagen('predict/unknown.jpg')"
   ]
  }
 ],
 "metadata": {
  "kernelspec": {
   "display_name": "Python 3 (ipykernel)",
   "language": "python",
   "name": "python3"
  },
  "language_info": {
   "codemirror_mode": {
    "name": "ipython",
    "version": 3
   },
   "file_extension": ".py",
   "mimetype": "text/x-python",
   "name": "python",
   "nbconvert_exporter": "python",
   "pygments_lexer": "ipython3",
   "version": "3.11.5"
  }
 },
 "nbformat": 4,
 "nbformat_minor": 5
}
