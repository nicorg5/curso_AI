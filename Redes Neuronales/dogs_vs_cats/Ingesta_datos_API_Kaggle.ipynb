{
 "cells": [
  {
   "cell_type": "markdown",
   "id": "a36690b0-f5e3-42ee-856f-1ca6f1cef627",
   "metadata": {},
   "source": [
    "# Prueba de ingesta de datos a través de API de Kaggle"
   ]
  },
  {
   "cell_type": "code",
   "execution_count": 2,
   "id": "19836d99-7af7-4fdb-ab5c-2dd8331aae3a",
   "metadata": {},
   "outputs": [
    {
     "name": "stdout",
     "output_type": "stream",
     "text": [
      "Collecting kaggle\n",
      "  Downloading kaggle-1.6.3.tar.gz (84 kB)\n",
      "\u001b[2K     \u001b[90m━━━━━━━━━━━━━━━━━━━━━━━━━━━━━━━━━━━━━━━━\u001b[0m \u001b[32m84.5/84.5 kB\u001b[0m \u001b[31m1.8 MB/s\u001b[0m eta \u001b[36m0:00:00\u001b[0ma \u001b[36m0:00:01\u001b[0m\n",
      "\u001b[?25h  Preparing metadata (setup.py) ... \u001b[?25ldone\n",
      "\u001b[?25hRequirement already satisfied: six>=1.10 in /Users/n.c.rodriguez/anaconda3/lib/python3.11/site-packages (from kaggle) (1.16.0)\n",
      "Requirement already satisfied: certifi in /Users/n.c.rodriguez/anaconda3/lib/python3.11/site-packages (from kaggle) (2023.11.17)\n",
      "Requirement already satisfied: python-dateutil in /Users/n.c.rodriguez/anaconda3/lib/python3.11/site-packages (from kaggle) (2.8.2)\n",
      "Requirement already satisfied: requests in /Users/n.c.rodriguez/anaconda3/lib/python3.11/site-packages (from kaggle) (2.31.0)\n",
      "Requirement already satisfied: tqdm in /Users/n.c.rodriguez/anaconda3/lib/python3.11/site-packages (from kaggle) (4.65.0)\n",
      "Requirement already satisfied: python-slugify in /Users/n.c.rodriguez/anaconda3/lib/python3.11/site-packages (from kaggle) (5.0.2)\n",
      "Requirement already satisfied: urllib3 in /Users/n.c.rodriguez/anaconda3/lib/python3.11/site-packages (from kaggle) (1.26.18)\n",
      "Requirement already satisfied: bleach in /Users/n.c.rodriguez/anaconda3/lib/python3.11/site-packages (from kaggle) (4.1.0)\n",
      "Requirement already satisfied: packaging in /Users/n.c.rodriguez/anaconda3/lib/python3.11/site-packages (from bleach->kaggle) (23.1)\n",
      "Requirement already satisfied: webencodings in /Users/n.c.rodriguez/anaconda3/lib/python3.11/site-packages (from bleach->kaggle) (0.5.1)\n",
      "Requirement already satisfied: text-unidecode>=1.3 in /Users/n.c.rodriguez/anaconda3/lib/python3.11/site-packages (from python-slugify->kaggle) (1.3)\n",
      "Requirement already satisfied: charset-normalizer<4,>=2 in /Users/n.c.rodriguez/anaconda3/lib/python3.11/site-packages (from requests->kaggle) (2.0.4)\n",
      "Requirement already satisfied: idna<4,>=2.5 in /Users/n.c.rodriguez/anaconda3/lib/python3.11/site-packages (from requests->kaggle) (3.4)\n",
      "Building wheels for collected packages: kaggle\n",
      "  Building wheel for kaggle (setup.py) ... \u001b[?25ldone\n",
      "\u001b[?25h  Created wheel for kaggle: filename=kaggle-1.6.3-py3-none-any.whl size=111919 sha256=6f19711354878b0771dbaa2a0f294bdf56bcd1f5da594e30d764020f57e70a60\n",
      "  Stored in directory: /Users/n.c.rodriguez/Library/Caches/pip/wheels/c5/94/5b/08d5bb9b7b78401fa26da264ef32d72bfbd9cb74641c65169b\n",
      "Successfully built kaggle\n",
      "Installing collected packages: kaggle\n",
      "Successfully installed kaggle-1.6.3\n"
     ]
    }
   ],
   "source": [
    "#!pip install kaggle"
   ]
  },
  {
   "cell_type": "code",
   "execution_count": 4,
   "id": "5f4a8e1e-5e23-460b-9634-77d937e470e8",
   "metadata": {},
   "outputs": [],
   "source": [
    "import os\n",
    "from kaggle.api.kaggle_api_extended import KaggleApi \n",
    "import zipfile"
   ]
  },
  {
   "cell_type": "code",
   "execution_count": 6,
   "id": "60f152e8-20f9-41cb-a971-194b63dd08f6",
   "metadata": {},
   "outputs": [],
   "source": [
    "# Configurar la API de Kaggle\n",
    "api = KaggleApi()\n",
    "api.authenticate()"
   ]
  },
  {
   "cell_type": "code",
   "execution_count": 7,
   "id": "ba099301-1ab5-44cf-84a2-f30cc9b689c3",
   "metadata": {},
   "outputs": [],
   "source": [
    "# Descargar el conjunto de datos\n",
    "if os.path.exists('kaggle-cat-vs-dog-dataset.zip') is False:\n",
    "    api.dataset_download_files('karakaggle/kaggle-cat-vs-dog-dataset') # kaggle datasets download -d karakaggle/kaggle-cat-vs-dog-dataset"
   ]
  },
  {
   "cell_type": "code",
   "execution_count": 8,
   "id": "1a6019b6-4e9f-41d2-a512-66134c9d8141",
   "metadata": {},
   "outputs": [],
   "source": [
    "# Descomprimir el archivo descargado\n",
    "if os.path.exists('dogs_vs_cats/kagglecatsanddogs_3367a/PetImages') is False: \n",
    "    with zipfile.ZipFile('kaggle-cat-vs-dog-dataset.zip', 'r') as file:\n",
    "        file.extractall('dogs_vs_cats')"
   ]
  },
  {
   "cell_type": "code",
   "execution_count": null,
   "id": "dbcdba5c-d6d3-4ab9-9105-0f6377173a34",
   "metadata": {},
   "outputs": [],
   "source": []
  }
 ],
 "metadata": {
  "kernelspec": {
   "display_name": "Python 3 (ipykernel)",
   "language": "python",
   "name": "python3"
  },
  "language_info": {
   "codemirror_mode": {
    "name": "ipython",
    "version": 3
   },
   "file_extension": ".py",
   "mimetype": "text/x-python",
   "name": "python",
   "nbconvert_exporter": "python",
   "pygments_lexer": "ipython3",
   "version": "3.11.5"
  }
 },
 "nbformat": 4,
 "nbformat_minor": 5
}
