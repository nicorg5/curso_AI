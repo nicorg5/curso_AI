{
 "cells": [
  {
   "cell_type": "markdown",
   "id": "ee279775-3c3d-4e4d-9713-f9fc6d40d64c",
   "metadata": {},
   "source": [
    "## Remove old Weaviate DB files"
   ]
  },
  {
   "cell_type": "code",
   "execution_count": 1,
   "id": "f060f6db-3f72-497f-a064-bda653d1d36e",
   "metadata": {},
   "outputs": [],
   "source": [
    "!rm -rf ~/.local/share/weaviate"
   ]
  },
  {
   "cell_type": "markdown",
   "id": "bfee62e3-356c-46fd-bcbc-916e8a4da637",
   "metadata": {},
   "source": [
    "# Approximate Nearest Neighbors (ANN)"
   ]
  },
  {
   "cell_type": "code",
   "execution_count": 2,
   "id": "37bf02d4-81ba-4c2f-a0e7-5284d2ba87ad",
   "metadata": {},
   "outputs": [],
   "source": [
    "from random import random, randint\n",
    "from math import floor, log\n",
    "import networkx as nx\n",
    "import numpy as np\n",
    "import matplotlib as mtplt\n",
    "from matplotlib import pyplot as plt\n",
    "from utils import *"
   ]
  },
  {
   "cell_type": "code",
   "execution_count": 3,
   "id": "fb43f3f2-9adf-4efb-8352-9fe9ea2ae8a2",
   "metadata": {},
   "outputs": [],
   "source": [
    "vec_num = 40 # Number of vectors (nodes)\n",
    "dim = 2 ## Dimention. Set to be 2. All the graph plots are for dim 2. If changed, then plots should be commented. \n",
    "m_nearest_neighbor = 2 # M Nearest Neigbor used in construction of the Navigable Small World (NSW). Cantidad de vecinos que se van a buscar\n",
    "\n",
    "vec_pos = np.random.uniform(size=(vec_num, dim))"
   ]
  },
  {
   "cell_type": "markdown",
   "id": "4cf39caa-4eb8-4800-ba44-87ff316b549b",
   "metadata": {},
   "source": [
    "### Query Vector"
   ]
  },
  {
   "cell_type": "code",
   "execution_count": 4,
   "id": "2f400964-3b4b-4a8c-8a5f-9ea36ec13bf3",
   "metadata": {},
   "outputs": [
    {
     "name": "stdout",
     "output_type": "stream",
     "text": [
      "nodes =  [('Q', {'pos': [0.5, 0.5]})]\n"
     ]
    }
   ],
   "source": [
    "## Query\n",
    "query_vec = [0.5, 0.5]\n",
    "\n",
    "# list of query vector\n",
    "nodes = []\n",
    "nodes.append((\"Q\",{\"pos\": query_vec}))\n",
    "\n",
    "# use the nx library for ilustration\n",
    "G_query = nx.Graph()\n",
    "G_query.add_nodes_from(nodes)\n",
    "\n",
    "print(\"nodes = \", nodes, flush=True)\n",
    "\n",
    "# create the position of the query fot the plot\n",
    "pos_query=nx.get_node_attributes(G_query,'pos')"
   ]
  },
  {
   "cell_type": "markdown",
   "id": "5fe9f36a-eef3-4d89-8b17-5eefd601b5b8",
   "metadata": {},
   "source": [
    "## Brute Force"
   ]
  },
  {
   "cell_type": "code",
   "execution_count": 7,
   "id": "05ec5bfe-574f-4ab4-a7bc-bf20a2135144",
   "metadata": {},
   "outputs": [
    {
     "ename": "ModuleNotFoundError",
     "evalue": "No module named 'nearest_neigbor'",
     "output_type": "error",
     "traceback": [
      "\u001b[0;31m---------------------------------------------------------------------------\u001b[0m",
      "\u001b[0;31mModuleNotFoundError\u001b[0m                       Traceback (most recent call last)",
      "Cell \u001b[0;32mIn[7], line 1\u001b[0m\n\u001b[0;32m----> 1\u001b[0m \u001b[38;5;28;01mimport\u001b[39;00m \u001b[38;5;21;01mnearest_neigbor\u001b[39;00m\n",
      "\u001b[0;31mModuleNotFoundError\u001b[0m: No module named 'nearest_neigbor'"
     ]
    }
   ],
   "source": [
    "import nearest_neigbor"
   ]
  },
  {
   "cell_type": "code",
   "execution_count": 5,
   "id": "90568909-05f0-4d26-b0d6-70637da620f7",
   "metadata": {},
   "outputs": [
    {
     "ename": "NameError",
     "evalue": "name 'nearest_neigbor' is not defined",
     "output_type": "error",
     "traceback": [
      "\u001b[0;31m---------------------------------------------------------------------------\u001b[0m",
      "\u001b[0;31mNameError\u001b[0m                                 Traceback (most recent call last)",
      "Cell \u001b[0;32mIn[5], line 2\u001b[0m\n\u001b[1;32m      1\u001b[0m \u001b[38;5;66;03m# Use nearest_neigbor to find the best vector embedding for our search\u001b[39;00m\n\u001b[0;32m----> 2\u001b[0m (G_lin, G_best) \u001b[38;5;241m=\u001b[39m \u001b[43mnearest_neigbor\u001b[49m(vec_pos,query_vec)\n\u001b[1;32m      4\u001b[0m \u001b[38;5;66;03m# plot it on the graph\u001b[39;00m\n\u001b[1;32m      5\u001b[0m pos_lin\u001b[38;5;241m=\u001b[39mnx\u001b[38;5;241m.\u001b[39mget_node_attributes(G_lin,\u001b[38;5;124m'\u001b[39m\u001b[38;5;124mpos\u001b[39m\u001b[38;5;124m'\u001b[39m)\n",
      "\u001b[0;31mNameError\u001b[0m: name 'nearest_neigbor' is not defined"
     ]
    }
   ],
   "source": [
    "# Use nearest_neigbor to find the best vector embedding for our search\n",
    "(G_lin, G_best) = nearest_neigbor(vec_pos,query_vec)\n",
    "\n",
    "# plot it on the graph\n",
    "pos_lin=nx.get_node_attributes(G_lin,'pos')\n",
    "pos_best=nx.get_node_attributes(G_best,'pos')\n",
    "\n",
    "fig, axs = plt.subplots()\n",
    "\n",
    "nx.draw(G_lin, pos_lin, with_labels=True, node_size=150, node_color=[[0.8,0.8,1]], width=0.0, font_size=7, ax = axs)\n",
    "nx.draw(G_query, pos_query, with_labels=True, node_size=200, node_color=[[0.5,0,0]], font_color='white', width=0.5, font_size=7, font_weight='bold', ax = axs)\n",
    "nx.draw(G_best, pos_best, with_labels=True, node_size=200, node_color=[[0.85,0.7,0.2]], width=0.5, font_size=7, font_weight='bold', ax = axs)"
   ]
  },
  {
   "cell_type": "markdown",
   "id": "dfcf1cff-e158-4a6c-8305-d7244f97dc9a",
   "metadata": {},
   "source": [
    "### HNSW Construction\n",
    "HNSW is a very popular technology for vector similarity search. Produces a performance with super fast search and fantastic recall"
   ]
  },
  {
   "cell_type": "code",
   "execution_count": 8,
   "id": "8631993b-cab4-4dd8-ad5c-19990067303c",
   "metadata": {},
   "outputs": [
    {
     "ename": "NameError",
     "evalue": "name 'construct_HNSW' is not defined",
     "output_type": "error",
     "traceback": [
      "\u001b[0;31m---------------------------------------------------------------------------\u001b[0m",
      "\u001b[0;31mNameError\u001b[0m                                 Traceback (most recent call last)",
      "Cell \u001b[0;32mIn[8], line 1\u001b[0m\n\u001b[0;32m----> 1\u001b[0m GraphArray \u001b[38;5;241m=\u001b[39m \u001b[43mconstruct_HNSW\u001b[49m(vec_pos,m_nearest_neighbor)\n\u001b[1;32m      3\u001b[0m \u001b[38;5;28;01mfor\u001b[39;00m layer_i \u001b[38;5;129;01min\u001b[39;00m \u001b[38;5;28mrange\u001b[39m(\u001b[38;5;28mlen\u001b[39m(GraphArray)\u001b[38;5;241m-\u001b[39m\u001b[38;5;241m1\u001b[39m,\u001b[38;5;241m-\u001b[39m\u001b[38;5;241m1\u001b[39m,\u001b[38;5;241m-\u001b[39m\u001b[38;5;241m1\u001b[39m):\n\u001b[1;32m      4\u001b[0m     fig, axs \u001b[38;5;241m=\u001b[39m plt\u001b[38;5;241m.\u001b[39msubplots()\n",
      "\u001b[0;31mNameError\u001b[0m: name 'construct_HNSW' is not defined"
     ]
    }
   ],
   "source": [
    "GraphArray = construct_HNSW(vec_pos,m_nearest_neighbor)\n",
    "\n",
    "for layer_i in range(len(GraphArray)-1,-1,-1):\n",
    "    fig, axs = plt.subplots()\n",
    "\n",
    "    print(\"layer_i = \", layer_i)\n",
    "        \n",
    "    if layer_i>0:\n",
    "        pos_layer_0 = nx.get_node_attributes(GraphArray[0],'pos')\n",
    "        nx.draw(GraphArray[0], pos_layer_0, with_labels=True, node_size=120, node_color=[[0.9,0.9,1]], width=0.0, font_size=6, font_color=(0.65,0.65,0.65), ax = axs)\n",
    "\n",
    "    pos_layer_i = nx.get_node_attributes(GraphArray[layer_i],'pos')\n",
    "    nx.draw(GraphArray[layer_i], pos_layer_i, with_labels=True, node_size=150, node_color=[[0.7,0.7,1]], width=0.5, font_size=7, ax = axs)\n",
    "    nx.draw(G_query, pos_query, with_labels=True, node_size=200, node_color=[[0.8,0,0]], width=0.5, font_size=7, font_weight='bold', ax = axs)\n",
    "    nx.draw(G_best, pos_best, with_labels=True, node_size=200, node_color=[[0.85,0.7,0.2]], width=0.5, font_size=7, font_weight='bold', ax = axs)\n",
    "    plt.show()"
   ]
  },
  {
   "cell_type": "markdown",
   "id": "852d8165-3dac-452b-9c00-079e61914bb0",
   "metadata": {},
   "source": [
    "### HNSW Search"
   ]
  },
  {
   "cell_type": "code",
   "execution_count": 9,
   "id": "c9416137-336f-43ba-8c05-5f4e003e0adb",
   "metadata": {},
   "outputs": [
    {
     "ename": "NameError",
     "evalue": "name 'search_HNSW' is not defined",
     "output_type": "error",
     "traceback": [
      "\u001b[0;31m---------------------------------------------------------------------------\u001b[0m",
      "\u001b[0;31mNameError\u001b[0m                                 Traceback (most recent call last)",
      "Cell \u001b[0;32mIn[9], line 1\u001b[0m\n\u001b[0;32m----> 1\u001b[0m (SearchPathGraphArray, EntryGraphArray) \u001b[38;5;241m=\u001b[39m \u001b[43msearch_HNSW\u001b[49m(GraphArray,G_query)\n\u001b[1;32m      3\u001b[0m \u001b[38;5;28;01mfor\u001b[39;00m layer_i \u001b[38;5;129;01min\u001b[39;00m \u001b[38;5;28mrange\u001b[39m(\u001b[38;5;28mlen\u001b[39m(GraphArray)\u001b[38;5;241m-\u001b[39m\u001b[38;5;241m1\u001b[39m,\u001b[38;5;241m-\u001b[39m\u001b[38;5;241m1\u001b[39m,\u001b[38;5;241m-\u001b[39m\u001b[38;5;241m1\u001b[39m):\n\u001b[1;32m      4\u001b[0m     fig, axs \u001b[38;5;241m=\u001b[39m plt\u001b[38;5;241m.\u001b[39msubplots()\n",
      "\u001b[0;31mNameError\u001b[0m: name 'search_HNSW' is not defined"
     ]
    }
   ],
   "source": [
    "(SearchPathGraphArray, EntryGraphArray) = search_HNSW(GraphArray,G_query)\n",
    "\n",
    "for layer_i in range(len(GraphArray)-1,-1,-1):\n",
    "    fig, axs = plt.subplots()\n",
    "\n",
    "    print(\"layer_i = \", layer_i)\n",
    "    G_path_layer = SearchPathGraphArray[layer_i]\n",
    "    pos_path = nx.get_node_attributes(G_path_layer,'pos')\n",
    "    G_entry = EntryGraphArray[layer_i]\n",
    "    pos_entry = nx.get_node_attributes(G_entry,'pos')\n",
    "\n",
    "    if layer_i>0:\n",
    "            pos_layer_0 = nx.get_node_attributes(GraphArray[0],'pos')\n",
    "            nx.draw(GraphArray[0], pos_layer_0, with_labels=True, node_size=120, node_color=[[0.9,0.9,1]], width=0.0, font_size=6, font_color=(0.65,0.65,0.65), ax = axs)\n",
    "\n",
    "    pos_layer_i = nx.get_node_attributes(GraphArray[layer_i],'pos')\n",
    "    nx.draw(GraphArray[layer_i], pos_layer_i, with_labels=True, node_size=100, node_color=[[0.7,0.7,1]], width=0.5, font_size=6, ax = axs)\n",
    "    nx.draw(G_path_layer, pos_path, with_labels=True, node_size=110, node_color=[[0.8,1,0.8]], width=0.5, font_size=6, ax = axs)\n",
    "    nx.draw(G_query, pos_query, with_labels=True, node_size=80, node_color=[[0.8,0,0]], width=0.5, font_size=7, ax = axs)\n",
    "    nx.draw(G_best, pos_best, with_labels=True, node_size=70, node_color=[[0.85,0.7,0.2]], width=0.5, font_size=7, ax = axs)\n",
    "    nx.draw(G_entry, pos_entry, with_labels=True, node_size=80, node_color=[[0.1,0.9,0.1]], width=0.5, font_size=7, ax = axs)\n",
    "    plt.show()"
   ]
  },
  {
   "cell_type": "markdown",
   "id": "6a03c041-bd53-4626-9026-c2b8c25127a4",
   "metadata": {},
   "source": [
    "## Pure Vector Search - with a vector database"
   ]
  },
  {
   "cell_type": "code",
   "execution_count": 12,
   "id": "d323696d-4ffa-4b4d-8130-c2ba801a21a3",
   "metadata": {
    "scrolled": true
   },
   "outputs": [
    {
     "name": "stdout",
     "output_type": "stream",
     "text": [
      "Collecting weaviate-client\n",
      "  Downloading weaviate_client-4.4.4-py3-none-any.whl.metadata (3.5 kB)\n",
      "Requirement already satisfied: requests<3.0.0,>=2.30.0 in /Users/n.c.rodriguez/anaconda3/envs/nico/lib/python3.10/site-packages (from weaviate-client) (2.31.0)\n",
      "Collecting httpx==0.26.0 (from weaviate-client)\n",
      "  Downloading httpx-0.26.0-py3-none-any.whl.metadata (7.6 kB)\n",
      "Collecting validators==0.22.0 (from weaviate-client)\n",
      "  Downloading validators-0.22.0-py3-none-any.whl.metadata (4.7 kB)\n",
      "Collecting authlib<2.0.0,>=1.2.1 (from weaviate-client)\n",
      "  Downloading Authlib-1.3.0-py2.py3-none-any.whl.metadata (3.8 kB)\n",
      "Requirement already satisfied: pydantic<3.0.0,>=2.5.0 in /Users/n.c.rodriguez/anaconda3/envs/nico/lib/python3.10/site-packages (from weaviate-client) (2.6.0)\n",
      "Collecting grpcio<2.0.0,>=1.57.0 (from weaviate-client)\n",
      "  Downloading grpcio-1.60.1-cp310-cp310-macosx_12_0_universal2.whl.metadata (4.0 kB)\n",
      "Collecting grpcio-tools<2.0.0,>=1.57.0 (from weaviate-client)\n",
      "  Downloading grpcio_tools-1.60.1-cp310-cp310-macosx_12_0_universal2.whl.metadata (6.2 kB)\n",
      "Collecting grpcio-health-checking<2.0.0,>=1.57.0 (from weaviate-client)\n",
      "  Downloading grpcio_health_checking-1.60.1-py3-none-any.whl.metadata (1.3 kB)\n",
      "Requirement already satisfied: anyio in /Users/n.c.rodriguez/anaconda3/envs/nico/lib/python3.10/site-packages (from httpx==0.26.0->weaviate-client) (4.2.0)\n",
      "Requirement already satisfied: certifi in /Users/n.c.rodriguez/anaconda3/envs/nico/lib/python3.10/site-packages (from httpx==0.26.0->weaviate-client) (2024.2.2)\n",
      "Requirement already satisfied: httpcore==1.* in /Users/n.c.rodriguez/anaconda3/envs/nico/lib/python3.10/site-packages (from httpx==0.26.0->weaviate-client) (1.0.2)\n",
      "Requirement already satisfied: idna in /Users/n.c.rodriguez/anaconda3/envs/nico/lib/python3.10/site-packages (from httpx==0.26.0->weaviate-client) (3.4)\n",
      "Requirement already satisfied: sniffio in /Users/n.c.rodriguez/anaconda3/envs/nico/lib/python3.10/site-packages (from httpx==0.26.0->weaviate-client) (1.3.0)\n",
      "Requirement already satisfied: h11<0.15,>=0.13 in /Users/n.c.rodriguez/anaconda3/envs/nico/lib/python3.10/site-packages (from httpcore==1.*->httpx==0.26.0->weaviate-client) (0.14.0)\n",
      "Requirement already satisfied: cryptography in /Users/n.c.rodriguez/anaconda3/envs/nico/lib/python3.10/site-packages (from authlib<2.0.0,>=1.2.1->weaviate-client) (41.0.7)\n",
      "Requirement already satisfied: protobuf>=4.21.6 in /Users/n.c.rodriguez/anaconda3/envs/nico/lib/python3.10/site-packages (from grpcio-health-checking<2.0.0,>=1.57.0->weaviate-client) (4.21.12)\n",
      "Requirement already satisfied: setuptools in /Users/n.c.rodriguez/anaconda3/envs/nico/lib/python3.10/site-packages (from grpcio-tools<2.0.0,>=1.57.0->weaviate-client) (68.2.2)\n",
      "Requirement already satisfied: annotated-types>=0.4.0 in /Users/n.c.rodriguez/anaconda3/envs/nico/lib/python3.10/site-packages (from pydantic<3.0.0,>=2.5.0->weaviate-client) (0.6.0)\n",
      "Requirement already satisfied: pydantic-core==2.16.1 in /Users/n.c.rodriguez/anaconda3/envs/nico/lib/python3.10/site-packages (from pydantic<3.0.0,>=2.5.0->weaviate-client) (2.16.1)\n",
      "Requirement already satisfied: typing-extensions>=4.6.1 in /Users/n.c.rodriguez/anaconda3/envs/nico/lib/python3.10/site-packages (from pydantic<3.0.0,>=2.5.0->weaviate-client) (4.9.0)\n",
      "Requirement already satisfied: charset-normalizer<4,>=2 in /Users/n.c.rodriguez/anaconda3/envs/nico/lib/python3.10/site-packages (from requests<3.0.0,>=2.30.0->weaviate-client) (2.0.4)\n",
      "Requirement already satisfied: urllib3<3,>=1.21.1 in /Users/n.c.rodriguez/anaconda3/envs/nico/lib/python3.10/site-packages (from requests<3.0.0,>=2.30.0->weaviate-client) (1.26.18)\n",
      "Requirement already satisfied: exceptiongroup>=1.0.2 in /Users/n.c.rodriguez/anaconda3/envs/nico/lib/python3.10/site-packages (from anyio->httpx==0.26.0->weaviate-client) (1.2.0)\n",
      "Requirement already satisfied: cffi>=1.12 in /Users/n.c.rodriguez/anaconda3/envs/nico/lib/python3.10/site-packages (from cryptography->authlib<2.0.0,>=1.2.1->weaviate-client) (1.16.0)\n",
      "Requirement already satisfied: pycparser in /Users/n.c.rodriguez/anaconda3/envs/nico/lib/python3.10/site-packages (from cffi>=1.12->cryptography->authlib<2.0.0,>=1.2.1->weaviate-client) (2.21)\n",
      "Downloading weaviate_client-4.4.4-py3-none-any.whl (293 kB)\n",
      "\u001b[2K   \u001b[90m━━━━━━━━━━━━━━━━━━━━━━━━━━━━━━━━━━━━━━━━\u001b[0m \u001b[32m293.7/293.7 kB\u001b[0m \u001b[31m11.2 MB/s\u001b[0m eta \u001b[36m0:00:00\u001b[0m\n",
      "\u001b[?25hDownloading httpx-0.26.0-py3-none-any.whl (75 kB)\n",
      "\u001b[2K   \u001b[90m━━━━━━━━━━━━━━━━━━━━━━━━━━━━━━━━━━━━━━━━\u001b[0m \u001b[32m75.9/75.9 kB\u001b[0m \u001b[31m6.4 MB/s\u001b[0m eta \u001b[36m0:00:00\u001b[0m\n",
      "\u001b[?25hDownloading validators-0.22.0-py3-none-any.whl (26 kB)\n",
      "Downloading Authlib-1.3.0-py2.py3-none-any.whl (223 kB)\n",
      "\u001b[2K   \u001b[90m━━━━━━━━━━━━━━━━━━━━━━━━━━━━━━━━━━━━━━━━\u001b[0m \u001b[32m223.7/223.7 kB\u001b[0m \u001b[31m32.6 MB/s\u001b[0m eta \u001b[36m0:00:00\u001b[0m\n",
      "\u001b[?25hDownloading grpcio-1.60.1-cp310-cp310-macosx_12_0_universal2.whl (9.6 MB)\n",
      "\u001b[2K   \u001b[90m━━━━━━━━━━━━━━━━━━━━━━━━━━━━━━━━━━━━━━━━\u001b[0m \u001b[32m9.6/9.6 MB\u001b[0m \u001b[31m60.4 MB/s\u001b[0m eta \u001b[36m0:00:00\u001b[0m00:01\u001b[0m00:01\u001b[0m\n",
      "\u001b[?25hDownloading grpcio_health_checking-1.60.1-py3-none-any.whl (18 kB)\n",
      "Downloading grpcio_tools-1.60.1-cp310-cp310-macosx_12_0_universal2.whl (5.1 MB)\n",
      "\u001b[2K   \u001b[90m━━━━━━━━━━━━━━━━━━━━━━━━━━━━━━━━━━━━━━━━\u001b[0m \u001b[32m5.1/5.1 MB\u001b[0m \u001b[31m27.9 MB/s\u001b[0m eta \u001b[36m0:00:00\u001b[0ma \u001b[36m0:00:01\u001b[0m\n",
      "\u001b[?25hInstalling collected packages: validators, grpcio, httpx, grpcio-tools, grpcio-health-checking, authlib, weaviate-client\n",
      "  Attempting uninstall: grpcio\n",
      "    Found existing installation: grpcio 1.51.1\n",
      "    Uninstalling grpcio-1.51.1:\n",
      "      Successfully uninstalled grpcio-1.51.1\n",
      "  Attempting uninstall: httpx\n",
      "    Found existing installation: httpx 0.25.2\n",
      "    Uninstalling httpx-0.25.2:\n",
      "      Successfully uninstalled httpx-0.25.2\n",
      "\u001b[31mERROR: pip's dependency resolver does not currently take into account all the packages that are installed. This behaviour is the source of the following dependency conflicts.\n",
      "astrapy 0.7.1 requires httpx[http2]<0.26.0,>=0.25.1, but you have httpx 0.26.0 which is incompatible.\n",
      "tensorboard 2.11.0 requires protobuf<4,>=3.9.2, but you have protobuf 4.21.12 which is incompatible.\u001b[0m\u001b[31m\n",
      "\u001b[0mSuccessfully installed authlib-1.3.0 grpcio-1.60.1 grpcio-health-checking-1.60.1 grpcio-tools-1.60.1 httpx-0.26.0 validators-0.22.0 weaviate-client-4.4.4\n"
     ]
    }
   ],
   "source": [
    "!pip install -U weaviate-client"
   ]
  },
  {
   "cell_type": "code",
   "execution_count": 14,
   "id": "380e92b0-7b11-43f3-ac87-145ad7485c68",
   "metadata": {},
   "outputs": [
    {
     "name": "stderr",
     "output_type": "stream",
     "text": [
      "/Users/n.c.rodriguez/anaconda3/envs/nico/lib/python3.10/site-packages/weaviate/__init__.py:128: DeprecationWarning: Dep010: Importing EmbeddedOptions from weaviate is deprecated. Please import it from its specific module: weaviate.embedded\n",
      "  _Warnings.root_module_import(name, map_[name])\n",
      "/Users/n.c.rodriguez/anaconda3/envs/nico/lib/python3.10/site-packages/weaviate/warnings.py:158: DeprecationWarning: Dep016: You are using the Weaviate v3 client, which is deprecated.\n",
      "            Consider upgrading to the new and improved v4 client instead!\n",
      "            See here for usage: https://weaviate.io/developers/weaviate/client-libraries/python\n",
      "            \n",
      "  warnings.warn(\n"
     ]
    },
    {
     "name": "stdout",
     "output_type": "stream",
     "text": [
      "Binary /Users/n.c.rodriguez/.cache/weaviate-embedded did not exist. Downloading binary from https://github.com/weaviate/weaviate/releases/download/v1.23.7/weaviate-v1.23.7-Darwin-all.zip\n",
      "Started /Users/n.c.rodriguez/.cache/weaviate-embedded: process ID 16672\n"
     ]
    },
    {
     "name": "stderr",
     "output_type": "stream",
     "text": [
      "{\"action\":\"startup\",\"default_vectorizer_module\":\"none\",\"level\":\"info\",\"msg\":\"the default vectorizer modules is set to \\\"none\\\", as a result all new schema classes without an explicit vectorizer setting, will use this vectorizer\",\"time\":\"2024-02-15T21:03:58+01:00\"}\n",
      "{\"action\":\"startup\",\"auto_schema_enabled\":true,\"level\":\"info\",\"msg\":\"auto schema enabled setting is set to \\\"true\\\"\",\"time\":\"2024-02-15T21:03:58+01:00\"}\n",
      "{\"level\":\"info\",\"msg\":\"No resource limits set, weaviate will use all available memory and CPU. To limit resources, set LIMIT_RESOURCES=true\",\"time\":\"2024-02-15T21:03:58+01:00\"}\n",
      "{\"level\":\"warning\",\"msg\":\"Multiple vector spaces are present, GraphQL Explore and REST API list objects endpoint module include params has been disabled as a result.\",\"time\":\"2024-02-15T21:03:58+01:00\"}\n",
      "{\"action\":\"grpc_startup\",\"level\":\"info\",\"msg\":\"grpc server listening at [::]:50060\",\"time\":\"2024-02-15T21:03:58+01:00\"}\n",
      "{\"action\":\"restapi_management\",\"level\":\"info\",\"msg\":\"Serving weaviate at http://127.0.0.1:8079\",\"time\":\"2024-02-15T21:03:58+01:00\"}\n"
     ]
    },
    {
     "data": {
      "text/plain": [
       "True"
      ]
     },
     "execution_count": 14,
     "metadata": {},
     "output_type": "execute_result"
    }
   ],
   "source": [
    "import weaviate, json\n",
    "from weaviate import EmbeddedOptions\n",
    "\n",
    "client = weaviate.Client(\n",
    "    embedded_options=EmbeddedOptions(),\n",
    ")\n",
    "\n",
    "client.is_ready()"
   ]
  },
  {
   "cell_type": "code",
   "execution_count": 15,
   "id": "6331be9d-aba2-4c9d-a36d-7f50efbdc3e0",
   "metadata": {},
   "outputs": [
    {
     "name": "stdout",
     "output_type": "stream",
     "text": [
      "Successfully created the schema.\n"
     ]
    },
    {
     "name": "stderr",
     "output_type": "stream",
     "text": [
      "{\"level\":\"info\",\"msg\":\"Created shard mycollection_MMchYReSEf3p in 14.693292ms\",\"time\":\"2024-02-15T21:04:16+01:00\"}\n",
      "{\"action\":\"hnsw_vector_cache_prefill\",\"count\":1000,\"index_id\":\"main\",\"level\":\"info\",\"limit\":1000000000000,\"msg\":\"prefilled vector cache\",\"time\":\"2024-02-15T21:04:16+01:00\",\"took\":161250}\n"
     ]
    }
   ],
   "source": [
    "# resetting the schema. CAUTION: This will delete your collection \n",
    "# if client.schema.exists(\"MyCollection\"):\n",
    "#     client.schema.delete_class(\"MyCollection\")\n",
    "\n",
    "schema = {\n",
    "    \"class\": \"MyCollection\",\n",
    "    \"vectorizer\": \"none\",\n",
    "    \"vectorIndexConfig\": {\n",
    "        \"distance\": \"cosine\" # let's use cosine distance\n",
    "    },\n",
    "}\n",
    "\n",
    "client.schema.create_class(schema)\n",
    "\n",
    "print(\"Successfully created the schema.\")"
   ]
  },
  {
   "cell_type": "markdown",
   "id": "8be88056-89c2-423a-9a01-f4b48e89ebb2",
   "metadata": {},
   "source": [
    "### Import the Data"
   ]
  },
  {
   "cell_type": "code",
   "execution_count": 18,
   "id": "28b5f1c3-2f1a-44e6-8835-61f89907bf6b",
   "metadata": {},
   "outputs": [],
   "source": [
    "data = [\n",
    "   {\n",
    "      \"title\": \"First Object\",\n",
    "      \"foo\": 99, \n",
    "      \"vector\": [0.1, 0.1, 0.1, 0.1, 0.1, 0.1]\n",
    "   },\n",
    "   {\n",
    "      \"title\": \"Second Object\",\n",
    "      \"foo\": 77, \n",
    "      \"vector\": [0.2, 0.3, 0.4, 0.5, 0.6, 0.7]\n",
    "   },\n",
    "   {\n",
    "      \"title\": \"Third Object\",\n",
    "      \"foo\": 55, \n",
    "      \"vector\": [0.3, 0.1, -0.1, -0.3, -0.5, -0.7]\n",
    "   },\n",
    "   {\n",
    "      \"title\": \"Fourth Object\",\n",
    "      \"foo\": 33, \n",
    "      \"vector\": [0.4, 0.41, 0.42, 0.43, 0.44, 0.45]\n",
    "   },\n",
    "   {\n",
    "      \"title\": \"Fifth Object\",\n",
    "      \"foo\": 11,\n",
    "      \"vector\": [0.5, 0.5, 0, 0, 0, 0]\n",
    "   },\n",
    "]"
   ]
  },
  {
   "cell_type": "code",
   "execution_count": 17,
   "id": "ddcd18a8-4fd0-4022-b672-cff5d292f684",
   "metadata": {},
   "outputs": [],
   "source": [
    "# En este código se usa Weaviate para realiazr una importación por lotes de objetos de datos en un servicio Weaiate.\n",
    "\n",
    "client.batch.configure(batch_size=10)  # Configure batch. En cada solicitud de importación, se enviarán 10 objetos\n",
    "\n",
    "# Batch import all objects\n",
    "# yes batch is an overkill for 5 objects, but it is recommended for large volumes of data\n",
    "with client.batch as batch:\n",
    "  for item in data:\n",
    "\n",
    "      properties = {\n",
    "         \"title\": item[\"title\"],\n",
    "         \"foo\": item[\"foo\"],\n",
    "      }\n",
    "\n",
    "      # the call that performs data insert\n",
    "      client.batch.add_data_object(\n",
    "         class_name=\"MyCollection\",\n",
    "         data_object=properties,\n",
    "         vector=item[\"vector\"] # your vector embeddings go here\n",
    "      )"
   ]
  },
  {
   "cell_type": "code",
   "execution_count": 19,
   "id": "b5ba25c3-f0af-4dc5-abf0-3fa92d9d8181",
   "metadata": {},
   "outputs": [
    {
     "name": "stdout",
     "output_type": "stream",
     "text": [
      "{'data': {'Aggregate': {'MyCollection': [{'meta': {'count': 5}}]}}}\n"
     ]
    }
   ],
   "source": [
    "# Check number of objects\n",
    "response = (\n",
    "    client.query\n",
    "    .aggregate(\"MyCollection\")\n",
    "    .with_meta_count()\n",
    "    .do()\n",
    ")\n",
    "\n",
    "print(response)"
   ]
  },
  {
   "cell_type": "markdown",
   "id": "05d402ff-2a95-4b42-8372-10ad45963e40",
   "metadata": {},
   "source": [
    "En el output anterior se puede observar como la colección 'MyCollection' dentro de la bbdd tiene 5 objetos"
   ]
  },
  {
   "cell_type": "markdown",
   "id": "20869613-fcc8-429a-91e2-484863b4d594",
   "metadata": {},
   "source": [
    "### Query Weaviate: Vector Search (vector embeddings)"
   ]
  },
  {
   "cell_type": "code",
   "execution_count": 20,
   "id": "7ffec1cf-b823-47e7-bee6-5b4ffd94d603",
   "metadata": {},
   "outputs": [
    {
     "name": "stdout",
     "output_type": "stream",
     "text": [
      "[\n",
      "  {\n",
      "    \"title\": \"Second Object\"\n",
      "  },\n",
      "  {\n",
      "    \"title\": \"Fourth Object\"\n",
      "  }\n",
      "]\n"
     ]
    }
   ],
   "source": [
    "response = (\n",
    "    client.query\n",
    "    .get(\"MyCollection\", [\"title\"]) #para recuperar los títulos de los objetos dentro de la colleción 'MyCollection'\n",
    "    .with_near_vector({\n",
    "        \"vector\": [-0.012, 0.021, -0.23, -0.42, 0.5, 0.5]\n",
    "    }) #búsqueda de vectores similares al vector dado\n",
    "    .with_limit(2) # limit the output to only 2\n",
    "    .do()\n",
    ")\n",
    "\n",
    "result = response[\"data\"][\"Get\"][\"MyCollection\"]\n",
    "print(json.dumps(result, indent=2))"
   ]
  },
  {
   "cell_type": "code",
   "execution_count": 21,
   "id": "f20e5b5a-137d-4d80-b672-7daa78aeac31",
   "metadata": {},
   "outputs": [
    {
     "name": "stdout",
     "output_type": "stream",
     "text": [
      "[\n",
      "  {\n",
      "    \"_additional\": {\n",
      "      \"distance\": 0.6506307,\n",
      "      \"id\": \"d1e417c0-722f-4a1a-9994-e59987958add\",\n",
      "      \"vector\": [\n",
      "        0.2,\n",
      "        0.3,\n",
      "        0.4,\n",
      "        0.5,\n",
      "        0.6,\n",
      "        0.7\n",
      "      ]\n",
      "    },\n",
      "    \"title\": \"Second Object\"\n",
      "  },\n",
      "  {\n",
      "    \"_additional\": {\n",
      "      \"distance\": 0.8072029,\n",
      "      \"id\": \"dc71ab72-1a98-44a4-8c29-634f8a7b496e\",\n",
      "      \"vector\": [\n",
      "        0.4,\n",
      "        0.41,\n",
      "        0.42,\n",
      "        0.43,\n",
      "        0.44,\n",
      "        0.45\n",
      "      ]\n",
      "    },\n",
      "    \"title\": \"Fourth Object\"\n",
      "  }\n",
      "]\n"
     ]
    }
   ],
   "source": [
    "# Lo mismo que antes pero ahora recuperamos más información, como la distancia, el vector y el id\n",
    "response = (\n",
    "    client.query\n",
    "    .get(\"MyCollection\", [\"title\"])\n",
    "    .with_near_vector({\n",
    "        \"vector\": [-0.012, 0.021, -0.23, -0.42, 0.5, 0.5]\n",
    "    })\n",
    "    .with_limit(2) # limit the output to only 2\n",
    "    .with_additional([\"distance\", \"vector, id\"])\n",
    "    .do()\n",
    ")\n",
    "\n",
    "result = response[\"data\"][\"Get\"][\"MyCollection\"]\n",
    "print(json.dumps(result, indent=2))"
   ]
  },
  {
   "cell_type": "markdown",
   "id": "cdf0a345-6bfd-446d-99df-d630077e5d4c",
   "metadata": {},
   "source": [
    "### Vector Search with filters"
   ]
  },
  {
   "cell_type": "code",
   "execution_count": 25,
   "id": "b47b6572-0678-4055-814d-31ffddc4da6f",
   "metadata": {},
   "outputs": [
    {
     "name": "stdout",
     "output_type": "stream",
     "text": [
      "[\n",
      "  {\n",
      "    \"_additional\": {\n",
      "      \"distance\": 0.6506307,\n",
      "      \"id\": \"d1e417c0-722f-4a1a-9994-e59987958add\"\n",
      "    },\n",
      "    \"foo\": 77,\n",
      "    \"title\": \"Second Object\"\n",
      "  },\n",
      "  {\n",
      "    \"_additional\": {\n",
      "      \"distance\": 0.8284496,\n",
      "      \"id\": \"36074b02-da8f-4b58-92fc-06929d868462\"\n",
      "    },\n",
      "    \"foo\": 99,\n",
      "    \"title\": \"First Object\"\n",
      "  }\n",
      "]\n"
     ]
    }
   ],
   "source": [
    "response = (\n",
    "    client.query\n",
    "    .get(\"MyCollection\", [\"title\", \"foo\"])\n",
    "    .with_near_vector({\n",
    "        \"vector\": [-0.012, 0.021, -0.23, -0.42, 0.5, 0.5]\n",
    "    })\n",
    "    .with_additional([\"distance, id\"]) # output the distance of the query vector to the objects in the database\n",
    "    .with_where({\n",
    "        \"path\": [\"foo\"],\n",
    "        \"operator\": \"GreaterThan\",\n",
    "        \"valueNumber\": 44\n",
    "    })\n",
    "    .with_limit(2) # limit the output to only 2\n",
    "    .do()\n",
    ")\n",
    "\n",
    "result = response[\"data\"][\"Get\"][\"MyCollection\"]\n",
    "print(json.dumps(result, indent=2))"
   ]
  },
  {
   "cell_type": "markdown",
   "id": "52feb7e6-d41b-4965-bff3-a76a0640bf96",
   "metadata": {},
   "source": [
    "### nearObject Example"
   ]
  },
  {
   "cell_type": "code",
   "execution_count": 26,
   "id": "366f2893-9751-4138-9107-ff2d7481064e",
   "metadata": {},
   "outputs": [
    {
     "name": "stdout",
     "output_type": "stream",
     "text": [
      "[\n",
      "  {\n",
      "    \"_additional\": {\n",
      "      \"distance\": 0\n",
      "    },\n",
      "    \"title\": \"Second Object\"\n",
      "  },\n",
      "  {\n",
      "    \"_additional\": {\n",
      "      \"distance\": 0.051573634\n",
      "    },\n",
      "    \"title\": \"Fourth Object\"\n",
      "  },\n",
      "  {\n",
      "    \"_additional\": {\n",
      "      \"distance\": 0.06506646\n",
      "    },\n",
      "    \"title\": \"First Object\"\n",
      "  }\n",
      "]\n"
     ]
    }
   ],
   "source": [
    "# Búsqueda de los 3 objetos más cercanos de la búsqueda anterior (guardada en result)\n",
    "response = (\n",
    "    client.query\n",
    "    .get(\"MyCollection\", [\"title\"])\n",
    "    .with_near_object({ # the id of the the search object\n",
    "        \"id\": result[0]['_additional']['id']\n",
    "    })\n",
    "    .with_limit(3)\n",
    "    .with_additional([\"distance\"])\n",
    "    .do()\n",
    ")\n",
    "\n",
    "result = response[\"data\"][\"Get\"][\"MyCollection\"]\n",
    "print(json.dumps(result, indent=2))"
   ]
  }
 ],
 "metadata": {
  "kernelspec": {
   "display_name": "Python 3 (ipykernel)",
   "language": "python",
   "name": "python3"
  },
  "language_info": {
   "codemirror_mode": {
    "name": "ipython",
    "version": 3
   },
   "file_extension": ".py",
   "mimetype": "text/x-python",
   "name": "python",
   "nbconvert_exporter": "python",
   "pygments_lexer": "ipython3",
   "version": "3.10.9"
  }
 },
 "nbformat": 4,
 "nbformat_minor": 5
}
