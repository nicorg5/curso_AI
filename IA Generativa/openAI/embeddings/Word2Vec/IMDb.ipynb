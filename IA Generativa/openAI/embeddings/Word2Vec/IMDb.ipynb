{
 "cells": [
  {
   "cell_type": "markdown",
   "id": "de1b1f56-eb38-4e72-9f19-8da201e42bb6",
   "metadata": {},
   "source": [
    "A 30 de enero de 2024, cabe destacar que la versión más reciente de Python compatible con la versión más reciente de tensorflow es python-3.11.\n",
    "\n",
    "En este ejemplo se ha usado python-3.10"
   ]
  },
  {
   "cell_type": "code",
   "execution_count": 4,
   "id": "08e18945-a58d-4cf9-b745-82c8401f1429",
   "metadata": {},
   "outputs": [],
   "source": [
    "from tensorflow.keras.datasets import imdb\n",
    "from gensim.models import Word2Vec\n",
    "import nltk\n",
    "from nltk.tokenize import word_tokenize"
   ]
  },
  {
   "cell_type": "code",
   "execution_count": 5,
   "id": "0614be0b-0ddd-4597-92f2-fe5ec18a54aa",
   "metadata": {},
   "outputs": [
    {
     "name": "stdout",
     "output_type": "stream",
     "text": [
      "Downloading data from https://storage.googleapis.com/tensorflow/tf-keras-datasets/imdb.npz\n"
     ]
    },
    {
     "name": "stderr",
     "output_type": "stream",
     "text": [
      "[nltk_data] Downloading package punkt to\n",
      "[nltk_data]     /Users/n.c.rodriguez/nltk_data...\n",
      "[nltk_data]   Package punkt is already up-to-date!\n"
     ]
    },
    {
     "name": "stdout",
     "output_type": "stream",
     "text": [
      "17464789/17464789 [==============================] - 2s 0us/step\n",
      "Downloading data from https://storage.googleapis.com/tensorflow/tf-keras-datasets/imdb_word_index.json\n",
      "1641221/1641221 [==============================] - 0s 0us/step\n"
     ]
    }
   ],
   "source": [
    "# Cargar el dataset de IMDb\n",
    "nltk.download('punkt')\n",
    "\n",
    "# num_words=10000 mantiene las 10,000 palabras más frecuentes en el dataset\n",
    "(x_train, y_train), (x_test, y_test) = imdb.load_data(num_words=10000)\n",
    "word_index = imdb.get_word_index()"
   ]
  },
  {
   "cell_type": "code",
   "execution_count": 6,
   "id": "53294f60-0423-4daf-b204-c6b8c0c8f3eb",
   "metadata": {},
   "outputs": [
    {
     "name": "stdout",
     "output_type": "stream",
     "text": [
      "[('bad', 0.7560596466064453), ('great', 0.7268623113632202), ('decent', 0.7107524275779724), ('cool', 0.6380925178527832), ('nice', 0.6152422428131104)]\n"
     ]
    }
   ],
   "source": [
    "# Obtener el índice inverso\n",
    "reverse_word_index = dict([(value, key) for (key, value) in word_index.items()])\n",
    "\n",
    "# Decodificar las reseñas\n",
    "decoded_reviews = [' '.join([reverse_word_index.get(i - 3, '?') for i in review]) for review in x_train]\n",
    "word_index = imdb.get_word_index()\n",
    "\n",
    "# Obtener el índice inverso\n",
    "reverse_word_index = dict([(value, key) for (key, value) in word_index.items()])\n",
    "\n",
    "# Decodificar las reseñas\n",
    "decoded_reviews = [' '.join([reverse_word_index.get(i - 3, '?') for i in review]) for review in x_train]\n",
    "\n",
    "# Tokenizar las reseñas decodificadas\n",
    "tokenized_reviews = [word_tokenize(review) for review in decoded_reviews]\n",
    "\n",
    "# Entrenar el modelo Word2Vec\n",
    "modelo = Word2Vec(tokenized_reviews, vector_size=100, window=5, min_count=2, workers=4)\n",
    "\n",
    "palabras_similares = modelo.wv.most_similar('good', topn=5)\n",
    "print(palabras_similares)"
   ]
  }
 ],
 "metadata": {
  "kernelspec": {
   "display_name": "Python 3 (ipykernel)",
   "language": "python",
   "name": "python3"
  },
  "language_info": {
   "codemirror_mode": {
    "name": "ipython",
    "version": 3
   },
   "file_extension": ".py",
   "mimetype": "text/x-python",
   "name": "python",
   "nbconvert_exporter": "python",
   "pygments_lexer": "ipython3",
   "version": "3.10.13"
  }
 },
 "nbformat": 4,
 "nbformat_minor": 5
}
