{
 "cells": [
  {
   "cell_type": "markdown",
   "id": "62b06972-be71-446a-b73c-edd4e3e7c252",
   "metadata": {},
   "source": [
    "# Ejercicio:\n",
    "Fragmento de Texto de \"El Señor de las Moscas\"\n",
    "\"Ralph se sentó en la arena caliente, tocando la concha, sonriendo y asintiendo con la cabeza a los gritos de admiración. A su alrededor, los niños comenzaron a asentarse y a prestar atención. Era como si hubiesen oído por primera vez la brillante idea de la democracia.\"\n",
    "\n",
    "\n",
    "- Tokenización: Divide el texto en oraciones y luego en palabras.\n",
    "- Etiquetado de Partes del Discurso (POS Tagging): Realiza un etiquetado POS de las palabras en el texto.\n",
    "- Lematización: Encuentra los lemas de las palabras en el texto.\n",
    "- Análisis de Sentimientos: Determina la polaridad general (positiva, negativa, neutral) del texto.\n",
    "- Extracción de Entidades Nombradas (Named Entity Recognition, NER): Identifica y clasifica las entidades nombradas (como personas, lugares) en el texto"
   ]
  },
  {
   "cell_type": "code",
   "execution_count": 1,
   "id": "caec4fa1-a46d-458d-9a2a-bfa9a20cbc97",
   "metadata": {},
   "outputs": [],
   "source": [
    "# Importar bibliotecas\n",
    "import nltk\n",
    "from nltk import sent_tokenize, word_tokenize, pos_tag\n",
    "from nltk.corpus import stopwords\n",
    "from textblob import TextBlob\n",
    "import spacy"
   ]
  },
  {
   "cell_type": "code",
   "execution_count": 8,
   "id": "31cb44ee-8dbb-49b3-a711-678d19208758",
   "metadata": {},
   "outputs": [
    {
     "name": "stderr",
     "output_type": "stream",
     "text": [
      "[nltk_data] Downloading package punkt to\n",
      "[nltk_data]     /Users/n.c.rodriguez/nltk_data...\n",
      "[nltk_data]   Package punkt is already up-to-date!\n",
      "[nltk_data] Downloading package averaged_perceptron_tagger to\n",
      "[nltk_data]     /Users/n.c.rodriguez/nltk_data...\n",
      "[nltk_data]   Unzipping taggers/averaged_perceptron_tagger.zip.\n",
      "[nltk_data] Downloading package stopwords to\n",
      "[nltk_data]     /Users/n.c.rodriguez/nltk_data...\n",
      "[nltk_data]   Package stopwords is already up-to-date!\n"
     ]
    },
    {
     "data": {
      "text/plain": [
       "True"
      ]
     },
     "execution_count": 8,
     "metadata": {},
     "output_type": "execute_result"
    }
   ],
   "source": [
    "# Descargar recursos necesarios para NLTK\n",
    "nltk.download('punkt')\n",
    "nltk.download('averaged_perceptron_tagger')\n",
    "nltk.download('stopwords')"
   ]
  },
  {
   "cell_type": "code",
   "execution_count": 9,
   "id": "3c4d5d77-6d86-40ef-a042-6426106e0771",
   "metadata": {
    "scrolled": true
   },
   "outputs": [
    {
     "name": "stdout",
     "output_type": "stream",
     "text": [
      "Collecting es-core-news-sm==3.7.0\n",
      "  Downloading https://github.com/explosion/spacy-models/releases/download/es_core_news_sm-3.7.0/es_core_news_sm-3.7.0-py3-none-any.whl (12.9 MB)\n",
      "\u001b[2K     \u001b[90m━━━━━━━━━━━━━━━━━━━━━━━━━━━━━━━━━━━━━━━━\u001b[0m \u001b[32m12.9/12.9 MB\u001b[0m \u001b[31m8.6 MB/s\u001b[0m eta \u001b[36m0:00:00\u001b[0m00:01\u001b[0m00:01\u001b[0m\n",
      "\u001b[?25hRequirement already satisfied: spacy<3.8.0,>=3.7.0 in /Users/n.c.rodriguez/anaconda3/envs/nico/lib/python3.12/site-packages (from es-core-news-sm==3.7.0) (3.7.2)\n",
      "Requirement already satisfied: spacy-legacy<3.1.0,>=3.0.11 in /Users/n.c.rodriguez/anaconda3/envs/nico/lib/python3.12/site-packages (from spacy<3.8.0,>=3.7.0->es-core-news-sm==3.7.0) (3.0.12)\n",
      "Requirement already satisfied: spacy-loggers<2.0.0,>=1.0.0 in /Users/n.c.rodriguez/anaconda3/envs/nico/lib/python3.12/site-packages (from spacy<3.8.0,>=3.7.0->es-core-news-sm==3.7.0) (1.0.5)\n",
      "Requirement already satisfied: murmurhash<1.1.0,>=0.28.0 in /Users/n.c.rodriguez/anaconda3/envs/nico/lib/python3.12/site-packages (from spacy<3.8.0,>=3.7.0->es-core-news-sm==3.7.0) (1.0.10)\n",
      "Requirement already satisfied: cymem<2.1.0,>=2.0.2 in /Users/n.c.rodriguez/anaconda3/envs/nico/lib/python3.12/site-packages (from spacy<3.8.0,>=3.7.0->es-core-news-sm==3.7.0) (2.0.8)\n",
      "Requirement already satisfied: preshed<3.1.0,>=3.0.2 in /Users/n.c.rodriguez/anaconda3/envs/nico/lib/python3.12/site-packages (from spacy<3.8.0,>=3.7.0->es-core-news-sm==3.7.0) (3.0.9)\n",
      "Requirement already satisfied: thinc<8.3.0,>=8.1.8 in /Users/n.c.rodriguez/anaconda3/envs/nico/lib/python3.12/site-packages (from spacy<3.8.0,>=3.7.0->es-core-news-sm==3.7.0) (8.2.2)\n",
      "Requirement already satisfied: wasabi<1.2.0,>=0.9.1 in /Users/n.c.rodriguez/anaconda3/envs/nico/lib/python3.12/site-packages (from spacy<3.8.0,>=3.7.0->es-core-news-sm==3.7.0) (1.1.2)\n",
      "Requirement already satisfied: srsly<3.0.0,>=2.4.3 in /Users/n.c.rodriguez/anaconda3/envs/nico/lib/python3.12/site-packages (from spacy<3.8.0,>=3.7.0->es-core-news-sm==3.7.0) (2.4.8)\n",
      "Requirement already satisfied: catalogue<2.1.0,>=2.0.6 in /Users/n.c.rodriguez/anaconda3/envs/nico/lib/python3.12/site-packages (from spacy<3.8.0,>=3.7.0->es-core-news-sm==3.7.0) (2.0.10)\n",
      "Requirement already satisfied: weasel<0.4.0,>=0.1.0 in /Users/n.c.rodriguez/anaconda3/envs/nico/lib/python3.12/site-packages (from spacy<3.8.0,>=3.7.0->es-core-news-sm==3.7.0) (0.3.4)\n",
      "Requirement already satisfied: typer<0.10.0,>=0.3.0 in /Users/n.c.rodriguez/anaconda3/envs/nico/lib/python3.12/site-packages (from spacy<3.8.0,>=3.7.0->es-core-news-sm==3.7.0) (0.9.0)\n",
      "Requirement already satisfied: smart-open<7.0.0,>=5.2.1 in /Users/n.c.rodriguez/anaconda3/envs/nico/lib/python3.12/site-packages (from spacy<3.8.0,>=3.7.0->es-core-news-sm==3.7.0) (6.4.0)\n",
      "Requirement already satisfied: tqdm<5.0.0,>=4.38.0 in /Users/n.c.rodriguez/anaconda3/envs/nico/lib/python3.12/site-packages (from spacy<3.8.0,>=3.7.0->es-core-news-sm==3.7.0) (4.65.0)\n",
      "Requirement already satisfied: requests<3.0.0,>=2.13.0 in /Users/n.c.rodriguez/anaconda3/envs/nico/lib/python3.12/site-packages (from spacy<3.8.0,>=3.7.0->es-core-news-sm==3.7.0) (2.31.0)\n",
      "Requirement already satisfied: pydantic!=1.8,!=1.8.1,<3.0.0,>=1.7.4 in /Users/n.c.rodriguez/anaconda3/envs/nico/lib/python3.12/site-packages (from spacy<3.8.0,>=3.7.0->es-core-news-sm==3.7.0) (2.5.3)\n",
      "Requirement already satisfied: jinja2 in /Users/n.c.rodriguez/anaconda3/envs/nico/lib/python3.12/site-packages (from spacy<3.8.0,>=3.7.0->es-core-news-sm==3.7.0) (3.1.2)\n",
      "Requirement already satisfied: setuptools in /Users/n.c.rodriguez/anaconda3/envs/nico/lib/python3.12/site-packages (from spacy<3.8.0,>=3.7.0->es-core-news-sm==3.7.0) (68.2.2)\n",
      "Requirement already satisfied: packaging>=20.0 in /Users/n.c.rodriguez/anaconda3/envs/nico/lib/python3.12/site-packages (from spacy<3.8.0,>=3.7.0->es-core-news-sm==3.7.0) (23.1)\n",
      "Requirement already satisfied: langcodes<4.0.0,>=3.2.0 in /Users/n.c.rodriguez/anaconda3/envs/nico/lib/python3.12/site-packages (from spacy<3.8.0,>=3.7.0->es-core-news-sm==3.7.0) (3.3.0)\n",
      "Requirement already satisfied: numpy>=1.19.0 in /Users/n.c.rodriguez/anaconda3/envs/nico/lib/python3.12/site-packages (from spacy<3.8.0,>=3.7.0->es-core-news-sm==3.7.0) (1.26.3)\n",
      "Requirement already satisfied: annotated-types>=0.4.0 in /Users/n.c.rodriguez/anaconda3/envs/nico/lib/python3.12/site-packages (from pydantic!=1.8,!=1.8.1,<3.0.0,>=1.7.4->spacy<3.8.0,>=3.7.0->es-core-news-sm==3.7.0) (0.6.0)\n",
      "Requirement already satisfied: pydantic-core==2.14.6 in /Users/n.c.rodriguez/anaconda3/envs/nico/lib/python3.12/site-packages (from pydantic!=1.8,!=1.8.1,<3.0.0,>=1.7.4->spacy<3.8.0,>=3.7.0->es-core-news-sm==3.7.0) (2.14.6)\n",
      "Requirement already satisfied: typing-extensions>=4.6.1 in /Users/n.c.rodriguez/anaconda3/envs/nico/lib/python3.12/site-packages (from pydantic!=1.8,!=1.8.1,<3.0.0,>=1.7.4->spacy<3.8.0,>=3.7.0->es-core-news-sm==3.7.0) (4.9.0)\n",
      "Requirement already satisfied: charset-normalizer<4,>=2 in /Users/n.c.rodriguez/anaconda3/envs/nico/lib/python3.12/site-packages (from requests<3.0.0,>=2.13.0->spacy<3.8.0,>=3.7.0->es-core-news-sm==3.7.0) (2.0.4)\n",
      "Requirement already satisfied: idna<4,>=2.5 in /Users/n.c.rodriguez/anaconda3/envs/nico/lib/python3.12/site-packages (from requests<3.0.0,>=2.13.0->spacy<3.8.0,>=3.7.0->es-core-news-sm==3.7.0) (3.4)\n",
      "Requirement already satisfied: urllib3<3,>=1.21.1 in /Users/n.c.rodriguez/anaconda3/envs/nico/lib/python3.12/site-packages (from requests<3.0.0,>=2.13.0->spacy<3.8.0,>=3.7.0->es-core-news-sm==3.7.0) (1.26.18)\n",
      "Requirement already satisfied: certifi>=2017.4.17 in /Users/n.c.rodriguez/anaconda3/envs/nico/lib/python3.12/site-packages (from requests<3.0.0,>=2.13.0->spacy<3.8.0,>=3.7.0->es-core-news-sm==3.7.0) (2023.11.17)\n",
      "Requirement already satisfied: blis<0.8.0,>=0.7.8 in /Users/n.c.rodriguez/anaconda3/envs/nico/lib/python3.12/site-packages (from thinc<8.3.0,>=8.1.8->spacy<3.8.0,>=3.7.0->es-core-news-sm==3.7.0) (0.7.11)\n",
      "Requirement already satisfied: confection<1.0.0,>=0.0.1 in /Users/n.c.rodriguez/anaconda3/envs/nico/lib/python3.12/site-packages (from thinc<8.3.0,>=8.1.8->spacy<3.8.0,>=3.7.0->es-core-news-sm==3.7.0) (0.1.4)\n",
      "Requirement already satisfied: click<9.0.0,>=7.1.1 in /Users/n.c.rodriguez/anaconda3/envs/nico/lib/python3.12/site-packages (from typer<0.10.0,>=0.3.0->spacy<3.8.0,>=3.7.0->es-core-news-sm==3.7.0) (8.1.7)\n",
      "Requirement already satisfied: cloudpathlib<0.17.0,>=0.7.0 in /Users/n.c.rodriguez/anaconda3/envs/nico/lib/python3.12/site-packages (from weasel<0.4.0,>=0.1.0->spacy<3.8.0,>=3.7.0->es-core-news-sm==3.7.0) (0.16.0)\n",
      "Requirement already satisfied: MarkupSafe>=2.0 in /Users/n.c.rodriguez/anaconda3/envs/nico/lib/python3.12/site-packages (from jinja2->spacy<3.8.0,>=3.7.0->es-core-news-sm==3.7.0) (2.1.1)\n",
      "Installing collected packages: es-core-news-sm\n",
      "Successfully installed es-core-news-sm-3.7.0\n",
      "\u001b[38;5;2m✔ Download and installation successful\u001b[0m\n",
      "You can now load the package via spacy.load('es_core_news_sm')\n"
     ]
    }
   ],
   "source": [
    "# Descargar modelo en español para spaCy\n",
    "spacy.cli.download('es_core_news_sm')"
   ]
  },
  {
   "cell_type": "code",
   "execution_count": 12,
   "id": "14ca4321-23db-439a-bd43-cf285f6dc7d0",
   "metadata": {},
   "outputs": [],
   "source": [
    "texto = \"Ralph se sentó en la arena caliente, tocando la concha, sonriendo y asintiendo con la cabeza a los gritos de admiración. A su alrededor, los niños comenzaron a asentarse y a prestar atención. Era como si hubiesen oído por primera vez la brillante idea de la democracia.\""
   ]
  },
  {
   "cell_type": "markdown",
   "id": "1f9c12dd-a9fd-4626-9853-1500a7ce36d2",
   "metadata": {},
   "source": [
    "## Tokenización: Divide el texto en oraciones y luego en palabras."
   ]
  },
  {
   "cell_type": "code",
   "execution_count": 13,
   "id": "7eb4f57f-fe02-41cc-a6bf-bd0e6caf4c1e",
   "metadata": {},
   "outputs": [
    {
     "name": "stdout",
     "output_type": "stream",
     "text": [
      "Tokenización:\n",
      "Oraciones: ['Ralph se sentó en la arena caliente, tocando la concha, sonriendo y asintiendo con la cabeza a los gritos de admiración.', 'A su alrededor, los niños comenzaron a asentarse y a prestar atención.', 'Era como si hubiesen oído por primera vez la brillante idea de la democracia.']\n",
      "Palabras: [['Ralph', 'se', 'sentó', 'en', 'la', 'arena', 'caliente', ',', 'tocando', 'la', 'concha', ',', 'sonriendo', 'y', 'asintiendo', 'con', 'la', 'cabeza', 'a', 'los', 'gritos', 'de', 'admiración', '.'], ['A', 'su', 'alrededor', ',', 'los', 'niños', 'comenzaron', 'a', 'asentarse', 'y', 'a', 'prestar', 'atención', '.'], ['Era', 'como', 'si', 'hubiesen', 'oído', 'por', 'primera', 'vez', 'la', 'brillante', 'idea', 'de', 'la', 'democracia', '.']]\n"
     ]
    }
   ],
   "source": [
    "oraciones = sent_tokenize(texto)\n",
    "palabras = [word_tokenize(oracion) for oracion in oraciones]\n",
    "\n",
    "print(\"Tokenización:\")\n",
    "print(\"Oraciones:\", oraciones)\n",
    "print(\"Palabras:\", palabras)"
   ]
  },
  {
   "cell_type": "markdown",
   "id": "fd7eb311-28b2-4702-896d-ff578ecaa6c5",
   "metadata": {},
   "source": [
    "## Etiquetado de Partes del Discurso (POS Tagging): Realiza un etiquetado POS de las palabras en el texto."
   ]
  },
  {
   "cell_type": "code",
   "execution_count": 14,
   "id": "34817ac3-087d-461b-92c9-75fb4ce436f7",
   "metadata": {},
   "outputs": [
    {
     "name": "stdout",
     "output_type": "stream",
     "text": [
      "\n",
      "Etiquetado de Partes del Discurso:\n",
      "POS Tagging por Oración: [[('Ralph', 'NNP'), ('se', 'VBD'), ('sentó', 'JJ'), ('en', 'FW'), ('la', 'FW'), ('arena', 'FW'), ('caliente', 'NN'), (',', ','), ('tocando', 'NN'), ('la', 'NN'), ('concha', 'NN'), (',', ','), ('sonriendo', 'JJ'), ('y', 'NN'), ('asintiendo', 'NN'), ('con', 'NN'), ('la', 'NN'), ('cabeza', 'VBD'), ('a', 'DT'), ('los', 'JJ'), ('gritos', 'NN'), ('de', 'IN'), ('admiración', 'NN'), ('.', '.')], [('A', 'DT'), ('su', 'NN'), ('alrededor', 'NN'), (',', ','), ('los', 'JJ'), ('niños', 'JJ'), ('comenzaron', 'NN'), ('a', 'DT'), ('asentarse', 'NN'), ('y', 'NN'), ('a', 'DT'), ('prestar', 'NN'), ('atención', 'NN'), ('.', '.')], [('Era', 'NN'), ('como', 'NN'), ('si', 'NN'), ('hubiesen', 'NN'), ('oído', 'NN'), ('por', 'NN'), ('primera', 'NN'), ('vez', 'NN'), ('la', 'NN'), ('brillante', 'FW'), ('idea', 'NN'), ('de', 'IN'), ('la', 'FW'), ('democracia', 'NN'), ('.', '.')]]\n"
     ]
    }
   ],
   "source": [
    "palabras_pos_tag = [pos_tag(word_tokenize(oracion)) for oracion in oraciones]\n",
    "\n",
    "print(\"\\nEtiquetado de Partes del Discurso:\")\n",
    "print(\"POS Tagging por Oración:\", palabras_pos_tag)"
   ]
  },
  {
   "cell_type": "markdown",
   "id": "1fe099d6-81e4-4e0a-ba08-1ca5e5e3f57e",
   "metadata": {},
   "source": [
    "## Lematización: Encuentra los lemas de las palabras en el texto."
   ]
  },
  {
   "cell_type": "code",
   "execution_count": 15,
   "id": "11159db5-54fe-423d-aa09-485db5cc5d4c",
   "metadata": {},
   "outputs": [
    {
     "name": "stdout",
     "output_type": "stream",
     "text": [
      "\n",
      "Lematización:\n",
      "Lemas por Oración: [['Ralph', 'él', 'sentar', 'en', 'el', 'arena', 'caliente', ',', 'tocar', 'el', 'concha', ',', 'sonreir', 'y', 'asinteir', 'con', 'el', 'cabeza', 'a', 'el', 'grito', 'de', 'admiración', '.'], ['a', 'su', 'alrededor', ',', 'el', 'niño', 'comenzar', 'a', 'asentar él', 'y', 'a', 'prestar', 'atención', '.'], ['ser', 'como', 'si', 'haber', 'oer', 'por', 'primero', 'vez', 'el', 'brillante', 'idea', 'de', 'el', 'democracia', '.']]\n"
     ]
    }
   ],
   "source": [
    "nlp = spacy.load('es_core_news_sm')\n",
    "lemas = [[token.lemma_ for token in nlp(oracion)] for oracion in oraciones]\n",
    "\n",
    "print(\"\\nLematización:\")\n",
    "print(\"Lemas por Oración:\", lemas)"
   ]
  },
  {
   "cell_type": "markdown",
   "id": "00f0751b-b748-4caa-bee6-07ca9f6828f6",
   "metadata": {},
   "source": [
    "## Análisis de Sentimientos: Determina la polaridad general (positiva, negativa, neutral) del texto."
   ]
  },
  {
   "cell_type": "code",
   "execution_count": 18,
   "id": "6104a189-e126-41da-8324-badeb083c686",
   "metadata": {},
   "outputs": [
    {
     "name": "stdout",
     "output_type": "stream",
     "text": [
      "\n",
      "Análisis de Sentimientos:\n",
      "Polaridad General del Texto: 0.0\n",
      "Tipo de Polaridad: Neutral\n"
     ]
    }
   ],
   "source": [
    "analisis_sentimientos = TextBlob(texto)\n",
    "polaridad = analisis_sentimientos.sentiment.polarity\n",
    "\n",
    "\n",
    "print(\"\\nAnálisis de Sentimientos:\")\n",
    "print(\"Polaridad General del Texto:\", polaridad)\n",
    "\n",
    "# Determinar el tipo de polaridad\n",
    "if polaridad > 0:\n",
    "    tipo_polaridad = \"Positiva\"\n",
    "elif polaridad < 0:\n",
    "    tipo_polaridad = \"Negativa\"\n",
    "else:\n",
    "    tipo_polaridad = \"Neutral\"\n",
    "\n",
    "print(\"Tipo de Polaridad:\", tipo_polaridad)"
   ]
  },
  {
   "cell_type": "markdown",
   "id": "1feebd65-4540-408e-a5ed-8468bf00c353",
   "metadata": {},
   "source": [
    "## Extracción de Entidades Nombradas (Named Entity Recognition, NER): Identifica y clasifica las entidades nombradas (como personas, lugares) en el texto"
   ]
  },
  {
   "cell_type": "code",
   "execution_count": 17,
   "id": "40f9c5ae-bbfe-44a9-b099-8e2a0d6a8850",
   "metadata": {},
   "outputs": [
    {
     "name": "stdout",
     "output_type": "stream",
     "text": [
      "\n",
      "Extracción de Entidades Nombradas (NER):\n",
      "Entidades Nombradas: ['Ralph']\n"
     ]
    }
   ],
   "source": [
    "entidades_nombradas = [ent.text for ent in nlp(texto).ents]\n",
    "\n",
    "print(\"\\nExtracción de Entidades Nombradas (NER):\")\n",
    "print(\"Entidades Nombradas:\", entidades_nombradas)"
   ]
  }
 ],
 "metadata": {
  "kernelspec": {
   "display_name": "Python 3 (ipykernel)",
   "language": "python",
   "name": "python3"
  },
  "language_info": {
   "codemirror_mode": {
    "name": "ipython",
    "version": 3
   },
   "file_extension": ".py",
   "mimetype": "text/x-python",
   "name": "python",
   "nbconvert_exporter": "python",
   "pygments_lexer": "ipython3",
   "version": "3.12.1"
  }
 },
 "nbformat": 4,
 "nbformat_minor": 5
}
