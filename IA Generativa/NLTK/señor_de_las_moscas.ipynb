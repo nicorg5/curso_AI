{
 "cells": [
  {
   "cell_type": "markdown",
   "id": "62b06972-be71-446a-b73c-edd4e3e7c252",
   "metadata": {},
   "source": [
    "# Ejercicio:\n",
    "Fragmento de Texto de \"El Señor de las Moscas\"\n",
    "\"Ralph se sentó en la arena caliente, tocando la concha, sonriendo y asintiendo con la cabeza a los gritos de admiración. A su alrededor, los niños comenzaron a asentarse y a prestar atención. Era como si hubiesen oído por primera vez la brillante idea de la democracia.\"\n",
    "\n",
    "\n",
    "- Tokenización: Divide el texto en oraciones y luego en palabras.\n",
    "- Etiquetado de Partes del Discurso (POS Tagging): Realiza un etiquetado POS de las palabras en el texto.\n",
    "- Lematización: Encuentra los lemas de las palabras en el texto.\n",
    "- Análisis de Sentimientos: Determina la polaridad general (positiva, negativa, neutral) del texto.\n",
    "- Extracción de Entidades Nombradas (Named Entity Recognition, NER): Identifica y clasifica las entidades nombradas (como personas, lugares) en el texto"
   ]
  },
  {
   "cell_type": "code",
   "execution_count": null,
   "id": "caec4fa1-a46d-458d-9a2a-bfa9a20cbc97",
   "metadata": {},
   "outputs": [],
   "source": []
  }
 ],
 "metadata": {
  "kernelspec": {
   "display_name": "Python 3 (ipykernel)",
   "language": "python",
   "name": "python3"
  },
  "language_info": {
   "codemirror_mode": {
    "name": "ipython",
    "version": 3
   },
   "file_extension": ".py",
   "mimetype": "text/x-python",
   "name": "python",
   "nbconvert_exporter": "python",
   "pygments_lexer": "ipython3",
   "version": "3.12.1"
  }
 },
 "nbformat": 4,
 "nbformat_minor": 5
}
