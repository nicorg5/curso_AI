{
 "cells": [
  {
   "cell_type": "code",
   "execution_count": 1,
   "id": "d0c8a4c1-ab14-4cab-9fc0-334ed0599aa0",
   "metadata": {},
   "outputs": [
    {
     "name": "stderr",
     "output_type": "stream",
     "text": [
      "/var/folders/79/rwrch1qx1y7bm5mc3hnnntw00000gn/T/ipykernel_21127/1058405377.py:3: DeprecationWarning: \n",
      "Pyarrow will become a required dependency of pandas in the next major release of pandas (pandas 3.0),\n",
      "(to allow more performant data types, such as the Arrow string type, and better interoperability with other libraries)\n",
      "but was not found to be installed on your system.\n",
      "If this would cause problems for you,\n",
      "please provide us feedback at https://github.com/pandas-dev/pandas/issues/54466\n",
      "        \n",
      "  import pandas as pd\n"
     ]
    },
    {
     "ename": "ImportError",
     "evalue": "dlopen(/Users/n.c.rodriguez/anaconda3/envs/nico/lib/python3.10/site-packages/pyarrow/lib.cpython-310-darwin.so, 0x0002): Library not loaded: @rpath/libbrotlienc.1.dylib\n  Referenced from: <F2407192-6DE7-391F-8771-25BB701DE1F8> /Users/n.c.rodriguez/anaconda3/envs/nico/lib/libarrow.1100.0.0.dylib\n  Reason: tried: '/Users/n.c.rodriguez/anaconda3/envs/nico/lib/libbrotlienc.1.dylib' (no such file), '/Users/n.c.rodriguez/anaconda3/envs/nico/lib/libbrotlienc.1.dylib' (no such file), '/Users/n.c.rodriguez/anaconda3/envs/nico/lib/python3.10/site-packages/pyarrow/libbrotlienc.1.dylib' (no such file), '/Users/n.c.rodriguez/anaconda3/envs/nico/lib/python3.10/site-packages/pyarrow/../../../libbrotlienc.1.dylib' (no such file), '/Users/n.c.rodriguez/anaconda3/envs/nico/lib/python3.10/site-packages/pyarrow/libbrotlienc.1.dylib' (no such file), '/Users/n.c.rodriguez/anaconda3/envs/nico/lib/python3.10/site-packages/pyarrow/../../../libbrotlienc.1.dylib' (no such file), '/Users/n.c.rodriguez/anaconda3/envs/nico/lib/python3.10/site-packages/pyarrow/libbrotlienc.1.dylib' (no such file), '/Users/n.c.rodriguez/anaconda3/envs/nico/lib/python3.10/site-packages/pyarrow/../../../libbrotlienc.1.dylib' (no such file), '/Users/n.c.rodriguez/anaconda3/envs/nico/bin/../lib/libbrotlienc.1.dylib' (no such file), '/Users/n.c.rodriguez/anaconda3/envs/nico/bin/../lib/libbrotlienc.1.dylib' (no such file), '/usr/local/lib/libbrotlienc.1.dylib' (no such file), '/usr/lib/libbrotlienc.1.dylib' (no such file, not in dyld cache)",
     "output_type": "error",
     "traceback": [
      "\u001b[0;31m---------------------------------------------------------------------------\u001b[0m",
      "\u001b[0;31mImportError\u001b[0m                               Traceback (most recent call last)",
      "Cell \u001b[0;32mIn[1], line 6\u001b[0m\n\u001b[1;32m      3\u001b[0m \u001b[38;5;28;01mimport\u001b[39;00m \u001b[38;5;21;01mpandas\u001b[39;00m \u001b[38;5;28;01mas\u001b[39;00m \u001b[38;5;21;01mpd\u001b[39;00m\n\u001b[1;32m      4\u001b[0m \u001b[38;5;28;01mfrom\u001b[39;00m \u001b[38;5;21;01mpprint\u001b[39;00m \u001b[38;5;28;01mimport\u001b[39;00m pprint\n\u001b[0;32m----> 6\u001b[0m \u001b[38;5;28;01mimport\u001b[39;00m \u001b[38;5;21;01mdatasets\u001b[39;00m\n\u001b[1;32m      7\u001b[0m \u001b[38;5;28;01mfrom\u001b[39;00m \u001b[38;5;21;01mdatasets\u001b[39;00m \u001b[38;5;28;01mimport\u001b[39;00m load_dataset\n",
      "File \u001b[0;32m~/anaconda3/envs/nico/lib/python3.10/site-packages/datasets/__init__.py:22\u001b[0m\n\u001b[1;32m      1\u001b[0m \u001b[38;5;66;03m# flake8: noqa\u001b[39;00m\n\u001b[1;32m      2\u001b[0m \u001b[38;5;66;03m# Copyright 2020 The HuggingFace Datasets Authors and the TensorFlow Datasets Authors.\u001b[39;00m\n\u001b[1;32m      3\u001b[0m \u001b[38;5;66;03m#\u001b[39;00m\n\u001b[0;32m   (...)\u001b[0m\n\u001b[1;32m     17\u001b[0m \u001b[38;5;66;03m# pylint: enable=line-too-long\u001b[39;00m\n\u001b[1;32m     18\u001b[0m \u001b[38;5;66;03m# pylint: disable=g-import-not-at-top,g-bad-import-order,wrong-import-position\u001b[39;00m\n\u001b[1;32m     20\u001b[0m __version__ \u001b[38;5;241m=\u001b[39m \u001b[38;5;124m\"\u001b[39m\u001b[38;5;124m2.2.1\u001b[39m\u001b[38;5;124m\"\u001b[39m\n\u001b[0;32m---> 22\u001b[0m \u001b[38;5;28;01mimport\u001b[39;00m \u001b[38;5;21;01mpyarrow\u001b[39;00m\n\u001b[1;32m     23\u001b[0m \u001b[38;5;28;01mfrom\u001b[39;00m \u001b[38;5;21;01mpackaging\u001b[39;00m \u001b[38;5;28;01mimport\u001b[39;00m version\n\u001b[1;32m     26\u001b[0m \u001b[38;5;28;01mif\u001b[39;00m version\u001b[38;5;241m.\u001b[39mparse(pyarrow\u001b[38;5;241m.\u001b[39m__version__)\u001b[38;5;241m.\u001b[39mmajor \u001b[38;5;241m<\u001b[39m \u001b[38;5;241m6\u001b[39m:\n",
      "File \u001b[0;32m~/anaconda3/envs/nico/lib/python3.10/site-packages/pyarrow/__init__.py:65\u001b[0m\n\u001b[1;32m     63\u001b[0m _gc_enabled \u001b[38;5;241m=\u001b[39m _gc\u001b[38;5;241m.\u001b[39misenabled()\n\u001b[1;32m     64\u001b[0m _gc\u001b[38;5;241m.\u001b[39mdisable()\n\u001b[0;32m---> 65\u001b[0m \u001b[38;5;28;01mimport\u001b[39;00m \u001b[38;5;21;01mpyarrow\u001b[39;00m\u001b[38;5;21;01m.\u001b[39;00m\u001b[38;5;21;01mlib\u001b[39;00m \u001b[38;5;28;01mas\u001b[39;00m \u001b[38;5;21;01m_lib\u001b[39;00m\n\u001b[1;32m     66\u001b[0m \u001b[38;5;28;01mif\u001b[39;00m _gc_enabled:\n\u001b[1;32m     67\u001b[0m     _gc\u001b[38;5;241m.\u001b[39menable()\n",
      "\u001b[0;31mImportError\u001b[0m: dlopen(/Users/n.c.rodriguez/anaconda3/envs/nico/lib/python3.10/site-packages/pyarrow/lib.cpython-310-darwin.so, 0x0002): Library not loaded: @rpath/libbrotlienc.1.dylib\n  Referenced from: <F2407192-6DE7-391F-8771-25BB701DE1F8> /Users/n.c.rodriguez/anaconda3/envs/nico/lib/libarrow.1100.0.0.dylib\n  Reason: tried: '/Users/n.c.rodriguez/anaconda3/envs/nico/lib/libbrotlienc.1.dylib' (no such file), '/Users/n.c.rodriguez/anaconda3/envs/nico/lib/libbrotlienc.1.dylib' (no such file), '/Users/n.c.rodriguez/anaconda3/envs/nico/lib/python3.10/site-packages/pyarrow/libbrotlienc.1.dylib' (no such file), '/Users/n.c.rodriguez/anaconda3/envs/nico/lib/python3.10/site-packages/pyarrow/../../../libbrotlienc.1.dylib' (no such file), '/Users/n.c.rodriguez/anaconda3/envs/nico/lib/python3.10/site-packages/pyarrow/libbrotlienc.1.dylib' (no such file), '/Users/n.c.rodriguez/anaconda3/envs/nico/lib/python3.10/site-packages/pyarrow/../../../libbrotlienc.1.dylib' (no such file), '/Users/n.c.rodriguez/anaconda3/envs/nico/lib/python3.10/site-packages/pyarrow/libbrotlienc.1.dylib' (no such file), '/Users/n.c.rodriguez/anaconda3/envs/nico/lib/python3.10/site-packages/pyarrow/../../../libbrotlienc.1.dylib' (no such file), '/Users/n.c.rodriguez/anaconda3/envs/nico/bin/../lib/libbrotlienc.1.dylib' (no such file), '/Users/n.c.rodriguez/anaconda3/envs/nico/bin/../lib/libbrotlienc.1.dylib' (no such file), '/usr/local/lib/libbrotlienc.1.dylib' (no such file), '/usr/lib/libbrotlienc.1.dylib' (no such file, not in dyld cache)"
     ]
    }
   ],
   "source": [
    "import jsonlines\n",
    "import itertools\n",
    "import pandas as pd\n",
    "from pprint import pprint\n",
    "\n",
    "import datasets\n",
    "from datasets import load_dataset"
   ]
  },
  {
   "cell_type": "markdown",
   "id": "e907b519-8db6-4e85-9172-3328408fe0f8",
   "metadata": {},
   "source": [
    "### Look at pretraining data set"
   ]
  },
  {
   "cell_type": "code",
   "execution_count": null,
   "id": "05ac91ab-af76-4881-afc6-98435430fd34",
   "metadata": {},
   "outputs": [],
   "source": [
    "pretrained_dataset = load_dataset(\"c4\", \"en\", split=\"train\", streaming=True)\n"
   ]
  },
  {
   "cell_type": "code",
   "execution_count": null,
   "id": "2ab83972-1ab5-4f1c-be4b-5c17fba532e8",
   "metadata": {},
   "outputs": [],
   "source": [
    "n = 5\n",
    "print(\"Pretrained dataset:\")\n",
    "top_n = itertools.islice(pretrained_dataset, n)\n",
    "for i in top_n:\n",
    "  print(i)"
   ]
  }
 ],
 "metadata": {
  "kernelspec": {
   "display_name": "Python 3 (ipykernel)",
   "language": "python",
   "name": "python3"
  },
  "language_info": {
   "codemirror_mode": {
    "name": "ipython",
    "version": 3
   },
   "file_extension": ".py",
   "mimetype": "text/x-python",
   "name": "python",
   "nbconvert_exporter": "python",
   "pygments_lexer": "ipython3",
   "version": "3.10.9"
  }
 },
 "nbformat": 4,
 "nbformat_minor": 5
}
