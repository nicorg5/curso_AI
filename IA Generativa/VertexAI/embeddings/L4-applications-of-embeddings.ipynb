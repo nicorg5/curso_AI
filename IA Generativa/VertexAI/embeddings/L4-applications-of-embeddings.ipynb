{
 "cells": [
  {
   "cell_type": "markdown",
   "id": "a35edcbc-e1e9-4c7f-ad32-6aff5d27ddbd",
   "metadata": {},
   "source": [
    "## Lesson 4: Applications of Embeddings"
   ]
  },
  {
   "cell_type": "markdown",
   "id": "6eec53f1-25aa-43f0-b71a-f65915b44061",
   "metadata": {},
   "source": [
    "#### Project environment setup\n",
    "\n",
    "- Load credentials and relevant Python Libraries"
   ]
  },
  {
   "cell_type": "code",
   "execution_count": null,
   "id": "fd279bb9-8e6e-484d-a8b6-e0c7aa1137c1",
   "metadata": {},
   "outputs": [],
   "source": [
    "from utils import authenticate\n",
    "credentials, PROJECT_ID = authenticate()\n",
    "REGION = 'us-central1'"
   ]
  },
  {
   "cell_type": "code",
   "execution_count": null,
   "id": "75b65965-b63c-4d4e-9c87-cf20e262572f",
   "metadata": {},
   "outputs": [],
   "source": [
    "import vertexai\n",
    "vertexai.init(project=PROJECT_ID, \n",
    "              location=REGION, \n",
    "              credentials = credentials)"
   ]
  },
  {
   "cell_type": "markdown",
   "id": "66600e3b-f5ff-4348-abda-33bab2e8b753",
   "metadata": {},
   "source": [
    "#### Load Stack Overflow questions and answers from BigQuery\n",
    "- BigQuery is Google Cloud's serverless data warehouse.\n",
    "- We'll get the first 500 posts (questions and answers) for each programming language: Python, HTML, R, and CSS."
   ]
  },
  {
   "cell_type": "code",
   "execution_count": null,
   "id": "49f4a9d4-5f47-46a0-a145-7cd206624f78",
   "metadata": {},
   "outputs": [],
   "source": [
    "from google.cloud import bigquery\n",
    "import pandas as pd"
   ]
  },
  {
   "cell_type": "code",
   "execution_count": null,
   "id": "7215cae0-55da-4825-b702-2c875e8669b9",
   "metadata": {},
   "outputs": [],
   "source": [
    "def run_bq_query(sql):\n",
    "\n",
    "    # Create BQ client\n",
    "    bq_client = bigquery.Client(project = PROJECT_ID, \n",
    "                                credentials = credentials)\n",
    "\n",
    "    # Try dry run before executing query to catch any errors\n",
    "    job_config = bigquery.QueryJobConfig(dry_run=True, \n",
    "                                         use_query_cache=False)\n",
    "    bq_client.query(sql, job_config=job_config)\n",
    "\n",
    "    # If dry run succeeds without errors, proceed to run query\n",
    "    job_config = bigquery.QueryJobConfig()\n",
    "    client_result = bq_client.query(sql, \n",
    "                                    job_config=job_config)\n",
    "\n",
    "    job_id = client_result.job_id\n",
    "\n",
    "    # Wait for query/job to finish running. then get & return data frame\n",
    "    df = client_result.result().to_arrow().to_pandas()\n",
    "    print(f\"Finished job_id: {job_id}\")\n",
    "    return df"
   ]
  },
  {
   "cell_type": "code",
   "execution_count": null,
   "id": "36d09c2e-24af-4615-8ff4-f1e9b3083f84",
   "metadata": {},
   "outputs": [],
   "source": [
    "# define list of programming language tags we want to query\n",
    "\n",
    "language_list = [\"python\", \"html\", \"r\", \"css\"]"
   ]
  },
  {
   "cell_type": "code",
   "execution_count": null,
   "id": "6ab568d9-8491-436e-8b1b-043cb97721c7",
   "metadata": {},
   "outputs": [],
   "source": [
    "so_df = pd.DataFrame()\n",
    "\n",
    "for language in language_list:\n",
    "    \n",
    "    print(f\"generating {language} dataframe\")\n",
    "    \n",
    "    query = f\"\"\"\n",
    "    SELECT\n",
    "        CONCAT(q.title, q.body) as input_text,\n",
    "        a.body AS output_text\n",
    "    FROM\n",
    "        `bigquery-public-data.stackoverflow.posts_questions` q\n",
    "    JOIN\n",
    "        `bigquery-public-data.stackoverflow.posts_answers` a\n",
    "    ON\n",
    "        q.accepted_answer_id = a.id\n",
    "    WHERE \n",
    "        q.accepted_answer_id IS NOT NULL AND \n",
    "        REGEXP_CONTAINS(q.tags, \"{language}\") AND\n",
    "        a.creation_date >= \"2020-01-01\"\n",
    "    LIMIT \n",
    "        500\n",
    "    \"\"\"\n",
    "\n",
    "    \n",
    "    language_df = run_bq_query(query)\n",
    "    language_df[\"category\"] = language\n",
    "    so_df = pd.concat([so_df, language_df], \n",
    "                      ignore_index = True) "
   ]
  },
  {
   "cell_type": "markdown",
   "id": "7e2bb1c5-cdbe-4a83-ac5e-812ea969ddf8",
   "metadata": {},
   "source": [
    "- You can reuse the above code to run your own queries if you are using Google Cloud's BigQuery service.\n",
    "- In this classroom, if you run into any issues, you can load the same data from a csv file."
   ]
  },
  {
   "cell_type": "code",
   "execution_count": null,
   "id": "2af7e8b2-1eb6-48e7-a1dc-413a4194bf4c",
   "metadata": {},
   "outputs": [],
   "source": [
    "so_df"
   ]
  },
  {
   "cell_type": "markdown",
   "id": "00db778f-540b-4540-9432-358ffd86fbda",
   "metadata": {},
   "source": [
    "<img src=\"images/so_df.png\">"
   ]
  },
  {
   "cell_type": "markdown",
   "id": "7eafa7bf-9470-4067-b331-f01d3cef7671",
   "metadata": {},
   "source": [
    "#### Generate text embeddings\n",
    "- To generate embeddings for a dataset of texts, we'll need to group the sentences together in batches and send batches of texts to the model.\n",
    "- The API currently can take batches of up to 5 pieces of text per API call."
   ]
  },
  {
   "cell_type": "code",
   "execution_count": null,
   "id": "7019067a-255e-4d0e-baaf-dffce1b82d7e",
   "metadata": {},
   "outputs": [],
   "source": [
    "from vertexai.language_models import TextEmbeddingModel"
   ]
  },
  {
   "cell_type": "code",
   "execution_count": null,
   "id": "7467f801-8d61-4337-919b-b61f0771ac89",
   "metadata": {},
   "outputs": [],
   "source": [
    "model = TextEmbeddingModel.from_pretrained(\n",
    "    \"textembedding-gecko@001\")"
   ]
  },
  {
   "cell_type": "code",
   "execution_count": null,
   "id": "fa1a2e7c-eb59-42ab-bc40-cc0fd6d7fecd",
   "metadata": {},
   "outputs": [],
   "source": [
    "import time\n",
    "import numpy as np"
   ]
  },
  {
   "cell_type": "code",
   "execution_count": null,
   "id": "93bbc23c-4314-4de0-8ec3-8bb421aad0d3",
   "metadata": {},
   "outputs": [],
   "source": [
    "# Generator function to yield batches of sentences. \n",
    "#La función generate_batches facilita la división eficiente de una lista de oraciones en lotes de un tamaño específico\n",
    "\n",
    "def generate_batches(sentences, batch_size = 5):\n",
    "    for i in range(0, len(sentences), batch_size):\n",
    "        yield sentences[i : i + batch_size]"
   ]
  },
  {
   "cell_type": "code",
   "execution_count": null,
   "id": "f57e7715-2a5e-45ca-88be-99c1601c8e8a",
   "metadata": {},
   "outputs": [],
   "source": [
    "so_questions = so_df[0:200].input_text.tolist() \n",
    "batches = generate_batches(sentences = so_questions)"
   ]
  },
  {
   "cell_type": "code",
   "execution_count": null,
   "id": "0c58271c-1282-4930-b602-22f4214acd83",
   "metadata": {},
   "outputs": [],
   "source": [
    "batch = next(batches)\n",
    "len(batch)"
   ]
  },
  {
   "cell_type": "markdown",
   "id": "d84ef48d-4c48-4259-94c3-a83b49f114bc",
   "metadata": {},
   "source": [
    "5"
   ]
  },
  {
   "cell_type": "markdown",
   "id": "880f908c-04bf-49e2-b578-25a8ba9ac06c",
   "metadata": {},
   "source": [
    "#### Get embeddings on a batch of data\n",
    "- This helper function calls `model.get_embeddings()` on the batch of data, and returns a list containing the embeddings for each text in that batch."
   ]
  },
  {
   "cell_type": "code",
   "execution_count": null,
   "id": "5b2e1041-0a9f-4618-99a6-3828c6a54de0",
   "metadata": {},
   "outputs": [],
   "source": [
    "def encode_texts_to_embeddings(sentences):\n",
    "    try:\n",
    "        embeddings = model.get_embeddings(sentences)\n",
    "        return [embedding.values for embedding in embeddings]\n",
    "    except Exception:\n",
    "        return [None for _ in range(len(sentences))]"
   ]
  },
  {
   "cell_type": "code",
   "execution_count": null,
   "id": "283f88b4-9380-433f-9398-663475867e71",
   "metadata": {},
   "outputs": [],
   "source": [
    "batch_embeddings = encode_texts_to_embeddings(batch)"
   ]
  },
  {
   "cell_type": "code",
   "execution_count": null,
   "id": "0d3256a4-e757-4ece-9214-177c16c1b2a3",
   "metadata": {},
   "outputs": [],
   "source": [
    "f\"{len(batch_embeddings)} embeddings of size {len(batch_embeddings[0])}\""
   ]
  },
  {
   "cell_type": "markdown",
   "id": "f02f9e04-d8f5-4348-9620-73fff9b16288",
   "metadata": {},
   "source": [
    "'1 embeddings of size 7'"
   ]
  },
  {
   "cell_type": "markdown",
   "id": "28b46031-2932-4bca-b275-6c33df67ad49",
   "metadata": {},
   "source": [
    "#### Code for getting data on an entire data set\n",
    "- Most API services have rate limits, so we've provided a helper function (in utils.py) that you could use to wait in-between API calls.\n",
    "- If the code was not designed to wait in-between API calls, you may not receive embeddings for all batches of text.\n",
    "- This particular service can handle 20 calls per minute.  In calls per second, that's 20 calls divided by 60 seconds, or `20/60`.\n",
    "\n",
    "```Python\n",
    "from utils import encode_text_to_embedding_batched\n",
    "\n",
    "so_questions = so_df.input_text.tolist()\n",
    "question_embeddings = encode_text_to_embedding_batched(\n",
    "                            sentences=so_questions,\n",
    "                            api_calls_per_second = 20/60, \n",
    "                            batch_size = 5)\n",
    "```\n",
    "\n",
    "In order to handle limits of this classroom environment, we're not going to run this code to embed all of the data. But you can adapt this code for your own projects and datasets."
   ]
  },
  {
   "cell_type": "markdown",
   "id": "9cbc73c5-e8cb-4c7a-8a29-58cd194c21fe",
   "metadata": {},
   "source": [
    "#### Load the data from file\n",
    "- We'll load the stack overflow questions, answers, and category labels (Python, HTML, R, CSS) from a .csv file.\n",
    "- We'll load the embeddings of the questions (which we've precomputed with batched calls to `model.get_embeddings()`), from a pickle file."
   ]
  },
  {
   "cell_type": "code",
   "execution_count": null,
   "id": "987ca4c6-098a-47da-a001-a7be04a711b8",
   "metadata": {},
   "outputs": [],
   "source": [
    "so_df = pd.read_csv('so_database_app.csv')\n",
    "so_df"
   ]
  },
  {
   "cell_type": "markdown",
   "id": "706d8dd3-4662-4ff6-99f2-bd56581c187b",
   "metadata": {},
   "source": [
    "<img src=\"images/so_df.png\">"
   ]
  },
  {
   "cell_type": "code",
   "execution_count": null,
   "id": "bcd5723f-a2b5-4f44-8cd5-866d446071a0",
   "metadata": {},
   "outputs": [],
   "source": [
    "import pickle"
   ]
  },
  {
   "cell_type": "code",
   "execution_count": null,
   "id": "406079d7-17c1-475b-85f6-a5421aa7dc5c",
   "metadata": {},
   "outputs": [],
   "source": [
    "with open('question_embeddings_app.pkl', 'rb') as file:\n",
    "    question_embeddings = pickle.load(file)"
   ]
  },
  {
   "cell_type": "code",
   "execution_count": null,
   "id": "e88f795a-493a-4957-b04c-ead35466f84b",
   "metadata": {},
   "outputs": [],
   "source": [
    "print(\"Shape: \" + str(question_embeddings.shape))\n",
    "print(question_embeddings)"
   ]
  },
  {
   "cell_type": "markdown",
   "id": "c1ca7c9a-81a7-43d2-b395-845877017ed8",
   "metadata": {},
   "source": [
    "Shape: (2000, 768)\n",
    "[[-0.03571156 -0.00240684  0.05860338 ... -0.03100227 -0.00855574\n",
    "  -0.01997405]\n",
    " [-0.02024316 -0.0026255   0.01940405 ... -0.02158143 -0.05655403\n",
    "  -0.01040497]\n",
    " [-0.05175979 -0.03712264  0.02699278 ... -0.07055898 -0.0402537\n",
    "   0.00092099]\n",
    "   \n",
    " ...\n",
    " \n",
    " [-0.00580394 -0.01621097  0.05829635 ... -0.03350992 -0.05343556\n",
    "  -0.06016821]\n",
    " [-0.00436622 -0.02692963  0.03363771 ... -0.01686567 -0.03812337\n",
    "  -0.02329491]\n",
    " [-0.04240424 -0.01633749  0.05516777 ... -0.02697376 -0.01751165\n",
    "  -0.04558187]]"
   ]
  },
  {
   "cell_type": "markdown",
   "id": "4f9b1d13-6bf9-4154-87eb-2984ce6826bf",
   "metadata": {},
   "source": [
    "#### Cluster the embeddings of the Stack Overflow questions"
   ]
  },
  {
   "cell_type": "code",
   "execution_count": null,
   "id": "2b949f98-8059-46de-99cc-0f342f3f1a98",
   "metadata": {},
   "outputs": [],
   "source": [
    "from sklearn.cluster import KMeans\n",
    "from sklearn.decomposition import PCA"
   ]
  },
  {
   "cell_type": "code",
   "execution_count": null,
   "id": "f1c191fb-63fb-4bb1-80ef-05598cf8144b",
   "metadata": {},
   "outputs": [],
   "source": [
    "clustering_dataset = question_embeddings[:1000]"
   ]
  },
  {
   "cell_type": "code",
   "execution_count": null,
   "id": "52275425-c403-445c-9389-9d7877ded876",
   "metadata": {},
   "outputs": [],
   "source": [
    "n_clusters = 2\n",
    "kmeans = KMeans(n_clusters=n_clusters, \n",
    "                random_state=0, \n",
    "                n_init = 'auto').fit(clustering_dataset)"
   ]
  },
  {
   "cell_type": "code",
   "execution_count": null,
   "id": "55e0b01f-439b-4c00-bfc4-ea0522bf1913",
   "metadata": {},
   "outputs": [],
   "source": [
    "kmeans_labels = kmeans.labels_"
   ]
  },
  {
   "cell_type": "code",
   "execution_count": null,
   "id": "f12c138c-26d3-4bac-867d-d9b9390bcdf9",
   "metadata": {},
   "outputs": [],
   "source": [
    "PCA_model = PCA(n_components=2)\n",
    "PCA_model.fit(clustering_dataset)\n",
    "new_values = PCA_model.transform(clustering_dataset)"
   ]
  },
  {
   "cell_type": "code",
   "execution_count": null,
   "id": "6a388338-3b1a-42f1-bb29-1a890448a57e",
   "metadata": {},
   "outputs": [],
   "source": [
    "import matplotlib.pyplot as plt\n",
    "import mplcursors\n",
    "%matplotlib ipympl"
   ]
  },
  {
   "cell_type": "code",
   "execution_count": null,
   "id": "d143efb0-b070-46b0-9ae3-9a57acad868c",
   "metadata": {},
   "outputs": [],
   "source": [
    "from utils import clusters_2D\n",
    "clusters_2D(x_values = new_values[:,0], y_values = new_values[:,1], \n",
    "            labels = so_df[:1000], kmeans_labels = kmeans_labels)"
   ]
  },
  {
   "cell_type": "markdown",
   "id": "732dddc6-d2ac-4c91-a383-b39e7148e434",
   "metadata": {},
   "source": [
    "<img src=\"images/Embeddings_clustering_visualization_2D.png\">"
   ]
  },
  {
   "cell_type": "markdown",
   "id": "2edb54c0-1a33-4b9f-8302-f94ee12c354e",
   "metadata": {},
   "source": [
    "- Clustering is able to identify two distinct clusters of HTML or Python related questions, without being given the category labels (HTML or Python)."
   ]
  },
  {
   "cell_type": "markdown",
   "id": "4eb4a2ac-3692-41ea-809c-8e25ff4ce7bd",
   "metadata": {},
   "source": [
    "## Anomaly / Outlier detection\n",
    "\n",
    "- We can add an anomalous piece of text and check if the outlier (anomaly) detection algorithm (Isolation Forest) can identify it as an outlier (anomaly), based on its embedding."
   ]
  },
  {
   "cell_type": "code",
   "execution_count": null,
   "id": "237f37da-0eae-426f-969a-311938b07b7d",
   "metadata": {},
   "outputs": [],
   "source": [
    "from sklearn.ensemble import IsolationForest"
   ]
  },
  {
   "cell_type": "code",
   "execution_count": null,
   "id": "0361195a-eaa4-4205-912f-de403cc8cc9d",
   "metadata": {},
   "outputs": [],
   "source": [
    "input_text = \"\"\"I am making cookies but don't \n",
    "                remember the correct ingredient proportions. \n",
    "                I have been unable to find \n",
    "                anything on the web.\"\"\""
   ]
  },
  {
   "cell_type": "code",
   "execution_count": null,
   "id": "6803e5dc-0744-4ffd-bd62-7da5bf75c4eb",
   "metadata": {},
   "outputs": [],
   "source": [
    "emb = model.get_embeddings([input_text])[0].values"
   ]
  },
  {
   "cell_type": "code",
   "execution_count": null,
   "id": "dd19bda5-f049-467a-ae70-8448cb06ce43",
   "metadata": {},
   "outputs": [],
   "source": [
    "embeddings_l = question_embeddings.tolist()\n",
    "embeddings_l.append(emb)"
   ]
  },
  {
   "cell_type": "code",
   "execution_count": null,
   "id": "7b190582-6059-4c65-aaed-627ddbbcb662",
   "metadata": {},
   "outputs": [],
   "source": [
    "embeddings_array = np.array(embeddings_l)"
   ]
  },
  {
   "cell_type": "code",
   "execution_count": null,
   "id": "3a04dd53-6cb3-46f8-9dd4-fdc6646efb05",
   "metadata": {},
   "outputs": [],
   "source": [
    "print(\"Shape: \" + str(embeddings_array.shape))\n",
    "print(embeddings_array)"
   ]
  },
  {
   "cell_type": "code",
   "execution_count": null,
   "id": "749bc0a8-ab6c-411a-8bd3-d826d1fba8c0",
   "metadata": {},
   "outputs": [],
   "source": [
    "# Add the outlier text to the end of the stack overflow dataframe\n",
    "so_df = pd.read_csv('so_database_app.csv')\n",
    "new_row = pd.Series([input_text, None, \"baking\"], \n",
    "                    index=so_df.columns)\n",
    "so_df.loc[len(so_df)+1] = new_row\n",
    "so_df.tail()"
   ]
  },
  {
   "cell_type": "markdown",
   "id": "af9e1acd-5ad5-4bfc-ae61-8ed449c7b342",
   "metadata": {},
   "source": [
    "<img src=\"images/so_df_tail.png\">"
   ]
  },
  {
   "cell_type": "markdown",
   "id": "7c0410c4-46b3-46ff-bfe4-660094debf9b",
   "metadata": {},
   "source": [
    "#### Use Isolation Forest to identify potential outliers\n",
    "\n",
    "- `IsolationForest` classifier will predict `-1` for potential outliers, and `1` for non-outliers.\n",
    "- You can inspect the rows that were predicted to be potential outliers and verify that the question about baking is predicted to be an outlier."
   ]
  },
  {
   "cell_type": "code",
   "execution_count": null,
   "id": "3dcada19-dee2-4a18-94fb-f3b0991ca7d2",
   "metadata": {},
   "outputs": [],
   "source": [
    "clf = IsolationForest(contamination=0.005, \n",
    "                      random_state = 2) "
   ]
  },
  {
   "cell_type": "code",
   "execution_count": null,
   "id": "5eafedfa-25cf-4fc3-ace8-3fd47fb1c8ec",
   "metadata": {},
   "outputs": [],
   "source": [
    "preds = clf.fit_predict(embeddings_array)\n",
    "\n",
    "print(f\"{len(preds)} predictions. Set of possible values: {set(preds)}\")"
   ]
  },
  {
   "cell_type": "code",
   "execution_count": null,
   "id": "8e73a9b7-4a59-4f80-bb9b-85b156bd0576",
   "metadata": {},
   "outputs": [],
   "source": [
    "so_df.loc[preds == -1]"
   ]
  },
  {
   "cell_type": "markdown",
   "id": "b5376559-18f8-4b5f-9fdc-7b3513c898cb",
   "metadata": {},
   "source": [
    "#### Remove the outlier about baking"
   ]
  },
  {
   "cell_type": "code",
   "execution_count": null,
   "id": "c3866831-f174-495d-b169-8d6ea723c972",
   "metadata": {},
   "outputs": [],
   "source": [
    "so_df = so_df.drop(so_df.index[-1])\n",
    "so_df"
   ]
  },
  {
   "cell_type": "markdown",
   "id": "d9e68a27-c058-44c4-97be-c7d0d53b6849",
   "metadata": {},
   "source": [
    "## Classification\n",
    "- Train a random forest model to classify the category of a Stack Overflow question (as either Python, R, HTML or CSS)."
   ]
  },
  {
   "cell_type": "code",
   "execution_count": null,
   "id": "0d9f8761-d024-4f55-a536-a562eef0d9f1",
   "metadata": {},
   "outputs": [],
   "source": [
    "from sklearn.ensemble import RandomForestClassifier\n",
    "from sklearn.metrics import accuracy_score\n",
    "from sklearn.model_selection import train_test_split"
   ]
  },
  {
   "cell_type": "code",
   "execution_count": null,
   "id": "71bbfda0-383e-4722-9068-22e0f770c692",
   "metadata": {},
   "outputs": [],
   "source": [
    "# re-load the dataset from file\n",
    "so_df = pd.read_csv('so_database_app.csv')\n",
    "X = question_embeddings\n",
    "X.shape"
   ]
  },
  {
   "cell_type": "markdown",
   "id": "c2217be3-3551-442c-869f-5174aca93904",
   "metadata": {},
   "source": [
    "(2000, 768)"
   ]
  },
  {
   "cell_type": "code",
   "execution_count": null,
   "id": "99cfdccd-c2b0-47af-8172-46811a72b22e",
   "metadata": {},
   "outputs": [],
   "source": [
    "y = so_df['category'].values\n",
    "y.shape"
   ]
  },
  {
   "cell_type": "markdown",
   "id": "92e6d774-43f4-4794-9f3d-fbe9c3de9683",
   "metadata": {},
   "source": [
    "(2000,)"
   ]
  },
  {
   "cell_type": "code",
   "execution_count": null,
   "id": "99c1ae14-bd79-47d1-aca7-bda15f99c65c",
   "metadata": {},
   "outputs": [],
   "source": [
    "X_train, X_test, y_train, y_test = train_test_split(X, \n",
    "                                                    y, \n",
    "                                                    test_size = 0.2, \n",
    "                                                    random_state = 2)"
   ]
  },
  {
   "cell_type": "code",
   "execution_count": null,
   "id": "95c63498-ae10-411a-9c64-8f93dc4b7d6e",
   "metadata": {},
   "outputs": [],
   "source": [
    "clf = RandomForestClassifier(n_estimators=200)"
   ]
  },
  {
   "cell_type": "code",
   "execution_count": null,
   "id": "6c02a65f-e5f3-42a5-bef5-4b73a37a0ec2",
   "metadata": {},
   "outputs": [],
   "source": [
    "clf.fit(X_train, y_train)"
   ]
  },
  {
   "cell_type": "markdown",
   "id": "2d71f8cc-7ac3-41b4-864d-7b221fcd3fd1",
   "metadata": {},
   "source": [
    "#### You can check the predictions on a few questions from the test set"
   ]
  },
  {
   "cell_type": "code",
   "execution_count": null,
   "id": "7728422f-18da-471e-816b-df85229a1a66",
   "metadata": {},
   "outputs": [],
   "source": [
    "y_pred = clf.predict(X_test)"
   ]
  },
  {
   "cell_type": "code",
   "execution_count": null,
   "id": "81bf2917-7128-4acf-aeaf-d16fe479774e",
   "metadata": {},
   "outputs": [],
   "source": [
    "accuracy = accuracy_score(y_test, y_pred) # compute accuracy\n",
    "print(\"Accuracy:\", accuracy)"
   ]
  },
  {
   "cell_type": "markdown",
   "id": "4d373622-9cce-4453-a49d-22758f34e8eb",
   "metadata": {},
   "source": [
    "Accuracy: 0.69"
   ]
  },
  {
   "cell_type": "markdown",
   "id": "a1edff73-af5f-4529-b148-90acee5a34f8",
   "metadata": {},
   "source": [
    "#### Try out the classifier on some questions"
   ]
  },
  {
   "cell_type": "code",
   "execution_count": null,
   "id": "57e7574a-2fe9-404f-a509-fe5311bc5947",
   "metadata": {},
   "outputs": [],
   "source": [
    "# choose a number between 0 and 1999\n",
    "i = 2\n",
    "label = so_df.loc[i,'category']\n",
    "question = so_df.loc[i,'input_text']\n",
    "\n",
    "# get the embedding of this question and predict its category\n",
    "question_embedding = model.get_embeddings([question])[0].values\n",
    "pred = clf.predict([question_embedding])\n",
    "\n",
    "print(f\"For question {i}, the prediction is `{pred[0]}`\")\n",
    "print(f\"The actual label is `{label}`\")\n",
    "print(\"The question text is:\")\n",
    "print(\"-\"*50)\n",
    "print(question)"
   ]
  }
 ],
 "metadata": {
  "kernelspec": {
   "display_name": "Python 3 (ipykernel)",
   "language": "python",
   "name": "python3"
  },
  "language_info": {
   "codemirror_mode": {
    "name": "ipython",
    "version": 3
   },
   "file_extension": ".py",
   "mimetype": "text/x-python",
   "name": "python",
   "nbconvert_exporter": "python",
   "pygments_lexer": "ipython3",
   "version": "3.10.13"
  }
 },
 "nbformat": 4,
 "nbformat_minor": 5
}
