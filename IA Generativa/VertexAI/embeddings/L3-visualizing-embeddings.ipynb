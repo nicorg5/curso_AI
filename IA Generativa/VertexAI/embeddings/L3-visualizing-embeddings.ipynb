{
 "cells": [
  {
   "cell_type": "code",
   "execution_count": null,
   "id": "e8bf6e2d-265f-41c7-b26e-b297bd91228a",
   "metadata": {},
   "outputs": [],
   "source": [
    "!pip uninstall vertexai"
   ]
  },
  {
   "cell_type": "code",
   "execution_count": null,
   "id": "9133ccbf-94fd-48d3-9ddc-b059e6e030da",
   "metadata": {
    "scrolled": true
   },
   "outputs": [],
   "source": [
    "!pip install vertexai"
   ]
  },
  {
   "cell_type": "code",
   "execution_count": null,
   "id": "af84dfc0-c56b-4de8-b443-3c0a0a4835b4",
   "metadata": {
    "scrolled": true
   },
   "outputs": [],
   "source": [
    "!pip install utils"
   ]
  },
  {
   "cell_type": "code",
   "execution_count": null,
   "id": "6c7fc3b5-0305-42f1-90cb-277deac61443",
   "metadata": {},
   "outputs": [],
   "source": [
    "\n",
    "from utils import authenticate\n",
    "credentials, PROJECT_ID = authenticate() #Get credentials and project ID"
   ]
  },
  {
   "cell_type": "code",
   "execution_count": null,
   "id": "adc19713-eb1b-4a25-9636-9821d87fdc5a",
   "metadata": {},
   "outputs": [],
   "source": [
    "# Import and initialize the Vertex AI Python SDK\n",
    "import vertexai\n",
    "vertexai.init(project=PROJECT_ID, \n",
    "              location=REGION, \n",
    "              credentials = credentials)"
   ]
  },
  {
   "cell_type": "code",
   "execution_count": null,
   "id": "53aaeaa3-d930-4321-b9c8-aac53803d9ce",
   "metadata": {},
   "outputs": [],
   "source": [
    "import numpy as np\n",
    "from vertexai.language_models import TextEmbeddingModel"
   ]
  },
  {
   "cell_type": "code",
   "execution_count": null,
   "id": "b86168ab-93b9-4502-a48a-1c6fd6973816",
   "metadata": {},
   "outputs": [],
   "source": [
    "in_1 = \"Hemos observado un ibis volando hacia la laguna\"\n",
    "\n",
    "in_2 = \"Avistada una nutria en la costa\"\n",
    "\n",
    "in_3 = \"Un perro parece divertirse con los delfines\"\n",
    "\n",
    "\n",
    "in_4 = \"La ensalada de aguacate está deliciosa!\"\n",
    "\n",
    "in_5 = \"Me encanta la comida japonesa!\"\n",
    "\n",
    "\n",
    "in_6 = \"Los programadores de Python son gente genial\"\n",
    "\n",
    "in_7 = \"TypeScript, C++ o Java? Todos molan!\"\n",
    "\n",
    "\n",
    "input_text_lst_news = [in_1, in_2, in_3, in_4, in_5, in_6, in_7]"
   ]
  },
  {
   "cell_type": "code",
   "execution_count": null,
   "id": "b73c9456-8993-4b70-b525-88a7e2977956",
   "metadata": {},
   "outputs": [],
   "source": [
    "embedding_model = TextEmbeddingModel.from_pretrained(\n",
    "    \"textembedding-gecko-multilingual@001\")"
   ]
  },
  {
   "cell_type": "markdown",
   "id": "268bbba6-6819-4fe1-9507-02d211decc18",
   "metadata": {},
   "source": [
    "- Obtenemos embeddings para todas las piezas de texto.\n",
    "- Las almacenamos en un array NumPy 2D (una fila por cada embedding)."
   ]
  },
  {
   "cell_type": "code",
   "execution_count": null,
   "id": "77f69515-4f92-4444-a706-e46c7ed9d2af",
   "metadata": {},
   "outputs": [],
   "source": [
    "embeddings = []\n",
    "for input_text in input_text_lst_news:\n",
    "    emb = embedding_model.get_embeddings(\n",
    "        [input_text])[0].values\n",
    "    embeddings.append(emb)\n",
    "\n",
    "embeddings_array = np.array(embeddings)"
   ]
  },
  {
   "cell_type": "code",
   "execution_count": null,
   "id": "c837c28e-81cd-4899-bc99-8021067bdab2",
   "metadata": {},
   "outputs": [],
   "source": [
    "print(\"Shape: \" + str(embeddings_array.shape))\n",
    "print(embeddings_array)"
   ]
  },
  {
   "cell_type": "markdown",
   "id": "3c82836f-1a9f-46e8-8e64-a2fe2fedb1b6",
   "metadata": {},
   "source": [
    "Shape: (7, 768)\n",
    "[[ 0.04559246 -0.01472285 -0.02949955 ...  0.04057328 -0.03193641\n",
    "  -0.01936668]\n",
    " [-0.01995482  0.00037652  0.0116593  ...  0.02617216 -0.03978169\n",
    "  -0.02036468]\n",
    " [ 0.01030084  0.02219611  0.02433357 ...  0.03538613 -0.0273955\n",
    "  -0.04193578]\n",
    "  \n",
    " ...\n",
    " \n",
    " [-0.0263201  -0.01767797 -0.01261324 ... -0.01372547  0.00060259\n",
    "   0.01581882]\n",
    " [-0.00561961 -0.02237099 -0.03271009 ... -0.02777804 -0.03388645\n",
    "  -0.01553735]\n",
    " [ 0.00867064 -0.0131854   0.04283332 ... -0.04224638  0.01800203\n",
    "   0.01088098]]"
   ]
  },
  {
   "cell_type": "markdown",
   "id": "7b88d79d-22fa-4fec-b220-58f644ed8458",
   "metadata": {},
   "source": [
    "#### Reducimos embeddings de 768 a 2 dimensiones para visualización\n",
    "- Usamos Análisis de Componente Principal (PCA).\n"
   ]
  },
  {
   "cell_type": "code",
   "execution_count": null,
   "id": "8f00d5d9-7f3b-4be9-91b1-b39327e60385",
   "metadata": {},
   "outputs": [],
   "source": [
    "from sklearn.decomposition import PCA\n",
    "\n",
    "# PCA para visualiz. 2D\n",
    "PCA_model = PCA(n_components = 2)\n",
    "PCA_model.fit(embeddings_array)\n",
    "new_values = PCA_model.transform(embeddings_array)"
   ]
  },
  {
   "cell_type": "code",
   "execution_count": null,
   "id": "988796b0-ed03-48ad-93d3-1f587ec2c2ca",
   "metadata": {},
   "outputs": [],
   "source": [
    "print(\"Shape: \" + str(new_values.shape))\n",
    "print(new_values)"
   ]
  },
  {
   "cell_type": "markdown",
   "id": "d17bb04c-861d-4757-8b7e-d1d2fc8e7afe",
   "metadata": {},
   "source": [
    "Shape: (7, 2)\n",
    "\n",
    "[[-0.40980753 -0.10084478]\n",
    " [-0.39561909 -0.18401444]\n",
    " [-0.29958523  0.07514691]\n",
    " [ 0.16077688  0.32879395]\n",
    " [ 0.1893873   0.48556638]\n",
    " [ 0.31516547 -0.23624716]\n",
    " [ 0.4396822  -0.36840086]]"
   ]
  },
  {
   "cell_type": "code",
   "execution_count": null,
   "id": "49525be6-1c98-4b22-8a20-8ed4bad1bd83",
   "metadata": {},
   "outputs": [],
   "source": [
    "import matplotlib.pyplot as plt\n",
    "import mplcursors\n",
    "\n",
    "\n",
    "def plot_2D(x_values, y_values, labels):\n",
    "\n",
    "    # Creamos scatter plot\n",
    "    fig, ax = plt.subplots()\n",
    "    scatter = ax.scatter(x_values,\n",
    "                         y_values,\n",
    "                         alpha = 0.5,\n",
    "                         edgecolors='k',\n",
    "                         s = 40)\n",
    "\n",
    "    # Creamos a mplcursors object to manage the data point interaction\n",
    "    cursor = mplcursors.cursor(scatter, hover=True)\n",
    "\n",
    "    #aes\n",
    "    ax.set_title('Visulaizacion del embedding en 2D')\n",
    "    ax.set_xlabel('X_1')  # Add x-axis label\n",
    "    ax.set_ylabel('X_2')  # Add y-axis label\n",
    "\n",
    "    # Define how each annotation should look\n",
    "    @cursor.connect(\"add\")\n",
    "    def on_add(sel):\n",
    "        sel.annotation.set_text(labels[sel.target.index])\n",
    "        sel.annotation.get_bbox_patch().set(facecolor='white', alpha=0.5) # Set annotation's background color\n",
    "        sel.annotation.set_fontsize(12)\n",
    "\n",
    "    plt.show()\n",
    "\n",
    "\n",
    "plot_2D(new_values[:,0], new_values[:,1], input_text_lst_news)"
   ]
  },
  {
   "cell_type": "markdown",
   "id": "92774ac3-8193-49ba-9748-2072f0eb6438",
   "metadata": {},
   "source": [
    "<img src=\"images/Embedding_visualization_2D.png\">"
   ]
  },
  {
   "cell_type": "markdown",
   "id": "4f5fb93f-5128-498a-b28e-6ccd28789ed4",
   "metadata": {},
   "source": [
    "#### Embeddings and Similarity\n",
    "- Plot a heat map to compare the embeddings of sentences that are similar and sentences that are dissimilar."
   ]
  },
  {
   "cell_type": "code",
   "execution_count": null,
   "id": "55516e1a-0a40-4a52-a21c-7a348c812cb7",
   "metadata": {},
   "outputs": [],
   "source": [
    "in_1 = \"\"\"La cebra come de la planta.\"\"\"\n",
    "\n",
    "in_2 = \"\"\"En la planta surgió un llama\"\"\"\n",
    "\n",
    "in_3 = \"\"\"Las bacterias pueden aguantar periodos largos de falta de agua.\"\"\"\n",
    "\n",
    "in_4 = \"\"\"Algunos microorganismos son resistentes\n",
    "          a la escasez de agua.\"\"\"\n",
    "\n",
    "input_text_lst_sim = [in_1, in_2, in_3, in_4]"
   ]
  },
  {
   "cell_type": "code",
   "execution_count": null,
   "id": "eeb72f31-3060-4b72-b980-b3c7deeef6a2",
   "metadata": {},
   "outputs": [],
   "source": [
    "embeddings = []\n",
    "for input_text in input_text_lst_sim:\n",
    "    emb = embedding_model.get_embeddings([input_text])[0].values\n",
    "    embeddings.append(emb)\n",
    "\n",
    "embeddings_array = np.array(embeddings)"
   ]
  },
  {
   "cell_type": "code",
   "execution_count": null,
   "id": "57287b25-29fa-4984-9434-816555ea419f",
   "metadata": {},
   "outputs": [],
   "source": [
    "def plot_heatmap(data, x_labels=None, y_labels=None, title=None):\n",
    "    fig, ax = plt.subplots(figsize=(50, 3))\n",
    "    heatmap = ax.pcolor(data, cmap='coolwarm', edgecolors='k', linewidths=0.1)\n",
    "\n",
    "    # Add color bar to the right of the heatmap\n",
    "    cbar = plt.colorbar(heatmap, ax=ax)\n",
    "    cbar.remove()\n",
    "\n",
    "    # Set labels for each axis\n",
    "    if x_labels:\n",
    "        ax.set_xticks(np.arange(data.shape[1]) + 0.5, minor=False)\n",
    "        ax.set_xticklabels(x_labels, rotation=45, ha=\"right\")\n",
    "    if y_labels:\n",
    "        ax.set_yticks(np.arange(data.shape[0]) + 0.5, minor=False)\n",
    "        ax.set_yticklabels(y_labels, va=\"center\")\n",
    "\n",
    "    # Set title\n",
    "    if title:\n",
    "        ax.set_title(title)\n",
    "\n",
    "    plt.tight_layout()\n",
    "\n",
    "    # Show the plot\n",
    "    plt.show()\n",
    "\n",
    "\n",
    "y_labels = input_text_lst_sim\n",
    "\n",
    "# Plot the heatmap\n",
    "plot_heatmap(embeddings_array, y_labels = y_labels, title = \"Embeddings Heatmap\")"
   ]
  },
  {
   "cell_type": "markdown",
   "id": "6fa15090-f8bf-4abd-b872-3b37a3c00a8d",
   "metadata": {},
   "source": [
    "#### Compute cosine similarity\n",
    "Esperamos un array 2D en coseno similarity"
   ]
  },
  {
   "cell_type": "code",
   "execution_count": null,
   "id": "4b76f944-bdbb-4ff2-b691-176ae9269efd",
   "metadata": {},
   "outputs": [],
   "source": [
    "from sklearn.metrics.pairwise import cosine_similarity"
   ]
  },
  {
   "cell_type": "code",
   "execution_count": null,
   "id": "cb96cb5f-d69e-45ca-bf27-b1df4744a672",
   "metadata": {},
   "outputs": [],
   "source": [
    "def compare(embeddings,idx1,idx2):\n",
    "    return cosine_similarity([embeddings[idx1]],[embeddings[idx2]])"
   ]
  },
  {
   "cell_type": "code",
   "execution_count": null,
   "id": "99c256f3-8085-4ddf-ac7e-5106ffc22a18",
   "metadata": {},
   "outputs": [],
   "source": [
    "print(in_1)\n",
    "print(in_2)\n",
    "print(compare(embeddings,0,1))"
   ]
  },
  {
   "cell_type": "code",
   "execution_count": null,
   "id": "f3d00c93-0a07-4e84-a2a7-1b8ec1fbfa0d",
   "metadata": {},
   "outputs": [],
   "source": [
    "print(in_3)\n",
    "print(in_4)\n",
    "print(compare(embeddings,2,3))"
   ]
  }
 ],
 "metadata": {
  "kernelspec": {
   "display_name": "Python 3 (ipykernel)",
   "language": "python",
   "name": "python3"
  },
  "language_info": {
   "codemirror_mode": {
    "name": "ipython",
    "version": 3
   },
   "file_extension": ".py",
   "mimetype": "text/x-python",
   "name": "python",
   "nbconvert_exporter": "python",
   "pygments_lexer": "ipython3",
   "version": "3.10.13"
  }
 },
 "nbformat": 4,
 "nbformat_minor": 5
}
