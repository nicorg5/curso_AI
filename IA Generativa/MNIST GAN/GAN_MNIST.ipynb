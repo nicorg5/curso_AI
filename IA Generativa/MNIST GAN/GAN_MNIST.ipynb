{
 "cells": [
  {
   "cell_type": "code",
   "execution_count": 2,
   "metadata": {
    "colab": {
     "base_uri": "https://localhost:8080/"
    },
    "id": "3ZIavZ6f_8Gs",
    "outputId": "830e9257-50e4-4516-d30e-308656498395"
   },
   "outputs": [],
   "source": [
    "# Instalación de las bilbiotecas y librerías necesarias\n",
    "import numpy as np\n",
    "import matplotlib.pyplot as plt\n",
    "from tensorflow.keras.datasets import mnist\n",
    "from tensorflow.keras.models import Sequential, Model\n",
    "from tensorflow.keras.layers import Dense, LeakyReLU, BatchNormalization, Reshape, Flatten, Input\n",
    "from tensorflow.keras.optimizers import Adam\n",
    "from tensorflow.keras.models import load_model\n",
    "import os"
   ]
  },
  {
   "cell_type": "markdown",
   "metadata": {
    "id": "oj0f2rHUAEeI"
   },
   "source": [
    "Cargamos los datos MNIST"
   ]
  },
  {
   "cell_type": "code",
   "execution_count": 3,
   "metadata": {
    "colab": {
     "base_uri": "https://localhost:8080/"
    },
    "id": "OJjgTdvJAGgo",
    "outputId": "8f849a02-adba-408e-ee2c-223b92144421"
   },
   "outputs": [
    {
     "name": "stdout",
     "output_type": "stream",
     "text": [
      "Downloading data from https://storage.googleapis.com/tensorflow/tf-keras-datasets/mnist.npz\n",
      "11490434/11490434 [==============================] - 1s 0us/step\n"
     ]
    }
   ],
   "source": [
    "# Descarga de datos y normalización\n",
    "(X_train, _), (_, _) = mnist.load_data()\n",
    "X_train = X_train / 255.0 * 2 - 1  # Normalizar a [-1, 1]\n",
    "X_train = np.expand_dims(X_train, axis=3)"
   ]
  },
  {
   "cell_type": "markdown",
   "metadata": {
    "id": "_giZBYp8AOM7"
   },
   "source": [
    "Creamos el generador de imagenes"
   ]
  },
  {
   "cell_type": "code",
   "execution_count": 4,
   "metadata": {
    "id": "dNy3CFXWAQTc"
   },
   "outputs": [],
   "source": [
    "def build_generator(z_dim):\n",
    "    model = Sequential()\n",
    "    model.add(Dense(128, input_dim=z_dim))\n",
    "    model.add(LeakyReLU(alpha=0.01))\n",
    "    model.add(Dense(28 * 28 * 1, activation='tanh'))\n",
    "    model.add(Reshape((28, 28, 1)))\n",
    "    return model"
   ]
  },
  {
   "cell_type": "markdown",
   "metadata": {
    "id": "yMiSNEktAQ5s"
   },
   "source": [
    "Creamos el discriminador: responsable de distinguir entre las imágenes reales del conjunto de datos y las imágenes generadas por el generador"
   ]
  },
  {
   "cell_type": "code",
   "execution_count": 5,
   "metadata": {
    "id": "8yl95Q84AYGk"
   },
   "outputs": [],
   "source": [
    "def build_discriminator(img_shape):\n",
    "    model = Sequential()\n",
    "    model.add(Flatten(input_shape=img_shape))\n",
    "    model.add(Dense(128))\n",
    "    model.add(LeakyReLU(alpha=0.01))\n",
    "    model.add(Dense(1, activation='sigmoid')) #capa completamente conectada con una sola neurona y una función de activación sigmoide. La salida de esta capa es un único valor en el rango [0, 1], que representa la probabilidad de que la entrada sea una imagen real\n",
    "    return model"
   ]
  },
  {
   "cell_type": "markdown",
   "metadata": {
    "id": "iG6yP4seAcqZ"
   },
   "source": [
    "Creamos la GAN"
   ]
  },
  {
   "cell_type": "code",
   "execution_count": 6,
   "metadata": {},
   "outputs": [],
   "source": [
    "def build_gan(generator, discriminator):\n",
    "    model = Sequential()\n",
    "    model.add(generator)\n",
    "    model.add(discriminator)\n",
    "    return model"
   ]
  },
  {
   "cell_type": "code",
   "execution_count": 7,
   "metadata": {},
   "outputs": [
    {
     "name": "stderr",
     "output_type": "stream",
     "text": [
      "WARNING:absl:At this time, the v2.11+ optimizer `tf.keras.optimizers.Adam` runs slowly on M1/M2 Macs, please use the legacy Keras optimizer instead, located at `tf.keras.optimizers.legacy.Adam`.\n"
     ]
    }
   ],
   "source": [
    "# Construir y compilar el discriminador\n",
    "discriminator = build_discriminator(X_train.shape[1:])\n",
    "discriminator.compile(loss='binary_crossentropy', optimizer=Adam(), metrics=['accuracy'])"
   ]
  },
  {
   "cell_type": "code",
   "execution_count": 8,
   "metadata": {},
   "outputs": [],
   "source": [
    "# Construir el generador\n",
    "generator = build_generator(100)"
   ]
  },
  {
   "cell_type": "code",
   "execution_count": 9,
   "metadata": {},
   "outputs": [],
   "source": [
    "# Mantener el discriminador no entrenable cuando se entrena la GAN\n",
    "discriminator.trainable = False"
   ]
  },
  {
   "cell_type": "code",
   "execution_count": 10,
   "metadata": {
    "id": "CWvdK123Aea-"
   },
   "outputs": [
    {
     "name": "stderr",
     "output_type": "stream",
     "text": [
      "WARNING:absl:At this time, the v2.11+ optimizer `tf.keras.optimizers.Adam` runs slowly on M1/M2 Macs, please use the legacy Keras optimizer instead, located at `tf.keras.optimizers.legacy.Adam`.\n"
     ]
    }
   ],
   "source": [
    "# Construir y compilar la GAN\n",
    "gan = build_gan(generator, discriminator)\n",
    "gan.compile(loss='binary_crossentropy', optimizer=Adam())"
   ]
  },
  {
   "cell_type": "markdown",
   "metadata": {
    "id": "hEgAUgzGAihL"
   },
   "source": [
    "Entranmos la GAN"
   ]
  },
  {
   "cell_type": "code",
   "execution_count": 11,
   "metadata": {},
   "outputs": [],
   "source": [
    "losses = []\n",
    "accuracies = []\n",
    "iteration_checkpoints = []\n",
    "\n",
    "def train(iterations, batch_size, sample_interval):\n",
    "    for iteration in range(iterations):\n",
    "        # ----------- Entrenar el Discriminador -----------\n",
    "        idx = np.random.randint(0, X_train.shape[0], batch_size)\n",
    "        imgs = X_train[idx]\n",
    "\n",
    "        z = np.random.normal(0, 1, (batch_size, 100))\n",
    "        gen_imgs = generator.predict(z)\n",
    "\n",
    "        d_loss_real = discriminator.train_on_batch(imgs, np.ones((batch_size, 1)))\n",
    "        d_loss_fake = discriminator.train_on_batch(gen_imgs, np.zeros((batch_size, 1)))\n",
    "        d_loss, accuracy = 0.5 * np.add(d_loss_real, d_loss_fake)\n",
    "\n",
    "        # ----------- Entrenar el Generador -----------\n",
    "        z = np.random.normal(0, 1, (batch_size, 100))\n",
    "        g_loss = gan.train_on_batch(z, np.ones((batch_size, 1)))\n",
    "\n",
    "        if (iteration + 1) % sample_interval == 0:\n",
    "            losses.append((d_loss, g_loss))\n",
    "            accuracies.append(100.0 * accuracy)\n",
    "            iteration_checkpoints.append(iteration + 1)\n",
    "\n",
    "            print(f\"Iteración {iteration + 1}, [D pérdida: {d_loss}, precisión: {100.0 * accuracy}%], [G pérdida: {g_loss}]\")\n",
    "    discriminator.save('/Users/n.c.rodriguez/nico/curso_AI/IA Generativa/MNIST GAN/discriminator_gan_mnist.keras')\n",
    "    generator.save('/Users/n.c.rodriguez/nico/curso_AI/IA Generativa/MNIST GAN/generator_gan_mnist.keras')"
   ]
  },
  {
   "cell_type": "code",
   "execution_count": 12,
   "metadata": {},
   "outputs": [],
   "source": [
    "def generate_images(generator, image_count, z_dim):\n",
    "    z = np.random.normal(0, 1, (image_count, z_dim))\n",
    "    gen_imgs = generator.predict(z)\n",
    "    gen_imgs = 0.5 * gen_imgs + 0.5  # Escalar las imágenes a [0, 1]\n",
    "\n",
    "    fig, axs = plt.subplots(image_count, 1, figsize=(10, 10))\n",
    "    cnt = 0\n",
    "    for i in range(image_count):\n",
    "        axs[i].imshow(gen_imgs[cnt, :, :, 0], cmap='gray')\n",
    "        axs[i].axis('off')\n",
    "        cnt += 1\n",
    "    plt.show()"
   ]
  },
  {
   "cell_type": "code",
   "execution_count": 15,
   "metadata": {
    "colab": {
     "base_uri": "https://localhost:8080/",
     "height": 862
    },
    "id": "4DTDi6eUAl4A",
    "outputId": "72981279-a6e2-4c59-8f1a-63de1dbcc73d",
    "scrolled": true
   },
   "outputs": [
    {
     "name": "stdout",
     "output_type": "stream",
     "text": [
      "1/1 [==============================] - 0s 26ms/step\n"
     ]
    },
    {
     "data": {
      "image/png": "[encoded data removed]",
      "text/plain": [
       "<Figure size 1000x1000 with 5 Axes>"
      ]
     },
     "metadata": {},
     "output_type": "display_data"
    }
   ],
   "source": [
    "if (os.path.exists('/Users/n.c.rodriguez/nico/curso_AI/IA Generativa/MNIST GAN/generator_gan_mnist.keras')):\n",
    "    # Cargar el Generador\n",
    "    generator = load_model('/Users/n.c.rodriguez/nico/curso_AI/IA Generativa/MNIST GAN/generator_gan_mnist.keras')\n",
    "    # Cargar el Discriminador\n",
    "    # discriminator = load_model('discriminator_gan_mnist.keras')\n",
    "    # Generar y Mostrar Imágenes\n",
    "    generate_images(generator, 5, 100)  # Generar 5 imágenes\n",
    "else:\n",
    "    # Parámetros\n",
    "    iterations = 10000\n",
    "    batch_size = 128\n",
    "    sample_interval = 1000\n",
    "    # Parámetros\n",
    "    # iterations = 20000  # Aumentar las iteraciones\n",
    "    # batch_size = 64     # Reducir el tamaño del lote\n",
    "    # sample_interval = 500  # Muestras más frecuentes\n",
    "    # Entrenamiento\n",
    "    train(iterations, batch_size, sample_interval)"
   ]
  }
 ],
 "metadata": {
  "colab": {
   "provenance": []
  },
  "kernelspec": {
   "display_name": "Python 3 (ipykernel)",
   "language": "python",
   "name": "python3"
  },
  "language_info": {
   "codemirror_mode": {
    "name": "ipython",
    "version": 3
   },
   "file_extension": ".py",
   "mimetype": "text/x-python",
   "name": "python",
   "nbconvert_exporter": "python",
   "pygments_lexer": "ipython3",
   "version": "3.11.7"
  }
 },
 "nbformat": 4,
 "nbformat_minor": 4
}
