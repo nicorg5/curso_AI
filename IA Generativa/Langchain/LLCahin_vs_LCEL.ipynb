{
 "cells": [
  {
   "cell_type": "code",
   "execution_count": 3,
   "id": "d3cacd0a-6b8e-41a3-8cad-1f6bbe715177",
   "metadata": {},
   "outputs": [],
   "source": [
    "from langchain import PromptTemplate, LLMChain\n",
    "from langchain.schema import StrOutputParser\n",
    "from langchain_openai import OpenAI\n",
    "\n",
    "from dotenv import load_dotenv \n",
    "import os"
   ]
  },
  {
   "cell_type": "code",
   "execution_count": 4,
   "id": "a8efeac5-49fe-4287-a24a-4a12ee7fd2c6",
   "metadata": {},
   "outputs": [],
   "source": [
    "# Cargar variables de entorno\n",
    "load_dotenv()\n",
    "# Configurar el motor de OpenAI\n",
    "engine = \"gpt-3.5-turbo\"\n",
    "api_key=os.getenv(\"OPENAI_API_KEY\")"
   ]
  },
  {
   "cell_type": "markdown",
   "id": "b4255ae7-4c3a-496c-9677-c3618a8afd0f",
   "metadata": {},
   "source": [
    "## LLChain"
   ]
  },
  {
   "cell_type": "code",
   "execution_count": 5,
   "id": "ba23d1fc-d879-4b93-be7c-da74dd354570",
   "metadata": {},
   "outputs": [],
   "source": [
    "# llm openai con langchain\n",
    "llm = OpenAI(openai_api_key=api_key, temperature=1)\n",
    "output_parser = StrOutputParser()"
   ]
  },
  {
   "cell_type": "code",
   "execution_count": 6,
   "id": "dbca0c67-f9bf-41f8-8ff4-60efdf905f3b",
   "metadata": {},
   "outputs": [],
   "source": [
    "template = \"\"\"\n",
    "Write a short assessment about {topic}.\n",
    "\"\"\"\n",
    "topic_template = PromptTemplate(template=template, input_variables=['topic'])"
   ]
  },
  {
   "cell_type": "code",
   "execution_count": 9,
   "id": "b7d83d55-5cb2-4eed-b429-12c70ab890f3",
   "metadata": {},
   "outputs": [
    {
     "name": "stdout",
     "output_type": "stream",
     "text": [
      "\n",
      "Relativity theory, also known as the theory of relativity, is a fundamental theory in physics that was developed by Albert Einstein in the early 20th century. The theory explains the relationship between space and time, and how they are affected by the presence of matter and energy.\n",
      "\n",
      "One of the key principles of relativity theory is that the laws of physics are the same for all observers in uniform motion. This means that there is no absolute frame of reference, and the laws of physics apply equally to all observers regardless of their relative motion. Additionally, relativity theory proposes that the speed of light is constant and acts as a universal speed limit.\n",
      "\n",
      "The theory has been extensively tested and has been proven to accurately predict phenomena such as the bending of light by massive objects, the slowing down of time at high speeds, and the equivalence of mass and energy. It has also led to the development of many groundbreaking technologies, including nuclear energy and GPS systems.\n",
      "\n",
      "Despite its successes, relativity theory does have some limitations. It is incompatible with quantum mechanics, and there are still unanswered questions about its application in extreme conditions such as black holes and the very beginning of the universe.\n",
      "\n",
      "Overall, relativity theory has greatly expanded our understanding of the fundamental laws of the universe and has had a profound impact\n"
     ]
    }
   ],
   "source": [
    "topic_chain = LLMChain(llm=llm, prompt=topic_template, output_parser=output_parser)\n",
    "response = topic_chain.invoke('Relativity theory')\n",
    "print(response.get('text'))"
   ]
  },
  {
   "cell_type": "markdown",
   "id": "8e2d5503-52a9-4501-b144-e92b4b0f1fbe",
   "metadata": {},
   "source": [
    "## LCEL (Langchain Expression Language)"
   ]
  },
  {
   "cell_type": "code",
   "execution_count": 10,
   "id": "dda38c0f-c5b8-4e6a-888b-6eddc4f95e7c",
   "metadata": {},
   "outputs": [
    {
     "name": "stdout",
     "output_type": "stream",
     "text": [
      "\n",
      "Reggaeton is a popular genre of Latin American music that originated in Puerto Rico in the 1990s. It combines elements of hip hop, reggae, and Latin American music to create a unique and energetic sound. The genre gained mainstream success in the 2000s, with artists such as Daddy Yankee, Don Omar, and Wisin y Yandel reaching international fame.\n",
      "\n",
      "One of the notable aspects of reggaeton is its catchy and danceable beats, which often feature a heavy use of dembow rhythms and electronic instrumentation. The lyrics often revolve around themes of love, relationships, partying, and street life. However, it has also faced criticism for its sexually explicit content and objectifying language towards women.\n",
      "\n",
      "Despite this, reggaeton has continued to evolve and gain popularity around the world. It has also influenced other genres of music, such as trap and Latin pop. Its fusion of different styles and its ability to make people dance and have a good time has made it a dominating force in the music industry.\n",
      "\n",
      "In conclusion, reggaeton has undoubtedly made a significant impact in the music world, with its infectious rhythms and ability to cross cultural boundaries. While some may criticize its lyrics, it cannot be denied that it has become a staple in Latin American\n"
     ]
    }
   ],
   "source": [
    "chain = topic_template | llm | output_parser\n",
    "\n",
    "# and run\n",
    "out = chain.invoke({\"topic\": \"Reggeaton\"})\n",
    "print(out)"
   ]
  }
 ],
 "metadata": {
  "kernelspec": {
   "display_name": "Python 3 (ipykernel)",
   "language": "python",
   "name": "python3"
  },
  "language_info": {
   "codemirror_mode": {
    "name": "ipython",
    "version": 3
   },
   "file_extension": ".py",
   "mimetype": "text/x-python",
   "name": "python",
   "nbconvert_exporter": "python",
   "pygments_lexer": "ipython3",
   "version": "3.10.9"
  }
 },
 "nbformat": 4,
 "nbformat_minor": 5
}
