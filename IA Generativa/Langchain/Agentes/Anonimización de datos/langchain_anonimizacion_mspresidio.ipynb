{
 "cells": [
  {
   "cell_type": "markdown",
   "metadata": {
    "id": "ZbW-Vx9cT6Lw"
   },
   "source": [
    "# Anonimización de datos con Microsoft Presidio\n",
    "\n",
    "[![Abrir en Colab](https://colab.research.google.com/assets/colab-badge.svg)](https://colab.research.google.com/github/langchain-ai/langchain/blob/master/docs/docs/guides/privacy/presidio_data_anonymization/index.ipynb)\n",
    "\n",
    ">[Presidio](https://microsoft.github.io/presidio/) (Origen del latín praesidium ‘protección, guarnición’) ayuda a asegurar que los datos sensibles sean gestionados y gobernados adecuadamente. Proporciona módulos de identificación y anonimización rápidos para entidades privadas en texto e imágenes tales como números de tarjetas de crédito, nombres, ubicaciones, números de seguridad social, carteras de bitcoin, números de teléfono de EE.UU., datos financieros y más.\n",
    "\n",
    "## Caso de uso\n",
    "\n",
    "La anonimización de datos es mut importante antes de pasar información a un modelo de lenguaje como GPT-4 porque ayuda a proteger la privacidad y mantener la confidencialidad. Si los datos no son anonimizados, información sensible como nombres, direcciones, números de contacto u otros identificadores vinculados a individuos específicos podrían potencialmente ser aprendidos y mal utilizados. Por lo tanto, al oscurecer o eliminar esta información de identificación personal (PII), los datos pueden usarse libremente sin comprometer los derechos de privacidad de los individuos o infringir las leyes y regulaciones de protección de datos.\n",
    "\n",
    "## Visión general\n",
    "\n",
    "La anonimización consiste en dos pasos:\n",
    "\n",
    "1. **Identificación:** Identificar todos los campos de datos que contienen información de identificación personal (PII).\n",
    "2. **Reemplazo**: Reemplazar todas las PII con valores pseudo o códigos que no revelen ninguna información personal sobre el individuo pero que puedan ser utilizados para referencia. No estamos usando encriptación regular, porque el modelo de lenguaje no podrá entender el significado o contexto de los datos encriptados.\n",
    "\n",
    "Usamos *Microsoft Presidio* junto con el marco *Faker* para propósitos de anonimización debido a la amplia gama de funcionalidades que proporcionan. La implementación completa está disponible en `PresidioAnonymizer`.\n",
    "\n",
    "## Inicio rápido\n",
    "\n",
    "A continuación, encontrará el caso de uso sobre cómo aprovechar la anonimización en LangChain.\n"
   ]
  },
  {
   "cell_type": "code",
   "execution_count": 2,
   "metadata": {
    "colab": {
     "base_uri": "https://localhost:8080/"
    },
    "id": "o0DDy0A9T6Ly",
    "outputId": "ecf53761-07cd-4b2f-98c3-1f0637bfbaf4",
    "scrolled": true
   },
   "outputs": [
    {
     "name": "stdout",
     "output_type": "stream",
     "text": [
      "Note: you may need to restart the kernel to use updated packages.\n"
     ]
    }
   ],
   "source": [
    "%pip install --upgrade --quiet  langchain langchain-openai langchain-experimental presidio-analyzer presidio-anonymizer spacy Faker"
   ]
  },
  {
   "cell_type": "code",
   "execution_count": 3,
   "metadata": {
    "colab": {
     "base_uri": "https://localhost:8080/"
    },
    "id": "RCmEPBulT6Ly",
    "outputId": "5025446f-afad-468b-993c-eeffe7746c86",
    "scrolled": true
   },
   "outputs": [
    {
     "name": "stdout",
     "output_type": "stream",
     "text": [
      "Collecting en-core-web-lg==3.7.1\n",
      "  Downloading https://github.com/explosion/spacy-models/releases/download/en_core_web_lg-3.7.1/en_core_web_lg-3.7.1-py3-none-any.whl (587.7 MB)\n",
      "\u001b[2K     \u001b[38;2;114;156;31m━━━━━━━━━━━━━━━━━━━━━━━━━━━━━━━━━━━━━━\u001b[0m \u001b[32m587.7/587.7 MB\u001b[0m \u001b[31m26.5 MB/s\u001b[0m eta \u001b[36m0:00:00\u001b[0mm eta \u001b[36m0:00:01\u001b[0m[36m0:00:01\u001b[0m\n",
      "\u001b[?25hRequirement already satisfied: spacy<3.8.0,>=3.7.2 in /Users/n.c.rodriguez/anaconda3/envs/nico/lib/python3.10/site-packages (from en-core-web-lg==3.7.1) (3.7.2)\n",
      "Requirement already satisfied: spacy-legacy<3.1.0,>=3.0.11 in /Users/n.c.rodriguez/anaconda3/envs/nico/lib/python3.10/site-packages (from spacy<3.8.0,>=3.7.2->en-core-web-lg==3.7.1) (3.0.12)\n",
      "Requirement already satisfied: spacy-loggers<2.0.0,>=1.0.0 in /Users/n.c.rodriguez/anaconda3/envs/nico/lib/python3.10/site-packages (from spacy<3.8.0,>=3.7.2->en-core-web-lg==3.7.1) (1.0.5)\n",
      "Requirement already satisfied: murmurhash<1.1.0,>=0.28.0 in /Users/n.c.rodriguez/anaconda3/envs/nico/lib/python3.10/site-packages (from spacy<3.8.0,>=3.7.2->en-core-web-lg==3.7.1) (1.0.7)\n",
      "Requirement already satisfied: cymem<2.1.0,>=2.0.2 in /Users/n.c.rodriguez/anaconda3/envs/nico/lib/python3.10/site-packages (from spacy<3.8.0,>=3.7.2->en-core-web-lg==3.7.1) (2.0.6)\n",
      "Requirement already satisfied: preshed<3.1.0,>=3.0.2 in /Users/n.c.rodriguez/anaconda3/envs/nico/lib/python3.10/site-packages (from spacy<3.8.0,>=3.7.2->en-core-web-lg==3.7.1) (3.0.6)\n",
      "Requirement already satisfied: thinc<8.3.0,>=8.1.8 in /Users/n.c.rodriguez/anaconda3/envs/nico/lib/python3.10/site-packages (from spacy<3.8.0,>=3.7.2->en-core-web-lg==3.7.1) (8.2.2)\n",
      "Requirement already satisfied: wasabi<1.2.0,>=0.9.1 in /Users/n.c.rodriguez/anaconda3/envs/nico/lib/python3.10/site-packages (from spacy<3.8.0,>=3.7.2->en-core-web-lg==3.7.1) (0.10.1)\n",
      "Requirement already satisfied: srsly<3.0.0,>=2.4.3 in /Users/n.c.rodriguez/anaconda3/envs/nico/lib/python3.10/site-packages (from spacy<3.8.0,>=3.7.2->en-core-web-lg==3.7.1) (2.4.8)\n",
      "Requirement already satisfied: catalogue<2.1.0,>=2.0.6 in /Users/n.c.rodriguez/anaconda3/envs/nico/lib/python3.10/site-packages (from spacy<3.8.0,>=3.7.2->en-core-web-lg==3.7.1) (2.0.10)\n",
      "Requirement already satisfied: weasel<0.4.0,>=0.1.0 in /Users/n.c.rodriguez/anaconda3/envs/nico/lib/python3.10/site-packages (from spacy<3.8.0,>=3.7.2->en-core-web-lg==3.7.1) (0.3.4)\n",
      "Requirement already satisfied: typer<0.10.0,>=0.3.0 in /Users/n.c.rodriguez/anaconda3/envs/nico/lib/python3.10/site-packages (from spacy<3.8.0,>=3.7.2->en-core-web-lg==3.7.1) (0.9.0)\n",
      "Requirement already satisfied: smart-open<7.0.0,>=5.2.1 in /Users/n.c.rodriguez/anaconda3/envs/nico/lib/python3.10/site-packages (from spacy<3.8.0,>=3.7.2->en-core-web-lg==3.7.1) (6.4.0)\n",
      "Requirement already satisfied: tqdm<5.0.0,>=4.38.0 in /Users/n.c.rodriguez/anaconda3/envs/nico/lib/python3.10/site-packages (from spacy<3.8.0,>=3.7.2->en-core-web-lg==3.7.1) (4.65.0)\n",
      "Requirement already satisfied: requests<3.0.0,>=2.13.0 in /Users/n.c.rodriguez/anaconda3/envs/nico/lib/python3.10/site-packages (from spacy<3.8.0,>=3.7.2->en-core-web-lg==3.7.1) (2.31.0)\n",
      "Requirement already satisfied: pydantic!=1.8,!=1.8.1,<3.0.0,>=1.7.4 in /Users/n.c.rodriguez/anaconda3/envs/nico/lib/python3.10/site-packages (from spacy<3.8.0,>=3.7.2->en-core-web-lg==3.7.1) (2.6.0)\n",
      "Requirement already satisfied: jinja2 in /Users/n.c.rodriguez/anaconda3/envs/nico/lib/python3.10/site-packages (from spacy<3.8.0,>=3.7.2->en-core-web-lg==3.7.1) (3.1.3)\n",
      "Requirement already satisfied: setuptools in /Users/n.c.rodriguez/anaconda3/envs/nico/lib/python3.10/site-packages (from spacy<3.8.0,>=3.7.2->en-core-web-lg==3.7.1) (68.2.2)\n",
      "Requirement already satisfied: packaging>=20.0 in /Users/n.c.rodriguez/anaconda3/envs/nico/lib/python3.10/site-packages (from spacy<3.8.0,>=3.7.2->en-core-web-lg==3.7.1) (23.2)\n",
      "Requirement already satisfied: langcodes<4.0.0,>=3.2.0 in /Users/n.c.rodriguez/anaconda3/envs/nico/lib/python3.10/site-packages (from spacy<3.8.0,>=3.7.2->en-core-web-lg==3.7.1) (3.3.0)\n",
      "Requirement already satisfied: numpy>=1.19.0 in /Users/n.c.rodriguez/anaconda3/envs/nico/lib/python3.10/site-packages (from spacy<3.8.0,>=3.7.2->en-core-web-lg==3.7.1) (1.26.3)\n",
      "Requirement already satisfied: annotated-types>=0.4.0 in /Users/n.c.rodriguez/anaconda3/envs/nico/lib/python3.10/site-packages (from pydantic!=1.8,!=1.8.1,<3.0.0,>=1.7.4->spacy<3.8.0,>=3.7.2->en-core-web-lg==3.7.1) (0.6.0)\n",
      "Requirement already satisfied: pydantic-core==2.16.1 in /Users/n.c.rodriguez/anaconda3/envs/nico/lib/python3.10/site-packages (from pydantic!=1.8,!=1.8.1,<3.0.0,>=1.7.4->spacy<3.8.0,>=3.7.2->en-core-web-lg==3.7.1) (2.16.1)\n",
      "Requirement already satisfied: typing-extensions>=4.6.1 in /Users/n.c.rodriguez/anaconda3/envs/nico/lib/python3.10/site-packages (from pydantic!=1.8,!=1.8.1,<3.0.0,>=1.7.4->spacy<3.8.0,>=3.7.2->en-core-web-lg==3.7.1) (4.9.0)\n",
      "Requirement already satisfied: charset-normalizer<4,>=2 in /Users/n.c.rodriguez/anaconda3/envs/nico/lib/python3.10/site-packages (from requests<3.0.0,>=2.13.0->spacy<3.8.0,>=3.7.2->en-core-web-lg==3.7.1) (2.0.4)\n",
      "Requirement already satisfied: idna<4,>=2.5 in /Users/n.c.rodriguez/anaconda3/envs/nico/lib/python3.10/site-packages (from requests<3.0.0,>=2.13.0->spacy<3.8.0,>=3.7.2->en-core-web-lg==3.7.1) (3.4)\n",
      "Requirement already satisfied: urllib3<3,>=1.21.1 in /Users/n.c.rodriguez/anaconda3/envs/nico/lib/python3.10/site-packages (from requests<3.0.0,>=2.13.0->spacy<3.8.0,>=3.7.2->en-core-web-lg==3.7.1) (2.1.0)\n",
      "Requirement already satisfied: certifi>=2017.4.17 in /Users/n.c.rodriguez/anaconda3/envs/nico/lib/python3.10/site-packages (from requests<3.0.0,>=2.13.0->spacy<3.8.0,>=3.7.2->en-core-web-lg==3.7.1) (2023.11.17)\n",
      "Requirement already satisfied: blis<0.8.0,>=0.7.8 in /Users/n.c.rodriguez/anaconda3/envs/nico/lib/python3.10/site-packages (from thinc<8.3.0,>=8.1.8->spacy<3.8.0,>=3.7.2->en-core-web-lg==3.7.1) (0.7.9)\n",
      "Requirement already satisfied: confection<1.0.0,>=0.0.1 in /Users/n.c.rodriguez/anaconda3/envs/nico/lib/python3.10/site-packages (from thinc<8.3.0,>=8.1.8->spacy<3.8.0,>=3.7.2->en-core-web-lg==3.7.1) (0.1.4)\n",
      "Requirement already satisfied: click<9.0.0,>=7.1.1 in /Users/n.c.rodriguez/anaconda3/envs/nico/lib/python3.10/site-packages (from typer<0.10.0,>=0.3.0->spacy<3.8.0,>=3.7.2->en-core-web-lg==3.7.1) (8.1.7)\n",
      "Requirement already satisfied: cloudpathlib<0.17.0,>=0.7.0 in /Users/n.c.rodriguez/anaconda3/envs/nico/lib/python3.10/site-packages (from weasel<0.4.0,>=0.1.0->spacy<3.8.0,>=3.7.2->en-core-web-lg==3.7.1) (0.16.0)\n",
      "Requirement already satisfied: MarkupSafe>=2.0 in /Users/n.c.rodriguez/anaconda3/envs/nico/lib/python3.10/site-packages (from jinja2->spacy<3.8.0,>=3.7.2->en-core-web-lg==3.7.1) (2.1.4)\n",
      "Installing collected packages: en-core-web-lg\n",
      "Successfully installed en-core-web-lg-3.7.1\n",
      "\u001b[38;5;2m✔ Download and installation successful\u001b[0m\n",
      "You can now load the package via spacy.load('en_core_web_lg')\n"
     ]
    }
   ],
   "source": [
    "# Download model\n",
    "!python -m spacy download en_core_web_lg"
   ]
  },
  {
   "cell_type": "markdown",
   "metadata": {
    "id": "bmS8fv1dT6Ly"
   },
   "source": [
    "\\\n",
    "Veamos com funciona con una frase de ejemplo"
   ]
  },
  {
   "cell_type": "code",
   "execution_count": 4,
   "metadata": {
    "colab": {
     "base_uri": "https://localhost:8080/",
     "height": 88
    },
    "id": "0xSfE9qCT6Lz",
    "outputId": "023571ee-a635-497a-a6b4-04f7321651bd"
   },
   "outputs": [
    {
     "data": {
      "text/plain": [
       "'Gene Fernandez, llámame al 001-840-921-5837x93999 o envíame un email a debbienelson@example.net'"
      ]
     },
     "execution_count": 4,
     "metadata": {},
     "output_type": "execute_result"
    }
   ],
   "source": [
    "from langchain_experimental.data_anonymizer import PresidioAnonymizer\n",
    "\n",
    "anonymizer = PresidioAnonymizer()\n",
    "\n",
    "anonymizer.anonymize(\n",
    "    \"Nombre es Pepito Pérez, llámame al 313-666-7440 o envíame un email a real.pepito-perez@gmail.com\"\n",
    ")"
   ]
  },
  {
   "cell_type": "markdown",
   "metadata": {
    "id": "At7WNY0kT6Lz"
   },
   "source": [
    "### Con LangChain Expression Language\n",
    "\n",
    "Ecadenamos con LCEL."
   ]
  },
  {
   "cell_type": "code",
   "execution_count": 5,
   "metadata": {
    "id": "PfPbU3LXT6L0"
   },
   "outputs": [],
   "source": [
    "import os\n",
    "from dotenv import load_dotenv\n",
    "\n",
    "# Cargar variables de entorno\n",
    "load_dotenv()\n",
    "# Configurar el motor de OpenAI\n",
    "api_key=os.getenv(\"OPENAI_API_KEY\")"
   ]
  },
  {
   "cell_type": "code",
   "execution_count": 6,
   "metadata": {
    "id": "PFWZz45oT6L0"
   },
   "outputs": [],
   "source": [
    "text = \"\"\"Pepito Pérez perdió recientemente su cartera.\n",
    "Dentro hay algo de efectivo y su tarjeta de crédito con el número 4916 0387 9536 0861.\n",
    "Si lo encuentra, llame al 313-666-7440 o escriba un correo electrónico aquí: real.pepito.perez@gmail.com.\"\"\""
   ]
  },
  {
   "cell_type": "code",
   "execution_count": 7,
   "metadata": {
    "colab": {
     "base_uri": "https://localhost:8080/"
    },
    "id": "z1JVCdP_T6L0",
    "outputId": "a05ab7d9-7cdf-4dce-bcfe-8f9d7444fac9"
   },
   "outputs": [
    {
     "name": "stdout",
     "output_type": "stream",
     "text": [
      "Estimado señor Davenport,\n",
      "\n",
      "Espero que este mensaje le encuentre bien. Me dirijo a usted en relación a la cartera de otoño Brewer, la cual contiene una suma de dinero y los documentos de identificación de Robert Hansen y Annette Thomas, cuyo número de tarjeta es 6519465005594771.\n",
      "\n",
      "Le solicito amablemente que se comunique conmigo a través del número de teléfono +1-591-204-5684, extensión 3538, o bien, puede enviarme un correo electrónico a la siguiente dirección: pittsjeffrey@example.net.\n",
      "\n",
      "Agradezco de antemano su pronta atención a este asunto.\n",
      "\n",
      "Atentamente,\n",
      "\n",
      "Jeffrey Pitts\n"
     ]
    }
   ],
   "source": [
    "from langchain.prompts.prompt import PromptTemplate\n",
    "from langchain_openai import ChatOpenAI\n",
    "\n",
    "anonymizer = PresidioAnonymizer()\n",
    "\n",
    "template = \"\"\"Reescribe esto en un tono oficial, profesional, en un email corto email:\n",
    "\n",
    "{anonymized_text}\"\"\"\n",
    "prompt = PromptTemplate.from_template(template)\n",
    "llm = ChatOpenAI(api_key=api_key, temperature=0)\n",
    "\n",
    "chain = {\"anonymized_text\": anonymizer.anonymize} | prompt | llm\n",
    "response = chain.invoke(text)\n",
    "print(response.content)"
   ]
  },
  {
   "cell_type": "markdown",
   "metadata": {
    "id": "68H71JZqT6L1"
   },
   "source": [
    "## Customization\n",
    "We can specify ``analyzed_fields`` to only anonymize particular types of data."
   ]
  },
  {
   "cell_type": "code",
   "execution_count": 8,
   "metadata": {
    "id": "Wc3DiWVdT6L1",
    "outputId": "65df55d1-6395-4251-d147-c31f4ea12cc4"
   },
   "outputs": [
    {
     "data": {
      "text/plain": [
       "'My name is Christina Adams, call me at 313-666-7440 or email me at real.slim.shady@gmail.com'"
      ]
     },
     "execution_count": 8,
     "metadata": {},
     "output_type": "execute_result"
    }
   ],
   "source": [
    "anonymizer = PresidioAnonymizer(analyzed_fields=[\"PERSON\"])\n",
    "\n",
    "anonymizer.anonymize(\n",
    "    \"My name is Slim Shady, call me at 313-666-7440 or email me at real.slim.shady@gmail.com\"\n",
    ")"
   ]
  },
  {
   "cell_type": "markdown",
   "metadata": {
    "id": "y1L41buaT6L2"
   },
   "source": [
    "As can be observed, the name was correctly identified and replaced with another. The `analyzed_fields` attribute is responsible for what values are to be detected and substituted. We can add *PHONE_NUMBER* to the list:"
   ]
  },
  {
   "cell_type": "code",
   "execution_count": 9,
   "metadata": {
    "id": "Ikn0PUN0T6L2",
    "outputId": "250185b7-630d-4298-c691-7f079df29022"
   },
   "outputs": [
    {
     "data": {
      "text/plain": [
       "'My name is Robert Bell, call me at 001-203-334-8093 or email me at real.slim.shady@gmail.com'"
      ]
     },
     "execution_count": 9,
     "metadata": {},
     "output_type": "execute_result"
    }
   ],
   "source": [
    "anonymizer = PresidioAnonymizer(analyzed_fields=[\"PERSON\", \"PHONE_NUMBER\"])\n",
    "anonymizer.anonymize(\n",
    "    \"My name is Slim Shady, call me at 313-666-7440 or email me at real.slim.shady@gmail.com\"\n",
    ")"
   ]
  },
  {
   "cell_type": "markdown",
   "metadata": {
    "id": "qXp-LYdeT6L3"
   },
   "source": [
    "\\\n",
    "If no analyzed_fields are specified, by default the anonymizer will detect all supported formats. Below is the full list of them:\n",
    "\n",
    "`['PERSON', 'EMAIL_ADDRESS', 'PHONE_NUMBER', 'IBAN_CODE', 'CREDIT_CARD', 'CRYPTO', 'IP_ADDRESS', 'LOCATION', 'DATE_TIME', 'NRP', 'MEDICAL_LICENSE', 'URL', 'US_BANK_NUMBER', 'US_DRIVER_LICENSE', 'US_ITIN', 'US_PASSPORT', 'US_SSN']`\n",
    "\n",
    "**Disclaimer:** We suggest carefully defining the private data to be detected - Presidio doesn't work perfectly and it sometimes makes mistakes, so it's better to have more control over the data."
   ]
  },
  {
   "cell_type": "code",
   "execution_count": 10,
   "metadata": {
    "id": "zIPqQTCXT6L3",
    "outputId": "ed63c7ba-32b5-4111-f583-166e24469eaa"
   },
   "outputs": [
    {
     "data": {
      "text/plain": [
       "'My name is Willie Smith, call me at 3997682169 or email me at guerralauren@example.com'"
      ]
     },
     "execution_count": 10,
     "metadata": {},
     "output_type": "execute_result"
    }
   ],
   "source": [
    "anonymizer = PresidioAnonymizer()\n",
    "anonymizer.anonymize(\n",
    "    \"My name is Slim Shady, call me at 313-666-7440 or email me at real.slim.shady@gmail.com\"\n",
    ")"
   ]
  },
  {
   "cell_type": "markdown",
   "metadata": {
    "id": "HTJySFv6T6L3"
   },
   "source": [
    "\\\n",
    "It may be that the above list of detected fields is not sufficient. For example, the already available *PHONE_NUMBER* field does not support polish phone numbers and confuses it with another field:"
   ]
  },
  {
   "cell_type": "code",
   "execution_count": 11,
   "metadata": {
    "id": "Z0UaZ4sOT6L3",
    "outputId": "fd764ade-453e-4e73-8cc2-429f02cc8f51"
   },
   "outputs": [
    {
     "data": {
      "text/plain": [
       "'My polish phone number is 87942VK'"
      ]
     },
     "execution_count": 11,
     "metadata": {},
     "output_type": "execute_result"
    }
   ],
   "source": [
    "anonymizer = PresidioAnonymizer()\n",
    "anonymizer.anonymize(\"My polish phone number is 666555444\")"
   ]
  },
  {
   "cell_type": "markdown",
   "metadata": {
    "id": "rTunGQnqT6L4"
   },
   "source": [
    "\\\n",
    "You can then write your own recognizers and add them to the pool of those present. How exactly to create recognizers is described in the [Presidio documentation](https://microsoft.github.io/presidio/samples/python/customizing_presidio_analyzer/)."
   ]
  },
  {
   "cell_type": "code",
   "execution_count": 12,
   "metadata": {
    "id": "DL_rITBiT6L4"
   },
   "outputs": [],
   "source": [
    "# Define the regex pattern in a Presidio `Pattern` object:\n",
    "from presidio_analyzer import Pattern, PatternRecognizer\n",
    "\n",
    "polish_phone_numbers_pattern = Pattern(\n",
    "    name=\"polish_phone_numbers_pattern\",\n",
    "    regex=\"(?<!\\w)(\\(?(\\+|00)?48\\)?)?[ -]?\\d{3}[ -]?\\d{3}[ -]?\\d{3}(?!\\w)\",\n",
    "    score=1,\n",
    ")\n",
    "\n",
    "# Define the recognizer with one or more patterns\n",
    "polish_phone_numbers_recognizer = PatternRecognizer(\n",
    "    supported_entity=\"POLISH_PHONE_NUMBER\", patterns=[polish_phone_numbers_pattern]\n",
    ")"
   ]
  },
  {
   "cell_type": "markdown",
   "metadata": {
    "id": "h89_n9dIT6L4"
   },
   "source": [
    "\\\n",
    "Now, we can add recognizer by calling `add_recognizer` method on the anonymizer:"
   ]
  },
  {
   "cell_type": "code",
   "execution_count": 13,
   "metadata": {
    "id": "58Km1uihT6L4"
   },
   "outputs": [],
   "source": [
    "anonymizer.add_recognizer(polish_phone_numbers_recognizer)"
   ]
  },
  {
   "cell_type": "markdown",
   "metadata": {
    "id": "XGZBAEZRT6L5"
   },
   "source": [
    "\\\n",
    "And voilà! With the added pattern-based recognizer, the anonymizer now handles polish phone numbers."
   ]
  },
  {
   "cell_type": "code",
   "execution_count": 14,
   "metadata": {
    "id": "1dNhNyHUT6L5",
    "outputId": "eb43bc78-4d66-466e-903d-052bb706c060"
   },
   "outputs": [
    {
     "name": "stdout",
     "output_type": "stream",
     "text": [
      "My polish phone number is <POLISH_PHONE_NUMBER>\n",
      "My polish phone number is <POLISH_PHONE_NUMBER>\n",
      "My polish phone number is <POLISH_PHONE_NUMBER>\n"
     ]
    }
   ],
   "source": [
    "print(anonymizer.anonymize(\"My polish phone number is 666555444\"))\n",
    "print(anonymizer.anonymize(\"My polish phone number is 666 555 444\"))\n",
    "print(anonymizer.anonymize(\"My polish phone number is +48 666 555 444\"))"
   ]
  },
  {
   "cell_type": "markdown",
   "metadata": {
    "id": "WcJ9XuasT6L5"
   },
   "source": [
    "\\\n",
    "The problem is - even though we recognize polish phone numbers now, we don't have a method (operator) that would tell how to substitute a given field - because of this, in the outpit we only provide string `<POLISH_PHONE_NUMBER>` We need to create a method to replace it correctly:"
   ]
  },
  {
   "cell_type": "code",
   "execution_count": 15,
   "metadata": {
    "id": "pYjq5k5mT6L5",
    "outputId": "2fbb94fa-4434-4816-e609-181cb388d459"
   },
   "outputs": [
    {
     "data": {
      "text/plain": [
       "'+48 662 922 337'"
      ]
     },
     "execution_count": 15,
     "metadata": {},
     "output_type": "execute_result"
    }
   ],
   "source": [
    "from faker import Faker\n",
    "\n",
    "fake = Faker(locale=\"pl_PL\")\n",
    "\n",
    "\n",
    "def fake_polish_phone_number(_=None):\n",
    "    return fake.phone_number()\n",
    "\n",
    "\n",
    "fake_polish_phone_number()"
   ]
  },
  {
   "cell_type": "markdown",
   "metadata": {
    "id": "MEydeK8dT6L6"
   },
   "source": [
    "\\\n",
    "We used Faker to create pseudo data. Now we can create an operator and add it to the anonymizer. For complete information about operators and their creation, see the Presidio documentation for [simple](https://microsoft.github.io/presidio/tutorial/10_simple_anonymization/) and [custom](https://microsoft.github.io/presidio/tutorial/11_custom_anonymization/) anonymization."
   ]
  },
  {
   "cell_type": "code",
   "execution_count": 16,
   "metadata": {
    "id": "SGUSxUd7T6L6"
   },
   "outputs": [],
   "source": [
    "from presidio_anonymizer.entities import OperatorConfig\n",
    "\n",
    "new_operators = {\n",
    "    \"POLISH_PHONE_NUMBER\": OperatorConfig(\n",
    "        \"custom\", {\"lambda\": fake_polish_phone_number}\n",
    "    )\n",
    "}"
   ]
  },
  {
   "cell_type": "code",
   "execution_count": 17,
   "metadata": {
    "id": "DObRMxLwT6L6"
   },
   "outputs": [],
   "source": [
    "anonymizer.add_operators(new_operators)"
   ]
  },
  {
   "cell_type": "code",
   "execution_count": 18,
   "metadata": {
    "id": "zQPJ2PDlT6L6",
    "outputId": "90a10c1a-fc73-4813-8791-95a6d69e0978"
   },
   "outputs": [
    {
     "data": {
      "text/plain": [
       "'My polish phone number is +48 510 831 870'"
      ]
     },
     "execution_count": 18,
     "metadata": {},
     "output_type": "execute_result"
    }
   ],
   "source": [
    "anonymizer.anonymize(\"My polish phone number is 666555444\")"
   ]
  },
  {
   "cell_type": "markdown",
   "metadata": {
    "id": "9eGcvQ91T6L8"
   },
   "source": [
    "## Important considerations\n",
    "\n",
    "### Anonymizer detection rates\n",
    "\n",
    "**The level of anonymization and the precision of detection are just as good as the quality of the recognizers implemented.**\n",
    "\n",
    "Texts from different sources and in different languages have varying characteristics, so it is necessary to test the detection precision and iteratively add recognizers and operators to achieve better and better results.\n",
    "\n",
    "Microsoft Presidio gives a lot of freedom to refine anonymization. The library's author has provided his [recommendations and a step-by-step guide for improving detection rates](https://github.com/microsoft/presidio/discussions/767#discussion-3567223)."
   ]
  },
  {
   "cell_type": "markdown",
   "metadata": {
    "id": "3xFxnja_T6L8"
   },
   "source": [
    "### Instance anonymization\n",
    "\n",
    "`PresidioAnonymizer` has no built-in memory. Therefore, two occurrences of the entity in the subsequent texts will be replaced with two different fake values:"
   ]
  },
  {
   "cell_type": "code",
   "execution_count": 19,
   "metadata": {
    "id": "-nZJ0sW4T6L8",
    "outputId": "3059f957-65ba-44fc-f050-1e2588c29e7f"
   },
   "outputs": [
    {
     "name": "stdout",
     "output_type": "stream",
     "text": [
      "My name is Deanna Williams. Hi Deanna Williams!\n",
      "My name is Ashley Baker. Hi Ashley Baker!\n"
     ]
    }
   ],
   "source": [
    "print(anonymizer.anonymize(\"My name is John Doe. Hi John Doe!\"))\n",
    "print(anonymizer.anonymize(\"My name is John Doe. Hi John Doe!\"))"
   ]
  },
  {
   "cell_type": "markdown",
   "metadata": {
    "id": "H_GPK2q2T6L8"
   },
   "source": [
    "To preserve previous anonymization results, use `PresidioReversibleAnonymizer`, which has built-in memory:"
   ]
  },
  {
   "cell_type": "code",
   "execution_count": 20,
   "metadata": {
    "id": "vjiUlbtOT6L8",
    "outputId": "385aa171-a01b-40c1-9245-a8526bcaa844"
   },
   "outputs": [
    {
     "name": "stdout",
     "output_type": "stream",
     "text": [
      "My name is James Brown. Hi James Brown!\n",
      "My name is James Brown. Hi James Brown!\n"
     ]
    }
   ],
   "source": [
    "from langchain_experimental.data_anonymizer import PresidioReversibleAnonymizer\n",
    "\n",
    "anonymizer_with_memory = PresidioReversibleAnonymizer()\n",
    "\n",
    "print(anonymizer_with_memory.anonymize(\"My name is John Doe. Hi John Doe!\"))\n",
    "print(anonymizer_with_memory.anonymize(\"My name is John Doe. Hi John Doe!\"))"
   ]
  },
  {
   "cell_type": "markdown",
   "metadata": {
    "id": "kNg5omUTT6L9"
   },
   "source": [
    "You can learn more about `PresidioReversibleAnonymizer` in the next section."
   ]
  }
 ],
 "metadata": {
  "colab": {
   "provenance": []
  },
  "kernelspec": {
   "display_name": "Python 3 (ipykernel)",
   "language": "python",
   "name": "python3"
  },
  "language_info": {
   "codemirror_mode": {
    "name": "ipython",
    "version": 3
   },
   "file_extension": ".py",
   "mimetype": "text/x-python",
   "name": "python",
   "nbconvert_exporter": "python",
   "pygments_lexer": "ipython3",
   "version": "3.10.9"
  }
 },
 "nbformat": 4,
 "nbformat_minor": 4
}
