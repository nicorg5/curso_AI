{
 "cells": [
  {
   "cell_type": "code",
   "execution_count": null,
   "metadata": {
    "id": "c0sAMfUtKvy2"
   },
   "outputs": [],
   "source": [
    "! pip install langchain wikipedia langchain-community tavily-python langchainhub langchain-openai openai"
   ]
  },
  {
   "cell_type": "code",
   "execution_count": 2,
   "metadata": {
    "colab": {
     "base_uri": "https://localhost:8080/"
    },
    "id": "OepCU7QILeYz",
    "outputId": "008050a2-2a32-4286-fff3-a3b732aa68cc",
    "scrolled": true
   },
   "outputs": [
    {
     "name": "stdout",
     "output_type": "stream",
     "text": [
      "\n",
      "\n",
      "\u001b[1m> Entering new AgentExecutor chain...\u001b[0m\n",
      "\u001b[32;1m\u001b[1;3m\n",
      "Invoking: `tavily_search_results_json` with `{'query': 'último chip insertado en el cerebro humano con fines tecnológicos'}`\n",
      "\n",
      "\n",
      "\u001b[0m\u001b[36;1m\u001b[1;3m[{'url': 'https://laopinion.com/2024/01/30/elon-musk-anuncia-el-primer-implante-de-un-chip-de-su-compania-neuralink-en-el-cerebro-de-un-humano/', 'content': 'con éxito uno de sus chips cerebrales inalámbricos en un ser humano.  Elon Musk anuncia el primer implante de un chip en el cerebro humano  cerebro-computador en 2004.  El objetivo de Neuralink es conectar cerebros humanos a computadores y ayudar a tratar afecciones neurológicas30 Ene 2024, 08:30 AM EST. El multimillonario tecnológico Elon Musk afirma que su empresa Neuralink por primera vez ha implantado con éxito uno de sus chips cerebrales inalámbricos en un ser ...'}, {'url': 'https://elpais.com/tecnologia/2022-12-01/elon-musk-asegura-que-en-seis-meses-se-implantara-el-primer-chip-en-un-cerebro-humano.html', 'content': 'Elon Musk asegura que en seis meses se implantarÃ¡ el primer chip en un cerebro humano con Neuralink  desde la evoluciÃ³n del robot que inserta el chip en el cerebro, conocido como Link o R1 (que fue presentado en 2020),  ser implantados en el cerebro y que, segÃºn asegurÃ³, en 2023 podrÃ\\xada hacer su primera prueba con humanos. La broma  quirÃºrgico del semiconductor que permite la conexiÃ³n del crÃ¡neo con una computadora vÃ\\xada BluetoothElon Musk presentó el miércoles los últimos avances de su compañía Neuralink, que fabrica chips para ser implantados en el cerebro y que, según aseguró, en 2023 podría hacer su primera...'}, {'url': 'https://cincodias.elpais.com/cincodias/2024/01/30/lifestyle/1706605033_110934.html', 'content': 'el primer implante de chip cerebral. Este extraordinario descubrimiento científico y técnico marca un momento crucial  Elon Musk da el paso: Neuralink implanta su chip cerebral en un humano  Así funciona este chip cerebral  El logro de Neuralink representa solo el comienzo de una nueva era en la relación entre la tecnología y el cerebro— Elon Musk (@elonmusk) January 29, 2024 Así funciona este chip cerebral Es un pequeño dispositivo flexible que se inserta en el cerebro mediante una técnica mínimamente invasiva. Con...'}, {'url': 'https://www.publimetro.cl/tecnologia/2024/02/02/implantan-con-exito-el-primer-chip-cerebral-en-un-humano/', 'content': 'Implantan con Ã©xito el primer chip cerebral en un humano  Elon Musk dio a conocer que Neuralink, su startup de neurotecnologÃ\\xada, implantÃ³ con Ã©xito el primer chip cerebral  (FDA) para ensayar sus implantes cerebrales en humanos en mayo del aÃ±o pasado.  chip cerebral inalÃ¡mbrico en un ser humano, el cual se estÃ¡ â€œrecuperando bienâ€�, segÃºn el mensaje del empresarioMaría José González. 30 de enero 2024 a las 18:30 hrs. Elon Musk dio a conocer que Neuralink, su startup de neurotecnología, implantó con éxito el primer chip cerebral inalámbrico en un ser ...'}, {'url': 'https://www.semana.com/tecnologia/articulo/fda-aprueba-el-ensayo-en-humanos-de-los-chips-cerebrales-de-la-compania-de-elon-musk/202328/', 'content': 'TecnologÃ\\xada FDA aprueba el ensayo en humanos de los chips cerebrales de la compaÃ±Ã\\xada de Elon Musk  Los chips cerebrales de Neuralink, los cuales Musk afirma que algÃºn dÃ\\xada harÃ¡n que los humanos sean hiperinteligentes  hiperinteligentes y permitirÃ¡n que las personas paralizadas vuelvan a caminar, se habrÃ\\xadan implantado en los cerebros  y aprobado minuciosamenteâ€� su proyecto con Neuralink.Tecnología Artículo Tecnología FDA aprueba el ensayo en humanos de los chips cerebrales de la compañía de Elon Musk Los implantes habían sido probados en monos en un estudio que duró...'}]\u001b[0m\u001b[32;1m\u001b[1;3mEl último chip insertado en el cerebro de una persona con fines tecnológicos es el desarrollado por la empresa Neuralink, fundada por Elon Musk. Este chip cerebral inalámbrico fue implantado con éxito en un ser humano por primera vez en enero de 2024. El objetivo de Neuralink es conectar cerebros humanos a computadoras y ayudar a tratar afecciones neurológicas.\u001b[0m\n",
      "\n",
      "\u001b[1m> Finished chain.\u001b[0m\n"
     ]
    }
   ],
   "source": [
    "from langchain import hub\n",
    "from langchain.agents import AgentExecutor, create_openai_functions_agent, load_tools\n",
    "from langchain.tools.tavily_search import TavilySearchResults\n",
    "from langchain.utilities.tavily_search import TavilySearchAPIWrapper\n",
    "from langchain_openai import ChatOpenAI\n",
    "\n",
    "import os\n",
    "from dotenv import load_dotenv\n",
    "\n",
    "# Cargar variables de entorno\n",
    "load_dotenv()\n",
    "# Configurar el motor de OpenAI\n",
    "api_key=os.getenv(\"OPENAI_API_KEY\")\n",
    "tavily_token=os.getenv(\"TAVILY_TOKEN\")\n",
    "\n",
    "def get_function_tools():\n",
    "  search = TavilySearchAPIWrapper(tavily_api_key=tavily_token)\n",
    "  tavily_tool = TavilySearchResults(api_wrapper=search)\n",
    "\n",
    "  tools = [\n",
    "      tavily_tool\n",
    "  ]\n",
    "\n",
    "  tools.extend(load_tools(['wikipedia']))\n",
    "\n",
    "  return tools\n",
    "\n",
    "\n",
    "def init_action():\n",
    "  llm = ChatOpenAI(openai_api_key=api_key, model=\"gpt-4\", temperature=0.1)\n",
    "  prompt = hub.pull(\"hwchase17/openai-functions-agent\")\n",
    "  tools = get_function_tools()\n",
    "  agent = create_openai_functions_agent(llm, tools, prompt)\n",
    "  agent_executor = AgentExecutor(agent=agent, tools=tools, verbose=True)\n",
    "  agent_executor.invoke({\"input\": \"Como se llama el último chip insertado en el cerebro de una perosna con fines tecnológicos\"})\n",
    "\n",
    "\n",
    "init_action()"
   ]
  },
  {
   "cell_type": "code",
   "execution_count": 3,
   "metadata": {
    "scrolled": true
   },
   "outputs": [
    {
     "name": "stdout",
     "output_type": "stream",
     "text": [
      "\n",
      "\n",
      "\u001b[1m> Entering new AgentExecutor chain...\u001b[0m\n",
      "\u001b[32;1m\u001b[1;3m\n",
      "Invoking: `tavily_search_results_json` with `{'query': 'ley polémica España presos políticos'}`\n",
      "\n",
      "\n",
      "\u001b[0m\u001b[36;1m\u001b[1;3m[{'url': 'https://www.cope.es/actualidad/espana/noticias/jueces-contra-ley-amnistia-sanchez-cope-hay-presos-politicos-espana-20231102_2979815', 'content': 'Tiempo de lectura: 3\\' 02 nov 2023 - 12:06 Actualizado 12:33 La Justicia se rebela contra la amnistía de Pedro Sánchez.  España Noticias Jueces contra la ley de amnistía de Sánchez, en COPE: \"No hay presos políticos en España\"  Herrera en COPE (02/02/2024) - 07h Herrera en COPE (02/02/2024) - 06h 2ª parte, El Partidazo de COPE (01-02-2024)  de esta ley de amnistía que afectará a determinados políticos catalanes.En el documento planteado, se denuncia que el presidente del Ejecutivo en funciones, Pedro Sánchez, justifique la amnistía como una medida por el \"interés de España\", cuando persigue impedir un...'}, {'url': 'https://www.france24.com/es/programas/en-primera-plana/20231113-la-polémica-ley-de-amnistía-en-españa-con-la-que-sánchez-busca-repetir-como-presidente-de-gobierno', 'content': 'La polémica ley de amnistía en España con la que Sánchez busca repetir como presidente de gobierno  La polémica ley de amnistía en España con la que Sánchez busca repetir como presidente de gobierno  Protestas en España contra amnistía para los independentistas catalanes pactada por Pedro Sánchez  El pacto PSOE-Junts en España: la amnistía y otras claves del \"acuerdo histórico\"1 min En esta edición de En Primera Plana nos enfocamos en España y el acuerdo para la posible investidura de Pedro Sánchez, que está generando una situación convulsa. ¿Qué supone la...'}, {'url': 'https://elcierredigital.com/realidad-autonomica/509228941/panorama-conflictivo-espana-politico-2024-llegada-ley-amnistia.html', 'content': 'Un panorama político complicado para este 2024: Un año marcado por la llegada de la polémica Ley de Amnistía  la polémica Ley de Amnistía tuvieron lugar manifestaciones masivas convocadas en múltiples ciudades de España.  La polémica Ley de Amnistía  en 2008 y Mariano Rajoy en 2016.02 de enero de 2024 El 2023 ha sido testigo de una agitada escena política en España, desde las avasalladoras elecciones autonómicas en mayo hasta la compleja investidura de Pedro Sánchez en julio.'}, {'url': 'https://www.antena3.com/noticias/espana/2024-retos-politicos-ley-amnistia-renovacion-cgpj-volver-acudir-urnas_202401016592f712cf86730001bfdc4c.html', 'content': 'Noticias de hoy, viernes 2 de febrero de 2024  Un 2024 de retos políticos: de la ley de amnistía y la renovación del CGPJ a volver a acudir a las urnas  Los retos políticos de 2024 Publicidad  Este 2024 estará marcado por hasta tres citas electorales: las gallegas, las vascas y las europeas.Publicado:01 de enero de 2024, 18:32 Comienza un año 2024 con enfrentamiento político, con pactos por cumplir y... con urnas. Tras un 2023 en el que las elecciones estuvieron bien presentes,...'}, {'url': 'https://elpais.com/espana/2023-11-13/lea-el-texto-completo-de-la-propuesta-provisional-de-ley-de-amnistia.html', 'content': 'futuro polÃ\\xadtico de Catalunya abierto a raÃ\\xadz de la sentencia del Tribunal Constitucional 31/2010, de 28 de junio.  La proposiciÃ³n de ley de amnistÃ\\xada pactada entre PSOE y Junts que abre la puerta a la investidura de Pedro SÃ¡nchez  polÃ\\xadtico firmado entre PSOE y Junts, la propuesta no incluye referencias a la investigaciÃ³n de casos de lawfare  el 1 de enero de 2012 y este lunes, 13 de noviembre de 2023. A pesar de lo indicado en el acuerdo polÃ\\xadtico firmadoLa presente ley orgánica amnistía los actos que hayan sido declarados o estuvieran tipificados como delitos o como conductas determinantes de responsabilidad administrativa o contable, vinculados...'}]\u001b[0m\u001b[32;1m\u001b[1;3mLa ley que está generando polémica en España en relación a los presos políticos se llama \"Ley de Amnistía\". Esta ley está vinculada a políticos catalanes y ha sido impulsada por el presidente del gobierno, Pedro Sánchez. La ley ha generado controversia y protestas en varias ciudades de España.\u001b[0m\n",
      "\n",
      "\u001b[1m> Finished chain.\u001b[0m\n"
     ]
    }
   ],
   "source": [
    "def init_action():\n",
    "  llm = ChatOpenAI(openai_api_key=api_key, model=\"gpt-4\", temperature=0.1)\n",
    "  prompt = hub.pull(\"hwchase17/openai-functions-agent\")\n",
    "  tools = get_function_tools()\n",
    "  agent = create_openai_functions_agent(llm, tools, prompt)\n",
    "  agent_executor = AgentExecutor(agent=agent, tools=tools, verbose=True)\n",
    "  agent_executor.invoke({\"input\": \"Cómo se llama la ley que está dando muchas polémicas en España sobre los presos políticos\"})\n",
    "\n",
    "init_action()"
   ]
  }
 ],
 "metadata": {
  "colab": {
   "provenance": []
  },
  "kernelspec": {
   "display_name": "Python 3 (ipykernel)",
   "language": "python",
   "name": "python3"
  },
  "language_info": {
   "codemirror_mode": {
    "name": "ipython",
    "version": 3
   },
   "file_extension": ".py",
   "mimetype": "text/x-python",
   "name": "python",
   "nbconvert_exporter": "python",
   "pygments_lexer": "ipython3",
   "version": "3.10.9"
  }
 },
 "nbformat": 4,
 "nbformat_minor": 4
}
