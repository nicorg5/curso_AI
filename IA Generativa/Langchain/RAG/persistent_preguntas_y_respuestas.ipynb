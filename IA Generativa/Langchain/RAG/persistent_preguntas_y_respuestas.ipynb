{
 "cells": [
  {
   "cell_type": "markdown",
   "metadata": {
    "id": "D5XrVDh3e_tr"
   },
   "source": [
    "# Preguntas y Respuestas con RAG Langchain\n",
    "\n",
    "Usando Chroma DB and LangChain para contestar preguntas de un texto, con una base de datos local. Guardamos los embaddings, y los usamos después."
   ]
  },
  {
   "cell_type": "code",
   "execution_count": null,
   "metadata": {
    "id": "Uj2q0PK9fCLS"
   },
   "outputs": [],
   "source": [
    "!pip install chromadb langchain langchain-openai"
   ]
  },
  {
   "cell_type": "code",
   "execution_count": 7,
   "metadata": {
    "id": "iEx8Tb8ke_tt"
   },
   "outputs": [],
   "source": [
    "from langchain.vectorstores import Chroma\n",
    "from langchain.text_splitter import RecursiveCharacterTextSplitter\n",
    "from langchain_openai import OpenAI\n",
    "from langchain.chains import RetrievalQA\n",
    "from langchain.document_loaders import TextLoader\n",
    "from langchain_community.document_loaders import PyPDFLoader\n",
    "from langchain_openai import OpenAIEmbeddings\n",
    "\n",
    "import os\n",
    "from dotenv import load_dotenv"
   ]
  },
  {
   "cell_type": "code",
   "execution_count": 8,
   "metadata": {
    "id": "aiD3EHdki0lX"
   },
   "outputs": [],
   "source": [
    "# Cargar variables de entorno\n",
    "load_dotenv()\n",
    "# Configurar el motor de OpenAI\n",
    "api_key=os.getenv(\"OPENAI_API_KEY\")"
   ]
  },
  {
   "cell_type": "markdown",
   "metadata": {
    "id": "V1q0Szoye_tu"
   },
   "source": [
    "## Cargar y procesar documentos.\n",
    "aqui cargamos los documentos sobre los que vamosa  aplicar el Q&A\n",
    "\n",
    "Los dividimos en trozos (chunks). ASi buscamos los más relevantes y los pasamos al LLM."
   ]
  },
  {
   "cell_type": "code",
   "execution_count": 9,
   "metadata": {
    "id": "bd4rW7YQe_tu"
   },
   "outputs": [],
   "source": [
    "# Cargado y procesado del texto\n",
    "loader = PyPDFLoader('empresas_emergentes.pdf')\n",
    "documents = loader.load()\n",
    "\n",
    "text_splitter = RecursiveCharacterTextSplitter(chunk_size=1000, chunk_overlap=0)\n",
    "texts = text_splitter.split_documents(documents)"
   ]
  },
  {
   "cell_type": "markdown",
   "metadata": {
    "id": "KcHwKzYxe_tv"
   },
   "source": [
    "## Inicializamos PeristedChromaDB\n",
    "\n",
    "Creamos los embeddings. Y los guardamos en la db"
   ]
  },
  {
   "cell_type": "code",
   "execution_count": 11,
   "metadata": {
    "colab": {
     "base_uri": "https://localhost:8080/"
    },
    "id": "reXCvQY9e_tv",
    "outputId": "f5cd391d-d545-4667-c627-fe19fb19c8a1"
   },
   "outputs": [
    {
     "name": "stderr",
     "output_type": "stream",
     "text": [
      "Warning: model not found. Using cl100k_base encoding.\n"
     ]
    }
   ],
   "source": [
    "# Directorio donde se guardará la db\n",
    "persist_directory = 'db'\n",
    "\n",
    "engine = \"gpt-4\"\n",
    "embedding = OpenAIEmbeddings(api_key=api_key, model=\"text-embedding-3-large\")\n",
    "\n",
    "vectordb = Chroma.from_documents(documents=texts, embedding=embedding, persist_directory=persist_directory)"
   ]
  },
  {
   "cell_type": "markdown",
   "metadata": {
    "id": "Z9zGhQ7Fe_tv"
   },
   "source": [
    "## Persist the Database\n",
    "In a notebook, we should call `persist()` to ensure the embeddings are written to disk.\n",
    "This isn't necessary in a script - the database will be automatically persisted when the client object is destroyed."
   ]
  },
  {
   "cell_type": "code",
   "execution_count": 12,
   "metadata": {
    "id": "fJ92tCWZe_tw"
   },
   "outputs": [],
   "source": [
    "vectordb.persist()\n",
    "vectordb = None"
   ]
  },
  {
   "cell_type": "markdown",
   "metadata": {
    "id": "Hvim5dvfe_tw"
   },
   "source": [
    "## Cargamos la db del disco\n",
    "`persist_directory` es el directorio donde se va a guardar la db y `embedding_function` tiene que ser la misma que cunado instanciamos a db. Se encargara de las respuestas."
   ]
  },
  {
   "cell_type": "code",
   "execution_count": 13,
   "metadata": {
    "id": "DRKyZ_Lje_tx"
   },
   "outputs": [],
   "source": [
    "# Cargamos la base de datos persistente del disco y usamos un langchain retrieval\n",
    "vectordb = Chroma(persist_directory=persist_directory, embedding_function=embedding)\n",
    "qa = RetrievalQA.from_chain_type(\n",
    "    llm=OpenAI(api_key=api_key),\n",
    "    retriever=vectordb.as_retriever(\n",
    "        search_kwargs={\"k\": 5})\n",
    "    )"
   ]
  },
  {
   "cell_type": "markdown",
   "metadata": {
    "id": "VoGTi3zne_tx"
   },
   "source": [
    "## Preguntas y respuestas\n",
    "\n",
    "Con langchainy RAG"
   ]
  },
  {
   "cell_type": "code",
   "execution_count": 14,
   "metadata": {
    "colab": {
     "base_uri": "https://localhost:8080/",
     "height": 70
    },
    "id": "HnlMEuWhe_tx",
    "outputId": "e6082d07-b63e-49be-bb66-23adab693505"
   },
   "outputs": [
    {
     "name": "stderr",
     "output_type": "stream",
     "text": [
      "Warning: model not found. Using cl100k_base encoding.\n"
     ]
    },
    {
     "data": {
      "text/plain": [
       "' Lo siento, no tengo la capacidad de responder a preguntas filosóficas o abstractas. Mi función es proporcionar información basada en el contexto proporcionado.'"
      ]
     },
     "execution_count": 14,
     "metadata": {},
     "output_type": "execute_result"
    }
   ],
   "source": [
    "query = \"Cuál es el sentido de la vida\"\n",
    "result = qa.invoke(query)\n",
    "result.get(\"result\")"
   ]
  },
  {
   "cell_type": "code",
   "execution_count": 15,
   "metadata": {},
   "outputs": [
    {
     "name": "stderr",
     "output_type": "stream",
     "text": [
      "Warning: model not found. Using cl100k_base encoding.\n"
     ]
    },
    {
     "data": {
      "text/plain": [
       "' Una empresa emergente, también conocida como start-up, es una compañía joven con potencial de crecimiento y desarrollo en su sector. Suelen ser innovadoras y utilizan las nuevas tecnologías para llevar a cabo sus procesos de negocio. Tienen recursos limitados y suelen optar por métodos de financiación no convencionales. Además, su forma de trabajar es flexible y suele enfocarse en la personalización de los servicios. '"
      ]
     },
     "execution_count": 15,
     "metadata": {},
     "output_type": "execute_result"
    }
   ],
   "source": [
    "query = \"¿Qué es una empresa emergente?\"\n",
    "result = qa.invoke(query)\n",
    "result.get(\"result\")"
   ]
  },
  {
   "cell_type": "code",
   "execution_count": 16,
   "metadata": {},
   "outputs": [
    {
     "name": "stderr",
     "output_type": "stream",
     "text": [
      "Warning: model not found. Using cl100k_base encoding.\n"
     ]
    },
    {
     "data": {
      "text/plain": [
       "' Algunos ejemplos de empresas emergentes son Glovo, Cabify, Airbnb, Uber, Spotify, Dropbox, Snapchat, entre otras. Todas estas empresas han introducido nuevos modelos de negocio en sus respectivos sectores y han logrado un gran éxito a nivel nacional e internacional.'"
      ]
     },
     "execution_count": 16,
     "metadata": {},
     "output_type": "execute_result"
    }
   ],
   "source": [
    "query = \"Dame ejemplos de empresa emergente\"\n",
    "result = qa.invoke(query)\n",
    "result.get(\"result\")"
   ]
  },
  {
   "cell_type": "code",
   "execution_count": 17,
   "metadata": {},
   "outputs": [
    {
     "name": "stderr",
     "output_type": "stream",
     "text": [
      "Warning: model not found. Using cl100k_base encoding.\n"
     ]
    },
    {
     "data": {
      "text/plain": [
       "' No se puede determinar la facturación y beneficio medio de una empresa emergente ya que varía de una empresa a otra y depende de varios factores, como el sector en el que se encuentran, la inversión inicial, la estrategia de crecimiento, entre otros.'"
      ]
     },
     "execution_count": 17,
     "metadata": {},
     "output_type": "execute_result"
    }
   ],
   "source": [
    "query = \"Facturación y beneficio medio de una empresa emergente\"\n",
    "result = qa.invoke(query)\n",
    "result.get(\"result\")"
   ]
  },
  {
   "cell_type": "markdown",
   "metadata": {
    "id": "SsQQnwUAe_ty"
   },
   "source": [
    "## Limpieza\n",
    "\n",
    "Cuando hayas terminado con la base de datos, puedes eliminarla del disco. Puedes eliminar la colección específica con la que está trabajando (si tiene varias) o eliminar toda la base de datos destruyendo el directorio de persistencia."
   ]
  },
  {
   "cell_type": "code",
   "execution_count": null,
   "metadata": {
    "id": "OPXFS4eje_ty",
    "outputId": "36570f3e-f261-4e0b-889a-83a84982e59e"
   },
   "outputs": [
    {
     "name": "stdout",
     "output_type": "stream",
     "text": [
      "Persisting DB to disk, putting it in the save folder db\n"
     ]
    }
   ],
   "source": [
    "# limpiamos la colección\n",
    "vectordb.delete_collection()\n",
    "vectordb.persist()\n",
    "\n",
    "# nos cargamos el directorio de persistencia\n",
    "!rm -rf db/"
   ]
  }
 ],
 "metadata": {
  "colab": {
   "provenance": []
  },
  "kernelspec": {
   "display_name": "Python 3 (ipykernel)",
   "language": "python",
   "name": "python3"
  },
  "language_info": {
   "codemirror_mode": {
    "name": "ipython",
    "version": 3
   },
   "file_extension": ".py",
   "mimetype": "text/x-python",
   "name": "python",
   "nbconvert_exporter": "python",
   "pygments_lexer": "ipython3",
   "version": "3.10.9"
  },
  "vscode": {
   "interpreter": {
    "hash": "c909e91d0cd7642213937968dfc91c71973575965f56cdcabb1e0b29abe5f7fa"
   }
  }
 },
 "nbformat": 4,
 "nbformat_minor": 4
}
