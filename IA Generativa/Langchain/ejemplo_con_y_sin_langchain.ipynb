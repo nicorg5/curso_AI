{
 "cells": [
  {
   "cell_type": "markdown",
   "id": "8e890e59-ae1f-45c4-b2bf-fb37ba2dafa1",
   "metadata": {},
   "source": [
    "# Ejemplo sin Langchain"
   ]
  },
  {
   "cell_type": "code",
   "execution_count": 1,
   "id": "d5c53c23-19e2-470d-9a98-aa17bb2f6e4e",
   "metadata": {},
   "outputs": [],
   "source": [
    "from typing import List\n",
    "from openai import OpenAI\n",
    "from dotenv import load_dotenv \n",
    "import os"
   ]
  },
  {
   "cell_type": "code",
   "execution_count": 2,
   "id": "735cd47f-5c2e-4676-9893-3f35df081406",
   "metadata": {},
   "outputs": [],
   "source": [
    "# Cargar variables de entorno\n",
    "load_dotenv()\n",
    "# Configurar el motor de OpenAI\n",
    "engine = \"gpt-3.5-turbo\"\n",
    "api_key=os.getenv(\"OPENAI_API_KEY\")"
   ]
  },
  {
   "cell_type": "code",
   "execution_count": 3,
   "id": "8bb74dc6-e4c1-4541-bb69-e710612c1212",
   "metadata": {},
   "outputs": [],
   "source": [
    "prompt_template = \"Tell me a short joke about {topic}\"\n",
    "# Inicializar el modelo de OpenAI con la clave de API \n",
    "client = OpenAI(api_key=api_key)"
   ]
  },
  {
   "cell_type": "code",
   "execution_count": 4,
   "id": "cfedc926-c3b6-4d7e-ac69-65fae89f244c",
   "metadata": {},
   "outputs": [
    {
     "name": "stdout",
     "output_type": "stream",
     "text": [
      "Why do ice cream cones never go to school?\n",
      "\n",
      "Because they always melt at the super-cool parties!\n"
     ]
    }
   ],
   "source": [
    "# Definición de la función que llama a gpt\n",
    "def call_chat_model(messages: List[dict]) -> str: \n",
    "    response = client.chat.completions.create(\n",
    "        model=\"gpt-3.5-turbo\",\n",
    "        messages=messages,\n",
    "    )\n",
    "    return response.choices[0].message.content\n",
    "\n",
    "\n",
    "# Definición de la función que usa el mensaje y la función call_chat_model\n",
    "def invoke_chain(topic: str) -> str:\n",
    "    prompt_value = prompt_template.format(topic=topic) \n",
    "    messages = [{\"role\": \"user\", \"content\": prompt_value}] \n",
    "    return call_chat_model(messages)\n",
    "    \n",
    "print(invoke_chain(\"ice cream\"))"
   ]
  },
  {
   "cell_type": "code",
   "execution_count": 8,
   "id": "5fe8f240-1fa2-4ae5-bae5-788bb1b14c57",
   "metadata": {},
   "outputs": [
    {
     "name": "stdout",
     "output_type": "stream",
     "text": [
      "Why was the football pitch always so hot?\n",
      "\n",
      "Because all the fans left!\n"
     ]
    }
   ],
   "source": [
    "print(invoke_chain(\"football\"))"
   ]
  },
  {
   "cell_type": "markdown",
   "id": "aa7f97ac-894a-4413-b1aa-1465be2cf162",
   "metadata": {},
   "source": [
    "# Con Langchain"
   ]
  },
  {
   "cell_type": "code",
   "execution_count": 5,
   "id": "8853f75d-a1ed-4cc5-918a-48b0f37cbcf0",
   "metadata": {},
   "outputs": [],
   "source": [
    "from langchain_core.runnables import RunnablePassthrough\n",
    "from langchain_core.output_parsers import StrOutputParser\n",
    "from langchain_core.prompts import ChatPromptTemplate\n",
    "from langchain_openai import ChatOpenAI"
   ]
  },
  {
   "cell_type": "code",
   "execution_count": 6,
   "id": "453fa744-838c-4932-baf8-86dbf08be474",
   "metadata": {},
   "outputs": [],
   "source": [
    "# Cargar variables de entorno y uso de la API\n",
    "load_dotenv()\n",
    "api_key=os.getenv(\"OPENAI_API_KEY\")"
   ]
  },
  {
   "cell_type": "code",
   "execution_count": 7,
   "id": "fb171fe5-63da-46e8-9280-8ef1d58236a3",
   "metadata": {},
   "outputs": [
    {
     "name": "stdout",
     "output_type": "stream",
     "text": [
      "Why did the ice cream go to therapy? It was feeling a little rocky road.\n"
     ]
    }
   ],
   "source": [
    "prompt = ChatPromptTemplate.from_template(\n",
    "    \"Tell me a short joke about {topic}\"\n",
    ")\n",
    "\n",
    "output_parser = StrOutputParser()\n",
    "model = ChatOpenAI(model=\"gpt-3.5-turbo\", api_key=api_key, temperature=1) \n",
    "chain = (\n",
    "    {\"topic\": RunnablePassthrough()} \n",
    "    | prompt\n",
    "    | model\n",
    "    | output_parser\n",
    ")\n",
    "\n",
    "response = chain.invoke(\"ice cream\") \n",
    "print(response)"
   ]
  },
  {
   "cell_type": "code",
   "execution_count": 10,
   "id": "e4f1e254-85cd-4af9-8938-c62cded9960b",
   "metadata": {},
   "outputs": [
    {
     "name": "stdout",
     "output_type": "stream",
     "text": [
      "Why don't skeletons fight in wars?\n",
      "\n",
      "Because they don't have the guts!\n"
     ]
    }
   ],
   "source": [
    "response = chain.invoke(\"war\") \n",
    "print(response)"
   ]
  }
 ],
 "metadata": {
  "kernelspec": {
   "display_name": "Python 3 (ipykernel)",
   "language": "python",
   "name": "python3"
  },
  "language_info": {
   "codemirror_mode": {
    "name": "ipython",
    "version": 3
   },
   "file_extension": ".py",
   "mimetype": "text/x-python",
   "name": "python",
   "nbconvert_exporter": "python",
   "pygments_lexer": "ipython3",
   "version": "3.10.8"
  }
 },
 "nbformat": 4,
 "nbformat_minor": 5
}
