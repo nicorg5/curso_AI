{
 "cells": [
  {
   "cell_type": "code",
   "execution_count": 1,
   "id": "002573b7-6ef6-47da-9446-e89c22187dd2",
   "metadata": {},
   "outputs": [],
   "source": [
    "# Importación de bibliotecas y librerías\n",
    "import numpy as np\n",
    "import tensorflow as tf"
   ]
  },
  {
   "cell_type": "markdown",
   "id": "5259a708-0153-4b55-8c8c-8b62eac5899c",
   "metadata": {},
   "source": [
    "## Paso 1: Obtener y preprocesar el texto"
   ]
  },
  {
   "cell_type": "code",
   "execution_count": 2,
   "id": "dad324dd-5f9b-4c1d-a631-a89f27ef50f7",
   "metadata": {},
   "outputs": [],
   "source": [
    "path = \"pg4300.txt\"\n",
    "with open(path) as f:\n",
    "    text = f.read()"
   ]
  },
  {
   "cell_type": "code",
   "execution_count": 3,
   "id": "f2cd5a6c-3868-4f81-aae4-975ff6b08135",
   "metadata": {},
   "outputs": [],
   "source": [
    "# Preprocesar texto (simplificado, considerar limpiar encabezados y pies de página del sitio)\n",
    "text = text.lower()  # Convertir a minúsculas\n",
    "# Crear secuencias de caracteres y sus próximos caracteres\n",
    "maxlen = 50\n",
    "step = 5"
   ]
  },
  {
   "cell_type": "code",
   "execution_count": 4,
   "id": "32fb4e36-dd4c-4f30-8cca-ca9dd2d7e473",
   "metadata": {},
   "outputs": [],
   "source": [
    "# Crear una lista de los caracteres únicos en el texto\n",
    "chars = sorted(list(set(text)))"
   ]
  },
  {
   "cell_type": "code",
   "execution_count": 5,
   "id": "35486c12-b510-4859-8740-b265068d9990",
   "metadata": {},
   "outputs": [],
   "source": [
    "# Crear un diccionario que mapee cada carácter a un número entero único\n",
    "char_to_int = dict((c, i) for i, c in enumerate(chars))"
   ]
  },
  {
   "cell_type": "code",
   "execution_count": 6,
   "id": "cd3bd737-c376-4754-91ce-4c8d91f8a920",
   "metadata": {},
   "outputs": [],
   "source": [
    "# Función de \"temperatura\" para generar una letra basada en las predicciones del modelo, ajustando la diversidad con el parámetro 'temperature'.\n",
    "#Un valor más alto hace que la distribución de probabilidad sea más plana, generando resultados más diversos, mientras que un valor más bajo\n",
    "#hace que la distribución sea más aguda, generando resultados más deterministas\n",
    "def sample(preds, temperature=1.0):\n",
    "    \"\"\"Función de muestreo que incorpora la diversidad.\"\"\"\n",
    "    preds = np.asarray(preds).astype('float64') #Es el vector de predicciones generado por el modelo para la siguiente letra en la secuencia\n",
    "    preds = np.log(preds) / temperature #Ajuste de temperatura\n",
    "    exp_preds = np.exp(preds) #Se aplica la función exponencial para revertir la operación logarítmica y obtener las probabilidades originales\n",
    "    preds = exp_preds / np.sum(exp_preds) #Se normalizan las probabilidades para asegurarnos de que sumen 1 y formen una distribución de probabilidad válida\n",
    "    probas = np.random.multinomial(1, preds, 1) #simula la elección de una letra basada en las probabilidades dadas\n",
    "    return np.argmax(probas) #se devuelve el índice de la letra seleccionada"
   ]
  },
  {
   "cell_type": "markdown",
   "id": "cd36f21f-5560-49df-aaa5-63741bcf89e4",
   "metadata": {},
   "source": [
    "## Paso 2: General el texto usando el modelo entrenado"
   ]
  },
  {
   "cell_type": "code",
   "execution_count": 7,
   "id": "b984c236-de58-47dc-8607-ebf4979065d2",
   "metadata": {},
   "outputs": [],
   "source": [
    "# Función que toma como entrada la longitud del texto que se desea generar y la diversidad que controla la variabilidad del texto generado\n",
    "def generate_text(length, diversity=1.0):\n",
    "    start_index = np.random.randint(0, len(text) - maxlen - 1) #Se elige aleatoriamente un índice de inicio en el texto\n",
    "    generated = ''  #Se inicializa la variable generated como una cadena vacía donde se almacenará el texto generado\n",
    "    sentence = text[start_index: start_index + maxlen] #Se inicia la variable con la subsecuencia de texto seleccionada aleatoriamente\n",
    "    generated += sentence #Se agrega a la cadena de texto vacía\n",
    "\n",
    "    for _ in range(length): #Inicia un bucle que generará caracteres adicionales para alcanzar la longitud deseada\n",
    "        x_pred = np.zeros((1, maxlen, len(chars))) #Inicializa un tensor con ceros que se utilizará como entrada para el modelo\n",
    "        for t, char in enumerate(sentence): #Recorre cada carácter en la sentence\n",
    "            x_pred[0, t, char_to_int[char]] = 1. #Codifica el carácter actual en la representación one-hot y lo asigna a la posición correspondiente en x_pred\n",
    "\n",
    "        preds = model.predict(x_pred, verbose=0)[0] #Utiliza el modelo para predecir el siguiente carácter basado en la sentence actual\n",
    "        next_index = sample(preds, diversity) #Utiliza la función sample para obtener el índice del siguiente carácter, considerando la diversidad especificada.\n",
    "        next_char = chars[next_index] #Obtiene el carácter correspondiente al índice seleccionado\n",
    "\n",
    "        generated += next_char #Agrega el carácter predicho a la cadena generada\n",
    "        sentence = sentence[1:] + next_char #Actualiza la sentence eliminando el primer carácter y añadiendo el carácter predicho al final\n",
    "\n",
    "    return generated"
   ]
  },
  {
   "cell_type": "code",
   "execution_count": 9,
   "id": "802b68ed-2171-46ca-ae92-0c8175eac5a7",
   "metadata": {},
   "outputs": [
    {
     "name": "stdout",
     "output_type": "stream",
     "text": [
      " on when the maggot takes him\n",
      "just imagine having bloom lenporn throud _and wother brising the mire’s neils? sceal to._ what womal! sundoon soll. i woman said in read. heer the marcols and alflice\n",
      "lea\n",
      "---------------------------\n",
      "grow. o let him! his life\n",
      "isn’t such a bed of rose the because of the thint to the come to the conda\n",
      "---------------------------\n",
      " his collar sprang up again and he tugged it down. a street she was the said and the street of the s\n"
     ]
    }
   ],
   "source": [
    "# Uso del modelo\n",
    "\n",
    "model = tf.keras.models.load_model('ulisses_0.2.keras')\n",
    "\n",
    "print(generate_text(150, 1.0))\n",
    "print('---------------------------')\n",
    "print(generate_text(50, 0.5))\n",
    "print('---------------------------')\n",
    "print(generate_text(50, 0.2))"
   ]
  }
 ],
 "metadata": {
  "kernelspec": {
   "display_name": "Python 3 (ipykernel)",
   "language": "python",
   "name": "python3"
  },
  "language_info": {
   "codemirror_mode": {
    "name": "ipython",
    "version": 3
   },
   "file_extension": ".py",
   "mimetype": "text/x-python",
   "name": "python",
   "nbconvert_exporter": "python",
   "pygments_lexer": "ipython3",
   "version": "3.11.7"
  }
 },
 "nbformat": 4,
 "nbformat_minor": 5
}
