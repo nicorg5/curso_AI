{
 "cells": [
  {
   "cell_type": "markdown",
   "id": "34ccc4cb-4b5a-4217-b073-91e996612527",
   "metadata": {},
   "source": [
    "# Ejercicio Práctico con Pandas"
   ]
  },
  {
   "cell_type": "markdown",
   "id": "d5e5e0f0-e603-4cdd-bf7b-4cb8b9042773",
   "metadata": {
    "jp-MarkdownHeadingCollapsed": true,
    "tags": []
   },
   "source": [
    "## Parte 1: Exploración Básica del DataFrame"
   ]
  },
  {
   "cell_type": "code",
   "execution_count": 12,
   "id": "a3c659fb-11e1-4926-a6fc-21658c3ae0ae",
   "metadata": {
    "tags": []
   },
   "outputs": [
    {
     "name": "stdout",
     "output_type": "stream",
     "text": [
      "Gender    Height     Weight\n",
      "  Male 73.847017 241.893563\n",
      "  Male 68.781904 162.310473\n",
      "  Male 74.110105 212.740856\n",
      "  Male 71.730978 220.042470\n",
      "  Male 69.881796 206.349801\n",
      "  Male 67.253016 152.212156\n",
      "  Male 68.785081 183.927889\n",
      "  Male 68.348516 167.971110\n",
      "  Male 67.018950 175.929440\n",
      "  Male 63.456494 156.399676\n",
      "  Male 71.195382 186.604926\n",
      "  Male 71.640805 213.741169\n",
      "  Male 64.766329 167.127461\n",
      "  Male 69.283070 189.446181\n",
      "  Male 69.243732 186.434168\n"
     ]
    }
   ],
   "source": [
    "# Descarga del .csv a través de un link y crear un DataFrame con ese archivo\n",
    "\n",
    "import pandas as pd\n",
    "URL = \"https://drive.google.com/uc?export=download&id=1-zKKm5aEEabJS01n4vZhE8iiacnXYWGg\"\n",
    "df = pd.read_csv(URL)\n",
    "print(df.head(15).to_string(index=False))"
   ]
  },
  {
   "cell_type": "code",
   "execution_count": 13,
   "id": "1d6f35a0-6862-4d50-aeb8-1eb32ad827b2",
   "metadata": {
    "tags": []
   },
   "outputs": [
    {
     "name": "stdout",
     "output_type": "stream",
     "text": [
      "Las 5 primeras filas del DataFrame son: \n",
      "   Gender     Height      Weight\n",
      "0   Male  73.847017  241.893563\n",
      "1   Male  68.781904  162.310473\n",
      "2   Male  74.110105  212.740856\n",
      "3   Male  71.730978  220.042470\n",
      "4   Male  69.881796  206.349801\n",
      "Las 5 últimas filas del DataFrame son: \n",
      "       Gender     Height      Weight\n",
      "9995  Female  66.172652  136.777454\n",
      "9996  Female  67.067155  170.867906\n",
      "9997  Female  63.867992  128.475319\n",
      "9998  Female  69.034243  163.852461\n",
      "9999  Female  61.944246  113.649103\n"
     ]
    }
   ],
   "source": [
    "# Muestra de las primeras y últimas filas del DataFrame\n",
    "\n",
    "print(f\"Las 5 primeras filas del DataFrame son: \\n {df.head()}\")\n",
    "print(f\"Las 5 últimas filas del DataFrame son: \\n {df.tail()}\")\n"
   ]
  },
  {
   "cell_type": "code",
   "execution_count": 14,
   "id": "f0032ba8-e187-45cb-817f-b1a456c50647",
   "metadata": {
    "tags": []
   },
   "outputs": [
    {
     "name": "stdout",
     "output_type": "stream",
     "text": [
      "<class 'pandas.core.frame.DataFrame'>\n",
      "RangeIndex: 10000 entries, 0 to 9999\n",
      "Data columns (total 3 columns):\n",
      " #   Column  Non-Null Count  Dtype  \n",
      "---  ------  --------------  -----  \n",
      " 0   Gender  10000 non-null  object \n",
      " 1   Height  9998 non-null   float64\n",
      " 2   Weight  9998 non-null   float64\n",
      "dtypes: float64(2), object(1)\n",
      "memory usage: 234.5+ KB\n"
     ]
    }
   ],
   "source": [
    "# Información general del DataFrame\n",
    "\n",
    "df.info()"
   ]
  },
  {
   "cell_type": "code",
   "execution_count": 15,
   "id": "ce3540fa-2e54-4492-9047-7b5cdeca71d2",
   "metadata": {
    "tags": []
   },
   "outputs": [
    {
     "data": {
      "text/html": [
       "<div>\n",
       "<style scoped>\n",
       "    .dataframe tbody tr th:only-of-type {\n",
       "        vertical-align: middle;\n",
       "    }\n",
       "\n",
       "    .dataframe tbody tr th {\n",
       "        vertical-align: top;\n",
       "    }\n",
       "\n",
       "    .dataframe thead th {\n",
       "        text-align: right;\n",
       "    }\n",
       "</style>\n",
       "<table border=\"1\" class=\"dataframe\">\n",
       "  <thead>\n",
       "    <tr style=\"text-align: right;\">\n",
       "      <th></th>\n",
       "      <th>Height</th>\n",
       "      <th>Weight</th>\n",
       "    </tr>\n",
       "  </thead>\n",
       "  <tbody>\n",
       "    <tr>\n",
       "      <th>count</th>\n",
       "      <td>9998.000000</td>\n",
       "      <td>9998.000000</td>\n",
       "    </tr>\n",
       "    <tr>\n",
       "      <th>mean</th>\n",
       "      <td>66.366788</td>\n",
       "      <td>161.434302</td>\n",
       "    </tr>\n",
       "    <tr>\n",
       "      <th>std</th>\n",
       "      <td>3.847510</td>\n",
       "      <td>32.108770</td>\n",
       "    </tr>\n",
       "    <tr>\n",
       "      <th>min</th>\n",
       "      <td>54.263133</td>\n",
       "      <td>64.700127</td>\n",
       "    </tr>\n",
       "    <tr>\n",
       "      <th>25%</th>\n",
       "      <td>63.505073</td>\n",
       "      <td>135.815966</td>\n",
       "    </tr>\n",
       "    <tr>\n",
       "      <th>50%</th>\n",
       "      <td>66.317827</td>\n",
       "      <td>161.197662</td>\n",
       "    </tr>\n",
       "    <tr>\n",
       "      <th>75%</th>\n",
       "      <td>69.170292</td>\n",
       "      <td>187.139777</td>\n",
       "    </tr>\n",
       "    <tr>\n",
       "      <th>max</th>\n",
       "      <td>78.998742</td>\n",
       "      <td>269.989699</td>\n",
       "    </tr>\n",
       "  </tbody>\n",
       "</table>\n",
       "</div>"
      ],
      "text/plain": [
       "            Height       Weight\n",
       "count  9998.000000  9998.000000\n",
       "mean     66.366788   161.434302\n",
       "std       3.847510    32.108770\n",
       "min      54.263133    64.700127\n",
       "25%      63.505073   135.815966\n",
       "50%      66.317827   161.197662\n",
       "75%      69.170292   187.139777\n",
       "max      78.998742   269.989699"
      ]
     },
     "execution_count": 15,
     "metadata": {},
     "output_type": "execute_result"
    }
   ],
   "source": [
    "# Estadísticas básicas de las columnas numéricas\n",
    "\n",
    "df.describe()"
   ]
  },
  {
   "cell_type": "markdown",
   "id": "203d6a70-2099-423b-a34d-09fb5fcbcd71",
   "metadata": {},
   "source": [
    "## Parte 2: Limpieza y Preparación de Datos"
   ]
  },
  {
   "cell_type": "code",
   "execution_count": 16,
   "id": "aa5275a0-f107-480a-aff2-322a2a2a9142",
   "metadata": {
    "tags": []
   },
   "outputs": [],
   "source": [
    "# Convertir la altura de pulgadas a centímetros\n",
    "\n",
    "df['Height'] = df['Height'] * 2.54"
   ]
  },
  {
   "cell_type": "code",
   "execution_count": 18,
   "id": "84e37ffb-1d08-4aec-8252-bb3d3533fea7",
   "metadata": {
    "tags": []
   },
   "outputs": [],
   "source": [
    "# Convertir el peso de libras a kilogramos\n",
    "\n",
    "df['Weight'] = df['Weight'] * 0.453592"
   ]
  },
  {
   "cell_type": "code",
   "execution_count": 24,
   "id": "6829ef42-2046-464b-a5f5-fd91d87d54b5",
   "metadata": {
    "tags": []
   },
   "outputs": [
    {
     "name": "stdout",
     "output_type": "stream",
     "text": [
      "La cantidad de valores faltantes en cada columna es de: \n",
      "Gender    0\n",
      "Height    2\n",
      "Weight    2\n",
      "dtype: int64\n"
     ]
    }
   ],
   "source": [
    "# Tratar valores faltantes\n",
    "\n",
    "print(f\"La cantidad de valores faltantes en cada columna es de:\\n{df.isnull().sum()}\")"
   ]
  },
  {
   "cell_type": "markdown",
   "id": "675ec142-dc97-4cde-8d9c-b91bea44fa7e",
   "metadata": {},
   "source": [
    "Ya que la cantidad de valores faltantes es muy baja, se eliminan dichos valores nulos:"
   ]
  },
  {
   "cell_type": "code",
   "execution_count": 26,
   "id": "b6291c70-4396-4292-840a-5986edc71177",
   "metadata": {
    "tags": []
   },
   "outputs": [
    {
     "name": "stdout",
     "output_type": "stream",
     "text": [
      "Comprobación de que se han eliminado correctamente los valores faltantes:\n",
      "Gender    0\n",
      "Height    0\n",
      "Weight    0\n",
      "dtype: int64\n"
     ]
    }
   ],
   "source": [
    "# Eliminación de valores faltantes\n",
    "\n",
    "df.dropna(inplace=True)\n",
    "print(f\"Comprobación de que se han eliminado correctamente los valores faltantes:\\n{df.isnull().sum()}\")"
   ]
  },
  {
   "cell_type": "markdown",
   "id": "259bbeac-63a6-433d-956f-4b9bbca28a2a",
   "metadata": {
    "jp-MarkdownHeadingCollapsed": true,
    "tags": []
   },
   "source": [
    "## Parte 3: Análisis Exploratorio de Datos"
   ]
  },
  {
   "cell_type": "code",
   "execution_count": 27,
   "id": "3738e9cc-3132-41cc-8bec-23451a011234",
   "metadata": {
    "tags": []
   },
   "outputs": [
    {
     "data": {
      "text/plain": [
       "Gender\n",
       "Female    61.625051\n",
       "Male      84.827280\n",
       "Name: Weight, dtype: float64"
      ]
     },
     "execution_count": 27,
     "metadata": {},
     "output_type": "execute_result"
    }
   ],
   "source": [
    "# Agrupar datos por género y calcular el peso medio para cada género\n",
    "\n",
    "peso_medio_por_genero = df.groupby('Gender')['Weight'].mean()\n",
    "peso_medio_por_genero"
   ]
  },
  {
   "cell_type": "code",
   "execution_count": 30,
   "id": "32a035c6-2705-467b-97bc-f4b942282931",
   "metadata": {
    "tags": []
   },
   "outputs": [
    {
     "data": {
      "image/png": "[encoded data removed]",
      "text/plain": [
       "<Figure size 1200x500 with 2 Axes>"
      ]
     },
     "metadata": {},
     "output_type": "display_data"
    }
   ],
   "source": [
    "import matplotlib.pyplot as plt\n",
    "\n",
    "# Crear histogramas de las distribuciones de altura y peso\n",
    "\n",
    "plt.figure(figsize=(12, 5))\n",
    "\n",
    "plt.subplot(1, 2, 1)\n",
    "plt.hist(df['Height'], bins=20, color='blue', alpha=0.7)\n",
    "plt.title('Distribución de Altura')\n",
    "plt.xlabel('Altura (cm)')\n",
    "plt.ylabel('Frecuencia')\n",
    "\n",
    "plt.subplot(1, 2, 2)\n",
    "plt.hist(df['Weight'], bins=20, color='green', alpha=0.7)\n",
    "plt.title('Distribución de Peso')\n",
    "plt.xlabel('Peso (kg)')\n",
    "plt.ylabel('Frecuencia')\n",
    "\n",
    "plt.tight_layout()\n",
    "plt.show()"
   ]
  },
  {
   "cell_type": "code",
   "execution_count": 31,
   "id": "bd8b69bb-1fc3-43b4-bc79-c68e65cb9ca2",
   "metadata": {
    "tags": []
   },
   "outputs": [
    {
     "data": {
      "image/png": "[encoded data removed]",
      "text/plain": [
       "<Figure size 600x600 with 1 Axes>"
      ]
     },
     "metadata": {},
     "output_type": "display_data"
    }
   ],
   "source": [
    "# Crear un diagrama de caja para comparar la distribución del peso entre géneros\n",
    "\n",
    "plt.figure(figsize=(6, 6))\n",
    "plt.boxplot([df[df['Gender'] == 'Male']['Weight'], \n",
    "             df[df['Gender'] == 'Female']['Weight']], \n",
    "            labels=['Hombres', 'Mujeres'])\n",
    "plt.title('Comparación del Peso entre Géneros')\n",
    "plt.ylabel('Peso (kg)')\n",
    "plt.show()"
   ]
  },
  {
   "cell_type": "markdown",
   "id": "cc93edcb-bc92-419a-8e93-902695434c59",
   "metadata": {},
   "source": [
    "## Parte 4: Operaciones Avanzadas"
   ]
  },
  {
   "cell_type": "code",
   "execution_count": 34,
   "id": "2e50ca82-13bd-41b2-84dc-574e95cdfe8c",
   "metadata": {
    "tags": []
   },
   "outputs": [
    {
     "name": "stdout",
     "output_type": "stream",
     "text": [
      "Percentiles del Peso por Género: \n",
      "Gender      \n",
      "Female  0.25    55.761923\n",
      "        0.50    61.741847\n",
      "        0.75    67.499446\n",
      "Male    0.25    78.873644\n",
      "        0.50    84.834327\n",
      "        0.75    90.880170\n",
      "Name: Weight, dtype: float64\n"
     ]
    }
   ],
   "source": [
    "# Calcular los percentiles del peso para cada género\n",
    "\n",
    "percentiles_peso = df.groupby('Gender')['Weight'].quantile([0.25, 0.5, 0.75])\n",
    "print(f\"Percentiles del Peso por Género: \\n{percentiles_peso}\")"
   ]
  },
  {
   "cell_type": "code",
   "execution_count": 37,
   "id": "432bb200-1dfb-4349-b435-98719551a0f9",
   "metadata": {
    "tags": []
   },
   "outputs": [
    {
     "data": {
      "text/html": [
       "<div>\n",
       "<style scoped>\n",
       "    .dataframe tbody tr th:only-of-type {\n",
       "        vertical-align: middle;\n",
       "    }\n",
       "\n",
       "    .dataframe tbody tr th {\n",
       "        vertical-align: top;\n",
       "    }\n",
       "\n",
       "    .dataframe thead th {\n",
       "        text-align: right;\n",
       "    }\n",
       "</style>\n",
       "<table border=\"1\" class=\"dataframe\">\n",
       "  <thead>\n",
       "    <tr style=\"text-align: right;\">\n",
       "      <th></th>\n",
       "      <th>Gender</th>\n",
       "      <th>Height</th>\n",
       "      <th>Weight</th>\n",
       "      <th>IMC</th>\n",
       "      <th>Clasificación_IMC</th>\n",
       "    </tr>\n",
       "  </thead>\n",
       "  <tbody>\n",
       "    <tr>\n",
       "      <th>0</th>\n",
       "      <td>Male</td>\n",
       "      <td>187.571423</td>\n",
       "      <td>109.720985</td>\n",
       "      <td>31.185761</td>\n",
       "      <td>Obesidad</td>\n",
       "    </tr>\n",
       "    <tr>\n",
       "      <th>1</th>\n",
       "      <td>Male</td>\n",
       "      <td>174.706036</td>\n",
       "      <td>73.622732</td>\n",
       "      <td>24.121044</td>\n",
       "      <td>Peso Normal</td>\n",
       "    </tr>\n",
       "    <tr>\n",
       "      <th>2</th>\n",
       "      <td>Male</td>\n",
       "      <td>188.239668</td>\n",
       "      <td>96.497550</td>\n",
       "      <td>27.232906</td>\n",
       "      <td>Sobrepeso</td>\n",
       "    </tr>\n",
       "    <tr>\n",
       "      <th>3</th>\n",
       "      <td>Male</td>\n",
       "      <td>182.196685</td>\n",
       "      <td>99.809504</td>\n",
       "      <td>30.067059</td>\n",
       "      <td>Obesidad</td>\n",
       "    </tr>\n",
       "    <tr>\n",
       "      <th>4</th>\n",
       "      <td>Male</td>\n",
       "      <td>177.499761</td>\n",
       "      <td>93.598619</td>\n",
       "      <td>29.708033</td>\n",
       "      <td>Sobrepeso</td>\n",
       "    </tr>\n",
       "    <tr>\n",
       "      <th>...</th>\n",
       "      <td>...</td>\n",
       "      <td>...</td>\n",
       "      <td>...</td>\n",
       "      <td>...</td>\n",
       "      <td>...</td>\n",
       "    </tr>\n",
       "    <tr>\n",
       "      <th>9995</th>\n",
       "      <td>Female</td>\n",
       "      <td>168.078536</td>\n",
       "      <td>62.041159</td>\n",
       "      <td>21.961166</td>\n",
       "      <td>Peso Normal</td>\n",
       "    </tr>\n",
       "    <tr>\n",
       "      <th>9996</th>\n",
       "      <td>Female</td>\n",
       "      <td>170.350573</td>\n",
       "      <td>77.504315</td>\n",
       "      <td>26.707835</td>\n",
       "      <td>Sobrepeso</td>\n",
       "    </tr>\n",
       "    <tr>\n",
       "      <th>9997</th>\n",
       "      <td>Female</td>\n",
       "      <td>162.224700</td>\n",
       "      <td>58.275377</td>\n",
       "      <td>22.143748</td>\n",
       "      <td>Peso Normal</td>\n",
       "    </tr>\n",
       "    <tr>\n",
       "      <th>9998</th>\n",
       "      <td>Female</td>\n",
       "      <td>175.346978</td>\n",
       "      <td>74.322166</td>\n",
       "      <td>24.172512</td>\n",
       "      <td>Peso Normal</td>\n",
       "    </tr>\n",
       "    <tr>\n",
       "      <th>9999</th>\n",
       "      <td>Female</td>\n",
       "      <td>157.338385</td>\n",
       "      <td>51.550324</td>\n",
       "      <td>20.823898</td>\n",
       "      <td>Peso Normal</td>\n",
       "    </tr>\n",
       "  </tbody>\n",
       "</table>\n",
       "<p>9997 rows × 5 columns</p>\n",
       "</div>"
      ],
      "text/plain": [
       "      Gender      Height      Weight        IMC Clasificación_IMC\n",
       "0       Male  187.571423  109.720985  31.185761          Obesidad\n",
       "1       Male  174.706036   73.622732  24.121044       Peso Normal\n",
       "2       Male  188.239668   96.497550  27.232906         Sobrepeso\n",
       "3       Male  182.196685   99.809504  30.067059          Obesidad\n",
       "4       Male  177.499761   93.598619  29.708033         Sobrepeso\n",
       "...      ...         ...         ...        ...               ...\n",
       "9995  Female  168.078536   62.041159  21.961166       Peso Normal\n",
       "9996  Female  170.350573   77.504315  26.707835         Sobrepeso\n",
       "9997  Female  162.224700   58.275377  22.143748       Peso Normal\n",
       "9998  Female  175.346978   74.322166  24.172512       Peso Normal\n",
       "9999  Female  157.338385   51.550324  20.823898       Peso Normal\n",
       "\n",
       "[9997 rows x 5 columns]"
      ]
     },
     "execution_count": 37,
     "metadata": {},
     "output_type": "execute_result"
    }
   ],
   "source": [
    "# Crear una nueva columna que clasifique a los individuos según su IMC \n",
    "df['IMC'] = df['Weight'] / ((df['Height'] / 100) ** 2)\n",
    "df['Clasificación_IMC'] = pd.cut(df['IMC'], bins=[0, 18.5, 24.9, 29.9, float('inf')], labels=['Bajo Peso', 'Peso Normal', 'Sobrepeso', 'Obesidad'])\n",
    "df"
   ]
  },
  {
   "cell_type": "markdown",
   "id": "55d177e4-96f4-4747-a721-ac3eb1acb673",
   "metadata": {},
   "source": [
    "## Parte 5: Exportar resultados\n"
   ]
  },
  {
   "cell_type": "code",
   "execution_count": 38,
   "id": "7da2ca51-f0c5-426d-8979-7a0ca384797a",
   "metadata": {
    "tags": []
   },
   "outputs": [],
   "source": [
    "df.to_csv(\"resultados_analisis_peso_altura.csv\", index=False)"
   ]
  }
 ],
 "metadata": {
  "kernelspec": {
   "display_name": "Python 3 (ipykernel)",
   "language": "python",
   "name": "python3"
  },
  "language_info": {
   "codemirror_mode": {
    "name": "ipython",
    "version": 3
   },
   "file_extension": ".py",
   "mimetype": "text/x-python",
   "name": "python",
   "nbconvert_exporter": "python",
   "pygments_lexer": "ipython3",
   "version": "3.11.5"
  }
 },
 "nbformat": 4,
 "nbformat_minor": 5
}
