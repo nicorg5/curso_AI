{
 "cells": [
  {
   "cell_type": "markdown",
   "id": "ee1878ab-cce1-48bb-ae59-c550ac767c69",
   "metadata": {
    "tags": []
   },
   "source": [
    "# Ejercicio: Análisis de calificaciones y rendimientos de películas"
   ]
  },
  {
   "cell_type": "markdown",
   "id": "984823ca-c4ec-4575-b0cb-4e02b7242801",
   "metadata": {},
   "source": [
    "- Objetivos:\n",
    "    - Realizar análisis estadísticos y manipulaciones de datos utilizando Numpy.\n",
    "    - Aplicar técnicas de preparación de datos para trabajar con tipos de datos numéricos y manejar valores faltantes."
   ]
  },
  {
   "cell_type": "markdown",
   "id": "9556e9de-02c8-460e-85cb-df6f5d7c186f",
   "metadata": {},
   "source": [
    "## Preparación de datos"
   ]
  },
  {
   "cell_type": "code",
   "execution_count": 2,
   "id": "f06fe678-af01-47ba-ba59-ffcac9724cc2",
   "metadata": {
    "tags": []
   },
   "outputs": [],
   "source": [
    "import pandas as pd\n",
    "import numpy as np"
   ]
  },
  {
   "cell_type": "code",
   "execution_count": 3,
   "id": "aa2c31a9-7077-44c7-9c90-c47bd414e75c",
   "metadata": {
    "tags": []
   },
   "outputs": [
    {
     "data": {
      "text/html": [
       "<div>\n",
       "<style scoped>\n",
       "    .dataframe tbody tr th:only-of-type {\n",
       "        vertical-align: middle;\n",
       "    }\n",
       "\n",
       "    .dataframe tbody tr th {\n",
       "        vertical-align: top;\n",
       "    }\n",
       "\n",
       "    .dataframe thead th {\n",
       "        text-align: right;\n",
       "    }\n",
       "</style>\n",
       "<table border=\"1\" class=\"dataframe\">\n",
       "  <thead>\n",
       "    <tr style=\"text-align: right;\">\n",
       "      <th></th>\n",
       "      <th>Rank</th>\n",
       "      <th>Title</th>\n",
       "      <th>Genre</th>\n",
       "      <th>Description</th>\n",
       "      <th>Director</th>\n",
       "      <th>Actors</th>\n",
       "      <th>Year</th>\n",
       "      <th>Runtime (Minutes)</th>\n",
       "      <th>Rating</th>\n",
       "      <th>Votes</th>\n",
       "      <th>Revenue (Millions)</th>\n",
       "      <th>Metascore</th>\n",
       "    </tr>\n",
       "  </thead>\n",
       "  <tbody>\n",
       "    <tr>\n",
       "      <th>0</th>\n",
       "      <td>1</td>\n",
       "      <td>Guardians of the Galaxy</td>\n",
       "      <td>Action,Adventure,Sci-Fi</td>\n",
       "      <td>A group of intergalactic criminals are forced ...</td>\n",
       "      <td>James Gunn</td>\n",
       "      <td>Chris Pratt, Vin Diesel, Bradley Cooper, Zoe S...</td>\n",
       "      <td>2014</td>\n",
       "      <td>121</td>\n",
       "      <td>8.1</td>\n",
       "      <td>757074</td>\n",
       "      <td>333.13</td>\n",
       "      <td>76.0</td>\n",
       "    </tr>\n",
       "    <tr>\n",
       "      <th>1</th>\n",
       "      <td>2</td>\n",
       "      <td>Prometheus</td>\n",
       "      <td>Adventure,Mystery,Sci-Fi</td>\n",
       "      <td>Following clues to the origin of mankind, a te...</td>\n",
       "      <td>Ridley Scott</td>\n",
       "      <td>Noomi Rapace, Logan Marshall-Green, Michael Fa...</td>\n",
       "      <td>2012</td>\n",
       "      <td>124</td>\n",
       "      <td>7.0</td>\n",
       "      <td>485820</td>\n",
       "      <td>126.46</td>\n",
       "      <td>65.0</td>\n",
       "    </tr>\n",
       "    <tr>\n",
       "      <th>2</th>\n",
       "      <td>3</td>\n",
       "      <td>Split</td>\n",
       "      <td>Horror,Thriller</td>\n",
       "      <td>Three girls are kidnapped by a man with a diag...</td>\n",
       "      <td>M. Night Shyamalan</td>\n",
       "      <td>James McAvoy, Anya Taylor-Joy, Haley Lu Richar...</td>\n",
       "      <td>2016</td>\n",
       "      <td>117</td>\n",
       "      <td>7.3</td>\n",
       "      <td>157606</td>\n",
       "      <td>138.12</td>\n",
       "      <td>62.0</td>\n",
       "    </tr>\n",
       "    <tr>\n",
       "      <th>3</th>\n",
       "      <td>4</td>\n",
       "      <td>Sing</td>\n",
       "      <td>Animation,Comedy,Family</td>\n",
       "      <td>In a city of humanoid animals, a hustling thea...</td>\n",
       "      <td>Christophe Lourdelet</td>\n",
       "      <td>Matthew McConaughey,Reese Witherspoon, Seth Ma...</td>\n",
       "      <td>2016</td>\n",
       "      <td>108</td>\n",
       "      <td>7.2</td>\n",
       "      <td>60545</td>\n",
       "      <td>270.32</td>\n",
       "      <td>59.0</td>\n",
       "    </tr>\n",
       "    <tr>\n",
       "      <th>4</th>\n",
       "      <td>5</td>\n",
       "      <td>Suicide Squad</td>\n",
       "      <td>Action,Adventure,Fantasy</td>\n",
       "      <td>A secret government agency recruits some of th...</td>\n",
       "      <td>David Ayer</td>\n",
       "      <td>Will Smith, Jared Leto, Margot Robbie, Viola D...</td>\n",
       "      <td>2016</td>\n",
       "      <td>123</td>\n",
       "      <td>6.2</td>\n",
       "      <td>393727</td>\n",
       "      <td>325.02</td>\n",
       "      <td>40.0</td>\n",
       "    </tr>\n",
       "    <tr>\n",
       "      <th>...</th>\n",
       "      <td>...</td>\n",
       "      <td>...</td>\n",
       "      <td>...</td>\n",
       "      <td>...</td>\n",
       "      <td>...</td>\n",
       "      <td>...</td>\n",
       "      <td>...</td>\n",
       "      <td>...</td>\n",
       "      <td>...</td>\n",
       "      <td>...</td>\n",
       "      <td>...</td>\n",
       "      <td>...</td>\n",
       "    </tr>\n",
       "    <tr>\n",
       "      <th>995</th>\n",
       "      <td>996</td>\n",
       "      <td>Secret in Their Eyes</td>\n",
       "      <td>Crime,Drama,Mystery</td>\n",
       "      <td>A tight-knit team of rising investigators, alo...</td>\n",
       "      <td>Billy Ray</td>\n",
       "      <td>Chiwetel Ejiofor, Nicole Kidman, Julia Roberts...</td>\n",
       "      <td>2015</td>\n",
       "      <td>111</td>\n",
       "      <td>6.2</td>\n",
       "      <td>27585</td>\n",
       "      <td>NaN</td>\n",
       "      <td>45.0</td>\n",
       "    </tr>\n",
       "    <tr>\n",
       "      <th>996</th>\n",
       "      <td>997</td>\n",
       "      <td>Hostel: Part II</td>\n",
       "      <td>Horror</td>\n",
       "      <td>Three American college students studying abroa...</td>\n",
       "      <td>Eli Roth</td>\n",
       "      <td>Lauren German, Heather Matarazzo, Bijou Philli...</td>\n",
       "      <td>2007</td>\n",
       "      <td>94</td>\n",
       "      <td>5.5</td>\n",
       "      <td>73152</td>\n",
       "      <td>17.54</td>\n",
       "      <td>46.0</td>\n",
       "    </tr>\n",
       "    <tr>\n",
       "      <th>997</th>\n",
       "      <td>998</td>\n",
       "      <td>Step Up 2: The Streets</td>\n",
       "      <td>Drama,Music,Romance</td>\n",
       "      <td>Romantic sparks occur between two dance studen...</td>\n",
       "      <td>Jon M. Chu</td>\n",
       "      <td>Robert Hoffman, Briana Evigan, Cassie Ventura,...</td>\n",
       "      <td>2008</td>\n",
       "      <td>98</td>\n",
       "      <td>6.2</td>\n",
       "      <td>70699</td>\n",
       "      <td>58.01</td>\n",
       "      <td>50.0</td>\n",
       "    </tr>\n",
       "    <tr>\n",
       "      <th>998</th>\n",
       "      <td>999</td>\n",
       "      <td>Search Party</td>\n",
       "      <td>Adventure,Comedy</td>\n",
       "      <td>A pair of friends embark on a mission to reuni...</td>\n",
       "      <td>Scot Armstrong</td>\n",
       "      <td>Adam Pally, T.J. Miller, Thomas Middleditch,Sh...</td>\n",
       "      <td>2014</td>\n",
       "      <td>93</td>\n",
       "      <td>5.6</td>\n",
       "      <td>4881</td>\n",
       "      <td>NaN</td>\n",
       "      <td>22.0</td>\n",
       "    </tr>\n",
       "    <tr>\n",
       "      <th>999</th>\n",
       "      <td>1000</td>\n",
       "      <td>Nine Lives</td>\n",
       "      <td>Comedy,Family,Fantasy</td>\n",
       "      <td>A stuffy businessman finds himself trapped ins...</td>\n",
       "      <td>Barry Sonnenfeld</td>\n",
       "      <td>Kevin Spacey, Jennifer Garner, Robbie Amell,Ch...</td>\n",
       "      <td>2016</td>\n",
       "      <td>87</td>\n",
       "      <td>5.3</td>\n",
       "      <td>12435</td>\n",
       "      <td>19.64</td>\n",
       "      <td>11.0</td>\n",
       "    </tr>\n",
       "  </tbody>\n",
       "</table>\n",
       "<p>1000 rows × 12 columns</p>\n",
       "</div>"
      ],
      "text/plain": [
       "     Rank                    Title                     Genre  \\\n",
       "0       1  Guardians of the Galaxy   Action,Adventure,Sci-Fi   \n",
       "1       2               Prometheus  Adventure,Mystery,Sci-Fi   \n",
       "2       3                    Split           Horror,Thriller   \n",
       "3       4                     Sing   Animation,Comedy,Family   \n",
       "4       5            Suicide Squad  Action,Adventure,Fantasy   \n",
       "..    ...                      ...                       ...   \n",
       "995   996     Secret in Their Eyes       Crime,Drama,Mystery   \n",
       "996   997          Hostel: Part II                    Horror   \n",
       "997   998   Step Up 2: The Streets       Drama,Music,Romance   \n",
       "998   999             Search Party          Adventure,Comedy   \n",
       "999  1000               Nine Lives     Comedy,Family,Fantasy   \n",
       "\n",
       "                                           Description              Director  \\\n",
       "0    A group of intergalactic criminals are forced ...            James Gunn   \n",
       "1    Following clues to the origin of mankind, a te...          Ridley Scott   \n",
       "2    Three girls are kidnapped by a man with a diag...    M. Night Shyamalan   \n",
       "3    In a city of humanoid animals, a hustling thea...  Christophe Lourdelet   \n",
       "4    A secret government agency recruits some of th...            David Ayer   \n",
       "..                                                 ...                   ...   \n",
       "995  A tight-knit team of rising investigators, alo...             Billy Ray   \n",
       "996  Three American college students studying abroa...              Eli Roth   \n",
       "997  Romantic sparks occur between two dance studen...            Jon M. Chu   \n",
       "998  A pair of friends embark on a mission to reuni...        Scot Armstrong   \n",
       "999  A stuffy businessman finds himself trapped ins...      Barry Sonnenfeld   \n",
       "\n",
       "                                                Actors  Year  \\\n",
       "0    Chris Pratt, Vin Diesel, Bradley Cooper, Zoe S...  2014   \n",
       "1    Noomi Rapace, Logan Marshall-Green, Michael Fa...  2012   \n",
       "2    James McAvoy, Anya Taylor-Joy, Haley Lu Richar...  2016   \n",
       "3    Matthew McConaughey,Reese Witherspoon, Seth Ma...  2016   \n",
       "4    Will Smith, Jared Leto, Margot Robbie, Viola D...  2016   \n",
       "..                                                 ...   ...   \n",
       "995  Chiwetel Ejiofor, Nicole Kidman, Julia Roberts...  2015   \n",
       "996  Lauren German, Heather Matarazzo, Bijou Philli...  2007   \n",
       "997  Robert Hoffman, Briana Evigan, Cassie Ventura,...  2008   \n",
       "998  Adam Pally, T.J. Miller, Thomas Middleditch,Sh...  2014   \n",
       "999  Kevin Spacey, Jennifer Garner, Robbie Amell,Ch...  2016   \n",
       "\n",
       "     Runtime (Minutes)  Rating   Votes  Revenue (Millions)  Metascore  \n",
       "0                  121     8.1  757074              333.13       76.0  \n",
       "1                  124     7.0  485820              126.46       65.0  \n",
       "2                  117     7.3  157606              138.12       62.0  \n",
       "3                  108     7.2   60545              270.32       59.0  \n",
       "4                  123     6.2  393727              325.02       40.0  \n",
       "..                 ...     ...     ...                 ...        ...  \n",
       "995                111     6.2   27585                 NaN       45.0  \n",
       "996                 94     5.5   73152               17.54       46.0  \n",
       "997                 98     6.2   70699               58.01       50.0  \n",
       "998                 93     5.6    4881                 NaN       22.0  \n",
       "999                 87     5.3   12435               19.64       11.0  \n",
       "\n",
       "[1000 rows x 12 columns]"
      ]
     },
     "execution_count": 3,
     "metadata": {},
     "output_type": "execute_result"
    }
   ],
   "source": [
    "# Lectura del dataset\n",
    "\n",
    "df_IMDB_movie_data = pd.read_csv(\"IMDB-Movie-Data.csv\")\n",
    "df_IMDB_movie_data"
   ]
  },
  {
   "cell_type": "code",
   "execution_count": 4,
   "id": "66ffa8b8-af5c-4c30-9caa-728c55a5056d",
   "metadata": {
    "tags": []
   },
   "outputs": [],
   "source": [
    "# Selección de las columnas relevantes\n",
    "\n",
    "columnas_relevantes = ['Title', 'Year', 'Runtime (Minutes)', 'Rating', 'Votes', 'Revenue (Millions)']\n",
    "df_columnas_relevantes = df_IMDB_movie_data[columnas_relevantes]"
   ]
  },
  {
   "cell_type": "code",
   "execution_count": 5,
   "id": "17cdd6e3-08d6-4903-b235-8d6ac605235d",
   "metadata": {
    "tags": []
   },
   "outputs": [],
   "source": [
    "# Convertir las columnas relevantes a un array de Numpy\n",
    "\n",
    "numpy_array_columnas_relevantes = df_columnas_relevantes.to_numpy()"
   ]
  },
  {
   "cell_type": "code",
   "execution_count": 6,
   "id": "a42e2b9c-732a-4564-8c67-6f7b53a133b5",
   "metadata": {
    "tags": []
   },
   "outputs": [],
   "source": [
    "# Manejo de los valores faltantes en 'Revenue (Millions)' reemplazándolos con la media de la columna\n",
    "\n",
    "#Primero se encuentran los índices de valores faltantes en 'Revenue (Millions)'\n",
    "missings_revenue_indices = np.isnan(numpy_array_columnas_relevantes[:, 5].astype(float))\n",
    "\n",
    "#Después se calcula la media de dicha columna, excluyendo esos valores faltantes\n",
    "mean_revenue_sin_missings = np.nanmean(numpy_array_columnas_relevantes[:, 5].astype(float))\n",
    "\n",
    "#Por último se reemplazan los valores faltantes con la media que se acaba de calcular\n",
    "numpy_array_columnas_relevantes[missings_revenue_indices, 5] = mean_revenue_sin_missings"
   ]
  },
  {
   "cell_type": "markdown",
   "id": "e6944a68-4aa5-4f90-b4c7-89cb0d9eca8c",
   "metadata": {},
   "source": [
    "## Análisis Estadístico con Numpy"
   ]
  },
  {
   "cell_type": "code",
   "execution_count": 7,
   "id": "6b8b8cb3-74e5-4cc5-ab5e-305b0a35bf57",
   "metadata": {
    "tags": []
   },
   "outputs": [
    {
     "name": "stdout",
     "output_type": "stream",
     "text": [
      "La calificación promedio de las películas es de: 6.723200000000003\n"
     ]
    }
   ],
   "source": [
    "# Calcular la calificación promedio de las películas\n",
    "calificacion_promedio = np.mean(numpy_array_columnas_relevantes[:, 3])\n",
    "print(f\"La calificación promedio de las películas es de: {calificacion_promedio}\")"
   ]
  },
  {
   "cell_type": "code",
   "execution_count": 24,
   "id": "ecad9358-9865-4b85-943b-b0c9660412b8",
   "metadata": {
    "tags": []
   },
   "outputs": [
    {
     "name": "stdout",
     "output_type": "stream",
     "text": [
      "La película con más duración es: Grindhouse con una duración de 191 min\n"
     ]
    }
   ],
   "source": [
    "# Encontrar la película con la duración más larga\n",
    "indice_pelicula_mas_larga = np.argmax(numpy_array_columnas_relevantes[:, 2].astype(float))\n",
    "pelicula_mas_larga = numpy_array_columnas_relevantes[indice_pelicula_mas_larga, 0]\n",
    "minutos_pelicula_mas_larga = numpy_array_columnas_relevantes[indice_pelicula_mas_larga, 2]\n",
    "print(f\"La película con más duración es {pelicula_mas_larga} con una duración de {minutos_pelicula_mas_larga} min\")"
   ]
  },
  {
   "cell_type": "code",
   "execution_count": 9,
   "id": "a9d4833f-9a6f-467b-b562-24473c44bc3a",
   "metadata": {
    "tags": []
   },
   "outputs": [
    {
     "name": "stdout",
     "output_type": "stream",
     "text": [
      "El ingreso promedio es de: 82.95637614678898\n",
      "La mediana del ingreso es de: 60.375\n"
     ]
    }
   ],
   "source": [
    "# Calcular el ingreso promedio y la mediana de los ingresos de las películas\n",
    "ingreso_promedio = np.mean(numpy_array_columnas_relevantes[:, 5].astype(float))\n",
    "ingreso_mediana = np.median(numpy_array_columnas_relevantes[:, 5].astype(float))\n",
    "print(f\"El ingreso promedio es de: {ingreso_promedio}\")\n",
    "print(f\"La mediana del ingreso es de: {ingreso_mediana}\")"
   ]
  },
  {
   "cell_type": "markdown",
   "id": "62a2b72c-0bfc-4283-935f-8383f7c94327",
   "metadata": {},
   "source": [
    "## Manipulación de Datos"
   ]
  },
  {
   "cell_type": "code",
   "execution_count": 10,
   "id": "25104207-bbca-478e-b724-d731c02588c2",
   "metadata": {
    "tags": []
   },
   "outputs": [
    {
     "name": "stdout",
     "output_type": "stream",
     "text": [
      "Las películas de los últimos 10 años son: ['Guardians of the Galaxy' 'Split' 'Sing' 'Suicide Squad' 'The Great Wall'\n",
      " 'La La Land' 'Mindhorn' 'The Lost City of Z' 'Passengers'\n",
      " 'Fantastic Beasts and Where to Find Them' 'Hidden Figures' 'Rogue One'\n",
      " 'Moana' 'Colossal' 'The Secret Life of Pets' 'Hacksaw Ridge'\n",
      " 'Jason Bourne' 'Lion' 'Arrival' 'Gold' 'Manchester by the Sea'\n",
      " 'Hounds of Love' 'Trolls' 'Independence Day: Resurgence'\n",
      " 'Paris pieds nus' 'Bahubali: The Beginning' 'Dead Awake' 'Bad Moms'\n",
      " \"Assassin's Creed\" 'Why Him?' 'Nocturnal Animals' 'X-Men: Apocalypse'\n",
      " 'Deadpool' 'Resident Evil: The Final Chapter'\n",
      " 'Captain America: Civil War' 'Interstellar' 'Doctor Strange'\n",
      " 'The Magnificent Seven' 'Sausage Party' 'Moonlight'\n",
      " \"Don't Fuck in the Woods\" 'The Founder' 'Lowriders' 'Miss Sloane'\n",
      " 'Fallen' 'Star Trek Beyond' 'The Last Face'\n",
      " 'Star Wars: Episode VII - The Force Awakens' 'Underworld: Blood Wars'\n",
      " \"Mother's Day\" 'John Wick' 'Silence' \"Don't Breathe\" 'Me Before You'\n",
      " 'Their Finest' 'Sully' 'Batman v Superman: Dawn of Justice'\n",
      " 'The Autopsy of Jane Doe' 'The Girl on the Train' 'Fifty Shades of Grey'\n",
      " 'Kingsman: The Secret Service' 'Patriots Day' 'Mad Max: Fury Road'\n",
      " 'Wakefield' 'Deepwater Horizon' 'The Promise' 'Allied' 'A Monster Calls'\n",
      " 'Collateral Beauty' 'Zootopia' 'Ghostbusters' 'Captain Fantastic'\n",
      " 'Gone Girl' 'Furious Seven' 'Jurassic World' 'Live by Night'\n",
      " 'The Hateful Eight' 'The Accountant' 'Warcraft' 'War Dogs'\n",
      " 'Avengers: Age of Ultron' 'The Nice Guys' 'Kimi no na wa' 'The Void'\n",
      " 'Personal Shopper' 'Legend' 'The Martian' 'Contratiempo'\n",
      " 'The Man from U.N.C.L.E.' 'Hell or High Water' 'The Comedian'\n",
      " 'The Legend of Tarzan' 'All We Had' 'Ex Machina' 'The Belko Experiment'\n",
      " 'The Bad Batch' 'Office Christmas Party' 'The Neon Demon' 'Dangal'\n",
      " '10 Cloverfield Lane' 'Finding Dory'\n",
      " \"Miss Peregrine's Home for Peculiar Children\" 'Divergent'\n",
      " 'Mike and Dave Need Wedding Dates' 'Boyka: Undisputed IV'\n",
      " 'The Jungle Book' 'Transformers: Age of Extinction' 'Nerve'\n",
      " 'The Revenant' 'Fences' 'Into the Woods' 'The Shallows' 'Whiplash'\n",
      " 'Brimstone' 'The Big Short' 'Room' 'Ah-ga-ssi' 'The Edge of Seventeen'\n",
      " 'Inferno' 'The BFG' 'White Girl' 'Sicario'\n",
      " 'Twin Peaks: The Missing Pieces' 'Mine' 'Free Fire'\n",
      " 'X-Men: Days of Future Past' 'Jack Reacher: Never Go Back'\n",
      " 'Now You See Me 2' 'Woman in Gold' '13 Hours' 'Spectre' 'Nightcrawler'\n",
      " 'Kubo and the Two Strings' 'Beyond the Gates' 'Tomorrowland'\n",
      " 'Dawn of the Planet of the Apes' 'The Conjuring 2' 'Ant-Man'\n",
      " \"Bridget Jones's Baby\" 'The VVitch: A New-England Folktale' 'Cinderella'\n",
      " 'Realive' 'Forushande' 'Love' \"Billy Lynn's Long Halftime Walk\"\n",
      " 'Crimson Peak' 'Trainwreck' 'The Light Between Oceans' 'Below Her Mouth'\n",
      " 'Spotlight' 'Morgan' 'Hacker' 'The Imitation Game' 'Central Intelligence'\n",
      " 'Edge of Tomorrow' 'A Cure for Wellness' 'Snowden' 'Allegiant' 'Raw (II)'\n",
      " 'Paterson' 'The Girl with All the Gifts' 'San Andreas' 'Gods of Egypt'\n",
      " 'Captain America: The Winter Soldier' 'Monster Trucks' 'A Dark Song'\n",
      " 'Hardcore Henry' 'It Follows' 'American Honey' 'The Lobster' 'Maleficent'\n",
      " 'Rupture' 'A Kind of Murder' 'Mission: Impossible - Rogue Nation'\n",
      " \"The Huntsman: Winter's War\" 'Jackie' 'The Disappointments Room'\n",
      " 'The Grand Budapest Hotel' 'Fury' 'Inside Out' 'Rock Dog'\n",
      " 'Terminator Genisys' '20th Century Women' 'Spy' 'Bonjour Anne'\n",
      " 'Straight Outta Compton' 'The Amazing Spider-Man 2' 'Lights Out'\n",
      " 'Norman: The Moderate Rise and Tragic Fall of a New York Fixer'\n",
      " 'Birdman or (The Unexpected Virtue of Ignorance)' 'Dear White People'\n",
      " 'Teenage Mutant Ninja Turtles: Out of the Shadows' 'Knock Knock'\n",
      " 'Dirty Grandpa' 'Satanic' 'Sing Street' 'Ballerina' '22 Jump Street'\n",
      " 'Everybody Wants Some!!' 'The Danish Girl' 'Hercules'\n",
      " 'Keeping Up with the Joneses' 'Jupiter Ascending' 'Masterminds' 'Iris'\n",
      " 'Busanhaeng' 'Neighbors 2: Sorority Rising' 'The Exception' 'The Choice'\n",
      " 'Ice Age: Collision Course' 'The Infiltrator' 'The Equalizer'\n",
      " 'Inherent Vice' 'Alice Through the Looking Glass' 'Vincent N Roxxy'\n",
      " 'How to Be Single' 'The Babadook'\n",
      " 'The Hobbit: The Battle of the Five Armies' 'The 5th Wave'\n",
      " 'The Stakelander' 'The Visit' 'Lovesong' 'The Last Witch Hunter'\n",
      " 'Victor Frankenstein' 'A Street Cat Named Bob' 'Green Room' 'Blackhat'\n",
      " 'Storks' 'American Sniper' 'Before I Wake' 'Tracktown'\n",
      " 'The Fault in Our Stars' 'Blended' \"Pete's Dragon\" 'Lady Macbeth' 'Joy'\n",
      " 'The Dressmaker' 'Café Society' 'Insurgent' 'Seventh Son'\n",
      " 'Demain tout commence' 'The Theory of Everything' 'Clown' 'Hail, Caesar!'\n",
      " 'American Wrestler: The Wizard' 'Ben-Hur' 'Sleight' 'The Maze Runner'\n",
      " 'Criminal' 'Florence Foster Jenkins' 'Collide' 'Black Mass' 'Creed'\n",
      " 'Swiss Army Man' 'The Expendables 3' 'What We Do in the Shadows'\n",
      " 'Southpaw' 'Hush' 'Bridge of Spies' 'The Lego Movie' 'Everest' 'Pixels'\n",
      " 'Keanu' 'The Gunman' 'Steve Jobs' 'Whisky Galore' 'The Age of Adaline'\n",
      " 'Absolutely Anything' 'Minions' 'The Black Room' 'The Best of Me'\n",
      " 'The Invitation' 'The Hunger Games: Mockingjay - Part 2' 'Vacation'\n",
      " 'Pitch Perfect 2' 'Elle' 'Mechanic: Resurrection' 'Tusk'\n",
      " \"The Headhunter's Calling\" 'Pride and Prejudice and Zombies'\n",
      " '300: Rise of an Empire' 'London Has Fallen'\n",
      " 'Sin City: A Dame to Kill For' 'The Purge: Election Year' 'Zoolander 2'\n",
      " 'Let Me Make You a Martyr' 'The Longest Ride' 'Folk Hero & Funny Guy'\n",
      " 'Brooklyn' 'The Thinning' 'Hunt for the Wilderpeople' 'Big Hero 6'\n",
      " 'Demolition' 'Get Hard' 'The Boy' 'Denial' 'Predestination' 'Goosebumps'\n",
      " 'Eddie the Eagle' 'Pet' 'Paint It Black' 'Macbeth' 'The Giver' 'Triple 9'\n",
      " 'Perfetti sconosciuti' 'Angry Birds' 'Focus' 'Point Break'\n",
      " 'Maze Runner: The Scorch Trials' 'Carol' 'Imperium' 'Youth'\n",
      " 'City of Tiny Lights' 'Bone Tomahawk' 'Magic Mike XXL'\n",
      " 'Exodus: Gods and Kings' 'Chappie' 'Anthropoid' 'Viking'\n",
      " 'Whiskey Tango Foxtrot' 'Birth of the Dragon' 'Godzilla' 'Friend Request'\n",
      " 'Lucy' 'A Quiet Passion' 'Need for Speed' 'The Do-Over' 'True Crimes'\n",
      " 'American Pastoral' 'Spectral' 'Zipper' 'Midnight Special'\n",
      " \"Don't Think Twice\" 'Chuck' 'I, Daniel Blake' 'Loving' 'Fantastic Four'\n",
      " 'The Survivalist' 'Colonia' 'The Boy Next Door' 'The Gift'\n",
      " 'Dracula Untold' 'In the Heart of the Sea' 'Pan'\n",
      " 'A Hologram for the King' 'Money Monster' 'The Other Woman' 'The Intern'\n",
      " 'Bleed for This' 'The Finest Hours' 'Kickboxer: Vengeance' 'Sex Tape'\n",
      " 'Unbroken' 'The Drop' \"Daddy's Home\" 'Grimsby' 'Blood Father'\n",
      " 'Kung Fu Panda 3' 'The Rise of the Krays' 'Handsome Devil' 'Mommy'\n",
      " 'Toni Erdmann' 'Bastille Day' \"2307: Winter's Dream\"\n",
      " 'Free State of Jones' 'Mr. Right' 'Dope' 'Taken 3' 'The Escort'\n",
      " 'The Whole Truth' 'Night at the Museum: Secret of the Tomb'\n",
      " 'The Interview' 'Unfriended' 'Relatos salvajes' 'The Ridiculous 6'\n",
      " 'Frantz' 'Viral' 'Burnt' 'Tall Men' 'Vampire Academy' 'Solace'\n",
      " 'Popstar: Never Stop Never Stopping' 'The Levelling' 'Boyhood'\n",
      " 'Teenage Mutant Ninja Turtles' 'The Daughter' \"L'avenir\" 'Regression'\n",
      " 'Ted 2' 'Child 44' 'War on Everyone' 'Love, Rosie' 'The DUFF'\n",
      " 'The Age of Shadows' 'The Hunger Games: Mockingjay - Part 1'\n",
      " 'Love & Friendship' 'Dear Zindagi' 'Genius' 'Pompeii' 'I Origins'\n",
      " 'The Matchbreaker' 'The Neighbor' 'The Hollars' 'The Judge'\n",
      " 'La tortue rouge' 'The Book of Life' 'Entourage' 'Noah' 'Neighbors'\n",
      " 'Wild' 'Blair Witch' 'The Guest' 'This Beautiful Fantastic' 'Mr. Church'\n",
      " \"The Blackcoat's Daughter\" 'Knight of Cups' 'The Boss' 'Hands of Stone'\n",
      " 'We Are Your Friends' 'A Million Ways to Die in the West'\n",
      " 'Only for One Night' \"Rules Don't Apply\" 'Ouija: Origin of Evil'\n",
      " 'Lída Baarová' 'Lavender' 'Deuces' 'Chef' 'Eye in the Sky' 'PK'\n",
      " 'Paper Towns' 'High-Rise' 'The Assignment' '31' 'Final Girl'\n",
      " 'Chalk It Up' 'The Man Who Knew Infinity' 'Self/less' 'Tramps'\n",
      " 'Before We Go' 'The Secret Scripture' 'Max Steel' 'Hotel Transylvania 2'\n",
      " 'Sisters' 'Ma vie de Courgette' 'A Walk Among the Tombstones'\n",
      " 'Yoga Hosers' 'Jack Ryan: Shadow Recruit' 'The Gambler'\n",
      " 'A United Kingdom' 'USS Indianapolis: Men of Courage' 'Turbo Kid' 'I.T.'\n",
      " 'Annabelle' 'Wolves at the Door' 'Suite Française' 'Christine' 'Man Down'\n",
      " 'Crawlspace' 'Shut In' 'The Warriors Gate' 'The Loft' 'Bacalaureat'\n",
      " 'Exposed' 'Maudie' 'Horrible Bosses 2' 'A Bigger Splash' 'Home'\n",
      " 'Mean Dreams' 'Barbershop: The Next Cut' 'Koe no katachi'\n",
      " 'Alexander and the Terrible, Horrible, No Good, Very Bad Day'\n",
      " 'The 9th Life of Louis Drax' 'Indignation'\n",
      " 'The Stanford Prison Experiment' 'En man som heter Ove' 'Shin Gojira'\n",
      " 'Transcendence' 'Equals' 'The Intent' 'Concussion'\n",
      " 'Sleeping with Other People' 'How to Train Your Dragon 2' 'RoboCop'\n",
      " 'In Dubious Battle' 'Hello, My Name Is Doris'\n",
      " 'Il racconto dei racconti - Tale of Tales'\n",
      " 'I Am the Pretty Thing That Lives in the House' 'Goksung'\n",
      " 'Scouts Guide to the Zombie Apocalypse' 'No Escape' 'The Sea of Trees'\n",
      " 'Good Kids' 'If I Stay' 'The Ticket' 'Detour' 'The Love Witch'\n",
      " 'The Siege of Jadotville' 'Transpecos' 'King Cobra' 'Kicks'\n",
      " 'Me and Earl and the Dying Girl' 'That Awkward Moment' '3 Days to Kill'\n",
      " 'Into the Forest' 'Custody' \"L'odyssée\" 'The Walk' 'Wrecker'\n",
      " 'Queen of Katwe' 'My Big Fat Greek Wedding 2' 'Dark Places'\n",
      " 'Amateur Night' \"It's Only the End of the World\" 'Miracles from Heaven'\n",
      " 'Annie' \"Let's Be Cops\" 'Max' 'Endless Love' 'Selma'\n",
      " 'Secret in Their Eyes' 'Search Party' 'Nine Lives']\n"
     ]
    }
   ],
   "source": [
    "# Crear un subconjunto de datos con películas lanzadas en los últimos 10 años\n",
    "\n",
    "#Primero se obtiene el año actual\n",
    "import datetime\n",
    "año_actual = datetime.datetime.now().year\n",
    "\n",
    "#Después se alcula el año mínimo para las películas lanzadas en los últimos 10 años\n",
    "diez_años_atras = año_actual - 10\n",
    "\n",
    "# Por último se filtra las películas lanzadas en los últimos 10 años\n",
    "peliculas_ultimos_10_años = numpy_array_columnas_relevantes[numpy_array_columnas_relevantes[:, 1] >= diez_años_atras]\n",
    "titulos_peliculas_ultimos_10_años = peliculas_ultimos_10_años[:,0]\n",
    "print(f\"Las películas de los últimos 10 años son: {titulos_peliculas_ultimos_10_años}\")"
   ]
  },
  {
   "cell_type": "code",
   "execution_count": 12,
   "id": "124ea378-d811-41f7-ab40-f91b41770157",
   "metadata": {},
   "outputs": [
    {
     "name": "stdout",
     "output_type": "stream",
     "text": [
      "La calificación promedio de las películas de los últimos 10 años es de: 6.552298850574712\n"
     ]
    }
   ],
   "source": [
    "# Calcular el promedio de votos para este subconjunto.\n",
    "\n",
    "peliculas_ultimos_10_años_calificacion_promedio = np.mean(peliculas_ultimos_10_años[:, 3])\n",
    "print(f\"La calificación promedio de las películas de los últimos 10 años es de: {peliculas_ultimos_10_años_calificacion_promedio}\")"
   ]
  },
  {
   "cell_type": "markdown",
   "id": "e9722fd7-e226-4701-b569-78689a8bacbd",
   "metadata": {},
   "source": [
    "## Correlación"
   ]
  },
  {
   "cell_type": "code",
   "execution_count": 18,
   "id": "0271c419-a359-461b-a460-8d73a811986a",
   "metadata": {
    "tags": []
   },
   "outputs": [
    {
     "data": {
      "text/plain": [
       "0.18952736366192613"
      ]
     },
     "execution_count": 18,
     "metadata": {},
     "output_type": "execute_result"
    }
   ],
   "source": [
    "# Evaluar si hay una correlación entre la calificación de IMDb y los ingresos de las películas. Represéntalo con matplotlib.pyplot\n",
    "\n",
    "#cálculo de la correlación\n",
    "correlacion = np.corrcoef(numpy_array_columnas_relevantes[:, 3].astype(float),numpy_array_columnas_relevantes[:, 5].astype(float))[0, 1]\n",
    "correlacion"
   ]
  },
  {
   "cell_type": "markdown",
   "id": "c60e9e99-6f1a-4682-a457-0e94935a0dd6",
   "metadata": {},
   "source": [
    "Es una correlación moderada. A medida que aumenta la calificación IMDb, aumentan ligeramente los ingresos de las películas"
   ]
  },
  {
   "cell_type": "code",
   "execution_count": 17,
   "id": "5bc66bb6-896e-4605-81f8-82a255c66e71",
   "metadata": {
    "tags": []
   },
   "outputs": [
    {
     "data": {
      "image/png": "[encoded data removed]",
      "text/plain": [
       "<Figure size 640x480 with 1 Axes>"
      ]
     },
     "metadata": {},
     "output_type": "display_data"
    }
   ],
   "source": [
    "#representación\n",
    "#import matplotlib as plt\n",
    "import matplotlib.pyplot as plt\n",
    "\n",
    "plt.scatter(numpy_array_columnas_relevantes[:, 3].astype(float),numpy_array_columnas_relevantes[:, 5].astype(float))\n",
    "plt.title('Correlación entre la calificación de IMDb y los ingresos de las películas')\n",
    "plt.xlabel('Calificación IMDb')\n",
    "plt.ylabel('Ingresos (Millones)')\n",
    "plt.show()"
   ]
  }
 ],
 "metadata": {
  "kernelspec": {
   "display_name": "Python 3 (ipykernel)",
   "language": "python",
   "name": "python3"
  },
  "language_info": {
   "codemirror_mode": {
    "name": "ipython",
    "version": 3
   },
   "file_extension": ".py",
   "mimetype": "text/x-python",
   "name": "python",
   "nbconvert_exporter": "python",
   "pygments_lexer": "ipython3",
   "version": "3.11.5"
  }
 },
 "nbformat": 4,
 "nbformat_minor": 5
}
