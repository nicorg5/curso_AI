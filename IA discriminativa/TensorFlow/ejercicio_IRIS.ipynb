{
 "cells": [
  {
   "cell_type": "markdown",
   "id": "f26852af-1ebc-4786-8588-02d19f43cf3f",
   "metadata": {},
   "source": [
    "# Ejercicio – Trabajar con Tensorflow y el dataset IRIS"
   ]
  },
  {
   "cell_type": "markdown",
   "id": "0992a3e3-8968-4a08-ac96-d640c62699c0",
   "metadata": {},
   "source": [
    "**Importar Bibliotecas: Importa TensorFlow, NumPy, y sklearn para cargar el dataset de Iris.**\n",
    "\n",
    "**Cargar el Dataset de Iris**\n",
    "Utiliza sklearn para cargar el dataset de Iris. Este dataset contiene medidas de las características de diferentes especies de flores de Iris.\n",
    "  \n",
    "**Preprocesamiento de Datos**\n",
    "Divide los datos en conjuntos de entrenamiento y prueba. Normaliza los datos si es necesario.\n",
    "  \n",
    "**Crear el Modelo**\n",
    "Construye un modelo de red neuronal utilizando tf.keras. Un modelo simple puede tener una o dos capas densas.\n",
    "\n",
    "**Compilar el Modelo**\n",
    "Compila el modelo con un optimizador (como 'adam'), una función de pérdida (como 'sparse_categorical_crossentropy' para clasificación multiclase), y métricas (como 'accuracy').\n",
    "\n",
    "**Entrenar el Modelo**\n",
    "Entrena el modelo con los datos de entrenamiento. Ajusta el número de épocas según sea necesario.\n",
    "\n",
    "**Evaluar el Modelo**\n",
    "Evalúa el rendimiento del modelo utilizando el conjunto de datos de prueba.\n",
    "\n",
    "**Realizar Predicciones**\n",
    "Usa el modelo para hacer predicciones sobre nuevos datos y compara los resultados con las etiquetas conocidas."
   ]
  },
  {
   "cell_type": "markdown",
   "id": "64ce8023-3736-47b8-ba63-b2f9bc6bf5cb",
   "metadata": {},
   "source": [
    "****Etiquetas del DataSet****\n",
    "\n",
    "- Longitud del Sépalo (Sepal Length): Representada por el primer número, en este caso, 5.1 cm.\n",
    "- Ancho del Sépalo (Sepal Width): Representada por el segundo número, en este caso, 3.5 cm.\n",
    "- Longitud del Pétalo (Petal Length): Representada por el tercer número, en este caso, 1.4 cm.\n",
    "- Ancho del Pétalo (Petal Width): Representada por el cuarto número, en este caso, 0.2 cm.\n"
   ]
  },
  {
   "cell_type": "code",
   "execution_count": 13,
   "id": "0057a7f2-2888-4b47-99a7-cbcd1d311ec2",
   "metadata": {},
   "outputs": [],
   "source": [
    "import tensorflow as tf\n",
    "from sklearn import datasets\n",
    "from sklearn.model_selection import train_test_split \n",
    "from sklearn.preprocessing import OneHotEncoder \n",
    "import numpy as np"
   ]
  },
  {
   "cell_type": "markdown",
   "id": "3b044afd-f0fb-49aa-9579-a0022a126837",
   "metadata": {},
   "source": [
    "## Paso 1: Cargar el Dataset de Iris"
   ]
  },
  {
   "cell_type": "code",
   "execution_count": 31,
   "id": "0d2d886b-c3eb-4055-a497-a1512ff401d9",
   "metadata": {},
   "outputs": [],
   "source": [
    "# Cargar dataset de Iris\n",
    "iris = datasets.load_iris()\n",
    "X = iris.data\n",
    "y = iris.target.reshape(-1, 1)"
   ]
  },
  {
   "cell_type": "markdown",
   "id": "0cb5aca1-6e26-4142-97dc-3226aa44f3d4",
   "metadata": {},
   "source": [
    "## Paso 2: Preprocesamiento de Datos"
   ]
  },
  {
   "cell_type": "code",
   "execution_count": 32,
   "id": "08231c40-0d7e-4d71-9797-9e1b98abe92d",
   "metadata": {},
   "outputs": [
    {
     "name": "stderr",
     "output_type": "stream",
     "text": [
      "/Users/n.c.rodriguez/anaconda3/lib/python3.11/site-packages/sklearn/preprocessing/_encoders.py:868: FutureWarning: `sparse` was renamed to `sparse_output` in version 1.2 and will be removed in 1.4. `sparse_output` is ignored unless you leave `sparse` to its default value.\n",
      "  warnings.warn(\n"
     ]
    }
   ],
   "source": [
    "# Uso del OneHotEncoder para las etiquetas\n",
    "encoder = OneHotEncoder(sparse=False)\n",
    "y_encoded = encoder.fit_transform(y)"
   ]
  },
  {
   "cell_type": "code",
   "execution_count": 33,
   "id": "12db674c-776f-4b79-b0a6-e658df9c3d4b",
   "metadata": {},
   "outputs": [],
   "source": [
    "# Dividir en conjunto de entrenamiento y prueba\n",
    "X_train, X_test, y_train, y_test = train_test_split(X, y_encoded, test_size=0.3)"
   ]
  },
  {
   "cell_type": "markdown",
   "id": "212dcb19-47a4-4043-8af6-728acf3baf0b",
   "metadata": {},
   "source": [
    "## Paso 3: Crear el Modelo"
   ]
  },
  {
   "cell_type": "code",
   "execution_count": 34,
   "id": "3066f407-ad2b-4946-8335-946ef4b4b228",
   "metadata": {},
   "outputs": [],
   "source": [
    "# Se crea un modelo de red neuronal utilizando la API Sequential de TensorFlow de Keras\n",
    "model = tf.keras.Sequential([\n",
    "    tf.keras.layers.Dense(10, activation='relu', input_shape=(4,)),  # 4 características en el conjunto de datos de Iris\n",
    "    tf.keras.layers.Dense(3, activation='softmax')  # 3 clases en el conjunto de datos de Iris\n",
    "])"
   ]
  },
  {
   "cell_type": "markdown",
   "id": "9b54f6cc-324b-401c-ab30-b34f0111f5ad",
   "metadata": {},
   "source": [
    "## Paso 4: Compilar el Modelo"
   ]
  },
  {
   "cell_type": "code",
   "execution_count": 35,
   "id": "e25928e0-f2bf-435f-abc2-fa25bf53e91d",
   "metadata": {},
   "outputs": [],
   "source": [
    "# Se compila el modelo\n",
    "model.compile(optimizer='adam',\n",
    "              loss='categorical_crossentropy',  # Cambiado para soportar OneHotEncoded labels\n",
    "              metrics=['accuracy'])"
   ]
  },
  {
   "cell_type": "markdown",
   "id": "b3c45136-3b98-451b-8022-b06c10eb0955",
   "metadata": {},
   "source": [
    "## Paso 5: Entrenar el modelo"
   ]
  },
  {
   "cell_type": "code",
   "execution_count": 36,
   "id": "47def9bd-c1be-46b3-b951-fca3d1308142",
   "metadata": {},
   "outputs": [
    {
     "name": "stdout",
     "output_type": "stream",
     "text": [
      "Epoch 1/50\n",
      "12/12 [==============================] - 0s 5ms/step - loss: 2.5074 - accuracy: 0.3404 - val_loss: 2.6603 - val_accuracy: 0.2727\n",
      "Epoch 2/50\n",
      "12/12 [==============================] - 0s 979us/step - loss: 2.2330 - accuracy: 0.3404 - val_loss: 2.3497 - val_accuracy: 0.2727\n",
      "Epoch 3/50\n",
      "12/12 [==============================] - 0s 1ms/step - loss: 1.9533 - accuracy: 0.3404 - val_loss: 2.0864 - val_accuracy: 0.2727\n",
      "Epoch 4/50\n",
      "12/12 [==============================] - 0s 1ms/step - loss: 1.7552 - accuracy: 0.3404 - val_loss: 1.8329 - val_accuracy: 0.2727\n",
      "Epoch 5/50\n",
      "12/12 [==============================] - 0s 1ms/step - loss: 1.5772 - accuracy: 0.3404 - val_loss: 1.6514 - val_accuracy: 0.2727\n",
      "Epoch 6/50\n",
      "12/12 [==============================] - 0s 1ms/step - loss: 1.4585 - accuracy: 0.3404 - val_loss: 1.5397 - val_accuracy: 0.2727\n",
      "Epoch 7/50\n",
      "12/12 [==============================] - 0s 1ms/step - loss: 1.4006 - accuracy: 0.3085 - val_loss: 1.4660 - val_accuracy: 0.1818\n",
      "Epoch 8/50\n",
      "12/12 [==============================] - 0s 1ms/step - loss: 1.3551 - accuracy: 0.2021 - val_loss: 1.4259 - val_accuracy: 0.1818\n",
      "Epoch 9/50\n",
      "12/12 [==============================] - 0s 1ms/step - loss: 1.3322 - accuracy: 0.1064 - val_loss: 1.3838 - val_accuracy: 0.0000e+00\n",
      "Epoch 10/50\n",
      "12/12 [==============================] - 0s 1ms/step - loss: 1.3049 - accuracy: 0.1064 - val_loss: 1.3559 - val_accuracy: 0.0000e+00\n",
      "Epoch 11/50\n",
      "12/12 [==============================] - 0s 1ms/step - loss: 1.2809 - accuracy: 0.1277 - val_loss: 1.3334 - val_accuracy: 0.0909\n",
      "Epoch 12/50\n",
      "12/12 [==============================] - 0s 2ms/step - loss: 1.2560 - accuracy: 0.1170 - val_loss: 1.3097 - val_accuracy: 0.1818\n",
      "Epoch 13/50\n",
      "12/12 [==============================] - 0s 1ms/step - loss: 1.2339 - accuracy: 0.1489 - val_loss: 1.2848 - val_accuracy: 0.0909\n",
      "Epoch 14/50\n",
      "12/12 [==============================] - 0s 1ms/step - loss: 1.2129 - accuracy: 0.0957 - val_loss: 1.2588 - val_accuracy: 0.0909\n",
      "Epoch 15/50\n",
      "12/12 [==============================] - 0s 1ms/step - loss: 1.1929 - accuracy: 0.1277 - val_loss: 1.2378 - val_accuracy: 0.0909\n",
      "Epoch 16/50\n",
      "12/12 [==============================] - 0s 1ms/step - loss: 1.1754 - accuracy: 0.1915 - val_loss: 1.2197 - val_accuracy: 0.1818\n",
      "Epoch 17/50\n",
      "12/12 [==============================] - 0s 1ms/step - loss: 1.1564 - accuracy: 0.1702 - val_loss: 1.1938 - val_accuracy: 0.0909\n",
      "Epoch 18/50\n",
      "12/12 [==============================] - 0s 966us/step - loss: 1.1368 - accuracy: 0.1915 - val_loss: 1.1790 - val_accuracy: 0.1818\n",
      "Epoch 19/50\n",
      "12/12 [==============================] - 0s 994us/step - loss: 1.1220 - accuracy: 0.1702 - val_loss: 1.1577 - val_accuracy: 0.1818\n",
      "Epoch 20/50\n",
      "12/12 [==============================] - 0s 1ms/step - loss: 1.1033 - accuracy: 0.2021 - val_loss: 1.1416 - val_accuracy: 0.1818\n",
      "Epoch 21/50\n",
      "12/12 [==============================] - 0s 1ms/step - loss: 1.0866 - accuracy: 0.2234 - val_loss: 1.1265 - val_accuracy: 0.1818\n",
      "Epoch 22/50\n",
      "12/12 [==============================] - 0s 1ms/step - loss: 1.0702 - accuracy: 0.3085 - val_loss: 1.1107 - val_accuracy: 0.1818\n",
      "Epoch 23/50\n",
      "12/12 [==============================] - 0s 910us/step - loss: 1.0557 - accuracy: 0.3191 - val_loss: 1.0917 - val_accuracy: 0.1818\n",
      "Epoch 24/50\n",
      "12/12 [==============================] - 0s 1ms/step - loss: 1.0422 - accuracy: 0.3511 - val_loss: 1.0759 - val_accuracy: 0.2727\n",
      "Epoch 25/50\n",
      "12/12 [==============================] - 0s 1ms/step - loss: 1.0254 - accuracy: 0.3404 - val_loss: 1.0654 - val_accuracy: 0.2727\n",
      "Epoch 26/50\n",
      "12/12 [==============================] - 0s 984us/step - loss: 1.0105 - accuracy: 0.3511 - val_loss: 1.0460 - val_accuracy: 0.2727\n",
      "Epoch 27/50\n",
      "12/12 [==============================] - 0s 890us/step - loss: 0.9963 - accuracy: 0.3404 - val_loss: 1.0331 - val_accuracy: 0.2727\n",
      "Epoch 28/50\n",
      "12/12 [==============================] - 0s 1ms/step - loss: 0.9805 - accuracy: 0.3404 - val_loss: 1.0176 - val_accuracy: 0.2727\n",
      "Epoch 29/50\n",
      "12/12 [==============================] - 0s 1ms/step - loss: 0.9664 - accuracy: 0.3511 - val_loss: 1.0021 - val_accuracy: 0.2727\n",
      "Epoch 30/50\n",
      "12/12 [==============================] - 0s 980us/step - loss: 0.9517 - accuracy: 0.3511 - val_loss: 0.9875 - val_accuracy: 0.2727\n",
      "Epoch 31/50\n",
      "12/12 [==============================] - 0s 1ms/step - loss: 0.9435 - accuracy: 0.3404 - val_loss: 0.9762 - val_accuracy: 0.2727\n",
      "Epoch 32/50\n",
      "12/12 [==============================] - 0s 1ms/step - loss: 0.9284 - accuracy: 0.3936 - val_loss: 0.9522 - val_accuracy: 0.2727\n",
      "Epoch 33/50\n",
      "12/12 [==============================] - 0s 1ms/step - loss: 0.9116 - accuracy: 0.3936 - val_loss: 0.9406 - val_accuracy: 0.2727\n",
      "Epoch 34/50\n",
      "12/12 [==============================] - 0s 1ms/step - loss: 0.8952 - accuracy: 0.4149 - val_loss: 0.9249 - val_accuracy: 0.4545\n",
      "Epoch 35/50\n",
      "12/12 [==============================] - 0s 1ms/step - loss: 0.8828 - accuracy: 0.5319 - val_loss: 0.9148 - val_accuracy: 0.6364\n",
      "Epoch 36/50\n",
      "12/12 [==============================] - 0s 1ms/step - loss: 0.8681 - accuracy: 0.6170 - val_loss: 0.9005 - val_accuracy: 0.6364\n",
      "Epoch 37/50\n",
      "12/12 [==============================] - 0s 894us/step - loss: 0.8541 - accuracy: 0.6489 - val_loss: 0.8849 - val_accuracy: 0.6364\n",
      "Epoch 38/50\n",
      "12/12 [==============================] - 0s 1ms/step - loss: 0.8407 - accuracy: 0.6702 - val_loss: 0.8702 - val_accuracy: 0.6364\n",
      "Epoch 39/50\n",
      "12/12 [==============================] - 0s 1ms/step - loss: 0.8273 - accuracy: 0.6915 - val_loss: 0.8562 - val_accuracy: 0.6364\n",
      "Epoch 40/50\n",
      "12/12 [==============================] - 0s 1ms/step - loss: 0.8139 - accuracy: 0.6809 - val_loss: 0.8417 - val_accuracy: 0.6364\n",
      "Epoch 41/50\n",
      "12/12 [==============================] - 0s 984us/step - loss: 0.8004 - accuracy: 0.7021 - val_loss: 0.8272 - val_accuracy: 0.6364\n",
      "Epoch 42/50\n",
      "12/12 [==============================] - 0s 1ms/step - loss: 0.7919 - accuracy: 0.6809 - val_loss: 0.8152 - val_accuracy: 0.6364\n",
      "Epoch 43/50\n",
      "12/12 [==============================] - 0s 1ms/step - loss: 0.7790 - accuracy: 0.7447 - val_loss: 0.7979 - val_accuracy: 0.6364\n",
      "Epoch 44/50\n",
      "12/12 [==============================] - 0s 1ms/step - loss: 0.7641 - accuracy: 0.7340 - val_loss: 0.7866 - val_accuracy: 0.6364\n",
      "Epoch 45/50\n",
      "12/12 [==============================] - 0s 1ms/step - loss: 0.7542 - accuracy: 0.6809 - val_loss: 0.7801 - val_accuracy: 0.6364\n",
      "Epoch 46/50\n",
      "12/12 [==============================] - 0s 938us/step - loss: 0.7429 - accuracy: 0.7021 - val_loss: 0.7639 - val_accuracy: 0.6364\n",
      "Epoch 47/50\n",
      "12/12 [==============================] - 0s 991us/step - loss: 0.7310 - accuracy: 0.7021 - val_loss: 0.7547 - val_accuracy: 0.6364\n",
      "Epoch 48/50\n",
      "12/12 [==============================] - 0s 1ms/step - loss: 0.7199 - accuracy: 0.7021 - val_loss: 0.7420 - val_accuracy: 0.6364\n",
      "Epoch 49/50\n",
      "12/12 [==============================] - 0s 1ms/step - loss: 0.7101 - accuracy: 0.7021 - val_loss: 0.7315 - val_accuracy: 0.6364\n",
      "Epoch 50/50\n",
      "12/12 [==============================] - 0s 895us/step - loss: 0.6991 - accuracy: 0.7660 - val_loss: 0.7152 - val_accuracy: 0.8182\n"
     ]
    },
    {
     "data": {
      "text/plain": [
       "<keras.src.callbacks.History at 0x29f3e4b10>"
      ]
     },
     "execution_count": 36,
     "metadata": {},
     "output_type": "execute_result"
    }
   ],
   "source": [
    "model.fit(X_train, y_train, epochs=50, batch_size=8, validation_split=0.1)"
   ]
  },
  {
   "cell_type": "markdown",
   "id": "37ada9c9-e5f3-48d6-91d7-bb60f2298010",
   "metadata": {},
   "source": [
    "## Paso 6: Evaluar el modelo"
   ]
  },
  {
   "cell_type": "markdown",
   "id": "ffacc5de-f01b-4446-b068-9fc772290ea7",
   "metadata": {},
   "source": [
    "Métricas que da la evaluación: \n",
    "- *x/x*: Se han evaluado x lotes de datos\n",
    "- *xs xms/step*: Tiempo promedio por cada evaluación (x milisegundos)\n",
    "- *loss:*: La pérdida (loss) es una medida de cuán bien está haciendo el modelo en términos de la diferencia entre las predicciones y las etiquetas reales. Este valor interesa que sea bajo\n",
    "- *accuracy:*: Métrica que indica la fracción de instancias clasificadas correctamente. Este valor interesa que sea alto"
   ]
  },
  {
   "cell_type": "code",
   "execution_count": 37,
   "id": "1961fa11-cdff-4d63-89c7-21329b8c6a54",
   "metadata": {
    "scrolled": true
   },
   "outputs": [
    {
     "name": "stdout",
     "output_type": "stream",
     "text": [
      "2/2 [==============================] - 0s 2ms/step - loss: 0.6912 - accuracy: 0.8000\n",
      "Precisión en el conjunto de prueba: 0.800000011920929\n"
     ]
    }
   ],
   "source": [
    "test_loss, test_acc = model.evaluate(X_test, y_test)\n",
    "print(f'Precisión en el conjunto de prueba: {test_acc}')"
   ]
  },
  {
   "cell_type": "markdown",
   "id": "51556701-4045-47e0-8117-2282a03911af",
   "metadata": {},
   "source": [
    "## Paso 7: Realizar Predicciones"
   ]
  },
  {
   "cell_type": "code",
   "execution_count": 42,
   "id": "d10e7bf4-afa3-4c0f-a096-63a34057b9ba",
   "metadata": {},
   "outputs": [],
   "source": [
    "clases_iris = ['Iris setosa', 'Iris versicolor', 'Iris virginica']"
   ]
  },
  {
   "cell_type": "code",
   "execution_count": 43,
   "id": "6b187f2e-8d74-4b41-9594-db58420fc7c8",
   "metadata": {},
   "outputs": [
    {
     "name": "stdout",
     "output_type": "stream",
     "text": [
      "1/1 [==============================] - 0s 29ms/step\n",
      "Predicción para las nuevas características 1: Iris setosa\n",
      "Predicción para las nuevas características 2: Iris virginica\n",
      "Predicción para las nuevas características 3: Iris setosa\n"
     ]
    }
   ],
   "source": [
    "new_data = np.array([\n",
    "    [5.1, 3.5, 1.4, 0.2],  # Ejemplo 1\n",
    "    [6.2, 3.4, 5.4, 2.3],  # Ejemplo 2\n",
    "    [4.8, 3.1, 1.6, 0.2],  # Ejemplo 3\n",
    "    # ... puedes agregar más ejemplos aquí\n",
    "])\n",
    "\n",
    "predictions = model.predict(new_data)\n",
    "predicted_classes = np.argmax(predictions, axis=1)\n",
    "\n",
    "for i, predicted_class in enumerate(predicted_classes):\n",
    "    nombre_prediccion = clases_iris[predicted_class]\n",
    "    print(f'Predicción para las nuevas características {i + 1}: {nombre_prediccion}')"
   ]
  }
 ],
 "metadata": {
  "kernelspec": {
   "display_name": "Python 3 (ipykernel)",
   "language": "python",
   "name": "python3"
  },
  "language_info": {
   "codemirror_mode": {
    "name": "ipython",
    "version": 3
   },
   "file_extension": ".py",
   "mimetype": "text/x-python",
   "name": "python",
   "nbconvert_exporter": "python",
   "pygments_lexer": "ipython3",
   "version": "3.11.7"
  }
 },
 "nbformat": 4,
 "nbformat_minor": 5
}
