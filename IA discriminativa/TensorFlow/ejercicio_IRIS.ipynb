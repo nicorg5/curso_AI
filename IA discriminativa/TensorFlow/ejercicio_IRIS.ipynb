{
 "cells": [
  {
   "cell_type": "markdown",
   "id": "f26852af-1ebc-4786-8588-02d19f43cf3f",
   "metadata": {},
   "source": [
    "# Ejercicio – Trabajar con Tensorflow y el dataset IRIS"
   ]
  },
  {
   "cell_type": "markdown",
   "id": "0992a3e3-8968-4a08-ac96-d640c62699c0",
   "metadata": {},
   "source": [
    "**Importar Bibliotecas: Importa TensorFlow, NumPy, y sklearn para cargar el dataset de Iris.**\n",
    "\n",
    "**Cargar el Dataset de Iris**\n",
    "Utiliza sklearn para cargar el dataset de Iris. Este dataset contiene medidas de las características de diferentes especies de flores de Iris.\n",
    "  \n",
    "**Preprocesamiento de Datos**\n",
    "Divide los datos en conjuntos de entrenamiento y prueba. Normaliza los datos si es necesario.\n",
    "  \n",
    "**Crear el Modelo**\n",
    "Construye un modelo de red neuronal utilizando tf.keras. Un modelo simple puede tener una o dos capas densas.\n",
    "\n",
    "**Compilar el Modelo**\n",
    "Compila el modelo con un optimizador (como 'adam'), una función de pérdida (como 'sparse_categorical_crossentropy' para clasificación multiclase), y métricas (como 'accuracy').\n",
    "\n",
    "**Entrenar el Modelo**\n",
    "Entrena el modelo con los datos de entrenamiento. Ajusta el número de épocas según sea necesario.\n",
    "\n",
    "**Evaluar el Modelo**\n",
    "Evalúa el rendimiento del modelo utilizando el conjunto de datos de prueba.\n",
    "\n",
    "**Realizar Predicciones**\n",
    "Usa el modelo para hacer predicciones sobre nuevos datos y compara los resultados con las etiquetas conocidas."
   ]
  },
  {
   "cell_type": "markdown",
   "id": "64ce8023-3736-47b8-ba63-b2f9bc6bf5cb",
   "metadata": {},
   "source": [
    "****Etiquetas del DataSet****\n",
    "\n",
    "- Longitud del Sépalo (Sepal Length): Representada por el primer número, en este caso, 5.1 cm.\n",
    "- Ancho del Sépalo (Sepal Width): Representada por el segundo número, en este caso, 3.5 cm.\n",
    "- Longitud del Pétalo (Petal Length): Representada por el tercer número, en este caso, 1.4 cm.\n",
    "- Ancho del Pétalo (Petal Width): Representada por el cuarto número, en este caso, 0.2 cm.\n"
   ]
  },
  {
   "cell_type": "code",
   "execution_count": 13,
   "id": "0057a7f2-2888-4b47-99a7-cbcd1d311ec2",
   "metadata": {},
   "outputs": [],
   "source": [
    "import tensorflow as tf\n",
    "from sklearn import datasets\n",
    "from sklearn.model_selection import train_test_split \n",
    "from sklearn.preprocessing import OneHotEncoder \n",
    "import numpy as np"
   ]
  },
  {
   "cell_type": "markdown",
   "id": "3b044afd-f0fb-49aa-9579-a0022a126837",
   "metadata": {},
   "source": [
    "## Paso 1: Cargar el Dataset de Iris"
   ]
  },
  {
   "cell_type": "code",
   "execution_count": 54,
   "id": "0d2d886b-c3eb-4055-a497-a1512ff401d9",
   "metadata": {},
   "outputs": [],
   "source": [
    "# Cargar dataset de Iris\n",
    "iris = datasets.load_iris()\n",
    "X = iris.data\n",
    "y = iris.target.reshape(-1, 1)"
   ]
  },
  {
   "cell_type": "markdown",
   "id": "0cb5aca1-6e26-4142-97dc-3226aa44f3d4",
   "metadata": {},
   "source": [
    "## Paso 2: Preprocesamiento de Datos"
   ]
  },
  {
   "cell_type": "code",
   "execution_count": 55,
   "id": "08231c40-0d7e-4d71-9797-9e1b98abe92d",
   "metadata": {},
   "outputs": [
    {
     "name": "stderr",
     "output_type": "stream",
     "text": [
      "/Users/n.c.rodriguez/anaconda3/lib/python3.11/site-packages/sklearn/preprocessing/_encoders.py:868: FutureWarning: `sparse` was renamed to `sparse_output` in version 1.2 and will be removed in 1.4. `sparse_output` is ignored unless you leave `sparse` to its default value.\n",
      "  warnings.warn(\n"
     ]
    }
   ],
   "source": [
    "# Uso del OneHotEncoder para las etiquetas\n",
    "encoder = OneHotEncoder(sparse=False)\n",
    "y_encoded = encoder.fit_transform(y)"
   ]
  },
  {
   "cell_type": "code",
   "execution_count": 56,
   "id": "12db674c-776f-4b79-b0a6-e658df9c3d4b",
   "metadata": {},
   "outputs": [],
   "source": [
    "# Dividir en conjunto de entrenamiento y prueba\n",
    "X_train, X_test, y_train, y_test = train_test_split(X, y_encoded, test_size=0.3)"
   ]
  },
  {
   "cell_type": "markdown",
   "id": "212dcb19-47a4-4043-8af6-728acf3baf0b",
   "metadata": {},
   "source": [
    "## Paso 3: Crear el Modelo"
   ]
  },
  {
   "cell_type": "code",
   "execution_count": 57,
   "id": "3066f407-ad2b-4946-8335-946ef4b4b228",
   "metadata": {},
   "outputs": [],
   "source": [
    "# Se crea un modelo de red neuronal utilizando la API Sequential de TensorFlow de Keras\n",
    "model = tf.keras.Sequential([\n",
    "    tf.keras.layers.Dense(10, activation='relu', input_shape=(4,)),  # 4 características en el conjunto de datos de Iris\n",
    "    tf.keras.layers.Dense(3, activation='softmax')  # 3 clases en el conjunto de datos de Iris\n",
    "])"
   ]
  },
  {
   "cell_type": "markdown",
   "id": "9b54f6cc-324b-401c-ab30-b34f0111f5ad",
   "metadata": {},
   "source": [
    "## Paso 4: Compilar el Modelo"
   ]
  },
  {
   "cell_type": "code",
   "execution_count": 58,
   "id": "e25928e0-f2bf-435f-abc2-fa25bf53e91d",
   "metadata": {},
   "outputs": [],
   "source": [
    "# Se compila el modelo\n",
    "model.compile(optimizer='adam',\n",
    "              loss='categorical_crossentropy',  # Cambiado para soportar OneHotEncoded labels\n",
    "              metrics=['accuracy'])"
   ]
  },
  {
   "cell_type": "markdown",
   "id": "b3c45136-3b98-451b-8022-b06c10eb0955",
   "metadata": {},
   "source": [
    "## Paso 5: Entrenar el modelo"
   ]
  },
  {
   "cell_type": "code",
   "execution_count": 59,
   "id": "47def9bd-c1be-46b3-b951-fca3d1308142",
   "metadata": {},
   "outputs": [
    {
     "name": "stdout",
     "output_type": "stream",
     "text": [
      "Epoch 1/95\n",
      "4/4 [==============================] - 0s 1ms/step - loss: 1.8772 - accuracy: 0.3429\n",
      "Epoch 2/95\n",
      "4/4 [==============================] - 0s 1ms/step - loss: 1.8039 - accuracy: 0.3619\n",
      "Epoch 3/95\n",
      "4/4 [==============================] - 0s 775us/step - loss: 1.7309 - accuracy: 0.3619\n",
      "Epoch 4/95\n",
      "4/4 [==============================] - 0s 1ms/step - loss: 1.6668 - accuracy: 0.3714\n",
      "Epoch 5/95\n",
      "4/4 [==============================] - 0s 749us/step - loss: 1.6033 - accuracy: 0.3714\n",
      "Epoch 6/95\n",
      "4/4 [==============================] - 0s 811us/step - loss: 1.5455 - accuracy: 0.3714\n",
      "Epoch 7/95\n",
      "4/4 [==============================] - 0s 662us/step - loss: 1.4920 - accuracy: 0.3714\n",
      "Epoch 8/95\n",
      "4/4 [==============================] - 0s 1ms/step - loss: 1.4413 - accuracy: 0.3714\n",
      "Epoch 9/95\n",
      "4/4 [==============================] - 0s 787us/step - loss: 1.3946 - accuracy: 0.3714\n",
      "Epoch 10/95\n",
      "4/4 [==============================] - 0s 950us/step - loss: 1.3521 - accuracy: 0.3714\n",
      "Epoch 11/95\n",
      "4/4 [==============================] - 0s 738us/step - loss: 1.3081 - accuracy: 0.3714\n",
      "Epoch 12/95\n",
      "4/4 [==============================] - 0s 916us/step - loss: 1.2697 - accuracy: 0.3714\n",
      "Epoch 13/95\n",
      "4/4 [==============================] - 0s 793us/step - loss: 1.2303 - accuracy: 0.3714\n",
      "Epoch 14/95\n",
      "4/4 [==============================] - 0s 625us/step - loss: 1.1964 - accuracy: 0.3714\n",
      "Epoch 15/95\n",
      "4/4 [==============================] - 0s 633us/step - loss: 1.1656 - accuracy: 0.3714\n",
      "Epoch 16/95\n",
      "4/4 [==============================] - 0s 623us/step - loss: 1.1336 - accuracy: 0.3714\n",
      "Epoch 17/95\n",
      "4/4 [==============================] - 0s 1ms/step - loss: 1.1043 - accuracy: 0.3714\n",
      "Epoch 18/95\n",
      "4/4 [==============================] - 0s 577us/step - loss: 1.0781 - accuracy: 0.3714\n",
      "Epoch 19/95\n",
      "4/4 [==============================] - 0s 569us/step - loss: 1.0500 - accuracy: 0.3714\n",
      "Epoch 20/95\n",
      "4/4 [==============================] - 0s 851us/step - loss: 1.0269 - accuracy: 0.3714\n",
      "Epoch 21/95\n",
      "4/4 [==============================] - 0s 1ms/step - loss: 1.0019 - accuracy: 0.3810\n",
      "Epoch 22/95\n",
      "4/4 [==============================] - 0s 911us/step - loss: 0.9787 - accuracy: 0.3810\n",
      "Epoch 23/95\n",
      "4/4 [==============================] - 0s 567us/step - loss: 0.9561 - accuracy: 0.3810\n",
      "Epoch 24/95\n",
      "4/4 [==============================] - 0s 704us/step - loss: 0.9349 - accuracy: 0.3905\n",
      "Epoch 25/95\n",
      "4/4 [==============================] - 0s 774us/step - loss: 0.9137 - accuracy: 0.4095\n",
      "Epoch 26/95\n",
      "4/4 [==============================] - 0s 564us/step - loss: 0.8939 - accuracy: 0.4476\n",
      "Epoch 27/95\n",
      "4/4 [==============================] - 0s 591us/step - loss: 0.8742 - accuracy: 0.4952\n",
      "Epoch 28/95\n",
      "4/4 [==============================] - 0s 585us/step - loss: 0.8554 - accuracy: 0.6286\n",
      "Epoch 29/95\n",
      "4/4 [==============================] - 0s 630us/step - loss: 0.8387 - accuracy: 0.6667\n",
      "Epoch 30/95\n",
      "4/4 [==============================] - 0s 712us/step - loss: 0.8235 - accuracy: 0.6762\n",
      "Epoch 31/95\n",
      "4/4 [==============================] - 0s 800us/step - loss: 0.8098 - accuracy: 0.6857\n",
      "Epoch 32/95\n",
      "4/4 [==============================] - 0s 613us/step - loss: 0.7969 - accuracy: 0.6857\n",
      "Epoch 33/95\n",
      "4/4 [==============================] - 0s 962us/step - loss: 0.7856 - accuracy: 0.6857\n",
      "Epoch 34/95\n",
      "4/4 [==============================] - 0s 564us/step - loss: 0.7747 - accuracy: 0.6952\n",
      "Epoch 35/95\n",
      "4/4 [==============================] - 0s 561us/step - loss: 0.7641 - accuracy: 0.7048\n",
      "Epoch 36/95\n",
      "4/4 [==============================] - 0s 747us/step - loss: 0.7543 - accuracy: 0.7143\n",
      "Epoch 37/95\n",
      "4/4 [==============================] - 0s 566us/step - loss: 0.7452 - accuracy: 0.7429\n",
      "Epoch 38/95\n",
      "4/4 [==============================] - 0s 679us/step - loss: 0.7355 - accuracy: 0.7524\n",
      "Epoch 39/95\n",
      "4/4 [==============================] - 0s 655us/step - loss: 0.7274 - accuracy: 0.7714\n",
      "Epoch 40/95\n",
      "4/4 [==============================] - 0s 558us/step - loss: 0.7190 - accuracy: 0.7905\n",
      "Epoch 41/95\n",
      "4/4 [==============================] - 0s 542us/step - loss: 0.7116 - accuracy: 0.8000\n",
      "Epoch 42/95\n",
      "4/4 [==============================] - 0s 530us/step - loss: 0.7040 - accuracy: 0.8000\n",
      "Epoch 43/95\n",
      "4/4 [==============================] - 0s 583us/step - loss: 0.6970 - accuracy: 0.8000\n",
      "Epoch 44/95\n",
      "4/4 [==============================] - 0s 616us/step - loss: 0.6904 - accuracy: 0.8095\n",
      "Epoch 45/95\n",
      "4/4 [==============================] - 0s 593us/step - loss: 0.6837 - accuracy: 0.8095\n",
      "Epoch 46/95\n",
      "4/4 [==============================] - 0s 606us/step - loss: 0.6769 - accuracy: 0.8095\n",
      "Epoch 47/95\n",
      "4/4 [==============================] - 0s 576us/step - loss: 0.6700 - accuracy: 0.8095\n",
      "Epoch 48/95\n",
      "4/4 [==============================] - 0s 785us/step - loss: 0.6632 - accuracy: 0.8190\n",
      "Epoch 49/95\n",
      "4/4 [==============================] - 0s 555us/step - loss: 0.6565 - accuracy: 0.8476\n",
      "Epoch 50/95\n",
      "4/4 [==============================] - 0s 717us/step - loss: 0.6507 - accuracy: 0.8571\n",
      "Epoch 51/95\n",
      "4/4 [==============================] - 0s 542us/step - loss: 0.6439 - accuracy: 0.8952\n",
      "Epoch 52/95\n",
      "4/4 [==============================] - 0s 531us/step - loss: 0.6375 - accuracy: 0.8952\n",
      "Epoch 53/95\n",
      "4/4 [==============================] - 0s 545us/step - loss: 0.6311 - accuracy: 0.8952\n",
      "Epoch 54/95\n",
      "4/4 [==============================] - 0s 555us/step - loss: 0.6248 - accuracy: 0.8952\n",
      "Epoch 55/95\n",
      "4/4 [==============================] - 0s 743us/step - loss: 0.6196 - accuracy: 0.8857\n",
      "Epoch 56/95\n",
      "4/4 [==============================] - 0s 533us/step - loss: 0.6131 - accuracy: 0.8762\n",
      "Epoch 57/95\n",
      "4/4 [==============================] - 0s 535us/step - loss: 0.6071 - accuracy: 0.8952\n",
      "Epoch 58/95\n",
      "4/4 [==============================] - 0s 581us/step - loss: 0.6011 - accuracy: 0.9048\n",
      "Epoch 59/95\n",
      "4/4 [==============================] - 0s 606us/step - loss: 0.5950 - accuracy: 0.9048\n",
      "Epoch 60/95\n",
      "4/4 [==============================] - 0s 1ms/step - loss: 0.5897 - accuracy: 0.9048\n",
      "Epoch 61/95\n",
      "4/4 [==============================] - 0s 697us/step - loss: 0.5838 - accuracy: 0.9143\n",
      "Epoch 62/95\n",
      "4/4 [==============================] - 0s 579us/step - loss: 0.5788 - accuracy: 0.9143\n",
      "Epoch 63/95\n",
      "4/4 [==============================] - 0s 547us/step - loss: 0.5730 - accuracy: 0.9238\n",
      "Epoch 64/95\n",
      "4/4 [==============================] - 0s 616us/step - loss: 0.5674 - accuracy: 0.9238\n",
      "Epoch 65/95\n",
      "4/4 [==============================] - 0s 594us/step - loss: 0.5617 - accuracy: 0.9238\n",
      "Epoch 66/95\n",
      "4/4 [==============================] - 0s 578us/step - loss: 0.5558 - accuracy: 0.9143\n",
      "Epoch 67/95\n",
      "4/4 [==============================] - 0s 572us/step - loss: 0.5507 - accuracy: 0.9143\n",
      "Epoch 68/95\n",
      "4/4 [==============================] - 0s 565us/step - loss: 0.5454 - accuracy: 0.9143\n",
      "Epoch 69/95\n",
      "4/4 [==============================] - 0s 531us/step - loss: 0.5399 - accuracy: 0.9143\n",
      "Epoch 70/95\n",
      "4/4 [==============================] - 0s 542us/step - loss: 0.5346 - accuracy: 0.9143\n",
      "Epoch 71/95\n",
      "4/4 [==============================] - 0s 675us/step - loss: 0.5301 - accuracy: 0.9048\n",
      "Epoch 72/95\n",
      "4/4 [==============================] - 0s 532us/step - loss: 0.5246 - accuracy: 0.9143\n",
      "Epoch 73/95\n",
      "4/4 [==============================] - 0s 562us/step - loss: 0.5195 - accuracy: 0.9143\n",
      "Epoch 74/95\n",
      "4/4 [==============================] - 0s 608us/step - loss: 0.5147 - accuracy: 0.9143\n",
      "Epoch 75/95\n",
      "4/4 [==============================] - 0s 685us/step - loss: 0.5102 - accuracy: 0.9238\n",
      "Epoch 76/95\n",
      "4/4 [==============================] - 0s 628us/step - loss: 0.5052 - accuracy: 0.9238\n",
      "Epoch 77/95\n",
      "4/4 [==============================] - 0s 576us/step - loss: 0.5007 - accuracy: 0.9238\n",
      "Epoch 78/95\n",
      "4/4 [==============================] - 0s 489us/step - loss: 0.4957 - accuracy: 0.9238\n",
      "Epoch 79/95\n",
      "4/4 [==============================] - 0s 534us/step - loss: 0.4911 - accuracy: 0.9333\n",
      "Epoch 80/95\n",
      "4/4 [==============================] - 0s 586us/step - loss: 0.4868 - accuracy: 0.9238\n",
      "Epoch 81/95\n",
      "4/4 [==============================] - 0s 580us/step - loss: 0.4820 - accuracy: 0.9238\n",
      "Epoch 82/95\n",
      "4/4 [==============================] - 0s 653us/step - loss: 0.4778 - accuracy: 0.9238\n",
      "Epoch 83/95\n",
      "4/4 [==============================] - 0s 561us/step - loss: 0.4736 - accuracy: 0.9238\n",
      "Epoch 84/95\n",
      "4/4 [==============================] - 0s 535us/step - loss: 0.4694 - accuracy: 0.9143\n",
      "Epoch 85/95\n",
      "4/4 [==============================] - 0s 549us/step - loss: 0.4652 - accuracy: 0.9143\n",
      "Epoch 86/95\n",
      "4/4 [==============================] - 0s 549us/step - loss: 0.4612 - accuracy: 0.9143\n",
      "Epoch 87/95\n",
      "4/4 [==============================] - 0s 531us/step - loss: 0.4576 - accuracy: 0.9143\n",
      "Epoch 88/95\n",
      "4/4 [==============================] - 0s 712us/step - loss: 0.4536 - accuracy: 0.9143\n",
      "Epoch 89/95\n",
      "4/4 [==============================] - 0s 642us/step - loss: 0.4495 - accuracy: 0.9143\n",
      "Epoch 90/95\n",
      "4/4 [==============================] - 0s 644us/step - loss: 0.4456 - accuracy: 0.9238\n",
      "Epoch 91/95\n",
      "4/4 [==============================] - 0s 542us/step - loss: 0.4417 - accuracy: 0.9238\n",
      "Epoch 92/95\n",
      "4/4 [==============================] - 0s 515us/step - loss: 0.4381 - accuracy: 0.9238\n",
      "Epoch 93/95\n",
      "4/4 [==============================] - 0s 807us/step - loss: 0.4348 - accuracy: 0.9143\n",
      "Epoch 94/95\n",
      "4/4 [==============================] - 0s 483us/step - loss: 0.4313 - accuracy: 0.9143\n",
      "Epoch 95/95\n",
      "4/4 [==============================] - 0s 514us/step - loss: 0.4271 - accuracy: 0.9238\n"
     ]
    },
    {
     "data": {
      "text/plain": [
       "<keras.src.callbacks.History at 0x29f971150>"
      ]
     },
     "execution_count": 59,
     "metadata": {},
     "output_type": "execute_result"
    }
   ],
   "source": [
    "model.fit(X_train, y_train, epochs=95)"
   ]
  },
  {
   "cell_type": "markdown",
   "id": "37ada9c9-e5f3-48d6-91d7-bb60f2298010",
   "metadata": {},
   "source": [
    "## Paso 6: Evaluar el modelo"
   ]
  },
  {
   "cell_type": "markdown",
   "id": "ffacc5de-f01b-4446-b068-9fc772290ea7",
   "metadata": {},
   "source": [
    "Métricas que da la evaluación: \n",
    "- *x/x*: Se han evaluado x lotes de datos\n",
    "- *xs xms/step*: Tiempo promedio por cada evaluación (x milisegundos)\n",
    "- *loss:*: La pérdida (loss) es una medida de cuán bien está haciendo el modelo en términos de la diferencia entre las predicciones y las etiquetas reales. Este valor interesa que sea bajo\n",
    "- *accuracy:*: Métrica que indica la fracción de instancias clasificadas correctamente. Este valor interesa que sea alto"
   ]
  },
  {
   "cell_type": "code",
   "execution_count": 60,
   "id": "1961fa11-cdff-4d63-89c7-21329b8c6a54",
   "metadata": {
    "scrolled": true
   },
   "outputs": [
    {
     "name": "stdout",
     "output_type": "stream",
     "text": [
      "2/2 [==============================] - 0s 1ms/step - loss: 0.4651 - accuracy: 0.8889\n",
      "Precisión en el conjunto de prueba: 0.8888888955116272\n"
     ]
    }
   ],
   "source": [
    "test_loss, test_acc = model.evaluate(X_test, y_test)\n",
    "print(f'Precisión en el conjunto de prueba: {test_acc}')"
   ]
  },
  {
   "cell_type": "markdown",
   "id": "51556701-4045-47e0-8117-2282a03911af",
   "metadata": {},
   "source": [
    "## Paso 7: Realizar Predicciones"
   ]
  },
  {
   "cell_type": "code",
   "execution_count": 61,
   "id": "d10e7bf4-afa3-4c0f-a096-63a34057b9ba",
   "metadata": {},
   "outputs": [],
   "source": [
    "clases_iris = ['Iris setosa', 'Iris versicolor', 'Iris virginica']"
   ]
  },
  {
   "cell_type": "code",
   "execution_count": 63,
   "id": "6b187f2e-8d74-4b41-9594-db58420fc7c8",
   "metadata": {},
   "outputs": [
    {
     "name": "stdout",
     "output_type": "stream",
     "text": [
      "1/1 [==============================] - 0s 14ms/step\n",
      "La clase predicha para la nueva flor de Iris es: setosa\n",
      "La clase predicha para la nueva flor de Iris es: virginica\n",
      "La clase predicha para la nueva flor de Iris es: setosa\n"
     ]
    }
   ],
   "source": [
    "new_data = np.array([\n",
    "    [5.1, 3.5, 1.4, 0.2],  # Ejemplo 1\n",
    "    [6.2, 3.4, 5.4, 2.3],  # Ejemplo 2\n",
    "    [4.8, 3.1, 1.6, 0.2],  # Ejemplo 3\n",
    "    # ... puedes agregar más ejemplos aquí\n",
    "])\n",
    "\n",
    "predictions = model.predict(new_data)\n",
    "predicted_classes = np.argmax(predictions, axis=1)\n",
    "\n",
    "for i, predicted_class in enumerate(predicted_classes):\n",
    "    print(\"La clase predicha para la nueva flor de Iris es:\", iris.target_names[predicted_class])"
   ]
  }
 ],
 "metadata": {
  "kernelspec": {
   "display_name": "Python 3 (ipykernel)",
   "language": "python",
   "name": "python3"
  },
  "language_info": {
   "codemirror_mode": {
    "name": "ipython",
    "version": 3
   },
   "file_extension": ".py",
   "mimetype": "text/x-python",
   "name": "python",
   "nbconvert_exporter": "python",
   "pygments_lexer": "ipython3",
   "version": "3.11.7"
  }
 },
 "nbformat": 4,
 "nbformat_minor": 5
}
