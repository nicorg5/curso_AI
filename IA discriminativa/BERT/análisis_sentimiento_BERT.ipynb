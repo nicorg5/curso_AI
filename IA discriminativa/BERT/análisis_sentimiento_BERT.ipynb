{
 "cells": [
  {
   "cell_type": "code",
   "execution_count": 1,
   "id": "55cdffdc-d6fa-41d8-bace-fd49d162e42d",
   "metadata": {},
   "outputs": [],
   "source": [
    "from transformers import pipeline\n",
    "import gradio as gr"
   ]
  },
  {
   "cell_type": "code",
   "execution_count": 2,
   "id": "a018418c-2500-4903-852e-b1b685177b73",
   "metadata": {},
   "outputs": [
    {
     "name": "stderr",
     "output_type": "stream",
     "text": [
      "No model was supplied, defaulted to distilbert-base-uncased-finetuned-sst-2-english and revision af0f99b (https://huggingface.co/distilbert-base-uncased-finetuned-sst-2-english).\n",
      "Using a pipeline without specifying a model name and revision in production is not recommended.\n"
     ]
    }
   ],
   "source": [
    "# Cargar un pipeline de Hugging Face con un modelo BERT para análisis de sentimiento\n",
    "model = pipeline(\"sentiment-analysis\")"
   ]
  },
  {
   "cell_type": "code",
   "execution_count": 3,
   "id": "51c13719-d60b-4e01-9b84-9d1161e589cd",
   "metadata": {},
   "outputs": [],
   "source": [
    "def predict_sentiment(text):\n",
    "    result = model(text)\n",
    "    #Extraer la etiqueta y la confianza del resultado\n",
    "    label = result[0]['label']\n",
    "    confidence = round(result[0]['score'], 4)\n",
    "    return {label: confidence}"
   ]
  },
  {
   "cell_type": "code",
   "execution_count": 4,
   "id": "88dd4ec1-bb3d-41bc-a906-5a1a2a275275",
   "metadata": {},
   "outputs": [],
   "source": [
    "# Crear una interfaz de Gradio\n",
    "iface = gr.Interface(fn=predict_sentiment, inputs='text', outputs='label')"
   ]
  },
  {
   "cell_type": "code",
   "execution_count": 5,
   "id": "f4adee81-d791-436f-ab07-608289b915ee",
   "metadata": {},
   "outputs": [
    {
     "name": "stdout",
     "output_type": "stream",
     "text": [
      "Running on local URL:  http://127.0.0.1:7860\n",
      "\n",
      "To create a public link, set `share=True` in `launch()`.\n"
     ]
    },
    {
     "data": {
      "text/html": [
       "<div><iframe src=\"http://127.0.0.1:7860/\" width=\"100%\" height=\"500\" allow=\"autoplay; camera; microphone; clipboard-read; clipboard-write;\" frameborder=\"0\" allowfullscreen></iframe></div>"
      ],
      "text/plain": [
       "<IPython.core.display.HTML object>"
      ]
     },
     "metadata": {},
     "output_type": "display_data"
    },
    {
     "data": {
      "text/plain": []
     },
     "execution_count": 5,
     "metadata": {},
     "output_type": "execute_result"
    }
   ],
   "source": [
    "# Lanzar la interfaz\n",
    "iface.launch()"
   ]
  },
  {
   "cell_type": "code",
   "execution_count": null,
   "id": "6292a872-fc99-4090-b546-5f8e8e016c46",
   "metadata": {},
   "outputs": [],
   "source": []
  }
 ],
 "metadata": {
  "kernelspec": {
   "display_name": "Python 3 (ipykernel)",
   "language": "python",
   "name": "python3"
  },
  "language_info": {
   "codemirror_mode": {
    "name": "ipython",
    "version": 3
   },
   "file_extension": ".py",
   "mimetype": "text/x-python",
   "name": "python",
   "nbconvert_exporter": "python",
   "pygments_lexer": "ipython3",
   "version": "3.10.8"
  }
 },
 "nbformat": 4,
 "nbformat_minor": 5
}
