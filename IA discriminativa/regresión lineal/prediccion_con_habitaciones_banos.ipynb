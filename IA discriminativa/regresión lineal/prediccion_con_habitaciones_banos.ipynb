{
 "cells": [
  {
   "cell_type": "markdown",
   "id": "b68f14ea-9af5-49e6-9055-73460d8a799d",
   "metadata": {},
   "source": [
    "# Ejercicio\n",
    "Predecir el precio de un piso en función de la superficie construida y el distrito"
   ]
  },
  {
   "cell_type": "code",
   "execution_count": 1,
   "id": "e6cc382d-5843-4998-ad82-bbd87397fe4f",
   "metadata": {},
   "outputs": [],
   "source": [
    "#!pip install --upgrade typing-extensions"
   ]
  },
  {
   "cell_type": "code",
   "execution_count": 2,
   "id": "e7fb38d8-ecb8-4bb9-9a17-e9c38a0dfc5e",
   "metadata": {},
   "outputs": [],
   "source": [
    "#!pip install gradio"
   ]
  },
  {
   "cell_type": "code",
   "execution_count": 62,
   "id": "9f301769-7a1c-45f5-aef5-c73c60ea6b7c",
   "metadata": {
    "tags": []
   },
   "outputs": [],
   "source": [
    "import numpy as np\n",
    "from sklearn.model_selection import train_test_split\n",
    "from sklearn.linear_model import LinearRegression\n",
    "from sklearn.metrics import mean_squared_error, r2_score\n",
    "import pandas as pd\n",
    "import matplotlib.pyplot as plt\n",
    "import seaborn as sns"
   ]
  },
  {
   "cell_type": "code",
   "execution_count": 63,
   "id": "00e2d204-6bdb-4ef5-a1da-2170103db5ff",
   "metadata": {
    "tags": []
   },
   "outputs": [
    {
     "data": {
      "text/html": [
       "<div>\n",
       "<style scoped>\n",
       "    .dataframe tbody tr th:only-of-type {\n",
       "        vertical-align: middle;\n",
       "    }\n",
       "\n",
       "    .dataframe tbody tr th {\n",
       "        vertical-align: top;\n",
       "    }\n",
       "\n",
       "    .dataframe thead th {\n",
       "        text-align: right;\n",
       "    }\n",
       "</style>\n",
       "<table border=\"1\" class=\"dataframe\">\n",
       "  <thead>\n",
       "    <tr style=\"text-align: right;\">\n",
       "      <th></th>\n",
       "      <th>superficie_construida</th>\n",
       "      <th>precio</th>\n",
       "      <th>distritos_id</th>\n",
       "      <th>dormitorios</th>\n",
       "      <th>banos</th>\n",
       "    </tr>\n",
       "  </thead>\n",
       "  <tbody>\n",
       "    <tr>\n",
       "      <th>0</th>\n",
       "      <td>600</td>\n",
       "      <td>5400000</td>\n",
       "      <td>10</td>\n",
       "      <td>5</td>\n",
       "      <td>4.5</td>\n",
       "    </tr>\n",
       "    <tr>\n",
       "      <th>1</th>\n",
       "      <td>600</td>\n",
       "      <td>3800000</td>\n",
       "      <td>10</td>\n",
       "      <td>5</td>\n",
       "      <td>4.5</td>\n",
       "    </tr>\n",
       "    <tr>\n",
       "      <th>2</th>\n",
       "      <td>59</td>\n",
       "      <td>330000</td>\n",
       "      <td>9</td>\n",
       "      <td>1</td>\n",
       "      <td>1.0</td>\n",
       "    </tr>\n",
       "    <tr>\n",
       "      <th>3</th>\n",
       "      <td>63</td>\n",
       "      <td>402000</td>\n",
       "      <td>8</td>\n",
       "      <td>1</td>\n",
       "      <td>1.0</td>\n",
       "    </tr>\n",
       "    <tr>\n",
       "      <th>4</th>\n",
       "      <td>300</td>\n",
       "      <td>1750000</td>\n",
       "      <td>10</td>\n",
       "      <td>5</td>\n",
       "      <td>4.5</td>\n",
       "    </tr>\n",
       "  </tbody>\n",
       "</table>\n",
       "</div>"
      ],
      "text/plain": [
       "   superficie_construida   precio  distritos_id  dormitorios  banos\n",
       "0                    600  5400000            10            5    4.5\n",
       "1                    600  3800000            10            5    4.5\n",
       "2                     59   330000             9            1    1.0\n",
       "3                     63   402000             8            1    1.0\n",
       "4                    300  1750000            10            5    4.5"
      ]
     },
     "execution_count": 63,
     "metadata": {},
     "output_type": "execute_result"
    }
   ],
   "source": [
    "df = pd.read_csv('pisos_con_habitaciones_banos.csv')\n",
    "df.head()"
   ]
  },
  {
   "cell_type": "markdown",
   "id": "89951259-bfce-4fc6-a89a-daf245fb7beb",
   "metadata": {
    "jp-MarkdownHeadingCollapsed": true
   },
   "source": [
    "## EDA (Exploratory Data Analisis)"
   ]
  },
  {
   "cell_type": "code",
   "execution_count": 64,
   "id": "dfbf429b-e25f-492c-afe7-b1ad7cbb8394",
   "metadata": {
    "tags": []
   },
   "outputs": [
    {
     "data": {
      "text/plain": [
       "superficie_construida     0\n",
       "precio                    0\n",
       "distritos_id              0\n",
       "dormitorios               0\n",
       "banos                    17\n",
       "dtype: int64"
      ]
     },
     "execution_count": 64,
     "metadata": {},
     "output_type": "execute_result"
    }
   ],
   "source": [
    "# Cantidad de nulos de cada variable\n",
    "df.isnull().sum()"
   ]
  },
  {
   "cell_type": "code",
   "execution_count": 66,
   "id": "4fcc6c1b-b860-40f2-8863-d837afdc417c",
   "metadata": {},
   "outputs": [
    {
     "data": {
      "text/html": [
       "<div>\n",
       "<style scoped>\n",
       "    .dataframe tbody tr th:only-of-type {\n",
       "        vertical-align: middle;\n",
       "    }\n",
       "\n",
       "    .dataframe tbody tr th {\n",
       "        vertical-align: top;\n",
       "    }\n",
       "\n",
       "    .dataframe thead th {\n",
       "        text-align: right;\n",
       "    }\n",
       "</style>\n",
       "<table border=\"1\" class=\"dataframe\">\n",
       "  <thead>\n",
       "    <tr style=\"text-align: right;\">\n",
       "      <th></th>\n",
       "      <th>superficie_construida</th>\n",
       "      <th>precio</th>\n",
       "      <th>distritos_id</th>\n",
       "      <th>dormitorios</th>\n",
       "      <th>banos</th>\n",
       "    </tr>\n",
       "  </thead>\n",
       "  <tbody>\n",
       "    <tr>\n",
       "      <th>40577</th>\n",
       "      <td>262</td>\n",
       "      <td>686000</td>\n",
       "      <td>9</td>\n",
       "      <td>2</td>\n",
       "      <td>NaN</td>\n",
       "    </tr>\n",
       "    <tr>\n",
       "      <th>40578</th>\n",
       "      <td>262</td>\n",
       "      <td>954000</td>\n",
       "      <td>9</td>\n",
       "      <td>2</td>\n",
       "      <td>NaN</td>\n",
       "    </tr>\n",
       "    <tr>\n",
       "      <th>61167</th>\n",
       "      <td>120</td>\n",
       "      <td>825300</td>\n",
       "      <td>11</td>\n",
       "      <td>3</td>\n",
       "      <td>NaN</td>\n",
       "    </tr>\n",
       "    <tr>\n",
       "      <th>61168</th>\n",
       "      <td>164</td>\n",
       "      <td>910300</td>\n",
       "      <td>11</td>\n",
       "      <td>3</td>\n",
       "      <td>NaN</td>\n",
       "    </tr>\n",
       "    <tr>\n",
       "      <th>61169</th>\n",
       "      <td>136</td>\n",
       "      <td>652300</td>\n",
       "      <td>11</td>\n",
       "      <td>4</td>\n",
       "      <td>NaN</td>\n",
       "    </tr>\n",
       "    <tr>\n",
       "      <th>61170</th>\n",
       "      <td>136</td>\n",
       "      <td>665300</td>\n",
       "      <td>11</td>\n",
       "      <td>4</td>\n",
       "      <td>NaN</td>\n",
       "    </tr>\n",
       "    <tr>\n",
       "      <th>61171</th>\n",
       "      <td>120</td>\n",
       "      <td>890300</td>\n",
       "      <td>11</td>\n",
       "      <td>4</td>\n",
       "      <td>NaN</td>\n",
       "    </tr>\n",
       "    <tr>\n",
       "      <th>61172</th>\n",
       "      <td>194</td>\n",
       "      <td>985300</td>\n",
       "      <td>11</td>\n",
       "      <td>4</td>\n",
       "      <td>NaN</td>\n",
       "    </tr>\n",
       "    <tr>\n",
       "      <th>61173</th>\n",
       "      <td>193</td>\n",
       "      <td>880300</td>\n",
       "      <td>11</td>\n",
       "      <td>5</td>\n",
       "      <td>NaN</td>\n",
       "    </tr>\n",
       "    <tr>\n",
       "      <th>61174</th>\n",
       "      <td>193</td>\n",
       "      <td>895300</td>\n",
       "      <td>11</td>\n",
       "      <td>5</td>\n",
       "      <td>NaN</td>\n",
       "    </tr>\n",
       "    <tr>\n",
       "      <th>61175</th>\n",
       "      <td>193</td>\n",
       "      <td>1015300</td>\n",
       "      <td>11</td>\n",
       "      <td>5</td>\n",
       "      <td>NaN</td>\n",
       "    </tr>\n",
       "    <tr>\n",
       "      <th>61176</th>\n",
       "      <td>266</td>\n",
       "      <td>1330300</td>\n",
       "      <td>11</td>\n",
       "      <td>5</td>\n",
       "      <td>NaN</td>\n",
       "    </tr>\n",
       "    <tr>\n",
       "      <th>61177</th>\n",
       "      <td>271</td>\n",
       "      <td>1390300</td>\n",
       "      <td>11</td>\n",
       "      <td>5</td>\n",
       "      <td>NaN</td>\n",
       "    </tr>\n",
       "    <tr>\n",
       "      <th>61178</th>\n",
       "      <td>52</td>\n",
       "      <td>402650</td>\n",
       "      <td>11</td>\n",
       "      <td>1</td>\n",
       "      <td>NaN</td>\n",
       "    </tr>\n",
       "    <tr>\n",
       "      <th>66948</th>\n",
       "      <td>199</td>\n",
       "      <td>2490000</td>\n",
       "      <td>7</td>\n",
       "      <td>3</td>\n",
       "      <td>NaN</td>\n",
       "    </tr>\n",
       "    <tr>\n",
       "      <th>66949</th>\n",
       "      <td>199</td>\n",
       "      <td>2490000</td>\n",
       "      <td>7</td>\n",
       "      <td>3</td>\n",
       "      <td>NaN</td>\n",
       "    </tr>\n",
       "    <tr>\n",
       "      <th>66950</th>\n",
       "      <td>199</td>\n",
       "      <td>2490000</td>\n",
       "      <td>7</td>\n",
       "      <td>3</td>\n",
       "      <td>NaN</td>\n",
       "    </tr>\n",
       "  </tbody>\n",
       "</table>\n",
       "</div>"
      ],
      "text/plain": [
       "       superficie_construida   precio  distritos_id  dormitorios  banos\n",
       "40577                    262   686000             9            2    NaN\n",
       "40578                    262   954000             9            2    NaN\n",
       "61167                    120   825300            11            3    NaN\n",
       "61168                    164   910300            11            3    NaN\n",
       "61169                    136   652300            11            4    NaN\n",
       "61170                    136   665300            11            4    NaN\n",
       "61171                    120   890300            11            4    NaN\n",
       "61172                    194   985300            11            4    NaN\n",
       "61173                    193   880300            11            5    NaN\n",
       "61174                    193   895300            11            5    NaN\n",
       "61175                    193  1015300            11            5    NaN\n",
       "61176                    266  1330300            11            5    NaN\n",
       "61177                    271  1390300            11            5    NaN\n",
       "61178                     52   402650            11            1    NaN\n",
       "66948                    199  2490000             7            3    NaN\n",
       "66949                    199  2490000             7            3    NaN\n",
       "66950                    199  2490000             7            3    NaN"
      ]
     },
     "execution_count": 66,
     "metadata": {},
     "output_type": "execute_result"
    }
   ],
   "source": [
    "df[df['banos'].isnull()]"
   ]
  },
  {
   "cell_type": "markdown",
   "id": "036ee68c-04c1-4e23-9c94-d4b5d1624ebb",
   "metadata": {},
   "source": [
    "Esos valores nulos se van a imputar con la mediana:"
   ]
  },
  {
   "cell_type": "code",
   "execution_count": 69,
   "id": "fe69fdae-bcb9-48ec-88a8-1964991ca485",
   "metadata": {},
   "outputs": [],
   "source": [
    "# Calcular la mediana de la columna 'banos'\n",
    "mediana_banos = df['banos'].median()\n",
    "\n",
    "# Rellenar los valores nulos con la mediana\n",
    "df['banos'].fillna(mediana_banos, inplace = True)"
   ]
  },
  {
   "cell_type": "code",
   "execution_count": 70,
   "id": "114d7e00-cb7e-42e7-bb10-840ecc3422c7",
   "metadata": {},
   "outputs": [
    {
     "data": {
      "text/plain": [
       "superficie_construida    0\n",
       "precio                   0\n",
       "distritos_id             0\n",
       "dormitorios              0\n",
       "banos                    0\n",
       "dtype: int64"
      ]
     },
     "execution_count": 70,
     "metadata": {},
     "output_type": "execute_result"
    }
   ],
   "source": [
    "# Cantidad de nulos de cada variable\n",
    "df.isnull().sum()"
   ]
  },
  {
   "cell_type": "code",
   "execution_count": 71,
   "id": "2a6e3639-3afc-4bdb-8e70-4a27ad38ef3b",
   "metadata": {
    "tags": []
   },
   "outputs": [
    {
     "data": {
      "text/plain": [
       "array([10,  9,  8,  7,  4, 17, 12, 14, 35, 15, 11, 16, 21,  1, 13, 22, 20,\n",
       "       18, 24, 25])"
      ]
     },
     "execution_count": 71,
     "metadata": {},
     "output_type": "execute_result"
    }
   ],
   "source": [
    "# Valores únicos de distritos_id\n",
    "df['distritos_id'].unique()"
   ]
  },
  {
   "cell_type": "code",
   "execution_count": 72,
   "id": "54c5b02c-edcf-45b5-b219-381ea3e06b77",
   "metadata": {
    "tags": []
   },
   "outputs": [
    {
     "name": "stdout",
     "output_type": "stream",
     "text": [
      "<class 'pandas.core.frame.DataFrame'>\n",
      "RangeIndex: 67100 entries, 0 to 67099\n",
      "Data columns (total 5 columns):\n",
      " #   Column                 Non-Null Count  Dtype  \n",
      "---  ------                 --------------  -----  \n",
      " 0   superficie_construida  67100 non-null  int64  \n",
      " 1   precio                 67100 non-null  int64  \n",
      " 2   distritos_id           67100 non-null  int64  \n",
      " 3   dormitorios            67100 non-null  int64  \n",
      " 4   banos                  67100 non-null  float64\n",
      "dtypes: float64(1), int64(4)\n",
      "memory usage: 2.6 MB\n"
     ]
    }
   ],
   "source": [
    "# Información del DataFrame\n",
    "df.info()"
   ]
  },
  {
   "cell_type": "code",
   "execution_count": 73,
   "id": "97b1cc00-9007-4ee0-a80a-98d9e5108cb4",
   "metadata": {
    "tags": []
   },
   "outputs": [],
   "source": [
    "# X son las características (superficie_construida y distritos_id) e Y es lo que queremos predecir (precio) \n",
    "x = df[['superficie_construida', 'distritos_id', 'dormitorios', 'banos']]\n",
    "y = df['precio']"
   ]
  },
  {
   "cell_type": "markdown",
   "id": "daba19df-6c1e-4c42-ba94-93195d37eaa5",
   "metadata": {},
   "source": [
    "Creamos visualizaciónes para facilitar una exploración manual. Primero preparamos nuestros dataframes, lo dividimos en dos: un representará las características y el otro los precios:"
   ]
  },
  {
   "cell_type": "code",
   "execution_count": 74,
   "id": "b3286758-aab1-417b-832f-f0979cdae0d6",
   "metadata": {
    "tags": []
   },
   "outputs": [
    {
     "name": "stdout",
     "output_type": "stream",
     "text": [
      "------- Correlación de Pearson m2 vs precio ------\n",
      "0.16576537534880018\n",
      "------- Correlación de Pearson dormitorios vs precio ------\n",
      "0.0688522419652047\n",
      "------- Correlación de Pearson banos vs precio ------\n",
      "0.1323728158042718\n"
     ]
    }
   ],
   "source": [
    "# Correlación de Pearson\n",
    "correlacion_superficie_precio = df['superficie_construida'].corr(df['precio']) \n",
    "print('------- Correlación de Pearson m2 vs precio ------') \n",
    "print(correlacion_superficie_precio)\n",
    "\n",
    "correlacion_dormitorios_precio = df['dormitorios'].corr(df['precio']) \n",
    "print('------- Correlación de Pearson dormitorios vs precio ------') \n",
    "print(correlacion_dormitorios_precio)\n",
    "\n",
    "correlacion_banos_precio = df['banos'].corr(df['precio']) \n",
    "print('------- Correlación de Pearson banos vs precio ------') \n",
    "print(correlacion_banos_precio)"
   ]
  },
  {
   "cell_type": "markdown",
   "id": "2609b3c0-dc32-49cf-b28d-12fbe3475d85",
   "metadata": {},
   "source": [
    "## Modelo LinearRegression"
   ]
  },
  {
   "cell_type": "markdown",
   "id": "89262369-1c41-4faa-979f-31cb53506b94",
   "metadata": {
    "jp-MarkdownHeadingCollapsed": true,
    "tags": []
   },
   "source": [
    "### Paso 1: Lectura de datos"
   ]
  },
  {
   "cell_type": "code",
   "execution_count": 75,
   "id": "2a24c462-f889-4d0b-9b9e-cd3cadd5e1b0",
   "metadata": {
    "tags": []
   },
   "outputs": [
    {
     "data": {
      "text/html": [
       "<div>\n",
       "<style scoped>\n",
       "    .dataframe tbody tr th:only-of-type {\n",
       "        vertical-align: middle;\n",
       "    }\n",
       "\n",
       "    .dataframe tbody tr th {\n",
       "        vertical-align: top;\n",
       "    }\n",
       "\n",
       "    .dataframe thead th {\n",
       "        text-align: right;\n",
       "    }\n",
       "</style>\n",
       "<table border=\"1\" class=\"dataframe\">\n",
       "  <thead>\n",
       "    <tr style=\"text-align: right;\">\n",
       "      <th></th>\n",
       "      <th>id</th>\n",
       "      <th>distrito</th>\n",
       "    </tr>\n",
       "  </thead>\n",
       "  <tbody>\n",
       "    <tr>\n",
       "      <th>0</th>\n",
       "      <td>1</td>\n",
       "      <td>ARGANZUELA</td>\n",
       "    </tr>\n",
       "    <tr>\n",
       "      <th>1</th>\n",
       "      <td>4</td>\n",
       "      <td>CENTRO</td>\n",
       "    </tr>\n",
       "    <tr>\n",
       "      <th>2</th>\n",
       "      <td>7</td>\n",
       "      <td>SALAMANCA</td>\n",
       "    </tr>\n",
       "    <tr>\n",
       "      <th>3</th>\n",
       "      <td>8</td>\n",
       "      <td>CHAMARTIN</td>\n",
       "    </tr>\n",
       "    <tr>\n",
       "      <th>4</th>\n",
       "      <td>9</td>\n",
       "      <td>TETUAN</td>\n",
       "    </tr>\n",
       "  </tbody>\n",
       "</table>\n",
       "</div>"
      ],
      "text/plain": [
       "   id    distrito\n",
       "0   1  ARGANZUELA\n",
       "1   4      CENTRO\n",
       "2   7   SALAMANCA\n",
       "3   8   CHAMARTIN\n",
       "4   9      TETUAN"
      ]
     },
     "execution_count": 75,
     "metadata": {},
     "output_type": "execute_result"
    }
   ],
   "source": [
    "df_distritos = pd.read_csv('distritos.csv') # Nombres e ids de distrito\n",
    "df_distritos.head()"
   ]
  },
  {
   "cell_type": "markdown",
   "id": "d9884ce7-4a76-485c-8742-2445dd3acc02",
   "metadata": {
    "jp-MarkdownHeadingCollapsed": true,
    "tags": []
   },
   "source": [
    "### Paso2: Prepración de variables"
   ]
  },
  {
   "cell_type": "code",
   "execution_count": 76,
   "id": "9359b715-3c93-4501-9363-b6413f6683ee",
   "metadata": {
    "tags": []
   },
   "outputs": [],
   "source": [
    "# X son las características (superficie_construida, dormitorios, banos y distritos_id) e Y es lo que queremos predecir (precio) \n",
    "x = df[['superficie_construida', 'distritos_id', 'dormitorios', 'banos']]\n",
    "y = df['precio']"
   ]
  },
  {
   "cell_type": "code",
   "execution_count": 77,
   "id": "ddfabe8a-5f13-4160-83c2-e9d0b742db41",
   "metadata": {
    "tags": []
   },
   "outputs": [],
   "source": [
    "# Se añade una nueva columna al DataFrame que representa el precio por metro cuadrado\n",
    "\n",
    "df['precio_m2'] = df['precio'] / df['superficie_construida']"
   ]
  },
  {
   "cell_type": "markdown",
   "id": "d5ff146b-62ec-40a3-86aa-0d425f7c0dfa",
   "metadata": {
    "jp-MarkdownHeadingCollapsed": true,
    "tags": []
   },
   "source": [
    "### Paso 3: Limpieza de datos"
   ]
  },
  {
   "cell_type": "markdown",
   "id": "6fe5af3c-08ce-4de8-82aa-f9f10bd454e6",
   "metadata": {},
   "source": [
    "Dado que ya hemos realizado el EDA, hemos visto que hay algunos valores atípicos que deforman bastante el gráfico. \n",
    "Se filtran los valores atípicos del precio por metro cuadrado usando los percentiles 1 y 99. Esto ayuda a mejorar la calidad de los datos eliminando los extremos."
   ]
  },
  {
   "cell_type": "code",
   "execution_count": 78,
   "id": "2a7dc2b0-fc16-4459-8807-cd6f0c779d39",
   "metadata": {
    "tags": []
   },
   "outputs": [],
   "source": [
    "# Eliminar valores atípicos usando el percentil 99 y 1 para precio m2, dormitorios y banos\n",
    "df = df[(df['precio_m2'] < df['precio_m2'].quantile(0.9)) & (df['precio_m2'] > df['precio_m2'].quantile(0.1))]\n",
    "df = df[(df['dormitorios'] < df['dormitorios'].quantile(0.9)) & (df['dormitorios'] > df['dormitorios'].quantile(0.1))]\n",
    "df = df[(df['banos'] < df['banos'].quantile(0.9)) & (df['banos'] > df['banos'].quantile(0.1))]"
   ]
  },
  {
   "cell_type": "code",
   "execution_count": 79,
   "id": "6a809b07-13f7-47cb-b6c4-3d5b7088b9a1",
   "metadata": {
    "tags": []
   },
   "outputs": [],
   "source": [
    "# Con los datos limpios volvemos a reasignar x e y \n",
    "x = df[['superficie_construida', 'distritos_id', 'dormitorios', 'banos']] \n",
    "y = df['precio']"
   ]
  },
  {
   "cell_type": "markdown",
   "id": "5ba4c4e2-324d-4314-b68a-bbba2524a68f",
   "metadata": {
    "jp-MarkdownHeadingCollapsed": true,
    "tags": []
   },
   "source": [
    "### Paso 4: Normalización de Datos"
   ]
  },
  {
   "cell_type": "markdown",
   "id": "3aba3d7b-bfcd-4403-93cf-350b2b5b8ef4",
   "metadata": {},
   "source": [
    "**Normalización de la Superficie Construida, Dormitorios y Banos**\n",
    "- Se normalizan estas variables restando la media y dividiendo por la desviación estándar. Esto coloca los datos en una escala común sin distorsionar las diferencias en los rangos de valores.\n",
    "\n",
    "**Creación de Características Normalizadas**\n",
    "- Se crea un nuevo DataFrame (caracteristicas) que combina 'superficie_construida' normalizada y 'distritos_id’.\n",
    "\n",
    "**Normalización del Precio**\n",
    "- Se normaliza el precio de la misma manera que las otras variables"
   ]
  },
  {
   "cell_type": "code",
   "execution_count": 80,
   "id": "3f72e2d1-7e65-4c98-b259-d998d36cc517",
   "metadata": {
    "tags": []
   },
   "outputs": [],
   "source": [
    "# Normalizar los datos\n",
    "media_superficie = x['superficie_construida'].mean()\n",
    "std_superficie = x['superficie_construida'].std()\n",
    "superficie_normalizada = (df['superficie_construida'] - media_superficie) / std_superficie\n",
    "\n",
    "media_dormitorios = x['dormitorios'].mean()\n",
    "std_dormitorios = x['dormitorios'].std()\n",
    "dormitorios_normalizados = (df['dormitorios'] - media_dormitorios) / std_dormitorios\n",
    "\n",
    "media_banos = x['banos'].mean()\n",
    "std_banos = x['banos'].std()\n",
    "banos_normalizados = (df['banos'] - media_banos) / std_banos"
   ]
  },
  {
   "cell_type": "code",
   "execution_count": 81,
   "id": "36893489-1482-45d1-a554-4889f247ca35",
   "metadata": {
    "tags": []
   },
   "outputs": [],
   "source": [
    "# Combinar las variables normalizadas con 'distritos_id' no normalizado\n",
    "caracteristicas = pd.DataFrame({\n",
    "    'superficie_construida': superficie_normalizada,\n",
    "    'dormitorios': dormitorios_normalizados,\n",
    "    'banos': banos_normalizados,\n",
    "    'distritos_id': x['distritos_id']\n",
    "})"
   ]
  },
  {
   "cell_type": "code",
   "execution_count": 82,
   "id": "c52a8f85-c465-42fa-a73e-afb54a214cc3",
   "metadata": {
    "tags": []
   },
   "outputs": [],
   "source": [
    "precios = (y - y.mean()) / y.std()"
   ]
  },
  {
   "cell_type": "markdown",
   "id": "012e5f85-6376-4811-9960-cce8272a95f7",
   "metadata": {},
   "source": [
    "### Paso 5: División de Datos en Entrenamiento y Prueba"
   ]
  },
  {
   "cell_type": "markdown",
   "id": "cde3fa40-7e73-46d7-a0c4-bb93fdd514ba",
   "metadata": {},
   "source": [
    "Se divide el conjunto de datos en un conjunto de entrenamiento y uno de prueba. Esto es muy importante para poder evaluar el modelo de manera efectiva y evitar el overfitting."
   ]
  },
  {
   "cell_type": "code",
   "execution_count": 83,
   "id": "79991bf7-925d-4f25-a098-225cef0ee956",
   "metadata": {
    "tags": []
   },
   "outputs": [],
   "source": [
    "# Dividir los datos en conjunto de entrenamiento y prueba\n",
    "x_train, x_test, y_train, y_test = train_test_split(caracteristicas, precios, test_size=0.2, random_state=42)"
   ]
  },
  {
   "cell_type": "markdown",
   "id": "1dc3651d-d8f8-4f6b-9dcc-d460b2e97883",
   "metadata": {},
   "source": [
    "### Paso 6: Creación y entrenamiento del modelo"
   ]
  },
  {
   "cell_type": "code",
   "execution_count": 84,
   "id": "b76d6f46-669a-4755-ba64-59d601a28038",
   "metadata": {
    "tags": []
   },
   "outputs": [],
   "source": [
    "# Crear el modelo de regresión lineal\n",
    "model = LinearRegression()"
   ]
  },
  {
   "cell_type": "code",
   "execution_count": 85,
   "id": "d1852810-55d1-42b5-99ad-eb564a42e059",
   "metadata": {
    "tags": []
   },
   "outputs": [
    {
     "data": {
      "text/html": [
       "<style>#sk-container-id-3 {color: black;background-color: white;}#sk-container-id-3 pre{padding: 0;}#sk-container-id-3 div.sk-toggleable {background-color: white;}#sk-container-id-3 label.sk-toggleable__label {cursor: pointer;display: block;width: 100%;margin-bottom: 0;padding: 0.3em;box-sizing: border-box;text-align: center;}#sk-container-id-3 label.sk-toggleable__label-arrow:before {content: \"▸\";float: left;margin-right: 0.25em;color: #696969;}#sk-container-id-3 label.sk-toggleable__label-arrow:hover:before {color: black;}#sk-container-id-3 div.sk-estimator:hover label.sk-toggleable__label-arrow:before {color: black;}#sk-container-id-3 div.sk-toggleable__content {max-height: 0;max-width: 0;overflow: hidden;text-align: left;background-color: #f0f8ff;}#sk-container-id-3 div.sk-toggleable__content pre {margin: 0.2em;color: black;border-radius: 0.25em;background-color: #f0f8ff;}#sk-container-id-3 input.sk-toggleable__control:checked~div.sk-toggleable__content {max-height: 200px;max-width: 100%;overflow: auto;}#sk-container-id-3 input.sk-toggleable__control:checked~label.sk-toggleable__label-arrow:before {content: \"▾\";}#sk-container-id-3 div.sk-estimator input.sk-toggleable__control:checked~label.sk-toggleable__label {background-color: #d4ebff;}#sk-container-id-3 div.sk-label input.sk-toggleable__control:checked~label.sk-toggleable__label {background-color: #d4ebff;}#sk-container-id-3 input.sk-hidden--visually {border: 0;clip: rect(1px 1px 1px 1px);clip: rect(1px, 1px, 1px, 1px);height: 1px;margin: -1px;overflow: hidden;padding: 0;position: absolute;width: 1px;}#sk-container-id-3 div.sk-estimator {font-family: monospace;background-color: #f0f8ff;border: 1px dotted black;border-radius: 0.25em;box-sizing: border-box;margin-bottom: 0.5em;}#sk-container-id-3 div.sk-estimator:hover {background-color: #d4ebff;}#sk-container-id-3 div.sk-parallel-item::after {content: \"\";width: 100%;border-bottom: 1px solid gray;flex-grow: 1;}#sk-container-id-3 div.sk-label:hover label.sk-toggleable__label {background-color: #d4ebff;}#sk-container-id-3 div.sk-serial::before {content: \"\";position: absolute;border-left: 1px solid gray;box-sizing: border-box;top: 0;bottom: 0;left: 50%;z-index: 0;}#sk-container-id-3 div.sk-serial {display: flex;flex-direction: column;align-items: center;background-color: white;padding-right: 0.2em;padding-left: 0.2em;position: relative;}#sk-container-id-3 div.sk-item {position: relative;z-index: 1;}#sk-container-id-3 div.sk-parallel {display: flex;align-items: stretch;justify-content: center;background-color: white;position: relative;}#sk-container-id-3 div.sk-item::before, #sk-container-id-3 div.sk-parallel-item::before {content: \"\";position: absolute;border-left: 1px solid gray;box-sizing: border-box;top: 0;bottom: 0;left: 50%;z-index: -1;}#sk-container-id-3 div.sk-parallel-item {display: flex;flex-direction: column;z-index: 1;position: relative;background-color: white;}#sk-container-id-3 div.sk-parallel-item:first-child::after {align-self: flex-end;width: 50%;}#sk-container-id-3 div.sk-parallel-item:last-child::after {align-self: flex-start;width: 50%;}#sk-container-id-3 div.sk-parallel-item:only-child::after {width: 0;}#sk-container-id-3 div.sk-dashed-wrapped {border: 1px dashed gray;margin: 0 0.4em 0.5em 0.4em;box-sizing: border-box;padding-bottom: 0.4em;background-color: white;}#sk-container-id-3 div.sk-label label {font-family: monospace;font-weight: bold;display: inline-block;line-height: 1.2em;}#sk-container-id-3 div.sk-label-container {text-align: center;}#sk-container-id-3 div.sk-container {/* jupyter's `normalize.less` sets `[hidden] { display: none; }` but bootstrap.min.css set `[hidden] { display: none !important; }` so we also need the `!important` here to be able to override the default hidden behavior on the sphinx rendered scikit-learn.org. See: https://github.com/scikit-learn/scikit-learn/issues/21755 */display: inline-block !important;position: relative;}#sk-container-id-3 div.sk-text-repr-fallback {display: none;}</style><div id=\"sk-container-id-3\" class=\"sk-top-container\"><div class=\"sk-text-repr-fallback\"><pre>LinearRegression()</pre><b>In a Jupyter environment, please rerun this cell to show the HTML representation or trust the notebook. <br />On GitHub, the HTML representation is unable to render, please try loading this page with nbviewer.org.</b></div><div class=\"sk-container\" hidden><div class=\"sk-item\"><div class=\"sk-estimator sk-toggleable\"><input class=\"sk-toggleable__control sk-hidden--visually\" id=\"sk-estimator-id-3\" type=\"checkbox\" checked><label for=\"sk-estimator-id-3\" class=\"sk-toggleable__label sk-toggleable__label-arrow\">LinearRegression</label><div class=\"sk-toggleable__content\"><pre>LinearRegression()</pre></div></div></div></div></div>"
      ],
      "text/plain": [
       "LinearRegression()"
      ]
     },
     "execution_count": 85,
     "metadata": {},
     "output_type": "execute_result"
    }
   ],
   "source": [
    "# Entrenar el modelo\n",
    "model.fit(x_train, y_train)"
   ]
  },
  {
   "cell_type": "markdown",
   "id": "ed6fd05f-7277-48cf-8677-e9c4d985db32",
   "metadata": {},
   "source": [
    "### Paso 7: Evaluación del Modelo"
   ]
  },
  {
   "cell_type": "code",
   "execution_count": 86,
   "id": "7380fe2f-cb8d-4d17-9aea-52d96b5a8bdb",
   "metadata": {
    "tags": []
   },
   "outputs": [],
   "source": [
    "# Hacer predicciones en el conjunto de prueba\n",
    "y_pred = model.predict(x_test)"
   ]
  },
  {
   "cell_type": "code",
   "execution_count": 87,
   "id": "de57695d-8c98-43fb-88f2-85258e6b1d0f",
   "metadata": {
    "tags": []
   },
   "outputs": [],
   "source": [
    "# Evaluar el modelo\n",
    "mse = mean_squared_error(y_test, y_pred) \n",
    "r2 = r2_score(y_test, y_pred)"
   ]
  },
  {
   "cell_type": "code",
   "execution_count": 88,
   "id": "e36b68da-e94a-41f0-a7b8-1e0dff81eed6",
   "metadata": {
    "tags": []
   },
   "outputs": [
    {
     "name": "stdout",
     "output_type": "stream",
     "text": [
      "MSE: 0.36955070314637\n",
      "R²: 0.6252384327491572\n"
     ]
    }
   ],
   "source": [
    "print(f'MSE: {mse}') \n",
    "print(f'R²: {r2}')"
   ]
  },
  {
   "cell_type": "markdown",
   "id": "bd20c135-3590-49f6-b719-28f166350906",
   "metadata": {},
   "source": [
    "**Interpretación:**\n",
    "\n",
    "- El MSE es 0.3696, lo que significa que, en promedio, las predicciones del modelo difieren en aproximadamente 0.3696 unidades cuadradas de la verdadera etiqueta.\n",
    "\n",
    "- Un R² de 0.6252 significa que aproximadamente el 62.52% de la variabilidad en los datos de respuesta es explicada por el modelo de regresión lineal."
   ]
  },
  {
   "cell_type": "markdown",
   "id": "8e8ac253-e68c-48a6-8a12-e0676ac84932",
   "metadata": {},
   "source": [
    "### Paso 8a: Implementación Práctica I"
   ]
  },
  {
   "cell_type": "markdown",
   "id": "19b26458-9c61-4e3f-a654-9af49bfc6206",
   "metadata": {},
   "source": [
    "**Mapeo de Distritos**\n",
    "\n",
    "Se crea un diccionario que mapea los identificadores de distrito a sus nombres. El objetivo es hacerlo más amigable al usuario en el interfaz que vamos a preparar."
   ]
  },
  {
   "cell_type": "code",
   "execution_count": 89,
   "id": "522c1393-2e41-450d-953b-684da7e7132c",
   "metadata": {
    "tags": []
   },
   "outputs": [],
   "source": [
    "distritos = dict(zip(df_distritos['id'],df_distritos['distrito']))"
   ]
  },
  {
   "cell_type": "code",
   "execution_count": 90,
   "id": "1a4770d5-690b-4eb5-8384-3925290566a5",
   "metadata": {
    "tags": []
   },
   "outputs": [],
   "source": [
    "# Crear la lista de opciones para el Dropdown como tuplas (nombre, id) \n",
    "opciones_distritos = [(nombre, id) for id, nombre in distritos.items()]"
   ]
  },
  {
   "cell_type": "markdown",
   "id": "aa8fe303-bd6b-4635-bb16-d41f491cbbcd",
   "metadata": {},
   "source": [
    "### Paso 8b: Implementación Práctica II"
   ]
  },
  {
   "cell_type": "markdown",
   "id": "d9672ac1-807d-4fb3-adcc-27685c3bd403",
   "metadata": {},
   "source": [
    "**Función de Predicción Personalizada**\n",
    "\n",
    "Se define una función predict_precio que normaliza la superficie construida de una entrada, la combina con el identificador de distrito y utiliza el modelo para hacer una predicción del precio."
   ]
  },
  {
   "cell_type": "code",
   "execution_count": 92,
   "id": "1ca03e4d-84f8-4eb0-9abd-7e248f6607bd",
   "metadata": {
    "tags": []
   },
   "outputs": [],
   "source": [
    "def predict_precio (superficie, dormitorios, banos, distrito):\n",
    "    #Normalizar solo la superficie construida\n",
    "    superficie_normalizada = (superficie - media_superficie) / std_superficie\n",
    "    dormitorios_normalizados = (dormitorios - media_dormitorios) / std_dormitorios\n",
    "    banos_normalizados = (banos - media_banos) / std_banos\n",
    "    \n",
    "    #Convertirlos en un DataFrame de Pandas para la predicción\n",
    "    datos_prediccion = pd.DataFrame({\n",
    "        'superficie_construida': [superficie_normalizada],\n",
    "        'dormitorios': [dormitorios_normalizados],\n",
    "        'banos': [banos_normalizados],\n",
    "        'distritos_id': [distrito]\n",
    "    })\n",
    "    \n",
    "    #Se hace la predicción (sin normalizar el distrito)\n",
    "    precio_pred_normalizado = model.predict(datos_prediccion)\n",
    "    \n",
    "    #Se desnormaliza la predicción del precio para mostrarlo al usuario\n",
    "    precio_pred = precio_pred_normalizado * y.std() + y.mean()\n",
    "    \n",
    "    precio_formateado = '{:20,d} €'.format(int(precio_pred[0]))\n",
    "    return precio_formateado"
   ]
  },
  {
   "cell_type": "markdown",
   "id": "0bf3537f-8a49-4b6e-b4fc-43b86a30f9c5",
   "metadata": {},
   "source": [
    "### Paso 9: Interfaz de Usuario"
   ]
  },
  {
   "cell_type": "markdown",
   "id": "266193dc-2ce8-4756-af8c-fd204a04a955",
   "metadata": {},
   "source": [
    "**Creación de la Interfaz con Gradio**\n",
    "\n",
    "Se configura una interfaz de usuario con Gradio, donde los usuarios pueden introducir la superficie y seleccionar un distrito para obtener una predicción del precio del inmueble.\n",
    "Se lanza la interfaz para que los usuarios interactúen con el modelo."
   ]
  },
  {
   "cell_type": "code",
   "execution_count": 96,
   "id": "ddfd9268-f8f1-4ec1-aa75-2007794661a8",
   "metadata": {
    "tags": []
   },
   "outputs": [],
   "source": [
    "import gradio as gr"
   ]
  },
  {
   "cell_type": "code",
   "execution_count": 97,
   "id": "056e6c0d-223d-4720-848a-b189b48fd11a",
   "metadata": {},
   "outputs": [
    {
     "name": "stdout",
     "output_type": "stream",
     "text": [
      "4.15.0\n"
     ]
    }
   ],
   "source": [
    "print(gr.__version__)"
   ]
  },
  {
   "cell_type": "code",
   "execution_count": 98,
   "id": "67d991ea-c0f1-457b-a2c9-ab9cbc5eebc3",
   "metadata": {
    "tags": []
   },
   "outputs": [],
   "source": [
    "# Crear la interfaz con Gradio\n",
    "iface = gr.Interface(\n",
    "    fn=predict_precio,\n",
    "    inputs=[\n",
    "        gr.Number(label=\"Superficie (m²)\"),\n",
    "        gr.Number(label=\"Dormitorios\"),\n",
    "        gr.Number(label=\"Baños\"),\n",
    "        gr.Dropdown(choices=opciones_distritos, label=\"Distrito\")\n",
    "    ],\n",
    "    outputs=\"text\",  # Cambiado a 'text' para permitir una cadena\n",
    "    title=\"Predicción de Precio de Inmueble\",\n",
    "    description=\"Introduce la superficie, dormitorios, baños y selecciona el distrito para predecir el precio\"\n",
    ")\n"
   ]
  },
  {
   "cell_type": "code",
   "execution_count": 99,
   "id": "eceffc1f-0836-4a60-aeea-e88ba16cf09e",
   "metadata": {},
   "outputs": [
    {
     "name": "stdout",
     "output_type": "stream",
     "text": [
      "Running on local URL:  http://127.0.0.1:7865\n",
      "\n",
      "To create a public link, set `share=True` in `launch()`.\n"
     ]
    },
    {
     "data": {
      "text/html": [
       "<div><iframe src=\"http://127.0.0.1:7865/\" width=\"100%\" height=\"500\" allow=\"autoplay; camera; microphone; clipboard-read; clipboard-write;\" frameborder=\"0\" allowfullscreen></iframe></div>"
      ],
      "text/plain": [
       "<IPython.core.display.HTML object>"
      ]
     },
     "metadata": {},
     "output_type": "display_data"
    },
    {
     "data": {
      "text/plain": []
     },
     "execution_count": 99,
     "metadata": {},
     "output_type": "execute_result"
    }
   ],
   "source": [
    "# Ejecutar la interfaz\n",
    "iface.launch()"
   ]
  }
 ],
 "metadata": {
  "kernelspec": {
   "display_name": "Python 3 (ipykernel)",
   "language": "python",
   "name": "python3"
  },
  "language_info": {
   "codemirror_mode": {
    "name": "ipython",
    "version": 3
   },
   "file_extension": ".py",
   "mimetype": "text/x-python",
   "name": "python",
   "nbconvert_exporter": "python",
   "pygments_lexer": "ipython3",
   "version": "3.10.9"
  }
 },
 "nbformat": 4,
 "nbformat_minor": 5
}
