{
 "cells": [
  {
   "cell_type": "markdown",
   "id": "6800fb26",
   "metadata": {},
   "source": [
    "# Regresión Logística vs Árboles de Decisión \n",
    "\n",
    "Se van a utilizar ambos modelos para predecir si hay impago o no de ciertos clientes y elegir el mejor modelo"
   ]
  },
  {
   "cell_type": "markdown",
   "id": "4f8627eb",
   "metadata": {},
   "source": [
    "## Lectura de Datos y EDA"
   ]
  },
  {
   "cell_type": "code",
   "execution_count": 58,
   "id": "3d1f2176",
   "metadata": {},
   "outputs": [],
   "source": [
    "# 1. Importar librerías\n",
    "import numpy as np\n",
    "import pandas as pd\n",
    "\n",
    "import matplotlib.pyplot as plt\n",
    "from beautifultable import BeautifulTable as BT\n",
    "\n",
    "from sklearn.model_selection import train_test_split as separar\n",
    "from sklearn.preprocessing import MinMaxScaler\n",
    "from sklearn.preprocessing import LabelEncoder\n",
    "from sklearn.tree import DecisionTreeClassifier as Arbol"
   ]
  },
  {
   "cell_type": "code",
   "execution_count": 8,
   "id": "2597a7d1",
   "metadata": {},
   "outputs": [
    {
     "data": {
      "text/html": [
       "<div>\n",
       "<style scoped>\n",
       "    .dataframe tbody tr th:only-of-type {\n",
       "        vertical-align: middle;\n",
       "    }\n",
       "\n",
       "    .dataframe tbody tr th {\n",
       "        vertical-align: top;\n",
       "    }\n",
       "\n",
       "    .dataframe thead th {\n",
       "        text-align: right;\n",
       "    }\n",
       "</style>\n",
       "<table border=\"1\" class=\"dataframe\">\n",
       "  <thead>\n",
       "    <tr style=\"text-align: right;\">\n",
       "      <th></th>\n",
       "      <th>age</th>\n",
       "      <th>job</th>\n",
       "      <th>marital</th>\n",
       "      <th>education</th>\n",
       "      <th>default</th>\n",
       "      <th>Unnamed: 5</th>\n",
       "      <th>Unnamed: 6</th>\n",
       "    </tr>\n",
       "  </thead>\n",
       "  <tbody>\n",
       "    <tr>\n",
       "      <th>0</th>\n",
       "      <td>30</td>\n",
       "      <td>unemployed</td>\n",
       "      <td>married</td>\n",
       "      <td>primary</td>\n",
       "      <td>no</td>\n",
       "      <td>NaN</td>\n",
       "      <td>NaN</td>\n",
       "    </tr>\n",
       "    <tr>\n",
       "      <th>1</th>\n",
       "      <td>33</td>\n",
       "      <td>services</td>\n",
       "      <td>married</td>\n",
       "      <td>secondary</td>\n",
       "      <td>no</td>\n",
       "      <td>NaN</td>\n",
       "      <td>NaN</td>\n",
       "    </tr>\n",
       "    <tr>\n",
       "      <th>2</th>\n",
       "      <td>35</td>\n",
       "      <td>management</td>\n",
       "      <td>single</td>\n",
       "      <td>tertiary</td>\n",
       "      <td>no</td>\n",
       "      <td>NaN</td>\n",
       "      <td>NaN</td>\n",
       "    </tr>\n",
       "    <tr>\n",
       "      <th>3</th>\n",
       "      <td>30</td>\n",
       "      <td>management</td>\n",
       "      <td>married</td>\n",
       "      <td>tertiary</td>\n",
       "      <td>no</td>\n",
       "      <td>NaN</td>\n",
       "      <td>NaN</td>\n",
       "    </tr>\n",
       "    <tr>\n",
       "      <th>4</th>\n",
       "      <td>59</td>\n",
       "      <td>blue-collar</td>\n",
       "      <td>married</td>\n",
       "      <td>secondary</td>\n",
       "      <td>no</td>\n",
       "      <td>NaN</td>\n",
       "      <td>NaN</td>\n",
       "    </tr>\n",
       "    <tr>\n",
       "      <th>...</th>\n",
       "      <td>...</td>\n",
       "      <td>...</td>\n",
       "      <td>...</td>\n",
       "      <td>...</td>\n",
       "      <td>...</td>\n",
       "      <td>...</td>\n",
       "      <td>...</td>\n",
       "    </tr>\n",
       "    <tr>\n",
       "      <th>4427</th>\n",
       "      <td>33</td>\n",
       "      <td>services</td>\n",
       "      <td>married</td>\n",
       "      <td>secondary</td>\n",
       "      <td>no</td>\n",
       "      <td>NaN</td>\n",
       "      <td>NaN</td>\n",
       "    </tr>\n",
       "    <tr>\n",
       "      <th>4428</th>\n",
       "      <td>57</td>\n",
       "      <td>self-employed</td>\n",
       "      <td>married</td>\n",
       "      <td>tertiary</td>\n",
       "      <td>yes</td>\n",
       "      <td>NaN</td>\n",
       "      <td>NaN</td>\n",
       "    </tr>\n",
       "    <tr>\n",
       "      <th>4429</th>\n",
       "      <td>57</td>\n",
       "      <td>technician</td>\n",
       "      <td>married</td>\n",
       "      <td>secondary</td>\n",
       "      <td>no</td>\n",
       "      <td>NaN</td>\n",
       "      <td>NaN</td>\n",
       "    </tr>\n",
       "    <tr>\n",
       "      <th>4430</th>\n",
       "      <td>28</td>\n",
       "      <td>blue-collar</td>\n",
       "      <td>married</td>\n",
       "      <td>secondary</td>\n",
       "      <td>no</td>\n",
       "      <td>NaN</td>\n",
       "      <td>NaN</td>\n",
       "    </tr>\n",
       "    <tr>\n",
       "      <th>4431</th>\n",
       "      <td>44</td>\n",
       "      <td>entrepreneur</td>\n",
       "      <td>single</td>\n",
       "      <td>tertiary</td>\n",
       "      <td>no</td>\n",
       "      <td>NaN</td>\n",
       "      <td>NaN</td>\n",
       "    </tr>\n",
       "  </tbody>\n",
       "</table>\n",
       "<p>4432 rows × 7 columns</p>\n",
       "</div>"
      ],
      "text/plain": [
       "      age            job  marital  education default Unnamed: 5 Unnamed: 6\n",
       "0      30     unemployed  married    primary      no        NaN        NaN\n",
       "1      33       services  married  secondary      no        NaN        NaN\n",
       "2      35     management   single   tertiary      no        NaN        NaN\n",
       "3      30     management  married   tertiary      no        NaN        NaN\n",
       "4      59    blue-collar  married  secondary      no        NaN        NaN\n",
       "...   ...            ...      ...        ...     ...        ...        ...\n",
       "4427   33       services  married  secondary      no        NaN        NaN\n",
       "4428   57  self-employed  married   tertiary     yes        NaN        NaN\n",
       "4429   57     technician  married  secondary      no        NaN        NaN\n",
       "4430   28    blue-collar  married  secondary      no        NaN        NaN\n",
       "4431   44   entrepreneur   single   tertiary      no        NaN        NaN\n",
       "\n",
       "[4432 rows x 7 columns]"
      ]
     },
     "execution_count": 8,
     "metadata": {},
     "output_type": "execute_result"
    }
   ],
   "source": [
    "# 2. Importar datos\n",
    "df_credit_scoring = pd.read_csv('Credit Scoring.csv', encoding='latin1', delimiter = ';')\n",
    "df_credit_scoring"
   ]
  },
  {
   "cell_type": "code",
   "execution_count": 15,
   "id": "4b95eb83",
   "metadata": {},
   "outputs": [],
   "source": [
    "# Se eliminan las columnas Unnamed: 5 y Unnamed: 6 que se han creado por error:\n",
    "df_credit_scoring.drop(columns=['Unnamed: 5', 'Unnamed: 6'], inplace=True)"
   ]
  },
  {
   "cell_type": "code",
   "execution_count": 16,
   "id": "bba2c865",
   "metadata": {
    "scrolled": true
   },
   "outputs": [
    {
     "name": "stdout",
     "output_type": "stream",
     "text": [
      "34    231\n",
      "32    224\n",
      "31    199\n",
      "36    188\n",
      "33    186\n",
      "35    180\n",
      "37    161\n",
      "38    159\n",
      "30    150\n",
      "40    142\n",
      "42    141\n",
      "41    135\n",
      "39    130\n",
      "46    119\n",
      "43    115\n",
      "48    114\n",
      "49    112\n",
      "45    112\n",
      "47    108\n",
      "44    105\n",
      "28    103\n",
      "50    101\n",
      "29     97\n",
      "53     94\n",
      "27     94\n",
      "57     91\n",
      "51     91\n",
      "55     90\n",
      "52     86\n",
      "58     85\n",
      "26     77\n",
      "56     74\n",
      "54     71\n",
      "59     71\n",
      "60     47\n",
      "25     44\n",
      "24     24\n",
      "23     20\n",
      "61     16\n",
      "22      9\n",
      "63      8\n",
      "64      7\n",
      "62      7\n",
      "21      7\n",
      "19      4\n",
      "20      3\n",
      "Name: age, dtype: int64\n",
      "management       965\n",
      "blue-collar      943\n",
      "technician       767\n",
      "admin.           477\n",
      "services         417\n",
      "self-employed    183\n",
      "entrepreneur     168\n",
      "retired          156\n",
      "unemployed       128\n",
      "housemaid        109\n",
      "student           84\n",
      "unknown           35\n",
      "Name: job, dtype: int64\n",
      "married     2728\n",
      "single      1193\n",
      "divorced     511\n",
      "Name: marital, dtype: int64\n",
      "secondary    2277\n",
      "tertiary     1332\n",
      "primary       644\n",
      "unknown       179\n",
      "Name: education, dtype: int64\n",
      "no     4356\n",
      "yes      76\n",
      "Name: default, dtype: int64\n"
     ]
    }
   ],
   "source": [
    "# EDA\n",
    "for column in df_credit_scoring.columns:\n",
    "    print(df_credit_scoring[column].value_counts())"
   ]
  },
  {
   "cell_type": "code",
   "execution_count": 17,
   "id": "b767393d",
   "metadata": {},
   "outputs": [
    {
     "name": "stdout",
     "output_type": "stream",
     "text": [
      "Series([], dtype: int64)\n"
     ]
    }
   ],
   "source": [
    "# Se van a analizar los nulos\n",
    "null_counts = df_credit_scoring.isnull().sum()\n",
    "print(null_counts[null_counts > 0])"
   ]
  },
  {
   "cell_type": "code",
   "execution_count": 20,
   "id": "33fe9868",
   "metadata": {},
   "outputs": [
    {
     "data": {
      "image/png": "[encoded data removed]",
      "text/plain": [
       "<Figure size 1000x800 with 1 Axes>"
      ]
     },
     "metadata": {},
     "output_type": "display_data"
    },
    {
     "data": {
      "image/png": "[encoded data removed]",
      "text/plain": [
       "<Figure size 1000x800 with 1 Axes>"
      ]
     },
     "metadata": {},
     "output_type": "display_data"
    },
    {
     "data": {
      "image/png": "[encoded data removed]",
      "text/plain": [
       "<Figure size 1000x800 with 1 Axes>"
      ]
     },
     "metadata": {},
     "output_type": "display_data"
    },
    {
     "data": {
      "image/png": "[encoded data removed]",
      "text/plain": [
       "<Figure size 1000x800 with 1 Axes>"
      ]
     },
     "metadata": {},
     "output_type": "display_data"
    },
    {
     "data": {
      "image/png": "[encoded data removed]",
      "text/plain": [
       "<Figure size 1000x800 with 1 Axes>"
      ]
     },
     "metadata": {},
     "output_type": "display_data"
    }
   ],
   "source": [
    "# Visualizar un histograma de cada columna\n",
    "\n",
    "# Iterar sobre las columnas y crear un histograma para cada una\n",
    "for column in df_credit_scoring.columns:\n",
    "    plt.figure(figsize=(10, 8))  # Tamaño de la figura\n",
    "    plt.hist(df_credit_scoring[column], bins=20, color='skyblue', edgecolor='black')  # Crear el histograma\n",
    "    plt.title(f'Histograma de {column}')  # Título del histograma\n",
    "    plt.xlabel(column)  # Etiqueta del eje x\n",
    "    plt.ylabel('Frecuencia')  # Etiqueta del eje y\n",
    "    plt.grid(True)  # Activar la cuadrícula\n",
    "    plt.show()  # Mostrar el histograma"
   ]
  },
  {
   "cell_type": "markdown",
   "id": "0f49ed73",
   "metadata": {},
   "source": [
    "## Regresión Logística"
   ]
  },
  {
   "cell_type": "code",
   "execution_count": 39,
   "id": "3d60611e",
   "metadata": {},
   "outputs": [
    {
     "data": {
      "text/html": [
       "<div>\n",
       "<style scoped>\n",
       "    .dataframe tbody tr th:only-of-type {\n",
       "        vertical-align: middle;\n",
       "    }\n",
       "\n",
       "    .dataframe tbody tr th {\n",
       "        vertical-align: top;\n",
       "    }\n",
       "\n",
       "    .dataframe thead th {\n",
       "        text-align: right;\n",
       "    }\n",
       "</style>\n",
       "<table border=\"1\" class=\"dataframe\">\n",
       "  <thead>\n",
       "    <tr style=\"text-align: right;\">\n",
       "      <th></th>\n",
       "      <th>age</th>\n",
       "      <th>job</th>\n",
       "      <th>marital</th>\n",
       "      <th>education</th>\n",
       "      <th>default</th>\n",
       "    </tr>\n",
       "  </thead>\n",
       "  <tbody>\n",
       "    <tr>\n",
       "      <th>0</th>\n",
       "      <td>30</td>\n",
       "      <td>10</td>\n",
       "      <td>1</td>\n",
       "      <td>0</td>\n",
       "      <td>0</td>\n",
       "    </tr>\n",
       "    <tr>\n",
       "      <th>1</th>\n",
       "      <td>33</td>\n",
       "      <td>7</td>\n",
       "      <td>1</td>\n",
       "      <td>1</td>\n",
       "      <td>0</td>\n",
       "    </tr>\n",
       "    <tr>\n",
       "      <th>2</th>\n",
       "      <td>35</td>\n",
       "      <td>4</td>\n",
       "      <td>2</td>\n",
       "      <td>2</td>\n",
       "      <td>0</td>\n",
       "    </tr>\n",
       "    <tr>\n",
       "      <th>3</th>\n",
       "      <td>30</td>\n",
       "      <td>4</td>\n",
       "      <td>1</td>\n",
       "      <td>2</td>\n",
       "      <td>0</td>\n",
       "    </tr>\n",
       "    <tr>\n",
       "      <th>4</th>\n",
       "      <td>59</td>\n",
       "      <td>1</td>\n",
       "      <td>1</td>\n",
       "      <td>1</td>\n",
       "      <td>0</td>\n",
       "    </tr>\n",
       "    <tr>\n",
       "      <th>...</th>\n",
       "      <td>...</td>\n",
       "      <td>...</td>\n",
       "      <td>...</td>\n",
       "      <td>...</td>\n",
       "      <td>...</td>\n",
       "    </tr>\n",
       "    <tr>\n",
       "      <th>4427</th>\n",
       "      <td>33</td>\n",
       "      <td>7</td>\n",
       "      <td>1</td>\n",
       "      <td>1</td>\n",
       "      <td>0</td>\n",
       "    </tr>\n",
       "    <tr>\n",
       "      <th>4428</th>\n",
       "      <td>57</td>\n",
       "      <td>6</td>\n",
       "      <td>1</td>\n",
       "      <td>2</td>\n",
       "      <td>1</td>\n",
       "    </tr>\n",
       "    <tr>\n",
       "      <th>4429</th>\n",
       "      <td>57</td>\n",
       "      <td>9</td>\n",
       "      <td>1</td>\n",
       "      <td>1</td>\n",
       "      <td>0</td>\n",
       "    </tr>\n",
       "    <tr>\n",
       "      <th>4430</th>\n",
       "      <td>28</td>\n",
       "      <td>1</td>\n",
       "      <td>1</td>\n",
       "      <td>1</td>\n",
       "      <td>0</td>\n",
       "    </tr>\n",
       "    <tr>\n",
       "      <th>4431</th>\n",
       "      <td>44</td>\n",
       "      <td>2</td>\n",
       "      <td>2</td>\n",
       "      <td>2</td>\n",
       "      <td>0</td>\n",
       "    </tr>\n",
       "  </tbody>\n",
       "</table>\n",
       "<p>4432 rows × 5 columns</p>\n",
       "</div>"
      ],
      "text/plain": [
       "      age  job  marital  education  default\n",
       "0      30   10        1          0        0\n",
       "1      33    7        1          1        0\n",
       "2      35    4        2          2        0\n",
       "3      30    4        1          2        0\n",
       "4      59    1        1          1        0\n",
       "...   ...  ...      ...        ...      ...\n",
       "4427   33    7        1          1        0\n",
       "4428   57    6        1          2        1\n",
       "4429   57    9        1          1        0\n",
       "4430   28    1        1          1        0\n",
       "4431   44    2        2          2        0\n",
       "\n",
       "[4432 rows x 5 columns]"
      ]
     },
     "execution_count": 39,
     "metadata": {},
     "output_type": "execute_result"
    }
   ],
   "source": [
    "# Variables categóricas: Encode\n",
    "\n",
    "encoder = LabelEncoder()\n",
    "df_credit_scoring_encoder = df_credit_scoring.copy()\n",
    "categorical_columns = ['job', 'marital', 'education']\n",
    "\n",
    "for column in categorical_columns:\n",
    "    df_credit_scoring_encoder[column] = encoder.fit_transform(df_credit_scoring_encoder[column])\n",
    "    \n",
    "# Transformación de la variable objetivo default a 0 y 1\n",
    "df_credit_scoring_encoder['default'] = df_credit_scoring_encoder['default'].map({'no': 0, 'yes': 1})\n",
    "    \n",
    "df_credit_scoring_encoder"
   ]
  },
  {
   "cell_type": "code",
   "execution_count": 54,
   "id": "666b1ab4",
   "metadata": {},
   "outputs": [
    {
     "data": {
      "text/plain": [
       "0    4356\n",
       "1      76\n",
       "Name: default, dtype: int64"
      ]
     },
     "execution_count": 54,
     "metadata": {},
     "output_type": "execute_result"
    }
   ],
   "source": [
    "df_credit_scoring_encoder['default'].value_counts()"
   ]
  },
  {
   "cell_type": "code",
   "execution_count": 40,
   "id": "9b65dbaf",
   "metadata": {},
   "outputs": [],
   "source": [
    "# Separación entre variable objetivo y el resto\n",
    "X = df_credit_scoring_encoder.drop(columns=['default']).values\n",
    "y = df_credit_scoring_encoder['default'].values"
   ]
  },
  {
   "cell_type": "code",
   "execution_count": 49,
   "id": "9089db14",
   "metadata": {},
   "outputs": [
    {
     "name": "stdout",
     "output_type": "stream",
     "text": [
      "La forma de X_train es:  (3545, 4)\n",
      "La forma de y_train es:  (3545,)\n",
      "La forma de X_test es:  (887, 4)\n",
      "La forma de y_test es:  (887,)\n"
     ]
    }
   ],
   "source": [
    "# Separar en Entranamiento y Validación\n",
    "X_train, X_test, y_train, y_test = separar(X, y, test_size=0.2, random_state=0)\n",
    "print('La forma de X_train es: ', X_train.shape)\n",
    "print('La forma de y_train es: ', y_train.shape)\n",
    "print('La forma de X_test es: ', X_test.shape)\n",
    "print('La forma de y_test es: ', y_test.shape)"
   ]
  },
  {
   "cell_type": "code",
   "execution_count": 50,
   "id": "aa03be07",
   "metadata": {},
   "outputs": [
    {
     "data": {
      "text/plain": [
       "array([[0.37777778, 0.09090909, 0.5       , 1.        ],\n",
       "       [0.4       , 0.90909091, 1.        , 0.66666667],\n",
       "       [0.77777778, 0.63636364, 0.5       , 0.33333333],\n",
       "       [0.46666667, 0.09090909, 0.5       , 0.33333333],\n",
       "       [0.55555556, 1.        , 0.5       , 0.33333333]])"
      ]
     },
     "execution_count": 50,
     "metadata": {},
     "output_type": "execute_result"
    }
   ],
   "source": [
    "# Escalar los datos\n",
    "escaladorX = MinMaxScaler()\n",
    "X_train = escaladorX.fit_transform(X_train.astype('float64'))\n",
    "X_test  = escaladorX.transform(X_test.astype('float64'))\n",
    "X_test[:5,:]"
   ]
  },
  {
   "cell_type": "code",
   "execution_count": 51,
   "id": "80e7137b",
   "metadata": {},
   "outputs": [
    {
     "data": {
      "text/plain": [
       "LogisticRegression(random_state=0)"
      ]
     },
     "execution_count": 51,
     "metadata": {},
     "output_type": "execute_result"
    }
   ],
   "source": [
    "# Ajustar el Modelo\n",
    "from sklearn.linear_model import LogisticRegression as LR\n",
    "clasificador = LR(random_state=0)\n",
    "clasificador.fit(X_train, y_train)"
   ]
  },
  {
   "cell_type": "code",
   "execution_count": 52,
   "id": "0ba24684",
   "metadata": {},
   "outputs": [],
   "source": [
    "# Hacer las predicciones\n",
    "#y_fit = clasificador.predict(X_train)\n",
    "y_pred = clasificador.predict(X_test)"
   ]
  },
  {
   "cell_type": "code",
   "execution_count": 55,
   "id": "0af0cde5",
   "metadata": {
    "scrolled": true
   },
   "outputs": [
    {
     "data": {
      "text/plain": [
       "array([0, 0, 0, 0, 0, 0, 0, 0, 0, 0, 0, 0, 0, 0, 0, 0, 0, 0, 0, 0, 0, 0,\n",
       "       0, 0, 0, 0, 0, 0, 0, 0, 0, 0, 0, 0, 0, 0, 0, 0, 0, 0, 0, 0, 0, 0,\n",
       "       0, 0, 0, 0, 0, 0, 0, 0, 0, 0, 0, 0, 0, 0, 0, 0, 0, 0, 0, 0, 0, 0,\n",
       "       0, 0, 0, 0, 0, 0, 0, 0, 0, 0, 0, 0, 0, 0, 0, 0, 0, 0, 0, 0, 0, 0,\n",
       "       0, 0, 0, 0, 0, 0, 0, 0, 0, 0, 0, 0, 0, 0, 0, 0, 0, 0, 0, 0, 0, 0,\n",
       "       0, 0, 0, 0, 0, 0, 0, 0, 0, 0, 0, 0, 0, 0, 0, 0, 0, 0, 0, 0, 0, 0,\n",
       "       0, 0, 0, 0, 0, 0, 0, 0, 0, 0, 0, 0, 0, 0, 0, 0, 0, 0, 0, 0, 0, 0,\n",
       "       0, 0, 0, 0, 0, 0, 0, 0, 0, 0, 0, 0, 0, 0, 0, 0, 0, 0, 0, 0, 0, 0,\n",
       "       0, 0, 0, 0, 0, 0, 0, 0, 0, 0, 0, 0, 0, 0, 0, 0, 0, 0, 0, 0, 0, 0,\n",
       "       0, 0, 0, 0, 0, 0, 0, 0, 0, 0, 0, 0, 0, 0, 0, 0, 0, 0, 0, 0, 0, 0,\n",
       "       0, 0, 0, 0, 0, 0, 0, 0, 0, 0, 0, 0, 0, 0, 0, 0, 0, 0, 0, 0, 0, 0,\n",
       "       0, 0, 0, 0, 0, 0, 0, 0, 0, 0, 0, 0, 0, 0, 0, 0, 0, 0, 0, 0, 0, 0,\n",
       "       0, 0, 0, 0, 0, 0, 0, 0, 0, 0, 0, 0, 0, 0, 0, 0, 0, 0, 0, 0, 0, 0,\n",
       "       0, 0, 0, 0, 0, 0, 0, 0, 0, 0, 0, 0, 0, 0, 0, 0, 0, 0, 0, 0, 0, 0,\n",
       "       0, 0, 0, 0, 0, 0, 0, 0, 0, 0, 0, 0, 0, 0, 0, 0, 0, 0, 0, 0, 0, 0,\n",
       "       0, 0, 0, 0, 0, 0, 0, 0, 0, 0, 0, 0, 0, 0, 0, 0, 0, 0, 0, 0, 0, 0,\n",
       "       0, 0, 0, 0, 0, 0, 0, 0, 0, 0, 0, 0, 0, 0, 0, 0, 0, 0, 0, 0, 0, 0,\n",
       "       0, 0, 0, 0, 0, 0, 0, 0, 0, 0, 0, 0, 0, 0, 0, 0, 0, 0, 0, 0, 0, 0,\n",
       "       0, 0, 0, 0, 0, 0, 0, 0, 0, 0, 0, 0, 0, 0, 0, 0, 0, 0, 0, 0, 0, 0,\n",
       "       0, 0, 0, 0, 0, 0, 0, 0, 0, 0, 0, 0, 0, 0, 0, 0, 0, 0, 0, 0, 0, 0,\n",
       "       0, 0, 0, 0, 0, 0, 0, 0, 0, 0, 0, 0, 0, 0, 0, 0, 0, 0, 0, 0, 0, 0,\n",
       "       0, 0, 0, 0, 0, 0, 0, 0, 0, 0, 0, 0, 0, 0, 0, 0, 0, 0, 0, 0, 0, 0,\n",
       "       0, 0, 0, 0, 0, 0, 0, 0, 0, 0, 0, 0, 0, 0, 0, 0, 0, 0, 0, 0, 0, 0,\n",
       "       0, 0, 0, 0, 0, 0, 0, 0, 0, 0, 0, 0, 0, 0, 0, 0, 0, 0, 0, 0, 0, 0,\n",
       "       0, 0, 0, 0, 0, 0, 0, 0, 0, 0, 0, 0, 0, 0, 0, 0, 0, 0, 0, 0, 0, 0,\n",
       "       0, 0, 0, 0, 0, 0, 0, 0, 0, 0, 0, 0, 0, 0, 0, 0, 0, 0, 0, 0, 0, 0,\n",
       "       0, 0, 0, 0, 0, 0, 0, 0, 0, 0, 0, 0, 0, 0, 0, 0, 0, 0, 0, 0, 0, 0,\n",
       "       0, 0, 0, 0, 0, 0, 0, 0, 0, 0, 0, 0, 0, 0, 0, 0, 0, 0, 0, 0, 0, 0,\n",
       "       0, 0, 0, 0, 0, 0, 0, 0, 0, 0, 0, 0, 0, 0, 0, 0, 0, 0, 0, 0, 0, 0,\n",
       "       0, 0, 0, 0, 0, 0, 0, 0, 0, 0, 0, 0, 0, 0, 0, 0, 0, 0, 0, 0, 0, 0,\n",
       "       0, 0, 0, 0, 0, 0, 0, 0, 0, 0, 0, 0, 0, 0, 0, 0, 0, 0, 0, 0, 0, 0,\n",
       "       0, 0, 0, 0, 0, 0, 0, 0, 0, 0, 0, 0, 0, 0, 0, 0, 0, 0, 0, 0, 0, 0,\n",
       "       0, 0, 0, 0, 0, 0, 0, 0, 0, 0, 0, 0, 0, 0, 0, 0, 0, 0, 0, 0, 0, 0,\n",
       "       0, 0, 0, 0, 0, 0, 0, 0, 0, 0, 0, 0, 0, 0, 0, 0, 0, 0, 0, 0, 0, 0,\n",
       "       0, 0, 0, 0, 0, 0, 0, 0, 0, 0, 0, 0, 0, 0, 0, 0, 0, 0, 0, 0, 0, 0,\n",
       "       0, 0, 0, 0, 0, 0, 0, 0, 0, 0, 0, 0, 0, 0, 0, 0, 0, 0, 0, 0, 0, 0,\n",
       "       0, 0, 0, 0, 0, 0, 0, 0, 0, 0, 0, 0, 0, 0, 0, 0, 0, 0, 0, 0, 0, 0,\n",
       "       0, 0, 0, 0, 0, 0, 0, 0, 0, 0, 0, 0, 0, 0, 0, 0, 0, 0, 0, 0, 0, 0,\n",
       "       0, 0, 0, 0, 0, 0, 0, 0, 0, 0, 0, 0, 0, 0, 0, 0, 0, 0, 0, 0, 0, 0,\n",
       "       0, 0, 0, 0, 0, 0, 0, 0, 0, 0, 0, 0, 0, 0, 0, 0, 0, 0, 0, 0, 0, 0,\n",
       "       0, 0, 0, 0, 0, 0, 0], dtype=int64)"
      ]
     },
     "execution_count": 55,
     "metadata": {},
     "output_type": "execute_result"
    }
   ],
   "source": [
    "y_pred"
   ]
  },
  {
   "cell_type": "code",
   "execution_count": 53,
   "id": "6e709490",
   "metadata": {},
   "outputs": [
    {
     "data": {
      "text/plain": [
       "array([[873,   0],\n",
       "       [ 14,   0]], dtype=int64)"
      ]
     },
     "execution_count": 53,
     "metadata": {},
     "output_type": "execute_result"
    }
   ],
   "source": [
    "# Crear la Matriz de Confusión para evaluar la clasificación realizada\n",
    "from sklearn.metrics import confusion_matrix as CM\n",
    "cm = CM(y_test, y_pred)\n",
    "cm"
   ]
  },
  {
   "cell_type": "markdown",
   "id": "d984bd6d",
   "metadata": {},
   "source": [
    "El hecho de que la matriz de confusión tenga ceros en la segunda fila indica que no se están prediciendo ninguna instancia de la clase \"yes\" (impago) en el conjunto de pruebas. Esto sugiere que puede haber un desequilibrio en tus datos de entrenamiento, lo que está afectando el rendimiento del modelo."
   ]
  },
  {
   "cell_type": "code",
   "execution_count": 56,
   "id": "369db851",
   "metadata": {},
   "outputs": [
    {
     "name": "stdout",
     "output_type": "stream",
     "text": [
      "La exactitud/accuracy es de: 0.9842164599774521\n",
      "La precisión es de: 1.0\n",
      "La sensibilidad/recall es de: 0.9842164599774521\n",
      "La especificidad/specificity es de: nan\n",
      "La f1 score es de: 0.9920454545454546\n"
     ]
    },
    {
     "name": "stderr",
     "output_type": "stream",
     "text": [
      "C:\\Users\\nicoc\\AppData\\Local\\Temp\\ipykernel_17916\\656788202.py:19: RuntimeWarning: invalid value encountered in scalar divide\n",
      "  specificity = tn / (tn+fp)\n"
     ]
    }
   ],
   "source": [
    "# 8.1 Otras métricas para evaluar el modelo\n",
    "\n",
    "# Primero se convierte la matriz de confusión en variables para facilitar su cálculo\n",
    "tp, fp, fn, tn = cm.ravel()\n",
    "\n",
    "# Accuracy\n",
    "accuracy = (tp+tn) / (tp+tn+fp+fn)\n",
    "print(f\"La exactitud/accuracy es de: {accuracy}\")\n",
    "\n",
    "# Precision\n",
    "precision = tp / (tp+fp)\n",
    "print(f\"La precisión es de: {precision}\")\n",
    "\n",
    "# Recall\n",
    "recall = tp / (tp+fn)\n",
    "print(f\"La sensibilidad/recall es de: {recall}\")\n",
    "\n",
    "# Specificity\n",
    "specificity = tn / (tn+fp)\n",
    "print(f\"La especificidad/specificity es de: {specificity}\")\n",
    "\n",
    "# F1 score\n",
    "f1 = 2 * (precision * recall) / (precision + recall)\n",
    "print(f\"La f1 score es de: {f1}\")"
   ]
  },
  {
   "cell_type": "markdown",
   "id": "f0f07c1e",
   "metadata": {},
   "source": [
    "Interpretación:\n",
    "- El modelo ha interpretado correctamente el 98,42% de las predicciones\n",
    "- De las predicciones que el modelo ha interpretado como verdaderas, ha acertado en el 100% de ellas\n",
    "- De todos los positivos reales que hay, el modelo ha identificado bien el 98,42% de ellos\n",
    "- No ha detectado ningún negativo\n",
    "- El F1 Score es del 99,20%, indicando esto que el modelo es robusto y hay un buen equilibrio entre precisión y sensibilidad"
   ]
  },
  {
   "cell_type": "markdown",
   "id": "db583676",
   "metadata": {},
   "source": [
    "## Árboles de Decisión"
   ]
  },
  {
   "cell_type": "code",
   "execution_count": 59,
   "id": "e1f02d2e",
   "metadata": {},
   "outputs": [
    {
     "data": {
      "text/plain": [
       "DecisionTreeClassifier(criterion='entropy', random_state=0)"
      ]
     },
     "execution_count": 59,
     "metadata": {},
     "output_type": "execute_result"
    }
   ],
   "source": [
    "# Ajustar el Modelo\n",
    "'''\n",
    "criterion: criterio por el cual se realizan los divisiones en los nodos de las ramas\n",
    "'''\n",
    "clasificador = Arbol(criterion = 'entropy', random_state = 0)\n",
    "clasificador.fit(X_train, y_train)"
   ]
  },
  {
   "cell_type": "code",
   "execution_count": 60,
   "id": "84806740",
   "metadata": {},
   "outputs": [],
   "source": [
    "# Hacer las predicciones\n",
    "#y_fit = clasificador.predict(X_train)\n",
    "y_pred = clasificador.predict(X_test)"
   ]
  },
  {
   "cell_type": "code",
   "execution_count": 63,
   "id": "9b9d3247",
   "metadata": {
    "scrolled": true
   },
   "outputs": [
    {
     "data": {
      "text/plain": [
       "array([0, 0, 0, 0, 0, 0, 0, 0, 0, 0, 0, 0, 0, 0, 0, 0, 0, 0, 0, 0, 0, 0,\n",
       "       0, 0, 0, 0, 0, 0, 0, 0, 0, 0, 0, 0, 0, 0, 0, 1, 0, 0, 0, 0, 0, 0,\n",
       "       0, 0, 1, 0, 0, 0, 0, 0, 0, 0, 0, 0, 0, 1, 0, 0, 0, 0, 0, 0, 0, 0,\n",
       "       0, 0, 0, 0, 0, 0, 0, 0, 0, 0, 0, 0, 0, 0, 0, 0, 0, 0, 0, 0, 0, 0,\n",
       "       0, 0, 0, 0, 0, 0, 0, 0, 0, 0, 0, 0, 0, 0, 0, 0, 0, 0, 0, 0, 0, 0,\n",
       "       0, 0, 0, 0, 0, 0, 0, 0, 0, 0, 0, 0, 0, 0, 0, 0, 0, 0, 0, 0, 0, 0,\n",
       "       0, 0, 0, 0, 0, 0, 0, 0, 0, 0, 0, 0, 0, 0, 0, 0, 0, 0, 0, 0, 0, 0,\n",
       "       0, 0, 0, 0, 0, 0, 0, 0, 0, 0, 0, 0, 0, 0, 0, 0, 0, 0, 0, 0, 0, 0,\n",
       "       0, 0, 0, 0, 0, 0, 0, 0, 0, 0, 0, 0, 0, 0, 0, 0, 0, 0, 0, 0, 0, 0,\n",
       "       0, 0, 0, 0, 0, 0, 0, 0, 0, 0, 0, 0, 0, 0, 0, 0, 0, 0, 0, 0, 0, 0,\n",
       "       0, 0, 0, 0, 0, 0, 0, 0, 0, 0, 0, 0, 0, 0, 0, 0, 0, 0, 0, 0, 0, 0,\n",
       "       0, 0, 0, 0, 0, 0, 0, 0, 0, 0, 0, 0, 0, 0, 0, 0, 0, 0, 0, 0, 0, 0,\n",
       "       0, 0, 0, 0, 0, 0, 0, 0, 0, 0, 0, 0, 0, 0, 0, 0, 0, 0, 0, 0, 0, 0,\n",
       "       0, 0, 0, 0, 0, 0, 0, 0, 1, 0, 0, 0, 0, 1, 0, 0, 0, 0, 0, 0, 0, 0,\n",
       "       0, 0, 0, 0, 0, 0, 0, 0, 0, 0, 0, 0, 0, 0, 0, 0, 0, 0, 0, 0, 0, 0,\n",
       "       0, 0, 0, 0, 0, 0, 0, 0, 0, 0, 0, 0, 0, 0, 0, 0, 0, 0, 0, 0, 0, 0,\n",
       "       0, 0, 0, 0, 0, 0, 0, 0, 0, 0, 0, 0, 0, 0, 0, 0, 0, 0, 0, 0, 0, 0,\n",
       "       0, 0, 0, 0, 0, 0, 0, 0, 0, 0, 0, 0, 0, 0, 0, 0, 0, 0, 0, 0, 0, 0,\n",
       "       0, 0, 0, 0, 0, 0, 0, 0, 0, 0, 0, 0, 0, 0, 0, 0, 0, 0, 0, 0, 0, 0,\n",
       "       0, 0, 0, 0, 0, 0, 0, 0, 0, 0, 0, 0, 0, 0, 0, 0, 0, 0, 0, 0, 0, 0,\n",
       "       0, 0, 0, 0, 0, 0, 0, 0, 0, 0, 0, 0, 0, 0, 0, 0, 0, 0, 0, 0, 0, 0,\n",
       "       0, 0, 0, 0, 0, 0, 0, 0, 0, 0, 0, 0, 0, 0, 0, 0, 0, 0, 0, 0, 0, 0,\n",
       "       0, 0, 0, 0, 0, 0, 0, 0, 0, 0, 0, 0, 0, 0, 0, 0, 0, 0, 0, 1, 0, 0,\n",
       "       0, 0, 0, 0, 0, 0, 0, 0, 0, 0, 0, 0, 0, 0, 0, 0, 0, 0, 0, 0, 0, 0,\n",
       "       0, 0, 0, 0, 0, 0, 0, 0, 0, 0, 1, 0, 0, 0, 0, 0, 0, 0, 0, 0, 0, 0,\n",
       "       0, 0, 0, 0, 0, 0, 0, 0, 0, 0, 0, 0, 0, 0, 0, 0, 0, 0, 0, 0, 0, 0,\n",
       "       0, 0, 0, 0, 0, 0, 0, 0, 0, 1, 0, 0, 0, 0, 0, 0, 0, 0, 0, 0, 0, 0,\n",
       "       1, 0, 0, 0, 0, 0, 0, 0, 0, 0, 0, 0, 0, 0, 0, 0, 0, 0, 0, 0, 0, 0,\n",
       "       0, 0, 0, 0, 0, 0, 0, 0, 0, 0, 0, 0, 0, 0, 1, 0, 0, 0, 0, 0, 0, 0,\n",
       "       0, 0, 0, 0, 0, 0, 0, 0, 0, 0, 0, 0, 0, 0, 0, 0, 0, 0, 0, 0, 0, 0,\n",
       "       0, 0, 0, 0, 0, 0, 0, 0, 0, 0, 0, 0, 0, 0, 0, 0, 0, 0, 0, 0, 0, 0,\n",
       "       0, 1, 0, 0, 0, 0, 0, 0, 0, 0, 0, 0, 0, 0, 0, 0, 0, 0, 0, 0, 0, 0,\n",
       "       0, 0, 0, 0, 0, 0, 0, 0, 0, 0, 0, 0, 0, 0, 0, 0, 0, 0, 0, 0, 0, 0,\n",
       "       0, 0, 0, 0, 0, 0, 0, 0, 0, 0, 0, 0, 0, 0, 0, 0, 0, 0, 0, 0, 0, 1,\n",
       "       0, 0, 0, 0, 0, 0, 0, 0, 0, 0, 0, 0, 0, 0, 0, 0, 0, 0, 0, 1, 0, 0,\n",
       "       0, 0, 0, 0, 0, 0, 0, 0, 0, 0, 0, 0, 0, 0, 0, 0, 0, 0, 0, 0, 0, 0,\n",
       "       0, 0, 0, 0, 0, 0, 0, 0, 0, 0, 0, 0, 0, 0, 0, 0, 0, 0, 0, 0, 0, 0,\n",
       "       0, 0, 0, 0, 0, 0, 0, 0, 0, 0, 0, 0, 0, 0, 0, 0, 0, 0, 0, 0, 0, 0,\n",
       "       0, 0, 0, 0, 0, 0, 0, 0, 0, 0, 0, 0, 0, 0, 0, 0, 0, 0, 1, 0, 0, 0,\n",
       "       0, 0, 0, 0, 0, 0, 0, 0, 0, 0, 0, 0, 0, 0, 0, 0, 0, 0, 0, 0, 0, 0,\n",
       "       0, 0, 0, 0, 1, 0, 0], dtype=int64)"
      ]
     },
     "execution_count": 63,
     "metadata": {},
     "output_type": "execute_result"
    }
   ],
   "source": [
    "y_pred"
   ]
  },
  {
   "cell_type": "markdown",
   "id": "8a74b05b",
   "metadata": {},
   "source": [
    "Este modelo ya no sólo predice que no hay impagos (default = 0). Buena señal"
   ]
  },
  {
   "cell_type": "code",
   "execution_count": 62,
   "id": "80d99ee9",
   "metadata": {},
   "outputs": [
    {
     "data": {
      "text/plain": [
       "array([[859,  14],\n",
       "       [ 13,   1]], dtype=int64)"
      ]
     },
     "execution_count": 62,
     "metadata": {},
     "output_type": "execute_result"
    }
   ],
   "source": [
    "# Crear la Matriz de Confusión para evaluar la clasificación realizada\n",
    "from sklearn.metrics import confusion_matrix as CM\n",
    "cm = CM(y_test, y_pred)\n",
    "cm"
   ]
  },
  {
   "cell_type": "code",
   "execution_count": 64,
   "id": "46172f6b",
   "metadata": {},
   "outputs": [
    {
     "name": "stdout",
     "output_type": "stream",
     "text": [
      "La exactitud/accuracy es de: 0.9695603156708005\n",
      "La precisión es de: 0.983963344788087\n",
      "La sensibilidad/recall es de: 0.9850917431192661\n",
      "La especificidad/specificity es de: 0.06666666666666667\n",
      "La f1 score es de: 0.9845272206303725\n"
     ]
    }
   ],
   "source": [
    "# Otras métricas para evaluar el modelo\n",
    "\n",
    "# Primero se convierte la matriz de confusión en variables para facilitar su cálculo\n",
    "tp, fp, fn, tn = cm.ravel()\n",
    "\n",
    "# Accuracy\n",
    "accuracy = (tp+tn) / (tp+tn+fp+fn)\n",
    "print(f\"La exactitud/accuracy es de: {accuracy}\")\n",
    "\n",
    "# Precision\n",
    "precision = tp / (tp+fp)\n",
    "print(f\"La precisión es de: {precision}\")\n",
    "\n",
    "# Recall\n",
    "recall = tp / (tp+fn)\n",
    "print(f\"La sensibilidad/recall es de: {recall}\")\n",
    "\n",
    "# Specificity\n",
    "specificity = tn / (tn+fp)\n",
    "print(f\"La especificidad/specificity es de: {specificity}\")\n",
    "\n",
    "# F1 score\n",
    "f1 = 2 * (precision * recall) / (precision + recall)\n",
    "print(f\"La f1 score es de: {f1}\")"
   ]
  },
  {
   "cell_type": "markdown",
   "id": "9808c292",
   "metadata": {},
   "source": [
    "Interpretación:\n",
    "- El modelo ha interpretado correctamente el 96,95% de las predicciones\n",
    "- De las predicciones que el modelo ha interpretado como verdaderas, ha acertado en el 98,40% de ellas\n",
    "- De todos los positivos reales que hay, el modelo ha identificado bien el 98,51% de ellos\n",
    "- De todos los negativos que hay, el modelo ha identificado bien el 82,86% de ellos\n",
    "- El F1 Score es del 93,23%, indicando esto que el modelo es robusto y hay un buen equilibrio entre precisión y sensibilidad"
   ]
  }
 ],
 "metadata": {
  "kernelspec": {
   "display_name": "Python 3 (ipykernel)",
   "language": "python",
   "name": "python3"
  },
  "language_info": {
   "codemirror_mode": {
    "name": "ipython",
    "version": 3
   },
   "file_extension": ".py",
   "mimetype": "text/x-python",
   "name": "python",
   "nbconvert_exporter": "python",
   "pygments_lexer": "ipython3",
   "version": "3.9.13"
  }
 },
 "nbformat": 4,
 "nbformat_minor": 5
}
