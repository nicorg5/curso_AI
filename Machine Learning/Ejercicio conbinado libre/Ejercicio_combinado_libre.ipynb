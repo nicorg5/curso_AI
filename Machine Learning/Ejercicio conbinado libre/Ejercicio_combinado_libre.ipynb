{
 "cells": [
  {
   "cell_type": "markdown",
   "id": "6107b483-537d-4af7-905e-99e2c2f605ea",
   "metadata": {},
   "source": [
    "# Ejercicio:\n",
    "\n",
    "Se va a tratar de aplicar una clusterización y un algoritmo al conjunto de datos 'Cervezas.csv'"
   ]
  },
  {
   "cell_type": "markdown",
   "id": "9a1285d7-0665-4cde-8271-a2bf197ed368",
   "metadata": {},
   "source": [
    "## Lectura de Datos y EDA"
   ]
  },
  {
   "cell_type": "code",
   "execution_count": null,
   "id": "00791c7b-8d9b-42cd-8948-095f30996544",
   "metadata": {},
   "outputs": [],
   "source": []
  }
 ],
 "metadata": {
  "kernelspec": {
   "display_name": "Python 3 (ipykernel)",
   "language": "python",
   "name": "python3"
  },
  "language_info": {
   "codemirror_mode": {
    "name": "ipython",
    "version": 3
   },
   "file_extension": ".py",
   "mimetype": "text/x-python",
   "name": "python",
   "nbconvert_exporter": "python",
   "pygments_lexer": "ipython3",
   "version": "3.10.9"
  }
 },
 "nbformat": 4,
 "nbformat_minor": 5
}
