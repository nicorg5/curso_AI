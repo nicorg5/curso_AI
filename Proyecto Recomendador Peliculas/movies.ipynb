{
 "cells": [
  {
   "cell_type": "markdown",
   "id": "c86e821b-ffb9-48da-a454-a115f2511b1a",
   "metadata": {},
   "source": [
    "# MovIA: Proyecto desarrollo de un Sistema de Recomendación de Películas con IA"
   ]
  },
  {
   "cell_type": "markdown",
   "id": "3f5b3d5d-ac86-45d2-b9fe-3de111606651",
   "metadata": {},
   "source": [
    "## Fase 1: Preparación del Entorno y Datos"
   ]
  },
  {
   "cell_type": "code",
   "execution_count": 43,
   "id": "91b60f70-89d7-495a-95d0-f35e8adb8b1c",
   "metadata": {},
   "outputs": [],
   "source": [
    "# Importación de bibliotecas necesarias\n",
    "import pandas as pd\n",
    "import matplotlib.pyplot as plt\n",
    "import seaborn as sns\n",
    "import ast\n",
    "import spacy\n",
    "from nltk.stem import PorterStemmer\n",
    "import nltk\n",
    "from nltk.corpus import stopwords\n",
    "from nltk.tokenize import word_tokenize"
   ]
  },
  {
   "cell_type": "code",
   "execution_count": 2,
   "id": "3af19cbb-1e76-4a74-b42c-e8950f05d25a",
   "metadata": {},
   "outputs": [],
   "source": [
    "# Para mostrar todas las filas y/o columnas del DataFrame\n",
    "pd.options.display.max_columns = None\n",
    "#pd.options.display.max_rows = None"
   ]
  },
  {
   "cell_type": "code",
   "execution_count": 3,
   "id": "87e6c4e0-df9a-4d47-83bf-e8ee432a212c",
   "metadata": {},
   "outputs": [
    {
     "name": "stdout",
     "output_type": "stream",
     "text": [
      "Index(['movie_id', 'title', 'cast', 'crew'], dtype='object')\n",
      "Index(['budget', 'genres', 'homepage', 'id', 'keywords', 'original_language',\n",
      "       'original_title', 'overview', 'popularity', 'production_companies',\n",
      "       'production_countries', 'release_date', 'revenue', 'runtime',\n",
      "       'spoken_languages', 'status', 'tagline', 'title', 'vote_average',\n",
      "       'vote_count'],\n",
      "      dtype='object')\n"
     ]
    }
   ],
   "source": [
    "# Lectura de los DataSets\n",
    "df_credits = pd.read_csv('tmdb_5000_credits.csv')\n",
    "df_movies = pd.read_csv('tmdb_5000_movies.csv')\n",
    "print(df_credits.columns)\n",
    "print(df_movies.columns)"
   ]
  },
  {
   "cell_type": "code",
   "execution_count": 4,
   "id": "8f6bb1c5-89d0-4bd4-b6d3-b09348e8809f",
   "metadata": {},
   "outputs": [
    {
     "data": {
      "text/html": [
       "<div>\n",
       "<style scoped>\n",
       "    .dataframe tbody tr th:only-of-type {\n",
       "        vertical-align: middle;\n",
       "    }\n",
       "\n",
       "    .dataframe tbody tr th {\n",
       "        vertical-align: top;\n",
       "    }\n",
       "\n",
       "    .dataframe thead th {\n",
       "        text-align: right;\n",
       "    }\n",
       "</style>\n",
       "<table border=\"1\" class=\"dataframe\">\n",
       "  <thead>\n",
       "    <tr style=\"text-align: right;\">\n",
       "      <th></th>\n",
       "      <th>id</th>\n",
       "      <th>cast</th>\n",
       "      <th>crew</th>\n",
       "    </tr>\n",
       "  </thead>\n",
       "  <tbody>\n",
       "    <tr>\n",
       "      <th>0</th>\n",
       "      <td>19995</td>\n",
       "      <td>[{\"cast_id\": 242, \"character\": \"Jake Sully\", \"...</td>\n",
       "      <td>[{\"credit_id\": \"52fe48009251416c750aca23\", \"de...</td>\n",
       "    </tr>\n",
       "    <tr>\n",
       "      <th>1</th>\n",
       "      <td>285</td>\n",
       "      <td>[{\"cast_id\": 4, \"character\": \"Captain Jack Spa...</td>\n",
       "      <td>[{\"credit_id\": \"52fe4232c3a36847f800b579\", \"de...</td>\n",
       "    </tr>\n",
       "    <tr>\n",
       "      <th>2</th>\n",
       "      <td>206647</td>\n",
       "      <td>[{\"cast_id\": 1, \"character\": \"James Bond\", \"cr...</td>\n",
       "      <td>[{\"credit_id\": \"54805967c3a36829b5002c41\", \"de...</td>\n",
       "    </tr>\n",
       "    <tr>\n",
       "      <th>3</th>\n",
       "      <td>49026</td>\n",
       "      <td>[{\"cast_id\": 2, \"character\": \"Bruce Wayne / Ba...</td>\n",
       "      <td>[{\"credit_id\": \"52fe4781c3a36847f81398c3\", \"de...</td>\n",
       "    </tr>\n",
       "    <tr>\n",
       "      <th>4</th>\n",
       "      <td>49529</td>\n",
       "      <td>[{\"cast_id\": 5, \"character\": \"John Carter\", \"c...</td>\n",
       "      <td>[{\"credit_id\": \"52fe479ac3a36847f813eaa3\", \"de...</td>\n",
       "    </tr>\n",
       "  </tbody>\n",
       "</table>\n",
       "</div>"
      ],
      "text/plain": [
       "       id                                               cast  \\\n",
       "0   19995  [{\"cast_id\": 242, \"character\": \"Jake Sully\", \"...   \n",
       "1     285  [{\"cast_id\": 4, \"character\": \"Captain Jack Spa...   \n",
       "2  206647  [{\"cast_id\": 1, \"character\": \"James Bond\", \"cr...   \n",
       "3   49026  [{\"cast_id\": 2, \"character\": \"Bruce Wayne / Ba...   \n",
       "4   49529  [{\"cast_id\": 5, \"character\": \"John Carter\", \"c...   \n",
       "\n",
       "                                                crew  \n",
       "0  [{\"credit_id\": \"52fe48009251416c750aca23\", \"de...  \n",
       "1  [{\"credit_id\": \"52fe4232c3a36847f800b579\", \"de...  \n",
       "2  [{\"credit_id\": \"54805967c3a36829b5002c41\", \"de...  \n",
       "3  [{\"credit_id\": \"52fe4781c3a36847f81398c3\", \"de...  \n",
       "4  [{\"credit_id\": \"52fe479ac3a36847f813eaa3\", \"de...  "
      ]
     },
     "execution_count": 4,
     "metadata": {},
     "output_type": "execute_result"
    }
   ],
   "source": [
    "# Se cambia la columna 'movie_id' del DataFrame df_credits a 'id' para poder hacer un merge posteriormente\n",
    "df_credits.columns = ['id', 'title', 'cast', 'crew']\n",
    "\n",
    "# Se elimina la columna 'title' ya que está en ambos DataFrames y aparecería duplicada una vez se haga el merge\n",
    "df_credits.drop(['title'], axis=1, inplace=True)\n",
    "df_credits.head()"
   ]
  },
  {
   "cell_type": "code",
   "execution_count": 5,
   "id": "0c41df35-f1f6-4126-9110-bc010e135aae",
   "metadata": {},
   "outputs": [
    {
     "data": {
      "text/html": [
       "<div>\n",
       "<style scoped>\n",
       "    .dataframe tbody tr th:only-of-type {\n",
       "        vertical-align: middle;\n",
       "    }\n",
       "\n",
       "    .dataframe tbody tr th {\n",
       "        vertical-align: top;\n",
       "    }\n",
       "\n",
       "    .dataframe thead th {\n",
       "        text-align: right;\n",
       "    }\n",
       "</style>\n",
       "<table border=\"1\" class=\"dataframe\">\n",
       "  <thead>\n",
       "    <tr style=\"text-align: right;\">\n",
       "      <th></th>\n",
       "      <th>budget</th>\n",
       "      <th>genres</th>\n",
       "      <th>homepage</th>\n",
       "      <th>id</th>\n",
       "      <th>keywords</th>\n",
       "      <th>original_language</th>\n",
       "      <th>original_title</th>\n",
       "      <th>overview</th>\n",
       "      <th>popularity</th>\n",
       "      <th>production_companies</th>\n",
       "      <th>production_countries</th>\n",
       "      <th>release_date</th>\n",
       "      <th>revenue</th>\n",
       "      <th>runtime</th>\n",
       "      <th>spoken_languages</th>\n",
       "      <th>status</th>\n",
       "      <th>tagline</th>\n",
       "      <th>title</th>\n",
       "      <th>vote_average</th>\n",
       "      <th>vote_count</th>\n",
       "      <th>cast</th>\n",
       "      <th>crew</th>\n",
       "    </tr>\n",
       "  </thead>\n",
       "  <tbody>\n",
       "    <tr>\n",
       "      <th>0</th>\n",
       "      <td>237000000</td>\n",
       "      <td>[{\"id\": 28, \"name\": \"Action\"}, {\"id\": 12, \"nam...</td>\n",
       "      <td>http://www.avatarmovie.com/</td>\n",
       "      <td>19995</td>\n",
       "      <td>[{\"id\": 1463, \"name\": \"culture clash\"}, {\"id\":...</td>\n",
       "      <td>en</td>\n",
       "      <td>Avatar</td>\n",
       "      <td>In the 22nd century, a paraplegic Marine is di...</td>\n",
       "      <td>150.437577</td>\n",
       "      <td>[{\"name\": \"Ingenious Film Partners\", \"id\": 289...</td>\n",
       "      <td>[{\"iso_3166_1\": \"US\", \"name\": \"United States o...</td>\n",
       "      <td>2009-12-10</td>\n",
       "      <td>2787965087</td>\n",
       "      <td>162.0</td>\n",
       "      <td>[{\"iso_639_1\": \"en\", \"name\": \"English\"}, {\"iso...</td>\n",
       "      <td>Released</td>\n",
       "      <td>Enter the World of Pandora.</td>\n",
       "      <td>Avatar</td>\n",
       "      <td>7.2</td>\n",
       "      <td>11800</td>\n",
       "      <td>[{\"cast_id\": 242, \"character\": \"Jake Sully\", \"...</td>\n",
       "      <td>[{\"credit_id\": \"52fe48009251416c750aca23\", \"de...</td>\n",
       "    </tr>\n",
       "    <tr>\n",
       "      <th>1</th>\n",
       "      <td>300000000</td>\n",
       "      <td>[{\"id\": 12, \"name\": \"Adventure\"}, {\"id\": 14, \"...</td>\n",
       "      <td>http://disney.go.com/disneypictures/pirates/</td>\n",
       "      <td>285</td>\n",
       "      <td>[{\"id\": 270, \"name\": \"ocean\"}, {\"id\": 726, \"na...</td>\n",
       "      <td>en</td>\n",
       "      <td>Pirates of the Caribbean: At World's End</td>\n",
       "      <td>Captain Barbossa, long believed to be dead, ha...</td>\n",
       "      <td>139.082615</td>\n",
       "      <td>[{\"name\": \"Walt Disney Pictures\", \"id\": 2}, {\"...</td>\n",
       "      <td>[{\"iso_3166_1\": \"US\", \"name\": \"United States o...</td>\n",
       "      <td>2007-05-19</td>\n",
       "      <td>961000000</td>\n",
       "      <td>169.0</td>\n",
       "      <td>[{\"iso_639_1\": \"en\", \"name\": \"English\"}]</td>\n",
       "      <td>Released</td>\n",
       "      <td>At the end of the world, the adventure begins.</td>\n",
       "      <td>Pirates of the Caribbean: At World's End</td>\n",
       "      <td>6.9</td>\n",
       "      <td>4500</td>\n",
       "      <td>[{\"cast_id\": 4, \"character\": \"Captain Jack Spa...</td>\n",
       "      <td>[{\"credit_id\": \"52fe4232c3a36847f800b579\", \"de...</td>\n",
       "    </tr>\n",
       "    <tr>\n",
       "      <th>2</th>\n",
       "      <td>245000000</td>\n",
       "      <td>[{\"id\": 28, \"name\": \"Action\"}, {\"id\": 12, \"nam...</td>\n",
       "      <td>http://www.sonypictures.com/movies/spectre/</td>\n",
       "      <td>206647</td>\n",
       "      <td>[{\"id\": 470, \"name\": \"spy\"}, {\"id\": 818, \"name...</td>\n",
       "      <td>en</td>\n",
       "      <td>Spectre</td>\n",
       "      <td>A cryptic message from Bond’s past sends him o...</td>\n",
       "      <td>107.376788</td>\n",
       "      <td>[{\"name\": \"Columbia Pictures\", \"id\": 5}, {\"nam...</td>\n",
       "      <td>[{\"iso_3166_1\": \"GB\", \"name\": \"United Kingdom\"...</td>\n",
       "      <td>2015-10-26</td>\n",
       "      <td>880674609</td>\n",
       "      <td>148.0</td>\n",
       "      <td>[{\"iso_639_1\": \"fr\", \"name\": \"Fran\\u00e7ais\"},...</td>\n",
       "      <td>Released</td>\n",
       "      <td>A Plan No One Escapes</td>\n",
       "      <td>Spectre</td>\n",
       "      <td>6.3</td>\n",
       "      <td>4466</td>\n",
       "      <td>[{\"cast_id\": 1, \"character\": \"James Bond\", \"cr...</td>\n",
       "      <td>[{\"credit_id\": \"54805967c3a36829b5002c41\", \"de...</td>\n",
       "    </tr>\n",
       "    <tr>\n",
       "      <th>3</th>\n",
       "      <td>250000000</td>\n",
       "      <td>[{\"id\": 28, \"name\": \"Action\"}, {\"id\": 80, \"nam...</td>\n",
       "      <td>http://www.thedarkknightrises.com/</td>\n",
       "      <td>49026</td>\n",
       "      <td>[{\"id\": 849, \"name\": \"dc comics\"}, {\"id\": 853,...</td>\n",
       "      <td>en</td>\n",
       "      <td>The Dark Knight Rises</td>\n",
       "      <td>Following the death of District Attorney Harve...</td>\n",
       "      <td>112.312950</td>\n",
       "      <td>[{\"name\": \"Legendary Pictures\", \"id\": 923}, {\"...</td>\n",
       "      <td>[{\"iso_3166_1\": \"US\", \"name\": \"United States o...</td>\n",
       "      <td>2012-07-16</td>\n",
       "      <td>1084939099</td>\n",
       "      <td>165.0</td>\n",
       "      <td>[{\"iso_639_1\": \"en\", \"name\": \"English\"}]</td>\n",
       "      <td>Released</td>\n",
       "      <td>The Legend Ends</td>\n",
       "      <td>The Dark Knight Rises</td>\n",
       "      <td>7.6</td>\n",
       "      <td>9106</td>\n",
       "      <td>[{\"cast_id\": 2, \"character\": \"Bruce Wayne / Ba...</td>\n",
       "      <td>[{\"credit_id\": \"52fe4781c3a36847f81398c3\", \"de...</td>\n",
       "    </tr>\n",
       "    <tr>\n",
       "      <th>4</th>\n",
       "      <td>260000000</td>\n",
       "      <td>[{\"id\": 28, \"name\": \"Action\"}, {\"id\": 12, \"nam...</td>\n",
       "      <td>http://movies.disney.com/john-carter</td>\n",
       "      <td>49529</td>\n",
       "      <td>[{\"id\": 818, \"name\": \"based on novel\"}, {\"id\":...</td>\n",
       "      <td>en</td>\n",
       "      <td>John Carter</td>\n",
       "      <td>John Carter is a war-weary, former military ca...</td>\n",
       "      <td>43.926995</td>\n",
       "      <td>[{\"name\": \"Walt Disney Pictures\", \"id\": 2}]</td>\n",
       "      <td>[{\"iso_3166_1\": \"US\", \"name\": \"United States o...</td>\n",
       "      <td>2012-03-07</td>\n",
       "      <td>284139100</td>\n",
       "      <td>132.0</td>\n",
       "      <td>[{\"iso_639_1\": \"en\", \"name\": \"English\"}]</td>\n",
       "      <td>Released</td>\n",
       "      <td>Lost in our world, found in another.</td>\n",
       "      <td>John Carter</td>\n",
       "      <td>6.1</td>\n",
       "      <td>2124</td>\n",
       "      <td>[{\"cast_id\": 5, \"character\": \"John Carter\", \"c...</td>\n",
       "      <td>[{\"credit_id\": \"52fe479ac3a36847f813eaa3\", \"de...</td>\n",
       "    </tr>\n",
       "  </tbody>\n",
       "</table>\n",
       "</div>"
      ],
      "text/plain": [
       "      budget                                             genres  \\\n",
       "0  237000000  [{\"id\": 28, \"name\": \"Action\"}, {\"id\": 12, \"nam...   \n",
       "1  300000000  [{\"id\": 12, \"name\": \"Adventure\"}, {\"id\": 14, \"...   \n",
       "2  245000000  [{\"id\": 28, \"name\": \"Action\"}, {\"id\": 12, \"nam...   \n",
       "3  250000000  [{\"id\": 28, \"name\": \"Action\"}, {\"id\": 80, \"nam...   \n",
       "4  260000000  [{\"id\": 28, \"name\": \"Action\"}, {\"id\": 12, \"nam...   \n",
       "\n",
       "                                       homepage      id  \\\n",
       "0                   http://www.avatarmovie.com/   19995   \n",
       "1  http://disney.go.com/disneypictures/pirates/     285   \n",
       "2   http://www.sonypictures.com/movies/spectre/  206647   \n",
       "3            http://www.thedarkknightrises.com/   49026   \n",
       "4          http://movies.disney.com/john-carter   49529   \n",
       "\n",
       "                                            keywords original_language  \\\n",
       "0  [{\"id\": 1463, \"name\": \"culture clash\"}, {\"id\":...                en   \n",
       "1  [{\"id\": 270, \"name\": \"ocean\"}, {\"id\": 726, \"na...                en   \n",
       "2  [{\"id\": 470, \"name\": \"spy\"}, {\"id\": 818, \"name...                en   \n",
       "3  [{\"id\": 849, \"name\": \"dc comics\"}, {\"id\": 853,...                en   \n",
       "4  [{\"id\": 818, \"name\": \"based on novel\"}, {\"id\":...                en   \n",
       "\n",
       "                             original_title  \\\n",
       "0                                    Avatar   \n",
       "1  Pirates of the Caribbean: At World's End   \n",
       "2                                   Spectre   \n",
       "3                     The Dark Knight Rises   \n",
       "4                               John Carter   \n",
       "\n",
       "                                            overview  popularity  \\\n",
       "0  In the 22nd century, a paraplegic Marine is di...  150.437577   \n",
       "1  Captain Barbossa, long believed to be dead, ha...  139.082615   \n",
       "2  A cryptic message from Bond’s past sends him o...  107.376788   \n",
       "3  Following the death of District Attorney Harve...  112.312950   \n",
       "4  John Carter is a war-weary, former military ca...   43.926995   \n",
       "\n",
       "                                production_companies  \\\n",
       "0  [{\"name\": \"Ingenious Film Partners\", \"id\": 289...   \n",
       "1  [{\"name\": \"Walt Disney Pictures\", \"id\": 2}, {\"...   \n",
       "2  [{\"name\": \"Columbia Pictures\", \"id\": 5}, {\"nam...   \n",
       "3  [{\"name\": \"Legendary Pictures\", \"id\": 923}, {\"...   \n",
       "4        [{\"name\": \"Walt Disney Pictures\", \"id\": 2}]   \n",
       "\n",
       "                                production_countries release_date     revenue  \\\n",
       "0  [{\"iso_3166_1\": \"US\", \"name\": \"United States o...   2009-12-10  2787965087   \n",
       "1  [{\"iso_3166_1\": \"US\", \"name\": \"United States o...   2007-05-19   961000000   \n",
       "2  [{\"iso_3166_1\": \"GB\", \"name\": \"United Kingdom\"...   2015-10-26   880674609   \n",
       "3  [{\"iso_3166_1\": \"US\", \"name\": \"United States o...   2012-07-16  1084939099   \n",
       "4  [{\"iso_3166_1\": \"US\", \"name\": \"United States o...   2012-03-07   284139100   \n",
       "\n",
       "   runtime                                   spoken_languages    status  \\\n",
       "0    162.0  [{\"iso_639_1\": \"en\", \"name\": \"English\"}, {\"iso...  Released   \n",
       "1    169.0           [{\"iso_639_1\": \"en\", \"name\": \"English\"}]  Released   \n",
       "2    148.0  [{\"iso_639_1\": \"fr\", \"name\": \"Fran\\u00e7ais\"},...  Released   \n",
       "3    165.0           [{\"iso_639_1\": \"en\", \"name\": \"English\"}]  Released   \n",
       "4    132.0           [{\"iso_639_1\": \"en\", \"name\": \"English\"}]  Released   \n",
       "\n",
       "                                          tagline  \\\n",
       "0                     Enter the World of Pandora.   \n",
       "1  At the end of the world, the adventure begins.   \n",
       "2                           A Plan No One Escapes   \n",
       "3                                 The Legend Ends   \n",
       "4            Lost in our world, found in another.   \n",
       "\n",
       "                                      title  vote_average  vote_count  \\\n",
       "0                                    Avatar           7.2       11800   \n",
       "1  Pirates of the Caribbean: At World's End           6.9        4500   \n",
       "2                                   Spectre           6.3        4466   \n",
       "3                     The Dark Knight Rises           7.6        9106   \n",
       "4                               John Carter           6.1        2124   \n",
       "\n",
       "                                                cast  \\\n",
       "0  [{\"cast_id\": 242, \"character\": \"Jake Sully\", \"...   \n",
       "1  [{\"cast_id\": 4, \"character\": \"Captain Jack Spa...   \n",
       "2  [{\"cast_id\": 1, \"character\": \"James Bond\", \"cr...   \n",
       "3  [{\"cast_id\": 2, \"character\": \"Bruce Wayne / Ba...   \n",
       "4  [{\"cast_id\": 5, \"character\": \"John Carter\", \"c...   \n",
       "\n",
       "                                                crew  \n",
       "0  [{\"credit_id\": \"52fe48009251416c750aca23\", \"de...  \n",
       "1  [{\"credit_id\": \"52fe4232c3a36847f800b579\", \"de...  \n",
       "2  [{\"credit_id\": \"54805967c3a36829b5002c41\", \"de...  \n",
       "3  [{\"credit_id\": \"52fe4781c3a36847f81398c3\", \"de...  \n",
       "4  [{\"credit_id\": \"52fe479ac3a36847f813eaa3\", \"de...  "
      ]
     },
     "execution_count": 5,
     "metadata": {},
     "output_type": "execute_result"
    }
   ],
   "source": [
    "# Se hace el merge\n",
    "df_merge = df_movies.merge(df_credits, on='id')\n",
    "df_merge.head()"
   ]
  },
  {
   "cell_type": "markdown",
   "id": "9dfea95d-ad5f-4ceb-8350-ddd99d9b68ce",
   "metadata": {},
   "source": [
    "## Fase 2: Análisis Exploratorio de Datos (EDA) y Procesamiento del Lenguaje Natural (NLP)"
   ]
  },
  {
   "cell_type": "markdown",
   "id": "0fc1deb0-0ea8-446c-a4be-05fde96c2f9d",
   "metadata": {},
   "source": [
    "### EDA"
   ]
  },
  {
   "cell_type": "code",
   "execution_count": 6,
   "id": "1bd6a7e4-d2ce-4671-899a-e10e3d42d37d",
   "metadata": {},
   "outputs": [
    {
     "data": {
      "text/plain": [
       "(4803, 22)"
      ]
     },
     "execution_count": 6,
     "metadata": {},
     "output_type": "execute_result"
    }
   ],
   "source": [
    "# Tamaño del DataFrame\n",
    "df_merge.shape"
   ]
  },
  {
   "cell_type": "code",
   "execution_count": 7,
   "id": "47bc7e28-a121-4066-b202-8b66336b5851",
   "metadata": {},
   "outputs": [
    {
     "data": {
      "text/html": [
       "<div>\n",
       "<style scoped>\n",
       "    .dataframe tbody tr th:only-of-type {\n",
       "        vertical-align: middle;\n",
       "    }\n",
       "\n",
       "    .dataframe tbody tr th {\n",
       "        vertical-align: top;\n",
       "    }\n",
       "\n",
       "    .dataframe thead th {\n",
       "        text-align: right;\n",
       "    }\n",
       "</style>\n",
       "<table border=\"1\" class=\"dataframe\">\n",
       "  <thead>\n",
       "    <tr style=\"text-align: right;\">\n",
       "      <th></th>\n",
       "      <th>budget</th>\n",
       "      <th>id</th>\n",
       "      <th>popularity</th>\n",
       "      <th>revenue</th>\n",
       "      <th>runtime</th>\n",
       "      <th>vote_average</th>\n",
       "      <th>vote_count</th>\n",
       "    </tr>\n",
       "  </thead>\n",
       "  <tbody>\n",
       "    <tr>\n",
       "      <th>count</th>\n",
       "      <td>4.803000e+03</td>\n",
       "      <td>4803.000000</td>\n",
       "      <td>4803.000000</td>\n",
       "      <td>4.803000e+03</td>\n",
       "      <td>4801.000000</td>\n",
       "      <td>4803.000000</td>\n",
       "      <td>4803.000000</td>\n",
       "    </tr>\n",
       "    <tr>\n",
       "      <th>mean</th>\n",
       "      <td>2.904504e+07</td>\n",
       "      <td>57165.484281</td>\n",
       "      <td>21.492301</td>\n",
       "      <td>8.226064e+07</td>\n",
       "      <td>106.875859</td>\n",
       "      <td>6.092172</td>\n",
       "      <td>690.217989</td>\n",
       "    </tr>\n",
       "    <tr>\n",
       "      <th>std</th>\n",
       "      <td>4.072239e+07</td>\n",
       "      <td>88694.614033</td>\n",
       "      <td>31.816650</td>\n",
       "      <td>1.628571e+08</td>\n",
       "      <td>22.611935</td>\n",
       "      <td>1.194612</td>\n",
       "      <td>1234.585891</td>\n",
       "    </tr>\n",
       "    <tr>\n",
       "      <th>min</th>\n",
       "      <td>0.000000e+00</td>\n",
       "      <td>5.000000</td>\n",
       "      <td>0.000000</td>\n",
       "      <td>0.000000e+00</td>\n",
       "      <td>0.000000</td>\n",
       "      <td>0.000000</td>\n",
       "      <td>0.000000</td>\n",
       "    </tr>\n",
       "    <tr>\n",
       "      <th>25%</th>\n",
       "      <td>7.900000e+05</td>\n",
       "      <td>9014.500000</td>\n",
       "      <td>4.668070</td>\n",
       "      <td>0.000000e+00</td>\n",
       "      <td>94.000000</td>\n",
       "      <td>5.600000</td>\n",
       "      <td>54.000000</td>\n",
       "    </tr>\n",
       "    <tr>\n",
       "      <th>50%</th>\n",
       "      <td>1.500000e+07</td>\n",
       "      <td>14629.000000</td>\n",
       "      <td>12.921594</td>\n",
       "      <td>1.917000e+07</td>\n",
       "      <td>103.000000</td>\n",
       "      <td>6.200000</td>\n",
       "      <td>235.000000</td>\n",
       "    </tr>\n",
       "    <tr>\n",
       "      <th>75%</th>\n",
       "      <td>4.000000e+07</td>\n",
       "      <td>58610.500000</td>\n",
       "      <td>28.313505</td>\n",
       "      <td>9.291719e+07</td>\n",
       "      <td>118.000000</td>\n",
       "      <td>6.800000</td>\n",
       "      <td>737.000000</td>\n",
       "    </tr>\n",
       "    <tr>\n",
       "      <th>max</th>\n",
       "      <td>3.800000e+08</td>\n",
       "      <td>459488.000000</td>\n",
       "      <td>875.581305</td>\n",
       "      <td>2.787965e+09</td>\n",
       "      <td>338.000000</td>\n",
       "      <td>10.000000</td>\n",
       "      <td>13752.000000</td>\n",
       "    </tr>\n",
       "  </tbody>\n",
       "</table>\n",
       "</div>"
      ],
      "text/plain": [
       "             budget             id   popularity       revenue      runtime  \\\n",
       "count  4.803000e+03    4803.000000  4803.000000  4.803000e+03  4801.000000   \n",
       "mean   2.904504e+07   57165.484281    21.492301  8.226064e+07   106.875859   \n",
       "std    4.072239e+07   88694.614033    31.816650  1.628571e+08    22.611935   \n",
       "min    0.000000e+00       5.000000     0.000000  0.000000e+00     0.000000   \n",
       "25%    7.900000e+05    9014.500000     4.668070  0.000000e+00    94.000000   \n",
       "50%    1.500000e+07   14629.000000    12.921594  1.917000e+07   103.000000   \n",
       "75%    4.000000e+07   58610.500000    28.313505  9.291719e+07   118.000000   \n",
       "max    3.800000e+08  459488.000000   875.581305  2.787965e+09   338.000000   \n",
       "\n",
       "       vote_average    vote_count  \n",
       "count   4803.000000   4803.000000  \n",
       "mean       6.092172    690.217989  \n",
       "std        1.194612   1234.585891  \n",
       "min        0.000000      0.000000  \n",
       "25%        5.600000     54.000000  \n",
       "50%        6.200000    235.000000  \n",
       "75%        6.800000    737.000000  \n",
       "max       10.000000  13752.000000  "
      ]
     },
     "execution_count": 7,
     "metadata": {},
     "output_type": "execute_result"
    }
   ],
   "source": [
    "df_merge.describe()"
   ]
  },
  {
   "cell_type": "markdown",
   "id": "d72bb25c-d2de-4fa2-80d6-1655f3d60ca8",
   "metadata": {},
   "source": [
    "df_merge.info()"
   ]
  },
  {
   "cell_type": "markdown",
   "id": "b6ee05fa-2514-4a4e-8ffc-f889d3f4edb9",
   "metadata": {},
   "source": [
    "#### Revisión de nulos"
   ]
  },
  {
   "cell_type": "code",
   "execution_count": 8,
   "id": "627a8adb-9e1c-405e-8bad-54693ca92f64",
   "metadata": {},
   "outputs": [
    {
     "name": "stdout",
     "output_type": "stream",
     "text": [
      "Número de valores nulos por columna:\n",
      "homepage        3091\n",
      "overview           3\n",
      "release_date       1\n",
      "runtime            2\n",
      "tagline          844\n",
      "dtype: int64\n"
     ]
    }
   ],
   "source": [
    "# Cantidad de nulos\n",
    "\n",
    "null_counts = df_merge.isnull().sum()\n",
    "print(\"Número de valores nulos por columna:\")\n",
    "print(null_counts[null_counts > 0])"
   ]
  },
  {
   "cell_type": "markdown",
   "id": "aaded8b7-6c5a-4243-bf6f-adcaa5e9b495",
   "metadata": {},
   "source": [
    "- *homepage*: Se eiminará dicha columna ya que tiene un alto contenido de nulos y no tiene información relevante para el objetivo del proyecto\n",
    "- *overview*: Se eliminarás las filas con esos valores nulos ya que son muy pocos\n",
    "- *release_date*: Se eliminarán la fila con ese valor nulo\n",
    "- *runtime*: Se reemplazarán las filas con esos valores nulos por la mediana\n",
    "- *tagline*: Se reemplazarán los valores nulos por el texto 'Not available'"
   ]
  },
  {
   "cell_type": "code",
   "execution_count": 9,
   "id": "35d1cfc3-916a-49f3-86dd-52e247f3bef0",
   "metadata": {},
   "outputs": [],
   "source": [
    "# Se elimina la columna 'homepage'\n",
    "df_merge.drop(['homepage'], axis=1, inplace=True)\n",
    "\n",
    "# Se eliminan las filas con valores nulos en 'overview' y 'release_date'\n",
    "df_merge.dropna(subset=['overview', 'release_date'], inplace=True)\n",
    "\n",
    "# Se reemplazan los valores nulos en 'runtime' con la mediana\n",
    "median_runtime = df_merge['runtime'].median()\n",
    "df_merge['runtime'].fillna(median_runtime, inplace=True)\n",
    "\n",
    "# Se reemplazan los valores nulos en 'tagline' con 'Not available'\n",
    "df_merge['tagline'].fillna('Not available', inplace=True)"
   ]
  },
  {
   "cell_type": "code",
   "execution_count": 14,
   "id": "a13838fe-d425-49e0-a976-a6127e40a132",
   "metadata": {},
   "outputs": [
    {
     "name": "stdout",
     "output_type": "stream",
     "text": [
      "Número de valores nulos por columna:\n",
      "Series([], dtype: int64)\n"
     ]
    }
   ],
   "source": [
    "# Verificación del tratamiento de nulos\n",
    "null_counts = df_merge.isnull().sum()\n",
    "print(\"Número de valores nulos por columna:\")\n",
    "print(null_counts[null_counts > 0])"
   ]
  },
  {
   "cell_type": "markdown",
   "id": "b7d59f5f-dc7c-4b20-a940-8873df305495",
   "metadata": {},
   "source": [
    "#### Valores atípicos"
   ]
  },
  {
   "cell_type": "code",
   "execution_count": 15,
   "id": "8cb9ce26-1776-49e0-9b5b-50b0553e8b22",
   "metadata": {},
   "outputs": [
    {
     "name": "stderr",
     "output_type": "stream",
     "text": [
      "/Users/n.c.rodriguez/anaconda3/envs/nico/lib/python3.12/site-packages/seaborn/_oldcore.py:1498: FutureWarning: is_categorical_dtype is deprecated and will be removed in a future version. Use isinstance(dtype, CategoricalDtype) instead\n",
      "  if pd.api.types.is_categorical_dtype(vector):\n",
      "/Users/n.c.rodriguez/anaconda3/envs/nico/lib/python3.12/site-packages/seaborn/_oldcore.py:1498: FutureWarning: is_categorical_dtype is deprecated and will be removed in a future version. Use isinstance(dtype, CategoricalDtype) instead\n",
      "  if pd.api.types.is_categorical_dtype(vector):\n",
      "/Users/n.c.rodriguez/anaconda3/envs/nico/lib/python3.12/site-packages/seaborn/_oldcore.py:1498: FutureWarning: is_categorical_dtype is deprecated and will be removed in a future version. Use isinstance(dtype, CategoricalDtype) instead\n",
      "  if pd.api.types.is_categorical_dtype(vector):\n"
     ]
    },
    {
     "data": {
      "image/png": "[encoded data removed]",
      "text/plain": [
       "<Figure size 1500x800 with 1 Axes>"
      ]
     },
     "metadata": {},
     "output_type": "display_data"
    }
   ],
   "source": [
    "# Visualizar valores atípicos\n",
    "plt.figure(figsize=(15, 8))\n",
    "sns.boxplot(x=\"variable\", y=\"value\", data=pd.melt(df_merge[['budget', 'revenue', 'runtime', 'popularity', 'vote_average', 'vote_count']]))\n",
    "plt.title(\"Visualización de valores atípicos\")\n",
    "plt.xticks(rotation=45)\n",
    "plt.show()"
   ]
  },
  {
   "cell_type": "code",
   "execution_count": 16,
   "id": "8bafeb97-1e6b-4b80-9c9c-f16571d89148",
   "metadata": {},
   "outputs": [
    {
     "name": "stderr",
     "output_type": "stream",
     "text": [
      "/Users/n.c.rodriguez/anaconda3/envs/nico/lib/python3.12/site-packages/seaborn/_oldcore.py:1498: FutureWarning: is_categorical_dtype is deprecated and will be removed in a future version. Use isinstance(dtype, CategoricalDtype) instead\n",
      "  if pd.api.types.is_categorical_dtype(vector):\n"
     ]
    },
    {
     "data": {
      "image/png": "[encoded data removed]",
      "text/plain": [
       "<Figure size 1500x800 with 2 Axes>"
      ]
     },
     "metadata": {},
     "output_type": "display_data"
    }
   ],
   "source": [
    "# Visualización con Boxplot y Scatter Plot para 'revenue'\n",
    "plt.figure(figsize=(15, 8))\n",
    "\n",
    "# Boxplot\n",
    "plt.subplot(1, 2, 1)\n",
    "sns.boxplot(x=df_merge['revenue'])\n",
    "plt.title(\"Boxplot de 'revenue'\")\n",
    "\n",
    "# Scatter Plot\n",
    "plt.subplot(1, 2, 2)\n",
    "plt.scatter(x=df_merge.index, y=df_merge['revenue'])\n",
    "plt.title(\"Scatter Plot de 'revenue'\")\n",
    "plt.xlabel(\"Índice\")\n",
    "plt.ylabel(\"Revenue\")\n",
    "plt.show()"
   ]
  },
  {
   "cell_type": "markdown",
   "id": "ac032bdf-69e0-4b71-aff2-f6de9a53302e",
   "metadata": {},
   "source": [
    "Parece que en la variable 'revenue' hay un valor muy alto. Se va a analizar dicho registro:"
   ]
  },
  {
   "cell_type": "code",
   "execution_count": 17,
   "id": "5a1d9d2c-3be5-4540-a951-007fce7c82e6",
   "metadata": {},
   "outputs": [
    {
     "data": {
      "text/html": [
       "<div>\n",
       "<style scoped>\n",
       "    .dataframe tbody tr th:only-of-type {\n",
       "        vertical-align: middle;\n",
       "    }\n",
       "\n",
       "    .dataframe tbody tr th {\n",
       "        vertical-align: top;\n",
       "    }\n",
       "\n",
       "    .dataframe thead th {\n",
       "        text-align: right;\n",
       "    }\n",
       "</style>\n",
       "<table border=\"1\" class=\"dataframe\">\n",
       "  <thead>\n",
       "    <tr style=\"text-align: right;\">\n",
       "      <th></th>\n",
       "      <th>budget</th>\n",
       "      <th>genres</th>\n",
       "      <th>id</th>\n",
       "      <th>keywords</th>\n",
       "      <th>original_language</th>\n",
       "      <th>original_title</th>\n",
       "      <th>overview</th>\n",
       "      <th>popularity</th>\n",
       "      <th>production_companies</th>\n",
       "      <th>production_countries</th>\n",
       "      <th>release_date</th>\n",
       "      <th>revenue</th>\n",
       "      <th>runtime</th>\n",
       "      <th>spoken_languages</th>\n",
       "      <th>status</th>\n",
       "      <th>tagline</th>\n",
       "      <th>title</th>\n",
       "      <th>vote_average</th>\n",
       "      <th>vote_count</th>\n",
       "      <th>cast</th>\n",
       "      <th>crew</th>\n",
       "    </tr>\n",
       "  </thead>\n",
       "  <tbody>\n",
       "    <tr>\n",
       "      <th>0</th>\n",
       "      <td>237000000</td>\n",
       "      <td>[{\"id\": 28, \"name\": \"Action\"}, {\"id\": 12, \"nam...</td>\n",
       "      <td>19995</td>\n",
       "      <td>[{\"id\": 1463, \"name\": \"culture clash\"}, {\"id\":...</td>\n",
       "      <td>en</td>\n",
       "      <td>Avatar</td>\n",
       "      <td>In the 22nd century, a paraplegic Marine is di...</td>\n",
       "      <td>150.437577</td>\n",
       "      <td>[{\"name\": \"Ingenious Film Partners\", \"id\": 289...</td>\n",
       "      <td>[{\"iso_3166_1\": \"US\", \"name\": \"United States o...</td>\n",
       "      <td>2009-12-10</td>\n",
       "      <td>2787965087</td>\n",
       "      <td>162.0</td>\n",
       "      <td>[{\"iso_639_1\": \"en\", \"name\": \"English\"}, {\"iso...</td>\n",
       "      <td>Released</td>\n",
       "      <td>Enter the World of Pandora.</td>\n",
       "      <td>Avatar</td>\n",
       "      <td>7.2</td>\n",
       "      <td>11800</td>\n",
       "      <td>[{\"cast_id\": 242, \"character\": \"Jake Sully\", \"...</td>\n",
       "      <td>[{\"credit_id\": \"52fe48009251416c750aca23\", \"de...</td>\n",
       "    </tr>\n",
       "  </tbody>\n",
       "</table>\n",
       "</div>"
      ],
      "text/plain": [
       "      budget                                             genres     id  \\\n",
       "0  237000000  [{\"id\": 28, \"name\": \"Action\"}, {\"id\": 12, \"nam...  19995   \n",
       "\n",
       "                                            keywords original_language  \\\n",
       "0  [{\"id\": 1463, \"name\": \"culture clash\"}, {\"id\":...                en   \n",
       "\n",
       "  original_title                                           overview  \\\n",
       "0         Avatar  In the 22nd century, a paraplegic Marine is di...   \n",
       "\n",
       "   popularity                               production_companies  \\\n",
       "0  150.437577  [{\"name\": \"Ingenious Film Partners\", \"id\": 289...   \n",
       "\n",
       "                                production_countries release_date     revenue  \\\n",
       "0  [{\"iso_3166_1\": \"US\", \"name\": \"United States o...   2009-12-10  2787965087   \n",
       "\n",
       "   runtime                                   spoken_languages    status  \\\n",
       "0    162.0  [{\"iso_639_1\": \"en\", \"name\": \"English\"}, {\"iso...  Released   \n",
       "\n",
       "                       tagline   title  vote_average  vote_count  \\\n",
       "0  Enter the World of Pandora.  Avatar           7.2       11800   \n",
       "\n",
       "                                                cast  \\\n",
       "0  [{\"cast_id\": 242, \"character\": \"Jake Sully\", \"...   \n",
       "\n",
       "                                                crew  \n",
       "0  [{\"credit_id\": \"52fe48009251416c750aca23\", \"de...  "
      ]
     },
     "execution_count": 17,
     "metadata": {},
     "output_type": "execute_result"
    }
   ],
   "source": [
    "revenue_max = df_merge['revenue'].max()\n",
    "\n",
    "df_merge[df_merge['revenue'] == revenue_max]"
   ]
  },
  {
   "cell_type": "markdown",
   "id": "6f19cea3-91bb-4d2f-b32d-d02a10f1c469",
   "metadata": {},
   "source": [
    "Dicho valor corresponde a la película Avatar, siendo esta una de las películas más taquillera de la historia, por lo que dicho valor tan alto es válido y no se va a eliminar"
   ]
  },
  {
   "cell_type": "markdown",
   "id": "1b98ae19-67ad-4c3d-a5c0-87a88977385a",
   "metadata": {},
   "source": [
    "#### Filtro para tener las películas con un número elevado de votos"
   ]
  },
  {
   "cell_type": "code",
   "execution_count": 18,
   "id": "100c417d-4b2c-42ed-ae05-2b39ba03f6a7",
   "metadata": {},
   "outputs": [
    {
     "name": "stdout",
     "output_type": "stream",
     "text": [
      "La mediana de la nota de las películas es de: 6.2\n",
      "La mediana de la cantidad de votos de las películas es de: 236.0\n"
     ]
    }
   ],
   "source": [
    "# Mediana de los votos y conteo\n",
    "print(f\"La mediana de la nota de las películas es de: {df_merge['vote_average'].median()}\")\n",
    "print(f\"La mediana de la cantidad de votos de las películas es de: {df_merge['vote_count'].median()}\")"
   ]
  },
  {
   "cell_type": "markdown",
   "id": "e7a1e989-0dbb-4a7f-9ee1-600805b8cf4b",
   "metadata": {},
   "source": [
    "Se van a mantener sólo las películas que tienen un mayor número de votos ya que tendrá calificaciones más fiables. Se usa el percentil 60"
   ]
  },
  {
   "cell_type": "code",
   "execution_count": 19,
   "id": "e8773590-bed4-473e-ab9a-9e32ad4e0801",
   "metadata": {},
   "outputs": [
    {
     "name": "stdout",
     "output_type": "stream",
     "text": [
      "371.0\n"
     ]
    }
   ],
   "source": [
    "percentil_60 = df_merge['vote_count'].quantile(0.60)\n",
    "print(percentil_60)"
   ]
  },
  {
   "cell_type": "code",
   "execution_count": 20,
   "id": "ea807b1c-4910-4340-9479-a7ef0495d36c",
   "metadata": {},
   "outputs": [
    {
     "name": "stdout",
     "output_type": "stream",
     "text": [
      "La cantidad de películas que están dentro del percentil 60 son 1916\n"
     ]
    }
   ],
   "source": [
    "# Cantidad de películas dentro del percentil 75 más votado\n",
    "print(f\"La cantidad de películas que están dentro del percentil 60 son {len(df_merge[df_merge['vote_count']>percentil_60])}\")"
   ]
  },
  {
   "cell_type": "code",
   "execution_count": 21,
   "id": "0c1f34f6-b16a-441f-be18-2a5b7b4077fd",
   "metadata": {},
   "outputs": [],
   "source": [
    "# Se hace una copia del DataFrame con el filtro del percentil para no alterar el original\n",
    "df_merge_percentil = df_merge.copy().loc[df_merge['vote_count'] > percentil_60]"
   ]
  },
  {
   "cell_type": "markdown",
   "id": "49c443a3-e361-4e6f-bbb3-110d6fa15f43",
   "metadata": {},
   "source": [
    "#### 'original_title' vs 'title'"
   ]
  },
  {
   "cell_type": "code",
   "execution_count": 22,
   "id": "890c6f47-b725-4465-af91-5891fbb276b0",
   "metadata": {
    "scrolled": true
   },
   "outputs": [
    {
     "name": "stdout",
     "output_type": "stream",
     "text": [
      "Índice 215: 'original_title' (4: Rise of the Silver Surfer) es diferente de 'title' (Fantastic 4: Rise of the Silver Surfer)\n",
      "Índice 235: 'original_title' (Astérix aux Jeux Olympiques) es diferente de 'title' (Asterix at the Olympic Games)\n",
      "Índice 488: 'original_title' (Arthur et les Minimoys) es diferente de 'title' (Arthur and the Invisibles)\n",
      "Índice 1136: 'original_title' (英雄) es diferente de 'title' (Hero)\n",
      "Índice 1255: 'original_title' (Lo imposible) es diferente de 'title' (The Impossible)\n",
      "Índice 1260: 'original_title' (Le fabuleux destin d'Amélie Poulain) es diferente de 'title' (Amélie)\n",
      "Índice 1357: 'original_title' (葉問3) es diferente de 'title' (Ip Man 3)\n",
      "Índice 1471: 'original_title' (崖の上のポニョ) es diferente de 'title' (Ponyo)\n",
      "Índice 1761: 'original_title' (The Neverending Story) es diferente de 'title' (The NeverEnding Story)\n",
      "Índice 1784: 'original_title' (EverAfter) es diferente de 'title' (Ever After: A Cinderella Story)\n",
      "Índice 1945: 'original_title' (La migliore offerta) es diferente de 'title' (The Best Offer)\n",
      "Índice 1948: 'original_title' (Les petits mouchoirs) es diferente de 'title' (Little White Lies)\n",
      "Índice 1987: 'original_title' (ハウルの動く城) es diferente de 'title' (Howl's Moving Castle)\n",
      "Índice 2184: 'original_title' (功夫) es diferente de 'title' (Kung Fu Hustle)\n",
      "Índice 2247: 'original_title' (もののけ姫) es diferente de 'title' (Princess Mononoke)\n",
      "Índice 2294: 'original_title' (千と千尋の神隠し) es diferente de 'title' (Spirited Away)\n",
      "Índice 2413: 'original_title' (Saw 3D) es diferente de 'title' (Saw: The Final Chapter)\n",
      "Índice 2465: 'original_title' (El laberinto del fauno) es diferente de 'title' (Pan's Labyrinth)\n",
      "Índice 2497: 'original_title' (Bienvenue chez les ch'tis) es diferente de 'title' (Welcome to the Sticks)\n",
      "Índice 2515: 'original_title' (卧虎藏龙) es diferente de 'title' (Crouching Tiger, Hidden Dragon)\n",
      "Índice 2528: 'original_title' (Jackass Presents: Bad Grandpa) es diferente de 'title' (Bad Grandpa)\n",
      "Índice 2639: 'original_title' (Banlieue 13) es diferente de 'title' (District B13)\n",
      "Índice 2654: 'original_title' (Autómata) es diferente de 'title' (Automata)\n",
      "Índice 2724: 'original_title' (Der Untergang) es diferente de 'title' (Downfall)\n",
      "Índice 2863: 'original_title' (十面埋伏) es diferente de 'title' (House of Flying Daggers)\n",
      "Índice 2877: 'original_title' (괴물) es diferente de 'title' (The Host)\n",
      "Índice 2881: 'original_title' (La grande bellezza) es diferente de 'title' (The Great Beauty)\n",
      "Índice 2974: 'original_title' (La Famille Bélier) es diferente de 'title' (The Bélier Family)\n",
      "Índice 3099: 'original_title' (少林足球) es diferente de 'title' (Shaolin Soccer)\n",
      "Índice 3296: 'original_title' (アキラ) es diferente de 'title' (Akira)\n",
      "Índice 3330: 'original_title' (Die Welle) es diferente de 'title' (The Wave)\n",
      "Índice 3386: 'original_title' (Les visiteurs) es diferente de 'title' (The Visitors)\n",
      "Índice 3417: 'original_title' (Tropa de Elite) es diferente de 'title' (Elite Squad)\n",
      "Índice 3535: 'original_title' (Les Choristes) es diferente de 'title' (The Chorus)\n",
      "Índice 3541: 'original_title' (Irréversible) es diferente de 'title' (Irreversible)\n",
      "Índice 3548: 'original_title' (Hodejegerne) es diferente de 'title' (Headhunters)\n",
      "Índice 3622: 'original_title' (C'era una volta il West) es diferente de 'title' (Once Upon a Time in the West)\n",
      "Índice 3761: 'original_title' (El orfanato) es diferente de 'title' (The Orphanage)\n",
      "Índice 3839: 'original_title' (El secreto de sus ojos) es diferente de 'title' (The Secret in Their Eyes)\n",
      "Índice 3845: 'original_title' (Trolljegeren) es diferente de 'title' (Troll Hunter)\n",
      "Índice 3866: 'original_title' (Cidade de Deus) es diferente de 'title' (City of God)\n",
      "Índice 3870: 'original_title' (Jagten) es diferente de 'title' (The Hunt)\n",
      "Índice 3940: 'original_title' (올드보이) es diferente de 'title' (Oldboy)\n",
      "Índice 4077: 'original_title' (Mad Max 2) es diferente de 'title' (Mad Max 2: The Road Warrior)\n",
      "Índice 4081: 'original_title' (Das Leben der Anderen) es diferente de 'title' (The Lives of Others)\n",
      "Índice 4189: 'original_title' (Lola rennt) es diferente de 'title' (Run Lola Run)\n",
      "Índice 4302: 'original_title' (Il buono, il brutto, il cattivo) es diferente de 'title' (The Good, the Bad and the Ugly)\n",
      "Índice 4326: 'original_title' (Serbuan maut) es diferente de 'title' (The Raid)\n",
      "Índice 4452: 'original_title' (جدایی نادر از سیمین) es diferente de 'title' (A Separation)\n",
      "Índice 4535: 'original_title' (七人の侍) es diferente de 'title' (Seven Samurai)\n",
      "Índice 4672: 'original_title' (Per un pugno di dollari) es diferente de 'title' (A Fistful of Dollars)\n"
     ]
    }
   ],
   "source": [
    "# Bucle para comparar 'original_title' y 'title'\n",
    "for index, row in df_merge_percentil.iterrows():\n",
    "    original_title = row['original_title']\n",
    "    title = row['title']\n",
    "    \n",
    "    # Verificar si 'original_title' y 'title' son iguales\n",
    "    if original_title != title:\n",
    "        print(f\"Índice {index}: 'original_title' ({original_title}) es diferente de 'title' ({title})\")"
   ]
  },
  {
   "cell_type": "code",
   "execution_count": 23,
   "id": "df84e22e-ecd5-492e-9a25-458cf78005bd",
   "metadata": {},
   "outputs": [
    {
     "data": {
      "text/html": [
       "<div>\n",
       "<style scoped>\n",
       "    .dataframe tbody tr th:only-of-type {\n",
       "        vertical-align: middle;\n",
       "    }\n",
       "\n",
       "    .dataframe tbody tr th {\n",
       "        vertical-align: top;\n",
       "    }\n",
       "\n",
       "    .dataframe thead th {\n",
       "        text-align: right;\n",
       "    }\n",
       "</style>\n",
       "<table border=\"1\" class=\"dataframe\">\n",
       "  <thead>\n",
       "    <tr style=\"text-align: right;\">\n",
       "      <th></th>\n",
       "      <th>original_title</th>\n",
       "      <th>title</th>\n",
       "    </tr>\n",
       "  </thead>\n",
       "  <tbody>\n",
       "    <tr>\n",
       "      <th>1136</th>\n",
       "      <td>英雄</td>\n",
       "      <td>Hero</td>\n",
       "    </tr>\n",
       "    <tr>\n",
       "      <th>1357</th>\n",
       "      <td>葉問3</td>\n",
       "      <td>Ip Man 3</td>\n",
       "    </tr>\n",
       "    <tr>\n",
       "      <th>1471</th>\n",
       "      <td>崖の上のポニョ</td>\n",
       "      <td>Ponyo</td>\n",
       "    </tr>\n",
       "    <tr>\n",
       "      <th>1987</th>\n",
       "      <td>ハウルの動く城</td>\n",
       "      <td>Howl's Moving Castle</td>\n",
       "    </tr>\n",
       "  </tbody>\n",
       "</table>\n",
       "</div>"
      ],
      "text/plain": [
       "     original_title                 title\n",
       "1136             英雄                  Hero\n",
       "1357            葉問3              Ip Man 3\n",
       "1471        崖の上のポニョ                 Ponyo\n",
       "1987        ハウルの動く城  Howl's Moving Castle"
      ]
     },
     "execution_count": 23,
     "metadata": {},
     "output_type": "execute_result"
    }
   ],
   "source": [
    "# Lista de índices que quieres visualizar\n",
    "indices_a_visualizar = [1136, 1357, 1471, 1987]\n",
    "\n",
    "# Utilizar el método loc para seleccionar los registros en esos índices\n",
    "df_merge_percentil[['original_title', 'title']].loc[indices_a_visualizar]"
   ]
  },
  {
   "cell_type": "markdown",
   "id": "47bb646a-7e51-4cdc-a3d1-cf67d837bce7",
   "metadata": {},
   "source": [
    "Dado que la columna 'original_title' contiene caracteres especiales o está en otro idioma al inglés en algunos de los registros, se opta por eliminar dicha columna y mantener la columna 'title'"
   ]
  },
  {
   "cell_type": "code",
   "execution_count": 24,
   "id": "b114ebab-79e6-4595-b9e9-e390748210a3",
   "metadata": {},
   "outputs": [],
   "source": [
    "# Eliminar la columna 'original_title'\n",
    "df_merge_percentil.drop(['original_title'], axis=1, inplace=True)"
   ]
  },
  {
   "cell_type": "markdown",
   "id": "baffdc4b-aaea-44f3-98d9-aa9da02d026c",
   "metadata": {},
   "source": [
    "#### Exploración más detallada de las columnas"
   ]
  },
  {
   "cell_type": "code",
   "execution_count": 25,
   "id": "7c02e0e1-e949-43c7-b4d3-0090b0fea90f",
   "metadata": {
    "scrolled": true
   },
   "outputs": [
    {
     "name": "stdout",
     "output_type": "stream",
     "text": [
      "Explorando la columna: genres\n",
      "\n",
      "Algunos valores de la columna:\n",
      "['[{\"id\": 28, \"name\": \"Action\"}, {\"id\": 18, \"name\": \"Drama\"}, {\"id\": 80, \"name\": \"Crime\"}]', '[{\"id\": 80, \"name\": \"Crime\"}, {\"id\": 28, \"name\": \"Action\"}, {\"id\": 35, \"name\": \"Comedy\"}]', '[{\"id\": 35, \"name\": \"Comedy\"}, {\"id\": 80, \"name\": \"Crime\"}]', '[{\"id\": 28, \"name\": \"Action\"}, {\"id\": 53, \"name\": \"Thriller\"}]', '[{\"id\": 10749, \"name\": \"Romance\"}, {\"id\": 35, \"name\": \"Comedy\"}]']\n",
      "\n",
      "Número total de valores únicos: 1175\n",
      "\n",
      "##################################################\n",
      "\n",
      "Explorando la columna: keywords\n",
      "\n",
      "Algunos valores de la columna:\n",
      "['[{\"id\": 782, \"name\": \"assassin\"}, {\"id\": 2708, \"name\": \"hitman\"}]', '[{\"id\": 5331, \"name\": \"village\"}, {\"id\": 5638, \"name\": \"arrest\"}, {\"id\": 6149, \"name\": \"police\"}, {\"id\": 9104, \"name\": \"partner\"}, {\"id\": 9826, \"name\": \"murder\"}, {\"id\": 10410, \"name\": \"conspiracy\"}, {\"id\": 12371, \"name\": \"gunfight\"}, {\"id\": 167268, \"name\": \"police force\"}, {\"id\": 167284, \"name\": \"cowboy costume\"}, {\"id\": 207819, \"name\": \"accident\"}]', '[{\"id\": 167715, \"name\": \"informant\"}, {\"id\": 167724, \"name\": \"jumping from a rooftop\"}, {\"id\": 167726, \"name\": \"surveillance footage\"}]', '[{\"id\": 800, \"name\": \"bounty\"}, {\"id\": 1452, \"name\": \"loss of child\"}, {\"id\": 1584, \"name\": \"yellow press\"}, {\"id\": 1812, \"name\": \"fbi\"}, {\"id\": 4725, \"name\": \"baby-snatching\"}, {\"id\": 9937, \"name\": \"suspense\"}, {\"id\": 18525, \"name\": \"fbi agent\"}, {\"id\": 33626, \"name\": \"millionaire\"}]', '[{\"id\": 588, \"name\": \"rome\"}, {\"id\": 156063, \"name\": \"expatriate\"}, {\"id\": 156934, \"name\": \"episodic\"}]']\n",
      "\n",
      "Número total de valores únicos: 4220\n",
      "\n",
      "##################################################\n",
      "\n",
      "Explorando la columna: production_companies\n",
      "\n",
      "Algunos valores de la columna:\n",
      "['[{\"name\": \"StudioCanal\", \"id\": 694}, {\"name\": \"Silver Pictures\", \"id\": 1885}, {\"name\": \"TF1 Films Production\", \"id\": 3823}, {\"name\": \"Canal+\", \"id\": 5358}, {\"name\": \"Instituto de la Cinematograf\\\\u00eda y de las Artes Audiovisuales (ICAA)\", \"id\": 9974}, {\"name\": \"Nostromo Pictures\", \"id\": 11068}, {\"name\": \"Anton Capital Entertainment (ACE)\", \"id\": 20664}, {\"name\": \"Institut Catal\\\\u00e0 de les Empreses Culturals (ICEC)\", \"id\": 35559}, {\"name\": \"Prone Gunman\", \"id\": 58772}, {\"name\": \"Amazon Prime Instant Video\", \"id\": 58773}, {\"name\": \"Prone Gunman A.I.E.\", \"id\": 58774}]', '[{\"name\": \"Universal Pictures\", \"id\": 33}, {\"name\": \"Big Talk Productions\", \"id\": 443}, {\"name\": \"StudioCanal\", \"id\": 694}, {\"name\": \"GAGA\", \"id\": 3656}, {\"name\": \"Working Title Films\", \"id\": 10163}]', '[{\"name\": \"Weed Road Pictures\", \"id\": 433}, {\"name\": \"Warner Bros.\", \"id\": 6194}, {\"name\": \"Dimension Films\", \"id\": 7405}, {\"name\": \"Red Hour Films\", \"id\": 12178}, {\"name\": \"AR-TL\", \"id\": 53610}]', '[{\"name\": \"Touchstone Pictures\", \"id\": 9195}, {\"name\": \"Brian Grazer/Scott Rudin Productions\", \"id\": 90663}]', '[{\"name\": \"Gravier Productions\", \"id\": 1824}, {\"name\": \"Medusa Film\", \"id\": 6246}, {\"name\": \"Mediapro\", \"id\": 12010}, {\"name\": \"Perdido Productions\", \"id\": 12966}]']\n",
      "\n",
      "Número total de valores únicos: 3695\n",
      "\n",
      "##################################################\n",
      "\n",
      "Explorando la columna: production_countries\n",
      "\n",
      "Algunos valores de la columna:\n",
      "['[{\"iso_3166_1\": \"FR\", \"name\": \"France\"}, {\"iso_3166_1\": \"ES\", \"name\": \"Spain\"}, {\"iso_3166_1\": \"GB\", \"name\": \"United Kingdom\"}, {\"iso_3166_1\": \"US\", \"name\": \"United States of America\"}]', '[{\"iso_3166_1\": \"GB\", \"name\": \"United Kingdom\"}]', '[{\"iso_3166_1\": \"US\", \"name\": \"United States of America\"}]', '[{\"iso_3166_1\": \"US\", \"name\": \"United States of America\"}]', '[{\"iso_3166_1\": \"IT\", \"name\": \"Italy\"}, {\"iso_3166_1\": \"ES\", \"name\": \"Spain\"}, {\"iso_3166_1\": \"US\", \"name\": \"United States of America\"}]']\n",
      "\n",
      "Número total de valores únicos: 469\n",
      "\n",
      "##################################################\n",
      "\n",
      "Explorando la columna: spoken_languages\n",
      "\n",
      "Algunos valores de la columna:\n",
      "['[{\"iso_639_1\": \"es\", \"name\": \"Espa\\\\u00f1ol\"}, {\"iso_639_1\": \"en\", \"name\": \"English\"}]', '[{\"iso_639_1\": \"en\", \"name\": \"English\"}]', '[{\"iso_639_1\": \"en\", \"name\": \"English\"}, {\"iso_639_1\": \"ko\", \"name\": \"\\\\ud55c\\\\uad6d\\\\uc5b4/\\\\uc870\\\\uc120\\\\ub9d0\"}]', '[{\"iso_639_1\": \"en\", \"name\": \"English\"}]', '[{\"iso_639_1\": \"it\", \"name\": \"Italiano\"}, {\"iso_639_1\": \"en\", \"name\": \"English\"}]']\n",
      "\n",
      "Número total de valores únicos: 544\n",
      "\n",
      "##################################################\n",
      "\n",
      "Explorando la columna: cast\n",
      "\n",
      "Algunos valores de la columna:\n",
      "['[{\"cast_id\": 1, \"character\": \"Terrier\", \"credit_id\": \"5358dc81c3a36855f900a157\", \"gender\": 2, \"id\": 2228, \"name\": \"Sean Penn\", \"order\": 0}, {\"cast_id\": 5, \"character\": \"Annie\", \"credit_id\": \"5358dcdcc3a3685619009e4c\", \"gender\": 1, \"id\": 69489, \"name\": \"Jasmine Trinca\", \"order\": 1}, {\"cast_id\": 3, \"character\": \"Felix\", \"credit_id\": \"5358dcb7c3a3685611009d4a\", \"gender\": 2, \"id\": 3810, \"name\": \"Javier Bardem\", \"order\": 2}, {\"cast_id\": 4, \"character\": \"Stanley\", \"credit_id\": \"5358dcc0c3a3685611009d4c\", \"gender\": 2, \"id\": 5538, \"name\": \"Ray Winstone\", \"order\": 3}, {\"cast_id\": 7, \"character\": \"Terrance Cox\", \"credit_id\": \"5543dbb2c3a3680ce600277c\", \"gender\": 2, \"id\": 40900, \"name\": \"Mark Rylance\", \"order\": 4}, {\"cast_id\": 8, \"character\": \"Barnes\", \"credit_id\": \"5543dbc2c3a3680cd700282f\", \"gender\": 2, \"id\": 17605, \"name\": \"Idris Elba\", \"order\": 5}, {\"cast_id\": 6, \"character\": \"Reiniger\", \"credit_id\": \"5358dd04c3a36855eb009db4\", \"gender\": 0, \"id\": 11263, \"name\": \"Peter Franz\\\\u00e9n\", \"order\": 6}, {\"cast_id\": 13, \"character\": \"Reed\", \"credit_id\": \"55732d23c3a368382b004821\", \"gender\": 0, \"id\": 1474704, \"name\": \"Billy Billingham\", \"order\": 7}, {\"cast_id\": 14, \"character\": \"Bryson\", \"credit_id\": \"55732d33c3a3686f58001db9\", \"gender\": 0, \"id\": 1474705, \"name\": \"Daniel Adegboyega\", \"order\": 8}, {\"cast_id\": 15, \"character\": \"Eugene\", \"credit_id\": \"55732d43c3a36838d30046ee\", \"gender\": 0, \"id\": 1474706, \"name\": \"Ade Oyefeso\", \"order\": 9}, {\"cast_id\": 50, \"character\": \"Ruth\", \"credit_id\": \"55ae0bc9c3a368300200a2ae\", \"gender\": 0, \"id\": 1489013, \"name\": \"Sarah Moyle\", \"order\": 10}, {\"cast_id\": 51, \"character\": \"Camille\", \"credit_id\": \"55ae0c40c3a3682ff900995d\", \"gender\": 0, \"id\": 28513, \"name\": \"Rachel Lascar\", \"order\": 11}, {\"cast_id\": 53, \"character\": \"Procurement Chief (NGO)\", \"credit_id\": \"589ef4a8925141172d00bac7\", \"gender\": 0, \"id\": 1257573, \"name\": \"Mark Schardan\", \"order\": 12}, {\"cast_id\": 54, \"character\": \"Female Aid Worker\", \"credit_id\": \"589ef4f5925141171b00ba66\", \"gender\": 0, \"id\": 1149354, \"name\": \"Carla P\\\\u00e9rez\", \"order\": 13}, {\"cast_id\": 55, \"character\": \"Doctor (UCL)\", \"credit_id\": \"589ef540925141171b00baab\", \"gender\": 0, \"id\": 110615, \"name\": \"Prasanna Puwanarajah\", \"order\": 14}, {\"cast_id\": 56, \"character\": \"Restaurant Hostess\", \"credit_id\": \"589ef573c3a3684bbb00ba52\", \"gender\": 0, \"id\": 1755609, \"name\": \"Annick Weerts\", \"order\": 15}, {\"cast_id\": 57, \"character\": \"Shooter\", \"credit_id\": \"589ef667925141172d00bc5c\", \"gender\": 0, \"id\": 1361968, \"name\": \"Dacio Caballero\", \"order\": 16}, {\"cast_id\": 58, \"character\": \"Company Man\", \"credit_id\": \"589ef6d0c3a3684bb400bf02\", \"gender\": 0, \"id\": 1755614, \"name\": \"Cuco Us\\\\u00edn\", \"order\": 17}, {\"cast_id\": 59, \"character\": \"Company Man\", \"credit_id\": \"589f46df9251411fad000397\", \"gender\": 0, \"id\": 1363147, \"name\": \"\\\\u00d2scar Foronda\", \"order\": 18}, {\"cast_id\": 60, \"character\": \"Nurse\", \"credit_id\": \"589f47359251411faa00041e\", \"gender\": 0, \"id\": 1639606, \"name\": \"Angela Fuente\", \"order\": 19}, {\"cast_id\": 61, \"character\": \"Cox\\'s Secretary\", \"credit_id\": \"589f47579251411fb0000405\", \"gender\": 1, \"id\": 1289925, \"name\": \"Melina Matthews\", \"order\": 20}, {\"cast_id\": 62, \"character\": \"Man in Bar\", \"credit_id\": \"589f47659251411fa700045b\", \"gender\": 0, \"id\": 109158, \"name\": \"David Blakeley\", \"order\": 21}, {\"cast_id\": 63, \"character\": \"Medical Chief (NGO)\", \"credit_id\": \"589f47e49251411fad00046b\", \"gender\": 0, \"id\": 1755833, \"name\": \"Miquel \\\\u00c0ngel Ripeu\", \"order\": 22}, {\"cast_id\": 64, \"character\": \"North American Aid Worker (NGO)\", \"credit_id\": \"589f481fc3a368386f00042f\", \"gender\": 0, \"id\": 1755834, \"name\": \"Txiki Blasi\", \"order\": 23}, {\"cast_id\": 65, \"character\": \"Security Chief (NGO)\", \"credit_id\": \"589f4850c3a368386c0004e0\", \"gender\": 0, \"id\": 25272, \"name\": \"Alito Rodgers\", \"order\": 24}, {\"cast_id\": 66, \"character\": \"Felix\\'s Assistant\", \"credit_id\": \"589f49269251411fad00055f\", \"gender\": 0, \"id\": 1665266, \"name\": \"San Y\\\\u00e9lamos\", \"order\": 25}, {\"cast_id\": 67, \"character\": \"Passerby (uncredited)\", \"credit_id\": \"589f4986c3a36838680004c0\", \"gender\": 0, \"id\": 1417539, \"name\": \"Paulina Boneva\", \"order\": 26}, {\"cast_id\": 68, \"character\": \"Passerby (uncredited)\", \"credit_id\": \"589f4a289251411faa000627\", \"gender\": 1, \"id\": 1374158, \"name\": \"Ancuta Breaban\", \"order\": 27}]', '[{\"cast_id\": 40, \"character\": \"Nicholas Angel\", \"credit_id\": \"52fe43d0c3a36847f8071c17\", \"gender\": 2, \"id\": 11108, \"name\": \"Simon Pegg\", \"order\": 0}, {\"cast_id\": 41, \"character\": \"PC Danny Butterman\", \"credit_id\": \"52fe43d0c3a36847f8071c1b\", \"gender\": 2, \"id\": 11109, \"name\": \"Nick Frost\", \"order\": 1}, {\"cast_id\": 43, \"character\": \"Inspector Frank Butterman\", \"credit_id\": \"52fe43d0c3a36847f8071c23\", \"gender\": 2, \"id\": 388, \"name\": \"Jim Broadbent\", \"order\": 2}, {\"cast_id\": 44, \"character\": \"DS Andy Wainwright\", \"credit_id\": \"52fe43d0c3a36847f8071c27\", \"gender\": 2, \"id\": 14887, \"name\": \"Paddy Considine\", \"order\": 3}, {\"cast_id\": 45, \"character\": \"DC Andy Cartwright\", \"credit_id\": \"52fe43d0c3a36847f8071c2b\", \"gender\": 2, \"id\": 28847, \"name\": \"Rafe Spall\", \"order\": 4}, {\"cast_id\": 47, \"character\": \"Sergeant Tony Fisher\", \"credit_id\": \"52fe43d0c3a36847f8071c33\", \"gender\": 2, \"id\": 39185, \"name\": \"Kevin Eldon\", \"order\": 5}, {\"cast_id\": 48, \"character\": \"PC Doris Thatcher\", \"credit_id\": \"52fe43d0c3a36847f8071c37\", \"gender\": 0, \"id\": 39187, \"name\": \"Olivia Colman\", \"order\": 6}, {\"cast_id\": 59, \"character\": \"PC Bob Walker\", \"credit_id\": \"56759da192514179db003271\", \"gender\": 2, \"id\": 39186, \"name\": \"Karl Johnson\", \"order\": 7}, {\"cast_id\": 58, \"character\": \"Sergeant Turner\", \"credit_id\": \"56759d99c3a368168500320f\", \"gender\": 2, \"id\": 24265, \"name\": \"Bill Bailey\", \"order\": 8}, {\"cast_id\": 42, \"character\": \"Simon Skinner\", \"credit_id\": \"52fe43d0c3a36847f8071c1f\", \"gender\": 2, \"id\": 10669, \"name\": \"Timothy Dalton\", \"order\": 9}, {\"cast_id\": 49, \"character\": \"Tom Weaver\", \"credit_id\": \"52fe43d0c3a36847f8071c3b\", \"gender\": 2, \"id\": 39188, \"name\": \"Edward Woodward\", \"order\": 10}, {\"cast_id\": 56, \"character\": \"Joyce Cooper\", \"credit_id\": \"56759d8ac3a368168b003016\", \"gender\": 1, \"id\": 8226, \"name\": \"Billie Whitelaw\", \"order\": 11}, {\"cast_id\": 98, \"character\": \"Bernard Cooper\", \"credit_id\": \"56aa49b19251410e2d006587\", \"gender\": 0, \"id\": 1229320, \"name\": \"Eric Mason\", \"order\": 12}, {\"cast_id\": 52, \"character\": \"Dr. Robin Hatcher\", \"credit_id\": \"52fe43d0c3a36847f8071c47\", \"gender\": 2, \"id\": 14344, \"name\": \"Stuart Wilson\", \"order\": 13}, {\"cast_id\": 51, \"character\": \"Rev. Philip Shooter\", \"credit_id\": \"52fe43d0c3a36847f8071c43\", \"gender\": 0, \"id\": 652, \"name\": \"Paul Freeman\", \"order\": 14}, {\"cast_id\": 54, \"character\": \"Michael \\\\\"Lurch\\\\\" Armstrong\", \"credit_id\": \"546eb722c3a3682fa4000c94\", \"gender\": 2, \"id\": 3075, \"name\": \"Rory McCann\", \"order\": 15}, {\"cast_id\": 88, \"character\": \"James Reaper\", \"credit_id\": \"569e6ed2c3a36858cb0065fc\", \"gender\": 2, \"id\": 26258, \"name\": \"Kenneth Cranham\", \"order\": 16}, {\"cast_id\": 93, \"character\": \"Mrs. Reaper\", \"credit_id\": \"569e7099c3a36858c8006b1c\", \"gender\": 0, \"id\": 194899, \"name\": \"Maria Charles\", \"order\": 17}, {\"cast_id\": 65, \"character\": \"Roy Porter\", \"credit_id\": \"56759dcbc3a3681683003181\", \"gender\": 2, \"id\": 17476, \"name\": \"Peter Wight\", \"order\": 18}, {\"cast_id\": 70, \"character\": \"Mary Porter\", \"credit_id\": \"56759e6592514179d2003371\", \"gender\": 1, \"id\": 137471, \"name\": \"Julia Deakin\", \"order\": 19}, {\"cast_id\": 85, \"character\": \"Greg Prosser\", \"credit_id\": \"569e6d509251415af1000d57\", \"gender\": 0, \"id\": 1553131, \"name\": \"Trevor Nichols\", \"order\": 20}, {\"cast_id\": 86, \"character\": \"Sheree Prosser\", \"credit_id\": \"569e6d84c3a36858ce007039\", \"gender\": 0, \"id\": 1495777, \"name\": \"Elizabeth Elvin\", \"order\": 21}, {\"cast_id\": 87, \"character\": \"Annette Roper\", \"credit_id\": \"569e6e7dc3a36858dc006e5e\", \"gender\": 0, \"id\": 117550, \"name\": \"Patricia Franklin\", \"order\": 22}, {\"cast_id\": 72, \"character\": \"Amanda Paver\", \"credit_id\": \"568d9d799251416b420007f6\", \"gender\": 0, \"id\": 82150, \"name\": \"Lorraine Hilton\", \"order\": 23}, {\"cast_id\": 89, \"character\": \"Mr. Treacher\", \"credit_id\": \"569e6f5ac3a36858ce007083\", \"gender\": 2, \"id\": 79875, \"name\": \"Tim Barlow\", \"order\": 24}, {\"cast_id\": 57, \"character\": \"Leslie Tiller\", \"credit_id\": \"56759d9292514179d200334f\", \"gender\": 1, \"id\": 77287, \"name\": \"Anne Reid\", \"order\": 25}, {\"cast_id\": 90, \"character\": \"Peter Cocker\", \"credit_id\": \"569e6f9b9251415af1000dbc\", \"gender\": 0, \"id\": 1502694, \"name\": \"Ben McKay\", \"order\": 26}, {\"cast_id\": 46, \"character\": \"Tim Messenger\", \"credit_id\": \"52fe43d0c3a36847f8071c2f\", \"gender\": 0, \"id\": 155532, \"name\": \"Adam Buxton\", \"order\": 27}, {\"cast_id\": 55, \"character\": \"Martin Blower\", \"credit_id\": \"56759d7ec3a368168b003014\", \"gender\": 2, \"id\": 59081, \"name\": \"David Threlfall\", \"order\": 28}, {\"cast_id\": 53, \"character\": \"Eve Draper\", \"credit_id\": \"53408e4d0e0a2679a1000a2f\", \"gender\": 1, \"id\": 66446, \"name\": \"Lucy Punch\", \"order\": 29}, {\"cast_id\": 60, \"character\": \"Arthur Webley\", \"credit_id\": \"56759da892514179d70030c6\", \"gender\": 2, \"id\": 11180, \"name\": \"David Bradley\", \"order\": 30}, {\"cast_id\": 91, \"character\": \"George Merchant\", \"credit_id\": \"569e7004c3a36858c3006cbb\", \"gender\": 2, \"id\": 5319, \"name\": \"Ron Cook\", \"order\": 31}, {\"cast_id\": 61, \"character\": \"Peter Ian Staker\", \"credit_id\": \"56759daf92514179d40031f9\", \"gender\": 2, \"id\": 39189, \"name\": \"Stephen Merchant\", \"order\": 32}, {\"cast_id\": 68, \"character\": \"Tina\", \"credit_id\": \"56759e5392514179d400320a\", \"gender\": 1, \"id\": 182327, \"name\": \"Alice Lowe\", \"order\": 33}, {\"cast_id\": 62, \"character\": \"Met Sergeant\", \"credit_id\": \"56759db7c3a368167c00335a\", \"gender\": 2, \"id\": 7060, \"name\": \"Martin Freeman\", \"order\": 34}, {\"cast_id\": 63, \"character\": \"Metropolitan Police Inspector (uncredited)\", \"credit_id\": \"56759dbec3a368168300317c\", \"gender\": 2, \"id\": 4581, \"name\": \"Steve Coogan\", \"order\": 35}, {\"cast_id\": 50, \"character\": \"Met Chief Inspector\", \"credit_id\": \"52fe43d0c3a36847f8071c3f\", \"gender\": 2, \"id\": 2440, \"name\": \"Bill Nighy\", \"order\": 36}, {\"cast_id\": 94, \"character\": \"Thief Dressed as Santa (uncredited)\", \"credit_id\": \"569e7201c3a36858c8006b5c\", \"gender\": 2, \"id\": 108, \"name\": \"Peter Jackson\", \"order\": 37}, {\"cast_id\": 69, \"character\": \"Janine (uncredited)\", \"credit_id\": \"56759e5ac3a368168b003028\", \"gender\": 1, \"id\": 112, \"name\": \"Cate Blanchett\", \"order\": 38}, {\"cast_id\": 95, \"character\": \"Crack Addict (uncredited)\", \"credit_id\": \"569e72499251415e6a006e34\", \"gender\": 2, \"id\": 52842, \"name\": \"Garth Jennings\", \"order\": 39}, {\"cast_id\": 96, \"character\": \"Shelf Stacker / Voice of Dave (uncredited)\", \"credit_id\": \"569e7306c3a36858c8006b83\", \"gender\": 2, \"id\": 11090, \"name\": \"Edgar Wright\", \"order\": 40}, {\"cast_id\": 82, \"character\": \"\\'Not\\' Janine\", \"credit_id\": \"569e6bab9251415af1000d0b\", \"gender\": 2, \"id\": 514369, \"name\": \"Robert Popper\", \"order\": 41}, {\"cast_id\": 83, \"character\": \"Bob\", \"credit_id\": \"569e6bf9c3a36858d2006bf5\", \"gender\": 2, \"id\": 155531, \"name\": \"Joe Cornish\", \"order\": 42}, {\"cast_id\": 84, \"character\": \"Dave\", \"credit_id\": \"569e6c1dc3a36858ce00700f\", \"gender\": 0, \"id\": 88712, \"name\": \"Chris Waitt\", \"order\": 43}, {\"cast_id\": 92, \"character\": \"Heston Services Clerk\", \"credit_id\": \"569e70679251415e5e006ea2\", \"gender\": 0, \"id\": 1512263, \"name\": \"Colin Michael Carmichael\", \"order\": 44}]', '[{\"cast_id\": 1, \"character\": \"David Starsky\", \"credit_id\": \"52fe44f0c3a36847f80b2fcf\", \"gender\": 2, \"id\": 7399, \"name\": \"Ben Stiller\", \"order\": 0}, {\"cast_id\": 2, \"character\": \"Ken Hutchinson\", \"credit_id\": \"52fe44f0c3a36847f80b2fd3\", \"gender\": 2, \"id\": 887, \"name\": \"Owen Wilson\", \"order\": 1}, {\"cast_id\": 3, \"character\": \"Huggy Bear\", \"credit_id\": \"52fe44f0c3a36847f80b2fd7\", \"gender\": 2, \"id\": 19767, \"name\": \"Snoop Dogg\", \"order\": 2}, {\"cast_id\": 4, \"character\": \"Captain Doby\", \"credit_id\": \"52fe44f0c3a36847f80b2fdb\", \"gender\": 0, \"id\": 9811, \"name\": \"Fred Williamson\", \"order\": 3}, {\"cast_id\": 5, \"character\": \"Reese Feldman\", \"credit_id\": \"52fe44f0c3a36847f80b2fdf\", \"gender\": 2, \"id\": 4937, \"name\": \"Vince Vaughn\", \"order\": 4}, {\"cast_id\": 6, \"character\": \"Kitty\", \"credit_id\": \"52fe44f0c3a36847f80b2fe3\", \"gender\": 1, \"id\": 3196, \"name\": \"Juliette Lewis\", \"order\": 5}, {\"cast_id\": 7, \"character\": \"Kevin\", \"credit_id\": \"52fe44f0c3a36847f80b2fe7\", \"gender\": 2, \"id\": 23532, \"name\": \"Jason Bateman\", \"order\": 6}, {\"cast_id\": 8, \"character\": \"Staci\", \"credit_id\": \"52fe44f0c3a36847f80b2feb\", \"gender\": 1, \"id\": 28639, \"name\": \"Carmen Electra\", \"order\": 7}, {\"cast_id\": 25, \"character\": \"Big Earl\", \"credit_id\": \"52fe44f0c3a36847f80b304f\", \"gender\": 2, \"id\": 23659, \"name\": \"Will Ferrell\", \"order\": 8}, {\"cast_id\": 26, \"character\": \"Holly\", \"credit_id\": \"52fe44f0c3a36847f80b3053\", \"gender\": 1, \"id\": 20189, \"name\": \"Amy Smart\", \"order\": 9}, {\"cast_id\": 27, \"character\": \"Heather\", \"credit_id\": \"52fe44f0c3a36847f80b3057\", \"gender\": 1, \"id\": 65641, \"name\": \"Brande Roderick\", \"order\": 10}, {\"cast_id\": 28, \"character\": \"Mrs. Feldman\", \"credit_id\": \"52fe44f0c3a36847f80b305b\", \"gender\": 1, \"id\": 60952, \"name\": \"Molly Sims\", \"order\": 11}, {\"cast_id\": 51, \"character\": \"Elizabeth\", \"credit_id\": \"573e393fc3a3681d35000676\", \"gender\": 1, \"id\": 1622591, \"name\": \"Sara Swain\", \"order\": 12}, {\"cast_id\": 129, \"character\": \"Chau\", \"credit_id\": \"58c7f5f1c3a3683dc500dd4e\", \"gender\": 2, \"id\": 16580, \"name\": \"George Cheung\", \"order\": 13}, {\"cast_id\": 130, \"character\": \"Manetti\", \"credit_id\": \"58c7f608c3a3683dd700d205\", \"gender\": 2, \"id\": 2969, \"name\": \"Chris Penn\", \"order\": 14}, {\"cast_id\": 131, \"character\": \"Eddie\", \"credit_id\": \"58c7f692c3a3683deb00d55b\", \"gender\": 2, \"id\": 59841, \"name\": \"Matt Walsh\", \"order\": 15}, {\"cast_id\": 132, \"character\": \"Bartender\", \"credit_id\": \"58c7f6a19251417a1700e43a\", \"gender\": 0, \"id\": 1776391, \"name\": \"G.T. Holme\", \"order\": 16}, {\"cast_id\": 133, \"character\": \"Willis\", \"credit_id\": \"58c7f6b89251417a1700e456\", \"gender\": 0, \"id\": 1496467, \"name\": \"Jeffrey Lorenzo\", \"order\": 17}, {\"cast_id\": 134, \"character\": \"Dancin\\' Rick\", \"credit_id\": \"58c7f6c9c3a3683dbd00dcca\", \"gender\": 0, \"id\": 1107306, \"name\": \"Har Mar Superstar\", \"order\": 18}, {\"cast_id\": 135, \"character\": \"Disco DJ\", \"credit_id\": \"58c7f6d992514179e400e462\", \"gender\": 2, \"id\": 10872, \"name\": \"Patton Oswalt\", \"order\": 19}, {\"cast_id\": 136, \"character\": \"Banquet Singer\", \"credit_id\": \"58c7f6f1c3a3683ddf00f001\", \"gender\": 0, \"id\": 1776392, \"name\": \"Brigette Romanek\", \"order\": 20}, {\"cast_id\": 137, \"character\": \"Original Starsky\", \"credit_id\": \"58c7f70e92514179e400e49e\", \"gender\": 2, \"id\": 12988, \"name\": \"Paul Michael Glaser\", \"order\": 21}, {\"cast_id\": 138, \"character\": \"Original Hutch\", \"credit_id\": \"58c7f71e92514179da00e670\", \"gender\": 2, \"id\": 15956, \"name\": \"David Soul\", \"order\": 22}, {\"cast_id\": 139, \"character\": \"Bat Mitzvah Singer\", \"credit_id\": \"58c7f72fc3a3683d9500c7a2\", \"gender\": 0, \"id\": 151121, \"name\": \"Dan Finnerty\", \"order\": 23}, {\"cast_id\": 140, \"character\": \"Leon\", \"credit_id\": \"58c7f73c92514179da00e686\", \"gender\": 2, \"id\": 55275, \"name\": \"Jernard Burks\", \"order\": 24}, {\"cast_id\": 141, \"character\": \"Lamell\", \"credit_id\": \"58c7f74ac3a3683dc500de66\", \"gender\": 2, \"id\": 59844, \"name\": \"Omar J. Dorsey\", \"order\": 25}, {\"cast_id\": 142, \"character\": \"Indian Shopkeeper\", \"credit_id\": \"58c7f75cc3a3683dcd00eb1f\", \"gender\": 0, \"id\": 1430636, \"name\": \"Pramod Kumar\", \"order\": 26}, {\"cast_id\": 143, \"character\": \"Bee Bee\", \"credit_id\": \"58c7f76a9251417a1700e508\", \"gender\": 0, \"id\": 1776393, \"name\": \"Rod Tate\", \"order\": 27}, {\"cast_id\": 144, \"character\": \"Monix\", \"credit_id\": \"58c7f785c3a3683deb00d647\", \"gender\": 2, \"id\": 6396, \"name\": \"Richard Edson\", \"order\": 28}, {\"cast_id\": 145, \"character\": \"Marks\", \"credit_id\": \"58c7f795c3a3683deb00d654\", \"gender\": 2, \"id\": 165214, \"name\": \"Raymond Ma\", \"order\": 29}, {\"cast_id\": 146, \"character\": \"Porter\", \"credit_id\": \"58c7f7a1c3a3683dcd00eb68\", \"gender\": 2, \"id\": 53256, \"name\": \"Terry Crews\", \"order\": 30}, {\"cast_id\": 147, \"character\": \"Drug Dealer\", \"credit_id\": \"58c7f7af9251417a1700e549\", \"gender\": 0, \"id\": 1776394, \"name\": \"Richie Nathanson\", \"order\": 31}, {\"cast_id\": 148, \"character\": \"Terrence Meyers\", \"credit_id\": \"58c7f7c1c3a3683dcd00eb88\", \"gender\": 0, \"id\": 111514, \"name\": \"David Pressman\", \"order\": 32}, {\"cast_id\": 149, \"character\": \"Fat Ron\", \"credit_id\": \"58c7f7cf92514179f700e2d9\", \"gender\": 0, \"id\": 1906, \"name\": \"Scott L. Schwartz\", \"order\": 33}, {\"cast_id\": 150, \"character\": \"Ice Cream Man\", \"credit_id\": \"58c7f7dd9251417a2300e063\", \"gender\": 2, \"id\": 52860, \"name\": \"Judah Friedlander\", \"order\": 34}, {\"cast_id\": 151, \"character\": \"Toby\", \"credit_id\": \"58c7f7e99251417a1700e579\", \"gender\": 0, \"id\": 1776395, \"name\": \"Akerin Suksawat Premwattana\", \"order\": 35}, {\"cast_id\": 152, \"character\": \"Banquet Waitress\", \"credit_id\": \"58c7f7fac3a3683dd700d3b0\", \"gender\": 1, \"id\": 205394, \"name\": \"Amber Mead\", \"order\": 36}, {\"cast_id\": 153, \"character\": \"Lorraine\", \"credit_id\": \"58c7f876c3a3683dd700d411\", \"gender\": 1, \"id\": 130733, \"name\": \"Darlena Tejeiro\", \"order\": 37}, {\"cast_id\": 154, \"character\": \"Cop in Shower\", \"credit_id\": \"58c7fa3c9251417a1700e778\", \"gender\": 2, \"id\": 28101, \"name\": \"Harry O\\'Reilly\", \"order\": 38}, {\"cast_id\": 155, \"character\": \"Kiki\", \"credit_id\": \"58c7fa49c3a3683df300f077\", \"gender\": 0, \"id\": 97260, \"name\": \"Tangie Ambrose\", \"order\": 39}, {\"cast_id\": 156, \"character\": \"Sexy Bartender\", \"credit_id\": \"58c7fa99c3a3683dbd00dffe\", \"gender\": 1, \"id\": 1776400, \"name\": \"Delores Gilbeaux\", \"order\": 40}, {\"cast_id\": 157, \"character\": \"Diner Waitress\", \"credit_id\": \"58c7fafdc3a3683deb00d901\", \"gender\": 1, \"id\": 1776401, \"name\": \"Kimberly Brickland\", \"order\": 41}, {\"cast_id\": 158, \"character\": \"Mrs. Feldman\\'s Friend\", \"credit_id\": \"58c7fb4492514179de00ebdd\", \"gender\": 1, \"id\": 1776402, \"name\": \"Minnie Lagrimas\", \"order\": 42}, {\"cast_id\": 159, \"character\": \"Mrs. Feldman\\'s Other Friend\", \"credit_id\": \"58c7fbac9251417a2300e355\", \"gender\": 1, \"id\": 46074, \"name\": \"Rachael Harris\", \"order\": 43}, {\"cast_id\": 160, \"character\": \"Rooftop Bad Guy\", \"credit_id\": \"58c7fbfbc3a3683dd700d6ca\", \"gender\": 0, \"id\": 1776403, \"name\": \"David Burton\", \"order\": 44}, {\"cast_id\": 161, \"character\": \"Laundry Owner\", \"credit_id\": \"58c7fc089251417a2300e3b5\", \"gender\": 0, \"id\": 1776404, \"name\": \"Larry Chang\", \"order\": 45}, {\"cast_id\": 162, \"character\": \"Bookie #1\", \"credit_id\": \"58c7fc1592514179f700e650\", \"gender\": 0, \"id\": 1776405, \"name\": \"Ton Suckhasem\", \"order\": 46}, {\"cast_id\": 163, \"character\": \"Bookie #2\", \"credit_id\": \"58c7fc2392514179da00ea93\", \"gender\": 0, \"id\": 1776406, \"name\": \"Henry T. Yamada\", \"order\": 47}, {\"cast_id\": 164, \"character\": \"Smokey\", \"credit_id\": \"58c7fc309251417a2300e3d3\", \"gender\": 0, \"id\": 1776407, \"name\": \"Charles Edward Townsend\", \"order\": 48}, {\"cast_id\": 165, \"character\": \"Nightclub Dancer\", \"credit_id\": \"58c7fc4792514179da00eab8\", \"gender\": 1, \"id\": 1503030, \"name\": \"Nancy Anderson\", \"order\": 49}, {\"cast_id\": 166, \"character\": \"Nightclub Dancer\", \"credit_id\": \"58c7fc59c3a3683dd700d734\", \"gender\": 0, \"id\": 179688, \"name\": \"Jason Yribar\", \"order\": 50}, {\"cast_id\": 167, \"character\": \"Nightclub Dancer\", \"credit_id\": \"58c7fc6792514179da00ead3\", \"gender\": 0, \"id\": 1212446, \"name\": \"Tyce Diorio\", \"order\": 51}, {\"cast_id\": 168, \"character\": \"Nightclub Dancer\", \"credit_id\": \"58c7fc7dc3a3683d9500cbd3\", \"gender\": 1, \"id\": 1776408, \"name\": \"Katie Pantenburg\", \"order\": 52}, {\"cast_id\": 169, \"character\": \"Nightclub Dancer\", \"credit_id\": \"58c7fcb39251417a0f00dea9\", \"gender\": 0, \"id\": 1773681, \"name\": \"Timothy Anderson\", \"order\": 53}, {\"cast_id\": 170, \"character\": \"Nightclub Dancer\", \"credit_id\": \"58c7fcc0c3a3683deb00da67\", \"gender\": 1, \"id\": 1220575, \"name\": \"Kimberly Wyatt\", \"order\": 54}, {\"cast_id\": 171, \"character\": \"Nightclub Dancer\", \"credit_id\": \"58c7fce492514179da00eb37\", \"gender\": 1, \"id\": 1776409, \"name\": \"Kristyn Abbadini\", \"order\": 55}, {\"cast_id\": 172, \"character\": \"Nightclub Dancer\", \"credit_id\": \"58c7fd79c3a3683dd700d818\", \"gender\": 0, \"id\": 1773910, \"name\": \"Kevin Alexander Stea\", \"order\": 56}, {\"cast_id\": 173, \"character\": \"Nightclub Dancer\", \"credit_id\": \"58c7fd8bc3a3683d9500cc92\", \"gender\": 2, \"id\": 928295, \"name\": \"Adrian Armas\", \"order\": 57}, {\"cast_id\": 174, \"character\": \"Nightclub Dancer\", \"credit_id\": \"58c7fda2c3a3683d9500cca5\", \"gender\": 0, \"id\": 1776410, \"name\": \"Gabriel Paige\", \"order\": 58}, {\"cast_id\": 175, \"character\": \"Nightclub Dancer\", \"credit_id\": \"58c7fdbb92514179f700e78f\", \"gender\": 1, \"id\": 1776372, \"name\": \"Tara Wilson\", \"order\": 59}, {\"cast_id\": 176, \"character\": \"Nightclub Dancer\", \"credit_id\": \"58c7fdcb9251417a2300e51e\", \"gender\": 1, \"id\": 1769685, \"name\": \"Brittany Perry-Russell\", \"order\": 60}, {\"cast_id\": 177, \"character\": \"Nightclub Dancer\", \"credit_id\": \"58c7fdf192514179e400ea7b\", \"gender\": 1, \"id\": 143244, \"name\": \"Tanee McCall\", \"order\": 61}, {\"cast_id\": 178, \"character\": \"Nightclub Dancer\", \"credit_id\": \"58c7fe0192514179e400ea91\", \"gender\": 1, \"id\": 168925, \"name\": \"Nadine Ellis\", \"order\": 62}, {\"cast_id\": 179, \"character\": \"Nightclub Dancer\", \"credit_id\": \"58c7fe12c3a3683dbd00e2a7\", \"gender\": 0, \"id\": 1776411, \"name\": \"Chad Azadan\", \"order\": 63}, {\"cast_id\": 180, \"character\": \"Nightclub Dancer\", \"credit_id\": \"58c7fe2292514179e400eaaa\", \"gender\": 0, \"id\": 557791, \"name\": \"Jason Beitel\", \"order\": 64}, {\"cast_id\": 181, \"character\": \"Nightclub Dancer\", \"credit_id\": \"58c7fe31c3a3683dcd00f14e\", \"gender\": 0, \"id\": 1223005, \"name\": \"Brandon Henschel\", \"order\": 65}, {\"cast_id\": 182, \"character\": \"Nightclub Dancer\", \"credit_id\": \"58c7fe41c3a3683df300f3e3\", \"gender\": 0, \"id\": 1775886, \"name\": \"Mark Meismer\", \"order\": 66}, {\"cast_id\": 183, \"character\": \"Nightclub Dancer\", \"credit_id\": \"58c7fe4f92514179d200f655\", \"gender\": 0, \"id\": 1347276, \"name\": \"Matt Sergott\", \"order\": 67}, {\"cast_id\": 184, \"character\": \"Nightclub Dancer\", \"credit_id\": \"58c7fe7bc3a3683d9500cd60\", \"gender\": 1, \"id\": 1235851, \"name\": \"Lisa Joann Thompson\", \"order\": 68}, {\"cast_id\": 185, \"character\": \"Nightclub Dancer\", \"credit_id\": \"58c7ff0892514179f700e8ac\", \"gender\": 0, \"id\": 1226626, \"name\": \"Christian Vincent\", \"order\": 69}, {\"cast_id\": 186, \"character\": \"Nightclub Dancer\", \"credit_id\": \"58c7ff24c3a3683dd700d985\", \"gender\": 1, \"id\": 1776412, \"name\": \"Natalie Willes\", \"order\": 70}, {\"cast_id\": 187, \"character\": \"Cheerleader\", \"credit_id\": \"58c7ff7dc3a3683deb00dc88\", \"gender\": 1, \"id\": 1622614, \"name\": \"Stacey Harper\", \"order\": 71}, {\"cast_id\": 188, \"character\": \"Cheerleader\", \"credit_id\": \"58c7ffcac3a3683ddf00f7f5\", \"gender\": 1, \"id\": 1776373, \"name\": \"Gelsey Weiss\", \"order\": 72}, {\"cast_id\": 189, \"character\": \"Cheerleader\", \"credit_id\": \"58c7ffe49251417a0f00e0fb\", \"gender\": 0, \"id\": 1693813, \"name\": \"Tasha Tae\", \"order\": 73}, {\"cast_id\": 190, \"character\": \"Cheerleader\", \"credit_id\": \"58c7fff39251417a2300e6d3\", \"gender\": 1, \"id\": 1752319, \"name\": \"Becca Sweitzer\", \"order\": 74}, {\"cast_id\": 191, \"character\": \"Cheerleader\", \"credit_id\": \"58c800019251417a0f00e117\", \"gender\": 1, \"id\": 1562235, \"name\": \"Jennifer Hamilton\", \"order\": 75}, {\"cast_id\": 192, \"character\": \"Cheerleader\", \"credit_id\": \"58c800199251417a2300e6eb\", \"gender\": 1, \"id\": 1776415, \"name\": \"Vanessa Tarazona\", \"order\": 76}, {\"cast_id\": 193, \"character\": \"Cheerleader\", \"credit_id\": \"58c8005692514179e400ec98\", \"gender\": 0, \"id\": 1775926, \"name\": \"Janina Garraway\", \"order\": 77}, {\"cast_id\": 194, \"character\": \"Cheerleader\", \"credit_id\": \"58c80065c3a3683dcd00f33d\", \"gender\": 1, \"id\": 1622616, \"name\": \"Kadee Sweeney\", \"order\": 78}, {\"cast_id\": 195, \"character\": \"Cheerleader\", \"credit_id\": \"58c800c4c3a3683deb00dd7a\", \"gender\": 1, \"id\": 59544, \"name\": \"Melanie Lewis\", \"order\": 79}, {\"cast_id\": 196, \"character\": \"Cheerleader\", \"credit_id\": \"58c800de92514179d200f8af\", \"gender\": 1, \"id\": 1776417, \"name\": \"Megan Stephens\", \"order\": 80}, {\"cast_id\": 197, \"character\": \"Cheerleader\", \"credit_id\": \"58c8011292514179de00f0bb\", \"gender\": 0, \"id\": 1776418, \"name\": \"Michon Suyama\", \"order\": 81}, {\"cast_id\": 198, \"character\": \"Cheerleader\", \"credit_id\": \"58c801b392514179e400edb7\", \"gender\": 0, \"id\": 1776419, \"name\": \"Tomasina Parrott\", \"order\": 82}, {\"cast_id\": 199, \"character\": \"Mrs. Feldman\\'s Friend\", \"credit_id\": \"58c801dc92514179da00ef58\", \"gender\": 1, \"id\": 92188, \"name\": \"Kathleen LaGue\", \"order\": 83}]', '[{\"cast_id\": 1, \"character\": \"Tom Mullen\", \"credit_id\": \"52fe439fc3a36847f8062c07\", \"gender\": 2, \"id\": 2461, \"name\": \"Mel Gibson\", \"order\": 0}, {\"cast_id\": 17, \"character\": \"Det. Jimmy Shaker\", \"credit_id\": \"52fe43a0c3a36847f8062c5f\", \"gender\": 2, \"id\": 33, \"name\": \"Gary Sinise\", \"order\": 1}, {\"cast_id\": 18, \"character\": \"Agent Lonnie Hawkins\", \"credit_id\": \"52fe43a0c3a36847f8062c63\", \"gender\": 2, \"id\": 18792, \"name\": \"Delroy Lindo\", \"order\": 2}, {\"cast_id\": 19, \"character\": \"Katherine Mullen\", \"credit_id\": \"52fe43a0c3a36847f8062c67\", \"gender\": 1, \"id\": 14343, \"name\": \"Rene Russo\", \"order\": 3}, {\"cast_id\": 20, \"character\": \"Maris\", \"credit_id\": \"52fe43a0c3a36847f8062c6b\", \"gender\": 1, \"id\": 3127, \"name\": \"Lili Taylor\", \"order\": 4}, {\"cast_id\": 21, \"character\": \"Sean Mullen\", \"credit_id\": \"52fe43a0c3a36847f8062c6f\", \"gender\": 2, \"id\": 33239, \"name\": \"Brawley Nolte\", \"order\": 5}, {\"cast_id\": 22, \"character\": \"Clark Barnes\", \"credit_id\": \"52fe43a0c3a36847f8062c73\", \"gender\": 2, \"id\": 23626, \"name\": \"Liev Schreiber\", \"order\": 6}, {\"cast_id\": 23, \"character\": \"Cubby Barnes\", \"credit_id\": \"52fe43a0c3a36847f8062c77\", \"gender\": 2, \"id\": 2680, \"name\": \"Donnie Wahlberg\", \"order\": 7}, {\"cast_id\": 24, \"character\": \"Miles Roberts\", \"credit_id\": \"52fe43a0c3a36847f8062c7b\", \"gender\": 2, \"id\": 3212, \"name\": \"Evan Handler\", \"order\": 8}, {\"cast_id\": 25, \"character\": \"Agent Kimba Welch\", \"credit_id\": \"52fe43a0c3a36847f8062c7f\", \"gender\": 1, \"id\": 33240, \"name\": \"Nancy Ticotin\", \"order\": 9}, {\"cast_id\": 26, \"character\": \"Agent Jack Sickler\", \"credit_id\": \"52fe43a0c3a36847f8062c83\", \"gender\": 2, \"id\": 33241, \"name\": \"Michael Gaston\", \"order\": 10}, {\"cast_id\": 27, \"character\": \"Agent Paul Rhodes\", \"credit_id\": \"52fe43a0c3a36847f8062c87\", \"gender\": 0, \"id\": 33242, \"name\": \"Kevin Neil McCready\", \"order\": 11}, {\"cast_id\": 28, \"character\": \"David Torres\", \"credit_id\": \"52fe43a0c3a36847f8062c8b\", \"gender\": 2, \"id\": 10963, \"name\": \"Jos\\\\u00e9 Z\\\\u00fa\\\\u00f1iga\", \"order\": 12}, {\"cast_id\": 29, \"character\": \"Jackie Brown\", \"credit_id\": \"52fe43a0c3a36847f8062c8f\", \"gender\": 2, \"id\": 6486, \"name\": \"Dan Hedaya\", \"order\": 13}, {\"cast_id\": 30, \"character\": \"Bob Stone\", \"credit_id\": \"52fe43a0c3a36847f8062c93\", \"gender\": 0, \"id\": 33243, \"name\": \"Allen Bernstein\", \"order\": 14}, {\"cast_id\": 31, \"character\": \"Wallace\", \"credit_id\": \"52fe43a0c3a36847f8062c97\", \"gender\": 2, \"id\": 925, \"name\": \"Paul Guilfoyle\", \"order\": 15}, {\"cast_id\": 32, \"character\": \"Fatima\", \"credit_id\": \"52fe43a0c3a36847f8062c9b\", \"gender\": 1, \"id\": 26721, \"name\": \"Iraida Polanco\", \"order\": 16}, {\"cast_id\": 35, \"character\": \"Roberto\", \"credit_id\": \"590e91f3c3a36864ec01631d\", \"gender\": 2, \"id\": 40543, \"name\": \"John Ortiz\", \"order\": 17}, {\"cast_id\": 36, \"character\": \"Reporter Guest\", \"credit_id\": \"590e92419251414ead016af8\", \"gender\": 0, \"id\": 1811948, \"name\": \"A.J. Benza\", \"order\": 18}, {\"cast_id\": 37, \"character\": \"Nelson\", \"credit_id\": \"590e92579251414e85017997\", \"gender\": 0, \"id\": 52861, \"name\": \"Peter Anthony Tambakis\", \"order\": 19}, {\"cast_id\": 38, \"character\": \"Agent Sam\", \"credit_id\": \"590e92699251414e8501799e\", \"gender\": 0, \"id\": 1811949, \"name\": \"Daniel May Wong\", \"order\": 20}, {\"cast_id\": 39, \"character\": \"News Reporter\", \"credit_id\": \"590e93b69251414edb017add\", \"gender\": 1, \"id\": 18236, \"name\": \"Donna Hanover\", \"order\": 21}, {\"cast_id\": 40, \"character\": \"FBI Agent\", \"credit_id\": \"590e94619251414e92017ce8\", \"gender\": 0, \"id\": 1811953, \"name\": \"Anton Evangelista\", \"order\": 22}, {\"cast_id\": 41, \"character\": \"Cop #1\", \"credit_id\": \"590e95459251414e890180b3\", \"gender\": 2, \"id\": 1811956, \"name\": \"Joe Bacino\", \"order\": 23}, {\"cast_id\": 42, \"character\": \"Cop #2\", \"credit_id\": \"590e97bf9251414e85017de9\", \"gender\": 0, \"id\": 1811958, \"name\": \"Carl S. Redding\", \"order\": 24}, {\"cast_id\": 43, \"character\": \"Cop #3\", \"credit_id\": \"590e97d5c3a368646b0195dd\", \"gender\": 0, \"id\": 1456742, \"name\": \"James Georgiades\", \"order\": 25}, {\"cast_id\": 44, \"character\": \"Cop #4\", \"credit_id\": \"590e97e8c3a368650a017213\", \"gender\": 0, \"id\": 217510, \"name\": \"Christian Maelen\", \"order\": 26}, {\"cast_id\": 45, \"character\": \"Cop #5\", \"credit_id\": \"590e97fbc3a368646b019600\", \"gender\": 2, \"id\": 37205, \"name\": \"David Vadim\", \"order\": 27}, {\"cast_id\": 46, \"character\": \"Bank Manager\", \"credit_id\": \"590e9944c3a368650a017372\", \"gender\": 2, \"id\": 121939, \"name\": \"Michael Countryman\", \"order\": 28}, {\"cast_id\": 47, \"character\": \"Science Fair Coordinator\", \"credit_id\": \"590e996b9251414e8001834f\", \"gender\": 0, \"id\": 6180, \"name\": \"Cheryl Howard\", \"order\": 29}, {\"cast_id\": 48, \"character\": \"Science Fair Judge\", \"credit_id\": \"590e9a799251414e8501803c\", \"gender\": 0, \"id\": 129466, \"name\": \"James Ritz\", \"order\": 30}, {\"cast_id\": 49, \"character\": \"Radioman\", \"credit_id\": \"590e9af49251414e92018235\", \"gender\": 2, \"id\": 1116907, \"name\": \"Craig Castaldo\", \"order\": 31}, {\"cast_id\": 50, \"character\": \"Liquor Store Perp\", \"credit_id\": \"590e9b46c3a36864ec016a9a\", \"gender\": 0, \"id\": 1811959, \"name\": \"Dell Maara\", \"order\": 32}, {\"cast_id\": 51, \"character\": \"Man at Party\", \"credit_id\": \"590e9cf2c3a36864a7017991\", \"gender\": 2, \"id\": 142261, \"name\": \"Mike Hodge\", \"order\": 33}, {\"cast_id\": 52, \"character\": \"FBI SWAT Team #1\", \"credit_id\": \"590e9e53c3a36864ec016d02\", \"gender\": 0, \"id\": 122260, \"name\": \"Mick O\\'Rourke\", \"order\": 34}, {\"cast_id\": 53, \"character\": \"FBI SWAT Team #2\", \"credit_id\": \"590e9e689251414e8d017a4e\", \"gender\": 2, \"id\": 1513690, \"name\": \"Henry Kingi Jr.\", \"order\": 35}, {\"cast_id\": 54, \"character\": \"FBI SWAT Team #3\", \"credit_id\": \"590e9e7e9251414e85018345\", \"gender\": 2, \"id\": 1372092, \"name\": \"Roy Farfel\", \"order\": 36}, {\"cast_id\": 55, \"character\": \"FBI SWAT Sniper\", \"credit_id\": \"590e9e949251414e92018516\", \"gender\": 2, \"id\": 1393447, \"name\": \"Lex D. Geddings\", \"order\": 37}]', '[{\"cast_id\": 3, \"character\": \"Shannon\", \"credit_id\": \"52fe482e9251416c910830e1\", \"gender\": 1, \"id\": 27578, \"name\": \"Ellen Page\", \"order\": 0}, {\"cast_id\": 4, \"character\": \"Mark Lovegood\", \"credit_id\": \"52fe482e9251416c910830e5\", \"gender\": 2, \"id\": 1243, \"name\": \"Woody Allen\", \"order\": 1}, {\"cast_id\": 5, \"character\": \"Tyson\", \"credit_id\": \"52fe482e9251416c910830e9\", \"gender\": 2, \"id\": 44735, \"name\": \"Jesse Eisenberg\", \"order\": 2}, {\"cast_id\": 6, \"character\": \"Anna\", \"credit_id\": \"52fe482e9251416c910830ed\", \"gender\": 1, \"id\": 955, \"name\": \"Pen\\\\u00e9lope Cruz\", \"order\": 3}, {\"cast_id\": 7, \"character\": \"John\", \"credit_id\": \"52fe482e9251416c910830f1\", \"gender\": 2, \"id\": 7447, \"name\": \"Alec Baldwin\", \"order\": 4}, {\"cast_id\": 8, \"character\": \"Leopoldo\", \"credit_id\": \"52fe482e9251416c910830f5\", \"gender\": 2, \"id\": 4818, \"name\": \"Roberto Benigni\", \"order\": 5}, {\"cast_id\": 9, \"character\": \"Lillian\", \"credit_id\": \"52fe482e9251416c910830f9\", \"gender\": 1, \"id\": 17486, \"name\": \"Alison Pill\", \"order\": 6}, {\"cast_id\": 10, \"character\": \"Milly\", \"credit_id\": \"52fe482e9251416c910830fd\", \"gender\": 1, \"id\": 145326, \"name\": \"Alessandra Mastronardi\", \"order\": 7}, {\"cast_id\": 11, \"character\": \"Rapinatore hotel\", \"credit_id\": \"52fe482e9251416c91083101\", \"gender\": 2, \"id\": 59270, \"name\": \"Riccardo Scamarcio\", \"order\": 8}, {\"cast_id\": 12, \"character\": \"Phyllis\", \"credit_id\": \"52fe482e9251416c91083105\", \"gender\": 1, \"id\": 351, \"name\": \"Judy Davis\", \"order\": 9}, {\"cast_id\": 13, \"character\": \"Pia Fusari\", \"credit_id\": \"52fe482e9251416c91083109\", \"gender\": 1, \"id\": 27163, \"name\": \"Ornella Muti\", \"order\": 10}, {\"cast_id\": 14, \"character\": \"Sally\", \"credit_id\": \"52fe482e9251416c9108310d\", \"gender\": 1, \"id\": 45400, \"name\": \"Greta Gerwig\", \"order\": 11}, {\"cast_id\": 15, \"character\": \"Michelangelo\", \"credit_id\": \"52fe482e9251416c91083111\", \"gender\": 2, \"id\": 125488, \"name\": \"Flavio Parenti\", \"order\": 12}, {\"cast_id\": 16, \"character\": \"Antonio\", \"credit_id\": \"52fe482e9251416c91083115\", \"gender\": 0, \"id\": 210766, \"name\": \"Alessandro Tiberi\", \"order\": 13}, {\"cast_id\": 17, \"character\": \"Carol\", \"credit_id\": \"52fe482e9251416c91083119\", \"gender\": 1, \"id\": 52087, \"name\": \"Carol Alt\", \"order\": 14}, {\"cast_id\": 18, \"character\": \"Tim\", \"credit_id\": \"52fe482e9251416c9108311d\", \"gender\": 2, \"id\": 74487, \"name\": \"David Pasquesi\", \"order\": 15}, {\"cast_id\": 19, \"character\": \"Ellen\", \"credit_id\": \"52fe482e9251416c91083121\", \"gender\": 0, \"id\": 553696, \"name\": \"Lynn Swanson\", \"order\": 16}]']\n",
      "\n",
      "Número total de valores únicos: 4759\n",
      "\n",
      "##################################################\n",
      "\n",
      "Explorando la columna: crew\n",
      "\n",
      "Algunos valores de la columna:\n",
      "['[{\"credit_id\": \"558b4eb892514141d8001135\", \"department\": \"Production\", \"gender\": 2, \"id\": 1091, \"job\": \"Producer\", \"name\": \"Joel Silver\"}, {\"credit_id\": \"55732d00c3a3686ef9001cda\", \"department\": \"Writing\", \"gender\": 2, \"id\": 2228, \"job\": \"Screenplay\", \"name\": \"Sean Penn\"}, {\"credit_id\": \"558b4e9ec3a3687e56000f81\", \"department\": \"Production\", \"gender\": 2, \"id\": 2228, \"job\": \"Producer\", \"name\": \"Sean Penn\"}, {\"credit_id\": \"558b4f4c92514141de00111b\", \"department\": \"Sound\", \"gender\": 2, \"id\": 7229, \"job\": \"Original Music Composer\", \"name\": \"Marco Beltrami\"}, {\"credit_id\": \"558b4f0692514141de0010f8\", \"department\": \"Production\", \"gender\": 2, \"id\": 9149, \"job\": \"Executive Producer\", \"name\": \"Peter McAleese\"}, {\"credit_id\": \"558b4f85c3a3687e5c000f8d\", \"department\": \"Art\", \"gender\": 2, \"id\": 28636, \"job\": \"Production Design\", \"name\": \"Andrew Laws\"}, {\"credit_id\": \"570bdaa19251413c90000449\", \"department\": \"Art\", \"gender\": 0, \"id\": 29609, \"job\": \"Supervising Art Director\", \"name\": \"Stuart Kearns\"}, {\"credit_id\": \"5358dc40c3a36855f200a05d\", \"department\": \"Directing\", \"gender\": 2, \"id\": 35453, \"job\": \"Director\", \"name\": \"Pierre Morel\"}, {\"credit_id\": \"55ae095092514172ef0083e6\", \"department\": \"Costume & Make-Up\", \"gender\": 1, \"id\": 53527, \"job\": \"Costume Design\", \"name\": \"Jill Taylor\"}, {\"credit_id\": \"55732cf69251416af7003f1a\", \"department\": \"Writing\", \"gender\": 0, \"id\": 43141, \"job\": \"Screenplay\", \"name\": \"Pete Travis\"}, {\"credit_id\": \"55ae08f2c3a368246c004c43\", \"department\": \"Art\", \"gender\": 0, \"id\": 54529, \"job\": \"Art Direction\", \"name\": \"Gemma Fauria\"}, {\"credit_id\": \"55732ce99251416af7003f16\", \"department\": \"Writing\", \"gender\": 2, \"id\": 57294, \"job\": \"Screenplay\", \"name\": \"Don MacPherson\"}, {\"credit_id\": \"558b4f5b92514141d2001146\", \"department\": \"Camera\", \"gender\": 0, \"id\": 59528, \"job\": \"Director of Photography\", \"name\": \"Flavio Mart\\\\u00ednez Labiano\"}, {\"credit_id\": \"558b4eaa9251416091000d25\", \"department\": \"Production\", \"gender\": 2, \"id\": 62011, \"job\": \"Producer\", \"name\": \"Andrew Rona\"}, {\"credit_id\": \"558b4f69c3a3687e5f000f9a\", \"department\": \"Editing\", \"gender\": 2, \"id\": 62434, \"job\": \"Editor\", \"name\": \"Fr\\\\u00e9d\\\\u00e9ric Thoraval\"}, {\"credit_id\": \"589f4a72c3a36838790005d5\", \"department\": \"Production\", \"gender\": 2, \"id\": 78196, \"job\": \"Associate Producer\", \"name\": \"Ethan Erwin\"}, {\"credit_id\": \"558b4ed492514141d200110f\", \"department\": \"Production\", \"gender\": 0, \"id\": 587802, \"job\": \"Co-Producer\", \"name\": \"Alex Heineman\"}, {\"credit_id\": \"55ae09dc9251411e0b00a2a2\", \"department\": \"Costume & Make-Up\", \"gender\": 2, \"id\": 942186, \"job\": \"Hairstylist\", \"name\": \"Manolo Garc\\\\u00eda\"}, {\"credit_id\": \"558b4f3192514141d5001193\", \"department\": \"Production\", \"gender\": 0, \"id\": 968632, \"job\": \"Executive Producer\", \"name\": \"Olivier Courson\"}, {\"credit_id\": \"558b4e9192514141d5001145\", \"department\": \"Production\", \"gender\": 2, \"id\": 969757, \"job\": \"Producer\", \"name\": \"Ron Halpern\"}, {\"credit_id\": \"558b4f7792514141de001132\", \"department\": \"Production\", \"gender\": 0, \"id\": 1018073, \"job\": \"Casting\", \"name\": \"Reg Poerscout-Edgerton\"}, {\"credit_id\": \"558b4f19c3a3687e65000ee7\", \"department\": \"Production\", \"gender\": 0, \"id\": 1054301, \"job\": \"Executive Producer\", \"name\": \"Adri\\\\u00e1n Guerra\"}, {\"credit_id\": \"558b4ec792514141d500114e\", \"department\": \"Production\", \"gender\": 1, \"id\": 1066819, \"job\": \"Line Producer\", \"name\": \"Sally French\"}, {\"credit_id\": \"55732cddc3a36839200047fe\", \"department\": \"Writing\", \"gender\": 0, \"id\": 1079914, \"job\": \"Novel\", \"name\": \"Jean-Patrick Manchette\"}, {\"credit_id\": \"55ae0a10c3a368648e008bc9\", \"department\": \"Costume & Make-Up\", \"gender\": 2, \"id\": 1102803, \"job\": \"Hairstylist\", \"name\": \"Bret Mayo\"}, {\"credit_id\": \"558b4f3f92514141d2001140\", \"department\": \"Production\", \"gender\": 0, \"id\": 1121973, \"job\": \"Associate Producer\", \"name\": \"Stephen Bender\"}, {\"credit_id\": \"558b4f25c3a3687e6b000f65\", \"department\": \"Production\", \"gender\": 0, \"id\": 1130038, \"job\": \"Executive Producer\", \"name\": \"Aaron Auch\"}, {\"credit_id\": \"55ae0b1b9251411e0b00a2b5\", \"department\": \"Directing\", \"gender\": 0, \"id\": 1398189, \"job\": \"Script Supervisor\", \"name\": \"Morag Cameron\"}, {\"credit_id\": \"55ae0af9c3a3682ff400b968\", \"department\": \"Costume & Make-Up\", \"gender\": 0, \"id\": 1405369, \"job\": \"Set Costumer\", \"name\": \"Anna Izquierdo\"}, {\"credit_id\": \"55ae0a599251411e1400a60d\", \"department\": \"Costume & Make-Up\", \"gender\": 0, \"id\": 1410275, \"job\": \"Makeup Artist\", \"name\": \"Francesca Van Der Feyst\"}, {\"credit_id\": \"55ae09259251411e0600a344\", \"department\": \"Art\", \"gender\": 0, \"id\": 1418148, \"job\": \"Art Direction\", \"name\": \"Silvia Steinbrecht\"}, {\"credit_id\": \"55ae0a93c3a3682d63007908\", \"department\": \"Art\", \"gender\": 0, \"id\": 1418153, \"job\": \"Art Department Coordinator\", \"name\": \"Joan Sabat\\\\u00e9\"}, {\"credit_id\": \"55ae0a2b92514172ef0083fc\", \"department\": \"Costume & Make-Up\", \"gender\": 0, \"id\": 1426311, \"job\": \"Makeup Artist\", \"name\": \"Ana Lozano\"}, {\"credit_id\": \"55ae0ae19251411e18009ec1\", \"department\": \"Costume & Make-Up\", \"gender\": 0, \"id\": 1426860, \"job\": \"Set Costumer\", \"name\": \"Inge Hough\"}, {\"credit_id\": \"55ae09f69251411e1100a7cf\", \"department\": \"Costume & Make-Up\", \"gender\": 0, \"id\": 1439127, \"job\": \"Hairstylist\", \"name\": \"Paul Job\"}, {\"credit_id\": \"558b4ef992514141d800115a\", \"department\": \"Production\", \"gender\": 0, \"id\": 1447191, \"job\": \"Executive Producer\", \"name\": \"Steve Richard\"}, {\"credit_id\": \"55ae0ac19251411e18009ebf\", \"department\": \"Costume & Make-Up\", \"gender\": 0, \"id\": 1459935, \"job\": \"Costume Supervisor\", \"name\": \"Cristina Sope\\\\u00f1a\"}, {\"credit_id\": \"558b4ee1c3a3687e5c000f49\", \"department\": \"Production\", \"gender\": 0, \"id\": 1471946, \"job\": \"Co-Producer\", \"name\": \"Adam Kuhn\"}, {\"credit_id\": \"55ae093b92514125da00a1f4\", \"department\": \"Art\", \"gender\": 0, \"id\": 1475317, \"job\": \"Set Decoration\", \"name\": \"Anneke Botha\"}, {\"credit_id\": \"55ae0910c3a3682ff9009929\", \"department\": \"Art\", \"gender\": 0, \"id\": 1489006, \"job\": \"Art Direction\", \"name\": \"Marina Pozanco\"}, {\"credit_id\": \"589f4a939251411faa000673\", \"department\": \"Production\", \"gender\": 0, \"id\": 1755841, \"job\": \"Co-Producer\", \"name\": \"Ray Kybartas\"}, {\"credit_id\": \"589f4aa4c3a36838790005f3\", \"department\": \"Production\", \"gender\": 0, \"id\": 1755843, \"job\": \"Associate Producer\", \"name\": \"Carmel Musgrove\"}]', '[{\"credit_id\": \"569d89b6c3a36858e5004c66\", \"department\": \"Production\", \"gender\": 0, \"id\": 467, \"job\": \"Executive Producer\", \"name\": \"Natascha Wharton\"}, {\"credit_id\": \"52fe43d0c3a36847f8071bdd\", \"department\": \"Production\", \"gender\": 2, \"id\": 2236, \"job\": \"Producer\", \"name\": \"Tim Bevan\"}, {\"credit_id\": \"52fe43d0c3a36847f8071be3\", \"department\": \"Production\", \"gender\": 2, \"id\": 2238, \"job\": \"Producer\", \"name\": \"Eric Fellner\"}, {\"credit_id\": \"52fe43d0c3a36847f8071bef\", \"department\": \"Sound\", \"gender\": 2, \"id\": 6489, \"job\": \"Original Music Composer\", \"name\": \"David Arnold\"}, {\"credit_id\": \"52fe43d0c3a36847f8071bcb\", \"department\": \"Directing\", \"gender\": 2, \"id\": 11090, \"job\": \"Director\", \"name\": \"Edgar Wright\"}, {\"credit_id\": \"52fe43d0c3a36847f8071bd1\", \"department\": \"Writing\", \"gender\": 2, \"id\": 11090, \"job\": \"Screenplay\", \"name\": \"Edgar Wright\"}, {\"credit_id\": \"52fe43d0c3a36847f8071bd7\", \"department\": \"Writing\", \"gender\": 2, \"id\": 11108, \"job\": \"Screenplay\", \"name\": \"Simon Pegg\"}, {\"credit_id\": \"52fe43d0c3a36847f8071be9\", \"department\": \"Production\", \"gender\": 1, \"id\": 11112, \"job\": \"Producer\", \"name\": \"Nira Park\"}, {\"credit_id\": \"52fe43d0c3a36847f8071bf5\", \"department\": \"Editing\", \"gender\": 0, \"id\": 11114, \"job\": \"Editor\", \"name\": \"Chris Dickens\"}, {\"credit_id\": \"569d89fec3a36858c3004909\", \"department\": \"Production\", \"gender\": 1, \"id\": 16363, \"job\": \"Casting\", \"name\": \"Nina Gold\"}, {\"credit_id\": \"569d898a92514109580012a5\", \"department\": \"Production\", \"gender\": 0, \"id\": 17802, \"job\": \"Line Producer\", \"name\": \"Ronaldo Vasconcellos\"}, {\"credit_id\": \"52fe43d0c3a36847f8071bfb\", \"department\": \"Art\", \"gender\": 2, \"id\": 39200, \"job\": \"Production Design\", \"name\": \"Marcus Rowland\"}, {\"credit_id\": \"52fe43d0c3a36847f8071c01\", \"department\": \"Art\", \"gender\": 0, \"id\": 39201, \"job\": \"Art Direction\", \"name\": \"Dick Lunn\"}, {\"credit_id\": \"52fe43d0c3a36847f8071c07\", \"department\": \"Art\", \"gender\": 0, \"id\": 39202, \"job\": \"Set Decoration\", \"name\": \"Liz Griffiths\"}, {\"credit_id\": \"52fe43d0c3a36847f8071c0d\", \"department\": \"Costume & Make-Up\", \"gender\": 1, \"id\": 39203, \"job\": \"Costume Design\", \"name\": \"Annie Hardinge\"}, {\"credit_id\": \"569d895fc3a36858e5004c4b\", \"department\": \"Production\", \"gender\": 0, \"id\": 63316, \"job\": \"Associate Producer\", \"name\": \"Karen Beever\"}, {\"credit_id\": \"52fe43d0c3a36847f8071c13\", \"department\": \"Camera\", \"gender\": 0, \"id\": 72853, \"job\": \"Director of Photography\", \"name\": \"Jess Hall\"}, {\"credit_id\": \"57af4ea0925141728c00355b\", \"department\": \"Production\", \"gender\": 0, \"id\": 142097, \"job\": \"Production Accountant\", \"name\": \"Tarn Harper\"}, {\"credit_id\": \"569d8aa19251415e67004afc\", \"department\": \"Crew\", \"gender\": 0, \"id\": 223244, \"job\": \"Post Production Supervisor\", \"name\": \"Tania Blunden\"}, {\"credit_id\": \"569d8c399251415e5e004b21\", \"department\": \"Production\", \"gender\": 2, \"id\": 1019426, \"job\": \"Casting\", \"name\": \"Robert Sterne\"}, {\"credit_id\": \"569d8a739251415e730047d7\", \"department\": \"Production\", \"gender\": 0, \"id\": 1211152, \"job\": \"Production Manager\", \"name\": \"James Biddle\"}, {\"credit_id\": \"569d8ad99251415e6400556f\", \"department\": \"Production\", \"gender\": 0, \"id\": 1319626, \"job\": \"Unit Production Manager\", \"name\": \"John David Gunkle\"}, {\"credit_id\": \"56a2c85f925141720b000d0e\", \"department\": \"Crew\", \"gender\": 0, \"id\": 1411061, \"job\": \"Stunts\", \"name\": \"Mark Mottram\"}, {\"credit_id\": \"57af53b3c3a36821a5005831\", \"department\": \"Sound\", \"gender\": 0, \"id\": 1533537, \"job\": \"Music Editor\", \"name\": \"Robin Whittaker\"}, {\"credit_id\": \"569d8b969251415e73004825\", \"department\": \"Production\", \"gender\": 0, \"id\": 1564277, \"job\": \"Executive In Charge Of Production\", \"name\": \"Michelle Wright\"}]', '[{\"credit_id\": \"556e26b0925141421d0013a7\", \"department\": \"Production\", \"gender\": 1, \"id\": 546, \"job\": \"Casting\", \"name\": \"Jeanne McCarthy\"}, {\"credit_id\": \"56644e85c3a3682bcd0082da\", \"department\": \"Art\", \"gender\": 2, \"id\": 4953, \"job\": \"Production Design\", \"name\": \"Ed Verreaux\"}, {\"credit_id\": \"556e268e925141422c00130a\", \"department\": \"Sound\", \"gender\": 2, \"id\": 10572, \"job\": \"Original Music Composer\", \"name\": \"Theodore Shapiro\"}, {\"credit_id\": \"52fe44f0c3a36847f80b3021\", \"department\": \"Production\", \"gender\": 2, \"id\": 5575, \"job\": \"Producer\", \"name\": \"Akiva Goldsman\"}, {\"credit_id\": \"52fe44f0c3a36847f80b2ffd\", \"department\": \"Writing\", \"gender\": 0, \"id\": 6112, \"job\": \"Screenplay\", \"name\": \"John O\\'Brien\"}, {\"credit_id\": \"57eed363c3a3684e5a00835a\", \"department\": \"Writing\", \"gender\": 0, \"id\": 6112, \"job\": \"Story\", \"name\": \"John O\\'Brien\"}, {\"credit_id\": \"52fe44f0c3a36847f80b3033\", \"department\": \"Production\", \"gender\": 2, \"id\": 7399, \"job\": \"Executive Producer\", \"name\": \"Ben Stiller\"}, {\"credit_id\": \"52fe44f0c3a36847f80b300f\", \"department\": \"Production\", \"gender\": 2, \"id\": 10953, \"job\": \"Executive Producer\", \"name\": \"Gilbert Adler\"}, {\"credit_id\": \"57eed6ad925141175b009160\", \"department\": \"Art\", \"gender\": 0, \"id\": 8279, \"job\": \"Set Designer\", \"name\": \"Roy Barnes\"}, {\"credit_id\": \"56644f2e9251412ad30085d2\", \"department\": \"Costume & Make-Up\", \"gender\": 1, \"id\": 9043, \"job\": \"Costume Design\", \"name\": \"Louise Mingenbach\"}, {\"credit_id\": \"556e26a6925141707c000300\", \"department\": \"Production\", \"gender\": 1, \"id\": 14377, \"job\": \"Casting\", \"name\": \"Juel Bestrop\"}, {\"credit_id\": \"57eed911c3a3684e5a0085b5\", \"department\": \"Costume & Make-Up\", \"gender\": 0, \"id\": 12619, \"job\": \"Wigmaker\", \"name\": \"Erwin H. Kupitz\"}, {\"credit_id\": \"556e267dc3a3681fed000676\", \"department\": \"Production\", \"gender\": 2, \"id\": 14753, \"job\": \"Associate Producer\", \"name\": \"David Siegel\"}, {\"credit_id\": \"589a15519251410d9f00107e\", \"department\": \"Production\", \"gender\": 2, \"id\": 14753, \"job\": \"Unit Production Manager\", \"name\": \"David Siegel\"}, {\"credit_id\": \"57eed3c9c3a3682a2d006cf2\", \"department\": \"Art\", \"gender\": 2, \"id\": 14341, \"job\": \"Supervising Art Director\", \"name\": \"Greg Papalia\"}, {\"credit_id\": \"52fe44f0c3a36847f80b301b\", \"department\": \"Production\", \"gender\": 2, \"id\": 22302, \"job\": \"Producer\", \"name\": \"Stuart Cornfeld\"}, {\"credit_id\": \"56644f549251412d7b0085a4\", \"department\": \"Sound\", \"gender\": 2, \"id\": 52161, \"job\": \"Music Supervisor\", \"name\": \"Randall Poster\"}, {\"credit_id\": \"57eed4359251415ddb007709\", \"department\": \"Art\", \"gender\": 0, \"id\": 11102, \"job\": \"Assistant Art Director\", \"name\": \"Chad S. Frey\"}, {\"credit_id\": \"56644f0fc3a3682bd0007e8e\", \"department\": \"Art\", \"gender\": 1, \"id\": 41898, \"job\": \"Set Decoration\", \"name\": \"Kate J. Sullivan\"}, {\"credit_id\": \"52fe44f0c3a36847f80b3027\", \"department\": \"Production\", \"gender\": 2, \"id\": 47052, \"job\": \"Producer\", \"name\": \"Tony Ludwig\"}, {\"credit_id\": \"52fe44f0c3a36847f80b302d\", \"department\": \"Production\", \"gender\": 2, \"id\": 47053, \"job\": \"Producer\", \"name\": \"Alan Riche\"}, {\"credit_id\": \"52fe44f0c3a36847f80b304b\", \"department\": \"Editing\", \"gender\": 1, \"id\": 53683, \"job\": \"Editor\", \"name\": \"Leslie Jones\"}, {\"credit_id\": \"52fe44f0c3a36847f80b3045\", \"department\": \"Camera\", \"gender\": 2, \"id\": 54164, \"job\": \"Director of Photography\", \"name\": \"Barry Peterson\"}, {\"credit_id\": \"52fe44f0c3a36847f80b2ff1\", \"department\": \"Directing\", \"gender\": 2, \"id\": 57130, \"job\": \"Director\", \"name\": \"Todd Phillips\"}, {\"credit_id\": \"52fe44f0c3a36847f80b3003\", \"department\": \"Writing\", \"gender\": 2, \"id\": 57130, \"job\": \"Screenplay\", \"name\": \"Todd Phillips\"}, {\"credit_id\": \"52fe44f0c3a36847f80b2ff7\", \"department\": \"Writing\", \"gender\": 2, \"id\": 57536, \"job\": \"Characters\", \"name\": \"William Blinn\"}, {\"credit_id\": \"52fe44f0c3a36847f80b3015\", \"department\": \"Production\", \"gender\": 2, \"id\": 57536, \"job\": \"Producer\", \"name\": \"William Blinn\"}, {\"credit_id\": \"52fe44f0c3a36847f80b3009\", \"department\": \"Writing\", \"gender\": 2, \"id\": 57538, \"job\": \"Screenplay\", \"name\": \"Scot Armstrong\"}, {\"credit_id\": \"556e2671c3a3680ea2001510\", \"department\": \"Production\", \"gender\": 0, \"id\": 59833, \"job\": \"Associate Producer\", \"name\": \"Scott Budnick\"}, {\"credit_id\": \"57eedd2cc3a3682a2d007150\", \"department\": \"Production\", \"gender\": 0, \"id\": 61108, \"job\": \"Casting Associate\", \"name\": \"Blythe Cappello\"}, {\"credit_id\": \"57eed8b0c3a3684d9a0086e6\", \"department\": \"Costume & Make-Up\", \"gender\": 0, \"id\": 83066, \"job\": \"Key Hair Stylist\", \"name\": \"Carol A. O\\'Connell\"}, {\"credit_id\": \"57eedc7f9251415ddb007b0f\", \"department\": \"Directing\", \"gender\": 0, \"id\": 83656, \"job\": \"Assistant Director\", \"name\": \"Michael Viglietta\"}, {\"credit_id\": \"57eedc639251415ddb007b00\", \"department\": \"Crew\", \"gender\": 0, \"id\": 85216, \"job\": \"Video Assist Operator\", \"name\": \"David Presley\"}, {\"credit_id\": \"58433c319251416a80001ae7\", \"department\": \"Crew\", \"gender\": 2, \"id\": 93887, \"job\": \"Stunt Coordinator\", \"name\": \"Gary Davis\"}, {\"credit_id\": \"58433c6dc3a3684722001a12\", \"department\": \"Crew\", \"gender\": 2, \"id\": 93887, \"job\": \"Second Unit Cinematographer\", \"name\": \"Gary Davis\"}, {\"credit_id\": \"57eed8cac3a3684e5a008594\", \"department\": \"Costume & Make-Up\", \"gender\": 0, \"id\": 102343, \"job\": \"Makeup Artist\", \"name\": \"Allan A. Apone\"}, {\"credit_id\": \"57eedf09c3a3682a65007199\", \"department\": \"Writing\", \"gender\": 0, \"id\": 117217, \"job\": \"Storyboard\", \"name\": \"Ted Boonthanakit\"}, {\"credit_id\": \"57eede099251416ce800a0cb\", \"department\": \"Sound\", \"gender\": 0, \"id\": 554533, \"job\": \"Boom Operator\", \"name\": \"Knox White\"}, {\"credit_id\": \"57eeddc19251416ce800a0a5\", \"department\": \"Production\", \"gender\": 0, \"id\": 959114, \"job\": \"Production Coordinator\", \"name\": \"Nicolas Stern\"}, {\"credit_id\": \"58336c7dc3a36832f0003423\", \"department\": \"Writing\", \"gender\": 2, \"id\": 961616, \"job\": \"Story\", \"name\": \"Stevie Long\"}, {\"credit_id\": \"57eedb14c3a3682aa1007b29\", \"department\": \"Crew\", \"gender\": 0, \"id\": 1004624, \"job\": \"Property Master\", \"name\": \"Russell Bobbitt\"}, {\"credit_id\": \"57eede5ac3a3684d9a008985\", \"department\": \"Sound\", \"gender\": 2, \"id\": 1008052, \"job\": \"Music Editor\", \"name\": \"Jonathan Karp\"}, {\"credit_id\": \"56644f7c9251412ad30085e5\", \"department\": \"Sound\", \"gender\": 2, \"id\": 1192700, \"job\": \"Music Supervisor\", \"name\": \"George Drakoulias\"}, {\"credit_id\": \"57eed8739251415dee0074a6\", \"department\": \"Costume & Make-Up\", \"gender\": 0, \"id\": 1323077, \"job\": \"Costume Supervisor\", \"name\": \"Charlene Amateau\"}, {\"credit_id\": \"57eedca0c3a3682aa1007bf7\", \"department\": \"Editing\", \"gender\": 0, \"id\": 1335156, \"job\": \"Color Timer\", \"name\": \"Lee Wimer\"}, {\"credit_id\": \"57eedbefc3a3682a2d0070b9\", \"department\": \"Crew\", \"gender\": 0, \"id\": 1338379, \"job\": \"Transportation Coordinator\", \"name\": \"Jonathan A. Rosenfeld\"}, {\"credit_id\": \"57eed8fbc3a3682a65006eb1\", \"department\": \"Costume & Make-Up\", \"gender\": 0, \"id\": 1340977, \"job\": \"Set Dressing Artist\", \"name\": \"Don \\'Tex\\' Clark\"}, {\"credit_id\": \"56645055c3a3682c010085b6\", \"department\": \"Sound\", \"gender\": 0, \"id\": 1341808, \"job\": \"Sound Re-Recording Mixer\", \"name\": \"Kevin E. Carpenter\"}, {\"credit_id\": \"5664503f9251412ac600847d\", \"department\": \"Sound\", \"gender\": 2, \"id\": 1378169, \"job\": \"Sound Re-Recording Mixer\", \"name\": \"Rick Kline\"}, {\"credit_id\": \"57eed49dc3a3682aa1007812\", \"department\": \"Art\", \"gender\": 0, \"id\": 1378218, \"job\": \"Greensman\", \"name\": \"Ronald S. Baratie\"}, {\"credit_id\": \"566450659251412ad900897c\", \"department\": \"Sound\", \"gender\": 0, \"id\": 1378228, \"job\": \"Sound Re-Recording Mixer\", \"name\": \"Steve Pederson\"}, {\"credit_id\": \"57eed74b925141175b00919e\", \"department\": \"Camera\", \"gender\": 2, \"id\": 1378241, \"job\": \"Camera Operator\", \"name\": \"Maurice K. McGuire\"}, {\"credit_id\": \"57eed8e49251416ce8009e2c\", \"department\": \"Costume & Make-Up\", \"gender\": 0, \"id\": 1378721, \"job\": \"Set Costumer\", \"name\": \"Marylou Lim\"}, {\"credit_id\": \"56645012c3a3682be9008cad\", \"department\": \"Directing\", \"gender\": 1, \"id\": 1390539, \"job\": \"Script Supervisor\", \"name\": \"Tricia Ronten\"}, {\"credit_id\": \"56645152c3a3682bd8008ece\", \"department\": \"Editing\", \"gender\": 0, \"id\": 1392127, \"job\": \"Dialogue Editor\", \"name\": \"Patrick J. Foley\"}, {\"credit_id\": \"57eedeac9251415ddb007c18\", \"department\": \"Sound\", \"gender\": 0, \"id\": 1392131, \"job\": \"Sound Editor\", \"name\": \"Christopher S. Aud\"}, {\"credit_id\": \"57eede39925141229d000358\", \"department\": \"Sound\", \"gender\": 0, \"id\": 1397823, \"job\": \"Foley\", \"name\": \"Alyson Dee Moore\"}, {\"credit_id\": \"57eed9f89251416cd6009ac9\", \"department\": \"Crew\", \"gender\": 0, \"id\": 1398880, \"job\": \"Picture Car Coordinator\", \"name\": \"Craig Lietzke\"}, {\"credit_id\": \"566451349251412acd0083cd\", \"department\": \"Editing\", \"gender\": 0, \"id\": 1399061, \"job\": \"Dialogue Editor\", \"name\": \"Benjamin Beardwood\"}, {\"credit_id\": \"57eed4b79251415e39007321\", \"department\": \"Art\", \"gender\": 0, \"id\": 1399859, \"job\": \"Leadman\", \"name\": \"Robert Lucas\"}, {\"credit_id\": \"57eed803925141229d000036\", \"department\": \"Camera\", \"gender\": 2, \"id\": 1403415, \"job\": \"Helicopter Camera\", \"name\": \"David B. Nowell\"}, {\"credit_id\": \"57eeda72c3a3682a2d00700c\", \"department\": \"Crew\", \"gender\": 0, \"id\": 1403633, \"job\": \"Post Production Supervisor\", \"name\": \"Brian McNulty\"}, {\"credit_id\": \"56644dcb9251412aca008a62\", \"department\": \"Camera\", \"gender\": 0, \"id\": 1408192, \"job\": \"Camera Operator\", \"name\": \"Kirk R. Gardner\"}, {\"credit_id\": \"57eedec4c3a3682ab7007cfa\", \"department\": \"Sound\", \"gender\": 2, \"id\": 1409271, \"job\": \"Sound Effects Editor\", \"name\": \"Adam Johnston\"}, {\"credit_id\": \"57eed89bc3a3682a2d006f15\", \"department\": \"Costume & Make-Up\", \"gender\": 0, \"id\": 1413081, \"job\": \"Hairstylist\", \"name\": \"Ginger Damon\"}, {\"credit_id\": \"57eedc27925141229d00025e\", \"department\": \"Crew\", \"gender\": 0, \"id\": 1413134, \"job\": \"Unit Publicist\", \"name\": \"Paulette Osorio\"}, {\"credit_id\": \"57eed44b9251415dee0072b0\", \"department\": \"Art\", \"gender\": 0, \"id\": 1413153, \"job\": \"Construction Coordinator\", \"name\": \"Michael Diersing\"}, {\"credit_id\": \"566450899251412ad5008512\", \"department\": \"Sound\", \"gender\": 0, \"id\": 1417514, \"job\": \"Sound Designer\", \"name\": \"Michael Babcock\"}, {\"credit_id\": \"56645095c3a3682bd0007ee6\", \"department\": \"Sound\", \"gender\": 0, \"id\": 1417514, \"job\": \"Supervising Sound Editor\", \"name\": \"Michael Babcock\"}, {\"credit_id\": \"57eedcba9251416cd6009c25\", \"department\": \"Editing\", \"gender\": 0, \"id\": 1418487, \"job\": \"Digital Intermediate\", \"name\": \"Lorene Simpson\"}, {\"credit_id\": \"566451a6c3a3682bd2008890\", \"department\": \"Camera\", \"gender\": 2, \"id\": 1418826, \"job\": \"Still Photographer\", \"name\": \"Elliott Marks\"}, {\"credit_id\": \"57eedf58c3a3682a650071bf\", \"department\": \"Crew\", \"gender\": 0, \"id\": 1429255, \"job\": \"Studio Teachers\", \"name\": \"Jo Ann Smith\"}, {\"credit_id\": \"57eeddf4925141175b0094e9\", \"department\": \"Sound\", \"gender\": 2, \"id\": 1443065, \"job\": \"ADR & Dubbing\", \"name\": \"Joe Dorn\"}, {\"credit_id\": \"57eedcd4c3a3682aa1007c0b\", \"department\": \"Editing\", \"gender\": 0, \"id\": 1460782, \"job\": \"First Assistant Editor\", \"name\": \"Bryan Lamoureux\"}, {\"credit_id\": \"57eedaf99251415e390075e9\", \"department\": \"Crew\", \"gender\": 0, \"id\": 1463364, \"job\": \"Propmaker\", \"name\": \"Jeff Shewbert\"}, {\"credit_id\": \"57eedb969251415dee007625\", \"department\": \"Crew\", \"gender\": 0, \"id\": 1463422, \"job\": \"Special Effects Coordinator\", \"name\": \"Michael Meinardus\"}, {\"credit_id\": \"57eedc4dc3a3682a6500703d\", \"department\": \"Crew\", \"gender\": 0, \"id\": 1463656, \"job\": \"Utility Stunts\", \"name\": \"Dean Bailey\"}, {\"credit_id\": \"57eedd4fc3a3684e1e008746\", \"department\": \"Production\", \"gender\": 0, \"id\": 1464344, \"job\": \"Executive In Charge Of Post Production\", \"name\": \"Daniel R. Chavez\"}, {\"credit_id\": \"57eede8f9251416ce800a115\", \"department\": \"Sound\", \"gender\": 0, \"id\": 1545168, \"job\": \"Scoring Mixer\", \"name\": \"Chris Fogel\"}, {\"credit_id\": \"5664516ac3a3682bde007e37\", \"department\": \"Sound\", \"gender\": 0, \"id\": 1545540, \"job\": \"Sound mixer\", \"name\": \"Lee Orloff\"}, {\"credit_id\": \"566452b2c3a3682c01008617\", \"department\": \"Lighting\", \"gender\": 0, \"id\": 1545541, \"job\": \"Gaffer\", \"name\": \"Brent Poe\"}, {\"credit_id\": \"57eede77925141175b009526\", \"department\": \"Sound\", \"gender\": 2, \"id\": 1548698, \"job\": \"Orchestrator\", \"name\": \"Pete Anthony\"}, {\"credit_id\": \"57eedda0c3a3684d9a008919\", \"department\": \"Production\", \"gender\": 0, \"id\": 1551483, \"job\": \"Production Accountant\", \"name\": \"April A. Janow\"}, {\"credit_id\": \"57eeda12c3a3684d9a008766\", \"department\": \"Crew\", \"gender\": 0, \"id\": 1551653, \"job\": \"Post Production Assistant\", \"name\": \"Jeff Schweikart\"}, {\"credit_id\": \"57eedbc5c3a3682a2d0070a3\", \"department\": \"Crew\", \"gender\": 2, \"id\": 1552521, \"job\": \"Stunts\", \"name\": \"Brian Avery\"}, {\"credit_id\": \"57eed97f9251415ddb007999\", \"department\": \"Crew\", \"gender\": 0, \"id\": 1552997, \"job\": \"Choreographer\", \"name\": \"Marguerite Pomerhn Derricks\"}, {\"credit_id\": \"57eedd6d9251415dee007706\", \"department\": \"Production\", \"gender\": 0, \"id\": 1564997, \"job\": \"Executive In Charge Of Production\", \"name\": \"Mark Scoon\"}, {\"credit_id\": \"57eed7ce9251415dee00745c\", \"department\": \"Camera\", \"gender\": 2, \"id\": 1565944, \"job\": \"First Assistant Camera\", \"name\": \"Michael Cassidy\"}, {\"credit_id\": \"57eedeed925141175b009563\", \"department\": \"Visual Effects\", \"gender\": 0, \"id\": 1567909, \"job\": \"Visual Effects Supervisor\", \"name\": \"John Coats\"}, {\"credit_id\": \"57eed99ac3a3684e5a0085f2\", \"department\": \"Crew\", \"gender\": 0, \"id\": 1569558, \"job\": \"Craft Service\", \"name\": \"Chris Winn\"}, {\"credit_id\": \"57eedb6692514122730001e4\", \"department\": \"Crew\", \"gender\": 0, \"id\": 1596307, \"job\": \"Set Medic\", \"name\": \"John Bocchicchio\"}, {\"credit_id\": \"57eedd11c3a3684e5a008760\", \"department\": \"Lighting\", \"gender\": 0, \"id\": 1600111, \"job\": \"Rigging Grip\", \"name\": \"Jeff Brinker\"}, {\"credit_id\": \"57eed8599251415dee00749b\", \"department\": \"Costume & Make-Up\", \"gender\": 0, \"id\": 1604955, \"job\": \"Assistant Costume Designer\", \"name\": \"Cathy Crandall\"}, {\"credit_id\": \"57eed933925141175b009282\", \"department\": \"Crew\", \"gender\": 0, \"id\": 1608876, \"job\": \"Carpenter\", \"name\": \"Stephen Sturm\"}, {\"credit_id\": \"57eedb7e9251415dee00761a\", \"department\": \"Crew\", \"gender\": 0, \"id\": 1619091, \"job\": \"Set Production Assistant\", \"name\": \"Heather Anderson\"}, {\"credit_id\": \"57eedd87c3a3684e32008c3a\", \"department\": \"Production\", \"gender\": 0, \"id\": 1636375, \"job\": \"Location Manager\", \"name\": \"Michael Neale\"}, {\"credit_id\": \"57eed7ed925141229d000029\", \"department\": \"Camera\", \"gender\": 0, \"id\": 1651210, \"job\": \"Grip\", \"name\": \"Dhamarata Dhiensuwana\"}, {\"credit_id\": \"57eed4209251415dee00729c\", \"department\": \"Art\", \"gender\": 0, \"id\": 1687124, \"job\": \"Art Department Coordinator\", \"name\": \"Joseph Virdone\"}, {\"credit_id\": \"57eed465c3a3684d9a008515\", \"department\": \"Art\", \"gender\": 0, \"id\": 1687125, \"job\": \"Construction Foreman\", \"name\": \"Brent Regan\"}, {\"credit_id\": \"57eed4cdc3a3684e5a0083fd\", \"department\": \"Art\", \"gender\": 0, \"id\": 1687126, \"job\": \"Painter\", \"name\": \"Ralph Sarabia\"}, {\"credit_id\": \"57eed9e1c3a3682a2d006fb8\", \"department\": \"Crew\", \"gender\": 0, \"id\": 1687136, \"job\": \"Driver\", \"name\": \"Hedy Phil Balani\"}, {\"credit_id\": \"57eed9edc3a3682a2d006fc0\", \"department\": \"Crew\", \"gender\": 0, \"id\": 1687137, \"job\": \"Loader\", \"name\": \"Raul Riveros\"}, {\"credit_id\": \"57eeda91c3a3684e32008ab5\", \"department\": \"Crew\", \"gender\": 0, \"id\": 1687138, \"job\": \"Production Intern\", \"name\": \"Shannon Zimmerman\"}, {\"credit_id\": \"57eedb2e9251416ce8009f61\", \"department\": \"Crew\", \"gender\": 0, \"id\": 1687141, \"job\": \"Scenic Artist\", \"name\": \"Marion Elliot-Westall\"}, {\"credit_id\": \"57eedbe19251412273000224\", \"department\": \"Crew\", \"gender\": 0, \"id\": 1687145, \"job\": \"Transportation Captain\", \"name\": \"Jeff Verdick\"}, {\"credit_id\": \"57eedcebc3a3684e32008bdd\", \"department\": \"Lighting\", \"gender\": 0, \"id\": 1687153, \"job\": \"Best Boy Electric\", \"name\": \"Eddie Cordero\"}, {\"credit_id\": \"57eedcf69251415dee0076c4\", \"department\": \"Lighting\", \"gender\": 0, \"id\": 1687154, \"job\": \"Electrician\", \"name\": \"Ron Alexus\"}, {\"credit_id\": \"57eedde3925141175b0094d7\", \"department\": \"Production\", \"gender\": 0, \"id\": 1687157, \"job\": \"Production Office Coordinator\", \"name\": \"Billy Bonifield\"}, {\"credit_id\": \"57eede22c3a3682a65007133\", \"department\": \"Sound\", \"gender\": 0, \"id\": 1687161, \"job\": \"First Assistant Sound Editor\", \"name\": \"Jeffrey Cranford\"}]', '[{\"credit_id\": \"52fe43a0c3a36847f8062ca7\", \"department\": \"Production\", \"gender\": 2, \"id\": 339, \"job\": \"Producer\", \"name\": \"Brian Grazer\"}, {\"credit_id\": \"52fe43a0c3a36847f8062c25\", \"department\": \"Sound\", \"gender\": 2, \"id\": 1729, \"job\": \"Original Music Composer\", \"name\": \"James Horner\"}, {\"credit_id\": \"52fe43a0c3a36847f8062c3d\", \"department\": \"Production\", \"gender\": 1, \"id\": 2874, \"job\": \"Casting\", \"name\": \"Janet Hirshenson\"}, {\"credit_id\": \"52fe43a0c3a36847f8062c13\", \"department\": \"Writing\", \"gender\": 0, \"id\": 2989, \"job\": \"Screenplay\", \"name\": \"Richard Price\"}, {\"credit_id\": \"52fe43a0c3a36847f8062c1f\", \"department\": \"Production\", \"gender\": 2, \"id\": 2997, \"job\": \"Producer\", \"name\": \"Scott Rudin\"}, {\"credit_id\": \"52fe43a0c3a36847f8062c43\", \"department\": \"Production\", \"gender\": 1, \"id\": 3275, \"job\": \"Casting\", \"name\": \"Jane Jenkins\"}, {\"credit_id\": \"52fe439fc3a36847f8062c0d\", \"department\": \"Directing\", \"gender\": 2, \"id\": 6159, \"job\": \"Director\", \"name\": \"Ron Howard\"}, {\"credit_id\": \"52fe43a0c3a36847f8062ca1\", \"department\": \"Production\", \"gender\": 2, \"id\": 6184, \"job\": \"Executive Producer\", \"name\": \"Todd Hallowell\"}, {\"credit_id\": \"52fe43a0c3a36847f8062c37\", \"department\": \"Editing\", \"gender\": 2, \"id\": 6189, \"job\": \"Editor\", \"name\": \"Daniel P. Hanley\"}, {\"credit_id\": \"52fe43a0c3a36847f8062c31\", \"department\": \"Editing\", \"gender\": 2, \"id\": 6190, \"job\": \"Editor\", \"name\": \"Mike Hill\"}, {\"credit_id\": \"52fe43a0c3a36847f8062c55\", \"department\": \"Costume & Make-Up\", \"gender\": 1, \"id\": 6192, \"job\": \"Costume Design\", \"name\": \"Rita Ryack\"}, {\"credit_id\": \"52fe43a0c3a36847f8062c49\", \"department\": \"Art\", \"gender\": 2, \"id\": 7855, \"job\": \"Production Design\", \"name\": \"Michael Corenblith\"}, {\"credit_id\": \"52fe43a0c3a36847f8062c4f\", \"department\": \"Art\", \"gender\": 2, \"id\": 17220, \"job\": \"Art Direction\", \"name\": \"John Kasarda\"}, {\"credit_id\": \"52fe43a0c3a36847f8062c5b\", \"department\": \"Art\", \"gender\": 0, \"id\": 17221, \"job\": \"Set Decoration\", \"name\": \"Susan Bode\"}, {\"credit_id\": \"52fe43a0c3a36847f8062c19\", \"department\": \"Writing\", \"gender\": 2, \"id\": 33236, \"job\": \"Screenplay\", \"name\": \"Alexander Ignon\"}, {\"credit_id\": \"52fe43a0c3a36847f8062c2b\", \"department\": \"Camera\", \"gender\": 2, \"id\": 33238, \"job\": \"Director of Photography\", \"name\": \"Piotr Sobocinski\"}]', '[{\"credit_id\": \"52fe482e9251416c910830d7\", \"department\": \"Directing\", \"gender\": 2, \"id\": 1243, \"job\": \"Director\", \"name\": \"Woody Allen\"}, {\"credit_id\": \"52fe482e9251416c910830dd\", \"department\": \"Writing\", \"gender\": 2, \"id\": 1243, \"job\": \"Writer\", \"name\": \"Woody Allen\"}, {\"credit_id\": \"53f935120e0a267a6f003388\", \"department\": \"Camera\", \"gender\": 2, \"id\": 2240, \"job\": \"Director of Photography\", \"name\": \"Darius Khondji\"}]']\n",
      "\n",
      "Número total de valores únicos: 4773\n",
      "\n",
      "##################################################\n",
      "\n"
     ]
    }
   ],
   "source": [
    "# Lista de columnas a revisar. Estas son columnas que tienen como información una lista de diccionarios\n",
    "columns_to_explore = ['genres', 'keywords', 'production_companies', 'production_countries', 'spoken_languages', 'cast', 'crew']\n",
    "\n",
    "# Bucle para explorar cada columna\n",
    "for column in columns_to_explore:\n",
    "    print(f\"Explorando la columna: {column}\\n\")\n",
    "    \n",
    "    # Imprimir algunos valores de la columna\n",
    "    sample_values = df_merge_percentil[column].sample(5, random_state=42).tolist()\n",
    "    \n",
    "    # Imprimir información\n",
    "    print(f\"Algunos valores de la columna:\\n{sample_values}\\n\")\n",
    "    print(f\"Número total de valores únicos: {df_merge[column].nunique()}\\n\")\n",
    "    print(\"#\" * 50 + \"\\n\")"
   ]
  },
  {
   "cell_type": "markdown",
   "id": "6429ec3a-9e30-4702-b238-034ed7dc345c",
   "metadata": {},
   "source": [
    "Se van a eliminar estas columnas excepto 'genres', 'keywords' y 'cast', ya que tienen información relevante para el objetivo del proyecto"
   ]
  },
  {
   "cell_type": "code",
   "execution_count": 26,
   "id": "980ab9d7-80f7-43d3-9803-f39815be96ba",
   "metadata": {},
   "outputs": [],
   "source": [
    "# Lista de columnas a eliminar\n",
    "columns_to_explore = ['production_companies', 'production_countries', 'spoken_languages', 'crew']\n",
    "\n",
    "# ELiminación de dichas columnas\n",
    "df_merge_percentil.drop(columns=columns_to_explore, inplace=True)"
   ]
  },
  {
   "cell_type": "code",
   "execution_count": 27,
   "id": "29119b22-5233-4411-b621-90a96b23752a",
   "metadata": {},
   "outputs": [
    {
     "data": {
      "text/html": [
       "<div>\n",
       "<style scoped>\n",
       "    .dataframe tbody tr th:only-of-type {\n",
       "        vertical-align: middle;\n",
       "    }\n",
       "\n",
       "    .dataframe tbody tr th {\n",
       "        vertical-align: top;\n",
       "    }\n",
       "\n",
       "    .dataframe thead th {\n",
       "        text-align: right;\n",
       "    }\n",
       "</style>\n",
       "<table border=\"1\" class=\"dataframe\">\n",
       "  <thead>\n",
       "    <tr style=\"text-align: right;\">\n",
       "      <th></th>\n",
       "      <th>budget</th>\n",
       "      <th>genres</th>\n",
       "      <th>id</th>\n",
       "      <th>keywords</th>\n",
       "      <th>original_language</th>\n",
       "      <th>overview</th>\n",
       "      <th>popularity</th>\n",
       "      <th>release_date</th>\n",
       "      <th>revenue</th>\n",
       "      <th>runtime</th>\n",
       "      <th>status</th>\n",
       "      <th>tagline</th>\n",
       "      <th>title</th>\n",
       "      <th>vote_average</th>\n",
       "      <th>vote_count</th>\n",
       "      <th>cast</th>\n",
       "    </tr>\n",
       "  </thead>\n",
       "  <tbody>\n",
       "    <tr>\n",
       "      <th>0</th>\n",
       "      <td>237000000</td>\n",
       "      <td>[{\"id\": 28, \"name\": \"Action\"}, {\"id\": 12, \"nam...</td>\n",
       "      <td>19995</td>\n",
       "      <td>[{\"id\": 1463, \"name\": \"culture clash\"}, {\"id\":...</td>\n",
       "      <td>en</td>\n",
       "      <td>In the 22nd century, a paraplegic Marine is di...</td>\n",
       "      <td>150.437577</td>\n",
       "      <td>2009-12-10</td>\n",
       "      <td>2787965087</td>\n",
       "      <td>162.0</td>\n",
       "      <td>Released</td>\n",
       "      <td>Enter the World of Pandora.</td>\n",
       "      <td>Avatar</td>\n",
       "      <td>7.2</td>\n",
       "      <td>11800</td>\n",
       "      <td>[{\"cast_id\": 242, \"character\": \"Jake Sully\", \"...</td>\n",
       "    </tr>\n",
       "    <tr>\n",
       "      <th>1</th>\n",
       "      <td>300000000</td>\n",
       "      <td>[{\"id\": 12, \"name\": \"Adventure\"}, {\"id\": 14, \"...</td>\n",
       "      <td>285</td>\n",
       "      <td>[{\"id\": 270, \"name\": \"ocean\"}, {\"id\": 726, \"na...</td>\n",
       "      <td>en</td>\n",
       "      <td>Captain Barbossa, long believed to be dead, ha...</td>\n",
       "      <td>139.082615</td>\n",
       "      <td>2007-05-19</td>\n",
       "      <td>961000000</td>\n",
       "      <td>169.0</td>\n",
       "      <td>Released</td>\n",
       "      <td>At the end of the world, the adventure begins.</td>\n",
       "      <td>Pirates of the Caribbean: At World's End</td>\n",
       "      <td>6.9</td>\n",
       "      <td>4500</td>\n",
       "      <td>[{\"cast_id\": 4, \"character\": \"Captain Jack Spa...</td>\n",
       "    </tr>\n",
       "    <tr>\n",
       "      <th>2</th>\n",
       "      <td>245000000</td>\n",
       "      <td>[{\"id\": 28, \"name\": \"Action\"}, {\"id\": 12, \"nam...</td>\n",
       "      <td>206647</td>\n",
       "      <td>[{\"id\": 470, \"name\": \"spy\"}, {\"id\": 818, \"name...</td>\n",
       "      <td>en</td>\n",
       "      <td>A cryptic message from Bond’s past sends him o...</td>\n",
       "      <td>107.376788</td>\n",
       "      <td>2015-10-26</td>\n",
       "      <td>880674609</td>\n",
       "      <td>148.0</td>\n",
       "      <td>Released</td>\n",
       "      <td>A Plan No One Escapes</td>\n",
       "      <td>Spectre</td>\n",
       "      <td>6.3</td>\n",
       "      <td>4466</td>\n",
       "      <td>[{\"cast_id\": 1, \"character\": \"James Bond\", \"cr...</td>\n",
       "    </tr>\n",
       "    <tr>\n",
       "      <th>3</th>\n",
       "      <td>250000000</td>\n",
       "      <td>[{\"id\": 28, \"name\": \"Action\"}, {\"id\": 80, \"nam...</td>\n",
       "      <td>49026</td>\n",
       "      <td>[{\"id\": 849, \"name\": \"dc comics\"}, {\"id\": 853,...</td>\n",
       "      <td>en</td>\n",
       "      <td>Following the death of District Attorney Harve...</td>\n",
       "      <td>112.312950</td>\n",
       "      <td>2012-07-16</td>\n",
       "      <td>1084939099</td>\n",
       "      <td>165.0</td>\n",
       "      <td>Released</td>\n",
       "      <td>The Legend Ends</td>\n",
       "      <td>The Dark Knight Rises</td>\n",
       "      <td>7.6</td>\n",
       "      <td>9106</td>\n",
       "      <td>[{\"cast_id\": 2, \"character\": \"Bruce Wayne / Ba...</td>\n",
       "    </tr>\n",
       "    <tr>\n",
       "      <th>4</th>\n",
       "      <td>260000000</td>\n",
       "      <td>[{\"id\": 28, \"name\": \"Action\"}, {\"id\": 12, \"nam...</td>\n",
       "      <td>49529</td>\n",
       "      <td>[{\"id\": 818, \"name\": \"based on novel\"}, {\"id\":...</td>\n",
       "      <td>en</td>\n",
       "      <td>John Carter is a war-weary, former military ca...</td>\n",
       "      <td>43.926995</td>\n",
       "      <td>2012-03-07</td>\n",
       "      <td>284139100</td>\n",
       "      <td>132.0</td>\n",
       "      <td>Released</td>\n",
       "      <td>Lost in our world, found in another.</td>\n",
       "      <td>John Carter</td>\n",
       "      <td>6.1</td>\n",
       "      <td>2124</td>\n",
       "      <td>[{\"cast_id\": 5, \"character\": \"John Carter\", \"c...</td>\n",
       "    </tr>\n",
       "  </tbody>\n",
       "</table>\n",
       "</div>"
      ],
      "text/plain": [
       "      budget                                             genres      id  \\\n",
       "0  237000000  [{\"id\": 28, \"name\": \"Action\"}, {\"id\": 12, \"nam...   19995   \n",
       "1  300000000  [{\"id\": 12, \"name\": \"Adventure\"}, {\"id\": 14, \"...     285   \n",
       "2  245000000  [{\"id\": 28, \"name\": \"Action\"}, {\"id\": 12, \"nam...  206647   \n",
       "3  250000000  [{\"id\": 28, \"name\": \"Action\"}, {\"id\": 80, \"nam...   49026   \n",
       "4  260000000  [{\"id\": 28, \"name\": \"Action\"}, {\"id\": 12, \"nam...   49529   \n",
       "\n",
       "                                            keywords original_language  \\\n",
       "0  [{\"id\": 1463, \"name\": \"culture clash\"}, {\"id\":...                en   \n",
       "1  [{\"id\": 270, \"name\": \"ocean\"}, {\"id\": 726, \"na...                en   \n",
       "2  [{\"id\": 470, \"name\": \"spy\"}, {\"id\": 818, \"name...                en   \n",
       "3  [{\"id\": 849, \"name\": \"dc comics\"}, {\"id\": 853,...                en   \n",
       "4  [{\"id\": 818, \"name\": \"based on novel\"}, {\"id\":...                en   \n",
       "\n",
       "                                            overview  popularity release_date  \\\n",
       "0  In the 22nd century, a paraplegic Marine is di...  150.437577   2009-12-10   \n",
       "1  Captain Barbossa, long believed to be dead, ha...  139.082615   2007-05-19   \n",
       "2  A cryptic message from Bond’s past sends him o...  107.376788   2015-10-26   \n",
       "3  Following the death of District Attorney Harve...  112.312950   2012-07-16   \n",
       "4  John Carter is a war-weary, former military ca...   43.926995   2012-03-07   \n",
       "\n",
       "      revenue  runtime    status  \\\n",
       "0  2787965087    162.0  Released   \n",
       "1   961000000    169.0  Released   \n",
       "2   880674609    148.0  Released   \n",
       "3  1084939099    165.0  Released   \n",
       "4   284139100    132.0  Released   \n",
       "\n",
       "                                          tagline  \\\n",
       "0                     Enter the World of Pandora.   \n",
       "1  At the end of the world, the adventure begins.   \n",
       "2                           A Plan No One Escapes   \n",
       "3                                 The Legend Ends   \n",
       "4            Lost in our world, found in another.   \n",
       "\n",
       "                                      title  vote_average  vote_count  \\\n",
       "0                                    Avatar           7.2       11800   \n",
       "1  Pirates of the Caribbean: At World's End           6.9        4500   \n",
       "2                                   Spectre           6.3        4466   \n",
       "3                     The Dark Knight Rises           7.6        9106   \n",
       "4                               John Carter           6.1        2124   \n",
       "\n",
       "                                                cast  \n",
       "0  [{\"cast_id\": 242, \"character\": \"Jake Sully\", \"...  \n",
       "1  [{\"cast_id\": 4, \"character\": \"Captain Jack Spa...  \n",
       "2  [{\"cast_id\": 1, \"character\": \"James Bond\", \"cr...  \n",
       "3  [{\"cast_id\": 2, \"character\": \"Bruce Wayne / Ba...  \n",
       "4  [{\"cast_id\": 5, \"character\": \"John Carter\", \"c...  "
      ]
     },
     "execution_count": 27,
     "metadata": {},
     "output_type": "execute_result"
    }
   ],
   "source": [
    "df_merge_percentil.head()"
   ]
  },
  {
   "cell_type": "code",
   "execution_count": 28,
   "id": "57fb1078-f90c-4999-be1d-4b9f1605b041",
   "metadata": {},
   "outputs": [
    {
     "data": {
      "text/plain": [
       "status\n",
       "Released    1916\n",
       "Name: count, dtype: int64"
      ]
     },
     "execution_count": 28,
     "metadata": {},
     "output_type": "execute_result"
    }
   ],
   "source": [
    "# Valores diferentes de la columna status\n",
    "df_merge_percentil['status'].value_counts()"
   ]
  },
  {
   "cell_type": "code",
   "execution_count": 29,
   "id": "34bdbf38-7817-49b0-b888-aa9d1bf7f7d8",
   "metadata": {},
   "outputs": [],
   "source": [
    "# Se elimina dicha variable\n",
    "df_merge_percentil.drop(columns=['status'], inplace=True)"
   ]
  },
  {
   "cell_type": "code",
   "execution_count": 30,
   "id": "e4b7754e-ca74-4318-88c9-f35b3f2e48fd",
   "metadata": {},
   "outputs": [
    {
     "data": {
      "text/html": [
       "<div>\n",
       "<style scoped>\n",
       "    .dataframe tbody tr th:only-of-type {\n",
       "        vertical-align: middle;\n",
       "    }\n",
       "\n",
       "    .dataframe tbody tr th {\n",
       "        vertical-align: top;\n",
       "    }\n",
       "\n",
       "    .dataframe thead th {\n",
       "        text-align: right;\n",
       "    }\n",
       "</style>\n",
       "<table border=\"1\" class=\"dataframe\">\n",
       "  <thead>\n",
       "    <tr style=\"text-align: right;\">\n",
       "      <th></th>\n",
       "      <th>genres</th>\n",
       "      <th>keywords</th>\n",
       "      <th>cast</th>\n",
       "    </tr>\n",
       "  </thead>\n",
       "  <tbody>\n",
       "    <tr>\n",
       "      <th>0</th>\n",
       "      <td>[{\"id\": 28, \"name\": \"Action\"}, {\"id\": 12, \"nam...</td>\n",
       "      <td>[{\"id\": 1463, \"name\": \"culture clash\"}, {\"id\":...</td>\n",
       "      <td>[{\"cast_id\": 242, \"character\": \"Jake Sully\", \"...</td>\n",
       "    </tr>\n",
       "    <tr>\n",
       "      <th>1</th>\n",
       "      <td>[{\"id\": 12, \"name\": \"Adventure\"}, {\"id\": 14, \"...</td>\n",
       "      <td>[{\"id\": 270, \"name\": \"ocean\"}, {\"id\": 726, \"na...</td>\n",
       "      <td>[{\"cast_id\": 4, \"character\": \"Captain Jack Spa...</td>\n",
       "    </tr>\n",
       "    <tr>\n",
       "      <th>2</th>\n",
       "      <td>[{\"id\": 28, \"name\": \"Action\"}, {\"id\": 12, \"nam...</td>\n",
       "      <td>[{\"id\": 470, \"name\": \"spy\"}, {\"id\": 818, \"name...</td>\n",
       "      <td>[{\"cast_id\": 1, \"character\": \"James Bond\", \"cr...</td>\n",
       "    </tr>\n",
       "    <tr>\n",
       "      <th>3</th>\n",
       "      <td>[{\"id\": 28, \"name\": \"Action\"}, {\"id\": 80, \"nam...</td>\n",
       "      <td>[{\"id\": 849, \"name\": \"dc comics\"}, {\"id\": 853,...</td>\n",
       "      <td>[{\"cast_id\": 2, \"character\": \"Bruce Wayne / Ba...</td>\n",
       "    </tr>\n",
       "    <tr>\n",
       "      <th>4</th>\n",
       "      <td>[{\"id\": 28, \"name\": \"Action\"}, {\"id\": 12, \"nam...</td>\n",
       "      <td>[{\"id\": 818, \"name\": \"based on novel\"}, {\"id\":...</td>\n",
       "      <td>[{\"cast_id\": 5, \"character\": \"John Carter\", \"c...</td>\n",
       "    </tr>\n",
       "  </tbody>\n",
       "</table>\n",
       "</div>"
      ],
      "text/plain": [
       "                                              genres  \\\n",
       "0  [{\"id\": 28, \"name\": \"Action\"}, {\"id\": 12, \"nam...   \n",
       "1  [{\"id\": 12, \"name\": \"Adventure\"}, {\"id\": 14, \"...   \n",
       "2  [{\"id\": 28, \"name\": \"Action\"}, {\"id\": 12, \"nam...   \n",
       "3  [{\"id\": 28, \"name\": \"Action\"}, {\"id\": 80, \"nam...   \n",
       "4  [{\"id\": 28, \"name\": \"Action\"}, {\"id\": 12, \"nam...   \n",
       "\n",
       "                                            keywords  \\\n",
       "0  [{\"id\": 1463, \"name\": \"culture clash\"}, {\"id\":...   \n",
       "1  [{\"id\": 270, \"name\": \"ocean\"}, {\"id\": 726, \"na...   \n",
       "2  [{\"id\": 470, \"name\": \"spy\"}, {\"id\": 818, \"name...   \n",
       "3  [{\"id\": 849, \"name\": \"dc comics\"}, {\"id\": 853,...   \n",
       "4  [{\"id\": 818, \"name\": \"based on novel\"}, {\"id\":...   \n",
       "\n",
       "                                                cast  \n",
       "0  [{\"cast_id\": 242, \"character\": \"Jake Sully\", \"...  \n",
       "1  [{\"cast_id\": 4, \"character\": \"Captain Jack Spa...  \n",
       "2  [{\"cast_id\": 1, \"character\": \"James Bond\", \"cr...  \n",
       "3  [{\"cast_id\": 2, \"character\": \"Bruce Wayne / Ba...  \n",
       "4  [{\"cast_id\": 5, \"character\": \"John Carter\", \"c...  "
      ]
     },
     "execution_count": 30,
     "metadata": {},
     "output_type": "execute_result"
    }
   ],
   "source": [
    "df_merge_percentil[['genres','keywords', 'cast']].head()"
   ]
  },
  {
   "cell_type": "markdown",
   "id": "bf21f67c-450d-4321-aa1a-7c48839dfde9",
   "metadata": {},
   "source": [
    "Se va a extraer la información de las columnas 'genres', 'keywords' y 'cast'"
   ]
  },
  {
   "cell_type": "code",
   "execution_count": 31,
   "id": "2f56a166-dd10-428e-8ab1-9446d39619de",
   "metadata": {},
   "outputs": [],
   "source": [
    "# Función para extraer los valores de la clave \"name\" y unirlos por espacio\n",
    "def extract_names(value):\n",
    "    try:\n",
    "        #convierte la cadena JSON en una lista de diccionarios\n",
    "        items = ast.literal_eval(value)\n",
    "        #extrae los valores de la clave \"name\"\n",
    "        names = [item.get(\"name\", \"\") for item in items]\n",
    "        #une los valores por espacio\n",
    "        return \" \".join(names)\n",
    "    except (ValueError, SyntaxError) as e:\n",
    "        return str(e)"
   ]
  },
  {
   "cell_type": "code",
   "execution_count": 32,
   "id": "02a9cfab-fed6-4a7b-a655-4bbe2723d579",
   "metadata": {},
   "outputs": [],
   "source": [
    "# Uso de la función en las columnas correspondientes\n",
    "df_merge_percentil['genres'] = df_merge_percentil['genres'].apply(extract_names)\n",
    "df_merge_percentil['keywords'] = df_merge_percentil['keywords'].apply(extract_names)\n",
    "df_merge_percentil['cast'] = df_merge_percentil['cast'].apply(extract_names)"
   ]
  },
  {
   "cell_type": "code",
   "execution_count": 34,
   "id": "1558b017-7f38-4b38-9bf4-23ad89281b58",
   "metadata": {},
   "outputs": [
    {
     "name": "stdout",
     "output_type": "stream",
     "text": [
      "DataFrame después de la transformación:\n"
     ]
    },
    {
     "data": {
      "text/html": [
       "<div>\n",
       "<style scoped>\n",
       "    .dataframe tbody tr th:only-of-type {\n",
       "        vertical-align: middle;\n",
       "    }\n",
       "\n",
       "    .dataframe tbody tr th {\n",
       "        vertical-align: top;\n",
       "    }\n",
       "\n",
       "    .dataframe thead th {\n",
       "        text-align: right;\n",
       "    }\n",
       "</style>\n",
       "<table border=\"1\" class=\"dataframe\">\n",
       "  <thead>\n",
       "    <tr style=\"text-align: right;\">\n",
       "      <th></th>\n",
       "      <th>genres</th>\n",
       "      <th>keywords</th>\n",
       "      <th>cast</th>\n",
       "    </tr>\n",
       "  </thead>\n",
       "  <tbody>\n",
       "    <tr>\n",
       "      <th>0</th>\n",
       "      <td>Action Adventure Fantasy Science Fiction</td>\n",
       "      <td>culture clash future space war space colony so...</td>\n",
       "      <td>Sam Worthington Zoe Saldana Sigourney Weaver S...</td>\n",
       "    </tr>\n",
       "    <tr>\n",
       "      <th>1</th>\n",
       "      <td>Adventure Fantasy Action</td>\n",
       "      <td>ocean drug abuse exotic island east india trad...</td>\n",
       "      <td>Johnny Depp Orlando Bloom Keira Knightley Stel...</td>\n",
       "    </tr>\n",
       "    <tr>\n",
       "      <th>2</th>\n",
       "      <td>Action Adventure Crime</td>\n",
       "      <td>spy based on novel secret agent sequel mi6 bri...</td>\n",
       "      <td>Daniel Craig Christoph Waltz Léa Seydoux Ralph...</td>\n",
       "    </tr>\n",
       "    <tr>\n",
       "      <th>3</th>\n",
       "      <td>Action Crime Drama Thriller</td>\n",
       "      <td>dc comics crime fighter terrorist secret ident...</td>\n",
       "      <td>Christian Bale Michael Caine Gary Oldman Anne ...</td>\n",
       "    </tr>\n",
       "    <tr>\n",
       "      <th>4</th>\n",
       "      <td>Action Adventure Science Fiction</td>\n",
       "      <td>based on novel mars medallion space travel pri...</td>\n",
       "      <td>Taylor Kitsch Lynn Collins Samantha Morton Wil...</td>\n",
       "    </tr>\n",
       "  </tbody>\n",
       "</table>\n",
       "</div>"
      ],
      "text/plain": [
       "                                     genres  \\\n",
       "0  Action Adventure Fantasy Science Fiction   \n",
       "1                  Adventure Fantasy Action   \n",
       "2                    Action Adventure Crime   \n",
       "3               Action Crime Drama Thriller   \n",
       "4          Action Adventure Science Fiction   \n",
       "\n",
       "                                            keywords  \\\n",
       "0  culture clash future space war space colony so...   \n",
       "1  ocean drug abuse exotic island east india trad...   \n",
       "2  spy based on novel secret agent sequel mi6 bri...   \n",
       "3  dc comics crime fighter terrorist secret ident...   \n",
       "4  based on novel mars medallion space travel pri...   \n",
       "\n",
       "                                                cast  \n",
       "0  Sam Worthington Zoe Saldana Sigourney Weaver S...  \n",
       "1  Johnny Depp Orlando Bloom Keira Knightley Stel...  \n",
       "2  Daniel Craig Christoph Waltz Léa Seydoux Ralph...  \n",
       "3  Christian Bale Michael Caine Gary Oldman Anne ...  \n",
       "4  Taylor Kitsch Lynn Collins Samantha Morton Wil...  "
      ]
     },
     "execution_count": 34,
     "metadata": {},
     "output_type": "execute_result"
    }
   ],
   "source": [
    "# Información después de la transformación\n",
    "print(\"DataFrame después de la transformación:\")\n",
    "df_merge_percentil[['genres', 'keywords', 'cast']].head()"
   ]
  },
  {
   "cell_type": "code",
   "execution_count": 53,
   "id": "b99d856d-498e-4df5-b1d8-37d54ae9a3d4",
   "metadata": {},
   "outputs": [
    {
     "data": {
      "text/plain": [
       "0    In the 22nd century, a paraplegic Marine is di...\n",
       "1    Captain Barbossa, long believed to be dead, ha...\n",
       "2    A cryptic message from Bond’s past sends him o...\n",
       "3    Following the death of District Attorney Harve...\n",
       "4    John Carter is a war-weary, former military ca...\n",
       "Name: combined_text, dtype: object"
      ]
     },
     "execution_count": 53,
     "metadata": {},
     "output_type": "execute_result"
    }
   ],
   "source": [
    "# Combinación de las columnas overview, genres, keywords y cast en una sola\n",
    "df_merge_percentil['combined_text'] = df_merge_percentil['overview'] + ' ' + df_merge_percentil['cast'] + ' ' + df_merge_percentil['genres'] + ' ' + df_merge_percentil['keywords']\n",
    "df_merge_percentil['combined_text'].head()"
   ]
  },
  {
   "cell_type": "markdown",
   "id": "362d1c0f-848a-4ee9-8056-d230caffc1ed",
   "metadata": {},
   "source": [
    "### NLP"
   ]
  },
  {
   "cell_type": "markdown",
   "id": "4d275151-d225-400f-bd78-d17c5103d47c",
   "metadata": {},
   "source": [
    "Se va a realizar una Tokenización y Eliminación de StopWords"
   ]
  },
  {
   "cell_type": "code",
   "execution_count": 37,
   "id": "0c63ccc5-e7b2-4b07-8072-ba08bc865d12",
   "metadata": {
    "scrolled": true
   },
   "outputs": [
    {
     "name": "stdout",
     "output_type": "stream",
     "text": [
      "Collecting en-core-web-sm==3.7.1\n",
      "  Downloading https://github.com/explosion/spacy-models/releases/download/en_core_web_sm-3.7.1/en_core_web_sm-3.7.1-py3-none-any.whl (12.8 MB)\n",
      "\u001b[2K     \u001b[90m━━━━━━━━━━━━━━━━━━━━━━━━━━━━━━━━━━━━━━━━\u001b[0m \u001b[32m12.8/12.8 MB\u001b[0m \u001b[31m4.5 MB/s\u001b[0m eta \u001b[36m0:00:00\u001b[0m00:01\u001b[0m00:01\u001b[0m\n",
      "\u001b[?25hRequirement already satisfied: spacy<3.8.0,>=3.7.2 in /Users/n.c.rodriguez/anaconda3/lib/python3.11/site-packages (from en-core-web-sm==3.7.1) (3.7.2)\n",
      "Requirement already satisfied: spacy-legacy<3.1.0,>=3.0.11 in /Users/n.c.rodriguez/anaconda3/lib/python3.11/site-packages (from spacy<3.8.0,>=3.7.2->en-core-web-sm==3.7.1) (3.0.12)\n",
      "Requirement already satisfied: spacy-loggers<2.0.0,>=1.0.0 in /Users/n.c.rodriguez/anaconda3/lib/python3.11/site-packages (from spacy<3.8.0,>=3.7.2->en-core-web-sm==3.7.1) (1.0.5)\n",
      "Requirement already satisfied: murmurhash<1.1.0,>=0.28.0 in /Users/n.c.rodriguez/anaconda3/lib/python3.11/site-packages (from spacy<3.8.0,>=3.7.2->en-core-web-sm==3.7.1) (1.0.10)\n",
      "Requirement already satisfied: cymem<2.1.0,>=2.0.2 in /Users/n.c.rodriguez/anaconda3/lib/python3.11/site-packages (from spacy<3.8.0,>=3.7.2->en-core-web-sm==3.7.1) (2.0.8)\n",
      "Requirement already satisfied: preshed<3.1.0,>=3.0.2 in /Users/n.c.rodriguez/anaconda3/lib/python3.11/site-packages (from spacy<3.8.0,>=3.7.2->en-core-web-sm==3.7.1) (3.0.9)\n",
      "Requirement already satisfied: thinc<8.3.0,>=8.1.8 in /Users/n.c.rodriguez/anaconda3/lib/python3.11/site-packages (from spacy<3.8.0,>=3.7.2->en-core-web-sm==3.7.1) (8.2.2)\n",
      "Requirement already satisfied: wasabi<1.2.0,>=0.9.1 in /Users/n.c.rodriguez/anaconda3/lib/python3.11/site-packages (from spacy<3.8.0,>=3.7.2->en-core-web-sm==3.7.1) (1.1.2)\n",
      "Requirement already satisfied: srsly<3.0.0,>=2.4.3 in /Users/n.c.rodriguez/anaconda3/lib/python3.11/site-packages (from spacy<3.8.0,>=3.7.2->en-core-web-sm==3.7.1) (2.4.8)\n",
      "Requirement already satisfied: catalogue<2.1.0,>=2.0.6 in /Users/n.c.rodriguez/anaconda3/lib/python3.11/site-packages (from spacy<3.8.0,>=3.7.2->en-core-web-sm==3.7.1) (2.0.10)\n",
      "Requirement already satisfied: weasel<0.4.0,>=0.1.0 in /Users/n.c.rodriguez/anaconda3/lib/python3.11/site-packages (from spacy<3.8.0,>=3.7.2->en-core-web-sm==3.7.1) (0.3.4)\n",
      "Requirement already satisfied: typer<0.10.0,>=0.3.0 in /Users/n.c.rodriguez/anaconda3/lib/python3.11/site-packages (from spacy<3.8.0,>=3.7.2->en-core-web-sm==3.7.1) (0.9.0)\n",
      "Requirement already satisfied: smart-open<7.0.0,>=5.2.1 in /Users/n.c.rodriguez/anaconda3/lib/python3.11/site-packages (from spacy<3.8.0,>=3.7.2->en-core-web-sm==3.7.1) (5.2.1)\n",
      "Requirement already satisfied: tqdm<5.0.0,>=4.38.0 in /Users/n.c.rodriguez/anaconda3/lib/python3.11/site-packages (from spacy<3.8.0,>=3.7.2->en-core-web-sm==3.7.1) (4.65.0)\n",
      "Requirement already satisfied: requests<3.0.0,>=2.13.0 in /Users/n.c.rodriguez/anaconda3/lib/python3.11/site-packages (from spacy<3.8.0,>=3.7.2->en-core-web-sm==3.7.1) (2.31.0)\n",
      "Requirement already satisfied: pydantic!=1.8,!=1.8.1,<3.0.0,>=1.7.4 in /Users/n.c.rodriguez/anaconda3/lib/python3.11/site-packages (from spacy<3.8.0,>=3.7.2->en-core-web-sm==3.7.1) (2.5.3)\n",
      "Requirement already satisfied: jinja2 in /Users/n.c.rodriguez/anaconda3/lib/python3.11/site-packages (from spacy<3.8.0,>=3.7.2->en-core-web-sm==3.7.1) (3.1.2)\n",
      "Requirement already satisfied: setuptools in /Users/n.c.rodriguez/anaconda3/lib/python3.11/site-packages (from spacy<3.8.0,>=3.7.2->en-core-web-sm==3.7.1) (68.0.0)\n",
      "Requirement already satisfied: packaging>=20.0 in /Users/n.c.rodriguez/anaconda3/lib/python3.11/site-packages (from spacy<3.8.0,>=3.7.2->en-core-web-sm==3.7.1) (23.1)\n",
      "Requirement already satisfied: langcodes<4.0.0,>=3.2.0 in /Users/n.c.rodriguez/anaconda3/lib/python3.11/site-packages (from spacy<3.8.0,>=3.7.2->en-core-web-sm==3.7.1) (3.3.0)\n",
      "Requirement already satisfied: numpy>=1.19.0 in /Users/n.c.rodriguez/anaconda3/lib/python3.11/site-packages (from spacy<3.8.0,>=3.7.2->en-core-web-sm==3.7.1) (1.26.3)\n",
      "Requirement already satisfied: annotated-types>=0.4.0 in /Users/n.c.rodriguez/anaconda3/lib/python3.11/site-packages (from pydantic!=1.8,!=1.8.1,<3.0.0,>=1.7.4->spacy<3.8.0,>=3.7.2->en-core-web-sm==3.7.1) (0.6.0)\n",
      "Requirement already satisfied: pydantic-core==2.14.6 in /Users/n.c.rodriguez/anaconda3/lib/python3.11/site-packages (from pydantic!=1.8,!=1.8.1,<3.0.0,>=1.7.4->spacy<3.8.0,>=3.7.2->en-core-web-sm==3.7.1) (2.14.6)\n",
      "Requirement already satisfied: typing-extensions>=4.6.1 in /Users/n.c.rodriguez/anaconda3/lib/python3.11/site-packages (from pydantic!=1.8,!=1.8.1,<3.0.0,>=1.7.4->spacy<3.8.0,>=3.7.2->en-core-web-sm==3.7.1) (4.9.0)\n",
      "Requirement already satisfied: charset-normalizer<4,>=2 in /Users/n.c.rodriguez/anaconda3/lib/python3.11/site-packages (from requests<3.0.0,>=2.13.0->spacy<3.8.0,>=3.7.2->en-core-web-sm==3.7.1) (2.0.4)\n",
      "Requirement already satisfied: idna<4,>=2.5 in /Users/n.c.rodriguez/anaconda3/lib/python3.11/site-packages (from requests<3.0.0,>=2.13.0->spacy<3.8.0,>=3.7.2->en-core-web-sm==3.7.1) (3.4)\n",
      "Requirement already satisfied: urllib3<3,>=1.21.1 in /Users/n.c.rodriguez/anaconda3/lib/python3.11/site-packages (from requests<3.0.0,>=2.13.0->spacy<3.8.0,>=3.7.2->en-core-web-sm==3.7.1) (1.26.18)\n",
      "Requirement already satisfied: certifi>=2017.4.17 in /Users/n.c.rodriguez/anaconda3/lib/python3.11/site-packages (from requests<3.0.0,>=2.13.0->spacy<3.8.0,>=3.7.2->en-core-web-sm==3.7.1) (2023.11.17)\n",
      "Requirement already satisfied: blis<0.8.0,>=0.7.8 in /Users/n.c.rodriguez/anaconda3/lib/python3.11/site-packages (from thinc<8.3.0,>=8.1.8->spacy<3.8.0,>=3.7.2->en-core-web-sm==3.7.1) (0.7.11)\n",
      "Requirement already satisfied: confection<1.0.0,>=0.0.1 in /Users/n.c.rodriguez/anaconda3/lib/python3.11/site-packages (from thinc<8.3.0,>=8.1.8->spacy<3.8.0,>=3.7.2->en-core-web-sm==3.7.1) (0.1.4)\n",
      "Requirement already satisfied: click<9.0.0,>=7.1.1 in /Users/n.c.rodriguez/anaconda3/lib/python3.11/site-packages (from typer<0.10.0,>=0.3.0->spacy<3.8.0,>=3.7.2->en-core-web-sm==3.7.1) (8.1.7)\n",
      "Requirement already satisfied: cloudpathlib<0.17.0,>=0.7.0 in /Users/n.c.rodriguez/anaconda3/lib/python3.11/site-packages (from weasel<0.4.0,>=0.1.0->spacy<3.8.0,>=3.7.2->en-core-web-sm==3.7.1) (0.16.0)\n",
      "Requirement already satisfied: MarkupSafe>=2.0 in /Users/n.c.rodriguez/anaconda3/lib/python3.11/site-packages (from jinja2->spacy<3.8.0,>=3.7.2->en-core-web-sm==3.7.1) (2.1.3)\n",
      "Installing collected packages: en-core-web-sm\n",
      "Successfully installed en-core-web-sm-3.7.1\n",
      "\u001b[38;5;2m✔ Download and installation successful\u001b[0m\n",
      "You can now load the package via spacy.load('en_core_web_sm')\n"
     ]
    }
   ],
   "source": [
    "#Descarga del modelo de spaCy en inglés al entorno\n",
    "#!python -m spacy download en_core_web_sm"
   ]
  },
  {
   "cell_type": "code",
   "execution_count": 44,
   "id": "0265a686-3a8b-4718-b48b-1bd49c6fc0eb",
   "metadata": {},
   "outputs": [
    {
     "name": "stderr",
     "output_type": "stream",
     "text": [
      "[nltk_data] Downloading package stopwords to\n",
      "[nltk_data]     /Users/n.c.rodriguez/nltk_data...\n",
      "[nltk_data]   Package stopwords is already up-to-date!\n",
      "[nltk_data] Downloading package punkt to\n",
      "[nltk_data]     /Users/n.c.rodriguez/nltk_data...\n",
      "[nltk_data]   Package punkt is already up-to-date!\n"
     ]
    }
   ],
   "source": [
    "# Descarga de las stopwords y punkt\n",
    "nltk.download('stopwords')\n",
    "nltk.download('punkt')\n",
    "# Carga el modelo de spaCy en inglés\n",
    "nlp = spacy.load(\"en_core_web_sm\")"
   ]
  },
  {
   "cell_type": "code",
   "execution_count": 45,
   "id": "91cf2fe7-e5d7-4602-90ff-794b5abc0e3f",
   "metadata": {},
   "outputs": [],
   "source": [
    "# Función de tokenización y eliminación de stopwords con NLTLK + Stemming\n",
    "def preprocessing(text):\n",
    "    # Tokenización\n",
    "    tokens = word_tokenize(text)\n",
    "    \n",
    "    # Eliminación de stopwords\n",
    "    stop_words = set(stopwords.words(\"english\"))\n",
    "    tokens = [token.lower() for token in tokens if token.isalpha() and token.lower() not in stop_words]\n",
    "    \n",
    "    # Stemming\n",
    "    stemmer = PorterStemmer()\n",
    "    tokens = [stemmer.stem(token) for token in tokens]\n",
    "    \n",
    "    return tokens"
   ]
  },
  {
   "cell_type": "code",
   "execution_count": 54,
   "id": "b7081052-59b0-4a3f-8eed-8136d4bf2228",
   "metadata": {},
   "outputs": [],
   "source": [
    "# Uso de la función preprocessing\n",
    "df_merge_percentil['combined_text_preprocessed'] = df_merge_percentil['combined_text'].apply(preprocessing)"
   ]
  },
  {
   "cell_type": "code",
   "execution_count": 55,
   "id": "16525e35-81c0-42eb-8b59-68b1a6ac8637",
   "metadata": {},
   "outputs": [
    {
     "data": {
      "text/plain": [
       "0    [centuri, parapleg, marin, dispatch, moon, pan...\n",
       "1    [captain, barbossa, long, believ, dead, come, ...\n",
       "2    [cryptic, messag, bond, past, send, trail, unc...\n",
       "3    [follow, death, district, attorney, harvey, de...\n",
       "4    [john, carter, former, militari, captain, inex...\n",
       "Name: combined_text_preprocessed, dtype: object"
      ]
     },
     "execution_count": 55,
     "metadata": {},
     "output_type": "execute_result"
    }
   ],
   "source": [
    "df_merge_percentil['combined_text_preprocessed'].head()"
   ]
  }
 ],
 "metadata": {
  "kernelspec": {
   "display_name": "Python 3 (ipykernel)",
   "language": "python",
   "name": "python3"
  },
  "language_info": {
   "codemirror_mode": {
    "name": "ipython",
    "version": 3
   },
   "file_extension": ".py",
   "mimetype": "text/x-python",
   "name": "python",
   "nbconvert_exporter": "python",
   "pygments_lexer": "ipython3",
   "version": "3.12.1"
  }
 },
 "nbformat": 4,
 "nbformat_minor": 5
}
