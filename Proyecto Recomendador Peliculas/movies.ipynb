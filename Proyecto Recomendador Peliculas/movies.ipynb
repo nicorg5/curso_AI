{
 "cells": [
  {
   "cell_type": "markdown",
   "id": "c86e821b-ffb9-48da-a454-a115f2511b1a",
   "metadata": {},
   "source": [
    "# MovIA: Proyecto desarrollo de un Sistema de Recomendación de Películas con IA"
   ]
  },
  {
   "cell_type": "markdown",
   "id": "3f5b3d5d-ac86-45d2-b9fe-3de111606651",
   "metadata": {},
   "source": [
    "## Fase 1: Preparación del Entorno y Datos"
   ]
  },
  {
   "cell_type": "code",
   "execution_count": 1,
   "id": "91b60f70-89d7-495a-95d0-f35e8adb8b1c",
   "metadata": {},
   "outputs": [],
   "source": [
    "# Importación de bibliotecas necesarias\n",
    "import pandas as pd\n",
    "import matplotlib.pyplot as plt\n",
    "import seaborn as sns\n",
    "import ast\n",
    "import spacy\n",
    "from nltk.stem import PorterStemmer\n",
    "import nltk\n",
    "from nltk.corpus import stopwords\n",
    "from nltk.tokenize import word_tokenize\n",
    "import gradio as gr\n",
    "from sklearn.feature_extraction.text import TfidfVectorizer\n",
    "from sklearn.metrics.pairwise import cosine_similarity\n",
    "import pickle\n",
    "\n",
    "from openai import OpenAI\n",
    "from dotenv import load_dotenv\n",
    "import os\n",
    "\n",
    "import torch\n",
    "from transformers import BertTokenizer, BertForSequenceClassification\n",
    "from torch.nn.functional import softmax\n",
    "from nltk.sentiment.vader import SentimentIntensityAnalyzer\n",
    "from transformers import pipeline"
   ]
  },
  {
   "cell_type": "code",
   "execution_count": 2,
   "id": "3af19cbb-1e76-4a74-b42c-e8950f05d25a",
   "metadata": {},
   "outputs": [],
   "source": [
    "# Para mostrar todas las filas y/o columnas del DataFrame\n",
    "pd.options.display.max_columns = None\n",
    "#pd.options.display.max_rows = None"
   ]
  },
  {
   "cell_type": "code",
   "execution_count": 3,
   "id": "87e6c4e0-df9a-4d47-83bf-e8ee432a212c",
   "metadata": {},
   "outputs": [
    {
     "name": "stdout",
     "output_type": "stream",
     "text": [
      "Index(['movie_id', 'title', 'cast', 'crew'], dtype='object')\n",
      "Index(['budget', 'genres', 'homepage', 'id', 'keywords', 'original_language',\n",
      "       'original_title', 'overview', 'popularity', 'production_companies',\n",
      "       'production_countries', 'release_date', 'revenue', 'runtime',\n",
      "       'spoken_languages', 'status', 'tagline', 'title', 'vote_average',\n",
      "       'vote_count'],\n",
      "      dtype='object')\n"
     ]
    }
   ],
   "source": [
    "# Lectura de los DataSets\n",
    "df_credits = pd.read_csv('tmdb_5000_credits.csv')\n",
    "df_movies = pd.read_csv('tmdb_5000_movies.csv')\n",
    "print(df_credits.columns)\n",
    "print(df_movies.columns)"
   ]
  },
  {
   "cell_type": "code",
   "execution_count": 4,
   "id": "8f6bb1c5-89d0-4bd4-b6d3-b09348e8809f",
   "metadata": {},
   "outputs": [
    {
     "data": {
      "text/html": [
       "<div>\n",
       "<style scoped>\n",
       "    .dataframe tbody tr th:only-of-type {\n",
       "        vertical-align: middle;\n",
       "    }\n",
       "\n",
       "    .dataframe tbody tr th {\n",
       "        vertical-align: top;\n",
       "    }\n",
       "\n",
       "    .dataframe thead th {\n",
       "        text-align: right;\n",
       "    }\n",
       "</style>\n",
       "<table border=\"1\" class=\"dataframe\">\n",
       "  <thead>\n",
       "    <tr style=\"text-align: right;\">\n",
       "      <th></th>\n",
       "      <th>id</th>\n",
       "      <th>cast</th>\n",
       "      <th>crew</th>\n",
       "    </tr>\n",
       "  </thead>\n",
       "  <tbody>\n",
       "    <tr>\n",
       "      <th>0</th>\n",
       "      <td>19995</td>\n",
       "      <td>[{\"cast_id\": 242, \"character\": \"Jake Sully\", \"...</td>\n",
       "      <td>[{\"credit_id\": \"52fe48009251416c750aca23\", \"de...</td>\n",
       "    </tr>\n",
       "    <tr>\n",
       "      <th>1</th>\n",
       "      <td>285</td>\n",
       "      <td>[{\"cast_id\": 4, \"character\": \"Captain Jack Spa...</td>\n",
       "      <td>[{\"credit_id\": \"52fe4232c3a36847f800b579\", \"de...</td>\n",
       "    </tr>\n",
       "    <tr>\n",
       "      <th>2</th>\n",
       "      <td>206647</td>\n",
       "      <td>[{\"cast_id\": 1, \"character\": \"James Bond\", \"cr...</td>\n",
       "      <td>[{\"credit_id\": \"54805967c3a36829b5002c41\", \"de...</td>\n",
       "    </tr>\n",
       "    <tr>\n",
       "      <th>3</th>\n",
       "      <td>49026</td>\n",
       "      <td>[{\"cast_id\": 2, \"character\": \"Bruce Wayne / Ba...</td>\n",
       "      <td>[{\"credit_id\": \"52fe4781c3a36847f81398c3\", \"de...</td>\n",
       "    </tr>\n",
       "    <tr>\n",
       "      <th>4</th>\n",
       "      <td>49529</td>\n",
       "      <td>[{\"cast_id\": 5, \"character\": \"John Carter\", \"c...</td>\n",
       "      <td>[{\"credit_id\": \"52fe479ac3a36847f813eaa3\", \"de...</td>\n",
       "    </tr>\n",
       "  </tbody>\n",
       "</table>\n",
       "</div>"
      ],
      "text/plain": [
       "       id                                               cast  \\\n",
       "0   19995  [{\"cast_id\": 242, \"character\": \"Jake Sully\", \"...   \n",
       "1     285  [{\"cast_id\": 4, \"character\": \"Captain Jack Spa...   \n",
       "2  206647  [{\"cast_id\": 1, \"character\": \"James Bond\", \"cr...   \n",
       "3   49026  [{\"cast_id\": 2, \"character\": \"Bruce Wayne / Ba...   \n",
       "4   49529  [{\"cast_id\": 5, \"character\": \"John Carter\", \"c...   \n",
       "\n",
       "                                                crew  \n",
       "0  [{\"credit_id\": \"52fe48009251416c750aca23\", \"de...  \n",
       "1  [{\"credit_id\": \"52fe4232c3a36847f800b579\", \"de...  \n",
       "2  [{\"credit_id\": \"54805967c3a36829b5002c41\", \"de...  \n",
       "3  [{\"credit_id\": \"52fe4781c3a36847f81398c3\", \"de...  \n",
       "4  [{\"credit_id\": \"52fe479ac3a36847f813eaa3\", \"de...  "
      ]
     },
     "execution_count": 4,
     "metadata": {},
     "output_type": "execute_result"
    }
   ],
   "source": [
    "# Se cambia la columna 'movie_id' del DataFrame df_credits a 'id' para poder hacer un merge posteriormente\n",
    "df_credits.columns = ['id', 'title', 'cast', 'crew']\n",
    "\n",
    "# Se elimina la columna 'title' ya que está en ambos DataFrames y aparecería duplicada una vez se haga el merge\n",
    "df_credits.drop(['title'], axis=1, inplace=True)\n",
    "df_credits.head()"
   ]
  },
  {
   "cell_type": "code",
   "execution_count": 5,
   "id": "0c41df35-f1f6-4126-9110-bc010e135aae",
   "metadata": {},
   "outputs": [
    {
     "data": {
      "text/html": [
       "<div>\n",
       "<style scoped>\n",
       "    .dataframe tbody tr th:only-of-type {\n",
       "        vertical-align: middle;\n",
       "    }\n",
       "\n",
       "    .dataframe tbody tr th {\n",
       "        vertical-align: top;\n",
       "    }\n",
       "\n",
       "    .dataframe thead th {\n",
       "        text-align: right;\n",
       "    }\n",
       "</style>\n",
       "<table border=\"1\" class=\"dataframe\">\n",
       "  <thead>\n",
       "    <tr style=\"text-align: right;\">\n",
       "      <th></th>\n",
       "      <th>budget</th>\n",
       "      <th>genres</th>\n",
       "      <th>homepage</th>\n",
       "      <th>id</th>\n",
       "      <th>keywords</th>\n",
       "      <th>original_language</th>\n",
       "      <th>original_title</th>\n",
       "      <th>overview</th>\n",
       "      <th>popularity</th>\n",
       "      <th>production_companies</th>\n",
       "      <th>production_countries</th>\n",
       "      <th>release_date</th>\n",
       "      <th>revenue</th>\n",
       "      <th>runtime</th>\n",
       "      <th>spoken_languages</th>\n",
       "      <th>status</th>\n",
       "      <th>tagline</th>\n",
       "      <th>title</th>\n",
       "      <th>vote_average</th>\n",
       "      <th>vote_count</th>\n",
       "      <th>cast</th>\n",
       "      <th>crew</th>\n",
       "    </tr>\n",
       "  </thead>\n",
       "  <tbody>\n",
       "    <tr>\n",
       "      <th>0</th>\n",
       "      <td>237000000</td>\n",
       "      <td>[{\"id\": 28, \"name\": \"Action\"}, {\"id\": 12, \"nam...</td>\n",
       "      <td>http://www.avatarmovie.com/</td>\n",
       "      <td>19995</td>\n",
       "      <td>[{\"id\": 1463, \"name\": \"culture clash\"}, {\"id\":...</td>\n",
       "      <td>en</td>\n",
       "      <td>Avatar</td>\n",
       "      <td>In the 22nd century, a paraplegic Marine is di...</td>\n",
       "      <td>150.437577</td>\n",
       "      <td>[{\"name\": \"Ingenious Film Partners\", \"id\": 289...</td>\n",
       "      <td>[{\"iso_3166_1\": \"US\", \"name\": \"United States o...</td>\n",
       "      <td>2009-12-10</td>\n",
       "      <td>2787965087</td>\n",
       "      <td>162.0</td>\n",
       "      <td>[{\"iso_639_1\": \"en\", \"name\": \"English\"}, {\"iso...</td>\n",
       "      <td>Released</td>\n",
       "      <td>Enter the World of Pandora.</td>\n",
       "      <td>Avatar</td>\n",
       "      <td>7.2</td>\n",
       "      <td>11800</td>\n",
       "      <td>[{\"cast_id\": 242, \"character\": \"Jake Sully\", \"...</td>\n",
       "      <td>[{\"credit_id\": \"52fe48009251416c750aca23\", \"de...</td>\n",
       "    </tr>\n",
       "    <tr>\n",
       "      <th>1</th>\n",
       "      <td>300000000</td>\n",
       "      <td>[{\"id\": 12, \"name\": \"Adventure\"}, {\"id\": 14, \"...</td>\n",
       "      <td>http://disney.go.com/disneypictures/pirates/</td>\n",
       "      <td>285</td>\n",
       "      <td>[{\"id\": 270, \"name\": \"ocean\"}, {\"id\": 726, \"na...</td>\n",
       "      <td>en</td>\n",
       "      <td>Pirates of the Caribbean: At World's End</td>\n",
       "      <td>Captain Barbossa, long believed to be dead, ha...</td>\n",
       "      <td>139.082615</td>\n",
       "      <td>[{\"name\": \"Walt Disney Pictures\", \"id\": 2}, {\"...</td>\n",
       "      <td>[{\"iso_3166_1\": \"US\", \"name\": \"United States o...</td>\n",
       "      <td>2007-05-19</td>\n",
       "      <td>961000000</td>\n",
       "      <td>169.0</td>\n",
       "      <td>[{\"iso_639_1\": \"en\", \"name\": \"English\"}]</td>\n",
       "      <td>Released</td>\n",
       "      <td>At the end of the world, the adventure begins.</td>\n",
       "      <td>Pirates of the Caribbean: At World's End</td>\n",
       "      <td>6.9</td>\n",
       "      <td>4500</td>\n",
       "      <td>[{\"cast_id\": 4, \"character\": \"Captain Jack Spa...</td>\n",
       "      <td>[{\"credit_id\": \"52fe4232c3a36847f800b579\", \"de...</td>\n",
       "    </tr>\n",
       "    <tr>\n",
       "      <th>2</th>\n",
       "      <td>245000000</td>\n",
       "      <td>[{\"id\": 28, \"name\": \"Action\"}, {\"id\": 12, \"nam...</td>\n",
       "      <td>http://www.sonypictures.com/movies/spectre/</td>\n",
       "      <td>206647</td>\n",
       "      <td>[{\"id\": 470, \"name\": \"spy\"}, {\"id\": 818, \"name...</td>\n",
       "      <td>en</td>\n",
       "      <td>Spectre</td>\n",
       "      <td>A cryptic message from Bond’s past sends him o...</td>\n",
       "      <td>107.376788</td>\n",
       "      <td>[{\"name\": \"Columbia Pictures\", \"id\": 5}, {\"nam...</td>\n",
       "      <td>[{\"iso_3166_1\": \"GB\", \"name\": \"United Kingdom\"...</td>\n",
       "      <td>2015-10-26</td>\n",
       "      <td>880674609</td>\n",
       "      <td>148.0</td>\n",
       "      <td>[{\"iso_639_1\": \"fr\", \"name\": \"Fran\\u00e7ais\"},...</td>\n",
       "      <td>Released</td>\n",
       "      <td>A Plan No One Escapes</td>\n",
       "      <td>Spectre</td>\n",
       "      <td>6.3</td>\n",
       "      <td>4466</td>\n",
       "      <td>[{\"cast_id\": 1, \"character\": \"James Bond\", \"cr...</td>\n",
       "      <td>[{\"credit_id\": \"54805967c3a36829b5002c41\", \"de...</td>\n",
       "    </tr>\n",
       "    <tr>\n",
       "      <th>3</th>\n",
       "      <td>250000000</td>\n",
       "      <td>[{\"id\": 28, \"name\": \"Action\"}, {\"id\": 80, \"nam...</td>\n",
       "      <td>http://www.thedarkknightrises.com/</td>\n",
       "      <td>49026</td>\n",
       "      <td>[{\"id\": 849, \"name\": \"dc comics\"}, {\"id\": 853,...</td>\n",
       "      <td>en</td>\n",
       "      <td>The Dark Knight Rises</td>\n",
       "      <td>Following the death of District Attorney Harve...</td>\n",
       "      <td>112.312950</td>\n",
       "      <td>[{\"name\": \"Legendary Pictures\", \"id\": 923}, {\"...</td>\n",
       "      <td>[{\"iso_3166_1\": \"US\", \"name\": \"United States o...</td>\n",
       "      <td>2012-07-16</td>\n",
       "      <td>1084939099</td>\n",
       "      <td>165.0</td>\n",
       "      <td>[{\"iso_639_1\": \"en\", \"name\": \"English\"}]</td>\n",
       "      <td>Released</td>\n",
       "      <td>The Legend Ends</td>\n",
       "      <td>The Dark Knight Rises</td>\n",
       "      <td>7.6</td>\n",
       "      <td>9106</td>\n",
       "      <td>[{\"cast_id\": 2, \"character\": \"Bruce Wayne / Ba...</td>\n",
       "      <td>[{\"credit_id\": \"52fe4781c3a36847f81398c3\", \"de...</td>\n",
       "    </tr>\n",
       "    <tr>\n",
       "      <th>4</th>\n",
       "      <td>260000000</td>\n",
       "      <td>[{\"id\": 28, \"name\": \"Action\"}, {\"id\": 12, \"nam...</td>\n",
       "      <td>http://movies.disney.com/john-carter</td>\n",
       "      <td>49529</td>\n",
       "      <td>[{\"id\": 818, \"name\": \"based on novel\"}, {\"id\":...</td>\n",
       "      <td>en</td>\n",
       "      <td>John Carter</td>\n",
       "      <td>John Carter is a war-weary, former military ca...</td>\n",
       "      <td>43.926995</td>\n",
       "      <td>[{\"name\": \"Walt Disney Pictures\", \"id\": 2}]</td>\n",
       "      <td>[{\"iso_3166_1\": \"US\", \"name\": \"United States o...</td>\n",
       "      <td>2012-03-07</td>\n",
       "      <td>284139100</td>\n",
       "      <td>132.0</td>\n",
       "      <td>[{\"iso_639_1\": \"en\", \"name\": \"English\"}]</td>\n",
       "      <td>Released</td>\n",
       "      <td>Lost in our world, found in another.</td>\n",
       "      <td>John Carter</td>\n",
       "      <td>6.1</td>\n",
       "      <td>2124</td>\n",
       "      <td>[{\"cast_id\": 5, \"character\": \"John Carter\", \"c...</td>\n",
       "      <td>[{\"credit_id\": \"52fe479ac3a36847f813eaa3\", \"de...</td>\n",
       "    </tr>\n",
       "  </tbody>\n",
       "</table>\n",
       "</div>"
      ],
      "text/plain": [
       "      budget                                             genres  \\\n",
       "0  237000000  [{\"id\": 28, \"name\": \"Action\"}, {\"id\": 12, \"nam...   \n",
       "1  300000000  [{\"id\": 12, \"name\": \"Adventure\"}, {\"id\": 14, \"...   \n",
       "2  245000000  [{\"id\": 28, \"name\": \"Action\"}, {\"id\": 12, \"nam...   \n",
       "3  250000000  [{\"id\": 28, \"name\": \"Action\"}, {\"id\": 80, \"nam...   \n",
       "4  260000000  [{\"id\": 28, \"name\": \"Action\"}, {\"id\": 12, \"nam...   \n",
       "\n",
       "                                       homepage      id  \\\n",
       "0                   http://www.avatarmovie.com/   19995   \n",
       "1  http://disney.go.com/disneypictures/pirates/     285   \n",
       "2   http://www.sonypictures.com/movies/spectre/  206647   \n",
       "3            http://www.thedarkknightrises.com/   49026   \n",
       "4          http://movies.disney.com/john-carter   49529   \n",
       "\n",
       "                                            keywords original_language  \\\n",
       "0  [{\"id\": 1463, \"name\": \"culture clash\"}, {\"id\":...                en   \n",
       "1  [{\"id\": 270, \"name\": \"ocean\"}, {\"id\": 726, \"na...                en   \n",
       "2  [{\"id\": 470, \"name\": \"spy\"}, {\"id\": 818, \"name...                en   \n",
       "3  [{\"id\": 849, \"name\": \"dc comics\"}, {\"id\": 853,...                en   \n",
       "4  [{\"id\": 818, \"name\": \"based on novel\"}, {\"id\":...                en   \n",
       "\n",
       "                             original_title  \\\n",
       "0                                    Avatar   \n",
       "1  Pirates of the Caribbean: At World's End   \n",
       "2                                   Spectre   \n",
       "3                     The Dark Knight Rises   \n",
       "4                               John Carter   \n",
       "\n",
       "                                            overview  popularity  \\\n",
       "0  In the 22nd century, a paraplegic Marine is di...  150.437577   \n",
       "1  Captain Barbossa, long believed to be dead, ha...  139.082615   \n",
       "2  A cryptic message from Bond’s past sends him o...  107.376788   \n",
       "3  Following the death of District Attorney Harve...  112.312950   \n",
       "4  John Carter is a war-weary, former military ca...   43.926995   \n",
       "\n",
       "                                production_companies  \\\n",
       "0  [{\"name\": \"Ingenious Film Partners\", \"id\": 289...   \n",
       "1  [{\"name\": \"Walt Disney Pictures\", \"id\": 2}, {\"...   \n",
       "2  [{\"name\": \"Columbia Pictures\", \"id\": 5}, {\"nam...   \n",
       "3  [{\"name\": \"Legendary Pictures\", \"id\": 923}, {\"...   \n",
       "4        [{\"name\": \"Walt Disney Pictures\", \"id\": 2}]   \n",
       "\n",
       "                                production_countries release_date     revenue  \\\n",
       "0  [{\"iso_3166_1\": \"US\", \"name\": \"United States o...   2009-12-10  2787965087   \n",
       "1  [{\"iso_3166_1\": \"US\", \"name\": \"United States o...   2007-05-19   961000000   \n",
       "2  [{\"iso_3166_1\": \"GB\", \"name\": \"United Kingdom\"...   2015-10-26   880674609   \n",
       "3  [{\"iso_3166_1\": \"US\", \"name\": \"United States o...   2012-07-16  1084939099   \n",
       "4  [{\"iso_3166_1\": \"US\", \"name\": \"United States o...   2012-03-07   284139100   \n",
       "\n",
       "   runtime                                   spoken_languages    status  \\\n",
       "0    162.0  [{\"iso_639_1\": \"en\", \"name\": \"English\"}, {\"iso...  Released   \n",
       "1    169.0           [{\"iso_639_1\": \"en\", \"name\": \"English\"}]  Released   \n",
       "2    148.0  [{\"iso_639_1\": \"fr\", \"name\": \"Fran\\u00e7ais\"},...  Released   \n",
       "3    165.0           [{\"iso_639_1\": \"en\", \"name\": \"English\"}]  Released   \n",
       "4    132.0           [{\"iso_639_1\": \"en\", \"name\": \"English\"}]  Released   \n",
       "\n",
       "                                          tagline  \\\n",
       "0                     Enter the World of Pandora.   \n",
       "1  At the end of the world, the adventure begins.   \n",
       "2                           A Plan No One Escapes   \n",
       "3                                 The Legend Ends   \n",
       "4            Lost in our world, found in another.   \n",
       "\n",
       "                                      title  vote_average  vote_count  \\\n",
       "0                                    Avatar           7.2       11800   \n",
       "1  Pirates of the Caribbean: At World's End           6.9        4500   \n",
       "2                                   Spectre           6.3        4466   \n",
       "3                     The Dark Knight Rises           7.6        9106   \n",
       "4                               John Carter           6.1        2124   \n",
       "\n",
       "                                                cast  \\\n",
       "0  [{\"cast_id\": 242, \"character\": \"Jake Sully\", \"...   \n",
       "1  [{\"cast_id\": 4, \"character\": \"Captain Jack Spa...   \n",
       "2  [{\"cast_id\": 1, \"character\": \"James Bond\", \"cr...   \n",
       "3  [{\"cast_id\": 2, \"character\": \"Bruce Wayne / Ba...   \n",
       "4  [{\"cast_id\": 5, \"character\": \"John Carter\", \"c...   \n",
       "\n",
       "                                                crew  \n",
       "0  [{\"credit_id\": \"52fe48009251416c750aca23\", \"de...  \n",
       "1  [{\"credit_id\": \"52fe4232c3a36847f800b579\", \"de...  \n",
       "2  [{\"credit_id\": \"54805967c3a36829b5002c41\", \"de...  \n",
       "3  [{\"credit_id\": \"52fe4781c3a36847f81398c3\", \"de...  \n",
       "4  [{\"credit_id\": \"52fe479ac3a36847f813eaa3\", \"de...  "
      ]
     },
     "execution_count": 5,
     "metadata": {},
     "output_type": "execute_result"
    }
   ],
   "source": [
    "# Se hace el merge\n",
    "df_merge = df_movies.merge(df_credits, on='id')\n",
    "df_merge.head()"
   ]
  },
  {
   "cell_type": "markdown",
   "id": "9dfea95d-ad5f-4ceb-8350-ddd99d9b68ce",
   "metadata": {},
   "source": [
    "## Fase 2: Análisis Exploratorio de Datos (EDA) y Procesamiento del Lenguaje Natural (NLP)"
   ]
  },
  {
   "cell_type": "markdown",
   "id": "0fc1deb0-0ea8-446c-a4be-05fde96c2f9d",
   "metadata": {},
   "source": [
    "### EDA"
   ]
  },
  {
   "cell_type": "code",
   "execution_count": 6,
   "id": "1bd6a7e4-d2ce-4671-899a-e10e3d42d37d",
   "metadata": {},
   "outputs": [
    {
     "data": {
      "text/plain": [
       "(4803, 22)"
      ]
     },
     "execution_count": 6,
     "metadata": {},
     "output_type": "execute_result"
    }
   ],
   "source": [
    "# Tamaño del DataFrame\n",
    "df_merge.shape"
   ]
  },
  {
   "cell_type": "code",
   "execution_count": 7,
   "id": "47bc7e28-a121-4066-b202-8b66336b5851",
   "metadata": {},
   "outputs": [
    {
     "data": {
      "text/html": [
       "<div>\n",
       "<style scoped>\n",
       "    .dataframe tbody tr th:only-of-type {\n",
       "        vertical-align: middle;\n",
       "    }\n",
       "\n",
       "    .dataframe tbody tr th {\n",
       "        vertical-align: top;\n",
       "    }\n",
       "\n",
       "    .dataframe thead th {\n",
       "        text-align: right;\n",
       "    }\n",
       "</style>\n",
       "<table border=\"1\" class=\"dataframe\">\n",
       "  <thead>\n",
       "    <tr style=\"text-align: right;\">\n",
       "      <th></th>\n",
       "      <th>budget</th>\n",
       "      <th>id</th>\n",
       "      <th>popularity</th>\n",
       "      <th>revenue</th>\n",
       "      <th>runtime</th>\n",
       "      <th>vote_average</th>\n",
       "      <th>vote_count</th>\n",
       "    </tr>\n",
       "  </thead>\n",
       "  <tbody>\n",
       "    <tr>\n",
       "      <th>count</th>\n",
       "      <td>4.803000e+03</td>\n",
       "      <td>4803.000000</td>\n",
       "      <td>4803.000000</td>\n",
       "      <td>4.803000e+03</td>\n",
       "      <td>4801.000000</td>\n",
       "      <td>4803.000000</td>\n",
       "      <td>4803.000000</td>\n",
       "    </tr>\n",
       "    <tr>\n",
       "      <th>mean</th>\n",
       "      <td>2.904504e+07</td>\n",
       "      <td>57165.484281</td>\n",
       "      <td>21.492301</td>\n",
       "      <td>8.226064e+07</td>\n",
       "      <td>106.875859</td>\n",
       "      <td>6.092172</td>\n",
       "      <td>690.217989</td>\n",
       "    </tr>\n",
       "    <tr>\n",
       "      <th>std</th>\n",
       "      <td>4.072239e+07</td>\n",
       "      <td>88694.614033</td>\n",
       "      <td>31.816650</td>\n",
       "      <td>1.628571e+08</td>\n",
       "      <td>22.611935</td>\n",
       "      <td>1.194612</td>\n",
       "      <td>1234.585891</td>\n",
       "    </tr>\n",
       "    <tr>\n",
       "      <th>min</th>\n",
       "      <td>0.000000e+00</td>\n",
       "      <td>5.000000</td>\n",
       "      <td>0.000000</td>\n",
       "      <td>0.000000e+00</td>\n",
       "      <td>0.000000</td>\n",
       "      <td>0.000000</td>\n",
       "      <td>0.000000</td>\n",
       "    </tr>\n",
       "    <tr>\n",
       "      <th>25%</th>\n",
       "      <td>7.900000e+05</td>\n",
       "      <td>9014.500000</td>\n",
       "      <td>4.668070</td>\n",
       "      <td>0.000000e+00</td>\n",
       "      <td>94.000000</td>\n",
       "      <td>5.600000</td>\n",
       "      <td>54.000000</td>\n",
       "    </tr>\n",
       "    <tr>\n",
       "      <th>50%</th>\n",
       "      <td>1.500000e+07</td>\n",
       "      <td>14629.000000</td>\n",
       "      <td>12.921594</td>\n",
       "      <td>1.917000e+07</td>\n",
       "      <td>103.000000</td>\n",
       "      <td>6.200000</td>\n",
       "      <td>235.000000</td>\n",
       "    </tr>\n",
       "    <tr>\n",
       "      <th>75%</th>\n",
       "      <td>4.000000e+07</td>\n",
       "      <td>58610.500000</td>\n",
       "      <td>28.313505</td>\n",
       "      <td>9.291719e+07</td>\n",
       "      <td>118.000000</td>\n",
       "      <td>6.800000</td>\n",
       "      <td>737.000000</td>\n",
       "    </tr>\n",
       "    <tr>\n",
       "      <th>max</th>\n",
       "      <td>3.800000e+08</td>\n",
       "      <td>459488.000000</td>\n",
       "      <td>875.581305</td>\n",
       "      <td>2.787965e+09</td>\n",
       "      <td>338.000000</td>\n",
       "      <td>10.000000</td>\n",
       "      <td>13752.000000</td>\n",
       "    </tr>\n",
       "  </tbody>\n",
       "</table>\n",
       "</div>"
      ],
      "text/plain": [
       "             budget             id   popularity       revenue      runtime  \\\n",
       "count  4.803000e+03    4803.000000  4803.000000  4.803000e+03  4801.000000   \n",
       "mean   2.904504e+07   57165.484281    21.492301  8.226064e+07   106.875859   \n",
       "std    4.072239e+07   88694.614033    31.816650  1.628571e+08    22.611935   \n",
       "min    0.000000e+00       5.000000     0.000000  0.000000e+00     0.000000   \n",
       "25%    7.900000e+05    9014.500000     4.668070  0.000000e+00    94.000000   \n",
       "50%    1.500000e+07   14629.000000    12.921594  1.917000e+07   103.000000   \n",
       "75%    4.000000e+07   58610.500000    28.313505  9.291719e+07   118.000000   \n",
       "max    3.800000e+08  459488.000000   875.581305  2.787965e+09   338.000000   \n",
       "\n",
       "       vote_average    vote_count  \n",
       "count   4803.000000   4803.000000  \n",
       "mean       6.092172    690.217989  \n",
       "std        1.194612   1234.585891  \n",
       "min        0.000000      0.000000  \n",
       "25%        5.600000     54.000000  \n",
       "50%        6.200000    235.000000  \n",
       "75%        6.800000    737.000000  \n",
       "max       10.000000  13752.000000  "
      ]
     },
     "execution_count": 7,
     "metadata": {},
     "output_type": "execute_result"
    }
   ],
   "source": [
    "df_merge.describe()"
   ]
  },
  {
   "cell_type": "markdown",
   "id": "d72bb25c-d2de-4fa2-80d6-1655f3d60ca8",
   "metadata": {},
   "source": [
    "df_merge.info()"
   ]
  },
  {
   "cell_type": "markdown",
   "id": "b6ee05fa-2514-4a4e-8ffc-f889d3f4edb9",
   "metadata": {},
   "source": [
    "#### Revisión de nulos"
   ]
  },
  {
   "cell_type": "code",
   "execution_count": 8,
   "id": "627a8adb-9e1c-405e-8bad-54693ca92f64",
   "metadata": {},
   "outputs": [
    {
     "name": "stdout",
     "output_type": "stream",
     "text": [
      "Número de valores nulos por columna:\n",
      "homepage        3091\n",
      "overview           3\n",
      "release_date       1\n",
      "runtime            2\n",
      "tagline          844\n",
      "dtype: int64\n"
     ]
    }
   ],
   "source": [
    "# Cantidad de nulos\n",
    "\n",
    "null_counts = df_merge.isnull().sum()\n",
    "print(\"Número de valores nulos por columna:\")\n",
    "print(null_counts[null_counts > 0])"
   ]
  },
  {
   "cell_type": "markdown",
   "id": "aaded8b7-6c5a-4243-bf6f-adcaa5e9b495",
   "metadata": {},
   "source": [
    "- *homepage*: Se eiminará dicha columna ya que tiene un alto contenido de nulos y no tiene información relevante para el objetivo del proyecto\n",
    "- *overview*: Se eliminarás las filas con esos valores nulos ya que son muy pocos\n",
    "- *release_date*: Se eliminarán la fila con ese valor nulo\n",
    "- *runtime*: Se reemplazarán las filas con esos valores nulos por la mediana\n",
    "- *tagline*: Se reemplazarán los valores nulos por el texto 'Not available'"
   ]
  },
  {
   "cell_type": "code",
   "execution_count": 9,
   "id": "35d1cfc3-916a-49f3-86dd-52e247f3bef0",
   "metadata": {},
   "outputs": [
    {
     "name": "stderr",
     "output_type": "stream",
     "text": [
      "/var/folders/79/rwrch1qx1y7bm5mc3hnnntw00000gn/T/ipykernel_66173/3967676929.py:9: FutureWarning: A value is trying to be set on a copy of a DataFrame or Series through chained assignment using an inplace method.\n",
      "The behavior will change in pandas 3.0. This inplace method will never work because the intermediate object on which we are setting values always behaves as a copy.\n",
      "\n",
      "For example, when doing 'df[col].method(value, inplace=True)', try using 'df.method({col: value}, inplace=True)' or df[col] = df[col].method(value) instead, to perform the operation inplace on the original object.\n",
      "\n",
      "\n",
      "  df_merge['runtime'].fillna(median_runtime, inplace=True)\n",
      "/var/folders/79/rwrch1qx1y7bm5mc3hnnntw00000gn/T/ipykernel_66173/3967676929.py:12: FutureWarning: A value is trying to be set on a copy of a DataFrame or Series through chained assignment using an inplace method.\n",
      "The behavior will change in pandas 3.0. This inplace method will never work because the intermediate object on which we are setting values always behaves as a copy.\n",
      "\n",
      "For example, when doing 'df[col].method(value, inplace=True)', try using 'df.method({col: value}, inplace=True)' or df[col] = df[col].method(value) instead, to perform the operation inplace on the original object.\n",
      "\n",
      "\n",
      "  df_merge['tagline'].fillna('Not available', inplace=True)\n"
     ]
    }
   ],
   "source": [
    "# Se elimina la columna 'homepage'\n",
    "df_merge.drop(['homepage'], axis=1, inplace=True)\n",
    "\n",
    "# Se eliminan las filas con valores nulos en 'overview' y 'release_date'\n",
    "df_merge.dropna(subset=['overview', 'release_date'], inplace=True)\n",
    "\n",
    "# Se reemplazan los valores nulos en 'runtime' con la mediana\n",
    "median_runtime = df_merge['runtime'].median()\n",
    "df_merge['runtime'].fillna(median_runtime, inplace=True)\n",
    "\n",
    "# Se reemplazan los valores nulos en 'tagline' con 'Not available'\n",
    "df_merge['tagline'].fillna('Not available', inplace=True)"
   ]
  },
  {
   "cell_type": "code",
   "execution_count": 10,
   "id": "a13838fe-d425-49e0-a976-a6127e40a132",
   "metadata": {},
   "outputs": [
    {
     "name": "stdout",
     "output_type": "stream",
     "text": [
      "Número de valores nulos por columna:\n",
      "Series([], dtype: int64)\n"
     ]
    }
   ],
   "source": [
    "# Verificación del tratamiento de nulos\n",
    "null_counts = df_merge.isnull().sum()\n",
    "print(\"Número de valores nulos por columna:\")\n",
    "print(null_counts[null_counts > 0])"
   ]
  },
  {
   "cell_type": "markdown",
   "id": "b7d59f5f-dc7c-4b20-a940-8873df305495",
   "metadata": {},
   "source": [
    "#### Valores atípicos"
   ]
  },
  {
   "cell_type": "code",
   "execution_count": 11,
   "id": "8cb9ce26-1776-49e0-9b5b-50b0553e8b22",
   "metadata": {},
   "outputs": [
    {
     "data": {
      "image/png": "[encoded data removed]",
      "text/plain": [
       "<Figure size 1500x800 with 1 Axes>"
      ]
     },
     "metadata": {},
     "output_type": "display_data"
    }
   ],
   "source": [
    "# Visualizar valores atípicos\n",
    "plt.figure(figsize=(15, 8))\n",
    "sns.boxplot(x=\"variable\", y=\"value\", data=pd.melt(df_merge[['budget', 'revenue', 'runtime', 'popularity', 'vote_average', 'vote_count']]))\n",
    "plt.title(\"Visualización de valores atípicos\")\n",
    "plt.xticks(rotation=45)\n",
    "plt.show()"
   ]
  },
  {
   "cell_type": "code",
   "execution_count": 12,
   "id": "8bafeb97-1e6b-4b80-9c9c-f16571d89148",
   "metadata": {},
   "outputs": [
    {
     "data": {
      "image/png": "[encoded data removed]",
      "text/plain": [
       "<Figure size 1500x800 with 2 Axes>"
      ]
     },
     "metadata": {},
     "output_type": "display_data"
    }
   ],
   "source": [
    "# Visualización con Boxplot y Scatter Plot para 'revenue'\n",
    "plt.figure(figsize=(15, 8))\n",
    "\n",
    "# Boxplot\n",
    "plt.subplot(1, 2, 1)\n",
    "sns.boxplot(x=df_merge['revenue'])\n",
    "plt.title(\"Boxplot de 'revenue'\")\n",
    "\n",
    "# Scatter Plot\n",
    "plt.subplot(1, 2, 2)\n",
    "plt.scatter(x=df_merge.index, y=df_merge['revenue'])\n",
    "plt.title(\"Scatter Plot de 'revenue'\")\n",
    "plt.xlabel(\"Índice\")\n",
    "plt.ylabel(\"Revenue\")\n",
    "plt.show()"
   ]
  },
  {
   "cell_type": "markdown",
   "id": "ac032bdf-69e0-4b71-aff2-f6de9a53302e",
   "metadata": {},
   "source": [
    "Parece que en la variable 'revenue' hay un valor muy alto. Se va a analizar dicho registro:"
   ]
  },
  {
   "cell_type": "code",
   "execution_count": 13,
   "id": "5a1d9d2c-3be5-4540-a951-007fce7c82e6",
   "metadata": {},
   "outputs": [
    {
     "data": {
      "text/html": [
       "<div>\n",
       "<style scoped>\n",
       "    .dataframe tbody tr th:only-of-type {\n",
       "        vertical-align: middle;\n",
       "    }\n",
       "\n",
       "    .dataframe tbody tr th {\n",
       "        vertical-align: top;\n",
       "    }\n",
       "\n",
       "    .dataframe thead th {\n",
       "        text-align: right;\n",
       "    }\n",
       "</style>\n",
       "<table border=\"1\" class=\"dataframe\">\n",
       "  <thead>\n",
       "    <tr style=\"text-align: right;\">\n",
       "      <th></th>\n",
       "      <th>budget</th>\n",
       "      <th>genres</th>\n",
       "      <th>id</th>\n",
       "      <th>keywords</th>\n",
       "      <th>original_language</th>\n",
       "      <th>original_title</th>\n",
       "      <th>overview</th>\n",
       "      <th>popularity</th>\n",
       "      <th>production_companies</th>\n",
       "      <th>production_countries</th>\n",
       "      <th>release_date</th>\n",
       "      <th>revenue</th>\n",
       "      <th>runtime</th>\n",
       "      <th>spoken_languages</th>\n",
       "      <th>status</th>\n",
       "      <th>tagline</th>\n",
       "      <th>title</th>\n",
       "      <th>vote_average</th>\n",
       "      <th>vote_count</th>\n",
       "      <th>cast</th>\n",
       "      <th>crew</th>\n",
       "    </tr>\n",
       "  </thead>\n",
       "  <tbody>\n",
       "    <tr>\n",
       "      <th>0</th>\n",
       "      <td>237000000</td>\n",
       "      <td>[{\"id\": 28, \"name\": \"Action\"}, {\"id\": 12, \"nam...</td>\n",
       "      <td>19995</td>\n",
       "      <td>[{\"id\": 1463, \"name\": \"culture clash\"}, {\"id\":...</td>\n",
       "      <td>en</td>\n",
       "      <td>Avatar</td>\n",
       "      <td>In the 22nd century, a paraplegic Marine is di...</td>\n",
       "      <td>150.437577</td>\n",
       "      <td>[{\"name\": \"Ingenious Film Partners\", \"id\": 289...</td>\n",
       "      <td>[{\"iso_3166_1\": \"US\", \"name\": \"United States o...</td>\n",
       "      <td>2009-12-10</td>\n",
       "      <td>2787965087</td>\n",
       "      <td>162.0</td>\n",
       "      <td>[{\"iso_639_1\": \"en\", \"name\": \"English\"}, {\"iso...</td>\n",
       "      <td>Released</td>\n",
       "      <td>Enter the World of Pandora.</td>\n",
       "      <td>Avatar</td>\n",
       "      <td>7.2</td>\n",
       "      <td>11800</td>\n",
       "      <td>[{\"cast_id\": 242, \"character\": \"Jake Sully\", \"...</td>\n",
       "      <td>[{\"credit_id\": \"52fe48009251416c750aca23\", \"de...</td>\n",
       "    </tr>\n",
       "  </tbody>\n",
       "</table>\n",
       "</div>"
      ],
      "text/plain": [
       "      budget                                             genres     id  \\\n",
       "0  237000000  [{\"id\": 28, \"name\": \"Action\"}, {\"id\": 12, \"nam...  19995   \n",
       "\n",
       "                                            keywords original_language  \\\n",
       "0  [{\"id\": 1463, \"name\": \"culture clash\"}, {\"id\":...                en   \n",
       "\n",
       "  original_title                                           overview  \\\n",
       "0         Avatar  In the 22nd century, a paraplegic Marine is di...   \n",
       "\n",
       "   popularity                               production_companies  \\\n",
       "0  150.437577  [{\"name\": \"Ingenious Film Partners\", \"id\": 289...   \n",
       "\n",
       "                                production_countries release_date     revenue  \\\n",
       "0  [{\"iso_3166_1\": \"US\", \"name\": \"United States o...   2009-12-10  2787965087   \n",
       "\n",
       "   runtime                                   spoken_languages    status  \\\n",
       "0    162.0  [{\"iso_639_1\": \"en\", \"name\": \"English\"}, {\"iso...  Released   \n",
       "\n",
       "                       tagline   title  vote_average  vote_count  \\\n",
       "0  Enter the World of Pandora.  Avatar           7.2       11800   \n",
       "\n",
       "                                                cast  \\\n",
       "0  [{\"cast_id\": 242, \"character\": \"Jake Sully\", \"...   \n",
       "\n",
       "                                                crew  \n",
       "0  [{\"credit_id\": \"52fe48009251416c750aca23\", \"de...  "
      ]
     },
     "execution_count": 13,
     "metadata": {},
     "output_type": "execute_result"
    }
   ],
   "source": [
    "revenue_max = df_merge['revenue'].max()\n",
    "\n",
    "df_merge[df_merge['revenue'] == revenue_max]"
   ]
  },
  {
   "cell_type": "markdown",
   "id": "6f19cea3-91bb-4d2f-b32d-d02a10f1c469",
   "metadata": {},
   "source": [
    "Dicho valor corresponde a la película Avatar, siendo esta una de las películas más taquillera de la historia, por lo que dicho valor tan alto es válido y no se va a eliminar"
   ]
  },
  {
   "cell_type": "markdown",
   "id": "1b98ae19-67ad-4c3d-a5c0-87a88977385a",
   "metadata": {},
   "source": [
    "#### Filtro para tener las películas con un número elevado de votos"
   ]
  },
  {
   "cell_type": "code",
   "execution_count": 14,
   "id": "100c417d-4b2c-42ed-ae05-2b39ba03f6a7",
   "metadata": {},
   "outputs": [
    {
     "name": "stdout",
     "output_type": "stream",
     "text": [
      "La mediana de la nota de las películas es de: 6.2\n",
      "La mediana de la cantidad de votos de las películas es de: 236.0\n"
     ]
    }
   ],
   "source": [
    "# Mediana de los votos y conteo\n",
    "print(f\"La mediana de la nota de las películas es de: {df_merge['vote_average'].median()}\")\n",
    "print(f\"La mediana de la cantidad de votos de las películas es de: {df_merge['vote_count'].median()}\")"
   ]
  },
  {
   "cell_type": "markdown",
   "id": "e7a1e989-0dbb-4a7f-9ee1-600805b8cf4b",
   "metadata": {},
   "source": [
    "Se van a mantener sólo las películas que tienen un mayor número de votos ya que tendrá calificaciones más fiables. Se usa el percentil 70"
   ]
  },
  {
   "cell_type": "code",
   "execution_count": 15,
   "id": "e8773590-bed4-473e-ab9a-9e32ad4e0801",
   "metadata": {},
   "outputs": [
    {
     "name": "stdout",
     "output_type": "stream",
     "text": [
      "581.0\n"
     ]
    }
   ],
   "source": [
    "percentil_70 = df_merge['vote_count'].quantile(0.70)\n",
    "print(percentil_70)"
   ]
  },
  {
   "cell_type": "code",
   "execution_count": 16,
   "id": "ea807b1c-4910-4340-9479-a7ef0495d36c",
   "metadata": {},
   "outputs": [
    {
     "name": "stdout",
     "output_type": "stream",
     "text": [
      "La cantidad de películas que están dentro del percentil 70 son 1438\n"
     ]
    }
   ],
   "source": [
    "# Cantidad de películas dentro del percentil 70 más votado\n",
    "print(f\"La cantidad de películas que están dentro del percentil 70 son {len(df_merge[df_merge['vote_count']>percentil_70])}\")"
   ]
  },
  {
   "cell_type": "code",
   "execution_count": 17,
   "id": "0c1f34f6-b16a-441f-be18-2a5b7b4077fd",
   "metadata": {},
   "outputs": [],
   "source": [
    "# Se hace una copia del DataFrame con el filtro del percentil para no alterar el original\n",
    "df_merge_percentil = df_merge.copy().loc[df_merge['vote_count'] > percentil_70]"
   ]
  },
  {
   "cell_type": "markdown",
   "id": "49c443a3-e361-4e6f-bbb3-110d6fa15f43",
   "metadata": {},
   "source": [
    "#### 'original_title' vs 'title'"
   ]
  },
  {
   "cell_type": "code",
   "execution_count": 18,
   "id": "890c6f47-b725-4465-af91-5891fbb276b0",
   "metadata": {
    "scrolled": true
   },
   "outputs": [
    {
     "name": "stdout",
     "output_type": "stream",
     "text": [
      "Índice 215: 'original_title' (4: Rise of the Silver Surfer) es diferente de 'title' (Fantastic 4: Rise of the Silver Surfer)\n",
      "Índice 488: 'original_title' (Arthur et les Minimoys) es diferente de 'title' (Arthur and the Invisibles)\n",
      "Índice 1136: 'original_title' (英雄) es diferente de 'title' (Hero)\n",
      "Índice 1255: 'original_title' (Lo imposible) es diferente de 'title' (The Impossible)\n",
      "Índice 1260: 'original_title' (Le fabuleux destin d'Amélie Poulain) es diferente de 'title' (Amélie)\n",
      "Índice 1471: 'original_title' (崖の上のポニョ) es diferente de 'title' (Ponyo)\n",
      "Índice 1761: 'original_title' (The Neverending Story) es diferente de 'title' (The NeverEnding Story)\n",
      "Índice 1945: 'original_title' (La migliore offerta) es diferente de 'title' (The Best Offer)\n",
      "Índice 1987: 'original_title' (ハウルの動く城) es diferente de 'title' (Howl's Moving Castle)\n",
      "Índice 2184: 'original_title' (功夫) es diferente de 'title' (Kung Fu Hustle)\n",
      "Índice 2247: 'original_title' (もののけ姫) es diferente de 'title' (Princess Mononoke)\n",
      "Índice 2294: 'original_title' (千と千尋の神隠し) es diferente de 'title' (Spirited Away)\n",
      "Índice 2413: 'original_title' (Saw 3D) es diferente de 'title' (Saw: The Final Chapter)\n",
      "Índice 2465: 'original_title' (El laberinto del fauno) es diferente de 'title' (Pan's Labyrinth)\n",
      "Índice 2497: 'original_title' (Bienvenue chez les ch'tis) es diferente de 'title' (Welcome to the Sticks)\n",
      "Índice 2515: 'original_title' (卧虎藏龙) es diferente de 'title' (Crouching Tiger, Hidden Dragon)\n",
      "Índice 2528: 'original_title' (Jackass Presents: Bad Grandpa) es diferente de 'title' (Bad Grandpa)\n",
      "Índice 2654: 'original_title' (Autómata) es diferente de 'title' (Automata)\n",
      "Índice 2724: 'original_title' (Der Untergang) es diferente de 'title' (Downfall)\n",
      "Índice 2881: 'original_title' (La grande bellezza) es diferente de 'title' (The Great Beauty)\n",
      "Índice 2974: 'original_title' (La Famille Bélier) es diferente de 'title' (The Bélier Family)\n",
      "Índice 3296: 'original_title' (アキラ) es diferente de 'title' (Akira)\n",
      "Índice 3330: 'original_title' (Die Welle) es diferente de 'title' (The Wave)\n",
      "Índice 3622: 'original_title' (C'era una volta il West) es diferente de 'title' (Once Upon a Time in the West)\n",
      "Índice 3761: 'original_title' (El orfanato) es diferente de 'title' (The Orphanage)\n",
      "Índice 3839: 'original_title' (El secreto de sus ojos) es diferente de 'title' (The Secret in Their Eyes)\n",
      "Índice 3845: 'original_title' (Trolljegeren) es diferente de 'title' (Troll Hunter)\n",
      "Índice 3866: 'original_title' (Cidade de Deus) es diferente de 'title' (City of God)\n",
      "Índice 3870: 'original_title' (Jagten) es diferente de 'title' (The Hunt)\n",
      "Índice 3940: 'original_title' (올드보이) es diferente de 'title' (Oldboy)\n",
      "Índice 4077: 'original_title' (Mad Max 2) es diferente de 'title' (Mad Max 2: The Road Warrior)\n",
      "Índice 4081: 'original_title' (Das Leben der Anderen) es diferente de 'title' (The Lives of Others)\n",
      "Índice 4189: 'original_title' (Lola rennt) es diferente de 'title' (Run Lola Run)\n",
      "Índice 4302: 'original_title' (Il buono, il brutto, il cattivo) es diferente de 'title' (The Good, the Bad and the Ugly)\n",
      "Índice 4326: 'original_title' (Serbuan maut) es diferente de 'title' (The Raid)\n",
      "Índice 4535: 'original_title' (七人の侍) es diferente de 'title' (Seven Samurai)\n",
      "Índice 4672: 'original_title' (Per un pugno di dollari) es diferente de 'title' (A Fistful of Dollars)\n"
     ]
    }
   ],
   "source": [
    "# Bucle para comparar 'original_title' y 'title'\n",
    "for index, row in df_merge_percentil.iterrows():\n",
    "    original_title = row['original_title']\n",
    "    title = row['title']\n",
    "    \n",
    "    # Verificar si 'original_title' y 'title' son iguales\n",
    "    if original_title != title:\n",
    "        print(f\"Índice {index}: 'original_title' ({original_title}) es diferente de 'title' ({title})\")"
   ]
  },
  {
   "cell_type": "code",
   "execution_count": 19,
   "id": "df84e22e-ecd5-492e-9a25-458cf78005bd",
   "metadata": {},
   "outputs": [
    {
     "data": {
      "text/html": [
       "<div>\n",
       "<style scoped>\n",
       "    .dataframe tbody tr th:only-of-type {\n",
       "        vertical-align: middle;\n",
       "    }\n",
       "\n",
       "    .dataframe tbody tr th {\n",
       "        vertical-align: top;\n",
       "    }\n",
       "\n",
       "    .dataframe thead th {\n",
       "        text-align: right;\n",
       "    }\n",
       "</style>\n",
       "<table border=\"1\" class=\"dataframe\">\n",
       "  <thead>\n",
       "    <tr style=\"text-align: right;\">\n",
       "      <th></th>\n",
       "      <th>original_title</th>\n",
       "      <th>title</th>\n",
       "    </tr>\n",
       "  </thead>\n",
       "  <tbody>\n",
       "    <tr>\n",
       "      <th>1136</th>\n",
       "      <td>英雄</td>\n",
       "      <td>Hero</td>\n",
       "    </tr>\n",
       "    <tr>\n",
       "      <th>1471</th>\n",
       "      <td>崖の上のポニョ</td>\n",
       "      <td>Ponyo</td>\n",
       "    </tr>\n",
       "    <tr>\n",
       "      <th>1987</th>\n",
       "      <td>ハウルの動く城</td>\n",
       "      <td>Howl's Moving Castle</td>\n",
       "    </tr>\n",
       "    <tr>\n",
       "      <th>2515</th>\n",
       "      <td>卧虎藏龙</td>\n",
       "      <td>Crouching Tiger, Hidden Dragon</td>\n",
       "    </tr>\n",
       "  </tbody>\n",
       "</table>\n",
       "</div>"
      ],
      "text/plain": [
       "     original_title                           title\n",
       "1136             英雄                            Hero\n",
       "1471        崖の上のポニョ                           Ponyo\n",
       "1987        ハウルの動く城            Howl's Moving Castle\n",
       "2515           卧虎藏龙  Crouching Tiger, Hidden Dragon"
      ]
     },
     "execution_count": 19,
     "metadata": {},
     "output_type": "execute_result"
    }
   ],
   "source": [
    "# Lista de índices que quieres visualizar\n",
    "indices_a_visualizar = [1136, 1471, 1987, 2515]\n",
    "\n",
    "# Utilizar el método loc para seleccionar los registros en esos índices\n",
    "df_merge_percentil[['original_title', 'title']].loc[indices_a_visualizar]"
   ]
  },
  {
   "cell_type": "markdown",
   "id": "47bb646a-7e51-4cdc-a3d1-cf67d837bce7",
   "metadata": {},
   "source": [
    "Dado que la columna 'original_title' contiene caracteres especiales o está en otro idioma al inglés en algunos de los registros, se opta por eliminar dicha columna y mantener la columna 'title'"
   ]
  },
  {
   "cell_type": "code",
   "execution_count": 20,
   "id": "b114ebab-79e6-4595-b9e9-e390748210a3",
   "metadata": {},
   "outputs": [],
   "source": [
    "# Eliminar la columna 'original_title'\n",
    "df_merge_percentil.drop(['original_title'], axis=1, inplace=True)"
   ]
  },
  {
   "cell_type": "markdown",
   "id": "baffdc4b-aaea-44f3-98d9-aa9da02d026c",
   "metadata": {},
   "source": [
    "#### Exploración más detallada de las columnas"
   ]
  },
  {
   "cell_type": "code",
   "execution_count": 21,
   "id": "7c02e0e1-e949-43c7-b4d3-0090b0fea90f",
   "metadata": {
    "scrolled": true
   },
   "outputs": [
    {
     "name": "stdout",
     "output_type": "stream",
     "text": [
      "Explorando la columna: genres\n",
      "\n",
      "Algunos valores de la columna:\n",
      "['[{\"id\": 28, \"name\": \"Action\"}, {\"id\": 878, \"name\": \"Science Fiction\"}, {\"id\": 12, \"name\": \"Adventure\"}]', '[{\"id\": 18, \"name\": \"Drama\"}, {\"id\": 10749, \"name\": \"Romance\"}]', '[{\"id\": 18, \"name\": \"Drama\"}, {\"id\": 10402, \"name\": \"Music\"}]', '[{\"id\": 35, \"name\": \"Comedy\"}, {\"id\": 10749, \"name\": \"Romance\"}]', '[{\"id\": 16, \"name\": \"Animation\"}, {\"id\": 10751, \"name\": \"Family\"}]']\n",
      "\n",
      "Número total de valores únicos: 1175\n",
      "\n",
      "##################################################\n",
      "\n",
      "Explorando la columna: keywords\n",
      "\n",
      "Algunos valores de la columna:\n",
      "['[{\"id\": 4565, \"name\": \"dystopia\"}, {\"id\": 10891, \"name\": \"giant robot\"}, {\"id\": 11100, \"name\": \"giant monster\"}, {\"id\": 12332, \"name\": \"apocalypse\"}, {\"id\": 156395, \"name\": \"imax\"}, {\"id\": 179431, \"name\": \"duringcreditsstinger\"}, {\"id\": 209714, \"name\": \"3d\"}]', '[{\"id\": 933, \"name\": \"michigan\"}, {\"id\": 1228, \"name\": \"1970s\"}, {\"id\": 14751, \"name\": \"youth\"}, {\"id\": 18035, \"name\": \"family\"}, {\"id\": 187056, \"name\": \"woman director\"}]', '[{\"id\": 380, \"name\": \"brother brother relationship\"}, {\"id\": 740, \"name\": \"aids\"}, {\"id\": 796, \"name\": \"police brutality\"}, {\"id\": 897, \"name\": \"rap music\"}, {\"id\": 898, \"name\": \"hip-hop\"}, {\"id\": 1157, \"name\": \"wife husband relationship\"}, {\"id\": 2016, \"name\": \"vandalism\"}, {\"id\": 2231, \"name\": \"drug dealer\"}, {\"id\": 2334, \"name\": \"nightclub\"}, {\"id\": 2930, \"name\": \"freedom of speech\"}, {\"id\": 4108, \"name\": \"protest\"}, {\"id\": 4562, \"name\": \"rapper\"}, {\"id\": 4741, \"name\": \"recording contract\"}, {\"id\": 5626, \"name\": \"from rags to riches\"}, {\"id\": 6093, \"name\": \"assault\"}, {\"id\": 6564, \"name\": \"terminal illness\"}, {\"id\": 7312, \"name\": \"road trip\"}, {\"id\": 9672, \"name\": \"based on true story\"}, {\"id\": 9932, \"name\": \"feud\"}, {\"id\": 10726, \"name\": \"gang\"}, {\"id\": 10776, \"name\": \"marijuana\"}, {\"id\": 11148, \"name\": \"police chase\"}, {\"id\": 11612, \"name\": \"hospital\"}, {\"id\": 12425, \"name\": \"racism\"}, {\"id\": 12670, \"name\": \"los angeles\"}, {\"id\": 13142, \"name\": \"gangster\"}, {\"id\": 156158, \"name\": \"racial slur\"}, {\"id\": 157499, \"name\": \"mother son relationship\"}, {\"id\": 158111, \"name\": \"no opening credits\"}, {\"id\": 160497, \"name\": \"wrongful arrest\"}, {\"id\": 163764, \"name\": \"death of brother\"}, {\"id\": 169213, \"name\": \"milwaukee wisconsin\"}, {\"id\": 169590, \"name\": \"police raid\"}, {\"id\": 178036, \"name\": \"police harassment\"}, {\"id\": 178929, \"name\": \"detroit michigan\"}, {\"id\": 179431, \"name\": \"duringcreditsstinger\"}, {\"id\": 187903, \"name\": \"gangster rap\"}, {\"id\": 195162, \"name\": \"record company\"}, {\"id\": 208289, \"name\": \"1980s\"}, {\"id\": 217467, \"name\": \"music tour\"}, {\"id\": 217469, \"name\": \"reference to rodney king\"}, {\"id\": 217474, \"name\": \"intimidation by police\"}, {\"id\": 217475, \"name\": \"los angeles riots\"}, {\"id\": 217482, \"name\": \"compton california\"}]', '[{\"id\": 725, \"name\": \"lovesickness\"}, {\"id\": 2038, \"name\": \"love of one\\'s life\"}, {\"id\": 2398, \"name\": \"narration\"}, {\"id\": 4663, \"name\": \"lovers\"}, {\"id\": 5091, \"name\": \"kiss\"}, {\"id\": 5600, \"name\": \"daughter\"}, {\"id\": 5608, \"name\": \"affection\"}, {\"id\": 6192, \"name\": \"relation\"}, {\"id\": 6664, \"name\": \"make a match\"}, {\"id\": 7066, \"name\": \"sex education\"}, {\"id\": 14534, \"name\": \"relationship\"}, {\"id\": 15160, \"name\": \"divorce\"}, {\"id\": 15300, \"name\": \"father daughter relationship\"}, {\"id\": 224876, \"name\": \"past relationship\"}]', '[{\"id\": 131, \"name\": \"italy\"}, {\"id\": 2251, \"name\": \"lie\"}, {\"id\": 2343, \"name\": \"magic\"}, {\"id\": 2710, \"name\": \"fairy\"}, {\"id\": 3244, \"name\": \"pinocchio\"}, {\"id\": 3473, \"name\": \"carnival\"}, {\"id\": 4896, \"name\": \"wish\"}, {\"id\": 5202, \"name\": \"boy\"}, {\"id\": 5560, \"name\": \"nose\"}, {\"id\": 6300, \"name\": \"puppet\"}, {\"id\": 10336, \"name\": \"animation\"}, {\"id\": 10499, \"name\": \"pool\"}, {\"id\": 33674, \"name\": \"conscience\"}, {\"id\": 33675, \"name\": \"jackass\"}, {\"id\": 33676, \"name\": \"figaro\"}, {\"id\": 33677, \"name\": \"sneezing\"}, {\"id\": 187065, \"name\": \"toy comes to life\"}]']\n",
      "\n",
      "Número total de valores únicos: 4220\n",
      "\n",
      "##################################################\n",
      "\n",
      "Explorando la columna: production_companies\n",
      "\n",
      "Algunos valores de la columna:\n",
      "['[{\"name\": \"Legendary Pictures\", \"id\": 923}, {\"name\": \"Warner Bros.\", \"id\": 6194}, {\"name\": \"Disney Double Dare You (DDY)\", \"id\": 19750}, {\"name\": \"Indochina Productions\", \"id\": 19751}]', '[{\"name\": \"American Zoetrope\", \"id\": 70}]', '[{\"name\": \"New Line Cinema\", \"id\": 12}, {\"name\": \"Universal Pictures\", \"id\": 33}, {\"name\": \"Legendary Pictures\", \"id\": 923}, {\"name\": \"Cube Vision\", \"id\": 2780}, {\"name\": \"Broken Chair Flickz\", \"id\": 63924}, {\"name\": \"Crucial Films\", \"id\": 63925}]', '[{\"name\": \"Universal Pictures\", \"id\": 33}, {\"name\": \"StudioCanal\", \"id\": 694}, {\"name\": \"Working Title Films\", \"id\": 10163}, {\"name\": \"Ringerike Erste Filmproduktion\", \"id\": 49123}]', '[{\"name\": \"RKO Radio Pictures\", \"id\": 6}, {\"name\": \"Walt Disney Productions\", \"id\": 3166}]']\n",
      "\n",
      "Número total de valores únicos: 3695\n",
      "\n",
      "##################################################\n",
      "\n",
      "Explorando la columna: production_countries\n",
      "\n",
      "Algunos valores de la columna:\n",
      "['[{\"iso_3166_1\": \"US\", \"name\": \"United States of America\"}, {\"iso_3166_1\": \"CA\", \"name\": \"Canada\"}]', '[{\"iso_3166_1\": \"US\", \"name\": \"United States of America\"}]', '[{\"iso_3166_1\": \"US\", \"name\": \"United States of America\"}]', '[{\"iso_3166_1\": \"FR\", \"name\": \"France\"}, {\"iso_3166_1\": \"DE\", \"name\": \"Germany\"}, {\"iso_3166_1\": \"GB\", \"name\": \"United Kingdom\"}, {\"iso_3166_1\": \"US\", \"name\": \"United States of America\"}]', '[{\"iso_3166_1\": \"US\", \"name\": \"United States of America\"}]']\n",
      "\n",
      "Número total de valores únicos: 469\n",
      "\n",
      "##################################################\n",
      "\n",
      "Explorando la columna: spoken_languages\n",
      "\n",
      "Algunos valores de la columna:\n",
      "['[{\"iso_639_1\": \"en\", \"name\": \"English\"}]', '[{\"iso_639_1\": \"en\", \"name\": \"English\"}]', '[{\"iso_639_1\": \"en\", \"name\": \"English\"}]', '[{\"iso_639_1\": \"en\", \"name\": \"English\"}]', '[{\"iso_639_1\": \"en\", \"name\": \"English\"}]']\n",
      "\n",
      "Número total de valores únicos: 544\n",
      "\n",
      "##################################################\n",
      "\n",
      "Explorando la columna: cast\n",
      "\n",
      "Algunos valores de la columna:\n",
      "['[{\"cast_id\": 2, \"character\": \"Stacker Pentecost\", \"credit_id\": \"52fe47a0c3a368484e0d1845\", \"gender\": 2, \"id\": 17605, \"name\": \"Idris Elba\", \"order\": 0}, {\"cast_id\": 3, \"character\": \"Raleigh Becket\", \"credit_id\": \"52fe47a0c3a368484e0d1849\", \"gender\": 2, \"id\": 56365, \"name\": \"Charlie Hunnam\", \"order\": 1}, {\"cast_id\": 4, \"character\": \"Dr. Newton Geiszler\", \"credit_id\": \"52fe47a0c3a368484e0d184d\", \"gender\": 2, \"id\": 95101, \"name\": \"Charlie Day\", \"order\": 2}, {\"cast_id\": 6, \"character\": \"Hannibal Chau\", \"credit_id\": \"52fe47a0c3a368484e0d1857\", \"gender\": 2, \"id\": 2372, \"name\": \"Ron Perlman\", \"order\": 3}, {\"cast_id\": 7, \"character\": \"Gottlieb\", \"credit_id\": \"52fe47a0c3a368484e0d185b\", \"gender\": 0, \"id\": 39659, \"name\": \"Burn Gorman\", \"order\": 4}, {\"cast_id\": 8, \"character\": \"Mako Mori\", \"credit_id\": \"52fe47a0c3a368484e0d185f\", \"gender\": 0, \"id\": 18054, \"name\": \"Rinko Kikuchi\", \"order\": 5}, {\"cast_id\": 9, \"character\": \"Herc Hansen\", \"credit_id\": \"52fe47a0c3a368484e0d1863\", \"gender\": 2, \"id\": 94864, \"name\": \"Max Martini\", \"order\": 6}, {\"cast_id\": 10, \"character\": \"Aleksis Kaidanovsky\", \"credit_id\": \"52fe47a0c3a368484e0d1867\", \"gender\": 2, \"id\": 112692, \"name\": \"Robert Maillet\", \"order\": 7}, {\"cast_id\": 11, \"character\": \"Chuck Hansen\", \"credit_id\": \"52fe47a0c3a368484e0d186b\", \"gender\": 2, \"id\": 1038379, \"name\": \"Robert Kazinsky\", \"order\": 8}, {\"cast_id\": 12, \"character\": \"Tommy T\", \"credit_id\": \"52fe47a0c3a368484e0d186f\", \"gender\": 2, \"id\": 118590, \"name\": \"Larry Joe Campbell\", \"order\": 9}, {\"cast_id\": 13, \"character\": \"Miles\", \"credit_id\": \"52fe47a0c3a368484e0d1873\", \"gender\": 2, \"id\": 15376, \"name\": \"Brad William Henke\", \"order\": 10}, {\"cast_id\": 14, \"character\": \"Ops Tendo Choi\", \"credit_id\": \"52fe47a0c3a368484e0d1877\", \"gender\": 2, \"id\": 5365, \"name\": \"Clifton Collins Jr\", \"order\": 11}, {\"cast_id\": 15, \"character\": \"Yancy Becket\", \"credit_id\": \"52fe47a0c3a368484e0d187b\", \"gender\": 2, \"id\": 142193, \"name\": \"Diego Klattenhoff\", \"order\": 12}, {\"cast_id\": 16, \"character\": \"Wizened Man\", \"credit_id\": \"52fe47a0c3a368484e0d187f\", \"gender\": 2, \"id\": 10847, \"name\": \"Santiago Segura\", \"order\": 13}, {\"cast_id\": 38, \"character\": \"Raleigh and Yancy\\'s Mom\", \"credit_id\": \"54e49936c3a368486f003000\", \"gender\": 0, \"id\": 1428550, \"name\": \"Jane Watson\", \"order\": 14}, {\"cast_id\": 44, \"character\": \"Hannibal Chau Thug\", \"credit_id\": \"566109bcc3a36875e00062eb\", \"gender\": 0, \"id\": 1480855, \"name\": \"Jung-Yul Kim\", \"order\": 15}, {\"cast_id\": 45, \"character\": \"Lt. A. Kaidanovsky\", \"credit_id\": \"566109e0c3a36875e2005bd4\", \"gender\": 1, \"id\": 83423, \"name\": \"Heather Doerksen\", \"order\": 16}, {\"cast_id\": 46, \"character\": \"Officer\", \"credit_id\": \"56610a10c3a36875f40057a1\", \"gender\": 2, \"id\": 5925, \"name\": \"Joshua Peace\", \"order\": 17}, {\"cast_id\": 49, \"character\": \"Young Mako\", \"credit_id\": \"57e52b3a9251411ab00024f0\", \"gender\": 0, \"id\": 559416, \"name\": \"Mana Ashida\", \"order\": 18}, {\"cast_id\": 50, \"character\": \"Captain Merrit\", \"credit_id\": \"57e52bc3c3a36826a7002c30\", \"gender\": 2, \"id\": 86237, \"name\": \"Joe Pingue\", \"order\": 19}, {\"cast_id\": 51, \"character\": \"McTighe\", \"credit_id\": \"57e52e8ac3a368264b0032d4\", \"gender\": 0, \"id\": 1226806, \"name\": \"Milton Barnes\", \"order\": 20}, {\"cast_id\": 52, \"character\": \"1st Officer\", \"credit_id\": \"57e52f059251411af40028a5\", \"gender\": 2, \"id\": 100464, \"name\": \"Brian Frank\", \"order\": 21}, {\"cast_id\": 53, \"character\": \"Gipsy Danger AI (voice)\", \"credit_id\": \"57e52f64c3a3684ca5004c02\", \"gender\": 0, \"id\": 1683877, \"name\": \"Ellen McLain\", \"order\": 22}, {\"cast_id\": 54, \"character\": \"Old Man on Beach\", \"credit_id\": \"57e53568c3a3684ca5004ea6\", \"gender\": 2, \"id\": 4569, \"name\": \"David Fox\", \"order\": 23}, {\"cast_id\": 55, \"character\": \"Child\", \"credit_id\": \"57e535f3c3a36841e5002d2a\", \"gender\": 2, \"id\": 1255174, \"name\": \"Jake Goodman\", \"order\": 24}, {\"cast_id\": 56, \"character\": \"American UN Representative\", \"credit_id\": \"57e53821c3a36841e5002ea0\", \"gender\": 2, \"id\": 41465, \"name\": \"Robin Thomas\", \"order\": 25}, {\"cast_id\": 57, \"character\": \"British UN Representative\", \"credit_id\": \"57e53df89251411ab0002e05\", \"gender\": 2, \"id\": 1379395, \"name\": \"Julian Barnes\", \"order\": 26}, {\"cast_id\": 58, \"character\": \"Canadian UN Representative\", \"credit_id\": \"57e53e73c3a36841ae002b1e\", \"gender\": 2, \"id\": 46906, \"name\": \"David Richmond-Peck\", \"order\": 27}, {\"cast_id\": 59, \"character\": \"Engineer\", \"credit_id\": \"57e53fb592514106020038bf\", \"gender\": 2, \"id\": 224144, \"name\": \"Sebastian Pigott\", \"order\": 28}, {\"cast_id\": 60, \"character\": \"Chinese Girl in Anti-Kaiju Refuge\", \"credit_id\": \"57e541309251410611003888\", \"gender\": 0, \"id\": 1683916, \"name\": \"Victoria Marie\", \"order\": 29}, {\"cast_id\": 61, \"character\": \"TV Reporter\", \"credit_id\": \"57e543c1c3a368264b003e61\", \"gender\": 0, \"id\": 1176955, \"name\": \"J.C. Kenny\", \"order\": 30}, {\"cast_id\": 62, \"character\": \"Raleigh and Yancy\\'s Dad\", \"credit_id\": \"57e546139251410602003bd8\", \"gender\": 2, \"id\": 1683922, \"name\": \"Robert Morse\", \"order\": 31}, {\"cast_id\": 63, \"character\": \"Saltchuck Crew\", \"credit_id\": \"57e5476ac3a36826a70038a4\", \"gender\": 2, \"id\": 59613, \"name\": \"Mike Chute\", \"order\": 32}, {\"cast_id\": 64, \"character\": \"Saltchuck Crew\", \"credit_id\": \"57e54bb4c3a3684ca50058e3\", \"gender\": 0, \"id\": 1683931, \"name\": \"Duncan McLeod\", \"order\": 33}, {\"cast_id\": 65, \"character\": \"Saltchuck Crew\", \"credit_id\": \"57e5502c925141064e00400e\", \"gender\": 0, \"id\": 1517893, \"name\": \"Louis Paquette\", \"order\": 34}, {\"cast_id\": 66, \"character\": \"Saltchuck Crew\", \"credit_id\": \"57e5506ac3a36826a7003c65\", \"gender\": 2, \"id\": 59198, \"name\": \"Matthew G. Taylor\", \"order\": 35}, {\"cast_id\": 67, \"character\": \"UN Representative\", \"credit_id\": \"57e550bcc3a368264b0044c7\", \"gender\": 2, \"id\": 1239394, \"name\": \"Frank Nakashima\", \"order\": 36}, {\"cast_id\": 69, \"character\": \"UN Representative\", \"credit_id\": \"57e550f39251411aad0036a8\", \"gender\": 0, \"id\": 1683938, \"name\": \"Terry Belleville\", \"order\": 38}, {\"cast_id\": 70, \"character\": \"UN Representative\", \"credit_id\": \"57e551bd9251411ab00036e3\", \"gender\": 0, \"id\": 1683941, \"name\": \"Farzad Sadrian\", \"order\": 39}, {\"cast_id\": 71, \"character\": \"UN Representative\", \"credit_id\": \"57e55212c3a36841e5003b78\", \"gender\": 0, \"id\": 125579, \"name\": \"Mishu Vellani\", \"order\": 40}, {\"cast_id\": 72, \"character\": \"UN Representative\", \"credit_id\": \"57e552559251410611004014\", \"gender\": 0, \"id\": 231140, \"name\": \"Clive Walton\", \"order\": 41}, {\"cast_id\": 73, \"character\": \"Young Mako\\'s Father\", \"credit_id\": \"57e5529ac3a368416500374c\", \"gender\": 2, \"id\": 1003550, \"name\": \"Peter Kosaka\", \"order\": 42}, {\"cast_id\": 74, \"character\": \"Young Mako\\'s Mother\", \"credit_id\": \"57e552d5c3a368422500341a\", \"gender\": 0, \"id\": 1683943, \"name\": \"Yiren Stark\", \"order\": 43}]', '[{\"cast_id\": 17, \"character\": \"Mr. Lisbon\", \"credit_id\": \"52fe42f8c3a36847f803091f\", \"gender\": 2, \"id\": 4512, \"name\": \"James Woods\", \"order\": 0}, {\"cast_id\": 18, \"character\": \"Mrs. Lisbon\", \"credit_id\": \"52fe42f8c3a36847f8030923\", \"gender\": 1, \"id\": 3391, \"name\": \"Kathleen Turner\", \"order\": 1}, {\"cast_id\": 16, \"character\": \"Lux Lisbon\", \"credit_id\": \"52fe42f8c3a36847f803091b\", \"gender\": 1, \"id\": 205, \"name\": \"Kirsten Dunst\", \"order\": 2}, {\"cast_id\": 19, \"character\": \"Trip Fontaine\", \"credit_id\": \"52fe42f8c3a36847f8030927\", \"gender\": 2, \"id\": 2299, \"name\": \"Josh Hartnett\", \"order\": 3}, {\"cast_id\": 38, \"character\": \"Adult Trip Fontaine\", \"credit_id\": \"5923dfe9c3a368044d009b88\", \"gender\": 2, \"id\": 60650, \"name\": \"Michael Par\\\\u00e9\", \"order\": 4}, {\"cast_id\": 25, \"character\": \"Father Moody\", \"credit_id\": \"52fe42f8c3a36847f803093b\", \"gender\": 2, \"id\": 349, \"name\": \"Scott Glenn\", \"order\": 5}, {\"cast_id\": 26, \"character\": \"Dr. Horniker\", \"credit_id\": \"52fe42f8c3a36847f803093f\", \"gender\": 2, \"id\": 518, \"name\": \"Danny DeVito\", \"order\": 6}, {\"cast_id\": 20, \"character\": \"Mary Lisbon\", \"credit_id\": \"52fe42f8c3a36847f803092b\", \"gender\": 1, \"id\": 17236, \"name\": \"A.J. Cook\", \"order\": 7}, {\"cast_id\": 32, \"character\": \"Cecilia Lisbon\", \"credit_id\": \"52fe42f8c3a36847f8030957\", \"gender\": 1, \"id\": 204997, \"name\": \"Hanna Hall\", \"order\": 8}, {\"cast_id\": 22, \"character\": \"Therese Lisbon\", \"credit_id\": \"52fe42f8c3a36847f803092f\", \"gender\": 0, \"id\": 17238, \"name\": \"Leslie Hayman\", \"order\": 9}, {\"cast_id\": 23, \"character\": \"Bonnie Lisbon\", \"credit_id\": \"52fe42f8c3a36847f8030933\", \"gender\": 1, \"id\": 17239, \"name\": \"Chelse Swain\", \"order\": 10}, {\"cast_id\": 29, \"character\": \"Tim Weiner\", \"credit_id\": \"52fe42f8c3a36847f803094b\", \"gender\": 2, \"id\": 17243, \"name\": \"Jonathan Tucker\", \"order\": 11}, {\"cast_id\": 39, \"character\": \"Parkie Denton\", \"credit_id\": \"5923e003c3a36804a30093a6\", \"gender\": 0, \"id\": 1239453, \"name\": \"Noah \\\\\"40\\\\\" Shebib\", \"order\": 12}, {\"cast_id\": 24, \"character\": \"Chase Buell\", \"credit_id\": \"52fe42f8c3a36847f8030937\", \"gender\": 2, \"id\": 17240, \"name\": \"Anthony DeSimone\", \"order\": 13}, {\"cast_id\": 27, \"character\": \"David Barker\", \"credit_id\": \"52fe42f8c3a36847f8030943\", \"gender\": 0, \"id\": 17241, \"name\": \"Lee Kagan\", \"order\": 14}, {\"cast_id\": 28, \"character\": \"Paul Baldino\", \"credit_id\": \"52fe42f8c3a36847f8030947\", \"gender\": 2, \"id\": 17242, \"name\": \"Robert Schwartzman\", \"order\": 15}, {\"cast_id\": 30, \"character\": \"Joe Hill Conley\", \"credit_id\": \"52fe42f8c3a36847f803094f\", \"gender\": 2, \"id\": 17244, \"name\": \"Hayden Christensen\", \"order\": 16}, {\"cast_id\": 40, \"character\": \"Amy Schraff\", \"credit_id\": \"5923e01ec3a3680426009fea\", \"gender\": 1, \"id\": 110548, \"name\": \"Kristin Fairlie\", \"order\": 17}, {\"cast_id\": 31, \"character\": \"Narrator\", \"credit_id\": \"52fe42f8c3a36847f8030953\", \"gender\": 2, \"id\": 1771, \"name\": \"Giovanni Ribisi\", \"order\": 18}, {\"cast_id\": 33, \"character\": \"Dominic Palazzolo\", \"credit_id\": \"52fe42f8c3a36847f803095b\", \"gender\": 2, \"id\": 81098, \"name\": \"Joe Dinicol\", \"order\": 19}]', '[{\"cast_id\": 13, \"character\": \"Ice Cube\", \"credit_id\": \"543193e40e0a264649003b50\", \"gender\": 0, \"id\": 1371398, \"name\": \"O\\'Shea Jackson Jr.\", \"order\": 0}, {\"cast_id\": 10, \"character\": \"Dr. Dre\", \"credit_id\": \"543193c0c3a36831ac003a58\", \"gender\": 2, \"id\": 1154054, \"name\": \"Corey Hawkins\", \"order\": 1}, {\"cast_id\": 26, \"character\": \"Eazy-E\", \"credit_id\": \"5578d58dc3a368092f00010f\", \"gender\": 0, \"id\": 1115984, \"name\": \"Jason Mitchell\", \"order\": 2}, {\"cast_id\": 14, \"character\": \"Dj Yella\", \"credit_id\": \"543193edc3a368117b002442\", \"gender\": 0, \"id\": 55091, \"name\": \"Neil Brown Jr.\", \"order\": 3}, {\"cast_id\": 3, \"character\": \"MC Ren\", \"credit_id\": \"5431936fc3a36831ac003a51\", \"gender\": 0, \"id\": 83860, \"name\": \"Aldis Hodge\", \"order\": 4}, {\"cast_id\": 36, \"character\": \"The D.O.C\", \"credit_id\": \"55e6b7fd9251410f130024b7\", \"gender\": 0, \"id\": 1503716, \"name\": \"Marlon Yates Jr.\", \"order\": 5}, {\"cast_id\": 9, \"character\": \"Suge Knight\", \"credit_id\": \"543193b60e0a265915002360\", \"gender\": 0, \"id\": 1371397, \"name\": \"R. Marcos Taylor\", \"order\": 6}, {\"cast_id\": 37, \"character\": \"Tomica\", \"credit_id\": \"55e6b7fd9251410f130024bd\", \"gender\": 0, \"id\": 1503717, \"name\": \"Carra Patterson\", \"order\": 7}, {\"cast_id\": 6, \"character\": \"Kim\", \"credit_id\": \"54319389c3a36831a6003aae\", \"gender\": 1, \"id\": 1253199, \"name\": \"Alexandra Shipp\", \"order\": 8}, {\"cast_id\": 2, \"character\": \"Jerry Heller\", \"credit_id\": \"543193660e0a2656e20023b1\", \"gender\": 2, \"id\": 13242, \"name\": \"Paul Giamatti\", \"order\": 9}, {\"cast_id\": 38, \"character\": \"Nicole\", \"credit_id\": \"55e6b7fec3a3685fa0001de3\", \"gender\": 1, \"id\": 1113461, \"name\": \"Elena Goode\", \"order\": 10}, {\"cast_id\": 39, \"character\": \"Tyree\", \"credit_id\": \"55e6b7fe9251410f1700249a\", \"gender\": 2, \"id\": 1442955, \"name\": \"Keith Powers\", \"order\": 11}, {\"cast_id\": 40, \"character\": \"Young Warren G.\", \"credit_id\": \"55e6b7fec3a3685f980027b6\", \"gender\": 0, \"id\": 1503718, \"name\": \"Joshua Brockington\", \"order\": 12}, {\"cast_id\": 41, \"character\": \"Warren G.\", \"credit_id\": \"55e6b7ff9251410f1700249d\", \"gender\": 0, \"id\": 1503719, \"name\": \"Sheldon A. Smith\", \"order\": 13}, {\"cast_id\": 4, \"character\": \"Snoop Dogg\", \"credit_id\": \"543193780e0a264643003a6d\", \"gender\": 2, \"id\": 1200864, \"name\": \"Keith Stanfield\", \"order\": 14}, {\"cast_id\": 42, \"character\": \"Jinx\", \"credit_id\": \"55e6b7ffc3a3685f850024f7\", \"gender\": 0, \"id\": 1503720, \"name\": \"Cleavon McClendon\", \"order\": 15}, {\"cast_id\": 15, \"character\": \"Lavetta\", \"credit_id\": \"543193f60e0a26591500236b\", \"gender\": 0, \"id\": 1371399, \"name\": \"Aeri\\\\u00e9l Miranda\", \"order\": 16}, {\"cast_id\": 43, \"character\": \"Verna Griffin\", \"credit_id\": \"55e6b7ff9251410f10002415\", \"gender\": 0, \"id\": 154798, \"name\": \"Lisa Renee Pitts\", \"order\": 17}, {\"cast_id\": 5, \"character\": \"Doris Jackson\", \"credit_id\": \"54319380c3a36811ef002419\", \"gender\": 0, \"id\": 1305249, \"name\": \"Angela Elayne Gibbs\", \"order\": 18}, {\"cast_id\": 44, \"character\": \"Hosea Jackson\", \"credit_id\": \"55e6b7ffc3a3685f9100232c\", \"gender\": 2, \"id\": 156532, \"name\": \"Bruce Beatty\", \"order\": 19}, {\"cast_id\": 45, \"character\": \"Lonzo Williams\", \"credit_id\": \"55e6b8009251410f07002334\", \"gender\": 0, \"id\": 8694, \"name\": \"Corey Reynolds\", \"order\": 20}, {\"cast_id\": 46, \"character\": \"Bryan Turner\", \"credit_id\": \"55e6b800c3a3685f87002366\", \"gender\": 2, \"id\": 965205, \"name\": \"Tate Ellington\", \"order\": 21}, {\"cast_id\": 47, \"character\": \"Chuck D\", \"credit_id\": \"55e6b800c3a3685f8e002212\", \"gender\": 0, \"id\": 1503721, \"name\": \"Rogelio Douglas Jr.\", \"order\": 22}, {\"cast_id\": 48, \"character\": \"Journalist #1\", \"credit_id\": \"55e6b801c3a3685f9e002326\", \"gender\": 2, \"id\": 167720, \"name\": \"Andrew Borba\", \"order\": 23}, {\"cast_id\": 49, \"character\": \"Journalist #2\", \"credit_id\": \"55e6b8019251410f0a002281\", \"gender\": 2, \"id\": 111451, \"name\": \"Matt Corboy\", \"order\": 24}, {\"cast_id\": 50, \"character\": \"Journalist #3\", \"credit_id\": \"55e6b801c3a3685f980027ba\", \"gender\": 0, \"id\": 117087, \"name\": \"Larry Sullivan\", \"order\": 25}, {\"cast_id\": 51, \"character\": \"Journalist #4\", \"credit_id\": \"55e6b802c3a3685fa0001de5\", \"gender\": 1, \"id\": 156064, \"name\": \"Deborah Lacey\", \"order\": 26}, {\"cast_id\": 52, \"character\": \"Greg Mack\", \"credit_id\": \"55e6b802c3a3685f8e002216\", \"gender\": 2, \"id\": 37932, \"name\": \"F. Gary Gray\", \"order\": 27}, {\"cast_id\": 11, \"character\": \"Al\", \"credit_id\": \"543193c90e0a264643003a79\", \"gender\": 2, \"id\": 141432, \"name\": \"Allen Maldonado\", \"order\": 28}, {\"cast_id\": 53, \"character\": \"Rock\", \"credit_id\": \"55e6b802c3a3685f8e002218\", \"gender\": 2, \"id\": 202892, \"name\": \"Demetrius Grosse\", \"order\": 29}, {\"cast_id\": 54, \"character\": \"Michael \\'Compton Menace\\' Taylor\", \"credit_id\": \"55e6b8029251410f04002355\", \"gender\": 0, \"id\": 1503722, \"name\": \"Og Blood\", \"order\": 30}, {\"cast_id\": 55, \"character\": \"Kid #1\", \"credit_id\": \"55e6b803c3a3685f9600263f\", \"gender\": 0, \"id\": 1152019, \"name\": \"Ashton Sanders\", \"order\": 31}, {\"cast_id\": 56, \"character\": \"Kid #2\", \"credit_id\": \"55e6b8039251410f130024c2\", \"gender\": 0, \"id\": 1503723, \"name\": \"Joshua Geter\", \"order\": 32}, {\"cast_id\": 57, \"character\": \"Block Dude #1\", \"credit_id\": \"55e6b803c3a3685fa0001de7\", \"gender\": 2, \"id\": 1451543, \"name\": \"Kofi Siriboe\", \"order\": 33}, {\"cast_id\": 7, \"character\": \"Block Dude #2\", \"credit_id\": \"543193920e0a26591500235d\", \"gender\": 2, \"id\": 149010, \"name\": \"Orlando Brown\", \"order\": 34}, {\"cast_id\": 58, \"character\": \"LAPD Crash Cop #1\", \"credit_id\": \"55e6b8049251410f170024a2\", \"gender\": 2, \"id\": 198827, \"name\": \"Matthew Boylan\", \"order\": 35}, {\"cast_id\": 59, \"character\": \"LAPD Crash Cop #2\", \"credit_id\": \"55e6b804c3a3685f850024fc\", \"gender\": 0, \"id\": 944478, \"name\": \"Chic Daniel\", \"order\": 36}, {\"cast_id\": 60, \"character\": \"LAPD Cop\", \"credit_id\": \"55e6b8049251410f0d00218c\", \"gender\": 0, \"id\": 1503724, \"name\": \"Tim Connolly\", \"order\": 37}, {\"cast_id\": 61, \"character\": \"Uniform Cop #1\", \"credit_id\": \"55e6bdfbc3a3685f8700244e\", \"gender\": 2, \"id\": 1050090, \"name\": \"Cris D\\'Annunzio\", \"order\": 38}, {\"cast_id\": 72, \"character\": \"Uniform Cop #2\", \"credit_id\": \"55e8bb1ac3a3682c70003630\", \"gender\": 2, \"id\": 1504757, \"name\": \"Dan Wells\", \"order\": 39}, {\"cast_id\": 62, \"character\": \"Doo To\\'s Security Guard\", \"credit_id\": \"55e6bdfbc3a3685f980028ca\", \"gender\": 0, \"id\": 1503730, \"name\": \"Justin Goslee\", \"order\": 40}, {\"cast_id\": 63, \"character\": \"Officer\", \"credit_id\": \"55e6bdfbc3a3685f87002451\", \"gender\": 0, \"id\": 1503731, \"name\": \"Alex Wexo\", \"order\": 41}, {\"cast_id\": 64, \"character\": \"HBO Rapper #1\", \"credit_id\": \"55e6bdfb9251410f04002459\", \"gender\": 0, \"id\": 1437557, \"name\": \"Marcus Callender\", \"order\": 42}, {\"cast_id\": 65, \"character\": \"HBO Rapper #2\", \"credit_id\": \"55e6bdfcc3a3685f87002455\", \"gender\": 0, \"id\": 1153792, \"name\": \"Vaughn Wilkinson\", \"order\": 43}, {\"cast_id\": 12, \"character\": \"Capitol Records Executive\", \"credit_id\": \"543193d9c3a368117b00243d\", \"gender\": 2, \"id\": 64057, \"name\": \"Dean Cameron\", \"order\": 44}, {\"cast_id\": 66, \"character\": \"Torrance Cop #1\", \"credit_id\": \"55e6bdfc9251410f07002404\", \"gender\": 0, \"id\": 1503732, \"name\": \"Mark Thomas Holguin\", \"order\": 45}, {\"cast_id\": 67, \"character\": \"Torrance Cop #2\", \"credit_id\": \"55e6bdfcc3a3685f850025ff\", \"gender\": 0, \"id\": 63029, \"name\": \"Sky Soleil\", \"order\": 46}, {\"cast_id\": 68, \"character\": \"Officer Rauch\", \"credit_id\": \"55e6bdfd9251410f130025a5\", \"gender\": 2, \"id\": 179543, \"name\": \"Inny Clemons\", \"order\": 47}, {\"cast_id\": 69, \"character\": \"Big Dude\", \"credit_id\": \"55e6bdfdc3a3685f85002602\", \"gender\": 0, \"id\": 1503733, \"name\": \"Jody Burke\", \"order\": 48}, {\"cast_id\": 70, \"character\": \"Felicia\", \"credit_id\": \"55e6bdfd9251410f0a002375\", \"gender\": 0, \"id\": 1503734, \"name\": \"Asia\\'h Epperson\", \"order\": 49}, {\"cast_id\": 71, \"character\": \"Tour Bus Driver\", \"credit_id\": \"55e6bdfec3a3685fa0001eaf\", \"gender\": 0, \"id\": 1503735, \"name\": \"Scott Endicott\", \"order\": 50}, {\"cast_id\": 73, \"character\": \"Joe Louis Police\", \"credit_id\": \"55e8bb1ac3a3682c6700387c\", \"gender\": 0, \"id\": 1504758, \"name\": \"Greg Collins\", \"order\": 51}, {\"cast_id\": 74, \"character\": \"Jimmy Iovine\", \"credit_id\": \"55e8bb1bc3a3682c6b003620\", \"gender\": 2, \"id\": 1504759, \"name\": \"Mark Sherman\", \"order\": 52}, {\"cast_id\": 75, \"character\": \"CNN Journalist\", \"credit_id\": \"55e8bb1b9251413e32003616\", \"gender\": 2, \"id\": 62146, \"name\": \"Rob Brownstein\", \"order\": 53}, {\"cast_id\": 76, \"character\": \"Tupac\", \"credit_id\": \"55e8bb1bc3a3682c760033a9\", \"gender\": 0, \"id\": 1504760, \"name\": \"Marcc Rose\", \"order\": 54}, {\"cast_id\": 77, \"character\": \"Chillin\\' Cop\", \"credit_id\": \"55e8bb1cc3a3682c640032fb\", \"gender\": 0, \"id\": 1504761, \"name\": \"Nigel Lawes\", \"order\": 55}, {\"cast_id\": 16, \"character\": \"Pool Party Girl\", \"credit_id\": \"543194120e0a265915002372\", \"gender\": 0, \"id\": 1371400, \"name\": \"Lauren Pacheco\", \"order\": 56}, {\"cast_id\": 98, \"character\": \"Hostess\", \"credit_id\": \"58e6935c925141351f00605a\", \"gender\": 1, \"id\": 1790820, \"name\": \"Caileigh Scott\", \"order\": 57}, {\"cast_id\": 99, \"character\": \"Pastor\", \"credit_id\": \"594d0ff892514131550256bc\", \"gender\": 2, \"id\": 1215657, \"name\": \"A. Russell Andrews\", \"order\": 58}, {\"cast_id\": 97, \"character\": \"Club Goer (uncredited)\", \"credit_id\": \"582adf0bc3a368623f01da81\", \"gender\": 1, \"id\": 1709053, \"name\": \"Philicia Saunders\", \"order\": 59}]', '[{\"cast_id\": 1, \"character\": \"Will Hayes\", \"credit_id\": \"52fe44a4c3a36847f80a1dab\", \"gender\": 2, \"id\": 10859, \"name\": \"Ryan Reynolds\", \"order\": 0}, {\"cast_id\": 2, \"character\": \"Maya Hayes\", \"credit_id\": \"52fe44a4c3a36847f80a1daf\", \"gender\": 1, \"id\": 17140, \"name\": \"Abigail Breslin\", \"order\": 1}, {\"cast_id\": 3, \"character\": \"Emily\", \"credit_id\": \"52fe44a4c3a36847f80a1db3\", \"gender\": 1, \"id\": 9281, \"name\": \"Elizabeth Banks\", \"order\": 2}, {\"cast_id\": 4, \"character\": \"April\", \"credit_id\": \"52fe44a4c3a36847f80a1db7\", \"gender\": 1, \"id\": 52848, \"name\": \"Isla Fisher\", \"order\": 3}, {\"cast_id\": 5, \"character\": \"Summer Hartley\", \"credit_id\": \"52fe44a4c3a36847f80a1dbb\", \"gender\": 1, \"id\": 3293, \"name\": \"Rachel Weisz\", \"order\": 4}, {\"cast_id\": 6, \"character\": \"Hampton Roth\", \"credit_id\": \"52fe44a4c3a36847f80a1dbf\", \"gender\": 2, \"id\": 8945, \"name\": \"Kevin Kline\", \"order\": 5}, {\"cast_id\": 7, \"character\": \"Russell McCormack\", \"credit_id\": \"52fe44a4c3a36847f80a1dc3\", \"gender\": 2, \"id\": 15543, \"name\": \"Derek Luke\", \"order\": 6}, {\"cast_id\": 8, \"character\": \"Kelly\", \"credit_id\": \"52fe44a4c3a36847f80a1dc7\", \"gender\": 1, \"id\": 54817, \"name\": \"Liane Balaban\", \"order\": 7}, {\"cast_id\": 9, \"character\": \"Anne\", \"credit_id\": \"52fe44a4c3a36847f80a1dcb\", \"gender\": 1, \"id\": 24291, \"name\": \"Annie Parisse\", \"order\": 8}, {\"cast_id\": 10, \"character\": \"Arthur\", \"credit_id\": \"52fe44a4c3a36847f80a1dcf\", \"gender\": 2, \"id\": 14331, \"name\": \"Nestor Serrano\", \"order\": 9}, {\"cast_id\": 11, \"character\": \"Rafael\", \"credit_id\": \"52fe44a4c3a36847f80a1dd3\", \"gender\": 2, \"id\": 18472, \"name\": \"Kevin Corrigan\", \"order\": 10}, {\"cast_id\": 26, \"character\": \"Ad Exec\", \"credit_id\": \"52fe44a4c3a36847f80a1e2b\", \"gender\": 0, \"id\": 1142303, \"name\": \"An Nguyen\", \"order\": 11}, {\"cast_id\": 28, \"character\": \"Bookstore Owner\", \"credit_id\": \"53e9ee48c3a3680ec1000bad\", \"gender\": 2, \"id\": 16328, \"name\": \"Adam Brooks\", \"order\": 13}, {\"cast_id\": 29, \"character\": \"1998 Intern\", \"credit_id\": \"5417240ac3a3684cf7005b31\", \"gender\": 0, \"id\": 204679, \"name\": \"Emily Wickersham\", \"order\": 14}, {\"cast_id\": 47, \"character\": \"Charlie\", \"credit_id\": \"56b72c7e9251414c4500631d\", \"gender\": 0, \"id\": 182280, \"name\": \"Daniel Eric Gold\", \"order\": 15}]', '[{\"cast_id\": 37, \"character\": \"Gideon\", \"credit_id\": \"52fe43cb9251416c7501e6df\", \"gender\": 2, \"id\": 33923, \"name\": \"Mel Blanc\", \"order\": 0}, {\"cast_id\": 33, \"character\": \"Carnival Barkers\", \"credit_id\": \"52fe43cb9251416c7501e6cf\", \"gender\": 0, \"id\": 67369, \"name\": \"Don Brodie\", \"order\": 1}, {\"cast_id\": 38, \"character\": \"John Worthington Foulfellow\", \"credit_id\": \"52fe43cb9251416c7501e6e3\", \"gender\": 2, \"id\": 13819, \"name\": \"Walter Catlett\", \"order\": 2}, {\"cast_id\": 41, \"character\": \"Birds\", \"credit_id\": \"544bff37c3a36872d800080f\", \"gender\": 1, \"id\": 5463, \"name\": \"Marion Darlington\", \"order\": 3}, {\"cast_id\": 36, \"character\": \"Lampwick\", \"credit_id\": \"52fe43cb9251416c7501e6db\", \"gender\": 2, \"id\": 67370, \"name\": \"Frankie Darro\", \"order\": 4}, {\"cast_id\": 31, \"character\": \"Jiminy Cricket\", \"credit_id\": \"52fe43cb9251416c7501e6c7\", \"gender\": 2, \"id\": 30236, \"name\": \"Cliff Edwards\", \"order\": 5}, {\"cast_id\": 32, \"character\": \"Pinocchio\", \"credit_id\": \"52fe43cb9251416c7501e6cb\", \"gender\": 2, \"id\": 67371, \"name\": \"Dickie Jones\", \"order\": 6}, {\"cast_id\": 42, \"character\": \"Stromboli\", \"credit_id\": \"544bff800e0a2608be00080a\", \"gender\": 2, \"id\": 96053, \"name\": \"Charles Judels\", \"order\": 7}, {\"cast_id\": 43, \"character\": \"Figaro\", \"credit_id\": \"544bff94c3a36872bc00083f\", \"gender\": 2, \"id\": 78077, \"name\": \"Clarence Nash\", \"order\": 8}, {\"cast_id\": 44, \"character\": \"Marionettes\", \"credit_id\": \"544bffa60e0a2608cd0007bf\", \"gender\": 0, \"id\": 1377560, \"name\": \"Patricia Page\", \"order\": 9}, {\"cast_id\": 40, \"character\": \"Geppetto\", \"credit_id\": \"530ad7aa925141785e00261c\", \"gender\": 2, \"id\": 985275, \"name\": \"Christian Rub\", \"order\": 10}, {\"cast_id\": 35, \"character\": \"Blue Fairy\", \"credit_id\": \"52fe43cb9251416c7501e6d7\", \"gender\": 1, \"id\": 117073, \"name\": \"Evelyn Venable\", \"order\": 11}]']\n",
      "\n",
      "Número total de valores únicos: 4759\n",
      "\n",
      "##################################################\n",
      "\n",
      "Explorando la columna: crew\n",
      "\n",
      "Algunos valores de la columna:\n",
      "['[{\"credit_id\": \"52fe47a0c3a368484e0d1841\", \"department\": \"Directing\", \"gender\": 2, \"id\": 10828, \"job\": \"Director\", \"name\": \"Guillermo del Toro\"}, {\"credit_id\": \"52fe47a0c3a368484e0d1853\", \"department\": \"Writing\", \"gender\": 2, \"id\": 114016, \"job\": \"Screenplay\", \"name\": \"Travis Beacham\"}, {\"credit_id\": \"52fe47a0c3a368484e0d1885\", \"department\": \"Writing\", \"gender\": 2, \"id\": 10828, \"job\": \"Screenplay\", \"name\": \"Guillermo del Toro\"}, {\"credit_id\": \"52fe47a0c3a368484e0d1891\", \"department\": \"Sound\", \"gender\": 2, \"id\": 10851, \"job\": \"Original Music Composer\", \"name\": \"Ramin Djawadi\"}, {\"credit_id\": \"52fe47a0c3a368484e0d1897\", \"department\": \"Camera\", \"gender\": 2, \"id\": 3113, \"job\": \"Director of Photography\", \"name\": \"Guillermo Navarro\"}, {\"credit_id\": \"52fe47a0c3a368484e0d189d\", \"department\": \"Editing\", \"gender\": 2, \"id\": 10833, \"job\": \"Editor\", \"name\": \"Peter Amundson\"}, {\"credit_id\": \"52fe47a0c3a368484e0d18a3\", \"department\": \"Editing\", \"gender\": 2, \"id\": 67810, \"job\": \"Editor\", \"name\": \"John Gilroy\"}, {\"credit_id\": \"52fe47a0c3a368484e0d18a9\", \"department\": \"Art\", \"gender\": 2, \"id\": 6045, \"job\": \"Production Design\", \"name\": \"Andrew Neskoromny\"}, {\"credit_id\": \"52fe47a0c3a368484e0d18af\", \"department\": \"Art\", \"gender\": 1, \"id\": 8315, \"job\": \"Production Design\", \"name\": \"Carol Spier\"}, {\"credit_id\": \"52fe47a0c3a368484e0d18b5\", \"department\": \"Costume & Make-Up\", \"gender\": 0, \"id\": 213644, \"job\": \"Costume Design\", \"name\": \"Kate Hawley\"}, {\"credit_id\": \"52fe47a0c3a368484e0d18bb\", \"department\": \"Art\", \"gender\": 2, \"id\": 957970, \"job\": \"Set Decoration\", \"name\": \"Peter Nicolakakos\"}, {\"credit_id\": \"535268260e0a265606002dbc\", \"department\": \"Writing\", \"gender\": 2, \"id\": 114016, \"job\": \"Story\", \"name\": \"Travis Beacham\"}, {\"credit_id\": \"5352683f0e0a2655fe002f89\", \"department\": \"Production\", \"gender\": 2, \"id\": 10828, \"job\": \"Producer\", \"name\": \"Guillermo del Toro\"}, {\"credit_id\": \"535268ae0e0a2655fe002f98\", \"department\": \"Production\", \"gender\": 2, \"id\": 61091, \"job\": \"Producer\", \"name\": \"Jon Jashni\"}, {\"credit_id\": \"535268c10e0a26560e002f8e\", \"department\": \"Production\", \"gender\": 1, \"id\": 114408, \"job\": \"Producer\", \"name\": \"Mary Parent\"}, {\"credit_id\": \"535268d20e0a265603003055\", \"department\": \"Production\", \"gender\": 0, \"id\": 54211, \"job\": \"Producer\", \"name\": \"Thomas Tull\"}, {\"credit_id\": \"535268e30e0a26561100301e\", \"department\": \"Production\", \"gender\": 2, \"id\": 19770, \"job\": \"Executive Producer\", \"name\": \"Callum Greene\"}, {\"credit_id\": \"53526920c3a3681d9800275d\", \"department\": \"Production\", \"gender\": 1, \"id\": 6347, \"job\": \"Casting\", \"name\": \"Margery Simkin\"}, {\"credit_id\": \"53526945c3a3681d98002763\", \"department\": \"Art\", \"gender\": 0, \"id\": 1311175, \"job\": \"Art Direction\", \"name\": \"Andrew Li\"}, {\"credit_id\": \"53526972c3a3681d87002897\", \"department\": \"Art\", \"gender\": 0, \"id\": 223991, \"job\": \"Art Direction\", \"name\": \"Sandi Tanaka\"}, {\"credit_id\": \"570bba2592514113120002d0\", \"department\": \"Art\", \"gender\": 0, \"id\": 8285, \"job\": \"Supervising Art Director\", \"name\": \"Richard L. Johnson\"}, {\"credit_id\": \"570bba48c3a3680fc2007ca5\", \"department\": \"Art\", \"gender\": 1, \"id\": 10836, \"job\": \"Supervising Art Director\", \"name\": \"Elinor Rose Galbraith\"}, {\"credit_id\": \"553407b4925141529b005aa2\", \"department\": \"Crew\", \"gender\": 0, \"id\": 1456696, \"job\": \"Compositors\", \"name\": \"Brian N. Bentley\"}, {\"credit_id\": \"553d5a72c3a368784500d1ca\", \"department\": \"Visual Effects\", \"gender\": 2, \"id\": 1450362, \"job\": \"Visual Effects\", \"name\": \"Scott F. Johnston\"}, {\"credit_id\": \"5548cf8dc3a3687886002388\", \"department\": \"Visual Effects\", \"gender\": 0, \"id\": 1460628, \"job\": \"Visual Effects\", \"name\": \"Weicheng Jiang\"}, {\"credit_id\": \"5549551392514104cd0007df\", \"department\": \"Crew\", \"gender\": 0, \"id\": 1463784, \"job\": \"Digital Effects Supervisor\", \"name\": \"Yuhon Ng\"}, {\"credit_id\": \"554fb2989251416984004e78\", \"department\": \"Crew\", \"gender\": 0, \"id\": 1447542, \"job\": \"Compositors\", \"name\": \"Erik Classen\"}]', '[{\"credit_id\": \"52fe42f8c3a36847f80308d5\", \"department\": \"Production\", \"gender\": 2, \"id\": 1776, \"job\": \"Producer\", \"name\": \"Francis Ford Coppola\"}, {\"credit_id\": \"52fe42f8c3a36847f80308c9\", \"department\": \"Writing\", \"gender\": 1, \"id\": 1769, \"job\": \"Screenplay\", \"name\": \"Sofia Coppola\"}, {\"credit_id\": \"52fe42f8c3a36847f80308c3\", \"department\": \"Directing\", \"gender\": 1, \"id\": 1769, \"job\": \"Director\", \"name\": \"Sofia Coppola\"}, {\"credit_id\": \"52fe42f8c3a36847f8030917\", \"department\": \"Costume & Make-Up\", \"gender\": 1, \"id\": 5215, \"job\": \"Costume Design\", \"name\": \"Nancy Steiner\"}, {\"credit_id\": \"52fe42f8c3a36847f80308e1\", \"department\": \"Production\", \"gender\": 2, \"id\": 5379, \"job\": \"Producer\", \"name\": \"Dan Halsted\"}, {\"credit_id\": \"52fe42f8c3a36847f8030905\", \"department\": \"Art\", \"gender\": 1, \"id\": 5910, \"job\": \"Production Design\", \"name\": \"Jasna Stefanovic\"}, {\"credit_id\": \"52fe42f8c3a36847f803090b\", \"department\": \"Art\", \"gender\": 2, \"id\": 5929, \"job\": \"Art Direction\", \"name\": \"Jon P. Goulding\"}, {\"credit_id\": \"52fe42f8c3a36847f80308f3\", \"department\": \"Camera\", \"gender\": 2, \"id\": 6345, \"job\": \"Director of Photography\", \"name\": \"Edward Lachman\"}, {\"credit_id\": \"52fe42f8c3a36847f80308e7\", \"department\": \"Production\", \"gender\": 2, \"id\": 17231, \"job\": \"Producer\", \"name\": \"Chris Hanley\"}, {\"credit_id\": \"52fe42f8c3a36847f80308cf\", \"department\": \"Writing\", \"gender\": 2, \"id\": 17229, \"job\": \"Novel\", \"name\": \"Jeffrey Eugenides\"}, {\"credit_id\": \"52fe42f8c3a36847f80308db\", \"department\": \"Production\", \"gender\": 1, \"id\": 17230, \"job\": \"Producer\", \"name\": \"Julie Costanzo\"}, {\"credit_id\": \"52fe42f8c3a36847f80308ed\", \"department\": \"Sound\", \"gender\": 0, \"id\": 17232, \"job\": \"Original Music Composer\", \"name\": \"Air\"}, {\"credit_id\": \"52fe42f8c3a36847f80308f9\", \"department\": \"Editing\", \"gender\": 1, \"id\": 17233, \"job\": \"Editor\", \"name\": \"Melissa Kent\"}, {\"credit_id\": \"52fe42f8c3a36847f80308ff\", \"department\": \"Editing\", \"gender\": 2, \"id\": 17234, \"job\": \"Editor\", \"name\": \"James Lyons\"}, {\"credit_id\": \"52fe42f8c3a36847f8030911\", \"department\": \"Art\", \"gender\": 1, \"id\": 17235, \"job\": \"Set Decoration\", \"name\": \"Megan Less\"}, {\"credit_id\": \"563d2a3fc3a3681b520281a0\", \"department\": \"Sound\", \"gender\": 2, \"id\": 40839, \"job\": \"Music Supervisor\", \"name\": \"Brian Reitzell\"}, {\"credit_id\": \"563d2a929251416cd8000dd1\", \"department\": \"Production\", \"gender\": 0, \"id\": 933333, \"job\": \"Casting\", \"name\": \"John Buchan\"}, {\"credit_id\": \"563d2a77c3a3681b5402a1be\", \"department\": \"Production\", \"gender\": 1, \"id\": 1192007, \"job\": \"Casting\", \"name\": \"Linda Phillips-Palo\"}, {\"credit_id\": \"563d2a9bc3a36862da0010d3\", \"department\": \"Production\", \"gender\": 0, \"id\": 1532410, \"job\": \"Casting\", \"name\": \"Robert McGee\"}]', '[{\"credit_id\": \"56829e7392514169d000046c\", \"department\": \"Production\", \"gender\": 1, \"id\": 547, \"job\": \"Casting\", \"name\": \"Victoria Thomas\"}, {\"credit_id\": \"55def1aec3a3686e7f001acc\", \"department\": \"Editing\", \"gender\": 2, \"id\": 908, \"job\": \"Editor\", \"name\": \"Michael Tronick\"}, {\"credit_id\": \"5672c12192514157b70003a8\", \"department\": \"Camera\", \"gender\": 2, \"id\": 4867, \"job\": \"Director of Photography\", \"name\": \"Matthew Libatique\"}, {\"credit_id\": \"543194560e0a26587200236d\", \"department\": \"Production\", \"gender\": 2, \"id\": 9778, \"job\": \"Producer\", \"name\": \"Ice Cube\"}, {\"credit_id\": \"56829e8cc3a3684be9013c71\", \"department\": \"Art\", \"gender\": 2, \"id\": 17050, \"job\": \"Production Design\", \"name\": \"Shane Valentino\"}, {\"credit_id\": \"56829f21c3a3685f89000537\", \"department\": \"Production\", \"gender\": 2, \"id\": 31121, \"job\": \"Executive Producer\", \"name\": \"William Packer\"}, {\"credit_id\": \"5431946c0e0a264643003a8c\", \"department\": \"Production\", \"gender\": 2, \"id\": 2041, \"job\": \"Producer\", \"name\": \"Dr. Dre\"}, {\"credit_id\": \"56829f0ac3a3685f8900052e\", \"department\": \"Production\", \"gender\": 2, \"id\": 35179, \"job\": \"Executive Producer\", \"name\": \"Adam Merims\"}, {\"credit_id\": \"53a06519c3a36850e8002ce4\", \"department\": \"Directing\", \"gender\": 2, \"id\": 37932, \"job\": \"Director\", \"name\": \"F. Gary Gray\"}, {\"credit_id\": \"56829e4dc3a3685f89000502\", \"department\": \"Production\", \"gender\": 2, \"id\": 37932, \"job\": \"Producer\", \"name\": \"F. Gary Gray\"}, {\"credit_id\": \"56829f2ec3a3684bcc01589e\", \"department\": \"Production\", \"gender\": 0, \"id\": 54211, \"job\": \"Executive Producer\", \"name\": \"Thomas Tull\"}, {\"credit_id\": \"5672c11492514163b9002856\", \"department\": \"Editing\", \"gender\": 2, \"id\": 53641, \"job\": \"Editor\", \"name\": \"Billy Fox\"}, {\"credit_id\": \"56829efec3a3682abc00e079\", \"department\": \"Production\", \"gender\": 2, \"id\": 61091, \"job\": \"Executive Producer\", \"name\": \"Jon Jashni\"}, {\"credit_id\": \"55def1599251414727001e29\", \"department\": \"Production\", \"gender\": 2, \"id\": 65135, \"job\": \"Producer\", \"name\": \"Matt Alvarez\"}, {\"credit_id\": \"55def16a925141471d001acf\", \"department\": \"Production\", \"gender\": 2, \"id\": 65780, \"job\": \"Producer\", \"name\": \"Scott Bernstein\"}, {\"credit_id\": \"56829e219251417def014b2a\", \"department\": \"Production\", \"gender\": 0, \"id\": 93023, \"job\": \"Producer\", \"name\": \"Bill Straus\"}, {\"credit_id\": \"56829e809251414ecb005e62\", \"department\": \"Production\", \"gender\": 1, \"id\": 119179, \"job\": \"Casting\", \"name\": \"Cindy Tolan\"}, {\"credit_id\": \"55c003a8c3a3682379000342\", \"department\": \"Writing\", \"gender\": 0, \"id\": 211197, \"job\": \"Screenplay\", \"name\": \"Jonathan Herman\"}, {\"credit_id\": \"55c0039a9251410ee7000233\", \"department\": \"Writing\", \"gender\": 0, \"id\": 989235, \"job\": \"Screenplay\", \"name\": \"Andrea Berloff\"}, {\"credit_id\": \"56829de3c3a36860750130fb\", \"department\": \"Writing\", \"gender\": 0, \"id\": 989235, \"job\": \"Story\", \"name\": \"Andrea Berloff\"}, {\"credit_id\": \"55c003bd9251410f27000308\", \"department\": \"Writing\", \"gender\": 0, \"id\": 1034665, \"job\": \"Story\", \"name\": \"S. Leigh Savidge\"}, {\"credit_id\": \"56829f57c3a3686075013150\", \"department\": \"Production\", \"gender\": 0, \"id\": 1034665, \"job\": \"Co-Executive Producer\", \"name\": \"S. Leigh Savidge\"}, {\"credit_id\": \"56829e0cc3a3685f890004f4\", \"department\": \"Production\", \"gender\": 0, \"id\": 1041278, \"job\": \"Producer\", \"name\": \"David Engel\"}, {\"credit_id\": \"56829e66c3a3685f89000509\", \"department\": \"Sound\", \"gender\": 0, \"id\": 1098740, \"job\": \"Original Music Composer\", \"name\": \"Joseph Trapanese\"}, {\"credit_id\": \"55c0038ac3a3682253000299\", \"department\": \"Writing\", \"gender\": 0, \"id\": 1371401, \"job\": \"Story\", \"name\": \"Alan Wenkus\"}, {\"credit_id\": \"56829f669251417def014b64\", \"department\": \"Production\", \"gender\": 0, \"id\": 1371401, \"job\": \"Co-Executive Producer\", \"name\": \"Alan Wenkus\"}, {\"credit_id\": \"55def19dc3a3686e7d001934\", \"department\": \"Production\", \"gender\": 0, \"id\": 1500924, \"job\": \"Producer\", \"name\": \"Tomica Woods-Wright\"}, {\"credit_id\": \"5692944892514142570000eb\", \"department\": \"Crew\", \"gender\": 2, \"id\": 1552521, \"job\": \"Stunts\", \"name\": \"Brian Avery\"}, {\"credit_id\": \"56829ee8c3a3686075013142\", \"department\": \"Art\", \"gender\": 0, \"id\": 1555298, \"job\": \"Art Direction\", \"name\": \"Christopher Brown\"}, {\"credit_id\": \"56829f15c3a36860e9014177\", \"department\": \"Production\", \"gender\": 0, \"id\": 1555300, \"job\": \"Executive Producer\", \"name\": \"Ronald G. Muhammad\"}]', '[{\"credit_id\": \"52fe44a4c3a36847f80a1deb\", \"department\": \"Production\", \"gender\": 2, \"id\": 135, \"job\": \"Executive Producer\", \"name\": \"Bobby Cohen\"}, {\"credit_id\": \"52fe44a4c3a36847f80a1dd9\", \"department\": \"Production\", \"gender\": 2, \"id\": 2236, \"job\": \"Producer\", \"name\": \"Tim Bevan\"}, {\"credit_id\": \"52fe44a4c3a36847f80a1ddf\", \"department\": \"Production\", \"gender\": 2, \"id\": 2238, \"job\": \"Producer\", \"name\": \"Eric Fellner\"}, {\"credit_id\": \"52fe44a4c3a36847f80a1e15\", \"department\": \"Art\", \"gender\": 1, \"id\": 4907, \"job\": \"Production Design\", \"name\": \"Stephanie Carroll\"}, {\"credit_id\": \"52fe44a4c3a36847f80a1dfd\", \"department\": \"Camera\", \"gender\": 2, \"id\": 10573, \"job\": \"Director of Photography\", \"name\": \"Florian Ballhaus\"}, {\"credit_id\": \"52fe44a4c3a36847f80a1e21\", \"department\": \"Directing\", \"gender\": 2, \"id\": 16328, \"job\": \"Director\", \"name\": \"Adam Brooks\"}, {\"credit_id\": \"56780c669251417845001d73\", \"department\": \"Writing\", \"gender\": 2, \"id\": 16328, \"job\": \"Writer\", \"name\": \"Adam Brooks\"}, {\"credit_id\": \"56780bc792514179db0099ea\", \"department\": \"Sound\", \"gender\": 2, \"id\": 6377, \"job\": \"Original Music Composer\", \"name\": \"Clint Mansell\"}, {\"credit_id\": \"52fe44a4c3a36847f80a1de5\", \"department\": \"Production\", \"gender\": 1, \"id\": 9151, \"job\": \"Executive Producer\", \"name\": \"Liza Chasin\"}, {\"credit_id\": \"52fe44a4c3a36847f80a1e0f\", \"department\": \"Production\", \"gender\": 1, \"id\": 15426, \"job\": \"Casting\", \"name\": \"Laura Rosenthal\"}, {\"credit_id\": \"56780d9ec3a368167c009469\", \"department\": \"Sound\", \"gender\": 2, \"id\": 15432, \"job\": \"Sound Re-Recording Mixer\", \"name\": \"Robert Hein\"}, {\"credit_id\": \"56780db69251417845001dad\", \"department\": \"Sound\", \"gender\": 2, \"id\": 15432, \"job\": \"Supervising Sound Editor\", \"name\": \"Robert Hein\"}, {\"credit_id\": \"52fe44a4c3a36847f80a1e09\", \"department\": \"Production\", \"gender\": 1, \"id\": 17635, \"job\": \"Casting\", \"name\": \"Ali Farrell\"}, {\"credit_id\": \"52fe44a4c3a36847f80a1e03\", \"department\": \"Editing\", \"gender\": 2, \"id\": 11372, \"job\": \"Editor\", \"name\": \"Peter Teschner\"}, {\"credit_id\": \"52fe44a4c3a36847f80a1df1\", \"department\": \"Production\", \"gender\": 1, \"id\": 38082, \"job\": \"Executive Producer\", \"name\": \"Kerry Orent\"}, {\"credit_id\": \"56780cbbc3a36816850090f4\", \"department\": \"Art\", \"gender\": 2, \"id\": 60014, \"job\": \"Art Direction\", \"name\": \"Peter Rogness\"}, {\"credit_id\": \"56780cc792514179e7008f34\", \"department\": \"Art\", \"gender\": 1, \"id\": 60135, \"job\": \"Set Decoration\", \"name\": \"Ellen Christiansen\"}, {\"credit_id\": \"56780e0792514179e300910c\", \"department\": \"Sound\", \"gender\": 2, \"id\": 223202, \"job\": \"Music Supervisor\", \"name\": \"Nick Angel\"}, {\"credit_id\": \"557844b292514169a40001cb\", \"department\": \"Costume & Make-Up\", \"gender\": 2, \"id\": 543194, \"job\": \"Costume Design\", \"name\": \"Gary Jones\"}, {\"credit_id\": \"56780bfe92514179d200929b\", \"department\": \"Costume & Make-Up\", \"gender\": 0, \"id\": 1330612, \"job\": \"Makeup Department Head\", \"name\": \"Chris Bingham\"}, {\"credit_id\": \"56780dc392514179e7008f60\", \"department\": \"Sound\", \"gender\": 0, \"id\": 1337464, \"job\": \"Sound Re-Recording Mixer\", \"name\": \"Dominick Tavella\"}, {\"credit_id\": \"56780e3c92514179e7008f7d\", \"department\": \"Sound\", \"gender\": 1, \"id\": 1337468, \"job\": \"Music Editor\", \"name\": \"Nancy Allen\"}, {\"credit_id\": \"56780d75c3a368168e009a31\", \"department\": \"Camera\", \"gender\": 2, \"id\": 1395369, \"job\": \"Still Photographer\", \"name\": \"Andrew D. Schwartz\"}, {\"credit_id\": \"56780deac3a3681689008dd6\", \"department\": \"Sound\", \"gender\": 2, \"id\": 1399970, \"job\": \"Sound Effects Editor\", \"name\": \"Glenfield Payne\"}, {\"credit_id\": \"56780c15c3a368168e0099fb\", \"department\": \"Directing\", \"gender\": 0, \"id\": 1411860, \"job\": \"Script Supervisor\", \"name\": \"Jodi Domanic-Riccio\"}, {\"credit_id\": \"56780be19251417845001d69\", \"department\": \"Costume & Make-Up\", \"gender\": 0, \"id\": 1416796, \"job\": \"Hair Department Head\", \"name\": \"Kerrie Smith\"}, {\"credit_id\": \"56780e6192514179db009a40\", \"department\": \"Editing\", \"gender\": 0, \"id\": 1416824, \"job\": \"First Assistant Editor\", \"name\": \"Rick Derby\"}, {\"credit_id\": \"56780c4392514179d20092a2\", \"department\": \"Sound\", \"gender\": 0, \"id\": 1551912, \"job\": \"Production Sound Mixer\", \"name\": \"Michael Barosky\"}]', '[{\"credit_id\": \"52fe43cb9251416c7501e6e9\", \"department\": \"Production\", \"gender\": 2, \"id\": 2106, \"job\": \"Producer\", \"name\": \"Walt Disney\"}, {\"credit_id\": \"52fe43cb9251416c7501e6c3\", \"department\": \"Sound\", \"gender\": 2, \"id\": 2107, \"job\": \"Original Music Composer\", \"name\": \"Paul J. Smith\"}, {\"credit_id\": \"52fe43cb9251416c7501e693\", \"department\": \"Writing\", \"gender\": 2, \"id\": 5449, \"job\": \"Adaptation\", \"name\": \"Ted Sears\"}, {\"credit_id\": \"52fe43cb9251416c7501e699\", \"department\": \"Writing\", \"gender\": 0, \"id\": 5451, \"job\": \"Adaptation\", \"name\": \"Otto Englander\"}, {\"credit_id\": \"52fe43cb9251416c7501e69f\", \"department\": \"Writing\", \"gender\": 2, \"id\": 5456, \"job\": \"Adaptation\", \"name\": \"Webb Smith\"}, {\"credit_id\": \"52fe43cb9251416c7501e6bd\", \"department\": \"Sound\", \"gender\": 2, \"id\": 5467, \"job\": \"Original Music Composer\", \"name\": \"Leigh Harline\"}, {\"credit_id\": \"572f51ffc3a3687cc9000ca8\", \"department\": \"Visual Effects\", \"gender\": 2, \"id\": 5692, \"job\": \"Animation Director\", \"name\": \"Art Babbitt\"}, {\"credit_id\": \"565146e69251414af900919e\", \"department\": \"Visual Effects\", \"gender\": 2, \"id\": 5693, \"job\": \"Animation\", \"name\": \"Jack Campbell\"}, {\"credit_id\": \"52fe43cb9251416c7501e687\", \"department\": \"Directing\", \"gender\": 2, \"id\": 11426, \"job\": \"Director\", \"name\": \"Ben Sharpsteen\"}, {\"credit_id\": \"572f5163c3a3687cc9000c94\", \"department\": \"Crew\", \"gender\": 2, \"id\": 11427, \"job\": \"Sequence Supervisor\", \"name\": \"William Roberts\"}, {\"credit_id\": \"52fe43cb9251416c7501e681\", \"department\": \"Directing\", \"gender\": 2, \"id\": 11429, \"job\": \"Director\", \"name\": \"Hamilton Luske\"}, {\"credit_id\": \"572f519bc3a36878180002d9\", \"department\": \"Crew\", \"gender\": 0, \"id\": 11432, \"job\": \"Sequence Supervisor\", \"name\": \"T. Hee\"}, {\"credit_id\": \"572f518f9251413bd900106d\", \"department\": \"Crew\", \"gender\": 2, \"id\": 11434, \"job\": \"Sequence Supervisor\", \"name\": \"Wilfred Jackson\"}, {\"credit_id\": \"565146be9251414b0a009687\", \"department\": \"Visual Effects\", \"gender\": 2, \"id\": 22066, \"job\": \"Animation\", \"name\": \"Eric Larson\"}, {\"credit_id\": \"572f520d9251412c8900432c\", \"department\": \"Visual Effects\", \"gender\": 2, \"id\": 22066, \"job\": \"Animation Director\", \"name\": \"Eric Larson\"}, {\"credit_id\": \"565146fcc3a368070a00939e\", \"department\": \"Visual Effects\", \"gender\": 2, \"id\": 57314, \"job\": \"Animation\", \"name\": \"Wolfgang Reitherman\"}, {\"credit_id\": \"572f521c9251415cc1001f38\", \"department\": \"Visual Effects\", \"gender\": 2, \"id\": 57314, \"job\": \"Animation Director\", \"name\": \"Wolfgang Reitherman\"}, {\"credit_id\": \"572f52a292514118d300177c\", \"department\": \"Art\", \"gender\": 0, \"id\": 57334, \"job\": \"Art Direction\", \"name\": \"Ken Anderson\"}, {\"credit_id\": \"565147a89251410f19000656\", \"department\": \"Visual Effects\", \"gender\": 2, \"id\": 63646, \"job\": \"Animation\", \"name\": \"Frank Thomas\"}, {\"credit_id\": \"572f51c59251413bd9001072\", \"department\": \"Visual Effects\", \"gender\": 2, \"id\": 63646, \"job\": \"Animation Director\", \"name\": \"Frank Thomas\"}, {\"credit_id\": \"52fe43cb9251416c7501e6b1\", \"department\": \"Writing\", \"gender\": 2, \"id\": 64866, \"job\": \"Adaptation\", \"name\": \"Erdman Penner\"}, {\"credit_id\": \"52fe43cb9251416c7501e68d\", \"department\": \"Writing\", \"gender\": 2, \"id\": 67372, \"job\": \"Novel\", \"name\": \"Collodi\"}, {\"credit_id\": \"52fe43cb9251416c7501e6a5\", \"department\": \"Writing\", \"gender\": 0, \"id\": 67373, \"job\": \"Adaptation\", \"name\": \"William Cottrell\"}, {\"credit_id\": \"52fe43cb9251416c7501e6ab\", \"department\": \"Writing\", \"gender\": 0, \"id\": 67374, \"job\": \"Adaptation\", \"name\": \"Joseph Sabo\"}, {\"credit_id\": \"52fe43cb9251416c7501e6b7\", \"department\": \"Writing\", \"gender\": 2, \"id\": 67375, \"job\": \"Adaptation\", \"name\": \"Aurelius Battaglia\"}, {\"credit_id\": \"5651472c92514178d7004f22\", \"department\": \"Visual Effects\", \"gender\": 2, \"id\": 69003, \"job\": \"Animation\", \"name\": \"John Lounsbery\"}, {\"credit_id\": \"572f53339251413de300039b\", \"department\": \"Writing\", \"gender\": 0, \"id\": 69133, \"job\": \"Characters\", \"name\": \"Joe Grant\"}, {\"credit_id\": \"572f52ae9251413de3000386\", \"department\": \"Art\", \"gender\": 0, \"id\": 71212, \"job\": \"Art Direction\", \"name\": \"Dick Kelsey\"}, {\"credit_id\": \"572f536fc3a3687492000364\", \"department\": \"Writing\", \"gender\": 0, \"id\": 71215, \"job\": \"Characters\", \"name\": \"John Walbridge\"}, {\"credit_id\": \"572f517d92514173a1002de2\", \"department\": \"Crew\", \"gender\": 2, \"id\": 74565, \"job\": \"Sequence Supervisor\", \"name\": \"Jack Kinney\"}, {\"credit_id\": \"572f53449251413bd900109a\", \"department\": \"Writing\", \"gender\": 2, \"id\": 77614, \"job\": \"Characters\", \"name\": \"John P. Miller\"}, {\"credit_id\": \"5687bf03c3a368362800af5f\", \"department\": \"Visual Effects\", \"gender\": 2, \"id\": 106834, \"job\": \"Animation\", \"name\": \"Charles A. Nichols\"}, {\"credit_id\": \"565a13b992514161ac000b92\", \"department\": \"Visual Effects\", \"gender\": 0, \"id\": 109453, \"job\": \"Animation\", \"name\": \"Ward Kimball\"}, {\"credit_id\": \"572f51efc3a36874eb00030c\", \"department\": \"Visual Effects\", \"gender\": 0, \"id\": 109453, \"job\": \"Animation Director\", \"name\": \"Ward Kimball\"}, {\"credit_id\": \"572f5470c3a3687818000350\", \"department\": \"Visual Effects\", \"gender\": 2, \"id\": 115754, \"job\": \"Animation\", \"name\": \"Les Clark\"}, {\"credit_id\": \"565a164092514161ac000bdf\", \"department\": \"Visual Effects\", \"gender\": 2, \"id\": 138170, \"job\": \"Animation\", \"name\": \"Milt Kahl\"}, {\"credit_id\": \"572f51d19251413bd9001076\", \"department\": \"Visual Effects\", \"gender\": 2, \"id\": 138170, \"job\": \"Animation Director\", \"name\": \"Milt Kahl\"}, {\"credit_id\": \"572f53eec3a3687492000376\", \"department\": \"Visual Effects\", \"gender\": 0, \"id\": 138172, \"job\": \"Animation\", \"name\": \"Jack Bradbury\"}, {\"credit_id\": \"572f53c19251413de30003aa\", \"department\": \"Visual Effects\", \"gender\": 0, \"id\": 138174, \"job\": \"Animation\", \"name\": \"Don Lusk\"}, {\"credit_id\": \"565a218792514161c1000e7c\", \"department\": \"Visual Effects\", \"gender\": 0, \"id\": 143786, \"job\": \"Animation\", \"name\": \"Ollie Johnston\"}, {\"credit_id\": \"572f5d9bc3a368749200050d\", \"department\": \"Visual Effects\", \"gender\": 0, \"id\": 148149, \"job\": \"Animation\", \"name\": \"John Elliotte\"}, {\"credit_id\": \"572f54659251412c8900437f\", \"department\": \"Visual Effects\", \"gender\": 0, \"id\": 148162, \"job\": \"Animation\", \"name\": \"Preston Blair\"}, {\"credit_id\": \"572f550b9251413c270010f0\", \"department\": \"Art\", \"gender\": 2, \"id\": 148245, \"job\": \"Background Designer\", \"name\": \"Ray Huffine\"}, {\"credit_id\": \"572f53a2c3a3687818000324\", \"department\": \"Visual Effects\", \"gender\": 2, \"id\": 148263, \"job\": \"Animation\", \"name\": \"Don Towsley\"}, {\"credit_id\": \"572f544392514118d30017a8\", \"department\": \"Visual Effects\", \"gender\": 0, \"id\": 148774, \"job\": \"Animation\", \"name\": \"George Rowley\"}, {\"credit_id\": \"564fc65a9251414af50056b1\", \"department\": \"Art\", \"gender\": 0, \"id\": 149217, \"job\": \"Background Designer\", \"name\": \"Merle Cox\"}, {\"credit_id\": \"572f51e2c3a36878180002e2\", \"department\": \"Visual Effects\", \"gender\": 2, \"id\": 149973, \"job\": \"Animation Director\", \"name\": \"Bill Tytla\"}, {\"credit_id\": \"572f52f79251412c89004350\", \"department\": \"Art\", \"gender\": 0, \"id\": 150115, \"job\": \"Art Direction\", \"name\": \"McLaren Stewart\"}, {\"credit_id\": \"572f52d9c3a368749200034d\", \"department\": \"Art\", \"gender\": 0, \"id\": 150116, \"job\": \"Art Direction\", \"name\": \"Thor Putnam\"}, {\"credit_id\": \"565146a2c3a3680716009e6c\", \"department\": \"Art\", \"gender\": 0, \"id\": 150117, \"job\": \"Background Designer\", \"name\": \"Claude Coats\"}, {\"credit_id\": \"572f547992514118d30017ab\", \"department\": \"Visual Effects\", \"gender\": 2, \"id\": 150758, \"job\": \"Animation\", \"name\": \"Marvin Woodward\"}, {\"credit_id\": \"565147059251410f19000625\", \"department\": \"Visual Effects\", \"gender\": 0, \"id\": 222238, \"job\": \"Animation\", \"name\": \"Joshua Meador\"}, {\"credit_id\": \"572f5459c3a368749200038a\", \"department\": \"Visual Effects\", \"gender\": 0, \"id\": 222262, \"job\": \"Animation\", \"name\": \"Don Patterson\"}, {\"credit_id\": \"572f544fc3a3682f5b0007e2\", \"department\": \"Visual Effects\", \"gender\": 2, \"id\": 222310, \"job\": \"Animation\", \"name\": \"John McManus\"}, {\"credit_id\": \"572f5426c3a3685b5c001ccb\", \"department\": \"Visual Effects\", \"gender\": 0, \"id\": 222465, \"job\": \"Animation\", \"name\": \"Don Tobin\"}, {\"credit_id\": \"572f52c39251413bd900108e\", \"department\": \"Art\", \"gender\": 0, \"id\": 222468, \"job\": \"Art Direction\", \"name\": \"Kendall O\\'Connor\"}, {\"credit_id\": \"572f5410c3a368781800033c\", \"department\": \"Visual Effects\", \"gender\": 0, \"id\": 222469, \"job\": \"Animation\", \"name\": \"Art Palmer\"}, {\"credit_id\": \"56514766c3a368070a0093b2\", \"department\": \"Visual Effects\", \"gender\": 2, \"id\": 222578, \"job\": \"Animation\", \"name\": \"Fred Moore\"}, {\"credit_id\": \"572f51abc3a3687492000326\", \"department\": \"Visual Effects\", \"gender\": 2, \"id\": 222578, \"job\": \"Animation Director\", \"name\": \"Fred Moore\"}, {\"credit_id\": \"572f5487c3a368496e001190\", \"department\": \"Visual Effects\", \"gender\": 2, \"id\": 224698, \"job\": \"Animation\", \"name\": \"Hugh Fraser\"}, {\"credit_id\": \"572f532792514118d300178b\", \"department\": \"Writing\", \"gender\": 0, \"id\": 225715, \"job\": \"Characters\", \"name\": \"Albert Hurter\"}, {\"credit_id\": \"572f528bc3a3682f5b0007c1\", \"department\": \"Art\", \"gender\": 0, \"id\": 225716, \"job\": \"Art Direction\", \"name\": \"Charles Philippi\"}, {\"credit_id\": \"572f516ec3a3682faa00082a\", \"department\": \"Crew\", \"gender\": 2, \"id\": 226599, \"job\": \"Sequence Supervisor\", \"name\": \"Norman Ferguson\"}, {\"credit_id\": \"572f53939251413e520002fc\", \"department\": \"Visual Effects\", \"gender\": 0, \"id\": 227127, \"job\": \"Animation\", \"name\": \"Bernard Wolf\\\\t\"}, {\"credit_id\": \"572f5297c3a3682faa000842\", \"department\": \"Art\", \"gender\": 0, \"id\": 236477, \"job\": \"Art Direction\", \"name\": \"Hugh Hennesy\"}, {\"credit_id\": \"572f54379251413bd90010b0\", \"department\": \"Visual Effects\", \"gender\": 0, \"id\": 930439, \"job\": \"Animation\", \"name\": \"Robert Martsch\"}, {\"credit_id\": \"572f53dbc3a3682faa000861\", \"department\": \"Visual Effects\", \"gender\": 0, \"id\": 1015864, \"job\": \"Animation\", \"name\": \"Norman Tate\"}, {\"credit_id\": \"572f52e392514173a1002e11\", \"department\": \"Art\", \"gender\": 2, \"id\": 1035385, \"job\": \"Art Direction\", \"name\": \"John Hubley\"}, {\"credit_id\": \"572f53f8c3a3682faa000867\", \"department\": \"Visual Effects\", \"gender\": 0, \"id\": 1062367, \"job\": \"Animation\", \"name\": \"Lynn Karp\"}, {\"credit_id\": \"572f54fe9251413c270010ed\", \"department\": \"Art\", \"gender\": 2, \"id\": 1062380, \"job\": \"Background Designer\", \"name\": \"Ed Starr\"}, {\"credit_id\": \"572f535092514118d3001795\", \"department\": \"Writing\", \"gender\": 0, \"id\": 1095778, \"job\": \"Characters\", \"name\": \"Campbell Grant\"}, {\"credit_id\": \"572f52cf9251413c270010af\", \"department\": \"Art\", \"gender\": 0, \"id\": 1475322, \"job\": \"Art Direction\", \"name\": \"Terrell Stapp\"}, {\"credit_id\": \"572f5300c3a3687492000354\", \"department\": \"Art\", \"gender\": 2, \"id\": 1482031, \"job\": \"Art Direction\", \"name\": \"Al Zinnen\"}, {\"credit_id\": \"572f535f9251412c8900435f\", \"department\": \"Writing\", \"gender\": 0, \"id\": 1515172, \"job\": \"Characters\", \"name\": \"Martin Provensen\"}, {\"credit_id\": \"56798608c3a36847440031c4\", \"department\": \"Visual Effects\", \"gender\": 0, \"id\": 1552493, \"job\": \"Animation\", \"name\": \"Bob McCrea\"}]']\n",
      "\n",
      "Número total de valores únicos: 4773\n",
      "\n",
      "##################################################\n",
      "\n"
     ]
    }
   ],
   "source": [
    "# Lista de columnas a revisar. Estas son columnas que tienen como información una lista de diccionarios\n",
    "columns_to_explore = ['genres', 'keywords', 'production_companies', 'production_countries', 'spoken_languages', 'cast', 'crew']\n",
    "\n",
    "# Bucle para explorar cada columna\n",
    "for column in columns_to_explore:\n",
    "    print(f\"Explorando la columna: {column}\\n\")\n",
    "    \n",
    "    # Imprimir algunos valores de la columna\n",
    "    sample_values = df_merge_percentil[column].sample(5, random_state=42).tolist()\n",
    "    \n",
    "    # Imprimir información\n",
    "    print(f\"Algunos valores de la columna:\\n{sample_values}\\n\")\n",
    "    print(f\"Número total de valores únicos: {df_merge[column].nunique()}\\n\")\n",
    "    print(\"#\" * 50 + \"\\n\")"
   ]
  },
  {
   "cell_type": "markdown",
   "id": "6429ec3a-9e30-4702-b238-034ed7dc345c",
   "metadata": {},
   "source": [
    "Se van a eliminar estas columnas excepto 'genres', 'keywords' y 'cast', ya que tienen información relevante para el objetivo del proyecto"
   ]
  },
  {
   "cell_type": "code",
   "execution_count": 22,
   "id": "980ab9d7-80f7-43d3-9803-f39815be96ba",
   "metadata": {},
   "outputs": [],
   "source": [
    "# Lista de columnas a eliminar\n",
    "columns_to_explore = ['production_companies', 'production_countries', 'spoken_languages', 'crew']\n",
    "\n",
    "# ELiminación de dichas columnas\n",
    "df_merge_percentil.drop(columns=columns_to_explore, inplace=True)"
   ]
  },
  {
   "cell_type": "code",
   "execution_count": 23,
   "id": "29119b22-5233-4411-b621-90a96b23752a",
   "metadata": {},
   "outputs": [
    {
     "data": {
      "text/html": [
       "<div>\n",
       "<style scoped>\n",
       "    .dataframe tbody tr th:only-of-type {\n",
       "        vertical-align: middle;\n",
       "    }\n",
       "\n",
       "    .dataframe tbody tr th {\n",
       "        vertical-align: top;\n",
       "    }\n",
       "\n",
       "    .dataframe thead th {\n",
       "        text-align: right;\n",
       "    }\n",
       "</style>\n",
       "<table border=\"1\" class=\"dataframe\">\n",
       "  <thead>\n",
       "    <tr style=\"text-align: right;\">\n",
       "      <th></th>\n",
       "      <th>budget</th>\n",
       "      <th>genres</th>\n",
       "      <th>id</th>\n",
       "      <th>keywords</th>\n",
       "      <th>original_language</th>\n",
       "      <th>overview</th>\n",
       "      <th>popularity</th>\n",
       "      <th>release_date</th>\n",
       "      <th>revenue</th>\n",
       "      <th>runtime</th>\n",
       "      <th>status</th>\n",
       "      <th>tagline</th>\n",
       "      <th>title</th>\n",
       "      <th>vote_average</th>\n",
       "      <th>vote_count</th>\n",
       "      <th>cast</th>\n",
       "    </tr>\n",
       "  </thead>\n",
       "  <tbody>\n",
       "    <tr>\n",
       "      <th>0</th>\n",
       "      <td>237000000</td>\n",
       "      <td>[{\"id\": 28, \"name\": \"Action\"}, {\"id\": 12, \"nam...</td>\n",
       "      <td>19995</td>\n",
       "      <td>[{\"id\": 1463, \"name\": \"culture clash\"}, {\"id\":...</td>\n",
       "      <td>en</td>\n",
       "      <td>In the 22nd century, a paraplegic Marine is di...</td>\n",
       "      <td>150.437577</td>\n",
       "      <td>2009-12-10</td>\n",
       "      <td>2787965087</td>\n",
       "      <td>162.0</td>\n",
       "      <td>Released</td>\n",
       "      <td>Enter the World of Pandora.</td>\n",
       "      <td>Avatar</td>\n",
       "      <td>7.2</td>\n",
       "      <td>11800</td>\n",
       "      <td>[{\"cast_id\": 242, \"character\": \"Jake Sully\", \"...</td>\n",
       "    </tr>\n",
       "    <tr>\n",
       "      <th>1</th>\n",
       "      <td>300000000</td>\n",
       "      <td>[{\"id\": 12, \"name\": \"Adventure\"}, {\"id\": 14, \"...</td>\n",
       "      <td>285</td>\n",
       "      <td>[{\"id\": 270, \"name\": \"ocean\"}, {\"id\": 726, \"na...</td>\n",
       "      <td>en</td>\n",
       "      <td>Captain Barbossa, long believed to be dead, ha...</td>\n",
       "      <td>139.082615</td>\n",
       "      <td>2007-05-19</td>\n",
       "      <td>961000000</td>\n",
       "      <td>169.0</td>\n",
       "      <td>Released</td>\n",
       "      <td>At the end of the world, the adventure begins.</td>\n",
       "      <td>Pirates of the Caribbean: At World's End</td>\n",
       "      <td>6.9</td>\n",
       "      <td>4500</td>\n",
       "      <td>[{\"cast_id\": 4, \"character\": \"Captain Jack Spa...</td>\n",
       "    </tr>\n",
       "    <tr>\n",
       "      <th>2</th>\n",
       "      <td>245000000</td>\n",
       "      <td>[{\"id\": 28, \"name\": \"Action\"}, {\"id\": 12, \"nam...</td>\n",
       "      <td>206647</td>\n",
       "      <td>[{\"id\": 470, \"name\": \"spy\"}, {\"id\": 818, \"name...</td>\n",
       "      <td>en</td>\n",
       "      <td>A cryptic message from Bond’s past sends him o...</td>\n",
       "      <td>107.376788</td>\n",
       "      <td>2015-10-26</td>\n",
       "      <td>880674609</td>\n",
       "      <td>148.0</td>\n",
       "      <td>Released</td>\n",
       "      <td>A Plan No One Escapes</td>\n",
       "      <td>Spectre</td>\n",
       "      <td>6.3</td>\n",
       "      <td>4466</td>\n",
       "      <td>[{\"cast_id\": 1, \"character\": \"James Bond\", \"cr...</td>\n",
       "    </tr>\n",
       "    <tr>\n",
       "      <th>3</th>\n",
       "      <td>250000000</td>\n",
       "      <td>[{\"id\": 28, \"name\": \"Action\"}, {\"id\": 80, \"nam...</td>\n",
       "      <td>49026</td>\n",
       "      <td>[{\"id\": 849, \"name\": \"dc comics\"}, {\"id\": 853,...</td>\n",
       "      <td>en</td>\n",
       "      <td>Following the death of District Attorney Harve...</td>\n",
       "      <td>112.312950</td>\n",
       "      <td>2012-07-16</td>\n",
       "      <td>1084939099</td>\n",
       "      <td>165.0</td>\n",
       "      <td>Released</td>\n",
       "      <td>The Legend Ends</td>\n",
       "      <td>The Dark Knight Rises</td>\n",
       "      <td>7.6</td>\n",
       "      <td>9106</td>\n",
       "      <td>[{\"cast_id\": 2, \"character\": \"Bruce Wayne / Ba...</td>\n",
       "    </tr>\n",
       "    <tr>\n",
       "      <th>4</th>\n",
       "      <td>260000000</td>\n",
       "      <td>[{\"id\": 28, \"name\": \"Action\"}, {\"id\": 12, \"nam...</td>\n",
       "      <td>49529</td>\n",
       "      <td>[{\"id\": 818, \"name\": \"based on novel\"}, {\"id\":...</td>\n",
       "      <td>en</td>\n",
       "      <td>John Carter is a war-weary, former military ca...</td>\n",
       "      <td>43.926995</td>\n",
       "      <td>2012-03-07</td>\n",
       "      <td>284139100</td>\n",
       "      <td>132.0</td>\n",
       "      <td>Released</td>\n",
       "      <td>Lost in our world, found in another.</td>\n",
       "      <td>John Carter</td>\n",
       "      <td>6.1</td>\n",
       "      <td>2124</td>\n",
       "      <td>[{\"cast_id\": 5, \"character\": \"John Carter\", \"c...</td>\n",
       "    </tr>\n",
       "  </tbody>\n",
       "</table>\n",
       "</div>"
      ],
      "text/plain": [
       "      budget                                             genres      id  \\\n",
       "0  237000000  [{\"id\": 28, \"name\": \"Action\"}, {\"id\": 12, \"nam...   19995   \n",
       "1  300000000  [{\"id\": 12, \"name\": \"Adventure\"}, {\"id\": 14, \"...     285   \n",
       "2  245000000  [{\"id\": 28, \"name\": \"Action\"}, {\"id\": 12, \"nam...  206647   \n",
       "3  250000000  [{\"id\": 28, \"name\": \"Action\"}, {\"id\": 80, \"nam...   49026   \n",
       "4  260000000  [{\"id\": 28, \"name\": \"Action\"}, {\"id\": 12, \"nam...   49529   \n",
       "\n",
       "                                            keywords original_language  \\\n",
       "0  [{\"id\": 1463, \"name\": \"culture clash\"}, {\"id\":...                en   \n",
       "1  [{\"id\": 270, \"name\": \"ocean\"}, {\"id\": 726, \"na...                en   \n",
       "2  [{\"id\": 470, \"name\": \"spy\"}, {\"id\": 818, \"name...                en   \n",
       "3  [{\"id\": 849, \"name\": \"dc comics\"}, {\"id\": 853,...                en   \n",
       "4  [{\"id\": 818, \"name\": \"based on novel\"}, {\"id\":...                en   \n",
       "\n",
       "                                            overview  popularity release_date  \\\n",
       "0  In the 22nd century, a paraplegic Marine is di...  150.437577   2009-12-10   \n",
       "1  Captain Barbossa, long believed to be dead, ha...  139.082615   2007-05-19   \n",
       "2  A cryptic message from Bond’s past sends him o...  107.376788   2015-10-26   \n",
       "3  Following the death of District Attorney Harve...  112.312950   2012-07-16   \n",
       "4  John Carter is a war-weary, former military ca...   43.926995   2012-03-07   \n",
       "\n",
       "      revenue  runtime    status  \\\n",
       "0  2787965087    162.0  Released   \n",
       "1   961000000    169.0  Released   \n",
       "2   880674609    148.0  Released   \n",
       "3  1084939099    165.0  Released   \n",
       "4   284139100    132.0  Released   \n",
       "\n",
       "                                          tagline  \\\n",
       "0                     Enter the World of Pandora.   \n",
       "1  At the end of the world, the adventure begins.   \n",
       "2                           A Plan No One Escapes   \n",
       "3                                 The Legend Ends   \n",
       "4            Lost in our world, found in another.   \n",
       "\n",
       "                                      title  vote_average  vote_count  \\\n",
       "0                                    Avatar           7.2       11800   \n",
       "1  Pirates of the Caribbean: At World's End           6.9        4500   \n",
       "2                                   Spectre           6.3        4466   \n",
       "3                     The Dark Knight Rises           7.6        9106   \n",
       "4                               John Carter           6.1        2124   \n",
       "\n",
       "                                                cast  \n",
       "0  [{\"cast_id\": 242, \"character\": \"Jake Sully\", \"...  \n",
       "1  [{\"cast_id\": 4, \"character\": \"Captain Jack Spa...  \n",
       "2  [{\"cast_id\": 1, \"character\": \"James Bond\", \"cr...  \n",
       "3  [{\"cast_id\": 2, \"character\": \"Bruce Wayne / Ba...  \n",
       "4  [{\"cast_id\": 5, \"character\": \"John Carter\", \"c...  "
      ]
     },
     "execution_count": 23,
     "metadata": {},
     "output_type": "execute_result"
    }
   ],
   "source": [
    "# Comprobación de que se han eliminado correctamente\n",
    "df_merge_percentil.head()"
   ]
  },
  {
   "cell_type": "code",
   "execution_count": 24,
   "id": "57fb1078-f90c-4999-be1d-4b9f1605b041",
   "metadata": {},
   "outputs": [
    {
     "data": {
      "text/plain": [
       "status\n",
       "Released    1438\n",
       "Name: count, dtype: int64"
      ]
     },
     "execution_count": 24,
     "metadata": {},
     "output_type": "execute_result"
    }
   ],
   "source": [
    "# Valores diferentes de la columna status\n",
    "df_merge_percentil['status'].value_counts()"
   ]
  },
  {
   "cell_type": "code",
   "execution_count": 25,
   "id": "34bdbf38-7817-49b0-b888-aa9d1bf7f7d8",
   "metadata": {},
   "outputs": [],
   "source": [
    "# Se elimina dicha variable\n",
    "df_merge_percentil.drop(columns=['status'], inplace=True)"
   ]
  },
  {
   "cell_type": "code",
   "execution_count": 26,
   "id": "e4b7754e-ca74-4318-88c9-f35b3f2e48fd",
   "metadata": {},
   "outputs": [
    {
     "data": {
      "text/html": [
       "<div>\n",
       "<style scoped>\n",
       "    .dataframe tbody tr th:only-of-type {\n",
       "        vertical-align: middle;\n",
       "    }\n",
       "\n",
       "    .dataframe tbody tr th {\n",
       "        vertical-align: top;\n",
       "    }\n",
       "\n",
       "    .dataframe thead th {\n",
       "        text-align: right;\n",
       "    }\n",
       "</style>\n",
       "<table border=\"1\" class=\"dataframe\">\n",
       "  <thead>\n",
       "    <tr style=\"text-align: right;\">\n",
       "      <th></th>\n",
       "      <th>genres</th>\n",
       "      <th>keywords</th>\n",
       "      <th>cast</th>\n",
       "    </tr>\n",
       "  </thead>\n",
       "  <tbody>\n",
       "    <tr>\n",
       "      <th>0</th>\n",
       "      <td>[{\"id\": 28, \"name\": \"Action\"}, {\"id\": 12, \"nam...</td>\n",
       "      <td>[{\"id\": 1463, \"name\": \"culture clash\"}, {\"id\":...</td>\n",
       "      <td>[{\"cast_id\": 242, \"character\": \"Jake Sully\", \"...</td>\n",
       "    </tr>\n",
       "    <tr>\n",
       "      <th>1</th>\n",
       "      <td>[{\"id\": 12, \"name\": \"Adventure\"}, {\"id\": 14, \"...</td>\n",
       "      <td>[{\"id\": 270, \"name\": \"ocean\"}, {\"id\": 726, \"na...</td>\n",
       "      <td>[{\"cast_id\": 4, \"character\": \"Captain Jack Spa...</td>\n",
       "    </tr>\n",
       "    <tr>\n",
       "      <th>2</th>\n",
       "      <td>[{\"id\": 28, \"name\": \"Action\"}, {\"id\": 12, \"nam...</td>\n",
       "      <td>[{\"id\": 470, \"name\": \"spy\"}, {\"id\": 818, \"name...</td>\n",
       "      <td>[{\"cast_id\": 1, \"character\": \"James Bond\", \"cr...</td>\n",
       "    </tr>\n",
       "    <tr>\n",
       "      <th>3</th>\n",
       "      <td>[{\"id\": 28, \"name\": \"Action\"}, {\"id\": 80, \"nam...</td>\n",
       "      <td>[{\"id\": 849, \"name\": \"dc comics\"}, {\"id\": 853,...</td>\n",
       "      <td>[{\"cast_id\": 2, \"character\": \"Bruce Wayne / Ba...</td>\n",
       "    </tr>\n",
       "    <tr>\n",
       "      <th>4</th>\n",
       "      <td>[{\"id\": 28, \"name\": \"Action\"}, {\"id\": 12, \"nam...</td>\n",
       "      <td>[{\"id\": 818, \"name\": \"based on novel\"}, {\"id\":...</td>\n",
       "      <td>[{\"cast_id\": 5, \"character\": \"John Carter\", \"c...</td>\n",
       "    </tr>\n",
       "  </tbody>\n",
       "</table>\n",
       "</div>"
      ],
      "text/plain": [
       "                                              genres  \\\n",
       "0  [{\"id\": 28, \"name\": \"Action\"}, {\"id\": 12, \"nam...   \n",
       "1  [{\"id\": 12, \"name\": \"Adventure\"}, {\"id\": 14, \"...   \n",
       "2  [{\"id\": 28, \"name\": \"Action\"}, {\"id\": 12, \"nam...   \n",
       "3  [{\"id\": 28, \"name\": \"Action\"}, {\"id\": 80, \"nam...   \n",
       "4  [{\"id\": 28, \"name\": \"Action\"}, {\"id\": 12, \"nam...   \n",
       "\n",
       "                                            keywords  \\\n",
       "0  [{\"id\": 1463, \"name\": \"culture clash\"}, {\"id\":...   \n",
       "1  [{\"id\": 270, \"name\": \"ocean\"}, {\"id\": 726, \"na...   \n",
       "2  [{\"id\": 470, \"name\": \"spy\"}, {\"id\": 818, \"name...   \n",
       "3  [{\"id\": 849, \"name\": \"dc comics\"}, {\"id\": 853,...   \n",
       "4  [{\"id\": 818, \"name\": \"based on novel\"}, {\"id\":...   \n",
       "\n",
       "                                                cast  \n",
       "0  [{\"cast_id\": 242, \"character\": \"Jake Sully\", \"...  \n",
       "1  [{\"cast_id\": 4, \"character\": \"Captain Jack Spa...  \n",
       "2  [{\"cast_id\": 1, \"character\": \"James Bond\", \"cr...  \n",
       "3  [{\"cast_id\": 2, \"character\": \"Bruce Wayne / Ba...  \n",
       "4  [{\"cast_id\": 5, \"character\": \"John Carter\", \"c...  "
      ]
     },
     "execution_count": 26,
     "metadata": {},
     "output_type": "execute_result"
    }
   ],
   "source": [
    "df_merge_percentil[['genres','keywords','cast']].head()"
   ]
  },
  {
   "cell_type": "markdown",
   "id": "bf21f67c-450d-4321-aa1a-7c48839dfde9",
   "metadata": {},
   "source": [
    "Se va a extraer la información de las columnas 'genres', 'keywords' y 'cast'"
   ]
  },
  {
   "cell_type": "code",
   "execution_count": 27,
   "id": "2f56a166-dd10-428e-8ab1-9446d39619de",
   "metadata": {},
   "outputs": [],
   "source": [
    "# Función para extraer los valores de la clave \"name\" y unirlos por espacio\n",
    "def extract_names(value):\n",
    "    try:\n",
    "        #convierte la cadena JSON en una lista de diccionarios\n",
    "        items = ast.literal_eval(value)\n",
    "        #extrae los valores de la clave \"name\"\n",
    "        names = [item.get(\"name\", \"\") for item in items]\n",
    "        #une los valores por espacio\n",
    "        return \" \".join(names)\n",
    "    except (ValueError, SyntaxError) as e:\n",
    "        return str(e)"
   ]
  },
  {
   "cell_type": "code",
   "execution_count": 28,
   "id": "02a9cfab-fed6-4a7b-a655-4bbe2723d579",
   "metadata": {},
   "outputs": [],
   "source": [
    "# Uso de la función extract_names en las columnas correspondientes\n",
    "df_merge_percentil['genres'] = df_merge_percentil['genres'].apply(extract_names)\n",
    "df_merge_percentil['keywords'] = df_merge_percentil['keywords'].apply(extract_names)\n",
    "df_merge_percentil['cast'] = df_merge_percentil['cast'].apply(extract_names)"
   ]
  },
  {
   "cell_type": "code",
   "execution_count": 29,
   "id": "1558b017-7f38-4b38-9bf4-23ad89281b58",
   "metadata": {},
   "outputs": [
    {
     "name": "stdout",
     "output_type": "stream",
     "text": [
      "DataFrame después de la transformación:\n"
     ]
    },
    {
     "data": {
      "text/html": [
       "<div>\n",
       "<style scoped>\n",
       "    .dataframe tbody tr th:only-of-type {\n",
       "        vertical-align: middle;\n",
       "    }\n",
       "\n",
       "    .dataframe tbody tr th {\n",
       "        vertical-align: top;\n",
       "    }\n",
       "\n",
       "    .dataframe thead th {\n",
       "        text-align: right;\n",
       "    }\n",
       "</style>\n",
       "<table border=\"1\" class=\"dataframe\">\n",
       "  <thead>\n",
       "    <tr style=\"text-align: right;\">\n",
       "      <th></th>\n",
       "      <th>genres</th>\n",
       "      <th>keywords</th>\n",
       "      <th>cast</th>\n",
       "    </tr>\n",
       "  </thead>\n",
       "  <tbody>\n",
       "    <tr>\n",
       "      <th>0</th>\n",
       "      <td>Action Adventure Fantasy Science Fiction</td>\n",
       "      <td>culture clash future space war space colony so...</td>\n",
       "      <td>Sam Worthington Zoe Saldana Sigourney Weaver S...</td>\n",
       "    </tr>\n",
       "    <tr>\n",
       "      <th>1</th>\n",
       "      <td>Adventure Fantasy Action</td>\n",
       "      <td>ocean drug abuse exotic island east india trad...</td>\n",
       "      <td>Johnny Depp Orlando Bloom Keira Knightley Stel...</td>\n",
       "    </tr>\n",
       "    <tr>\n",
       "      <th>2</th>\n",
       "      <td>Action Adventure Crime</td>\n",
       "      <td>spy based on novel secret agent sequel mi6 bri...</td>\n",
       "      <td>Daniel Craig Christoph Waltz Léa Seydoux Ralph...</td>\n",
       "    </tr>\n",
       "    <tr>\n",
       "      <th>3</th>\n",
       "      <td>Action Crime Drama Thriller</td>\n",
       "      <td>dc comics crime fighter terrorist secret ident...</td>\n",
       "      <td>Christian Bale Michael Caine Gary Oldman Anne ...</td>\n",
       "    </tr>\n",
       "    <tr>\n",
       "      <th>4</th>\n",
       "      <td>Action Adventure Science Fiction</td>\n",
       "      <td>based on novel mars medallion space travel pri...</td>\n",
       "      <td>Taylor Kitsch Lynn Collins Samantha Morton Wil...</td>\n",
       "    </tr>\n",
       "  </tbody>\n",
       "</table>\n",
       "</div>"
      ],
      "text/plain": [
       "                                     genres  \\\n",
       "0  Action Adventure Fantasy Science Fiction   \n",
       "1                  Adventure Fantasy Action   \n",
       "2                    Action Adventure Crime   \n",
       "3               Action Crime Drama Thriller   \n",
       "4          Action Adventure Science Fiction   \n",
       "\n",
       "                                            keywords  \\\n",
       "0  culture clash future space war space colony so...   \n",
       "1  ocean drug abuse exotic island east india trad...   \n",
       "2  spy based on novel secret agent sequel mi6 bri...   \n",
       "3  dc comics crime fighter terrorist secret ident...   \n",
       "4  based on novel mars medallion space travel pri...   \n",
       "\n",
       "                                                cast  \n",
       "0  Sam Worthington Zoe Saldana Sigourney Weaver S...  \n",
       "1  Johnny Depp Orlando Bloom Keira Knightley Stel...  \n",
       "2  Daniel Craig Christoph Waltz Léa Seydoux Ralph...  \n",
       "3  Christian Bale Michael Caine Gary Oldman Anne ...  \n",
       "4  Taylor Kitsch Lynn Collins Samantha Morton Wil...  "
      ]
     },
     "execution_count": 29,
     "metadata": {},
     "output_type": "execute_result"
    }
   ],
   "source": [
    "# Información después de la transformación\n",
    "print(\"DataFrame después de la transformación:\")\n",
    "df_merge_percentil[['genres', 'keywords', 'cast']].head()"
   ]
  },
  {
   "cell_type": "code",
   "execution_count": 30,
   "id": "b99d856d-498e-4df5-b1d8-37d54ae9a3d4",
   "metadata": {},
   "outputs": [
    {
     "data": {
      "text/plain": [
       "0    In the 22nd century, a paraplegic Marine is di...\n",
       "1    Captain Barbossa, long believed to be dead, ha...\n",
       "2    A cryptic message from Bond’s past sends him o...\n",
       "3    Following the death of District Attorney Harve...\n",
       "4    John Carter is a war-weary, former military ca...\n",
       "Name: combined_text, dtype: object"
      ]
     },
     "execution_count": 30,
     "metadata": {},
     "output_type": "execute_result"
    }
   ],
   "source": [
    "# Combinación de las columnas overview, genres, keywords y cast en una sola\n",
    "df_merge_percentil['combined_text'] = df_merge_percentil['overview'] + ' ' + df_merge_percentil['cast'] + ' ' + df_merge_percentil['genres'] + ' ' + df_merge_percentil['keywords']\n",
    "df_merge_percentil['combined_text'].head()"
   ]
  },
  {
   "cell_type": "code",
   "execution_count": 31,
   "id": "84edb86c-1f88-4806-9ffd-f3e3e105dd50",
   "metadata": {},
   "outputs": [
    {
     "data": {
      "text/plain": [
       "\"\\n#Se ejecuta lo siguiente para tener el .csv con la columna combined_text y pasarle un Embedding y subirlo a AstraDB\\n\\n# Combinación de las columnas overview + title y se crea un dataframe con esa combinación\\ndf_title_overview = pd.DataFrame({\\n    'combined_text': df_merge_percentil['title'] + ' ' + df_merge_percentil['overview']\\n})\\n\\n\\n\\ndf_title_overview.to_csv('df_title_overview.csv')\\n\""
      ]
     },
     "execution_count": 31,
     "metadata": {},
     "output_type": "execute_result"
    }
   ],
   "source": [
    "'''\n",
    "#Se ejecuta lo siguiente para tener el .csv con la columna combined_text y pasarle un Embedding y subirlo a AstraDB\n",
    "\n",
    "# Combinación de las columnas overview + title y se crea un dataframe con esa combinación\n",
    "df_title_overview = pd.DataFrame({\n",
    "    'combined_text': df_merge_percentil['title'] + ' ' + df_merge_percentil['overview']\n",
    "})\n",
    "\n",
    "\n",
    "\n",
    "df_title_overview.to_csv('df_title_overview.csv')\n",
    "'''"
   ]
  },
  {
   "cell_type": "markdown",
   "id": "362d1c0f-848a-4ee9-8056-d230caffc1ed",
   "metadata": {},
   "source": [
    "### NLP"
   ]
  },
  {
   "cell_type": "markdown",
   "id": "4d275151-d225-400f-bd78-d17c5103d47c",
   "metadata": {},
   "source": [
    "Se va a realizar una Tokenización y Eliminación de StopWords"
   ]
  },
  {
   "cell_type": "code",
   "execution_count": 32,
   "id": "0c63ccc5-e7b2-4b07-8072-ba08bc865d12",
   "metadata": {
    "scrolled": true
   },
   "outputs": [
    {
     "name": "stdout",
     "output_type": "stream",
     "text": [
      "Collecting en-core-web-sm==3.7.1\n",
      "  Downloading https://github.com/explosion/spacy-models/releases/download/en_core_web_sm-3.7.1/en_core_web_sm-3.7.1-py3-none-any.whl (12.8 MB)\n",
      "\u001b[2K     \u001b[38;2;114;156;31m━━━━━━━━━━━━━━━━━━━━━━━━━━━━━━━━━━━━━━━━\u001b[0m \u001b[32m12.8/12.8 MB\u001b[0m \u001b[31m11.0 MB/s\u001b[0m eta \u001b[36m0:00:00\u001b[0m MB/s\u001b[0m eta \u001b[36m0:00:01\u001b[0m:01\u001b[0m\n",
      "\u001b[?25hRequirement already satisfied: spacy<3.8.0,>=3.7.2 in /Users/n.c.rodriguez/anaconda3/envs/nico/lib/python3.10/site-packages (from en-core-web-sm==3.7.1) (3.7.2)\n",
      "Requirement already satisfied: spacy-legacy<3.1.0,>=3.0.11 in /Users/n.c.rodriguez/anaconda3/envs/nico/lib/python3.10/site-packages (from spacy<3.8.0,>=3.7.2->en-core-web-sm==3.7.1) (3.0.12)\n",
      "Requirement already satisfied: spacy-loggers<2.0.0,>=1.0.0 in /Users/n.c.rodriguez/anaconda3/envs/nico/lib/python3.10/site-packages (from spacy<3.8.0,>=3.7.2->en-core-web-sm==3.7.1) (1.0.5)\n",
      "Requirement already satisfied: murmurhash<1.1.0,>=0.28.0 in /Users/n.c.rodriguez/anaconda3/envs/nico/lib/python3.10/site-packages (from spacy<3.8.0,>=3.7.2->en-core-web-sm==3.7.1) (1.0.7)\n",
      "Requirement already satisfied: cymem<2.1.0,>=2.0.2 in /Users/n.c.rodriguez/anaconda3/envs/nico/lib/python3.10/site-packages (from spacy<3.8.0,>=3.7.2->en-core-web-sm==3.7.1) (2.0.6)\n",
      "Requirement already satisfied: preshed<3.1.0,>=3.0.2 in /Users/n.c.rodriguez/anaconda3/envs/nico/lib/python3.10/site-packages (from spacy<3.8.0,>=3.7.2->en-core-web-sm==3.7.1) (3.0.6)\n",
      "Requirement already satisfied: thinc<8.3.0,>=8.1.8 in /Users/n.c.rodriguez/anaconda3/envs/nico/lib/python3.10/site-packages (from spacy<3.8.0,>=3.7.2->en-core-web-sm==3.7.1) (8.2.2)\n",
      "Requirement already satisfied: wasabi<1.2.0,>=0.9.1 in /Users/n.c.rodriguez/anaconda3/envs/nico/lib/python3.10/site-packages (from spacy<3.8.0,>=3.7.2->en-core-web-sm==3.7.1) (0.10.1)\n",
      "Requirement already satisfied: srsly<3.0.0,>=2.4.3 in /Users/n.c.rodriguez/anaconda3/envs/nico/lib/python3.10/site-packages (from spacy<3.8.0,>=3.7.2->en-core-web-sm==3.7.1) (2.4.8)\n",
      "Requirement already satisfied: catalogue<2.1.0,>=2.0.6 in /Users/n.c.rodriguez/anaconda3/envs/nico/lib/python3.10/site-packages (from spacy<3.8.0,>=3.7.2->en-core-web-sm==3.7.1) (2.0.10)\n",
      "Requirement already satisfied: weasel<0.4.0,>=0.1.0 in /Users/n.c.rodriguez/anaconda3/envs/nico/lib/python3.10/site-packages (from spacy<3.8.0,>=3.7.2->en-core-web-sm==3.7.1) (0.3.4)\n",
      "Requirement already satisfied: typer<0.10.0,>=0.3.0 in /Users/n.c.rodriguez/anaconda3/envs/nico/lib/python3.10/site-packages (from spacy<3.8.0,>=3.7.2->en-core-web-sm==3.7.1) (0.9.0)\n",
      "Requirement already satisfied: smart-open<7.0.0,>=5.2.1 in /Users/n.c.rodriguez/anaconda3/envs/nico/lib/python3.10/site-packages (from spacy<3.8.0,>=3.7.2->en-core-web-sm==3.7.1) (6.4.0)\n",
      "Requirement already satisfied: tqdm<5.0.0,>=4.38.0 in /Users/n.c.rodriguez/anaconda3/envs/nico/lib/python3.10/site-packages (from spacy<3.8.0,>=3.7.2->en-core-web-sm==3.7.1) (4.65.0)\n",
      "Requirement already satisfied: requests<3.0.0,>=2.13.0 in /Users/n.c.rodriguez/anaconda3/envs/nico/lib/python3.10/site-packages (from spacy<3.8.0,>=3.7.2->en-core-web-sm==3.7.1) (2.31.0)\n",
      "Requirement already satisfied: pydantic!=1.8,!=1.8.1,<3.0.0,>=1.7.4 in /Users/n.c.rodriguez/anaconda3/envs/nico/lib/python3.10/site-packages (from spacy<3.8.0,>=3.7.2->en-core-web-sm==3.7.1) (2.6.0)\n",
      "Requirement already satisfied: jinja2 in /Users/n.c.rodriguez/anaconda3/envs/nico/lib/python3.10/site-packages (from spacy<3.8.0,>=3.7.2->en-core-web-sm==3.7.1) (3.1.3)\n",
      "Requirement already satisfied: setuptools in /Users/n.c.rodriguez/anaconda3/envs/nico/lib/python3.10/site-packages (from spacy<3.8.0,>=3.7.2->en-core-web-sm==3.7.1) (68.2.2)\n",
      "Requirement already satisfied: packaging>=20.0 in /Users/n.c.rodriguez/anaconda3/envs/nico/lib/python3.10/site-packages (from spacy<3.8.0,>=3.7.2->en-core-web-sm==3.7.1) (23.2)\n",
      "Requirement already satisfied: langcodes<4.0.0,>=3.2.0 in /Users/n.c.rodriguez/anaconda3/envs/nico/lib/python3.10/site-packages (from spacy<3.8.0,>=3.7.2->en-core-web-sm==3.7.1) (3.3.0)\n",
      "Requirement already satisfied: numpy>=1.19.0 in /Users/n.c.rodriguez/anaconda3/envs/nico/lib/python3.10/site-packages (from spacy<3.8.0,>=3.7.2->en-core-web-sm==3.7.1) (1.26.3)\n",
      "Requirement already satisfied: annotated-types>=0.4.0 in /Users/n.c.rodriguez/anaconda3/envs/nico/lib/python3.10/site-packages (from pydantic!=1.8,!=1.8.1,<3.0.0,>=1.7.4->spacy<3.8.0,>=3.7.2->en-core-web-sm==3.7.1) (0.6.0)\n",
      "Requirement already satisfied: pydantic-core==2.16.1 in /Users/n.c.rodriguez/anaconda3/envs/nico/lib/python3.10/site-packages (from pydantic!=1.8,!=1.8.1,<3.0.0,>=1.7.4->spacy<3.8.0,>=3.7.2->en-core-web-sm==3.7.1) (2.16.1)\n",
      "Requirement already satisfied: typing-extensions>=4.6.1 in /Users/n.c.rodriguez/anaconda3/envs/nico/lib/python3.10/site-packages (from pydantic!=1.8,!=1.8.1,<3.0.0,>=1.7.4->spacy<3.8.0,>=3.7.2->en-core-web-sm==3.7.1) (4.9.0)\n",
      "Requirement already satisfied: charset-normalizer<4,>=2 in /Users/n.c.rodriguez/anaconda3/envs/nico/lib/python3.10/site-packages (from requests<3.0.0,>=2.13.0->spacy<3.8.0,>=3.7.2->en-core-web-sm==3.7.1) (2.0.4)\n",
      "Requirement already satisfied: idna<4,>=2.5 in /Users/n.c.rodriguez/anaconda3/envs/nico/lib/python3.10/site-packages (from requests<3.0.0,>=2.13.0->spacy<3.8.0,>=3.7.2->en-core-web-sm==3.7.1) (3.4)\n",
      "Requirement already satisfied: urllib3<3,>=1.21.1 in /Users/n.c.rodriguez/anaconda3/envs/nico/lib/python3.10/site-packages (from requests<3.0.0,>=2.13.0->spacy<3.8.0,>=3.7.2->en-core-web-sm==3.7.1) (2.1.0)\n",
      "Requirement already satisfied: certifi>=2017.4.17 in /Users/n.c.rodriguez/anaconda3/envs/nico/lib/python3.10/site-packages (from requests<3.0.0,>=2.13.0->spacy<3.8.0,>=3.7.2->en-core-web-sm==3.7.1) (2023.11.17)\n",
      "Requirement already satisfied: blis<0.8.0,>=0.7.8 in /Users/n.c.rodriguez/anaconda3/envs/nico/lib/python3.10/site-packages (from thinc<8.3.0,>=8.1.8->spacy<3.8.0,>=3.7.2->en-core-web-sm==3.7.1) (0.7.9)\n",
      "Requirement already satisfied: confection<1.0.0,>=0.0.1 in /Users/n.c.rodriguez/anaconda3/envs/nico/lib/python3.10/site-packages (from thinc<8.3.0,>=8.1.8->spacy<3.8.0,>=3.7.2->en-core-web-sm==3.7.1) (0.1.4)\n",
      "Requirement already satisfied: click<9.0.0,>=7.1.1 in /Users/n.c.rodriguez/anaconda3/envs/nico/lib/python3.10/site-packages (from typer<0.10.0,>=0.3.0->spacy<3.8.0,>=3.7.2->en-core-web-sm==3.7.1) (8.1.7)\n",
      "Requirement already satisfied: cloudpathlib<0.17.0,>=0.7.0 in /Users/n.c.rodriguez/anaconda3/envs/nico/lib/python3.10/site-packages (from weasel<0.4.0,>=0.1.0->spacy<3.8.0,>=3.7.2->en-core-web-sm==3.7.1) (0.16.0)\n",
      "Requirement already satisfied: MarkupSafe>=2.0 in /Users/n.c.rodriguez/anaconda3/envs/nico/lib/python3.10/site-packages (from jinja2->spacy<3.8.0,>=3.7.2->en-core-web-sm==3.7.1) (2.1.4)\n",
      "\u001b[38;5;2m✔ Download and installation successful\u001b[0m\n",
      "You can now load the package via spacy.load('en_core_web_sm')\n"
     ]
    }
   ],
   "source": [
    "#Descarga del modelo de spaCy en inglés\n",
    "!python -m spacy download en_core_web_sm"
   ]
  },
  {
   "cell_type": "code",
   "execution_count": 33,
   "id": "0265a686-3a8b-4718-b48b-1bd49c6fc0eb",
   "metadata": {},
   "outputs": [
    {
     "name": "stderr",
     "output_type": "stream",
     "text": [
      "[nltk_data] Downloading package stopwords to\n",
      "[nltk_data]     /Users/n.c.rodriguez/nltk_data...\n",
      "[nltk_data]   Package stopwords is already up-to-date!\n",
      "[nltk_data] Downloading package punkt to\n",
      "[nltk_data]     /Users/n.c.rodriguez/nltk_data...\n",
      "[nltk_data]   Package punkt is already up-to-date!\n"
     ]
    }
   ],
   "source": [
    "# Descarga de las stopwords y punkt\n",
    "nltk.download('stopwords')\n",
    "nltk.download('punkt')\n",
    "# Carga el modelo de spaCy en inglés\n",
    "nlp = spacy.load(\"en_core_web_sm\")"
   ]
  },
  {
   "cell_type": "code",
   "execution_count": 34,
   "id": "91cf2fe7-e5d7-4602-90ff-794b5abc0e3f",
   "metadata": {},
   "outputs": [],
   "source": [
    "# Función de tokenización y eliminación de stopwords con NLTLK + Stemming\n",
    "def preprocessing(text):\n",
    "    # Tokenización\n",
    "    tokens = word_tokenize(text)\n",
    "    \n",
    "    # Eliminación de stopwords\n",
    "    stop_words = set(stopwords.words(\"english\"))\n",
    "    tokens = [token.lower() for token in tokens if token.isalpha() and token.lower() not in stop_words]\n",
    "    \n",
    "    # Stemming\n",
    "    stemmer = PorterStemmer()\n",
    "    tokens = [stemmer.stem(token) for token in tokens]\n",
    "    \n",
    "    return tokens"
   ]
  },
  {
   "cell_type": "code",
   "execution_count": 35,
   "id": "b7081052-59b0-4a3f-8eed-8136d4bf2228",
   "metadata": {},
   "outputs": [],
   "source": [
    "# Uso de la función preprocessing en la columna combined_text\n",
    "df_merge_percentil['combined_text_preprocessed'] = df_merge_percentil['combined_text'].apply(preprocessing)"
   ]
  },
  {
   "cell_type": "code",
   "execution_count": 36,
   "id": "16525e35-81c0-42eb-8b59-68b1a6ac8637",
   "metadata": {},
   "outputs": [
    {
     "data": {
      "text/plain": [
       "0    [centuri, parapleg, marin, dispatch, moon, pan...\n",
       "1    [captain, barbossa, long, believ, dead, come, ...\n",
       "2    [cryptic, messag, bond, past, send, trail, unc...\n",
       "3    [follow, death, district, attorney, harvey, de...\n",
       "4    [john, carter, former, militari, captain, inex...\n",
       "Name: combined_text_preprocessed, dtype: object"
      ]
     },
     "execution_count": 36,
     "metadata": {},
     "output_type": "execute_result"
    }
   ],
   "source": [
    "df_merge_percentil['combined_text_preprocessed'].head()"
   ]
  },
  {
   "cell_type": "code",
   "execution_count": 37,
   "id": "12bacb78-ecd9-40a8-8017-fb7835c3cdb8",
   "metadata": {},
   "outputs": [
    {
     "data": {
      "text/html": [
       "<div>\n",
       "<style scoped>\n",
       "    .dataframe tbody tr th:only-of-type {\n",
       "        vertical-align: middle;\n",
       "    }\n",
       "\n",
       "    .dataframe tbody tr th {\n",
       "        vertical-align: top;\n",
       "    }\n",
       "\n",
       "    .dataframe thead th {\n",
       "        text-align: right;\n",
       "    }\n",
       "</style>\n",
       "<table border=\"1\" class=\"dataframe\">\n",
       "  <thead>\n",
       "    <tr style=\"text-align: right;\">\n",
       "      <th></th>\n",
       "      <th>budget</th>\n",
       "      <th>genres</th>\n",
       "      <th>id</th>\n",
       "      <th>keywords</th>\n",
       "      <th>original_language</th>\n",
       "      <th>overview</th>\n",
       "      <th>popularity</th>\n",
       "      <th>release_date</th>\n",
       "      <th>revenue</th>\n",
       "      <th>runtime</th>\n",
       "      <th>tagline</th>\n",
       "      <th>title</th>\n",
       "      <th>vote_average</th>\n",
       "      <th>vote_count</th>\n",
       "      <th>cast</th>\n",
       "      <th>combined_text</th>\n",
       "      <th>combined_text_preprocessed</th>\n",
       "    </tr>\n",
       "  </thead>\n",
       "  <tbody>\n",
       "    <tr>\n",
       "      <th>0</th>\n",
       "      <td>237000000</td>\n",
       "      <td>Action Adventure Fantasy Science Fiction</td>\n",
       "      <td>19995</td>\n",
       "      <td>culture clash future space war space colony so...</td>\n",
       "      <td>en</td>\n",
       "      <td>In the 22nd century, a paraplegic Marine is di...</td>\n",
       "      <td>150.437577</td>\n",
       "      <td>2009-12-10</td>\n",
       "      <td>2787965087</td>\n",
       "      <td>162.0</td>\n",
       "      <td>Enter the World of Pandora.</td>\n",
       "      <td>Avatar</td>\n",
       "      <td>7.2</td>\n",
       "      <td>11800</td>\n",
       "      <td>Sam Worthington Zoe Saldana Sigourney Weaver S...</td>\n",
       "      <td>In the 22nd century, a paraplegic Marine is di...</td>\n",
       "      <td>[centuri, parapleg, marin, dispatch, moon, pan...</td>\n",
       "    </tr>\n",
       "    <tr>\n",
       "      <th>1</th>\n",
       "      <td>300000000</td>\n",
       "      <td>Adventure Fantasy Action</td>\n",
       "      <td>285</td>\n",
       "      <td>ocean drug abuse exotic island east india trad...</td>\n",
       "      <td>en</td>\n",
       "      <td>Captain Barbossa, long believed to be dead, ha...</td>\n",
       "      <td>139.082615</td>\n",
       "      <td>2007-05-19</td>\n",
       "      <td>961000000</td>\n",
       "      <td>169.0</td>\n",
       "      <td>At the end of the world, the adventure begins.</td>\n",
       "      <td>Pirates of the Caribbean: At World's End</td>\n",
       "      <td>6.9</td>\n",
       "      <td>4500</td>\n",
       "      <td>Johnny Depp Orlando Bloom Keira Knightley Stel...</td>\n",
       "      <td>Captain Barbossa, long believed to be dead, ha...</td>\n",
       "      <td>[captain, barbossa, long, believ, dead, come, ...</td>\n",
       "    </tr>\n",
       "    <tr>\n",
       "      <th>2</th>\n",
       "      <td>245000000</td>\n",
       "      <td>Action Adventure Crime</td>\n",
       "      <td>206647</td>\n",
       "      <td>spy based on novel secret agent sequel mi6 bri...</td>\n",
       "      <td>en</td>\n",
       "      <td>A cryptic message from Bond’s past sends him o...</td>\n",
       "      <td>107.376788</td>\n",
       "      <td>2015-10-26</td>\n",
       "      <td>880674609</td>\n",
       "      <td>148.0</td>\n",
       "      <td>A Plan No One Escapes</td>\n",
       "      <td>Spectre</td>\n",
       "      <td>6.3</td>\n",
       "      <td>4466</td>\n",
       "      <td>Daniel Craig Christoph Waltz Léa Seydoux Ralph...</td>\n",
       "      <td>A cryptic message from Bond’s past sends him o...</td>\n",
       "      <td>[cryptic, messag, bond, past, send, trail, unc...</td>\n",
       "    </tr>\n",
       "    <tr>\n",
       "      <th>3</th>\n",
       "      <td>250000000</td>\n",
       "      <td>Action Crime Drama Thriller</td>\n",
       "      <td>49026</td>\n",
       "      <td>dc comics crime fighter terrorist secret ident...</td>\n",
       "      <td>en</td>\n",
       "      <td>Following the death of District Attorney Harve...</td>\n",
       "      <td>112.312950</td>\n",
       "      <td>2012-07-16</td>\n",
       "      <td>1084939099</td>\n",
       "      <td>165.0</td>\n",
       "      <td>The Legend Ends</td>\n",
       "      <td>The Dark Knight Rises</td>\n",
       "      <td>7.6</td>\n",
       "      <td>9106</td>\n",
       "      <td>Christian Bale Michael Caine Gary Oldman Anne ...</td>\n",
       "      <td>Following the death of District Attorney Harve...</td>\n",
       "      <td>[follow, death, district, attorney, harvey, de...</td>\n",
       "    </tr>\n",
       "    <tr>\n",
       "      <th>4</th>\n",
       "      <td>260000000</td>\n",
       "      <td>Action Adventure Science Fiction</td>\n",
       "      <td>49529</td>\n",
       "      <td>based on novel mars medallion space travel pri...</td>\n",
       "      <td>en</td>\n",
       "      <td>John Carter is a war-weary, former military ca...</td>\n",
       "      <td>43.926995</td>\n",
       "      <td>2012-03-07</td>\n",
       "      <td>284139100</td>\n",
       "      <td>132.0</td>\n",
       "      <td>Lost in our world, found in another.</td>\n",
       "      <td>John Carter</td>\n",
       "      <td>6.1</td>\n",
       "      <td>2124</td>\n",
       "      <td>Taylor Kitsch Lynn Collins Samantha Morton Wil...</td>\n",
       "      <td>John Carter is a war-weary, former military ca...</td>\n",
       "      <td>[john, carter, former, militari, captain, inex...</td>\n",
       "    </tr>\n",
       "  </tbody>\n",
       "</table>\n",
       "</div>"
      ],
      "text/plain": [
       "      budget                                    genres      id  \\\n",
       "0  237000000  Action Adventure Fantasy Science Fiction   19995   \n",
       "1  300000000                  Adventure Fantasy Action     285   \n",
       "2  245000000                    Action Adventure Crime  206647   \n",
       "3  250000000               Action Crime Drama Thriller   49026   \n",
       "4  260000000          Action Adventure Science Fiction   49529   \n",
       "\n",
       "                                            keywords original_language  \\\n",
       "0  culture clash future space war space colony so...                en   \n",
       "1  ocean drug abuse exotic island east india trad...                en   \n",
       "2  spy based on novel secret agent sequel mi6 bri...                en   \n",
       "3  dc comics crime fighter terrorist secret ident...                en   \n",
       "4  based on novel mars medallion space travel pri...                en   \n",
       "\n",
       "                                            overview  popularity release_date  \\\n",
       "0  In the 22nd century, a paraplegic Marine is di...  150.437577   2009-12-10   \n",
       "1  Captain Barbossa, long believed to be dead, ha...  139.082615   2007-05-19   \n",
       "2  A cryptic message from Bond’s past sends him o...  107.376788   2015-10-26   \n",
       "3  Following the death of District Attorney Harve...  112.312950   2012-07-16   \n",
       "4  John Carter is a war-weary, former military ca...   43.926995   2012-03-07   \n",
       "\n",
       "      revenue  runtime                                         tagline  \\\n",
       "0  2787965087    162.0                     Enter the World of Pandora.   \n",
       "1   961000000    169.0  At the end of the world, the adventure begins.   \n",
       "2   880674609    148.0                           A Plan No One Escapes   \n",
       "3  1084939099    165.0                                 The Legend Ends   \n",
       "4   284139100    132.0            Lost in our world, found in another.   \n",
       "\n",
       "                                      title  vote_average  vote_count  \\\n",
       "0                                    Avatar           7.2       11800   \n",
       "1  Pirates of the Caribbean: At World's End           6.9        4500   \n",
       "2                                   Spectre           6.3        4466   \n",
       "3                     The Dark Knight Rises           7.6        9106   \n",
       "4                               John Carter           6.1        2124   \n",
       "\n",
       "                                                cast  \\\n",
       "0  Sam Worthington Zoe Saldana Sigourney Weaver S...   \n",
       "1  Johnny Depp Orlando Bloom Keira Knightley Stel...   \n",
       "2  Daniel Craig Christoph Waltz Léa Seydoux Ralph...   \n",
       "3  Christian Bale Michael Caine Gary Oldman Anne ...   \n",
       "4  Taylor Kitsch Lynn Collins Samantha Morton Wil...   \n",
       "\n",
       "                                       combined_text  \\\n",
       "0  In the 22nd century, a paraplegic Marine is di...   \n",
       "1  Captain Barbossa, long believed to be dead, ha...   \n",
       "2  A cryptic message from Bond’s past sends him o...   \n",
       "3  Following the death of District Attorney Harve...   \n",
       "4  John Carter is a war-weary, former military ca...   \n",
       "\n",
       "                          combined_text_preprocessed  \n",
       "0  [centuri, parapleg, marin, dispatch, moon, pan...  \n",
       "1  [captain, barbossa, long, believ, dead, come, ...  \n",
       "2  [cryptic, messag, bond, past, send, trail, unc...  \n",
       "3  [follow, death, district, attorney, harvey, de...  \n",
       "4  [john, carter, former, militari, captain, inex...  "
      ]
     },
     "execution_count": 37,
     "metadata": {},
     "output_type": "execute_result"
    }
   ],
   "source": [
    "df_merge_percentil.head()"
   ]
  },
  {
   "cell_type": "code",
   "execution_count": 38,
   "id": "b1bc1e98-91c7-44de-bfd8-1d91af114555",
   "metadata": {},
   "outputs": [
    {
     "data": {
      "text/plain": [
       "(1438, 17)"
      ]
     },
     "execution_count": 38,
     "metadata": {},
     "output_type": "execute_result"
    }
   ],
   "source": [
    "df_merge_percentil.shape"
   ]
  },
  {
   "cell_type": "markdown",
   "id": "b8abb01d-f11c-4e73-a2a1-60e6d38f9444",
   "metadata": {},
   "source": [
    "## Fase 3: Generación y Análisis de Sentimientos"
   ]
  },
  {
   "cell_type": "markdown",
   "id": "5825f3f9-5309-461e-9476-4abbe6498023",
   "metadata": {},
   "source": [
    "Se generan reviews con OpenAI y un análisis de sentimiento con BERT"
   ]
  },
  {
   "cell_type": "markdown",
   "id": "f8cb8786-41b3-4cda-aaab-4c6749b875e9",
   "metadata": {},
   "source": [
    "### Generación de reviews con OpenAI"
   ]
  },
  {
   "cell_type": "code",
   "execution_count": 39,
   "id": "08a19bb6-458e-4c7f-b300-8f286ae929c0",
   "metadata": {
    "scrolled": true
   },
   "outputs": [
    {
     "data": {
      "text/plain": [
       "\"\\n# Se guarda en una lista los títulos de las películas\\n\\nlista_titulos = df_merge_percentil['title'].to_list()\\n\\nlista_titulos\\n\""
      ]
     },
     "execution_count": 39,
     "metadata": {},
     "output_type": "execute_result"
    }
   ],
   "source": [
    "'''\n",
    "# Se guarda en una lista los títulos de las películas\n",
    "\n",
    "lista_titulos = df_merge_percentil['title'].to_list()\n",
    "\n",
    "lista_titulos\n",
    "'''"
   ]
  },
  {
   "cell_type": "code",
   "execution_count": 40,
   "id": "42234d42-14f6-4323-9683-644f99599299",
   "metadata": {},
   "outputs": [
    {
     "data": {
      "text/plain": [
       "'\\n# Cargar variables de entorno\\nload_dotenv()\\n\\n# Configurar el motor de OpenAI\\nengine = \"gpt-3.5-turbo\"\\nclient = OpenAI(api_key=os.getenv(\"OPENAI_API_KEY\"))\\n'"
      ]
     },
     "execution_count": 40,
     "metadata": {},
     "output_type": "execute_result"
    }
   ],
   "source": [
    "'''\n",
    "# Cargar variables de entorno\n",
    "load_dotenv()\n",
    "\n",
    "# Configurar el motor de OpenAI\n",
    "engine = \"gpt-3.5-turbo\"\n",
    "client = OpenAI(api_key=os.getenv(\"OPENAI_API_KEY\"))\n",
    "'''"
   ]
  },
  {
   "cell_type": "code",
   "execution_count": 41,
   "id": "2804d040-f989-4dc8-8b3b-6074cf5750fb",
   "metadata": {},
   "outputs": [
    {
     "data": {
      "text/plain": [
       "'\\n# Definición de la función completition para usar openAI y obtener una review de la película\\ndef get_completion(prompt):\\n    completion = client.chat.completions.create(\\n        model=engine,\\n            messages=[\\n                {\"role\": \"system\", \"content\": \"You are an expert at reviewing a movie knowing its title.                 Such review should be no longer than 5 lines\"},\\n                {\"role\": \"user\", \"content\": f\"{prompt}\"}\\n            ]\\n        )\\n    return completion\\n'"
      ]
     },
     "execution_count": 41,
     "metadata": {},
     "output_type": "execute_result"
    }
   ],
   "source": [
    "'''\n",
    "# Definición de la función completition para usar openAI y obtener una review de la película\n",
    "def get_completion(prompt):\n",
    "    completion = client.chat.completions.create(\n",
    "        model=engine,\n",
    "            messages=[\n",
    "                {\"role\": \"system\", \"content\": \"You are an expert at reviewing a movie knowing its title. \\\n",
    "                Such review should be no longer than 5 lines\"},\n",
    "                {\"role\": \"user\", \"content\": f\"{prompt}\"}\n",
    "            ]\n",
    "        )\n",
    "    return completion\n",
    "'''"
   ]
  },
  {
   "cell_type": "code",
   "execution_count": 42,
   "id": "67426338-a840-43ed-9948-53c4f82d4621",
   "metadata": {},
   "outputs": [
    {
     "data": {
      "text/plain": [
       "'\\n# Ejemplo de uso para la película \\nprompt = (\"Spider-Man 3\")\\nrespuesta = get_completion(prompt) \\nprint(respuesta.choices[0].message.content)\\n'"
      ]
     },
     "execution_count": 42,
     "metadata": {},
     "output_type": "execute_result"
    }
   ],
   "source": [
    "'''\n",
    "# Ejemplo de uso para la película \n",
    "prompt = (\"Spider-Man 3\")\n",
    "respuesta = get_completion(prompt) \n",
    "print(respuesta.choices[0].message.content)\n",
    "'''"
   ]
  },
  {
   "cell_type": "code",
   "execution_count": 43,
   "id": "9e89952f-3f11-437b-9c3f-811d0a40545b",
   "metadata": {},
   "outputs": [
    {
     "data": {
      "text/plain": [
       "'\\n# Creación de reviews de cada película \\n# Primero se inicializan dos listas para almacenar títulos y reseñas\\ntitles = []\\nreviews = []\\n\\n# Se recorren todos los títulos almacenados en la lista creada en la celda anterior\\nfor titulo in lista_titulos:\\n    #generar revisión para el título actual\\n    respuesta = get_completion(titulo)\\n    #almacenar título y revisión en las listas respectivas\\n    titles.append(titulo)\\n    reviews.append(respuesta.choices[0].message.content)\\n'"
      ]
     },
     "execution_count": 43,
     "metadata": {},
     "output_type": "execute_result"
    }
   ],
   "source": [
    "'''\n",
    "# Creación de reviews de cada película \n",
    "# Primero se inicializan dos listas para almacenar títulos y reseñas\n",
    "titles = []\n",
    "reviews = []\n",
    "\n",
    "# Se recorren todos los títulos almacenados en la lista creada en la celda anterior\n",
    "for titulo in lista_titulos:\n",
    "    #generar revisión para el título actual\n",
    "    respuesta = get_completion(titulo)\n",
    "    #almacenar título y revisión en las listas respectivas\n",
    "    titles.append(titulo)\n",
    "    reviews.append(respuesta.choices[0].message.content)\n",
    "'''"
   ]
  },
  {
   "cell_type": "code",
   "execution_count": 44,
   "id": "49cdc4ce-426f-420a-9283-b4a50673241e",
   "metadata": {},
   "outputs": [
    {
     "data": {
      "text/plain": [
       "'\\n# Creación de reviews de cada película y mostrando el progreso de ejecución\\nfrom tqdm.notebook import tqdm\\n\\n# Inicialización de listas para almacenar títulos y reseñas\\ntitles = []\\nreviews = []\\n\\n# Crear una barra de progreso\\nfor titulo in tqdm(lista_titulos, desc=\"Procesando películas\", unit=\"película\"):\\n    # Generar revisión para el título actual\\n    respuesta = get_completion(titulo)\\n    # Almacenar título y revisión en las listas respectivas\\n    titles.append(titulo)\\n    reviews.append(respuesta.choices[0].message.content)\\n'"
      ]
     },
     "execution_count": 44,
     "metadata": {},
     "output_type": "execute_result"
    }
   ],
   "source": [
    "'''\n",
    "# Creación de reviews de cada película y mostrando el progreso de ejecución\n",
    "from tqdm.notebook import tqdm\n",
    "\n",
    "# Inicialización de listas para almacenar títulos y reseñas\n",
    "titles = []\n",
    "reviews = []\n",
    "\n",
    "# Crear una barra de progreso\n",
    "for titulo in tqdm(lista_titulos, desc=\"Procesando películas\", unit=\"película\"):\n",
    "    # Generar revisión para el título actual\n",
    "    respuesta = get_completion(titulo)\n",
    "    # Almacenar título y revisión en las listas respectivas\n",
    "    titles.append(titulo)\n",
    "    reviews.append(respuesta.choices[0].message.content)\n",
    "'''"
   ]
  },
  {
   "cell_type": "code",
   "execution_count": 45,
   "id": "770533ce-9ec9-49ac-9a14-dcb31263c1a1",
   "metadata": {},
   "outputs": [
    {
     "data": {
      "text/plain": [
       "\"\\n# Se crea un DataFrame con los resultados\\ndf_reviews = pd.DataFrame({'title': titles, 'review': reviews})\\n\""
      ]
     },
     "execution_count": 45,
     "metadata": {},
     "output_type": "execute_result"
    }
   ],
   "source": [
    "'''\n",
    "# Se crea un DataFrame con los resultados\n",
    "df_reviews = pd.DataFrame({'title': titles, 'review': reviews})\n",
    "'''"
   ]
  },
  {
   "cell_type": "code",
   "execution_count": 46,
   "id": "91e5e5fd-1906-4fe1-85d3-f609525f84cc",
   "metadata": {},
   "outputs": [
    {
     "data": {
      "text/plain": [
       "'\\ndf_reviews\\n'"
      ]
     },
     "execution_count": 46,
     "metadata": {},
     "output_type": "execute_result"
    }
   ],
   "source": [
    "'''\n",
    "df_reviews\n",
    "'''"
   ]
  },
  {
   "cell_type": "code",
   "execution_count": 47,
   "id": "429117d5-6791-4fed-a37b-b4d2a4a5fd08",
   "metadata": {},
   "outputs": [
    {
     "data": {
      "text/plain": [
       "\"\\n# Se va a guardar el DataFrame con las reviews generadas por gpt en un archivo .csv\\ndf_reviews.to_csv('df_reviews.csv')\\n\""
      ]
     },
     "execution_count": 47,
     "metadata": {},
     "output_type": "execute_result"
    }
   ],
   "source": [
    "'''\n",
    "# Se va a guardar el DataFrame con las reviews generadas por gpt en un archivo .csv\n",
    "df_reviews.to_csv('df_reviews.csv')\n",
    "'''"
   ]
  },
  {
   "cell_type": "markdown",
   "id": "20729781-9e12-4c08-8d3d-369f0d472c9c",
   "metadata": {},
   "source": [
    "Los códigos de las celdas anteriores que están entre triples comillas simples son los usados para generar la review de cada película con la API de OpenAI. Se comentan ya que su ejecución es algo lenta porque tiene que generarse una review para cada una de las 1.438 películas.\n",
    "\n",
    "Esta información se ha guardado en un csv llamado 'df_reviews.csv' y que se leey usa a continuación"
   ]
  },
  {
   "cell_type": "code",
   "execution_count": 48,
   "id": "e8627a83-fc16-428f-9f4a-a7638dc32283",
   "metadata": {},
   "outputs": [
    {
     "data": {
      "text/html": [
       "<div>\n",
       "<style scoped>\n",
       "    .dataframe tbody tr th:only-of-type {\n",
       "        vertical-align: middle;\n",
       "    }\n",
       "\n",
       "    .dataframe tbody tr th {\n",
       "        vertical-align: top;\n",
       "    }\n",
       "\n",
       "    .dataframe thead th {\n",
       "        text-align: right;\n",
       "    }\n",
       "</style>\n",
       "<table border=\"1\" class=\"dataframe\">\n",
       "  <thead>\n",
       "    <tr style=\"text-align: right;\">\n",
       "      <th></th>\n",
       "      <th>title</th>\n",
       "      <th>review</th>\n",
       "    </tr>\n",
       "  </thead>\n",
       "  <tbody>\n",
       "    <tr>\n",
       "      <th>0</th>\n",
       "      <td>Avatar</td>\n",
       "      <td>\"Avatar\" is a visually stunning masterpiece th...</td>\n",
       "    </tr>\n",
       "    <tr>\n",
       "      <th>1</th>\n",
       "      <td>Pirates of the Caribbean: At World's End</td>\n",
       "      <td>\"Pirates of the Caribbean: At World's End\" is ...</td>\n",
       "    </tr>\n",
       "    <tr>\n",
       "      <th>2</th>\n",
       "      <td>Spectre</td>\n",
       "      <td>\"Spectre\" is an action-packed thrill ride that...</td>\n",
       "    </tr>\n",
       "    <tr>\n",
       "      <th>3</th>\n",
       "      <td>The Dark Knight Rises</td>\n",
       "      <td>\"The Dark Knight Rises\" is a thrilling conclus...</td>\n",
       "    </tr>\n",
       "    <tr>\n",
       "      <th>4</th>\n",
       "      <td>John Carter</td>\n",
       "      <td>\"John Carter\" is an ambitious sci-fi adventure...</td>\n",
       "    </tr>\n",
       "    <tr>\n",
       "      <th>...</th>\n",
       "      <td>...</td>\n",
       "      <td>...</td>\n",
       "    </tr>\n",
       "    <tr>\n",
       "      <th>1433</th>\n",
       "      <td>The Man from Earth</td>\n",
       "      <td>\"The Man from Earth\" is a thought-provoking an...</td>\n",
       "    </tr>\n",
       "    <tr>\n",
       "      <th>1434</th>\n",
       "      <td>Pi</td>\n",
       "      <td>\"Pi\" is a mind-bending, mathematical thriller ...</td>\n",
       "    </tr>\n",
       "    <tr>\n",
       "      <th>1435</th>\n",
       "      <td>The Signal</td>\n",
       "      <td>\"The Signal\" is a mind-bending sci-fi thriller...</td>\n",
       "    </tr>\n",
       "    <tr>\n",
       "      <th>1436</th>\n",
       "      <td>Clerks</td>\n",
       "      <td>\"Clerks\" is a cult classic that perfectly capt...</td>\n",
       "    </tr>\n",
       "    <tr>\n",
       "      <th>1437</th>\n",
       "      <td>Primer</td>\n",
       "      <td>\"Primer\" is a mind-bending sci-fi film that ch...</td>\n",
       "    </tr>\n",
       "  </tbody>\n",
       "</table>\n",
       "<p>1438 rows × 2 columns</p>\n",
       "</div>"
      ],
      "text/plain": [
       "                                         title  \\\n",
       "0                                       Avatar   \n",
       "1     Pirates of the Caribbean: At World's End   \n",
       "2                                      Spectre   \n",
       "3                        The Dark Knight Rises   \n",
       "4                                  John Carter   \n",
       "...                                        ...   \n",
       "1433                        The Man from Earth   \n",
       "1434                                        Pi   \n",
       "1435                                The Signal   \n",
       "1436                                    Clerks   \n",
       "1437                                    Primer   \n",
       "\n",
       "                                                 review  \n",
       "0     \"Avatar\" is a visually stunning masterpiece th...  \n",
       "1     \"Pirates of the Caribbean: At World's End\" is ...  \n",
       "2     \"Spectre\" is an action-packed thrill ride that...  \n",
       "3     \"The Dark Knight Rises\" is a thrilling conclus...  \n",
       "4     \"John Carter\" is an ambitious sci-fi adventure...  \n",
       "...                                                 ...  \n",
       "1433  \"The Man from Earth\" is a thought-provoking an...  \n",
       "1434  \"Pi\" is a mind-bending, mathematical thriller ...  \n",
       "1435  \"The Signal\" is a mind-bending sci-fi thriller...  \n",
       "1436  \"Clerks\" is a cult classic that perfectly capt...  \n",
       "1437  \"Primer\" is a mind-bending sci-fi film that ch...  \n",
       "\n",
       "[1438 rows x 2 columns]"
      ]
     },
     "execution_count": 48,
     "metadata": {},
     "output_type": "execute_result"
    }
   ],
   "source": [
    "# Se crea el df_reviews a partir del .csv creado anteriormente\n",
    "df_reviews = pd.read_csv('df_reviews.csv', index_col = None)\n",
    "df_reviews = df_reviews.drop(columns=['Unnamed: 0'])\n",
    "df_reviews\n"
   ]
  },
  {
   "cell_type": "code",
   "execution_count": 49,
   "id": "7d26e9b8-1c3a-4ea2-b169-acf450c8bf92",
   "metadata": {},
   "outputs": [
    {
     "data": {
      "text/html": [
       "<div>\n",
       "<style scoped>\n",
       "    .dataframe tbody tr th:only-of-type {\n",
       "        vertical-align: middle;\n",
       "    }\n",
       "\n",
       "    .dataframe tbody tr th {\n",
       "        vertical-align: top;\n",
       "    }\n",
       "\n",
       "    .dataframe thead th {\n",
       "        text-align: right;\n",
       "    }\n",
       "</style>\n",
       "<table border=\"1\" class=\"dataframe\">\n",
       "  <thead>\n",
       "    <tr style=\"text-align: right;\">\n",
       "      <th></th>\n",
       "      <th>budget</th>\n",
       "      <th>genres</th>\n",
       "      <th>id</th>\n",
       "      <th>keywords</th>\n",
       "      <th>original_language</th>\n",
       "      <th>overview</th>\n",
       "      <th>popularity</th>\n",
       "      <th>release_date</th>\n",
       "      <th>revenue</th>\n",
       "      <th>runtime</th>\n",
       "      <th>tagline</th>\n",
       "      <th>title</th>\n",
       "      <th>vote_average</th>\n",
       "      <th>vote_count</th>\n",
       "      <th>cast</th>\n",
       "      <th>combined_text</th>\n",
       "      <th>combined_text_preprocessed</th>\n",
       "      <th>review</th>\n",
       "    </tr>\n",
       "  </thead>\n",
       "  <tbody>\n",
       "    <tr>\n",
       "      <th>0</th>\n",
       "      <td>237000000</td>\n",
       "      <td>Action Adventure Fantasy Science Fiction</td>\n",
       "      <td>19995</td>\n",
       "      <td>culture clash future space war space colony so...</td>\n",
       "      <td>en</td>\n",
       "      <td>In the 22nd century, a paraplegic Marine is di...</td>\n",
       "      <td>150.437577</td>\n",
       "      <td>2009-12-10</td>\n",
       "      <td>2787965087</td>\n",
       "      <td>162.0</td>\n",
       "      <td>Enter the World of Pandora.</td>\n",
       "      <td>Avatar</td>\n",
       "      <td>7.2</td>\n",
       "      <td>11800</td>\n",
       "      <td>Sam Worthington Zoe Saldana Sigourney Weaver S...</td>\n",
       "      <td>In the 22nd century, a paraplegic Marine is di...</td>\n",
       "      <td>[centuri, parapleg, marin, dispatch, moon, pan...</td>\n",
       "      <td>\"Avatar\" is a visually stunning masterpiece th...</td>\n",
       "    </tr>\n",
       "    <tr>\n",
       "      <th>1</th>\n",
       "      <td>300000000</td>\n",
       "      <td>Adventure Fantasy Action</td>\n",
       "      <td>285</td>\n",
       "      <td>ocean drug abuse exotic island east india trad...</td>\n",
       "      <td>en</td>\n",
       "      <td>Captain Barbossa, long believed to be dead, ha...</td>\n",
       "      <td>139.082615</td>\n",
       "      <td>2007-05-19</td>\n",
       "      <td>961000000</td>\n",
       "      <td>169.0</td>\n",
       "      <td>At the end of the world, the adventure begins.</td>\n",
       "      <td>Pirates of the Caribbean: At World's End</td>\n",
       "      <td>6.9</td>\n",
       "      <td>4500</td>\n",
       "      <td>Johnny Depp Orlando Bloom Keira Knightley Stel...</td>\n",
       "      <td>Captain Barbossa, long believed to be dead, ha...</td>\n",
       "      <td>[captain, barbossa, long, believ, dead, come, ...</td>\n",
       "      <td>\"Pirates of the Caribbean: At World's End\" is ...</td>\n",
       "    </tr>\n",
       "    <tr>\n",
       "      <th>2</th>\n",
       "      <td>245000000</td>\n",
       "      <td>Action Adventure Crime</td>\n",
       "      <td>206647</td>\n",
       "      <td>spy based on novel secret agent sequel mi6 bri...</td>\n",
       "      <td>en</td>\n",
       "      <td>A cryptic message from Bond’s past sends him o...</td>\n",
       "      <td>107.376788</td>\n",
       "      <td>2015-10-26</td>\n",
       "      <td>880674609</td>\n",
       "      <td>148.0</td>\n",
       "      <td>A Plan No One Escapes</td>\n",
       "      <td>Spectre</td>\n",
       "      <td>6.3</td>\n",
       "      <td>4466</td>\n",
       "      <td>Daniel Craig Christoph Waltz Léa Seydoux Ralph...</td>\n",
       "      <td>A cryptic message from Bond’s past sends him o...</td>\n",
       "      <td>[cryptic, messag, bond, past, send, trail, unc...</td>\n",
       "      <td>\"Spectre\" is an action-packed thrill ride that...</td>\n",
       "    </tr>\n",
       "    <tr>\n",
       "      <th>3</th>\n",
       "      <td>250000000</td>\n",
       "      <td>Action Crime Drama Thriller</td>\n",
       "      <td>49026</td>\n",
       "      <td>dc comics crime fighter terrorist secret ident...</td>\n",
       "      <td>en</td>\n",
       "      <td>Following the death of District Attorney Harve...</td>\n",
       "      <td>112.312950</td>\n",
       "      <td>2012-07-16</td>\n",
       "      <td>1084939099</td>\n",
       "      <td>165.0</td>\n",
       "      <td>The Legend Ends</td>\n",
       "      <td>The Dark Knight Rises</td>\n",
       "      <td>7.6</td>\n",
       "      <td>9106</td>\n",
       "      <td>Christian Bale Michael Caine Gary Oldman Anne ...</td>\n",
       "      <td>Following the death of District Attorney Harve...</td>\n",
       "      <td>[follow, death, district, attorney, harvey, de...</td>\n",
       "      <td>\"The Dark Knight Rises\" is a thrilling conclus...</td>\n",
       "    </tr>\n",
       "    <tr>\n",
       "      <th>4</th>\n",
       "      <td>260000000</td>\n",
       "      <td>Action Adventure Science Fiction</td>\n",
       "      <td>49529</td>\n",
       "      <td>based on novel mars medallion space travel pri...</td>\n",
       "      <td>en</td>\n",
       "      <td>John Carter is a war-weary, former military ca...</td>\n",
       "      <td>43.926995</td>\n",
       "      <td>2012-03-07</td>\n",
       "      <td>284139100</td>\n",
       "      <td>132.0</td>\n",
       "      <td>Lost in our world, found in another.</td>\n",
       "      <td>John Carter</td>\n",
       "      <td>6.1</td>\n",
       "      <td>2124</td>\n",
       "      <td>Taylor Kitsch Lynn Collins Samantha Morton Wil...</td>\n",
       "      <td>John Carter is a war-weary, former military ca...</td>\n",
       "      <td>[john, carter, former, militari, captain, inex...</td>\n",
       "      <td>\"John Carter\" is an ambitious sci-fi adventure...</td>\n",
       "    </tr>\n",
       "  </tbody>\n",
       "</table>\n",
       "</div>"
      ],
      "text/plain": [
       "      budget                                    genres      id  \\\n",
       "0  237000000  Action Adventure Fantasy Science Fiction   19995   \n",
       "1  300000000                  Adventure Fantasy Action     285   \n",
       "2  245000000                    Action Adventure Crime  206647   \n",
       "3  250000000               Action Crime Drama Thriller   49026   \n",
       "4  260000000          Action Adventure Science Fiction   49529   \n",
       "\n",
       "                                            keywords original_language  \\\n",
       "0  culture clash future space war space colony so...                en   \n",
       "1  ocean drug abuse exotic island east india trad...                en   \n",
       "2  spy based on novel secret agent sequel mi6 bri...                en   \n",
       "3  dc comics crime fighter terrorist secret ident...                en   \n",
       "4  based on novel mars medallion space travel pri...                en   \n",
       "\n",
       "                                            overview  popularity release_date  \\\n",
       "0  In the 22nd century, a paraplegic Marine is di...  150.437577   2009-12-10   \n",
       "1  Captain Barbossa, long believed to be dead, ha...  139.082615   2007-05-19   \n",
       "2  A cryptic message from Bond’s past sends him o...  107.376788   2015-10-26   \n",
       "3  Following the death of District Attorney Harve...  112.312950   2012-07-16   \n",
       "4  John Carter is a war-weary, former military ca...   43.926995   2012-03-07   \n",
       "\n",
       "      revenue  runtime                                         tagline  \\\n",
       "0  2787965087    162.0                     Enter the World of Pandora.   \n",
       "1   961000000    169.0  At the end of the world, the adventure begins.   \n",
       "2   880674609    148.0                           A Plan No One Escapes   \n",
       "3  1084939099    165.0                                 The Legend Ends   \n",
       "4   284139100    132.0            Lost in our world, found in another.   \n",
       "\n",
       "                                      title  vote_average  vote_count  \\\n",
       "0                                    Avatar           7.2       11800   \n",
       "1  Pirates of the Caribbean: At World's End           6.9        4500   \n",
       "2                                   Spectre           6.3        4466   \n",
       "3                     The Dark Knight Rises           7.6        9106   \n",
       "4                               John Carter           6.1        2124   \n",
       "\n",
       "                                                cast  \\\n",
       "0  Sam Worthington Zoe Saldana Sigourney Weaver S...   \n",
       "1  Johnny Depp Orlando Bloom Keira Knightley Stel...   \n",
       "2  Daniel Craig Christoph Waltz Léa Seydoux Ralph...   \n",
       "3  Christian Bale Michael Caine Gary Oldman Anne ...   \n",
       "4  Taylor Kitsch Lynn Collins Samantha Morton Wil...   \n",
       "\n",
       "                                       combined_text  \\\n",
       "0  In the 22nd century, a paraplegic Marine is di...   \n",
       "1  Captain Barbossa, long believed to be dead, ha...   \n",
       "2  A cryptic message from Bond’s past sends him o...   \n",
       "3  Following the death of District Attorney Harve...   \n",
       "4  John Carter is a war-weary, former military ca...   \n",
       "\n",
       "                          combined_text_preprocessed  \\\n",
       "0  [centuri, parapleg, marin, dispatch, moon, pan...   \n",
       "1  [captain, barbossa, long, believ, dead, come, ...   \n",
       "2  [cryptic, messag, bond, past, send, trail, unc...   \n",
       "3  [follow, death, district, attorney, harvey, de...   \n",
       "4  [john, carter, former, militari, captain, inex...   \n",
       "\n",
       "                                              review  \n",
       "0  \"Avatar\" is a visually stunning masterpiece th...  \n",
       "1  \"Pirates of the Caribbean: At World's End\" is ...  \n",
       "2  \"Spectre\" is an action-packed thrill ride that...  \n",
       "3  \"The Dark Knight Rises\" is a thrilling conclus...  \n",
       "4  \"John Carter\" is an ambitious sci-fi adventure...  "
      ]
     },
     "execution_count": 49,
     "metadata": {},
     "output_type": "execute_result"
    }
   ],
   "source": [
    "# Se hace el merge de df_reviews con df_merge_percentil\n",
    "df_merge_percentil_reviews = df_merge_percentil.merge(df_reviews, on='title')\n",
    "df_merge_percentil_reviews.head()"
   ]
  },
  {
   "cell_type": "markdown",
   "id": "f8b643e6-1af1-4059-90c3-34f0dbbfcf6f",
   "metadata": {},
   "source": [
    "### Implementación de una GAN para generar nuevas reviews (valorar si hacerlo)"
   ]
  },
  {
   "cell_type": "code",
   "execution_count": null,
   "id": "6a0e7676-f55d-4a43-a35a-6e915de7924f",
   "metadata": {},
   "outputs": [],
   "source": []
  },
  {
   "cell_type": "markdown",
   "id": "545b62cd-a599-40ee-8d61-9a0320492cbb",
   "metadata": {},
   "source": [
    "### Análisis de sentimientos con BERT"
   ]
  },
  {
   "cell_type": "code",
   "execution_count": 50,
   "id": "4993e900-ac52-47eb-b2c6-84a7220a2573",
   "metadata": {},
   "outputs": [
    {
     "name": "stderr",
     "output_type": "stream",
     "text": [
      "No model was supplied, defaulted to distilbert-base-uncased-finetuned-sst-2-english and revision af0f99b (https://huggingface.co/distilbert-base-uncased-finetuned-sst-2-english).\n",
      "Using a pipeline without specifying a model name and revision in production is not recommended.\n"
     ]
    }
   ],
   "source": [
    "# Se carga el modelo de análisis de sentimientos\n",
    "model_sentiment_analysis = pipeline(\"sentiment-analysis\")"
   ]
  },
  {
   "cell_type": "code",
   "execution_count": 51,
   "id": "f5f15ce0-910a-4291-9bd0-fba3c90d42da",
   "metadata": {},
   "outputs": [],
   "source": [
    "# Se preprocesa y se analiza la review usando el modelo de análisis de sentimientos\n",
    "def analyze_sentiment_pipeline(review):\n",
    "    result = model_sentiment_analysis(review)[0]\n",
    "    sentiment_label = 1 if result['label'] == 'POSITIVE' else 0 if result['label'] == 'NEGATIVE' else -1\n",
    "    confidence = result['score']\n",
    "    return sentiment_label, confidence"
   ]
  },
  {
   "cell_type": "code",
   "execution_count": 52,
   "id": "83ac7727-77cb-4fce-8ca3-6311d27fc875",
   "metadata": {},
   "outputs": [],
   "source": [
    "# Ejemplo de reseña\n",
    "sample_review = \"The movie was fantastic! I loved every moment of it.\"\n",
    "\n",
    "# Analizar sentimiento con el modelo de análisis de sentimientos\n",
    "sentiment_label_pipeline, confidence_pipeline = analyze_sentiment_pipeline(sample_review)"
   ]
  },
  {
   "cell_type": "code",
   "execution_count": 53,
   "id": "dfa37891-10ed-4d31-8116-39bff2bbe9fa",
   "metadata": {},
   "outputs": [
    {
     "name": "stdout",
     "output_type": "stream",
     "text": [
      "Pipeline Sentimiento: Positivo\n",
      "Pipeline Confianza: 0.9998797178268433\n"
     ]
    }
   ],
   "source": [
    "# Mostrar resultados para el modelo de análisis de sentimientos\n",
    "print(\"Pipeline Sentimiento:\", \"Positivo\" if sentiment_label_pipeline == 1 else \"Negativo\" if sentiment_label_pipeline == 0 else \"Neutral\")\n",
    "print(\"Pipeline Confianza:\", confidence_pipeline)"
   ]
  },
  {
   "cell_type": "code",
   "execution_count": 54,
   "id": "33fe8b95-ec3e-4c30-bd1f-016ee68b5169",
   "metadata": {},
   "outputs": [],
   "source": [
    "# Se crea una nueva columna para el resultado del análisis de sentimiento:\n",
    "df_merge_percentil_reviews['sentiment'] = \"\" #se incializa con una cadena vacía\n",
    "\n",
    "# Se aplica la función analyze_sentiment_pipeline usando un bucle para recorrer todas las reviews:\n",
    "for index, row in df_merge_percentil_reviews.iterrows():\n",
    "    review = row['review']\n",
    "    sentiment_label, _ = analyze_sentiment_pipeline(review)\n",
    "\n",
    "    #se almacena el resultado en la nueva columna\n",
    "    df_merge_percentil_reviews.at[index, 'sentiment'] = \"Positivo\" if sentiment_label == 1 else \"Negativo\" if sentiment_label == 0 else \"Neutro\""
   ]
  },
  {
   "cell_type": "code",
   "execution_count": 55,
   "id": "9ebedd65-8b33-4c67-914a-882ac2a1bad4",
   "metadata": {},
   "outputs": [
    {
     "data": {
      "text/plain": [
       "sentiment\n",
       "Positivo    1358\n",
       "Negativo      80\n",
       "Name: count, dtype: int64"
      ]
     },
     "execution_count": 55,
     "metadata": {},
     "output_type": "execute_result"
    }
   ],
   "source": [
    "# Se muestra la cantidad de cada tipo de sentimiento generado con BERT\n",
    "df_merge_percentil_reviews['sentiment'].value_counts()"
   ]
  },
  {
   "cell_type": "markdown",
   "id": "d8ef1baf-d3d3-4904-b679-29831eeb7965",
   "metadata": {},
   "source": [
    "## Fase 4: Sistema de Recomendación"
   ]
  },
  {
   "cell_type": "code",
   "execution_count": 56,
   "id": "b87635e5-e3bb-45a1-a633-0de76ce5eb9a",
   "metadata": {},
   "outputs": [],
   "source": [
    "# Función para guardar en un pickle la tfidf_matrix\n",
    "def save_recomendation(tfidf_matrix):\n",
    "    with open('tfidf_matrix.pickle', 'wb') as handle:\n",
    "        pickle.dump(tfidf_matrix, handle, protocol=pickle.HIGHEST_PROTOCOL)"
   ]
  },
  {
   "cell_type": "code",
   "execution_count": 57,
   "id": "cbc54713-9bc0-4820-8449-3f2afdea1db8",
   "metadata": {},
   "outputs": [],
   "source": [
    "# Se define la función de entrenamiento\n",
    "def train_recommendation():\n",
    "\n",
    "    #se crea el TF-IDF vectorizer\n",
    "    tfidf_vectorizer = TfidfVectorizer()\n",
    "\n",
    "    #Fit y transform de la columna combinada\n",
    "    tfidf_matrix = tfidf_vectorizer.fit_transform(df_merge_percentil_reviews['combined_text'])\n",
    "\n",
    "    #se guarda la matriz con la función save_recomendation creada\n",
    "    save_recomendation(tfidf_matrix)\n",
    "    return tfidf_matrix"
   ]
  },
  {
   "cell_type": "code",
   "execution_count": 58,
   "id": "7e4ff078-11c2-40f6-97a9-10a3d9a23aad",
   "metadata": {},
   "outputs": [],
   "source": [
    "# Función para cargar el pickle de la tfidf_matrix\n",
    "def load_tfidf_matrix():\n",
    "    with open('tfidf_matrix.pickle', 'rb') as handle:\n",
    "        tfidf_matrix = pickle.load(handle)\n",
    "    return tfidf_matrix"
   ]
  },
  {
   "cell_type": "code",
   "execution_count": 96,
   "id": "3b8adeba-9739-4f85-9b88-a61301f11cfd",
   "metadata": {},
   "outputs": [],
   "source": [
    "# Función de recomendación que devuelve las N películas recomendadas y si se desea la review de cada una de ellas\n",
    "def recommendation_with_review(reference_movie_index, show_reviews_and_sentiment):\n",
    "    # Si existe el fichero con la matriz lo cargamos, si no llamamos a train_recommendation\n",
    "    try:\n",
    "        tfidf_matrix = load_tfidf_matrix()\n",
    "    except:\n",
    "        tfidf_matrix = train_recommendation()\n",
    "\n",
    "    #se calcula el cosine_similarity con todas las películas\n",
    "    cosine_sim_scores = cosine_similarity(tfidf_matrix[reference_movie_index], tfidf_matrix)\n",
    "\n",
    "    #se coge el índice con mayor similitud (exlcuyendo la película de referencia)\n",
    "    similar_movie_indices = cosine_sim_scores.argsort()[0][::-1][1:]\n",
    "\n",
    "    #se coge el top N de películas más parecidas a la de referencia y se muestran\n",
    "    top_N = 10  #se puede ajustar a la cantidad de películas a referenciar deseadas\n",
    "    recommended_movies = df_merge_percentil_reviews.iloc[similar_movie_indices[:top_N]]\n",
    "\n",
    "    #si se elige mostrar las reviews y el sentimiento\n",
    "    if show_reviews_and_sentiment:\n",
    "        # Se obtienen las reviews de las películas recomendadas\n",
    "        formatted_output = \"\"\n",
    "        for _, movie in recommended_movies.iterrows():\n",
    "            formatted_output += f'Título: {movie[\"title\"]}\\nReview: {movie[\"review\"]}\\Sentimiento: {movie[\"sentiment\"]}\\n\\n'\n",
    "\n",
    "        return formatted_output\n",
    "    else:\n",
    "        return \"\\n\".join(recommended_movies['title'].tolist())"
   ]
  },
  {
   "cell_type": "code",
   "execution_count": 97,
   "id": "7a051d4b-fe95-486d-a789-6409768b84dc",
   "metadata": {},
   "outputs": [],
   "source": [
    "# Se crea una lista de diccionarios para el dropdown de la interfaz de Gradio\n",
    "movie_options = [(row[\"title\"], index) for index, row in df_merge_percentil_reviews.iterrows()]"
   ]
  },
  {
   "cell_type": "code",
   "execution_count": 99,
   "id": "ffda58c6-a6df-48d8-920a-ad1830ee53df",
   "metadata": {},
   "outputs": [
    {
     "name": "stdout",
     "output_type": "stream",
     "text": [
      "Running on local URL:  http://127.0.0.1:7873\n"
     ]
    },
    {
     "name": "stderr",
     "output_type": "stream",
     "text": [
      "huggingface/tokenizers: The current process just got forked, after parallelism has already been used. Disabling parallelism to avoid deadlocks...\n",
      "To disable this warning, you can either:\n",
      "\t- Avoid using `tokenizers` before the fork if possible\n",
      "\t- Explicitly set the environment variable TOKENIZERS_PARALLELISM=(true | false)\n"
     ]
    },
    {
     "name": "stdout",
     "output_type": "stream",
     "text": [
      "\n",
      "Could not create share link. Missing file: /Users/n.c.rodriguez/anaconda3/envs/nico/lib/python3.10/site-packages/gradio/frpc_darwin_arm64_v0.2. \n",
      "\n",
      "Please check your internet connection. This can happen if your antivirus software blocks the download of this file. You can install manually by following these steps: \n",
      "\n",
      "1. Download this file: https://cdn-media.huggingface.co/frpc-gradio-0.2/frpc_darwin_arm64\n",
      "2. Rename the downloaded file to: frpc_darwin_arm64_v0.2\n",
      "3. Move the file to this location: /Users/n.c.rodriguez/anaconda3/envs/nico/lib/python3.10/site-packages/gradio\n"
     ]
    },
    {
     "name": "stderr",
     "output_type": "stream",
     "text": [
      "\n"
     ]
    },
    {
     "data": {
      "text/html": [
       "<div><iframe src=\"http://127.0.0.1:7873/\" width=\"100%\" height=\"500\" allow=\"autoplay; camera; microphone; clipboard-read; clipboard-write;\" frameborder=\"0\" allowfullscreen></iframe></div>"
      ],
      "text/plain": [
       "<IPython.core.display.HTML object>"
      ]
     },
     "metadata": {},
     "output_type": "display_data"
    },
    {
     "data": {
      "text/plain": []
     },
     "execution_count": 99,
     "metadata": {},
     "output_type": "execute_result"
    }
   ],
   "source": [
    "# Se crea la interfaz web con Gradio\n",
    "demo = gr.Interface(\n",
    "    recommendation_with_review,\n",
    "    [\n",
    "        gr.Dropdown(\n",
    "            movie_options, label=\"Película\", info=\"Selecciona una película que te haya gustado\"\n",
    "        ),\n",
    "        gr.Checkbox(\"¿Quieres leer la review de las películas recomendadas?\"),\n",
    "    ],\n",
    "    \"text\"\n",
    ")\n",
    "\n",
    "demo.launch(share=True)"
   ]
  }
 ],
 "metadata": {
  "kernelspec": {
   "display_name": "Python 3 (ipykernel)",
   "language": "python",
   "name": "python3"
  },
  "language_info": {
   "codemirror_mode": {
    "name": "ipython",
    "version": 3
   },
   "file_extension": ".py",
   "mimetype": "text/x-python",
   "name": "python",
   "nbconvert_exporter": "python",
   "pygments_lexer": "ipython3",
   "version": "3.10.9"
  }
 },
 "nbformat": 4,
 "nbformat_minor": 5
}
