{
 "cells": [
  {
   "cell_type": "markdown",
   "id": "c6d5fac6",
   "metadata": {},
   "source": [
    "# Listas"
   ]
  },
  {
   "cell_type": "markdown",
   "id": "4e6ca69f",
   "metadata": {},
   "source": [
    "Tienes una lista de empleados, donde cada empleado está representado por una lista que contiene su nombre y una lista de sus habilidades. Durante el ejercicio, se realizarán modificaciones en las habilidades de los empleados y se observará cómo estas modificaciones afectan a la lista original y sus copias"
   ]
  },
  {
   "cell_type": "code",
   "execution_count": 40,
   "id": "fa1a4c55",
   "metadata": {},
   "outputs": [],
   "source": [
    "import copy"
   ]
  },
  {
   "cell_type": "code",
   "execution_count": 41,
   "id": "af5322b3",
   "metadata": {},
   "outputs": [],
   "source": [
    "empleados = [\n",
    "[\"Pedro\", [\"Python\", \"SQL\"]],\n",
    "[\"Manolo\", [\"Java\", \"C++\", \"JavaScript\"]],\n",
    "[\"Alejandro\", [\"HTML\", \"CSS\", \"JavaScript\"]]\n",
    "]"
   ]
  },
  {
   "cell_type": "code",
   "execution_count": 42,
   "id": "f8f816c2",
   "metadata": {},
   "outputs": [],
   "source": [
    "empleados_copy = empleados.copy()\n",
    "empleados_deepcopy = copy.deepcopy(empleados)"
   ]
  },
  {
   "cell_type": "code",
   "execution_count": 43,
   "id": "eb565f99",
   "metadata": {},
   "outputs": [
    {
     "name": "stdout",
     "output_type": "stream",
     "text": [
      "[['Pedro', ['Python', 'SQL']], ['Manolo', ['Java', 'C++', 'JavaScript']], ['Alejandro', ['HTML', 'CSS', 'JavaScript']]]\n",
      "[['Pedro', ['Python', 'SQL']], ['Manolo', ['Java', 'C++', 'JavaScript']], ['Alejandro', ['HTML', 'CSS', 'JavaScript']]]\n"
     ]
    }
   ],
   "source": [
    "print(empleados_copy)\n",
    "print(empleados_deepcopy)"
   ]
  },
  {
   "cell_type": "code",
   "execution_count": 44,
   "id": "5a9f4e87",
   "metadata": {},
   "outputs": [],
   "source": [
    "# Paso 3:Modifica la lista de habilidades de un empleado en la lista original y observa cómo afecta a las copias. \n",
    "#Por ejemplo, agrega una nueva habilidad a Pedro\n",
    "\n",
    "empleados = empleados[0][1].append('Django')"
   ]
  },
  {
   "cell_type": "code",
   "execution_count": 45,
   "id": "d330488f",
   "metadata": {},
   "outputs": [
    {
     "name": "stdout",
     "output_type": "stream",
     "text": [
      "[['Pedro', ['Python', 'SQL', 'Django']], ['Manolo', ['Java', 'C++', 'JavaScript']], ['Alejandro', ['HTML', 'CSS', 'JavaScript']]]\n",
      "[['Pedro', ['Python', 'SQL']], ['Manolo', ['Java', 'C++', 'JavaScript']], ['Alejandro', ['HTML', 'CSS', 'JavaScript']]]\n"
     ]
    }
   ],
   "source": [
    "print(empleados_copy)\n",
    "print(empleados_deepcopy)"
   ]
  },
  {
   "cell_type": "code",
   "execution_count": 48,
   "id": "b083d2dc",
   "metadata": {},
   "outputs": [
    {
     "data": {
      "text/plain": [
       "[['Pedro', ['Python', 'SQL']],\n",
       " ['Manolo', ['Java', 'C++', 'JavaScript']],\n",
       " ['Alejandro', ['HTML', 'CSS', 'JavaScript', 'C++']]]"
      ]
     },
     "execution_count": 48,
     "metadata": {},
     "output_type": "execute_result"
    }
   ],
   "source": [
    "#Paso 4: En la copia que has conseguido con deepcopy, y usando índice negativo añade a Alejandro la habilidad “Java\n",
    "empleados_deepcopy[-1][-1].append('C++')\n",
    "empleados_deepcopy"
   ]
  },
  {
   "cell_type": "code",
   "execution_count": 49,
   "id": "de1a5ab7",
   "metadata": {},
   "outputs": [
    {
     "name": "stdout",
     "output_type": "stream",
     "text": [
      "[['Pedro', ['Python', 'SQL']], ['Manolo', ['Java', 'C++', 'JavaScript']], ['Alejandro', ['HTML', 'CSS', 'JavaScript', 'C++']]]\n"
     ]
    }
   ],
   "source": [
    "print(empleados_deepcopy)"
   ]
  },
  {
   "cell_type": "code",
   "execution_count": 50,
   "id": "12d46a42",
   "metadata": {},
   "outputs": [],
   "source": [
    "#Paso 5: Hemos contratado un nuevo empleado, se llama Juan y sus habilidades son Node.js y redis. \n",
    "#Añádelo a la lista empleados que has copia con Deepcopy.\n",
    "\n",
    "nuevo_empleado = [\"Juan\", [\"Node.js\", \"redis\"]]\n",
    "empleados_deepcopy.append(nuevo_empleado)"
   ]
  },
  {
   "cell_type": "code",
   "execution_count": 51,
   "id": "eba7d7d4",
   "metadata": {},
   "outputs": [
    {
     "name": "stdout",
     "output_type": "stream",
     "text": [
      "[['Pedro', ['Python', 'SQL']], ['Manolo', ['Java', 'C++', 'JavaScript']], ['Alejandro', ['HTML', 'CSS', 'JavaScript', 'C++']], ['Juan', ['Node.js', 'redis']]]\n"
     ]
    }
   ],
   "source": [
    "print(empleados_deepcopy)"
   ]
  },
  {
   "cell_type": "markdown",
   "id": "b00e7613",
   "metadata": {},
   "source": [
    "# Tuplas"
   ]
  },
  {
   "cell_type": "code",
   "execution_count": 67,
   "id": "f7584574",
   "metadata": {},
   "outputs": [
    {
     "name": "stdout",
     "output_type": "stream",
     "text": [
      "Error:  'tuple' object does not support item assignment\n"
     ]
    }
   ],
   "source": [
    "# Crea una tupla e intenta modificar su contenido\n",
    "#mi_tupla = (1,2,3)\n",
    "#Puedes usar try: except: para capturar el error\n",
    "\n",
    "mi_tupla = (1,2,3)\n",
    "\n",
    "try:\n",
    "    mi_tupla[0] = 10\n",
    "except TypeError as e:\n",
    "    print('Error: ', e)"
   ]
  },
  {
   "cell_type": "code",
   "execution_count": 54,
   "id": "01c83e7f",
   "metadata": {},
   "outputs": [
    {
     "data": {
      "text/plain": [
       "(1, 'dos', [3, 4], {5: 'cinco'}, (6, 7), 8.0, True, None, {9})"
      ]
     },
     "execution_count": 54,
     "metadata": {},
     "output_type": "execute_result"
    }
   ],
   "source": [
    "## Creamos una tupla mixta. Recuerda que una tupla es inmutable y puede contener otro tipos de datos \n",
    "#como listas, cadenas, enteros, etc.\n",
    "\n",
    "tupla_mixta = (1, \"dos\", [3, 4], {5: \"cinco\"}, (6, 7), 8.0, True, None, {9})\n",
    "tupla_mixta"
   ]
  },
  {
   "cell_type": "code",
   "execution_count": 56,
   "id": "c2902711",
   "metadata": {},
   "outputs": [
    {
     "data": {
      "text/plain": [
       "(1, 'dos', [2, 4], {5: 'cinco'}, (6, 7), 8.0, True, None, {9})"
      ]
     },
     "execution_count": 56,
     "metadata": {},
     "output_type": "execute_result"
    }
   ],
   "source": [
    "# Pregunta podríamos modificar el contenido del tercer elemento tupla_mixta[2]? \n",
    "#Escribe el código necesario e inténtalo. Luego imprime la tupla y observa si ha funcionado o no\n",
    "\n",
    "tupla_mixta[2][0] = 2\n",
    "tupla_mixta"
   ]
  },
  {
   "cell_type": "code",
   "execution_count": 57,
   "id": "0d0de4cd",
   "metadata": {},
   "outputs": [
    {
     "name": "stdout",
     "output_type": "stream",
     "text": [
      "1 => <class 'int'>\n",
      "dos => <class 'str'>\n",
      "[2, 4] => <class 'list'>\n",
      "{5: 'cinco'} => <class 'dict'>\n",
      "(6, 7) => <class 'tuple'>\n",
      "8.0 => <class 'float'>\n",
      "True => <class 'bool'>\n",
      "None => <class 'NoneType'>\n",
      "{9} => <class 'set'>\n"
     ]
    }
   ],
   "source": [
    "# Imprime los elementos de la tupla con un loop for y su tipo # Ejemplo   1 => <class 'int'>\n",
    "# dos => <class 'str'>\n",
    "# Para concatenar el valor del elemento con su tipo tendremos que hacer casting de ambos con str() o usar un fstring\n",
    "\n",
    "for i in tupla_mixta:\n",
    "    print(f\"{i} => {type(i)}\")"
   ]
  },
  {
   "cell_type": "code",
   "execution_count": 58,
   "id": "810c0e36",
   "metadata": {},
   "outputs": [
    {
     "data": {
      "text/plain": [
       "[1, 'dos', [2, 4], {5: 'cinco'}, (6, 7), 8.0, True, None, {9}]"
      ]
     },
     "execution_count": 58,
     "metadata": {},
     "output_type": "execute_result"
    }
   ],
   "source": [
    "# Convierte la tupla_mixta a un list e imprímela\n",
    "\n",
    "lista_mixta = list(tupla_mixta)\n",
    "lista_mixta"
   ]
  },
  {
   "cell_type": "code",
   "execution_count": 59,
   "id": "53e5e6aa",
   "metadata": {},
   "outputs": [
    {
     "data": {
      "text/plain": [
       "[1, 'tres', [2, 4], {5: 'cinco'}, (6, 7), 8.0, True, None, {9}]"
      ]
     },
     "execution_count": 59,
     "metadata": {},
     "output_type": "execute_result"
    }
   ],
   "source": [
    "# Modifica el elemento 1 (\"dos\") de la lista y vuelve a pasar la lista a tupla. \n",
    "# Imprime la tupla para ver que se ha modificado el elemento tupla_mixta[1]\n",
    "\n",
    "lista_mixta[1] = 'tres'\n",
    "lista_mixta"
   ]
  },
  {
   "cell_type": "code",
   "execution_count": 61,
   "id": "890f09f2",
   "metadata": {},
   "outputs": [
    {
     "data": {
      "text/plain": [
       "(1, 'tres', [2, 4], {5: 'cinco'}, (6, 7), 8.0, True, None, {9})"
      ]
     },
     "execution_count": 61,
     "metadata": {},
     "output_type": "execute_result"
    }
   ],
   "source": [
    "tupla_mixta = tuple(lista_mixta)\n",
    "tupla_mixta"
   ]
  },
  {
   "cell_type": "code",
   "execution_count": 63,
   "id": "22f29022",
   "metadata": {},
   "outputs": [
    {
     "name": "stdout",
     "output_type": "stream",
     "text": [
      "15\n",
      "5\n",
      "1\n"
     ]
    }
   ],
   "source": [
    "# Crea una tupla numérica y realiza las operaciones de suma, maximo y mínimo\n",
    "\n",
    "tupla_numerica = (1,2,3,4,5)\n",
    "print(sum(tupla_numerica))\n",
    "print(max(tupla_numerica))\n",
    "print(min(tupla_numerica))"
   ]
  },
  {
   "cell_type": "code",
   "execution_count": 64,
   "id": "823181fd",
   "metadata": {},
   "outputs": [
    {
     "data": {
      "text/plain": [
       "(1, 4, 9, 16, 25)"
      ]
     },
     "execution_count": 64,
     "metadata": {},
     "output_type": "execute_result"
    }
   ],
   "source": [
    "# Calcula los cuadrados de la tupla con una función de compresión\n",
    "\n",
    "tupla_cuadrados = tuple(x**2 for x in tupla_numerica)\n",
    "tupla_cuadrados"
   ]
  },
  {
   "cell_type": "code",
   "execution_count": 68,
   "id": "2e4df64d",
   "metadata": {},
   "outputs": [
    {
     "name": "stdout",
     "output_type": "stream",
     "text": [
      "1 2 3 4 5\n"
     ]
    }
   ],
   "source": [
    "# Desempaqueta la tupla en tantas variables como elementos tenga.\n",
    "\n",
    "elemento1, elemento2, elemento3, elemento4, elemento5 = tupla_numerica\n",
    "print(elemento1, elemento2, elemento3, elemento4, elemento5)"
   ]
  },
  {
   "cell_type": "markdown",
   "id": "63c7be05",
   "metadata": {},
   "source": [
    "# Lista por compresión"
   ]
  },
  {
   "cell_type": "markdown",
   "id": "c7d531ee",
   "metadata": {},
   "source": [
    "- Escenario:\n",
    "Eres un científico que investiga las propiedades físicas del nitrógeno.\n",
    "Tienes un conjunto de datos de temperaturas en grados Celsius de diversas condiciones experimentales. \n",
    "Tu tarea es identificar las temperaturas en las que el nitrógeno permanece en estado gaseoso. El nitrógeno sólo se puede licuar a temperaturas inferiores a su temperatura crítica de \n",
    "-147°C.\n",
    "- Objetivo:\n",
    "Escribir un script en Python utilizando una lista por comprensión para procesar la lista dada de temperaturas en grados Celsius, filtrando cualquier temperatura que esté por debajo de la temperatura crítica del nitrógeno de -147 °C"
   ]
  },
  {
   "cell_type": "code",
   "execution_count": 69,
   "id": "e44c68b9",
   "metadata": {},
   "outputs": [],
   "source": [
    "# Lista de temperaturas en grados Celsius\n",
    "temperaturas = [-155, -143, -134, -168, -147, -150]"
   ]
  },
  {
   "cell_type": "code",
   "execution_count": 70,
   "id": "f8c10ec0",
   "metadata": {},
   "outputs": [],
   "source": [
    "# Temperatura crítica del nitrógeno\n",
    "temperatura_critica = -147"
   ]
  },
  {
   "cell_type": "code",
   "execution_count": 72,
   "id": "eac1015f",
   "metadata": {},
   "outputs": [
    {
     "name": "stdout",
     "output_type": "stream",
     "text": [
      "Temperaturas en estado gaseoso: [-143, -134, -147]\n"
     ]
    }
   ],
   "source": [
    "# Filtro por las temperaturas por debao de la temperatura crítica\n",
    "temperaturas_gas = [temp for temp in temperaturas if temp >= temperatura_critica]\n",
    "print(\"Temperaturas en estado gaseoso:\", temperaturas_gas)"
   ]
  }
 ],
 "metadata": {
  "kernelspec": {
   "display_name": "Python 3 (ipykernel)",
   "language": "python",
   "name": "python3"
  },
  "language_info": {
   "codemirror_mode": {
    "name": "ipython",
    "version": 3
   },
   "file_extension": ".py",
   "mimetype": "text/x-python",
   "name": "python",
   "nbconvert_exporter": "python",
   "pygments_lexer": "ipython3",
   "version": "3.11.5"
  }
 },
 "nbformat": 4,
 "nbformat_minor": 5
}
