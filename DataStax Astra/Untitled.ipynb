{
 "cells": [
  {
   "cell_type": "code",
   "execution_count": 2,
   "id": "37df99a3-6de4-4297-9e52-3b6ee7555eb9",
   "metadata": {
    "scrolled": true
   },
   "outputs": [
    {
     "name": "stdout",
     "output_type": "stream",
     "text": [
      "Collecting astrapy\n",
      "  Downloading astrapy-0.7.1-py3-none-any.whl.metadata (12 kB)\n",
      "Collecting cassio<0.2.0,>=0.1.3 (from astrapy)\n",
      "  Downloading cassio-0.1.4-py3-none-any.whl.metadata (4.5 kB)\n",
      "Collecting httpx<0.26.0,>=0.25.1 (from httpx[http2]<0.26.0,>=0.25.1->astrapy)\n",
      "  Downloading httpx-0.25.2-py3-none-any.whl.metadata (6.9 kB)\n",
      "Collecting toml<0.11.0,>=0.10.2 (from astrapy)\n",
      "  Downloading toml-0.10.2-py2.py3-none-any.whl (16 kB)\n",
      "Collecting cassandra-driver>=3.28.0 (from cassio<0.2.0,>=0.1.3->astrapy)\n",
      "  Downloading cassandra_driver-3.29.0-cp310-cp310-macosx_11_0_arm64.whl.metadata (5.9 kB)\n",
      "Requirement already satisfied: numpy>=1.0 in /Users/n.c.rodriguez/anaconda3/envs/nico/lib/python3.10/site-packages (from cassio<0.2.0,>=0.1.3->astrapy) (1.26.3)\n",
      "Requirement already satisfied: requests>=2 in /Users/n.c.rodriguez/anaconda3/envs/nico/lib/python3.10/site-packages (from cassio<0.2.0,>=0.1.3->astrapy) (2.31.0)\n",
      "Requirement already satisfied: anyio in /Users/n.c.rodriguez/anaconda3/envs/nico/lib/python3.10/site-packages (from httpx<0.26.0,>=0.25.1->httpx[http2]<0.26.0,>=0.25.1->astrapy) (4.2.0)\n",
      "Requirement already satisfied: certifi in /Users/n.c.rodriguez/anaconda3/envs/nico/lib/python3.10/site-packages (from httpx<0.26.0,>=0.25.1->httpx[http2]<0.26.0,>=0.25.1->astrapy) (2023.11.17)\n",
      "Requirement already satisfied: httpcore==1.* in /Users/n.c.rodriguez/anaconda3/envs/nico/lib/python3.10/site-packages (from httpx<0.26.0,>=0.25.1->httpx[http2]<0.26.0,>=0.25.1->astrapy) (1.0.2)\n",
      "Requirement already satisfied: idna in /Users/n.c.rodriguez/anaconda3/envs/nico/lib/python3.10/site-packages (from httpx<0.26.0,>=0.25.1->httpx[http2]<0.26.0,>=0.25.1->astrapy) (3.4)\n",
      "Requirement already satisfied: sniffio in /Users/n.c.rodriguez/anaconda3/envs/nico/lib/python3.10/site-packages (from httpx<0.26.0,>=0.25.1->httpx[http2]<0.26.0,>=0.25.1->astrapy) (1.3.0)\n",
      "Requirement already satisfied: h11<0.15,>=0.13 in /Users/n.c.rodriguez/anaconda3/envs/nico/lib/python3.10/site-packages (from httpcore==1.*->httpx<0.26.0,>=0.25.1->httpx[http2]<0.26.0,>=0.25.1->astrapy) (0.14.0)\n",
      "Requirement already satisfied: h2<5,>=3 in /Users/n.c.rodriguez/anaconda3/envs/nico/lib/python3.10/site-packages (from httpx[http2]<0.26.0,>=0.25.1->astrapy) (4.0.0)\n",
      "Collecting geomet<0.3,>=0.1 (from cassandra-driver>=3.28.0->cassio<0.2.0,>=0.1.3->astrapy)\n",
      "  Downloading geomet-0.2.1.post1-py3-none-any.whl (18 kB)\n",
      "Requirement already satisfied: hyperframe<7,>=6.0 in /Users/n.c.rodriguez/anaconda3/envs/nico/lib/python3.10/site-packages (from h2<5,>=3->httpx[http2]<0.26.0,>=0.25.1->astrapy) (6.0.1)\n",
      "Requirement already satisfied: hpack<5,>=4.0 in /Users/n.c.rodriguez/anaconda3/envs/nico/lib/python3.10/site-packages (from h2<5,>=3->httpx[http2]<0.26.0,>=0.25.1->astrapy) (4.0.0)\n",
      "Requirement already satisfied: charset-normalizer<4,>=2 in /Users/n.c.rodriguez/anaconda3/envs/nico/lib/python3.10/site-packages (from requests>=2->cassio<0.2.0,>=0.1.3->astrapy) (2.0.4)\n",
      "Requirement already satisfied: urllib3<3,>=1.21.1 in /Users/n.c.rodriguez/anaconda3/envs/nico/lib/python3.10/site-packages (from requests>=2->cassio<0.2.0,>=0.1.3->astrapy) (2.1.0)\n",
      "Requirement already satisfied: exceptiongroup>=1.0.2 in /Users/n.c.rodriguez/anaconda3/envs/nico/lib/python3.10/site-packages (from anyio->httpx<0.26.0,>=0.25.1->httpx[http2]<0.26.0,>=0.25.1->astrapy) (1.2.0)\n",
      "Requirement already satisfied: typing-extensions>=4.1 in /Users/n.c.rodriguez/anaconda3/envs/nico/lib/python3.10/site-packages (from anyio->httpx<0.26.0,>=0.25.1->httpx[http2]<0.26.0,>=0.25.1->astrapy) (4.9.0)\n",
      "Requirement already satisfied: click in /Users/n.c.rodriguez/anaconda3/envs/nico/lib/python3.10/site-packages (from geomet<0.3,>=0.1->cassandra-driver>=3.28.0->cassio<0.2.0,>=0.1.3->astrapy) (8.1.7)\n",
      "Requirement already satisfied: six in /Users/n.c.rodriguez/anaconda3/envs/nico/lib/python3.10/site-packages (from geomet<0.3,>=0.1->cassandra-driver>=3.28.0->cassio<0.2.0,>=0.1.3->astrapy) (1.16.0)\n",
      "Downloading astrapy-0.7.1-py3-none-any.whl (27 kB)\n",
      "Downloading cassio-0.1.4-py3-none-any.whl (40 kB)\n",
      "\u001b[2K   \u001b[38;2;114;156;31m━━━━━━━━━━━━━━━━━━━━━━━━━━━━━━━━━━━━━━━━\u001b[0m \u001b[32m40.3/40.3 kB\u001b[0m \u001b[31m2.8 MB/s\u001b[0m eta \u001b[36m0:00:00\u001b[0m\n",
      "\u001b[?25hDownloading httpx-0.25.2-py3-none-any.whl (74 kB)\n",
      "\u001b[2K   \u001b[38;2;114;156;31m━━━━━━━━━━━━━━━━━━━━━━━━━━━━━━━━━━━━━━━━\u001b[0m \u001b[32m75.0/75.0 kB\u001b[0m \u001b[31m7.9 MB/s\u001b[0m eta \u001b[36m0:00:00\u001b[0m\n",
      "\u001b[?25hDownloading cassandra_driver-3.29.0-cp310-cp310-macosx_11_0_arm64.whl (3.4 MB)\n",
      "\u001b[2K   \u001b[38;2;114;156;31m━━━━━━━━━━━━━━━━━━━━━━━━━━━━━━━━━━━━━━━━\u001b[0m \u001b[32m3.4/3.4 MB\u001b[0m \u001b[31m12.5 MB/s\u001b[0m eta \u001b[36m0:00:00\u001b[0m31m10.5 MB/s\u001b[0m eta \u001b[36m0:00:01\u001b[0m\n",
      "\u001b[?25hInstalling collected packages: toml, geomet, httpx, cassandra-driver, cassio, astrapy\n",
      "  Attempting uninstall: httpx\n",
      "    Found existing installation: httpx 0.26.0\n",
      "    Uninstalling httpx-0.26.0:\n",
      "      Successfully uninstalled httpx-0.26.0\n",
      "Successfully installed astrapy-0.7.1 cassandra-driver-3.29.0 cassio-0.1.4 geomet-0.2.1.post1 httpx-0.25.2 toml-0.10.2\n"
     ]
    }
   ],
   "source": [
    "!pip install --upgrade astrapy"
   ]
  },
  {
   "cell_type": "code",
   "execution_count": 17,
   "id": "78179e64-750a-4353-906f-9bf1af2934a7",
   "metadata": {},
   "outputs": [],
   "source": [
    "from astrapy.db import AstraDB\n",
    "import pandas as pd\n",
    "import os\n",
    "import subprocess\n",
    "from cassandra.cluster import Cluster\n",
    "from dotenv import load_dotenv"
   ]
  },
  {
   "cell_type": "code",
   "execution_count": 5,
   "id": "90885464-65d1-4bb8-8672-3b5318214d31",
   "metadata": {},
   "outputs": [],
   "source": [
    "# Cargar variables de entorno\n",
    "load_dotenv()\n",
    "# Configurar el token de AstraDB\n",
    "astradb_token=os.getenv(\"ASTRADB_TOKEN\")"
   ]
  },
  {
   "cell_type": "code",
   "execution_count": 6,
   "id": "9fdc80d0-8be8-4a4b-9539-bc1aaf3bfe2c",
   "metadata": {},
   "outputs": [
    {
     "name": "stdout",
     "output_type": "stream",
     "text": [
      "Connected to Astra DB: {'status': {'collections': ['movie_reviews']}}\n"
     ]
    }
   ],
   "source": [
    "# Initialization\n",
    "db = AstraDB(\n",
    "  token=astradb_token,\n",
    "  api_endpoint=\"https://f1ef8e9b-dc05-412a-86a9-4712d299b57d-us-east-1.apps.astra.datastax.com\")\n",
    "\n",
    "print(f\"Connected to Astra DB: {db.get_collections()}\")"
   ]
  }
 ],
 "metadata": {
  "kernelspec": {
   "display_name": "Python 3 (ipykernel)",
   "language": "python",
   "name": "python3"
  },
  "language_info": {
   "codemirror_mode": {
    "name": "ipython",
    "version": 3
   },
   "file_extension": ".py",
   "mimetype": "text/x-python",
   "name": "python",
   "nbconvert_exporter": "python",
   "pygments_lexer": "ipython3",
   "version": "3.10.9"
  }
 },
 "nbformat": 4,
 "nbformat_minor": 5
}
