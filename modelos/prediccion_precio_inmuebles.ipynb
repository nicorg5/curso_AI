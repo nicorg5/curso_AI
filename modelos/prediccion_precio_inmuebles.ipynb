{
 "cells": [
  {
   "cell_type": "markdown",
   "id": "b68f14ea-9af5-49e6-9055-73460d8a799d",
   "metadata": {},
   "source": [
    "# Ejercicio\n",
    "Predecir el precio de un piso en función de la superficie construida y el distrito"
   ]
  },
  {
   "cell_type": "code",
   "execution_count": 2,
   "id": "e6cc382d-5843-4998-ad82-bbd87397fe4f",
   "metadata": {},
   "outputs": [],
   "source": [
    "#!pip install --upgrade typing-extensions"
   ]
  },
  {
   "cell_type": "code",
   "execution_count": 3,
   "id": "e7fb38d8-ecb8-4bb9-9a17-e9c38a0dfc5e",
   "metadata": {},
   "outputs": [],
   "source": [
    "#!pip install gradio"
   ]
  },
  {
   "cell_type": "code",
   "execution_count": 4,
   "id": "9f301769-7a1c-45f5-aef5-c73c60ea6b7c",
   "metadata": {
    "tags": []
   },
   "outputs": [],
   "source": [
    "import numpy as np\n",
    "from sklearn.model_selection import train_test_split\n",
    "from sklearn.linear_model import LinearRegression\n",
    "from sklearn.metrics import mean_squared_error, r2_score\n",
    "import pandas as pd\n",
    "import matplotlib.pyplot as plt"
   ]
  },
  {
   "cell_type": "code",
   "execution_count": 5,
   "id": "00e2d204-6bdb-4ef5-a1da-2170103db5ff",
   "metadata": {
    "tags": []
   },
   "outputs": [
    {
     "data": {
      "text/html": [
       "<div>\n",
       "<style scoped>\n",
       "    .dataframe tbody tr th:only-of-type {\n",
       "        vertical-align: middle;\n",
       "    }\n",
       "\n",
       "    .dataframe tbody tr th {\n",
       "        vertical-align: top;\n",
       "    }\n",
       "\n",
       "    .dataframe thead th {\n",
       "        text-align: right;\n",
       "    }\n",
       "</style>\n",
       "<table border=\"1\" class=\"dataframe\">\n",
       "  <thead>\n",
       "    <tr style=\"text-align: right;\">\n",
       "      <th></th>\n",
       "      <th>superficie_construida</th>\n",
       "      <th>precio</th>\n",
       "      <th>distritos_id</th>\n",
       "    </tr>\n",
       "  </thead>\n",
       "  <tbody>\n",
       "    <tr>\n",
       "      <th>0</th>\n",
       "      <td>600</td>\n",
       "      <td>5400000</td>\n",
       "      <td>10</td>\n",
       "    </tr>\n",
       "    <tr>\n",
       "      <th>1</th>\n",
       "      <td>600</td>\n",
       "      <td>3800000</td>\n",
       "      <td>10</td>\n",
       "    </tr>\n",
       "    <tr>\n",
       "      <th>2</th>\n",
       "      <td>59</td>\n",
       "      <td>330000</td>\n",
       "      <td>9</td>\n",
       "    </tr>\n",
       "    <tr>\n",
       "      <th>3</th>\n",
       "      <td>63</td>\n",
       "      <td>402000</td>\n",
       "      <td>8</td>\n",
       "    </tr>\n",
       "    <tr>\n",
       "      <th>4</th>\n",
       "      <td>300</td>\n",
       "      <td>1750000</td>\n",
       "      <td>10</td>\n",
       "    </tr>\n",
       "  </tbody>\n",
       "</table>\n",
       "</div>"
      ],
      "text/plain": [
       "   superficie_construida   precio  distritos_id\n",
       "0                    600  5400000            10\n",
       "1                    600  3800000            10\n",
       "2                     59   330000             9\n",
       "3                     63   402000             8\n",
       "4                    300  1750000            10"
      ]
     },
     "execution_count": 5,
     "metadata": {},
     "output_type": "execute_result"
    }
   ],
   "source": [
    "df = pd.read_csv('pisos_huge.csv')\n",
    "df.head()"
   ]
  },
  {
   "cell_type": "markdown",
   "id": "89951259-bfce-4fc6-a89a-daf245fb7beb",
   "metadata": {},
   "source": [
    "## EDA (Exploratory Data Analisis)"
   ]
  },
  {
   "cell_type": "code",
   "execution_count": 6,
   "id": "dfbf429b-e25f-492c-afe7-b1ad7cbb8394",
   "metadata": {
    "tags": []
   },
   "outputs": [
    {
     "data": {
      "text/plain": [
       "superficie_construida    0\n",
       "precio                   0\n",
       "distritos_id             0\n",
       "dtype: int64"
      ]
     },
     "execution_count": 6,
     "metadata": {},
     "output_type": "execute_result"
    }
   ],
   "source": [
    "# Cantidad de nulos de cada variable\n",
    "df.isnull().sum()"
   ]
  },
  {
   "cell_type": "code",
   "execution_count": 7,
   "id": "2a6e3639-3afc-4bdb-8e70-4a27ad38ef3b",
   "metadata": {
    "tags": []
   },
   "outputs": [
    {
     "data": {
      "text/plain": [
       "array([10,  9,  8,  7,  4, 17, 12, 14, 35,  1, 11, 15, 16, 21, 13, 22, 20,\n",
       "       18, 24, 25])"
      ]
     },
     "execution_count": 7,
     "metadata": {},
     "output_type": "execute_result"
    }
   ],
   "source": [
    "# Valores únicos de distritos_id\n",
    "df['distritos_id'].unique()"
   ]
  },
  {
   "cell_type": "code",
   "execution_count": 8,
   "id": "54c5b02c-edcf-45b5-b219-381ea3e06b77",
   "metadata": {
    "tags": []
   },
   "outputs": [
    {
     "name": "stdout",
     "output_type": "stream",
     "text": [
      "<class 'pandas.core.frame.DataFrame'>\n",
      "RangeIndex: 68597 entries, 0 to 68596\n",
      "Data columns (total 3 columns):\n",
      " #   Column                 Non-Null Count  Dtype\n",
      "---  ------                 --------------  -----\n",
      " 0   superficie_construida  68597 non-null  int64\n",
      " 1   precio                 68597 non-null  int64\n",
      " 2   distritos_id           68597 non-null  int64\n",
      "dtypes: int64(3)\n",
      "memory usage: 1.6 MB\n"
     ]
    }
   ],
   "source": [
    "# Información del DataFrame\n",
    "df.info()"
   ]
  },
  {
   "cell_type": "code",
   "execution_count": 9,
   "id": "97b1cc00-9007-4ee0-a80a-98d9e5108cb4",
   "metadata": {
    "tags": []
   },
   "outputs": [],
   "source": [
    "# X son las características (superficie_construida y distritos_id) e Y es lo que queremos predecir (precio) \n",
    "x = df[['superficie_construida', 'distritos_id']]\n",
    "y = df['precio']"
   ]
  },
  {
   "cell_type": "markdown",
   "id": "daba19df-6c1e-4c42-ba94-93195d37eaa5",
   "metadata": {},
   "source": [
    "Creamos visualizaciónes para facilitar una exploración manual. Primero preparamos nuestros dataframes, lo dividimos en dos: un representará las características y el otro los precios:"
   ]
  },
  {
   "cell_type": "code",
   "execution_count": 10,
   "id": "b3286758-aab1-417b-832f-f0979cdae0d6",
   "metadata": {
    "tags": []
   },
   "outputs": [
    {
     "name": "stdout",
     "output_type": "stream",
     "text": [
      "------- Correlación de Pearson m2 vs precio ------\n",
      "0.16751290350608766\n"
     ]
    }
   ],
   "source": [
    "# Correlación de Pearson\n",
    "correlacion = df['superficie_construida'].corr(df['precio']) \n",
    "print('------- Correlación de Pearson m2 vs precio ------') \n",
    "print(correlacion)"
   ]
  },
  {
   "cell_type": "markdown",
   "id": "90e90e7b-ef75-46b7-bc77-da3b9d251946",
   "metadata": {},
   "source": [
    "En este caso la correrlación de Pearson da un valor de 0.805 que es bastante alto, indicando que el precio se relaciona bastante bien con el tamaño del inmueble, como suponíamos. Vamos a Crear un histograma para visualizar la distribución de 'precio' y \n",
    "'superficie_construida' en el mismo gráfico:"
   ]
  },
  {
   "cell_type": "code",
   "execution_count": 11,
   "id": "cb7c32e1-1185-4938-a5d6-974dd71a3b1e",
   "metadata": {
    "tags": []
   },
   "outputs": [],
   "source": [
    "# Histograma para 'superficie_construida' en la misma escala\n",
    "# Escalar la superficie para que sea comparable con el precio\n",
    "scaled_superficie = df['superficie_construida'] * (df['precio'].max() / df['superficie_construida'].max())"
   ]
  },
  {
   "cell_type": "code",
   "execution_count": 12,
   "id": "b2dccf05-ed37-49de-82b1-789606027e7f",
   "metadata": {
    "tags": []
   },
   "outputs": [
    {
     "data": {
      "text/plain": [
       "(72.0, 488.1999999999971)"
      ]
     },
     "execution_count": 12,
     "metadata": {},
     "output_type": "execute_result"
    },
    {
     "data": {
      "image/png": "[encoded data removed]",
      "text/plain": [
       "<Figure size 1200x1000 with 4 Axes>"
      ]
     },
     "metadata": {},
     "output_type": "display_data"
    }
   ],
   "source": [
    "# Crea una figura y un conjunto de subplots\n",
    "fig, axs = plt.subplots(2, 2, figsize=(12, 10)) # 2 filas, 2 columnas\n",
    "\n",
    "# Primer gráfico: Histograma distribución de precios\n",
    "axs[0, 0].hist(y, bins=50, alpha=0.5, label='Precio')\n",
    "axs[0, 0].hist(scaled_superficie, bins=50, alpha=0.5, label='Superficie Construida (Escala Ajustada)') \n",
    "axs[0, 0].set_xlabel('Escala')\n",
    "axs[0, 0].set_ylabel('Frecuencia')\n",
    "axs[0, 0].set_title('Distribución de Precio y Superficie Construida (Escala Ajustada)') \n",
    "axs[0, 0].legend()\n",
    "\n",
    "# Segundo gráfico: Scatter plot de superficie vs precio\n",
    "# Definir los valores centrales (puede ser la media o la mediana)\n",
    "centro_x = x['superficie_construida'].median()\n",
    "centro_y = y.median()\n",
    "axs[0, 1].scatter(x['superficie_construida'], y)\n",
    "axs[0, 1].set_xlabel('Superficie')\n",
    "axs[0, 1].set_ylabel('Precio (M de €)')\n",
    "axs[0, 1].axhline(y=centro_y, color='r', linestyle='-') # Línea horizontal axs[0, 1].axvline(x=centro_x, color='r', linestyle='-') # Línea vertical\n",
    "\n",
    "# Tercer gráfico con la distribución del precio\n",
    "axs[1, 0].boxplot(y)\n",
    "axs[1, 0].legend(['Distribución Precio'])\n",
    "\n",
    "# Cuarto gráfico: hexagonal\n",
    "# Histograma bidimensional\n",
    "limite_inferior_x = df['superficie_construida'].quantile(0.05) \n",
    "limite_superior_x = df['superficie_construida'].quantile(0.95) \n",
    "limite_inferior_y = df['precio'].quantile(0.05)\n",
    "limite_superior_y = df['precio'].quantile(0.95)\n",
    "hb = axs[1, 1].hexbin(x['superficie_construida'], df['precio'], gridsize=50, cmap='YlOrRd', bins='log') \n",
    "axs[1, 1].set_xlabel('Superficie Construida')\n",
    "axs[1, 1].set_ylabel('Precio M (€)')\n",
    "axs[1, 1].set_xlim(limite_inferior_x, limite_superior_x)  # Ajustar según tus datos axs[1, 1].set_ylim(limite_inferior_y, limite_superior_y)"
   ]
  },
  {
   "cell_type": "code",
   "execution_count": 13,
   "id": "e171d58a-a0fc-4709-8bb5-fdb413cc347d",
   "metadata": {
    "tags": []
   },
   "outputs": [],
   "source": [
    "# Histograma bidimensional\n",
    "limite_inferior_x = df['superficie_construida'].quantile(0.05) \n",
    "limite_superior_x = df['superficie_construida'].quantile(0.95) \n",
    "limite_inferior_y = df['precio'].quantile(0.05)\n",
    "limite_superior_y = df['precio'].quantile(0.95)"
   ]
  },
  {
   "cell_type": "markdown",
   "id": "2609b3c0-dc32-49cf-b28d-12fbe3475d85",
   "metadata": {},
   "source": [
    "## Modelo LinearRegression"
   ]
  },
  {
   "cell_type": "markdown",
   "id": "89262369-1c41-4faa-979f-31cb53506b94",
   "metadata": {
    "tags": []
   },
   "source": [
    "### Paso 1: Lectura de datos"
   ]
  },
  {
   "cell_type": "code",
   "execution_count": 14,
   "id": "2a24c462-f889-4d0b-9b9e-cd3cadd5e1b0",
   "metadata": {
    "tags": []
   },
   "outputs": [
    {
     "data": {
      "text/html": [
       "<div>\n",
       "<style scoped>\n",
       "    .dataframe tbody tr th:only-of-type {\n",
       "        vertical-align: middle;\n",
       "    }\n",
       "\n",
       "    .dataframe tbody tr th {\n",
       "        vertical-align: top;\n",
       "    }\n",
       "\n",
       "    .dataframe thead th {\n",
       "        text-align: right;\n",
       "    }\n",
       "</style>\n",
       "<table border=\"1\" class=\"dataframe\">\n",
       "  <thead>\n",
       "    <tr style=\"text-align: right;\">\n",
       "      <th></th>\n",
       "      <th>id</th>\n",
       "      <th>distrito</th>\n",
       "    </tr>\n",
       "  </thead>\n",
       "  <tbody>\n",
       "    <tr>\n",
       "      <th>0</th>\n",
       "      <td>1</td>\n",
       "      <td>ARGANZUELA</td>\n",
       "    </tr>\n",
       "    <tr>\n",
       "      <th>1</th>\n",
       "      <td>4</td>\n",
       "      <td>CENTRO</td>\n",
       "    </tr>\n",
       "    <tr>\n",
       "      <th>2</th>\n",
       "      <td>7</td>\n",
       "      <td>SALAMANCA</td>\n",
       "    </tr>\n",
       "    <tr>\n",
       "      <th>3</th>\n",
       "      <td>8</td>\n",
       "      <td>CHAMARTIN</td>\n",
       "    </tr>\n",
       "    <tr>\n",
       "      <th>4</th>\n",
       "      <td>9</td>\n",
       "      <td>TETUAN</td>\n",
       "    </tr>\n",
       "  </tbody>\n",
       "</table>\n",
       "</div>"
      ],
      "text/plain": [
       "   id    distrito\n",
       "0   1  ARGANZUELA\n",
       "1   4      CENTRO\n",
       "2   7   SALAMANCA\n",
       "3   8   CHAMARTIN\n",
       "4   9      TETUAN"
      ]
     },
     "execution_count": 14,
     "metadata": {},
     "output_type": "execute_result"
    }
   ],
   "source": [
    "df_distritos = pd.read_csv('distritos.csv') # Nombres e ids de distrito\n",
    "df_distritos.head()"
   ]
  },
  {
   "cell_type": "markdown",
   "id": "d9884ce7-4a76-485c-8742-2445dd3acc02",
   "metadata": {
    "tags": []
   },
   "source": [
    "### Paso2: Prepración de variables"
   ]
  },
  {
   "cell_type": "code",
   "execution_count": 15,
   "id": "9359b715-3c93-4501-9363-b6413f6683ee",
   "metadata": {
    "tags": []
   },
   "outputs": [],
   "source": [
    "# X son las características (superficie_construida y distritos_id) e Y es lo que queremos predecir (precio) \n",
    "x = df[['superficie_construida', 'distritos_id']]\n",
    "y = df['precio']"
   ]
  },
  {
   "cell_type": "code",
   "execution_count": 16,
   "id": "ddfabe8a-5f13-4160-83c2-e9d0b742db41",
   "metadata": {
    "tags": []
   },
   "outputs": [],
   "source": [
    "# Se añade una nueva columna al DataFrame que representa el precio por metro cuadrado\n",
    "\n",
    "df['precio_m2'] = df['precio'] / df['superficie_construida']"
   ]
  },
  {
   "cell_type": "markdown",
   "id": "d5ff146b-62ec-40a3-86aa-0d425f7c0dfa",
   "metadata": {
    "tags": []
   },
   "source": [
    "### Paso 3: Limpieza de datos"
   ]
  },
  {
   "cell_type": "markdown",
   "id": "6fe5af3c-08ce-4de8-82aa-f9f10bd454e6",
   "metadata": {},
   "source": [
    "Dado que ya hemos realizado el EDA, hemos visto que hay algunos valores atípicos que deforman bastante el gráfico. \n",
    "Se filtran los valores atípicos del precio por metro cuadrado usando los percentiles 1 y 99. Esto ayuda a mejorar la calidad de los datos eliminando los extremos."
   ]
  },
  {
   "cell_type": "code",
   "execution_count": 17,
   "id": "2a7dc2b0-fc16-4459-8807-cd6f0c779d39",
   "metadata": {
    "tags": []
   },
   "outputs": [],
   "source": [
    "# Eliminar valores atípicos usando el percentil 99 y 1 para precio m2\n",
    "df = df[df['precio_m2'] < df['precio_m2'].quantile(0.99)] \n",
    "df = df[df['precio_m2'] > df['precio_m2'].quantile(0.01)]"
   ]
  },
  {
   "cell_type": "code",
   "execution_count": 18,
   "id": "6a809b07-13f7-47cb-b6c4-3d5b7088b9a1",
   "metadata": {
    "tags": []
   },
   "outputs": [],
   "source": [
    "# Con los datos limpios volvemos a reasignar x e y \n",
    "x = df[['superficie_construida', 'distritos_id']] \n",
    "y = df['precio']"
   ]
  },
  {
   "cell_type": "markdown",
   "id": "5ba4c4e2-324d-4314-b68a-bbba2524a68f",
   "metadata": {
    "tags": []
   },
   "source": [
    "### Paso 4: Normalización de Datos"
   ]
  },
  {
   "cell_type": "markdown",
   "id": "3aba3d7b-bfcd-4403-93cf-350b2b5b8ef4",
   "metadata": {},
   "source": [
    "**Normalización de la Superficie Construida**\n",
    "- Se normaliza 'superficie_construida' restando la media y dividiendo por la desviación estándar. Esto coloca los datos en una escala común sin distorsionar las diferencias en los rangos de valores.\n",
    "\n",
    "**Creación de Características Normalizadas**\n",
    "- Se crea un nuevo DataFrame (caracteristicas) que combina 'superficie_construida' normalizada y 'distritos_id’.\n",
    "\n",
    "**Normalización del Precio**\n",
    "- Se normaliza el precio de la misma manera que la superficie construida"
   ]
  },
  {
   "cell_type": "code",
   "execution_count": 19,
   "id": "3f72e2d1-7e65-4c98-b259-d998d36cc517",
   "metadata": {
    "tags": []
   },
   "outputs": [],
   "source": [
    "# Normalizar los datos\n",
    "media_superficie = x['superficie_construida'].mean()\n",
    "std_superficie = x['superficie_construida'].std()\n",
    "superficie_normalizada = (df['superficie_construida'] - media_superficie) / std_superficie"
   ]
  },
  {
   "cell_type": "code",
   "execution_count": 20,
   "id": "36893489-1482-45d1-a554-4889f247ca35",
   "metadata": {
    "tags": []
   },
   "outputs": [],
   "source": [
    "# Combinar la superficie normalizada con 'distritos_id' no normalizado\n",
    "caracteristicas = pd.DataFrame({\n",
    "'superficie_construida': superficie_normalizada, 'distritos_id': df['distritos_id']\n",
    "})"
   ]
  },
  {
   "cell_type": "code",
   "execution_count": 21,
   "id": "c52a8f85-c465-42fa-a73e-afb54a214cc3",
   "metadata": {
    "tags": []
   },
   "outputs": [],
   "source": [
    "precios = (y - y.mean()) / y.std()"
   ]
  },
  {
   "cell_type": "markdown",
   "id": "012e5f85-6376-4811-9960-cce8272a95f7",
   "metadata": {},
   "source": [
    "### Paso 5: División de Datos en Entrenamiento y Prueba"
   ]
  },
  {
   "cell_type": "markdown",
   "id": "cde3fa40-7e73-46d7-a0c4-bb93fdd514ba",
   "metadata": {},
   "source": [
    "Se divide el conjunto de datos en un conjunto de entrenamiento y uno de prueba. Esto es muy importante para poder evaluar el modelo de manera efectiva y evitar el overfitting."
   ]
  },
  {
   "cell_type": "code",
   "execution_count": 22,
   "id": "79991bf7-925d-4f25-a098-225cef0ee956",
   "metadata": {
    "tags": []
   },
   "outputs": [],
   "source": [
    "# Dividir los datos en conjunto de entrenamiento y prueba\n",
    "x_train, x_test, y_train, y_test = train_test_split(caracteristicas, precios, test_size=0.2, random_state=42)"
   ]
  },
  {
   "cell_type": "markdown",
   "id": "1dc3651d-d8f8-4f6b-9dcc-d460b2e97883",
   "metadata": {},
   "source": [
    "### Paso 6: Creación y entrenamiento del modelo"
   ]
  },
  {
   "cell_type": "code",
   "execution_count": 23,
   "id": "b76d6f46-669a-4755-ba64-59d601a28038",
   "metadata": {
    "tags": []
   },
   "outputs": [],
   "source": [
    "# Crear el modelo de regresión lineal\n",
    "model = LinearRegression()"
   ]
  },
  {
   "cell_type": "code",
   "execution_count": 24,
   "id": "d1852810-55d1-42b5-99ad-eb564a42e059",
   "metadata": {
    "tags": []
   },
   "outputs": [
    {
     "data": {
      "text/html": [
       "<style>#sk-container-id-1 {color: black;background-color: white;}#sk-container-id-1 pre{padding: 0;}#sk-container-id-1 div.sk-toggleable {background-color: white;}#sk-container-id-1 label.sk-toggleable__label {cursor: pointer;display: block;width: 100%;margin-bottom: 0;padding: 0.3em;box-sizing: border-box;text-align: center;}#sk-container-id-1 label.sk-toggleable__label-arrow:before {content: \"▸\";float: left;margin-right: 0.25em;color: #696969;}#sk-container-id-1 label.sk-toggleable__label-arrow:hover:before {color: black;}#sk-container-id-1 div.sk-estimator:hover label.sk-toggleable__label-arrow:before {color: black;}#sk-container-id-1 div.sk-toggleable__content {max-height: 0;max-width: 0;overflow: hidden;text-align: left;background-color: #f0f8ff;}#sk-container-id-1 div.sk-toggleable__content pre {margin: 0.2em;color: black;border-radius: 0.25em;background-color: #f0f8ff;}#sk-container-id-1 input.sk-toggleable__control:checked~div.sk-toggleable__content {max-height: 200px;max-width: 100%;overflow: auto;}#sk-container-id-1 input.sk-toggleable__control:checked~label.sk-toggleable__label-arrow:before {content: \"▾\";}#sk-container-id-1 div.sk-estimator input.sk-toggleable__control:checked~label.sk-toggleable__label {background-color: #d4ebff;}#sk-container-id-1 div.sk-label input.sk-toggleable__control:checked~label.sk-toggleable__label {background-color: #d4ebff;}#sk-container-id-1 input.sk-hidden--visually {border: 0;clip: rect(1px 1px 1px 1px);clip: rect(1px, 1px, 1px, 1px);height: 1px;margin: -1px;overflow: hidden;padding: 0;position: absolute;width: 1px;}#sk-container-id-1 div.sk-estimator {font-family: monospace;background-color: #f0f8ff;border: 1px dotted black;border-radius: 0.25em;box-sizing: border-box;margin-bottom: 0.5em;}#sk-container-id-1 div.sk-estimator:hover {background-color: #d4ebff;}#sk-container-id-1 div.sk-parallel-item::after {content: \"\";width: 100%;border-bottom: 1px solid gray;flex-grow: 1;}#sk-container-id-1 div.sk-label:hover label.sk-toggleable__label {background-color: #d4ebff;}#sk-container-id-1 div.sk-serial::before {content: \"\";position: absolute;border-left: 1px solid gray;box-sizing: border-box;top: 0;bottom: 0;left: 50%;z-index: 0;}#sk-container-id-1 div.sk-serial {display: flex;flex-direction: column;align-items: center;background-color: white;padding-right: 0.2em;padding-left: 0.2em;position: relative;}#sk-container-id-1 div.sk-item {position: relative;z-index: 1;}#sk-container-id-1 div.sk-parallel {display: flex;align-items: stretch;justify-content: center;background-color: white;position: relative;}#sk-container-id-1 div.sk-item::before, #sk-container-id-1 div.sk-parallel-item::before {content: \"\";position: absolute;border-left: 1px solid gray;box-sizing: border-box;top: 0;bottom: 0;left: 50%;z-index: -1;}#sk-container-id-1 div.sk-parallel-item {display: flex;flex-direction: column;z-index: 1;position: relative;background-color: white;}#sk-container-id-1 div.sk-parallel-item:first-child::after {align-self: flex-end;width: 50%;}#sk-container-id-1 div.sk-parallel-item:last-child::after {align-self: flex-start;width: 50%;}#sk-container-id-1 div.sk-parallel-item:only-child::after {width: 0;}#sk-container-id-1 div.sk-dashed-wrapped {border: 1px dashed gray;margin: 0 0.4em 0.5em 0.4em;box-sizing: border-box;padding-bottom: 0.4em;background-color: white;}#sk-container-id-1 div.sk-label label {font-family: monospace;font-weight: bold;display: inline-block;line-height: 1.2em;}#sk-container-id-1 div.sk-label-container {text-align: center;}#sk-container-id-1 div.sk-container {/* jupyter's `normalize.less` sets `[hidden] { display: none; }` but bootstrap.min.css set `[hidden] { display: none !important; }` so we also need the `!important` here to be able to override the default hidden behavior on the sphinx rendered scikit-learn.org. See: https://github.com/scikit-learn/scikit-learn/issues/21755 */display: inline-block !important;position: relative;}#sk-container-id-1 div.sk-text-repr-fallback {display: none;}</style><div id=\"sk-container-id-1\" class=\"sk-top-container\"><div class=\"sk-text-repr-fallback\"><pre>LinearRegression()</pre><b>In a Jupyter environment, please rerun this cell to show the HTML representation or trust the notebook. <br />On GitHub, the HTML representation is unable to render, please try loading this page with nbviewer.org.</b></div><div class=\"sk-container\" hidden><div class=\"sk-item\"><div class=\"sk-estimator sk-toggleable\"><input class=\"sk-toggleable__control sk-hidden--visually\" id=\"sk-estimator-id-1\" type=\"checkbox\" checked><label for=\"sk-estimator-id-1\" class=\"sk-toggleable__label sk-toggleable__label-arrow\">LinearRegression</label><div class=\"sk-toggleable__content\"><pre>LinearRegression()</pre></div></div></div></div></div>"
      ],
      "text/plain": [
       "LinearRegression()"
      ]
     },
     "execution_count": 24,
     "metadata": {},
     "output_type": "execute_result"
    }
   ],
   "source": [
    "# Entrenar el modelo\n",
    "model.fit(x_train, y_train)"
   ]
  },
  {
   "cell_type": "markdown",
   "id": "ed6fd05f-7277-48cf-8677-e9c4d985db32",
   "metadata": {},
   "source": [
    "### Paso 7: Evaluación del Modelo"
   ]
  },
  {
   "cell_type": "code",
   "execution_count": 25,
   "id": "7380fe2f-cb8d-4d17-9aea-52d96b5a8bdb",
   "metadata": {
    "tags": []
   },
   "outputs": [],
   "source": [
    "# Hacer predicciones en el conjunto de prueba\n",
    "y_pred = model.predict(x_test)"
   ]
  },
  {
   "cell_type": "code",
   "execution_count": 26,
   "id": "de57695d-8c98-43fb-88f2-85258e6b1d0f",
   "metadata": {
    "tags": []
   },
   "outputs": [],
   "source": [
    "# Evaluar el modelo\n",
    "mse = mean_squared_error(y_test, y_pred) \n",
    "r2 = r2_score(y_test, y_pred)"
   ]
  },
  {
   "cell_type": "code",
   "execution_count": 27,
   "id": "e36b68da-e94a-41f0-a7b8-1e0dff81eed6",
   "metadata": {
    "tags": []
   },
   "outputs": [
    {
     "name": "stdout",
     "output_type": "stream",
     "text": [
      "MSE: 0.3303028592173479\n",
      "R²: 0.6612161374884725\n"
     ]
    }
   ],
   "source": [
    "print(f'MSE: {mse}') \n",
    "print(f'R²: {r2}')"
   ]
  },
  {
   "cell_type": "markdown",
   "id": "8e8ac253-e68c-48a6-8a12-e0676ac84932",
   "metadata": {},
   "source": [
    "### Paso 8a: Implementación Práctica I"
   ]
  },
  {
   "cell_type": "markdown",
   "id": "19b26458-9c61-4e3f-a654-9af49bfc6206",
   "metadata": {},
   "source": [
    "**Mapeo de Distritos**\n",
    "\n",
    "Se crea un diccionario que mapea los identificadores de distrito a sus nombres. El objetivo es hacerlo más amigable al usuario en el interfaz que vamos a preparar."
   ]
  },
  {
   "cell_type": "code",
   "execution_count": 28,
   "id": "522c1393-2e41-450d-953b-684da7e7132c",
   "metadata": {
    "tags": []
   },
   "outputs": [],
   "source": [
    "distritos = dict(zip( df_distritos['id'],df_distritos['distrito']))"
   ]
  },
  {
   "cell_type": "code",
   "execution_count": 29,
   "id": "1a4770d5-690b-4eb5-8384-3925290566a5",
   "metadata": {
    "tags": []
   },
   "outputs": [],
   "source": [
    "# Crear la lista de opciones para el Dropdown como tuplas (nombre, id) \n",
    "opciones_distritos = [(nombre, id) for id, nombre in distritos.items()]"
   ]
  },
  {
   "cell_type": "markdown",
   "id": "aa8fe303-bd6b-4635-bb16-d41f491cbbcd",
   "metadata": {},
   "source": [
    "### Paso 8b: Implementación Práctica II"
   ]
  },
  {
   "cell_type": "markdown",
   "id": "d9672ac1-807d-4fb3-adcc-27685c3bd403",
   "metadata": {},
   "source": [
    "**Función de Predicción Personalizada**\n",
    "\n",
    "Se define una función predict_precio que normaliza la superficie construida de una entrada, la combina con el identificador de distrito y utiliza el modelo para hacer una predicción del precio."
   ]
  },
  {
   "cell_type": "code",
   "execution_count": 30,
   "id": "1ca03e4d-84f8-4eb0-9abd-7e248f6607bd",
   "metadata": {
    "tags": []
   },
   "outputs": [],
   "source": [
    "def predict_precio (superficie, distrito):\n",
    "    #Normalizar solo la superficie construida\n",
    "    superficie_normalizada = (superficie - media_superficie) / std_superficie\n",
    "    \n",
    "    #Convertirlos en un DataFrame de Pandas para la predicción\n",
    "    datos_prediccion = pd.DataFrame({\n",
    "        'superficie_construida': [superficie_normalizada],\n",
    "        'distritos_id': [distrito]\n",
    "    })\n",
    "    \n",
    "    #Se hace la predicción (sin normalizar el distrito)\n",
    "    precio_pred_normalizado = model.predict(datos_prediccion)\n",
    "    \n",
    "    #Se desnormaliza la predicción del precio para mostrarlo al usuario\n",
    "    precio_pred = precio_pred_normalizado * y.std() + y.mean()\n",
    "    \n",
    "    precio_formateado = '{:20,d} €'.format(int(precio_pred[0]))\n",
    "    return precio_formateado"
   ]
  },
  {
   "cell_type": "markdown",
   "id": "0bf3537f-8a49-4b6e-b4fc-43b86a30f9c5",
   "metadata": {},
   "source": [
    "### Paso 9: Interfaz de Usuario"
   ]
  },
  {
   "cell_type": "markdown",
   "id": "266193dc-2ce8-4756-af8c-fd204a04a955",
   "metadata": {},
   "source": [
    "**Creación de la Interfaz con Gradio**\n",
    "\n",
    "Se configura una interfaz de usuario con Gradio, donde los usuarios pueden introducir la superficie y seleccionar un distrito para obtener una predicción del precio del inmueble.\n",
    "Se lanza la interfaz para que los usuarios interactúen con el modelo."
   ]
  },
  {
   "cell_type": "code",
   "execution_count": 31,
   "id": "5e6814fb-90ba-4c70-bbc7-aaffe4af3a0f",
   "metadata": {},
   "outputs": [],
   "source": [
    "#!pip install --upgrade typing-extensions"
   ]
  },
  {
   "cell_type": "code",
   "execution_count": 32,
   "id": "d73079f2-da93-4a4c-a2dd-df1db2b0e8df",
   "metadata": {},
   "outputs": [],
   "source": [
    "#!pip install gradio"
   ]
  },
  {
   "cell_type": "code",
   "execution_count": 33,
   "id": "ddfd9268-f8f1-4ec1-aa75-2007794661a8",
   "metadata": {
    "tags": []
   },
   "outputs": [],
   "source": [
    "import gradio as gr"
   ]
  },
  {
   "cell_type": "code",
   "execution_count": 34,
   "id": "056e6c0d-223d-4720-848a-b189b48fd11a",
   "metadata": {},
   "outputs": [
    {
     "name": "stdout",
     "output_type": "stream",
     "text": [
      "4.15.0\n"
     ]
    }
   ],
   "source": [
    "print(gr.__version__)"
   ]
  },
  {
   "cell_type": "code",
   "execution_count": 35,
   "id": "67d991ea-c0f1-457b-a2c9-ab9cbc5eebc3",
   "metadata": {
    "tags": []
   },
   "outputs": [],
   "source": [
    "# Crear la interfaz con Gradio\n",
    "iface = gr.Interface(\n",
    "    fn=predict_precio,\n",
    "    inputs=[\"number\", gr.Dropdown(opciones_distritos)],\n",
    "    outputs=\"text\", # Cambiado a 'text' para permitir una cadena\n",
    "    title=\"Predicción de Precio de Inmueble\",\n",
    "    description=\"Introduce los metros cuadrados y selecciona el distrito para predecir el precio\"\n",
    ")"
   ]
  },
  {
   "cell_type": "code",
   "execution_count": 36,
   "id": "eceffc1f-0836-4a60-aeea-e88ba16cf09e",
   "metadata": {},
   "outputs": [
    {
     "name": "stdout",
     "output_type": "stream",
     "text": [
      "Running on local URL:  http://127.0.0.1:7862\n",
      "\n",
      "To create a public link, set `share=True` in `launch()`.\n"
     ]
    },
    {
     "data": {
      "text/html": [
       "<div><iframe src=\"http://127.0.0.1:7862/\" width=\"100%\" height=\"500\" allow=\"autoplay; camera; microphone; clipboard-read; clipboard-write;\" frameborder=\"0\" allowfullscreen></iframe></div>"
      ],
      "text/plain": [
       "<IPython.core.display.HTML object>"
      ]
     },
     "metadata": {},
     "output_type": "display_data"
    },
    {
     "data": {
      "text/plain": []
     },
     "execution_count": 36,
     "metadata": {},
     "output_type": "execute_result"
    }
   ],
   "source": [
    "# Ejecutar la interfaz\n",
    "iface.launch()"
   ]
  }
 ],
 "metadata": {
  "kernelspec": {
   "display_name": "Python 3 (ipykernel)",
   "language": "python",
   "name": "python3"
  },
  "language_info": {
   "codemirror_mode": {
    "name": "ipython",
    "version": 3
   },
   "file_extension": ".py",
   "mimetype": "text/x-python",
   "name": "python",
   "nbconvert_exporter": "python",
   "pygments_lexer": "ipython3",
   "version": "3.11.5"
  }
 },
 "nbformat": 4,
 "nbformat_minor": 5
}
